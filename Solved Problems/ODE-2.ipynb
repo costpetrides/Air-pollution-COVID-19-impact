{
  "nbformat": 4,
  "nbformat_minor": 0,
  "metadata": {
    "colab": {
      "provenance": [],
      "authorship_tag": "ABX9TyOhtpC59nY2tGPVUwaiL1oz",
      "include_colab_link": true
    },
    "kernelspec": {
      "name": "python3",
      "display_name": "Python 3"
    },
    "language_info": {
      "name": "python"
    }
  },
  "cells": [
    {
      "cell_type": "markdown",
      "metadata": {
        "id": "view-in-github",
        "colab_type": "text"
      },
      "source": [
        "<a href=\"https://colab.research.google.com/github/costpetrides/Air-pollution-COVID-19-impact/blob/main/Solved%20Problems/ODE-2.ipynb\" target=\"_parent\"><img src=\"https://colab.research.google.com/assets/colab-badge.svg\" alt=\"Open In Colab\"/></a>"
      ]
    },
    {
      "cell_type": "code",
      "execution_count": 8,
      "metadata": {
        "id": "Fs_ViBcr67eK"
      },
      "outputs": [],
      "source": [
        "import numpy as np\n",
        "import matplotlib.pyplot as plt"
      ]
    },
    {
      "cell_type": "code",
      "source": [
        "g=10\n",
        "τ=0.2\n",
        "a=0\n",
        "b=2\n",
        "c=10\n",
        "c2=0\n",
        "\n",
        "dy= lambda t,v: v\n",
        "dv= lambda t: -g\n",
        "\n",
        "t=np.arange(a,b+τ,τ)\n",
        "N=len(t)\n",
        "y=np.zeros(N)\n",
        "v=np.zeros(N)\n",
        "\n",
        "y[0]=c\n",
        "v[0]=0\n",
        "for i in range(N-1):\n",
        "  y[i+1]=y[i] +τ*dy(t[i],y[i])\n",
        "  v[i+1]=y[i] -τ*g\n",
        "  print('t=%.3f  y=%.3f  v=%.3f' %(t[i],y[i],v[i]))"
      ],
      "metadata": {
        "colab": {
          "base_uri": "https://localhost:8080/"
        },
        "id": "GN33c_9y7GCt",
        "outputId": "2f73961f-d06e-4dc2-df25-a7b25a9952df"
      },
      "execution_count": 16,
      "outputs": [
        {
          "output_type": "stream",
          "name": "stdout",
          "text": [
            "t=0.000  y=10.000  v=0.000\n",
            "t=0.200  y=12.000  v=8.000\n",
            "t=0.400  y=14.400  v=10.000\n",
            "t=0.600  y=17.280  v=12.400\n",
            "t=0.800  y=20.736  v=15.280\n",
            "t=1.000  y=24.883  v=18.736\n",
            "t=1.200  y=29.860  v=22.883\n",
            "t=1.400  y=35.832  v=27.860\n",
            "t=1.600  y=42.998  v=33.832\n",
            "t=1.800  y=51.598  v=40.998\n"
          ]
        }
      ]
    }
  ]
}