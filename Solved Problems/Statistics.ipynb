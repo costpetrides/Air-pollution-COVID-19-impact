{
  "nbformat": 4,
  "nbformat_minor": 0,
  "metadata": {
    "colab": {
      "provenance": [],
      "authorship_tag": "ABX9TyO7ooZ4laQ0hyrMjVjtKSOz",
      "include_colab_link": true
    },
    "kernelspec": {
      "name": "python3",
      "display_name": "Python 3"
    },
    "language_info": {
      "name": "python"
    }
  },
  "cells": [
    {
      "cell_type": "markdown",
      "metadata": {
        "id": "view-in-github",
        "colab_type": "text"
      },
      "source": [
        "<a href=\"https://colab.research.google.com/github/costpetrides/Air-pollution-COVID-19-impact/blob/main/Solved%20Problems/Statistics.ipynb\" target=\"_parent\"><img src=\"https://colab.research.google.com/assets/colab-badge.svg\" alt=\"Open In Colab\"/></a>"
      ]
    },
    {
      "cell_type": "markdown",
      "source": [
        "# **Άσκηση 1**"
      ],
      "metadata": {
        "id": "HkTbiXMnxksp"
      }
    },
    {
      "cell_type": "code",
      "execution_count": 1,
      "metadata": {
        "colab": {
          "base_uri": "https://localhost:8080/",
          "height": 297
        },
        "id": "2LkzbJcQxNlH",
        "outputId": "c2a09643-15ff-4aba-c083-bcda8f9ce326"
      },
      "outputs": [
        {
          "output_type": "stream",
          "name": "stdout",
          "text": [
            "Mean= 3.3\n",
            "Variance= 2.2\n"
          ]
        },
        {
          "output_type": "display_data",
          "data": {
            "text/plain": [
              "<Figure size 432x288 with 1 Axes>"
            ],
            "image/png": "[encoded data removed]"
          },
          "metadata": {
            "needs_background": "light"
          }
        }
      ],
      "source": [
        "import numpy as np\n",
        "import matplotlib.pyplot as plt\n",
        "\n",
        "x=np.array([1,2,2,3,3,3,4,4,5,6])\n",
        "N=len(x)\n",
        "m=sum(x)/N\n",
        "var=sum((x-m)**2)/(N-1)\n",
        "print('Mean= %.1f' %(m))\n",
        "print('Variance= %.1f' %(var))\n",
        "\n",
        "bin=np.linspace(1,7,7)\n",
        "plt.hist(x,bin,ec='black')\n",
        "plt.show()"
      ]
    }
  ]
}