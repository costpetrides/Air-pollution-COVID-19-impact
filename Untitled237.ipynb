{
  "nbformat": 4,
  "nbformat_minor": 0,
  "metadata": {
    "colab": {
      "provenance": [],
      "authorship_tag": "ABX9TyM1TjZr+phr/EEyyXWXaCcg",
      "include_colab_link": true
    },
    "kernelspec": {
      "name": "python3",
      "display_name": "Python 3"
    },
    "language_info": {
      "name": "python"
    }
  },
  "cells": [
    {
      "cell_type": "markdown",
      "metadata": {
        "id": "view-in-github",
        "colab_type": "text"
      },
      "source": [
        "<a href=\"https://colab.research.google.com/github/costpetrides/Air-pollution-COVID-19-impact/blob/main/Untitled237.ipynb\" target=\"_parent\"><img src=\"https://colab.research.google.com/assets/colab-badge.svg\" alt=\"Open In Colab\"/></a>"
      ]
    },
    {
      "cell_type": "code",
      "execution_count": 8,
      "metadata": {
        "colab": {
          "base_uri": "https://localhost:8080/",
          "height": 347
        },
        "id": "zlNk9mF1PVm4",
        "outputId": "befac763-5a65-4c69-ce2b-2e6c7227e85f"
      },
      "outputs": [
        {
          "output_type": "stream",
          "name": "stdout",
          "text": [
            "N=  31\n",
            "The mean value is:  2.903225806451613\n",
            "The Variance:  2.3454734651404787\n"
          ]
        },
        {
          "output_type": "execute_result",
          "data": {
            "text/plain": [
              "Text(0, 0.5, 'Frequency')"
            ]
          },
          "metadata": {},
          "execution_count": 8
        },
        {
          "output_type": "display_data",
          "data": {
            "text/plain": [
              "<Figure size 432x288 with 1 Axes>"
            ],
            "image/png": "[encoded data removed]"
          },
          "metadata": {
            "needs_background": "light"
          }
        }
      ],
      "source": [
        "import matplotlib.pyplot as plt\n",
        "import numpy as np\n",
        "from math import *\n",
        "v=[]\n",
        "file=open(\"data.txt\",\"r\")\n",
        "\n",
        "N=0\n",
        "for x in file:\n",
        "  v.append(float(x))\n",
        "  N+=1\n",
        "\n",
        "\n",
        "mean=np.sum(v)/N\n",
        "sd=np.sum((v-mean)**2)/N\n",
        "\n",
        "print('N= ',N)\n",
        "print('The mean value is: ',mean) \n",
        "print('The Variance: ',sd)\n",
        "\n",
        "bins=range(1,8)\n",
        "plt.hist(v, bins, ec = 'black')\n",
        "plt.xlabel('Xj')\n",
        "plt.ylabel('Frequency')"
      ]
    }
  ]
}