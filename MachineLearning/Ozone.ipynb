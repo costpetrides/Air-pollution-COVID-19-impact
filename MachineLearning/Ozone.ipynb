{
  "nbformat": 4,
  "nbformat_minor": 0,
  "metadata": {
    "colab": {
      "provenance": [],
      "authorship_tag": "ABX9TyMPKgDMLkvKTil0/xvplS8u",
      "include_colab_link": true
    },
    "kernelspec": {
      "name": "python3",
      "display_name": "Python 3"
    },
    "language_info": {
      "name": "python"
    }
  },
  "cells": [
    {
      "cell_type": "markdown",
      "metadata": {
        "id": "view-in-github",
        "colab_type": "text"
      },
      "source": [
        "<a href=\"https://colab.research.google.com/github/costpetrides/Air-pollution-COVID-19-impact/blob/main/MachineLearning/Ozone.ipynb\" target=\"_parent\"><img src=\"https://colab.research.google.com/assets/colab-badge.svg\" alt=\"Open In Colab\"/></a>"
      ]
    },
    {
      "cell_type": "code",
      "execution_count": 100,
      "metadata": {
        "colab": {
          "base_uri": "https://localhost:8080/",
          "height": 17
        },
        "id": "tj0_i9em_KUJ",
        "outputId": "cc4e3013-0c03-4a1c-da5b-6519f6baf414"
      },
      "outputs": [
        {
          "output_type": "display_data",
          "data": {
            "text/html": [
              "        <script type=\"text/javascript\">\n",
              "        window.PlotlyConfig = {MathJaxConfig: 'local'};\n",
              "        if (window.MathJax && window.MathJax.Hub && window.MathJax.Hub.Config) {window.MathJax.Hub.Config({SVG: {font: \"STIX-Web\"}});}\n",
              "        if (typeof require !== 'undefined') {\n",
              "        require.undef(\"plotly\");\n",
              "        requirejs.config({\n",
              "            paths: {\n",
              "                'plotly': ['https://cdn.plot.ly/plotly-2.24.1.min']\n",
              "            }\n",
              "        });\n",
              "        require(['plotly'], function(Plotly) {\n",
              "            window._Plotly = Plotly;\n",
              "        });\n",
              "        }\n",
              "        </script>\n",
              "        "
            ]
          },
          "metadata": {}
        },
        {
          "output_type": "display_data",
          "data": {
            "text/html": [
              "        <script type=\"text/javascript\">\n",
              "        window.PlotlyConfig = {MathJaxConfig: 'local'};\n",
              "        if (window.MathJax && window.MathJax.Hub && window.MathJax.Hub.Config) {window.MathJax.Hub.Config({SVG: {font: \"STIX-Web\"}});}\n",
              "        if (typeof require !== 'undefined') {\n",
              "        require.undef(\"plotly\");\n",
              "        requirejs.config({\n",
              "            paths: {\n",
              "                'plotly': ['https://cdn.plot.ly/plotly-2.24.1.min']\n",
              "            }\n",
              "        });\n",
              "        require(['plotly'], function(Plotly) {\n",
              "            window._Plotly = Plotly;\n",
              "        });\n",
              "        }\n",
              "        </script>\n",
              "        "
            ]
          },
          "metadata": {}
        }
      ],
      "source": [
        "# importing dependencies\n",
        "\n",
        "import pandas as pd\n",
        "import numpy as np\n",
        "import plotly as py\n",
        "import plotly.graph_objects as go\n",
        "from plotly.offline import download_plotlyjs, init_notebook_mode, plot, iplot\n",
        "\n",
        "import cufflinks as cf\n",
        "init_notebook_mode(connected=True)\n",
        "cf.go_offline()\n",
        "\n",
        "import seaborn as sns\n",
        "import matplotlib.pyplot as plt"
      ]
    },
    {
      "cell_type": "code",
      "source": [
        "# reading the csv file !\n",
        "df = pd.read_csv('TestingData.csv')\n",
        "df.head()"
      ],
      "metadata": {
        "colab": {
          "base_uri": "https://localhost:8080/",
          "height": 204
        },
        "id": "KQ6AFWXm_isw",
        "outputId": "411d3878-c5fe-4c8b-98d3-ec19de5eee23"
      },
      "execution_count": 101,
      "outputs": [
        {
          "output_type": "execute_result",
          "data": {
            "text/plain": [
              "   Mtemp  Htemp  Ltemp  Heat  Cool  Rain  WMSpeed    NO    NO2  PM2.5     O3\n",
              "0   13.4   17.4    9.7   4.9   0.0   2.6      6.9  1.50  11.46   4.71  81.79\n",
              "1   10.4   15.3    7.4   7.9   0.0   2.2      8.4  1.08  11.13   4.08  72.00\n",
              "2    7.5   10.4    5.9  10.8   0.0   0.0      7.7  1.08   7.21   7.23  73.50\n",
              "3    8.2   10.2    7.2  10.1   0.0   0.0      6.3  1.04   8.54   8.71  74.17\n",
              "4    8.1   10.2    6.6  10.3   0.0   0.0      5.1  1.04   9.96   9.17  72.17"
            ],
            "text/html": [
              "\n",
              "  <div id=\"df-d600f395-8e1b-4c02-b2c2-b6cd4017b4e5\" class=\"colab-df-container\">\n",
              "    <div>\n",
              "<style scoped>\n",
              "    .dataframe tbody tr th:only-of-type {\n",
              "        vertical-align: middle;\n",
              "    }\n",
              "\n",
              "    .dataframe tbody tr th {\n",
              "        vertical-align: top;\n",
              "    }\n",
              "\n",
              "    .dataframe thead th {\n",
              "        text-align: right;\n",
              "    }\n",
              "</style>\n",
              "<table border=\"1\" class=\"dataframe\">\n",
              "  <thead>\n",
              "    <tr style=\"text-align: right;\">\n",
              "      <th></th>\n",
              "      <th>Mtemp</th>\n",
              "      <th>Htemp</th>\n",
              "      <th>Ltemp</th>\n",
              "      <th>Heat</th>\n",
              "      <th>Cool</th>\n",
              "      <th>Rain</th>\n",
              "      <th>WMSpeed</th>\n",
              "      <th>NO</th>\n",
              "      <th>NO2</th>\n",
              "      <th>PM2.5</th>\n",
              "      <th>O3</th>\n",
              "    </tr>\n",
              "  </thead>\n",
              "  <tbody>\n",
              "    <tr>\n",
              "      <th>0</th>\n",
              "      <td>13.4</td>\n",
              "      <td>17.4</td>\n",
              "      <td>9.7</td>\n",
              "      <td>4.9</td>\n",
              "      <td>0.0</td>\n",
              "      <td>2.6</td>\n",
              "      <td>6.9</td>\n",
              "      <td>1.50</td>\n",
              "      <td>11.46</td>\n",
              "      <td>4.71</td>\n",
              "      <td>81.79</td>\n",
              "    </tr>\n",
              "    <tr>\n",
              "      <th>1</th>\n",
              "      <td>10.4</td>\n",
              "      <td>15.3</td>\n",
              "      <td>7.4</td>\n",
              "      <td>7.9</td>\n",
              "      <td>0.0</td>\n",
              "      <td>2.2</td>\n",
              "      <td>8.4</td>\n",
              "      <td>1.08</td>\n",
              "      <td>11.13</td>\n",
              "      <td>4.08</td>\n",
              "      <td>72.00</td>\n",
              "    </tr>\n",
              "    <tr>\n",
              "      <th>2</th>\n",
              "      <td>7.5</td>\n",
              "      <td>10.4</td>\n",
              "      <td>5.9</td>\n",
              "      <td>10.8</td>\n",
              "      <td>0.0</td>\n",
              "      <td>0.0</td>\n",
              "      <td>7.7</td>\n",
              "      <td>1.08</td>\n",
              "      <td>7.21</td>\n",
              "      <td>7.23</td>\n",
              "      <td>73.50</td>\n",
              "    </tr>\n",
              "    <tr>\n",
              "      <th>3</th>\n",
              "      <td>8.2</td>\n",
              "      <td>10.2</td>\n",
              "      <td>7.2</td>\n",
              "      <td>10.1</td>\n",
              "      <td>0.0</td>\n",
              "      <td>0.0</td>\n",
              "      <td>6.3</td>\n",
              "      <td>1.04</td>\n",
              "      <td>8.54</td>\n",
              "      <td>8.71</td>\n",
              "      <td>74.17</td>\n",
              "    </tr>\n",
              "    <tr>\n",
              "      <th>4</th>\n",
              "      <td>8.1</td>\n",
              "      <td>10.2</td>\n",
              "      <td>6.6</td>\n",
              "      <td>10.3</td>\n",
              "      <td>0.0</td>\n",
              "      <td>0.0</td>\n",
              "      <td>5.1</td>\n",
              "      <td>1.04</td>\n",
              "      <td>9.96</td>\n",
              "      <td>9.17</td>\n",
              "      <td>72.17</td>\n",
              "    </tr>\n",
              "  </tbody>\n",
              "</table>\n",
              "</div>\n",
              "    <div class=\"colab-df-buttons\">\n",
              "\n",
              "  <div class=\"colab-df-container\">\n",
              "    <button class=\"colab-df-convert\" onclick=\"convertToInteractive('df-d600f395-8e1b-4c02-b2c2-b6cd4017b4e5')\"\n",
              "            title=\"Convert this dataframe to an interactive table.\"\n",
              "            style=\"display:none;\">\n",
              "\n",
              "  <svg xmlns=\"http://www.w3.org/2000/svg\" height=\"24px\" viewBox=\"0 -960 960 960\">\n",
              "    <path d=\"M120-120v-720h720v720H120Zm60-500h600v-160H180v160Zm220 220h160v-160H400v160Zm0 220h160v-160H400v160ZM180-400h160v-160H180v160Zm440 0h160v-160H620v160ZM180-180h160v-160H180v160Zm440 0h160v-160H620v160Z\"/>\n",
              "  </svg>\n",
              "    </button>\n",
              "\n",
              "  <style>\n",
              "    .colab-df-container {\n",
              "      display:flex;\n",
              "      gap: 12px;\n",
              "    }\n",
              "\n",
              "    .colab-df-convert {\n",
              "      background-color: #E8F0FE;\n",
              "      border: none;\n",
              "      border-radius: 50%;\n",
              "      cursor: pointer;\n",
              "      display: none;\n",
              "      fill: #1967D2;\n",
              "      height: 32px;\n",
              "      padding: 0 0 0 0;\n",
              "      width: 32px;\n",
              "    }\n",
              "\n",
              "    .colab-df-convert:hover {\n",
              "      background-color: #E2EBFA;\n",
              "      box-shadow: 0px 1px 2px rgba(60, 64, 67, 0.3), 0px 1px 3px 1px rgba(60, 64, 67, 0.15);\n",
              "      fill: #174EA6;\n",
              "    }\n",
              "\n",
              "    .colab-df-buttons div {\n",
              "      margin-bottom: 4px;\n",
              "    }\n",
              "\n",
              "    [theme=dark] .colab-df-convert {\n",
              "      background-color: #3B4455;\n",
              "      fill: #D2E3FC;\n",
              "    }\n",
              "\n",
              "    [theme=dark] .colab-df-convert:hover {\n",
              "      background-color: #434B5C;\n",
              "      box-shadow: 0px 1px 3px 1px rgba(0, 0, 0, 0.15);\n",
              "      filter: drop-shadow(0px 1px 2px rgba(0, 0, 0, 0.3));\n",
              "      fill: #FFFFFF;\n",
              "    }\n",
              "  </style>\n",
              "\n",
              "    <script>\n",
              "      const buttonEl =\n",
              "        document.querySelector('#df-d600f395-8e1b-4c02-b2c2-b6cd4017b4e5 button.colab-df-convert');\n",
              "      buttonEl.style.display =\n",
              "        google.colab.kernel.accessAllowed ? 'block' : 'none';\n",
              "\n",
              "      async function convertToInteractive(key) {\n",
              "        const element = document.querySelector('#df-d600f395-8e1b-4c02-b2c2-b6cd4017b4e5');\n",
              "        const dataTable =\n",
              "          await google.colab.kernel.invokeFunction('convertToInteractive',\n",
              "                                                    [key], {});\n",
              "        if (!dataTable) return;\n",
              "\n",
              "        const docLinkHtml = 'Like what you see? Visit the ' +\n",
              "          '<a target=\"_blank\" href=https://colab.research.google.com/notebooks/data_table.ipynb>data table notebook</a>'\n",
              "          + ' to learn more about interactive tables.';\n",
              "        element.innerHTML = '';\n",
              "        dataTable['output_type'] = 'display_data';\n",
              "        await google.colab.output.renderOutput(dataTable, element);\n",
              "        const docLink = document.createElement('div');\n",
              "        docLink.innerHTML = docLinkHtml;\n",
              "        element.appendChild(docLink);\n",
              "      }\n",
              "    </script>\n",
              "  </div>\n",
              "\n",
              "\n",
              "<div id=\"df-2beed150-710d-44bd-9eb3-4b0bdadd44dc\">\n",
              "  <button class=\"colab-df-quickchart\" onclick=\"quickchart('df-2beed150-710d-44bd-9eb3-4b0bdadd44dc')\"\n",
              "            title=\"Suggest charts.\"\n",
              "            style=\"display:none;\">\n",
              "\n",
              "<svg xmlns=\"http://www.w3.org/2000/svg\" height=\"24px\"viewBox=\"0 0 24 24\"\n",
              "     width=\"24px\">\n",
              "    <g>\n",
              "        <path d=\"M19 3H5c-1.1 0-2 .9-2 2v14c0 1.1.9 2 2 2h14c1.1 0 2-.9 2-2V5c0-1.1-.9-2-2-2zM9 17H7v-7h2v7zm4 0h-2V7h2v10zm4 0h-2v-4h2v4z\"/>\n",
              "    </g>\n",
              "</svg>\n",
              "  </button>\n",
              "\n",
              "<style>\n",
              "  .colab-df-quickchart {\n",
              "      --bg-color: #E8F0FE;\n",
              "      --fill-color: #1967D2;\n",
              "      --hover-bg-color: #E2EBFA;\n",
              "      --hover-fill-color: #174EA6;\n",
              "      --disabled-fill-color: #AAA;\n",
              "      --disabled-bg-color: #DDD;\n",
              "  }\n",
              "\n",
              "  [theme=dark] .colab-df-quickchart {\n",
              "      --bg-color: #3B4455;\n",
              "      --fill-color: #D2E3FC;\n",
              "      --hover-bg-color: #434B5C;\n",
              "      --hover-fill-color: #FFFFFF;\n",
              "      --disabled-bg-color: #3B4455;\n",
              "      --disabled-fill-color: #666;\n",
              "  }\n",
              "\n",
              "  .colab-df-quickchart {\n",
              "    background-color: var(--bg-color);\n",
              "    border: none;\n",
              "    border-radius: 50%;\n",
              "    cursor: pointer;\n",
              "    display: none;\n",
              "    fill: var(--fill-color);\n",
              "    height: 32px;\n",
              "    padding: 0;\n",
              "    width: 32px;\n",
              "  }\n",
              "\n",
              "  .colab-df-quickchart:hover {\n",
              "    background-color: var(--hover-bg-color);\n",
              "    box-shadow: 0 1px 2px rgba(60, 64, 67, 0.3), 0 1px 3px 1px rgba(60, 64, 67, 0.15);\n",
              "    fill: var(--button-hover-fill-color);\n",
              "  }\n",
              "\n",
              "  .colab-df-quickchart-complete:disabled,\n",
              "  .colab-df-quickchart-complete:disabled:hover {\n",
              "    background-color: var(--disabled-bg-color);\n",
              "    fill: var(--disabled-fill-color);\n",
              "    box-shadow: none;\n",
              "  }\n",
              "\n",
              "  .colab-df-spinner {\n",
              "    border: 2px solid var(--fill-color);\n",
              "    border-color: transparent;\n",
              "    border-bottom-color: var(--fill-color);\n",
              "    animation:\n",
              "      spin 1s steps(1) infinite;\n",
              "  }\n",
              "\n",
              "  @keyframes spin {\n",
              "    0% {\n",
              "      border-color: transparent;\n",
              "      border-bottom-color: var(--fill-color);\n",
              "      border-left-color: var(--fill-color);\n",
              "    }\n",
              "    20% {\n",
              "      border-color: transparent;\n",
              "      border-left-color: var(--fill-color);\n",
              "      border-top-color: var(--fill-color);\n",
              "    }\n",
              "    30% {\n",
              "      border-color: transparent;\n",
              "      border-left-color: var(--fill-color);\n",
              "      border-top-color: var(--fill-color);\n",
              "      border-right-color: var(--fill-color);\n",
              "    }\n",
              "    40% {\n",
              "      border-color: transparent;\n",
              "      border-right-color: var(--fill-color);\n",
              "      border-top-color: var(--fill-color);\n",
              "    }\n",
              "    60% {\n",
              "      border-color: transparent;\n",
              "      border-right-color: var(--fill-color);\n",
              "    }\n",
              "    80% {\n",
              "      border-color: transparent;\n",
              "      border-right-color: var(--fill-color);\n",
              "      border-bottom-color: var(--fill-color);\n",
              "    }\n",
              "    90% {\n",
              "      border-color: transparent;\n",
              "      border-bottom-color: var(--fill-color);\n",
              "    }\n",
              "  }\n",
              "</style>\n",
              "\n",
              "  <script>\n",
              "    async function quickchart(key) {\n",
              "      const quickchartButtonEl =\n",
              "        document.querySelector('#' + key + ' button');\n",
              "      quickchartButtonEl.disabled = true;  // To prevent multiple clicks.\n",
              "      quickchartButtonEl.classList.add('colab-df-spinner');\n",
              "      try {\n",
              "        const charts = await google.colab.kernel.invokeFunction(\n",
              "            'suggestCharts', [key], {});\n",
              "      } catch (error) {\n",
              "        console.error('Error during call to suggestCharts:', error);\n",
              "      }\n",
              "      quickchartButtonEl.classList.remove('colab-df-spinner');\n",
              "      quickchartButtonEl.classList.add('colab-df-quickchart-complete');\n",
              "    }\n",
              "    (() => {\n",
              "      let quickchartButtonEl =\n",
              "        document.querySelector('#df-2beed150-710d-44bd-9eb3-4b0bdadd44dc button');\n",
              "      quickchartButtonEl.style.display =\n",
              "        google.colab.kernel.accessAllowed ? 'block' : 'none';\n",
              "    })();\n",
              "  </script>\n",
              "</div>\n",
              "    </div>\n",
              "  </div>\n"
            ]
          },
          "metadata": {},
          "execution_count": 101
        }
      ]
    },
    {
      "cell_type": "code",
      "source": [
        "# checking for null values (missing values)\n",
        "df.isnull().sum()"
      ],
      "metadata": {
        "colab": {
          "base_uri": "https://localhost:8080/"
        },
        "id": "E5mXyWcZ_iyU",
        "outputId": "358dc397-ca44-4615-bca4-0b6b9eda21b7"
      },
      "execution_count": 102,
      "outputs": [
        {
          "output_type": "execute_result",
          "data": {
            "text/plain": [
              "Mtemp      0\n",
              "Htemp      0\n",
              "Ltemp      0\n",
              "Heat       0\n",
              "Cool       0\n",
              "Rain       0\n",
              "WMSpeed    0\n",
              "NO         0\n",
              "NO2        0\n",
              "PM2.5      0\n",
              "O3         0\n",
              "dtype: int64"
            ]
          },
          "metadata": {},
          "execution_count": 102
        }
      ]
    },
    {
      "cell_type": "code",
      "source": [
        "# Data information\n",
        "df.describe()"
      ],
      "metadata": {
        "colab": {
          "base_uri": "https://localhost:8080/",
          "height": 317
        },
        "id": "igJnWOci_i1I",
        "outputId": "37c7478c-0fb2-42ad-89aa-75d0b18730d9"
      },
      "execution_count": 103,
      "outputs": [
        {
          "output_type": "execute_result",
          "data": {
            "text/plain": [
              "            Mtemp       Htemp       Ltemp        Heat        Cool        Rain  \\\n",
              "count  228.000000  228.000000  228.000000  228.000000  228.000000  228.000000   \n",
              "mean    17.386842   22.134649   13.687281    2.423684    1.478509    0.699123   \n",
              "std      3.867668    4.522531    3.473990    2.463417    1.731650    3.579949   \n",
              "min      7.500000   10.200000    5.600000    0.000000    0.000000    0.000000   \n",
              "25%     14.775000   18.800000   11.275000    0.300000    0.000000    0.000000   \n",
              "50%     17.400000   22.400000   13.650000    1.700000    0.800000    0.000000   \n",
              "75%     20.525000   25.525000   16.200000    3.625000    2.525000    0.000000   \n",
              "max     26.300000   34.400000   22.300000   10.800000    8.000000   39.200000   \n",
              "\n",
              "          WMSpeed          NO         NO2       PM2.5          O3  \n",
              "count  228.000000  228.000000  228.000000  228.000000  228.000000  \n",
              "mean     5.691667    2.404298   15.822763   12.650965   90.460044  \n",
              "std      2.319857    1.469884    7.330013    6.511407   14.511075  \n",
              "min      1.900000    1.000000    2.790000    4.080000   53.790000  \n",
              "25%      4.000000    1.080000   10.682500    8.710000   81.177500  \n",
              "50%      5.500000    1.810000   14.310000   11.355000   89.440000  \n",
              "75%      6.950000    3.592500   19.892500   15.072500   98.345000  \n",
              "max     15.800000    7.000000   38.630000   63.830000  140.960000  "
            ],
            "text/html": [
              "\n",
              "  <div id=\"df-c2fa5c79-9f05-4649-864e-384b341629f5\" class=\"colab-df-container\">\n",
              "    <div>\n",
              "<style scoped>\n",
              "    .dataframe tbody tr th:only-of-type {\n",
              "        vertical-align: middle;\n",
              "    }\n",
              "\n",
              "    .dataframe tbody tr th {\n",
              "        vertical-align: top;\n",
              "    }\n",
              "\n",
              "    .dataframe thead th {\n",
              "        text-align: right;\n",
              "    }\n",
              "</style>\n",
              "<table border=\"1\" class=\"dataframe\">\n",
              "  <thead>\n",
              "    <tr style=\"text-align: right;\">\n",
              "      <th></th>\n",
              "      <th>Mtemp</th>\n",
              "      <th>Htemp</th>\n",
              "      <th>Ltemp</th>\n",
              "      <th>Heat</th>\n",
              "      <th>Cool</th>\n",
              "      <th>Rain</th>\n",
              "      <th>WMSpeed</th>\n",
              "      <th>NO</th>\n",
              "      <th>NO2</th>\n",
              "      <th>PM2.5</th>\n",
              "      <th>O3</th>\n",
              "    </tr>\n",
              "  </thead>\n",
              "  <tbody>\n",
              "    <tr>\n",
              "      <th>count</th>\n",
              "      <td>228.000000</td>\n",
              "      <td>228.000000</td>\n",
              "      <td>228.000000</td>\n",
              "      <td>228.000000</td>\n",
              "      <td>228.000000</td>\n",
              "      <td>228.000000</td>\n",
              "      <td>228.000000</td>\n",
              "      <td>228.000000</td>\n",
              "      <td>228.000000</td>\n",
              "      <td>228.000000</td>\n",
              "      <td>228.000000</td>\n",
              "    </tr>\n",
              "    <tr>\n",
              "      <th>mean</th>\n",
              "      <td>17.386842</td>\n",
              "      <td>22.134649</td>\n",
              "      <td>13.687281</td>\n",
              "      <td>2.423684</td>\n",
              "      <td>1.478509</td>\n",
              "      <td>0.699123</td>\n",
              "      <td>5.691667</td>\n",
              "      <td>2.404298</td>\n",
              "      <td>15.822763</td>\n",
              "      <td>12.650965</td>\n",
              "      <td>90.460044</td>\n",
              "    </tr>\n",
              "    <tr>\n",
              "      <th>std</th>\n",
              "      <td>3.867668</td>\n",
              "      <td>4.522531</td>\n",
              "      <td>3.473990</td>\n",
              "      <td>2.463417</td>\n",
              "      <td>1.731650</td>\n",
              "      <td>3.579949</td>\n",
              "      <td>2.319857</td>\n",
              "      <td>1.469884</td>\n",
              "      <td>7.330013</td>\n",
              "      <td>6.511407</td>\n",
              "      <td>14.511075</td>\n",
              "    </tr>\n",
              "    <tr>\n",
              "      <th>min</th>\n",
              "      <td>7.500000</td>\n",
              "      <td>10.200000</td>\n",
              "      <td>5.600000</td>\n",
              "      <td>0.000000</td>\n",
              "      <td>0.000000</td>\n",
              "      <td>0.000000</td>\n",
              "      <td>1.900000</td>\n",
              "      <td>1.000000</td>\n",
              "      <td>2.790000</td>\n",
              "      <td>4.080000</td>\n",
              "      <td>53.790000</td>\n",
              "    </tr>\n",
              "    <tr>\n",
              "      <th>25%</th>\n",
              "      <td>14.775000</td>\n",
              "      <td>18.800000</td>\n",
              "      <td>11.275000</td>\n",
              "      <td>0.300000</td>\n",
              "      <td>0.000000</td>\n",
              "      <td>0.000000</td>\n",
              "      <td>4.000000</td>\n",
              "      <td>1.080000</td>\n",
              "      <td>10.682500</td>\n",
              "      <td>8.710000</td>\n",
              "      <td>81.177500</td>\n",
              "    </tr>\n",
              "    <tr>\n",
              "      <th>50%</th>\n",
              "      <td>17.400000</td>\n",
              "      <td>22.400000</td>\n",
              "      <td>13.650000</td>\n",
              "      <td>1.700000</td>\n",
              "      <td>0.800000</td>\n",
              "      <td>0.000000</td>\n",
              "      <td>5.500000</td>\n",
              "      <td>1.810000</td>\n",
              "      <td>14.310000</td>\n",
              "      <td>11.355000</td>\n",
              "      <td>89.440000</td>\n",
              "    </tr>\n",
              "    <tr>\n",
              "      <th>75%</th>\n",
              "      <td>20.525000</td>\n",
              "      <td>25.525000</td>\n",
              "      <td>16.200000</td>\n",
              "      <td>3.625000</td>\n",
              "      <td>2.525000</td>\n",
              "      <td>0.000000</td>\n",
              "      <td>6.950000</td>\n",
              "      <td>3.592500</td>\n",
              "      <td>19.892500</td>\n",
              "      <td>15.072500</td>\n",
              "      <td>98.345000</td>\n",
              "    </tr>\n",
              "    <tr>\n",
              "      <th>max</th>\n",
              "      <td>26.300000</td>\n",
              "      <td>34.400000</td>\n",
              "      <td>22.300000</td>\n",
              "      <td>10.800000</td>\n",
              "      <td>8.000000</td>\n",
              "      <td>39.200000</td>\n",
              "      <td>15.800000</td>\n",
              "      <td>7.000000</td>\n",
              "      <td>38.630000</td>\n",
              "      <td>63.830000</td>\n",
              "      <td>140.960000</td>\n",
              "    </tr>\n",
              "  </tbody>\n",
              "</table>\n",
              "</div>\n",
              "    <div class=\"colab-df-buttons\">\n",
              "\n",
              "  <div class=\"colab-df-container\">\n",
              "    <button class=\"colab-df-convert\" onclick=\"convertToInteractive('df-c2fa5c79-9f05-4649-864e-384b341629f5')\"\n",
              "            title=\"Convert this dataframe to an interactive table.\"\n",
              "            style=\"display:none;\">\n",
              "\n",
              "  <svg xmlns=\"http://www.w3.org/2000/svg\" height=\"24px\" viewBox=\"0 -960 960 960\">\n",
              "    <path d=\"M120-120v-720h720v720H120Zm60-500h600v-160H180v160Zm220 220h160v-160H400v160Zm0 220h160v-160H400v160ZM180-400h160v-160H180v160Zm440 0h160v-160H620v160ZM180-180h160v-160H180v160Zm440 0h160v-160H620v160Z\"/>\n",
              "  </svg>\n",
              "    </button>\n",
              "\n",
              "  <style>\n",
              "    .colab-df-container {\n",
              "      display:flex;\n",
              "      gap: 12px;\n",
              "    }\n",
              "\n",
              "    .colab-df-convert {\n",
              "      background-color: #E8F0FE;\n",
              "      border: none;\n",
              "      border-radius: 50%;\n",
              "      cursor: pointer;\n",
              "      display: none;\n",
              "      fill: #1967D2;\n",
              "      height: 32px;\n",
              "      padding: 0 0 0 0;\n",
              "      width: 32px;\n",
              "    }\n",
              "\n",
              "    .colab-df-convert:hover {\n",
              "      background-color: #E2EBFA;\n",
              "      box-shadow: 0px 1px 2px rgba(60, 64, 67, 0.3), 0px 1px 3px 1px rgba(60, 64, 67, 0.15);\n",
              "      fill: #174EA6;\n",
              "    }\n",
              "\n",
              "    .colab-df-buttons div {\n",
              "      margin-bottom: 4px;\n",
              "    }\n",
              "\n",
              "    [theme=dark] .colab-df-convert {\n",
              "      background-color: #3B4455;\n",
              "      fill: #D2E3FC;\n",
              "    }\n",
              "\n",
              "    [theme=dark] .colab-df-convert:hover {\n",
              "      background-color: #434B5C;\n",
              "      box-shadow: 0px 1px 3px 1px rgba(0, 0, 0, 0.15);\n",
              "      filter: drop-shadow(0px 1px 2px rgba(0, 0, 0, 0.3));\n",
              "      fill: #FFFFFF;\n",
              "    }\n",
              "  </style>\n",
              "\n",
              "    <script>\n",
              "      const buttonEl =\n",
              "        document.querySelector('#df-c2fa5c79-9f05-4649-864e-384b341629f5 button.colab-df-convert');\n",
              "      buttonEl.style.display =\n",
              "        google.colab.kernel.accessAllowed ? 'block' : 'none';\n",
              "\n",
              "      async function convertToInteractive(key) {\n",
              "        const element = document.querySelector('#df-c2fa5c79-9f05-4649-864e-384b341629f5');\n",
              "        const dataTable =\n",
              "          await google.colab.kernel.invokeFunction('convertToInteractive',\n",
              "                                                    [key], {});\n",
              "        if (!dataTable) return;\n",
              "\n",
              "        const docLinkHtml = 'Like what you see? Visit the ' +\n",
              "          '<a target=\"_blank\" href=https://colab.research.google.com/notebooks/data_table.ipynb>data table notebook</a>'\n",
              "          + ' to learn more about interactive tables.';\n",
              "        element.innerHTML = '';\n",
              "        dataTable['output_type'] = 'display_data';\n",
              "        await google.colab.output.renderOutput(dataTable, element);\n",
              "        const docLink = document.createElement('div');\n",
              "        docLink.innerHTML = docLinkHtml;\n",
              "        element.appendChild(docLink);\n",
              "      }\n",
              "    </script>\n",
              "  </div>\n",
              "\n",
              "\n",
              "<div id=\"df-87ead201-bbdc-482e-a424-0f5aa30e0ba2\">\n",
              "  <button class=\"colab-df-quickchart\" onclick=\"quickchart('df-87ead201-bbdc-482e-a424-0f5aa30e0ba2')\"\n",
              "            title=\"Suggest charts.\"\n",
              "            style=\"display:none;\">\n",
              "\n",
              "<svg xmlns=\"http://www.w3.org/2000/svg\" height=\"24px\"viewBox=\"0 0 24 24\"\n",
              "     width=\"24px\">\n",
              "    <g>\n",
              "        <path d=\"M19 3H5c-1.1 0-2 .9-2 2v14c0 1.1.9 2 2 2h14c1.1 0 2-.9 2-2V5c0-1.1-.9-2-2-2zM9 17H7v-7h2v7zm4 0h-2V7h2v10zm4 0h-2v-4h2v4z\"/>\n",
              "    </g>\n",
              "</svg>\n",
              "  </button>\n",
              "\n",
              "<style>\n",
              "  .colab-df-quickchart {\n",
              "      --bg-color: #E8F0FE;\n",
              "      --fill-color: #1967D2;\n",
              "      --hover-bg-color: #E2EBFA;\n",
              "      --hover-fill-color: #174EA6;\n",
              "      --disabled-fill-color: #AAA;\n",
              "      --disabled-bg-color: #DDD;\n",
              "  }\n",
              "\n",
              "  [theme=dark] .colab-df-quickchart {\n",
              "      --bg-color: #3B4455;\n",
              "      --fill-color: #D2E3FC;\n",
              "      --hover-bg-color: #434B5C;\n",
              "      --hover-fill-color: #FFFFFF;\n",
              "      --disabled-bg-color: #3B4455;\n",
              "      --disabled-fill-color: #666;\n",
              "  }\n",
              "\n",
              "  .colab-df-quickchart {\n",
              "    background-color: var(--bg-color);\n",
              "    border: none;\n",
              "    border-radius: 50%;\n",
              "    cursor: pointer;\n",
              "    display: none;\n",
              "    fill: var(--fill-color);\n",
              "    height: 32px;\n",
              "    padding: 0;\n",
              "    width: 32px;\n",
              "  }\n",
              "\n",
              "  .colab-df-quickchart:hover {\n",
              "    background-color: var(--hover-bg-color);\n",
              "    box-shadow: 0 1px 2px rgba(60, 64, 67, 0.3), 0 1px 3px 1px rgba(60, 64, 67, 0.15);\n",
              "    fill: var(--button-hover-fill-color);\n",
              "  }\n",
              "\n",
              "  .colab-df-quickchart-complete:disabled,\n",
              "  .colab-df-quickchart-complete:disabled:hover {\n",
              "    background-color: var(--disabled-bg-color);\n",
              "    fill: var(--disabled-fill-color);\n",
              "    box-shadow: none;\n",
              "  }\n",
              "\n",
              "  .colab-df-spinner {\n",
              "    border: 2px solid var(--fill-color);\n",
              "    border-color: transparent;\n",
              "    border-bottom-color: var(--fill-color);\n",
              "    animation:\n",
              "      spin 1s steps(1) infinite;\n",
              "  }\n",
              "\n",
              "  @keyframes spin {\n",
              "    0% {\n",
              "      border-color: transparent;\n",
              "      border-bottom-color: var(--fill-color);\n",
              "      border-left-color: var(--fill-color);\n",
              "    }\n",
              "    20% {\n",
              "      border-color: transparent;\n",
              "      border-left-color: var(--fill-color);\n",
              "      border-top-color: var(--fill-color);\n",
              "    }\n",
              "    30% {\n",
              "      border-color: transparent;\n",
              "      border-left-color: var(--fill-color);\n",
              "      border-top-color: var(--fill-color);\n",
              "      border-right-color: var(--fill-color);\n",
              "    }\n",
              "    40% {\n",
              "      border-color: transparent;\n",
              "      border-right-color: var(--fill-color);\n",
              "      border-top-color: var(--fill-color);\n",
              "    }\n",
              "    60% {\n",
              "      border-color: transparent;\n",
              "      border-right-color: var(--fill-color);\n",
              "    }\n",
              "    80% {\n",
              "      border-color: transparent;\n",
              "      border-right-color: var(--fill-color);\n",
              "      border-bottom-color: var(--fill-color);\n",
              "    }\n",
              "    90% {\n",
              "      border-color: transparent;\n",
              "      border-bottom-color: var(--fill-color);\n",
              "    }\n",
              "  }\n",
              "</style>\n",
              "\n",
              "  <script>\n",
              "    async function quickchart(key) {\n",
              "      const quickchartButtonEl =\n",
              "        document.querySelector('#' + key + ' button');\n",
              "      quickchartButtonEl.disabled = true;  // To prevent multiple clicks.\n",
              "      quickchartButtonEl.classList.add('colab-df-spinner');\n",
              "      try {\n",
              "        const charts = await google.colab.kernel.invokeFunction(\n",
              "            'suggestCharts', [key], {});\n",
              "      } catch (error) {\n",
              "        console.error('Error during call to suggestCharts:', error);\n",
              "      }\n",
              "      quickchartButtonEl.classList.remove('colab-df-spinner');\n",
              "      quickchartButtonEl.classList.add('colab-df-quickchart-complete');\n",
              "    }\n",
              "    (() => {\n",
              "      let quickchartButtonEl =\n",
              "        document.querySelector('#df-87ead201-bbdc-482e-a424-0f5aa30e0ba2 button');\n",
              "      quickchartButtonEl.style.display =\n",
              "        google.colab.kernel.accessAllowed ? 'block' : 'none';\n",
              "    })();\n",
              "  </script>\n",
              "</div>\n",
              "    </div>\n",
              "  </div>\n"
            ]
          },
          "metadata": {},
          "execution_count": 103
        }
      ]
    },
    {
      "cell_type": "code",
      "source": [
        "# correlation visualization\n",
        "corrmat = df.corr()\n",
        "top_corr_features = corrmat.index\n",
        "plt.figure(figsize=(10,8))\n",
        "\n",
        "\n",
        "g = sns.heatmap(df[top_corr_features].corr(),annot=True)"
      ],
      "metadata": {
        "colab": {
          "base_uri": "https://localhost:8080/",
          "height": 682
        },
        "id": "lwCxvKfg_i38",
        "outputId": "d57e87df-ec7a-4263-ece7-fb1c37aeaf93"
      },
      "execution_count": 104,
      "outputs": [
        {
          "output_type": "display_data",
          "data": {
            "text/plain": [
              "<Figure size 1000x800 with 2 Axes>"
            ],
            "image/png": "[encoded data removed]"
          },
          "metadata": {}
        }
      ]
    },
    {
      "cell_type": "code",
      "source": [
        "# Define X and y matrix :)\n",
        "X = df[[ 'Mtemp',\t'Htemp',\t'Ltemp',\t'Heat',\t'Cool',\t'Rain',\t'WMSpeed',\t'NO',\t'NO2',\t'PM2.5']] # Features\n",
        "y = df['O3']  # Target"
      ],
      "metadata": {
        "id": "AkrioJ9e_i6I"
      },
      "execution_count": 105,
      "outputs": []
    },
    {
      "cell_type": "code",
      "source": [
        "# Feature selection\n",
        "from sklearn.ensemble import ExtraTreesRegressor\n",
        "import matplotlib.pyplot as plt\n",
        "model = ExtraTreesRegressor()\n",
        "model.fit(X,y)"
      ],
      "metadata": {
        "colab": {
          "base_uri": "https://localhost:8080/",
          "height": 74
        },
        "id": "XnJbywTKAtDo",
        "outputId": "761fa775-50df-4457-d3e1-4ee19f40bae6"
      },
      "execution_count": 106,
      "outputs": [
        {
          "output_type": "execute_result",
          "data": {
            "text/plain": [
              "ExtraTreesRegressor()"
            ],
            "text/html": [
              "<style>#sk-container-id-10 {color: black;background-color: white;}#sk-container-id-10 pre{padding: 0;}#sk-container-id-10 div.sk-toggleable {background-color: white;}#sk-container-id-10 label.sk-toggleable__label {cursor: pointer;display: block;width: 100%;margin-bottom: 0;padding: 0.3em;box-sizing: border-box;text-align: center;}#sk-container-id-10 label.sk-toggleable__label-arrow:before {content: \"▸\";float: left;margin-right: 0.25em;color: #696969;}#sk-container-id-10 label.sk-toggleable__label-arrow:hover:before {color: black;}#sk-container-id-10 div.sk-estimator:hover label.sk-toggleable__label-arrow:before {color: black;}#sk-container-id-10 div.sk-toggleable__content {max-height: 0;max-width: 0;overflow: hidden;text-align: left;background-color: #f0f8ff;}#sk-container-id-10 div.sk-toggleable__content pre {margin: 0.2em;color: black;border-radius: 0.25em;background-color: #f0f8ff;}#sk-container-id-10 input.sk-toggleable__control:checked~div.sk-toggleable__content {max-height: 200px;max-width: 100%;overflow: auto;}#sk-container-id-10 input.sk-toggleable__control:checked~label.sk-toggleable__label-arrow:before {content: \"▾\";}#sk-container-id-10 div.sk-estimator input.sk-toggleable__control:checked~label.sk-toggleable__label {background-color: #d4ebff;}#sk-container-id-10 div.sk-label input.sk-toggleable__control:checked~label.sk-toggleable__label {background-color: #d4ebff;}#sk-container-id-10 input.sk-hidden--visually {border: 0;clip: rect(1px 1px 1px 1px);clip: rect(1px, 1px, 1px, 1px);height: 1px;margin: -1px;overflow: hidden;padding: 0;position: absolute;width: 1px;}#sk-container-id-10 div.sk-estimator {font-family: monospace;background-color: #f0f8ff;border: 1px dotted black;border-radius: 0.25em;box-sizing: border-box;margin-bottom: 0.5em;}#sk-container-id-10 div.sk-estimator:hover {background-color: #d4ebff;}#sk-container-id-10 div.sk-parallel-item::after {content: \"\";width: 100%;border-bottom: 1px solid gray;flex-grow: 1;}#sk-container-id-10 div.sk-label:hover label.sk-toggleable__label {background-color: #d4ebff;}#sk-container-id-10 div.sk-serial::before {content: \"\";position: absolute;border-left: 1px solid gray;box-sizing: border-box;top: 0;bottom: 0;left: 50%;z-index: 0;}#sk-container-id-10 div.sk-serial {display: flex;flex-direction: column;align-items: center;background-color: white;padding-right: 0.2em;padding-left: 0.2em;position: relative;}#sk-container-id-10 div.sk-item {position: relative;z-index: 1;}#sk-container-id-10 div.sk-parallel {display: flex;align-items: stretch;justify-content: center;background-color: white;position: relative;}#sk-container-id-10 div.sk-item::before, #sk-container-id-10 div.sk-parallel-item::before {content: \"\";position: absolute;border-left: 1px solid gray;box-sizing: border-box;top: 0;bottom: 0;left: 50%;z-index: -1;}#sk-container-id-10 div.sk-parallel-item {display: flex;flex-direction: column;z-index: 1;position: relative;background-color: white;}#sk-container-id-10 div.sk-parallel-item:first-child::after {align-self: flex-end;width: 50%;}#sk-container-id-10 div.sk-parallel-item:last-child::after {align-self: flex-start;width: 50%;}#sk-container-id-10 div.sk-parallel-item:only-child::after {width: 0;}#sk-container-id-10 div.sk-dashed-wrapped {border: 1px dashed gray;margin: 0 0.4em 0.5em 0.4em;box-sizing: border-box;padding-bottom: 0.4em;background-color: white;}#sk-container-id-10 div.sk-label label {font-family: monospace;font-weight: bold;display: inline-block;line-height: 1.2em;}#sk-container-id-10 div.sk-label-container {text-align: center;}#sk-container-id-10 div.sk-container {/* jupyter's `normalize.less` sets `[hidden] { display: none; }` but bootstrap.min.css set `[hidden] { display: none !important; }` so we also need the `!important` here to be able to override the default hidden behavior on the sphinx rendered scikit-learn.org. See: https://github.com/scikit-learn/scikit-learn/issues/21755 */display: inline-block !important;position: relative;}#sk-container-id-10 div.sk-text-repr-fallback {display: none;}</style><div id=\"sk-container-id-10\" class=\"sk-top-container\"><div class=\"sk-text-repr-fallback\"><pre>ExtraTreesRegressor()</pre><b>In a Jupyter environment, please rerun this cell to show the HTML representation or trust the notebook. <br />On GitHub, the HTML representation is unable to render, please try loading this page with nbviewer.org.</b></div><div class=\"sk-container\" hidden><div class=\"sk-item\"><div class=\"sk-estimator sk-toggleable\"><input class=\"sk-toggleable__control sk-hidden--visually\" id=\"sk-estimator-id-18\" type=\"checkbox\" checked><label for=\"sk-estimator-id-18\" class=\"sk-toggleable__label sk-toggleable__label-arrow\">ExtraTreesRegressor</label><div class=\"sk-toggleable__content\"><pre>ExtraTreesRegressor()</pre></div></div></div></div></div>"
            ]
          },
          "metadata": {},
          "execution_count": 106
        }
      ]
    },
    {
      "cell_type": "code",
      "source": [
        "X.head()"
      ],
      "metadata": {
        "colab": {
          "base_uri": "https://localhost:8080/",
          "height": 204
        },
        "id": "noW8X40rAtGF",
        "outputId": "b2e2d080-62fd-4764-ad0f-3e83270e5f47"
      },
      "execution_count": 108,
      "outputs": [
        {
          "output_type": "execute_result",
          "data": {
            "text/plain": [
              "   Mtemp  Htemp  Ltemp  Heat  Cool  Rain  WMSpeed    NO    NO2  PM2.5\n",
              "0   13.4   17.4    9.7   4.9   0.0   2.6      6.9  1.50  11.46   4.71\n",
              "1   10.4   15.3    7.4   7.9   0.0   2.2      8.4  1.08  11.13   4.08\n",
              "2    7.5   10.4    5.9  10.8   0.0   0.0      7.7  1.08   7.21   7.23\n",
              "3    8.2   10.2    7.2  10.1   0.0   0.0      6.3  1.04   8.54   8.71\n",
              "4    8.1   10.2    6.6  10.3   0.0   0.0      5.1  1.04   9.96   9.17"
            ],
            "text/html": [
              "\n",
              "  <div id=\"df-bf10ecbd-4ffa-47c2-bc8e-16236f33f304\" class=\"colab-df-container\">\n",
              "    <div>\n",
              "<style scoped>\n",
              "    .dataframe tbody tr th:only-of-type {\n",
              "        vertical-align: middle;\n",
              "    }\n",
              "\n",
              "    .dataframe tbody tr th {\n",
              "        vertical-align: top;\n",
              "    }\n",
              "\n",
              "    .dataframe thead th {\n",
              "        text-align: right;\n",
              "    }\n",
              "</style>\n",
              "<table border=\"1\" class=\"dataframe\">\n",
              "  <thead>\n",
              "    <tr style=\"text-align: right;\">\n",
              "      <th></th>\n",
              "      <th>Mtemp</th>\n",
              "      <th>Htemp</th>\n",
              "      <th>Ltemp</th>\n",
              "      <th>Heat</th>\n",
              "      <th>Cool</th>\n",
              "      <th>Rain</th>\n",
              "      <th>WMSpeed</th>\n",
              "      <th>NO</th>\n",
              "      <th>NO2</th>\n",
              "      <th>PM2.5</th>\n",
              "    </tr>\n",
              "  </thead>\n",
              "  <tbody>\n",
              "    <tr>\n",
              "      <th>0</th>\n",
              "      <td>13.4</td>\n",
              "      <td>17.4</td>\n",
              "      <td>9.7</td>\n",
              "      <td>4.9</td>\n",
              "      <td>0.0</td>\n",
              "      <td>2.6</td>\n",
              "      <td>6.9</td>\n",
              "      <td>1.50</td>\n",
              "      <td>11.46</td>\n",
              "      <td>4.71</td>\n",
              "    </tr>\n",
              "    <tr>\n",
              "      <th>1</th>\n",
              "      <td>10.4</td>\n",
              "      <td>15.3</td>\n",
              "      <td>7.4</td>\n",
              "      <td>7.9</td>\n",
              "      <td>0.0</td>\n",
              "      <td>2.2</td>\n",
              "      <td>8.4</td>\n",
              "      <td>1.08</td>\n",
              "      <td>11.13</td>\n",
              "      <td>4.08</td>\n",
              "    </tr>\n",
              "    <tr>\n",
              "      <th>2</th>\n",
              "      <td>7.5</td>\n",
              "      <td>10.4</td>\n",
              "      <td>5.9</td>\n",
              "      <td>10.8</td>\n",
              "      <td>0.0</td>\n",
              "      <td>0.0</td>\n",
              "      <td>7.7</td>\n",
              "      <td>1.08</td>\n",
              "      <td>7.21</td>\n",
              "      <td>7.23</td>\n",
              "    </tr>\n",
              "    <tr>\n",
              "      <th>3</th>\n",
              "      <td>8.2</td>\n",
              "      <td>10.2</td>\n",
              "      <td>7.2</td>\n",
              "      <td>10.1</td>\n",
              "      <td>0.0</td>\n",
              "      <td>0.0</td>\n",
              "      <td>6.3</td>\n",
              "      <td>1.04</td>\n",
              "      <td>8.54</td>\n",
              "      <td>8.71</td>\n",
              "    </tr>\n",
              "    <tr>\n",
              "      <th>4</th>\n",
              "      <td>8.1</td>\n",
              "      <td>10.2</td>\n",
              "      <td>6.6</td>\n",
              "      <td>10.3</td>\n",
              "      <td>0.0</td>\n",
              "      <td>0.0</td>\n",
              "      <td>5.1</td>\n",
              "      <td>1.04</td>\n",
              "      <td>9.96</td>\n",
              "      <td>9.17</td>\n",
              "    </tr>\n",
              "  </tbody>\n",
              "</table>\n",
              "</div>\n",
              "    <div class=\"colab-df-buttons\">\n",
              "\n",
              "  <div class=\"colab-df-container\">\n",
              "    <button class=\"colab-df-convert\" onclick=\"convertToInteractive('df-bf10ecbd-4ffa-47c2-bc8e-16236f33f304')\"\n",
              "            title=\"Convert this dataframe to an interactive table.\"\n",
              "            style=\"display:none;\">\n",
              "\n",
              "  <svg xmlns=\"http://www.w3.org/2000/svg\" height=\"24px\" viewBox=\"0 -960 960 960\">\n",
              "    <path d=\"M120-120v-720h720v720H120Zm60-500h600v-160H180v160Zm220 220h160v-160H400v160Zm0 220h160v-160H400v160ZM180-400h160v-160H180v160Zm440 0h160v-160H620v160ZM180-180h160v-160H180v160Zm440 0h160v-160H620v160Z\"/>\n",
              "  </svg>\n",
              "    </button>\n",
              "\n",
              "  <style>\n",
              "    .colab-df-container {\n",
              "      display:flex;\n",
              "      gap: 12px;\n",
              "    }\n",
              "\n",
              "    .colab-df-convert {\n",
              "      background-color: #E8F0FE;\n",
              "      border: none;\n",
              "      border-radius: 50%;\n",
              "      cursor: pointer;\n",
              "      display: none;\n",
              "      fill: #1967D2;\n",
              "      height: 32px;\n",
              "      padding: 0 0 0 0;\n",
              "      width: 32px;\n",
              "    }\n",
              "\n",
              "    .colab-df-convert:hover {\n",
              "      background-color: #E2EBFA;\n",
              "      box-shadow: 0px 1px 2px rgba(60, 64, 67, 0.3), 0px 1px 3px 1px rgba(60, 64, 67, 0.15);\n",
              "      fill: #174EA6;\n",
              "    }\n",
              "\n",
              "    .colab-df-buttons div {\n",
              "      margin-bottom: 4px;\n",
              "    }\n",
              "\n",
              "    [theme=dark] .colab-df-convert {\n",
              "      background-color: #3B4455;\n",
              "      fill: #D2E3FC;\n",
              "    }\n",
              "\n",
              "    [theme=dark] .colab-df-convert:hover {\n",
              "      background-color: #434B5C;\n",
              "      box-shadow: 0px 1px 3px 1px rgba(0, 0, 0, 0.15);\n",
              "      filter: drop-shadow(0px 1px 2px rgba(0, 0, 0, 0.3));\n",
              "      fill: #FFFFFF;\n",
              "    }\n",
              "  </style>\n",
              "\n",
              "    <script>\n",
              "      const buttonEl =\n",
              "        document.querySelector('#df-bf10ecbd-4ffa-47c2-bc8e-16236f33f304 button.colab-df-convert');\n",
              "      buttonEl.style.display =\n",
              "        google.colab.kernel.accessAllowed ? 'block' : 'none';\n",
              "\n",
              "      async function convertToInteractive(key) {\n",
              "        const element = document.querySelector('#df-bf10ecbd-4ffa-47c2-bc8e-16236f33f304');\n",
              "        const dataTable =\n",
              "          await google.colab.kernel.invokeFunction('convertToInteractive',\n",
              "                                                    [key], {});\n",
              "        if (!dataTable) return;\n",
              "\n",
              "        const docLinkHtml = 'Like what you see? Visit the ' +\n",
              "          '<a target=\"_blank\" href=https://colab.research.google.com/notebooks/data_table.ipynb>data table notebook</a>'\n",
              "          + ' to learn more about interactive tables.';\n",
              "        element.innerHTML = '';\n",
              "        dataTable['output_type'] = 'display_data';\n",
              "        await google.colab.output.renderOutput(dataTable, element);\n",
              "        const docLink = document.createElement('div');\n",
              "        docLink.innerHTML = docLinkHtml;\n",
              "        element.appendChild(docLink);\n",
              "      }\n",
              "    </script>\n",
              "  </div>\n",
              "\n",
              "\n",
              "<div id=\"df-ed8e0940-fb7d-436c-bdd9-7d60efba72a7\">\n",
              "  <button class=\"colab-df-quickchart\" onclick=\"quickchart('df-ed8e0940-fb7d-436c-bdd9-7d60efba72a7')\"\n",
              "            title=\"Suggest charts.\"\n",
              "            style=\"display:none;\">\n",
              "\n",
              "<svg xmlns=\"http://www.w3.org/2000/svg\" height=\"24px\"viewBox=\"0 0 24 24\"\n",
              "     width=\"24px\">\n",
              "    <g>\n",
              "        <path d=\"M19 3H5c-1.1 0-2 .9-2 2v14c0 1.1.9 2 2 2h14c1.1 0 2-.9 2-2V5c0-1.1-.9-2-2-2zM9 17H7v-7h2v7zm4 0h-2V7h2v10zm4 0h-2v-4h2v4z\"/>\n",
              "    </g>\n",
              "</svg>\n",
              "  </button>\n",
              "\n",
              "<style>\n",
              "  .colab-df-quickchart {\n",
              "      --bg-color: #E8F0FE;\n",
              "      --fill-color: #1967D2;\n",
              "      --hover-bg-color: #E2EBFA;\n",
              "      --hover-fill-color: #174EA6;\n",
              "      --disabled-fill-color: #AAA;\n",
              "      --disabled-bg-color: #DDD;\n",
              "  }\n",
              "\n",
              "  [theme=dark] .colab-df-quickchart {\n",
              "      --bg-color: #3B4455;\n",
              "      --fill-color: #D2E3FC;\n",
              "      --hover-bg-color: #434B5C;\n",
              "      --hover-fill-color: #FFFFFF;\n",
              "      --disabled-bg-color: #3B4455;\n",
              "      --disabled-fill-color: #666;\n",
              "  }\n",
              "\n",
              "  .colab-df-quickchart {\n",
              "    background-color: var(--bg-color);\n",
              "    border: none;\n",
              "    border-radius: 50%;\n",
              "    cursor: pointer;\n",
              "    display: none;\n",
              "    fill: var(--fill-color);\n",
              "    height: 32px;\n",
              "    padding: 0;\n",
              "    width: 32px;\n",
              "  }\n",
              "\n",
              "  .colab-df-quickchart:hover {\n",
              "    background-color: var(--hover-bg-color);\n",
              "    box-shadow: 0 1px 2px rgba(60, 64, 67, 0.3), 0 1px 3px 1px rgba(60, 64, 67, 0.15);\n",
              "    fill: var(--button-hover-fill-color);\n",
              "  }\n",
              "\n",
              "  .colab-df-quickchart-complete:disabled,\n",
              "  .colab-df-quickchart-complete:disabled:hover {\n",
              "    background-color: var(--disabled-bg-color);\n",
              "    fill: var(--disabled-fill-color);\n",
              "    box-shadow: none;\n",
              "  }\n",
              "\n",
              "  .colab-df-spinner {\n",
              "    border: 2px solid var(--fill-color);\n",
              "    border-color: transparent;\n",
              "    border-bottom-color: var(--fill-color);\n",
              "    animation:\n",
              "      spin 1s steps(1) infinite;\n",
              "  }\n",
              "\n",
              "  @keyframes spin {\n",
              "    0% {\n",
              "      border-color: transparent;\n",
              "      border-bottom-color: var(--fill-color);\n",
              "      border-left-color: var(--fill-color);\n",
              "    }\n",
              "    20% {\n",
              "      border-color: transparent;\n",
              "      border-left-color: var(--fill-color);\n",
              "      border-top-color: var(--fill-color);\n",
              "    }\n",
              "    30% {\n",
              "      border-color: transparent;\n",
              "      border-left-color: var(--fill-color);\n",
              "      border-top-color: var(--fill-color);\n",
              "      border-right-color: var(--fill-color);\n",
              "    }\n",
              "    40% {\n",
              "      border-color: transparent;\n",
              "      border-right-color: var(--fill-color);\n",
              "      border-top-color: var(--fill-color);\n",
              "    }\n",
              "    60% {\n",
              "      border-color: transparent;\n",
              "      border-right-color: var(--fill-color);\n",
              "    }\n",
              "    80% {\n",
              "      border-color: transparent;\n",
              "      border-right-color: var(--fill-color);\n",
              "      border-bottom-color: var(--fill-color);\n",
              "    }\n",
              "    90% {\n",
              "      border-color: transparent;\n",
              "      border-bottom-color: var(--fill-color);\n",
              "    }\n",
              "  }\n",
              "</style>\n",
              "\n",
              "  <script>\n",
              "    async function quickchart(key) {\n",
              "      const quickchartButtonEl =\n",
              "        document.querySelector('#' + key + ' button');\n",
              "      quickchartButtonEl.disabled = true;  // To prevent multiple clicks.\n",
              "      quickchartButtonEl.classList.add('colab-df-spinner');\n",
              "      try {\n",
              "        const charts = await google.colab.kernel.invokeFunction(\n",
              "            'suggestCharts', [key], {});\n",
              "      } catch (error) {\n",
              "        console.error('Error during call to suggestCharts:', error);\n",
              "      }\n",
              "      quickchartButtonEl.classList.remove('colab-df-spinner');\n",
              "      quickchartButtonEl.classList.add('colab-df-quickchart-complete');\n",
              "    }\n",
              "    (() => {\n",
              "      let quickchartButtonEl =\n",
              "        document.querySelector('#df-ed8e0940-fb7d-436c-bdd9-7d60efba72a7 button');\n",
              "      quickchartButtonEl.style.display =\n",
              "        google.colab.kernel.accessAllowed ? 'block' : 'none';\n",
              "    })();\n",
              "  </script>\n",
              "</div>\n",
              "    </div>\n",
              "  </div>\n"
            ]
          },
          "metadata": {},
          "execution_count": 108
        }
      ]
    },
    {
      "cell_type": "code",
      "source": [
        "y.head()"
      ],
      "metadata": {
        "colab": {
          "base_uri": "https://localhost:8080/"
        },
        "id": "8v_ZAb_SAtIR",
        "outputId": "820416df-9085-46f2-bb81-6f4b34051f87"
      },
      "execution_count": 109,
      "outputs": [
        {
          "output_type": "execute_result",
          "data": {
            "text/plain": [
              "0    81.79\n",
              "1    72.00\n",
              "2    73.50\n",
              "3    74.17\n",
              "4    72.17\n",
              "Name: O3, dtype: float64"
            ]
          },
          "metadata": {},
          "execution_count": 109
        }
      ]
    },
    {
      "cell_type": "code",
      "source": [
        "sns.distplot(y,color='blue')   # Distribution of O3"
      ],
      "metadata": {
        "colab": {
          "base_uri": "https://localhost:8080/",
          "height": 466
        },
        "id": "jfV2HGLzA8fI",
        "outputId": "15bbbe34-6b00-4337-94c5-86af251be6b0"
      },
      "execution_count": 110,
      "outputs": [
        {
          "output_type": "execute_result",
          "data": {
            "text/plain": [
              "<Axes: xlabel='O3', ylabel='Density'>"
            ]
          },
          "metadata": {},
          "execution_count": 110
        },
        {
          "output_type": "display_data",
          "data": {
            "text/plain": [
              "<Figure size 640x480 with 1 Axes>"
            ],
            "image/png": "[encoded data removed]"
          },
          "metadata": {}
        }
      ]
    },
    {
      "cell_type": "markdown",
      "source": [
        "# 1. Linear Regression"
      ],
      "metadata": {
        "id": "NeXKynGyBKh2"
      }
    },
    {
      "cell_type": "code",
      "source": [
        "from sklearn.model_selection import train_test_split\n",
        "from sklearn.linear_model import LinearRegression\n",
        "from sklearn.preprocessing import StandardScaler\n",
        "from sklearn.pipeline import make_pipeline\n",
        "from sklearn import metrics\n",
        "\n",
        "import numpy as np\n",
        "import pandas as pd\n",
        "from sklearn.model_selection import train_test_split, RandomizedSearchCV\n",
        "from sklearn.ensemble import RandomForestRegressor\n",
        "from sklearn.metrics import mean_squared_error"
      ],
      "metadata": {
        "id": "GoUklUcJBPas"
      },
      "execution_count": 165,
      "outputs": []
    },
    {
      "cell_type": "code",
      "source": [
        "model = LinearRegression()\n",
        "model.fit(X,y)"
      ],
      "metadata": {
        "colab": {
          "base_uri": "https://localhost:8080/",
          "height": 74
        },
        "id": "8jHG9V3vBSap",
        "outputId": "159c4744-1764-400f-89a5-1da601b104b5"
      },
      "execution_count": 168,
      "outputs": [
        {
          "output_type": "execute_result",
          "data": {
            "text/plain": [
              "LinearRegression()"
            ],
            "text/html": [
              "<style>#sk-container-id-19 {color: black;background-color: white;}#sk-container-id-19 pre{padding: 0;}#sk-container-id-19 div.sk-toggleable {background-color: white;}#sk-container-id-19 label.sk-toggleable__label {cursor: pointer;display: block;width: 100%;margin-bottom: 0;padding: 0.3em;box-sizing: border-box;text-align: center;}#sk-container-id-19 label.sk-toggleable__label-arrow:before {content: \"▸\";float: left;margin-right: 0.25em;color: #696969;}#sk-container-id-19 label.sk-toggleable__label-arrow:hover:before {color: black;}#sk-container-id-19 div.sk-estimator:hover label.sk-toggleable__label-arrow:before {color: black;}#sk-container-id-19 div.sk-toggleable__content {max-height: 0;max-width: 0;overflow: hidden;text-align: left;background-color: #f0f8ff;}#sk-container-id-19 div.sk-toggleable__content pre {margin: 0.2em;color: black;border-radius: 0.25em;background-color: #f0f8ff;}#sk-container-id-19 input.sk-toggleable__control:checked~div.sk-toggleable__content {max-height: 200px;max-width: 100%;overflow: auto;}#sk-container-id-19 input.sk-toggleable__control:checked~label.sk-toggleable__label-arrow:before {content: \"▾\";}#sk-container-id-19 div.sk-estimator input.sk-toggleable__control:checked~label.sk-toggleable__label {background-color: #d4ebff;}#sk-container-id-19 div.sk-label input.sk-toggleable__control:checked~label.sk-toggleable__label {background-color: #d4ebff;}#sk-container-id-19 input.sk-hidden--visually {border: 0;clip: rect(1px 1px 1px 1px);clip: rect(1px, 1px, 1px, 1px);height: 1px;margin: -1px;overflow: hidden;padding: 0;position: absolute;width: 1px;}#sk-container-id-19 div.sk-estimator {font-family: monospace;background-color: #f0f8ff;border: 1px dotted black;border-radius: 0.25em;box-sizing: border-box;margin-bottom: 0.5em;}#sk-container-id-19 div.sk-estimator:hover {background-color: #d4ebff;}#sk-container-id-19 div.sk-parallel-item::after {content: \"\";width: 100%;border-bottom: 1px solid gray;flex-grow: 1;}#sk-container-id-19 div.sk-label:hover label.sk-toggleable__label {background-color: #d4ebff;}#sk-container-id-19 div.sk-serial::before {content: \"\";position: absolute;border-left: 1px solid gray;box-sizing: border-box;top: 0;bottom: 0;left: 50%;z-index: 0;}#sk-container-id-19 div.sk-serial {display: flex;flex-direction: column;align-items: center;background-color: white;padding-right: 0.2em;padding-left: 0.2em;position: relative;}#sk-container-id-19 div.sk-item {position: relative;z-index: 1;}#sk-container-id-19 div.sk-parallel {display: flex;align-items: stretch;justify-content: center;background-color: white;position: relative;}#sk-container-id-19 div.sk-item::before, #sk-container-id-19 div.sk-parallel-item::before {content: \"\";position: absolute;border-left: 1px solid gray;box-sizing: border-box;top: 0;bottom: 0;left: 50%;z-index: -1;}#sk-container-id-19 div.sk-parallel-item {display: flex;flex-direction: column;z-index: 1;position: relative;background-color: white;}#sk-container-id-19 div.sk-parallel-item:first-child::after {align-self: flex-end;width: 50%;}#sk-container-id-19 div.sk-parallel-item:last-child::after {align-self: flex-start;width: 50%;}#sk-container-id-19 div.sk-parallel-item:only-child::after {width: 0;}#sk-container-id-19 div.sk-dashed-wrapped {border: 1px dashed gray;margin: 0 0.4em 0.5em 0.4em;box-sizing: border-box;padding-bottom: 0.4em;background-color: white;}#sk-container-id-19 div.sk-label label {font-family: monospace;font-weight: bold;display: inline-block;line-height: 1.2em;}#sk-container-id-19 div.sk-label-container {text-align: center;}#sk-container-id-19 div.sk-container {/* jupyter's `normalize.less` sets `[hidden] { display: none; }` but bootstrap.min.css set `[hidden] { display: none !important; }` so we also need the `!important` here to be able to override the default hidden behavior on the sphinx rendered scikit-learn.org. See: https://github.com/scikit-learn/scikit-learn/issues/21755 */display: inline-block !important;position: relative;}#sk-container-id-19 div.sk-text-repr-fallback {display: none;}</style><div id=\"sk-container-id-19\" class=\"sk-top-container\"><div class=\"sk-text-repr-fallback\"><pre>LinearRegression()</pre><b>In a Jupyter environment, please rerun this cell to show the HTML representation or trust the notebook. <br />On GitHub, the HTML representation is unable to render, please try loading this page with nbviewer.org.</b></div><div class=\"sk-container\" hidden><div class=\"sk-item\"><div class=\"sk-estimator sk-toggleable\"><input class=\"sk-toggleable__control sk-hidden--visually\" id=\"sk-estimator-id-29\" type=\"checkbox\" checked><label for=\"sk-estimator-id-29\" class=\"sk-toggleable__label sk-toggleable__label-arrow\">LinearRegression</label><div class=\"sk-toggleable__content\"><pre>LinearRegression()</pre></div></div></div></div></div>"
            ]
          },
          "metadata": {},
          "execution_count": 168
        }
      ]
    },
    {
      "cell_type": "code",
      "source": [
        "result = pd.DataFrame(list(zip(model.coef_, df.columns)), columns=['coefficient', 'name']).set_index('name')\n",
        "np.abs(result).sort_values('coefficient', ascending=False)"
      ],
      "metadata": {
        "colab": {
          "base_uri": "https://localhost:8080/",
          "height": 390
        },
        "id": "tN1hWS-NCDwY",
        "outputId": "f46aeb87-3f57-4e17-bc2a-358558d00cc2"
      },
      "execution_count": 113,
      "outputs": [
        {
          "output_type": "execute_result",
          "data": {
            "text/plain": [
              "         coefficient\n",
              "name                \n",
              "Mtemp       4.882375\n",
              "Cool        3.518718\n",
              "NO          1.595757\n",
              "Heat        1.290088\n",
              "Ltemp       0.816764\n",
              "NO2         0.669272\n",
              "WMSpeed     0.425755\n",
              "PM2.5       0.313399\n",
              "Htemp       0.305202\n",
              "Rain        0.120183"
            ],
            "text/html": [
              "\n",
              "  <div id=\"df-d66f3916-1d43-4141-9c4d-8461b271ce29\" class=\"colab-df-container\">\n",
              "    <div>\n",
              "<style scoped>\n",
              "    .dataframe tbody tr th:only-of-type {\n",
              "        vertical-align: middle;\n",
              "    }\n",
              "\n",
              "    .dataframe tbody tr th {\n",
              "        vertical-align: top;\n",
              "    }\n",
              "\n",
              "    .dataframe thead th {\n",
              "        text-align: right;\n",
              "    }\n",
              "</style>\n",
              "<table border=\"1\" class=\"dataframe\">\n",
              "  <thead>\n",
              "    <tr style=\"text-align: right;\">\n",
              "      <th></th>\n",
              "      <th>coefficient</th>\n",
              "    </tr>\n",
              "    <tr>\n",
              "      <th>name</th>\n",
              "      <th></th>\n",
              "    </tr>\n",
              "  </thead>\n",
              "  <tbody>\n",
              "    <tr>\n",
              "      <th>Mtemp</th>\n",
              "      <td>4.882375</td>\n",
              "    </tr>\n",
              "    <tr>\n",
              "      <th>Cool</th>\n",
              "      <td>3.518718</td>\n",
              "    </tr>\n",
              "    <tr>\n",
              "      <th>NO</th>\n",
              "      <td>1.595757</td>\n",
              "    </tr>\n",
              "    <tr>\n",
              "      <th>Heat</th>\n",
              "      <td>1.290088</td>\n",
              "    </tr>\n",
              "    <tr>\n",
              "      <th>Ltemp</th>\n",
              "      <td>0.816764</td>\n",
              "    </tr>\n",
              "    <tr>\n",
              "      <th>NO2</th>\n",
              "      <td>0.669272</td>\n",
              "    </tr>\n",
              "    <tr>\n",
              "      <th>WMSpeed</th>\n",
              "      <td>0.425755</td>\n",
              "    </tr>\n",
              "    <tr>\n",
              "      <th>PM2.5</th>\n",
              "      <td>0.313399</td>\n",
              "    </tr>\n",
              "    <tr>\n",
              "      <th>Htemp</th>\n",
              "      <td>0.305202</td>\n",
              "    </tr>\n",
              "    <tr>\n",
              "      <th>Rain</th>\n",
              "      <td>0.120183</td>\n",
              "    </tr>\n",
              "  </tbody>\n",
              "</table>\n",
              "</div>\n",
              "    <div class=\"colab-df-buttons\">\n",
              "\n",
              "  <div class=\"colab-df-container\">\n",
              "    <button class=\"colab-df-convert\" onclick=\"convertToInteractive('df-d66f3916-1d43-4141-9c4d-8461b271ce29')\"\n",
              "            title=\"Convert this dataframe to an interactive table.\"\n",
              "            style=\"display:none;\">\n",
              "\n",
              "  <svg xmlns=\"http://www.w3.org/2000/svg\" height=\"24px\" viewBox=\"0 -960 960 960\">\n",
              "    <path d=\"M120-120v-720h720v720H120Zm60-500h600v-160H180v160Zm220 220h160v-160H400v160Zm0 220h160v-160H400v160ZM180-400h160v-160H180v160Zm440 0h160v-160H620v160ZM180-180h160v-160H180v160Zm440 0h160v-160H620v160Z\"/>\n",
              "  </svg>\n",
              "    </button>\n",
              "\n",
              "  <style>\n",
              "    .colab-df-container {\n",
              "      display:flex;\n",
              "      gap: 12px;\n",
              "    }\n",
              "\n",
              "    .colab-df-convert {\n",
              "      background-color: #E8F0FE;\n",
              "      border: none;\n",
              "      border-radius: 50%;\n",
              "      cursor: pointer;\n",
              "      display: none;\n",
              "      fill: #1967D2;\n",
              "      height: 32px;\n",
              "      padding: 0 0 0 0;\n",
              "      width: 32px;\n",
              "    }\n",
              "\n",
              "    .colab-df-convert:hover {\n",
              "      background-color: #E2EBFA;\n",
              "      box-shadow: 0px 1px 2px rgba(60, 64, 67, 0.3), 0px 1px 3px 1px rgba(60, 64, 67, 0.15);\n",
              "      fill: #174EA6;\n",
              "    }\n",
              "\n",
              "    .colab-df-buttons div {\n",
              "      margin-bottom: 4px;\n",
              "    }\n",
              "\n",
              "    [theme=dark] .colab-df-convert {\n",
              "      background-color: #3B4455;\n",
              "      fill: #D2E3FC;\n",
              "    }\n",
              "\n",
              "    [theme=dark] .colab-df-convert:hover {\n",
              "      background-color: #434B5C;\n",
              "      box-shadow: 0px 1px 3px 1px rgba(0, 0, 0, 0.15);\n",
              "      filter: drop-shadow(0px 1px 2px rgba(0, 0, 0, 0.3));\n",
              "      fill: #FFFFFF;\n",
              "    }\n",
              "  </style>\n",
              "\n",
              "    <script>\n",
              "      const buttonEl =\n",
              "        document.querySelector('#df-d66f3916-1d43-4141-9c4d-8461b271ce29 button.colab-df-convert');\n",
              "      buttonEl.style.display =\n",
              "        google.colab.kernel.accessAllowed ? 'block' : 'none';\n",
              "\n",
              "      async function convertToInteractive(key) {\n",
              "        const element = document.querySelector('#df-d66f3916-1d43-4141-9c4d-8461b271ce29');\n",
              "        const dataTable =\n",
              "          await google.colab.kernel.invokeFunction('convertToInteractive',\n",
              "                                                    [key], {});\n",
              "        if (!dataTable) return;\n",
              "\n",
              "        const docLinkHtml = 'Like what you see? Visit the ' +\n",
              "          '<a target=\"_blank\" href=https://colab.research.google.com/notebooks/data_table.ipynb>data table notebook</a>'\n",
              "          + ' to learn more about interactive tables.';\n",
              "        element.innerHTML = '';\n",
              "        dataTable['output_type'] = 'display_data';\n",
              "        await google.colab.output.renderOutput(dataTable, element);\n",
              "        const docLink = document.createElement('div');\n",
              "        docLink.innerHTML = docLinkHtml;\n",
              "        element.appendChild(docLink);\n",
              "      }\n",
              "    </script>\n",
              "  </div>\n",
              "\n",
              "\n",
              "<div id=\"df-a6f85e45-820f-4ba9-9cfb-e4d17835cef1\">\n",
              "  <button class=\"colab-df-quickchart\" onclick=\"quickchart('df-a6f85e45-820f-4ba9-9cfb-e4d17835cef1')\"\n",
              "            title=\"Suggest charts.\"\n",
              "            style=\"display:none;\">\n",
              "\n",
              "<svg xmlns=\"http://www.w3.org/2000/svg\" height=\"24px\"viewBox=\"0 0 24 24\"\n",
              "     width=\"24px\">\n",
              "    <g>\n",
              "        <path d=\"M19 3H5c-1.1 0-2 .9-2 2v14c0 1.1.9 2 2 2h14c1.1 0 2-.9 2-2V5c0-1.1-.9-2-2-2zM9 17H7v-7h2v7zm4 0h-2V7h2v10zm4 0h-2v-4h2v4z\"/>\n",
              "    </g>\n",
              "</svg>\n",
              "  </button>\n",
              "\n",
              "<style>\n",
              "  .colab-df-quickchart {\n",
              "      --bg-color: #E8F0FE;\n",
              "      --fill-color: #1967D2;\n",
              "      --hover-bg-color: #E2EBFA;\n",
              "      --hover-fill-color: #174EA6;\n",
              "      --disabled-fill-color: #AAA;\n",
              "      --disabled-bg-color: #DDD;\n",
              "  }\n",
              "\n",
              "  [theme=dark] .colab-df-quickchart {\n",
              "      --bg-color: #3B4455;\n",
              "      --fill-color: #D2E3FC;\n",
              "      --hover-bg-color: #434B5C;\n",
              "      --hover-fill-color: #FFFFFF;\n",
              "      --disabled-bg-color: #3B4455;\n",
              "      --disabled-fill-color: #666;\n",
              "  }\n",
              "\n",
              "  .colab-df-quickchart {\n",
              "    background-color: var(--bg-color);\n",
              "    border: none;\n",
              "    border-radius: 50%;\n",
              "    cursor: pointer;\n",
              "    display: none;\n",
              "    fill: var(--fill-color);\n",
              "    height: 32px;\n",
              "    padding: 0;\n",
              "    width: 32px;\n",
              "  }\n",
              "\n",
              "  .colab-df-quickchart:hover {\n",
              "    background-color: var(--hover-bg-color);\n",
              "    box-shadow: 0 1px 2px rgba(60, 64, 67, 0.3), 0 1px 3px 1px rgba(60, 64, 67, 0.15);\n",
              "    fill: var(--button-hover-fill-color);\n",
              "  }\n",
              "\n",
              "  .colab-df-quickchart-complete:disabled,\n",
              "  .colab-df-quickchart-complete:disabled:hover {\n",
              "    background-color: var(--disabled-bg-color);\n",
              "    fill: var(--disabled-fill-color);\n",
              "    box-shadow: none;\n",
              "  }\n",
              "\n",
              "  .colab-df-spinner {\n",
              "    border: 2px solid var(--fill-color);\n",
              "    border-color: transparent;\n",
              "    border-bottom-color: var(--fill-color);\n",
              "    animation:\n",
              "      spin 1s steps(1) infinite;\n",
              "  }\n",
              "\n",
              "  @keyframes spin {\n",
              "    0% {\n",
              "      border-color: transparent;\n",
              "      border-bottom-color: var(--fill-color);\n",
              "      border-left-color: var(--fill-color);\n",
              "    }\n",
              "    20% {\n",
              "      border-color: transparent;\n",
              "      border-left-color: var(--fill-color);\n",
              "      border-top-color: var(--fill-color);\n",
              "    }\n",
              "    30% {\n",
              "      border-color: transparent;\n",
              "      border-left-color: var(--fill-color);\n",
              "      border-top-color: var(--fill-color);\n",
              "      border-right-color: var(--fill-color);\n",
              "    }\n",
              "    40% {\n",
              "      border-color: transparent;\n",
              "      border-right-color: var(--fill-color);\n",
              "      border-top-color: var(--fill-color);\n",
              "    }\n",
              "    60% {\n",
              "      border-color: transparent;\n",
              "      border-right-color: var(--fill-color);\n",
              "    }\n",
              "    80% {\n",
              "      border-color: transparent;\n",
              "      border-right-color: var(--fill-color);\n",
              "      border-bottom-color: var(--fill-color);\n",
              "    }\n",
              "    90% {\n",
              "      border-color: transparent;\n",
              "      border-bottom-color: var(--fill-color);\n",
              "    }\n",
              "  }\n",
              "</style>\n",
              "\n",
              "  <script>\n",
              "    async function quickchart(key) {\n",
              "      const quickchartButtonEl =\n",
              "        document.querySelector('#' + key + ' button');\n",
              "      quickchartButtonEl.disabled = true;  // To prevent multiple clicks.\n",
              "      quickchartButtonEl.classList.add('colab-df-spinner');\n",
              "      try {\n",
              "        const charts = await google.colab.kernel.invokeFunction(\n",
              "            'suggestCharts', [key], {});\n",
              "      } catch (error) {\n",
              "        console.error('Error during call to suggestCharts:', error);\n",
              "      }\n",
              "      quickchartButtonEl.classList.remove('colab-df-spinner');\n",
              "      quickchartButtonEl.classList.add('colab-df-quickchart-complete');\n",
              "    }\n",
              "    (() => {\n",
              "      let quickchartButtonEl =\n",
              "        document.querySelector('#df-a6f85e45-820f-4ba9-9cfb-e4d17835cef1 button');\n",
              "      quickchartButtonEl.style.display =\n",
              "        google.colab.kernel.accessAllowed ? 'block' : 'none';\n",
              "    })();\n",
              "  </script>\n",
              "</div>\n",
              "    </div>\n",
              "  </div>\n"
            ]
          },
          "metadata": {},
          "execution_count": 113
        }
      ]
    },
    {
      "cell_type": "code",
      "source": [
        "scaler = StandardScaler()\n",
        "stand_coef_linear_reg = make_pipeline(scaler, model)\n",
        "stand_coef_linear_reg.fit(X, y)"
      ],
      "metadata": {
        "colab": {
          "base_uri": "https://localhost:8080/",
          "height": 124
        },
        "id": "4Dh65BfCCDzI",
        "outputId": "a7ec19fe-7d0d-4254-b59c-0acab8dd0cd4"
      },
      "execution_count": 114,
      "outputs": [
        {
          "output_type": "execute_result",
          "data": {
            "text/plain": [
              "Pipeline(steps=[('standardscaler', StandardScaler()),\n",
              "                ('linearregression', LinearRegression())])"
            ],
            "text/html": [
              "<style>#sk-container-id-12 {color: black;background-color: white;}#sk-container-id-12 pre{padding: 0;}#sk-container-id-12 div.sk-toggleable {background-color: white;}#sk-container-id-12 label.sk-toggleable__label {cursor: pointer;display: block;width: 100%;margin-bottom: 0;padding: 0.3em;box-sizing: border-box;text-align: center;}#sk-container-id-12 label.sk-toggleable__label-arrow:before {content: \"▸\";float: left;margin-right: 0.25em;color: #696969;}#sk-container-id-12 label.sk-toggleable__label-arrow:hover:before {color: black;}#sk-container-id-12 div.sk-estimator:hover label.sk-toggleable__label-arrow:before {color: black;}#sk-container-id-12 div.sk-toggleable__content {max-height: 0;max-width: 0;overflow: hidden;text-align: left;background-color: #f0f8ff;}#sk-container-id-12 div.sk-toggleable__content pre {margin: 0.2em;color: black;border-radius: 0.25em;background-color: #f0f8ff;}#sk-container-id-12 input.sk-toggleable__control:checked~div.sk-toggleable__content {max-height: 200px;max-width: 100%;overflow: auto;}#sk-container-id-12 input.sk-toggleable__control:checked~label.sk-toggleable__label-arrow:before {content: \"▾\";}#sk-container-id-12 div.sk-estimator input.sk-toggleable__control:checked~label.sk-toggleable__label {background-color: #d4ebff;}#sk-container-id-12 div.sk-label input.sk-toggleable__control:checked~label.sk-toggleable__label {background-color: #d4ebff;}#sk-container-id-12 input.sk-hidden--visually {border: 0;clip: rect(1px 1px 1px 1px);clip: rect(1px, 1px, 1px, 1px);height: 1px;margin: -1px;overflow: hidden;padding: 0;position: absolute;width: 1px;}#sk-container-id-12 div.sk-estimator {font-family: monospace;background-color: #f0f8ff;border: 1px dotted black;border-radius: 0.25em;box-sizing: border-box;margin-bottom: 0.5em;}#sk-container-id-12 div.sk-estimator:hover {background-color: #d4ebff;}#sk-container-id-12 div.sk-parallel-item::after {content: \"\";width: 100%;border-bottom: 1px solid gray;flex-grow: 1;}#sk-container-id-12 div.sk-label:hover label.sk-toggleable__label {background-color: #d4ebff;}#sk-container-id-12 div.sk-serial::before {content: \"\";position: absolute;border-left: 1px solid gray;box-sizing: border-box;top: 0;bottom: 0;left: 50%;z-index: 0;}#sk-container-id-12 div.sk-serial {display: flex;flex-direction: column;align-items: center;background-color: white;padding-right: 0.2em;padding-left: 0.2em;position: relative;}#sk-container-id-12 div.sk-item {position: relative;z-index: 1;}#sk-container-id-12 div.sk-parallel {display: flex;align-items: stretch;justify-content: center;background-color: white;position: relative;}#sk-container-id-12 div.sk-item::before, #sk-container-id-12 div.sk-parallel-item::before {content: \"\";position: absolute;border-left: 1px solid gray;box-sizing: border-box;top: 0;bottom: 0;left: 50%;z-index: -1;}#sk-container-id-12 div.sk-parallel-item {display: flex;flex-direction: column;z-index: 1;position: relative;background-color: white;}#sk-container-id-12 div.sk-parallel-item:first-child::after {align-self: flex-end;width: 50%;}#sk-container-id-12 div.sk-parallel-item:last-child::after {align-self: flex-start;width: 50%;}#sk-container-id-12 div.sk-parallel-item:only-child::after {width: 0;}#sk-container-id-12 div.sk-dashed-wrapped {border: 1px dashed gray;margin: 0 0.4em 0.5em 0.4em;box-sizing: border-box;padding-bottom: 0.4em;background-color: white;}#sk-container-id-12 div.sk-label label {font-family: monospace;font-weight: bold;display: inline-block;line-height: 1.2em;}#sk-container-id-12 div.sk-label-container {text-align: center;}#sk-container-id-12 div.sk-container {/* jupyter's `normalize.less` sets `[hidden] { display: none; }` but bootstrap.min.css set `[hidden] { display: none !important; }` so we also need the `!important` here to be able to override the default hidden behavior on the sphinx rendered scikit-learn.org. See: https://github.com/scikit-learn/scikit-learn/issues/21755 */display: inline-block !important;position: relative;}#sk-container-id-12 div.sk-text-repr-fallback {display: none;}</style><div id=\"sk-container-id-12\" class=\"sk-top-container\"><div class=\"sk-text-repr-fallback\"><pre>Pipeline(steps=[(&#x27;standardscaler&#x27;, StandardScaler()),\n",
              "                (&#x27;linearregression&#x27;, LinearRegression())])</pre><b>In a Jupyter environment, please rerun this cell to show the HTML representation or trust the notebook. <br />On GitHub, the HTML representation is unable to render, please try loading this page with nbviewer.org.</b></div><div class=\"sk-container\" hidden><div class=\"sk-item sk-dashed-wrapped\"><div class=\"sk-label-container\"><div class=\"sk-label sk-toggleable\"><input class=\"sk-toggleable__control sk-hidden--visually\" id=\"sk-estimator-id-20\" type=\"checkbox\" ><label for=\"sk-estimator-id-20\" class=\"sk-toggleable__label sk-toggleable__label-arrow\">Pipeline</label><div class=\"sk-toggleable__content\"><pre>Pipeline(steps=[(&#x27;standardscaler&#x27;, StandardScaler()),\n",
              "                (&#x27;linearregression&#x27;, LinearRegression())])</pre></div></div></div><div class=\"sk-serial\"><div class=\"sk-item\"><div class=\"sk-estimator sk-toggleable\"><input class=\"sk-toggleable__control sk-hidden--visually\" id=\"sk-estimator-id-21\" type=\"checkbox\" ><label for=\"sk-estimator-id-21\" class=\"sk-toggleable__label sk-toggleable__label-arrow\">StandardScaler</label><div class=\"sk-toggleable__content\"><pre>StandardScaler()</pre></div></div></div><div class=\"sk-item\"><div class=\"sk-estimator sk-toggleable\"><input class=\"sk-toggleable__control sk-hidden--visually\" id=\"sk-estimator-id-22\" type=\"checkbox\" ><label for=\"sk-estimator-id-22\" class=\"sk-toggleable__label sk-toggleable__label-arrow\">LinearRegression</label><div class=\"sk-toggleable__content\"><pre>LinearRegression()</pre></div></div></div></div></div></div></div>"
            ]
          },
          "metadata": {},
          "execution_count": 114
        }
      ]
    },
    {
      "cell_type": "code",
      "source": [
        "# standardizing the variables so that the values are converted to lie between -3 and +3\n",
        "result = pd.DataFrame(list(zip(stand_coef_linear_reg.steps[1][1].coef_, df.columns)),\n",
        "                     columns=['coefficient', 'name']).set_index('name')\n",
        "np.abs(result).sort_values('coefficient', ascending=False)"
      ],
      "metadata": {
        "colab": {
          "base_uri": "https://localhost:8080/",
          "height": 390
        },
        "id": "ptfdXyFmCD1p",
        "outputId": "23ab62b5-2f79-4c6a-a33b-1abf060e6d22"
      },
      "execution_count": 115,
      "outputs": [
        {
          "output_type": "execute_result",
          "data": {
            "text/plain": [
              "         coefficient\n",
              "name                \n",
              "Mtemp      18.841949\n",
              "Cool        6.079810\n",
              "NO2         4.894999\n",
              "Heat        3.171047\n",
              "Ltemp       2.831202\n",
              "NO          2.340429\n",
              "PM2.5       2.036190\n",
              "Htemp       1.377253\n",
              "WMSpeed     0.985522\n",
              "Rain        0.429305"
            ],
            "text/html": [
              "\n",
              "  <div id=\"df-9af734d7-44f3-4b07-8e9d-2b70bee750c0\" class=\"colab-df-container\">\n",
              "    <div>\n",
              "<style scoped>\n",
              "    .dataframe tbody tr th:only-of-type {\n",
              "        vertical-align: middle;\n",
              "    }\n",
              "\n",
              "    .dataframe tbody tr th {\n",
              "        vertical-align: top;\n",
              "    }\n",
              "\n",
              "    .dataframe thead th {\n",
              "        text-align: right;\n",
              "    }\n",
              "</style>\n",
              "<table border=\"1\" class=\"dataframe\">\n",
              "  <thead>\n",
              "    <tr style=\"text-align: right;\">\n",
              "      <th></th>\n",
              "      <th>coefficient</th>\n",
              "    </tr>\n",
              "    <tr>\n",
              "      <th>name</th>\n",
              "      <th></th>\n",
              "    </tr>\n",
              "  </thead>\n",
              "  <tbody>\n",
              "    <tr>\n",
              "      <th>Mtemp</th>\n",
              "      <td>18.841949</td>\n",
              "    </tr>\n",
              "    <tr>\n",
              "      <th>Cool</th>\n",
              "      <td>6.079810</td>\n",
              "    </tr>\n",
              "    <tr>\n",
              "      <th>NO2</th>\n",
              "      <td>4.894999</td>\n",
              "    </tr>\n",
              "    <tr>\n",
              "      <th>Heat</th>\n",
              "      <td>3.171047</td>\n",
              "    </tr>\n",
              "    <tr>\n",
              "      <th>Ltemp</th>\n",
              "      <td>2.831202</td>\n",
              "    </tr>\n",
              "    <tr>\n",
              "      <th>NO</th>\n",
              "      <td>2.340429</td>\n",
              "    </tr>\n",
              "    <tr>\n",
              "      <th>PM2.5</th>\n",
              "      <td>2.036190</td>\n",
              "    </tr>\n",
              "    <tr>\n",
              "      <th>Htemp</th>\n",
              "      <td>1.377253</td>\n",
              "    </tr>\n",
              "    <tr>\n",
              "      <th>WMSpeed</th>\n",
              "      <td>0.985522</td>\n",
              "    </tr>\n",
              "    <tr>\n",
              "      <th>Rain</th>\n",
              "      <td>0.429305</td>\n",
              "    </tr>\n",
              "  </tbody>\n",
              "</table>\n",
              "</div>\n",
              "    <div class=\"colab-df-buttons\">\n",
              "\n",
              "  <div class=\"colab-df-container\">\n",
              "    <button class=\"colab-df-convert\" onclick=\"convertToInteractive('df-9af734d7-44f3-4b07-8e9d-2b70bee750c0')\"\n",
              "            title=\"Convert this dataframe to an interactive table.\"\n",
              "            style=\"display:none;\">\n",
              "\n",
              "  <svg xmlns=\"http://www.w3.org/2000/svg\" height=\"24px\" viewBox=\"0 -960 960 960\">\n",
              "    <path d=\"M120-120v-720h720v720H120Zm60-500h600v-160H180v160Zm220 220h160v-160H400v160Zm0 220h160v-160H400v160ZM180-400h160v-160H180v160Zm440 0h160v-160H620v160ZM180-180h160v-160H180v160Zm440 0h160v-160H620v160Z\"/>\n",
              "  </svg>\n",
              "    </button>\n",
              "\n",
              "  <style>\n",
              "    .colab-df-container {\n",
              "      display:flex;\n",
              "      gap: 12px;\n",
              "    }\n",
              "\n",
              "    .colab-df-convert {\n",
              "      background-color: #E8F0FE;\n",
              "      border: none;\n",
              "      border-radius: 50%;\n",
              "      cursor: pointer;\n",
              "      display: none;\n",
              "      fill: #1967D2;\n",
              "      height: 32px;\n",
              "      padding: 0 0 0 0;\n",
              "      width: 32px;\n",
              "    }\n",
              "\n",
              "    .colab-df-convert:hover {\n",
              "      background-color: #E2EBFA;\n",
              "      box-shadow: 0px 1px 2px rgba(60, 64, 67, 0.3), 0px 1px 3px 1px rgba(60, 64, 67, 0.15);\n",
              "      fill: #174EA6;\n",
              "    }\n",
              "\n",
              "    .colab-df-buttons div {\n",
              "      margin-bottom: 4px;\n",
              "    }\n",
              "\n",
              "    [theme=dark] .colab-df-convert {\n",
              "      background-color: #3B4455;\n",
              "      fill: #D2E3FC;\n",
              "    }\n",
              "\n",
              "    [theme=dark] .colab-df-convert:hover {\n",
              "      background-color: #434B5C;\n",
              "      box-shadow: 0px 1px 3px 1px rgba(0, 0, 0, 0.15);\n",
              "      filter: drop-shadow(0px 1px 2px rgba(0, 0, 0, 0.3));\n",
              "      fill: #FFFFFF;\n",
              "    }\n",
              "  </style>\n",
              "\n",
              "    <script>\n",
              "      const buttonEl =\n",
              "        document.querySelector('#df-9af734d7-44f3-4b07-8e9d-2b70bee750c0 button.colab-df-convert');\n",
              "      buttonEl.style.display =\n",
              "        google.colab.kernel.accessAllowed ? 'block' : 'none';\n",
              "\n",
              "      async function convertToInteractive(key) {\n",
              "        const element = document.querySelector('#df-9af734d7-44f3-4b07-8e9d-2b70bee750c0');\n",
              "        const dataTable =\n",
              "          await google.colab.kernel.invokeFunction('convertToInteractive',\n",
              "                                                    [key], {});\n",
              "        if (!dataTable) return;\n",
              "\n",
              "        const docLinkHtml = 'Like what you see? Visit the ' +\n",
              "          '<a target=\"_blank\" href=https://colab.research.google.com/notebooks/data_table.ipynb>data table notebook</a>'\n",
              "          + ' to learn more about interactive tables.';\n",
              "        element.innerHTML = '';\n",
              "        dataTable['output_type'] = 'display_data';\n",
              "        await google.colab.output.renderOutput(dataTable, element);\n",
              "        const docLink = document.createElement('div');\n",
              "        docLink.innerHTML = docLinkHtml;\n",
              "        element.appendChild(docLink);\n",
              "      }\n",
              "    </script>\n",
              "  </div>\n",
              "\n",
              "\n",
              "<div id=\"df-092991cd-b106-4249-9264-9e20a22dca3b\">\n",
              "  <button class=\"colab-df-quickchart\" onclick=\"quickchart('df-092991cd-b106-4249-9264-9e20a22dca3b')\"\n",
              "            title=\"Suggest charts.\"\n",
              "            style=\"display:none;\">\n",
              "\n",
              "<svg xmlns=\"http://www.w3.org/2000/svg\" height=\"24px\"viewBox=\"0 0 24 24\"\n",
              "     width=\"24px\">\n",
              "    <g>\n",
              "        <path d=\"M19 3H5c-1.1 0-2 .9-2 2v14c0 1.1.9 2 2 2h14c1.1 0 2-.9 2-2V5c0-1.1-.9-2-2-2zM9 17H7v-7h2v7zm4 0h-2V7h2v10zm4 0h-2v-4h2v4z\"/>\n",
              "    </g>\n",
              "</svg>\n",
              "  </button>\n",
              "\n",
              "<style>\n",
              "  .colab-df-quickchart {\n",
              "      --bg-color: #E8F0FE;\n",
              "      --fill-color: #1967D2;\n",
              "      --hover-bg-color: #E2EBFA;\n",
              "      --hover-fill-color: #174EA6;\n",
              "      --disabled-fill-color: #AAA;\n",
              "      --disabled-bg-color: #DDD;\n",
              "  }\n",
              "\n",
              "  [theme=dark] .colab-df-quickchart {\n",
              "      --bg-color: #3B4455;\n",
              "      --fill-color: #D2E3FC;\n",
              "      --hover-bg-color: #434B5C;\n",
              "      --hover-fill-color: #FFFFFF;\n",
              "      --disabled-bg-color: #3B4455;\n",
              "      --disabled-fill-color: #666;\n",
              "  }\n",
              "\n",
              "  .colab-df-quickchart {\n",
              "    background-color: var(--bg-color);\n",
              "    border: none;\n",
              "    border-radius: 50%;\n",
              "    cursor: pointer;\n",
              "    display: none;\n",
              "    fill: var(--fill-color);\n",
              "    height: 32px;\n",
              "    padding: 0;\n",
              "    width: 32px;\n",
              "  }\n",
              "\n",
              "  .colab-df-quickchart:hover {\n",
              "    background-color: var(--hover-bg-color);\n",
              "    box-shadow: 0 1px 2px rgba(60, 64, 67, 0.3), 0 1px 3px 1px rgba(60, 64, 67, 0.15);\n",
              "    fill: var(--button-hover-fill-color);\n",
              "  }\n",
              "\n",
              "  .colab-df-quickchart-complete:disabled,\n",
              "  .colab-df-quickchart-complete:disabled:hover {\n",
              "    background-color: var(--disabled-bg-color);\n",
              "    fill: var(--disabled-fill-color);\n",
              "    box-shadow: none;\n",
              "  }\n",
              "\n",
              "  .colab-df-spinner {\n",
              "    border: 2px solid var(--fill-color);\n",
              "    border-color: transparent;\n",
              "    border-bottom-color: var(--fill-color);\n",
              "    animation:\n",
              "      spin 1s steps(1) infinite;\n",
              "  }\n",
              "\n",
              "  @keyframes spin {\n",
              "    0% {\n",
              "      border-color: transparent;\n",
              "      border-bottom-color: var(--fill-color);\n",
              "      border-left-color: var(--fill-color);\n",
              "    }\n",
              "    20% {\n",
              "      border-color: transparent;\n",
              "      border-left-color: var(--fill-color);\n",
              "      border-top-color: var(--fill-color);\n",
              "    }\n",
              "    30% {\n",
              "      border-color: transparent;\n",
              "      border-left-color: var(--fill-color);\n",
              "      border-top-color: var(--fill-color);\n",
              "      border-right-color: var(--fill-color);\n",
              "    }\n",
              "    40% {\n",
              "      border-color: transparent;\n",
              "      border-right-color: var(--fill-color);\n",
              "      border-top-color: var(--fill-color);\n",
              "    }\n",
              "    60% {\n",
              "      border-color: transparent;\n",
              "      border-right-color: var(--fill-color);\n",
              "    }\n",
              "    80% {\n",
              "      border-color: transparent;\n",
              "      border-right-color: var(--fill-color);\n",
              "      border-bottom-color: var(--fill-color);\n",
              "    }\n",
              "    90% {\n",
              "      border-color: transparent;\n",
              "      border-bottom-color: var(--fill-color);\n",
              "    }\n",
              "  }\n",
              "</style>\n",
              "\n",
              "  <script>\n",
              "    async function quickchart(key) {\n",
              "      const quickchartButtonEl =\n",
              "        document.querySelector('#' + key + ' button');\n",
              "      quickchartButtonEl.disabled = true;  // To prevent multiple clicks.\n",
              "      quickchartButtonEl.classList.add('colab-df-spinner');\n",
              "      try {\n",
              "        const charts = await google.colab.kernel.invokeFunction(\n",
              "            'suggestCharts', [key], {});\n",
              "      } catch (error) {\n",
              "        console.error('Error during call to suggestCharts:', error);\n",
              "      }\n",
              "      quickchartButtonEl.classList.remove('colab-df-spinner');\n",
              "      quickchartButtonEl.classList.add('colab-df-quickchart-complete');\n",
              "    }\n",
              "    (() => {\n",
              "      let quickchartButtonEl =\n",
              "        document.querySelector('#df-092991cd-b106-4249-9264-9e20a22dca3b button');\n",
              "      quickchartButtonEl.style.display =\n",
              "        google.colab.kernel.accessAllowed ? 'block' : 'none';\n",
              "    })();\n",
              "  </script>\n",
              "</div>\n",
              "    </div>\n",
              "  </div>\n"
            ]
          },
          "metadata": {},
          "execution_count": 115
        }
      ]
    },
    {
      "cell_type": "code",
      "source": [
        "# creating training and testing data\n",
        "X_train, X_test, y_train, y_test = train_test_split(X, y, test_size=0.3, random_state=0)"
      ],
      "metadata": {
        "id": "MKaMcVWdCRxf"
      },
      "execution_count": 150,
      "outputs": []
    },
    {
      "cell_type": "code",
      "source": [
        "import numpy as np\n",
        "import pandas as pd\n",
        "from sklearn.model_selection import train_test_split, RandomizedSearchCV\n",
        "from sklearn.ensemble import RandomForestRegressor\n",
        "from sklearn.metrics import mean_squared_error, r2_score\n",
        "import matplotlib.pyplot as plt\n",
        "\n",
        "# Load your dataset or use a suitable dataset for regression\n",
        "# For the purpose of this example, I'll generate a random dataset\n",
        "np.random.seed(42)\n",
        "X = 2 * np.random.rand(100, 1)\n",
        "y = 4 + 3 * X + np.random.randn(100, 1)\n",
        "\n",
        "# Split the data into training and testing sets\n",
        "X_train, X_test, y_train, y_test = train_test_split(X, y, test_size=0.2, random_state=42)\n",
        "\n",
        "# Define an expanded hyperparameter search space\n",
        "param_dist = {\n",
        "    'n_estimators': [int(x) for x in np.linspace(start=10, stop=500, num=20)],  # Expanded range\n",
        "    'max_depth': [None] + [int(x) for x in np.linspace(5, 50, num=20)],  # Expanded range\n",
        "    'min_samples_split': [2, 5, 10, 15, 20],  # Existing hyperparameter\n",
        "    'min_samples_leaf': [1, 2, 4, 8, 16],  # New hyperparameter\n",
        "    'max_features': ['auto', 'sqrt', 'log2'],  # Existing hyperparameter\n",
        "    'bootstrap': [True, False],  # New hyperparameter\n",
        "}\n",
        "\n",
        "# Create a RandomForestRegressor model\n",
        "model = RandomForestRegressor()\n",
        "\n",
        "# Perform Randomized Search with cross-validation\n",
        "random_search = RandomizedSearchCV(\n",
        "    model,\n",
        "    param_distributions=param_dist,\n",
        "    n_iter=20,  # Increase the number of random combinations\n",
        "    cv=5,\n",
        "    scoring='neg_mean_squared_error',\n",
        "    random_state=42,\n",
        "    n_jobs=-1,\n",
        ")\n",
        "\n",
        "# Fit the model to the training data\n",
        "random_search.fit(X_train, y_train)\n",
        "\n",
        "# Get the best hyperparameters\n",
        "best_params = random_search.best_params_\n",
        "print(\"Best Hyperparameters:\", best_params)\n",
        "\n",
        "# Make predictions on the test set using the best model\n",
        "best_model = random_search.best_estimator_\n",
        "predictions = best_model.predict(X_test)\n",
        "\n",
        "# Evaluate the model\n",
        "mse = mean_squared_error(y_test, predictions)\n",
        "r_squared = r2_score(y_test, predictions)\n",
        "\n",
        "# Display R^2 on the plot\n",
        "plt.text(np.min(y_test), np.max(predictions), f'R^2 = {r_squared:.4f}', fontsize=12, verticalalignment='top')\n",
        "plt.scatter(y_test, predictions)\n",
        "plt.show()\n",
        "\n",
        "# Additional metrics\n",
        "print('Mean Squared Error on Test Set:', mse)\n",
        "print('R^2 (coefficient of determination):', r_squared)\n",
        "print('Mean Absolute Error (MAE):', np.mean(np.abs(predictions - y_test)))\n",
        "print('Mean Squared Error (MSE):', mse)\n",
        "print('Root Mean Squared Error (RMSE):', np.sqrt(mse))\n"
      ],
      "metadata": {
        "id": "RnM_djlTeYWR",
        "outputId": "140e8706-00e7-4657-c1a2-b336ad813864",
        "colab": {
          "base_uri": "https://localhost:8080/",
          "height": 552
        }
      },
      "execution_count": 171,
      "outputs": [
        {
          "output_type": "stream",
          "name": "stdout",
          "text": [
            "Best Hyperparameters: {'n_estimators': 138, 'min_samples_split': 15, 'min_samples_leaf': 4, 'max_features': 'auto', 'max_depth': 12, 'bootstrap': True}\n"
          ]
        },
        {
          "output_type": "display_data",
          "data": {
            "text/plain": [
              "<Figure size 640x480 with 1 Axes>"
            ],
            "image/png": "[encoded data removed]"
          },
          "metadata": {}
        },
        {
          "output_type": "stream",
          "name": "stdout",
          "text": [
            "Mean Squared Error on Test Set: 0.676945934218343\n",
            "R^2 (coefficient of determination): 0.800349952337972\n",
            "Mean Absolute Error (MAE): 2.0843736261599046\n",
            "Mean Squared Error (MSE): 0.676945934218343\n",
            "Root Mean Squared Error (RMSE): 0.8227672418237998\n"
          ]
        }
      ]
    },
    {
      "cell_type": "code",
      "source": [
        "lr_model = LinearRegression()\n",
        "lr_model.fit(X_train, y_train)"
      ],
      "metadata": {
        "colab": {
          "base_uri": "https://localhost:8080/",
          "height": 74
        },
        "id": "Th1heJvXCR0B",
        "outputId": "80356a97-d457-4103-dd94-cbdbe8a70d2a"
      },
      "execution_count": 172,
      "outputs": [
        {
          "output_type": "execute_result",
          "data": {
            "text/plain": [
              "LinearRegression()"
            ],
            "text/html": [
              "<style>#sk-container-id-20 {color: black;background-color: white;}#sk-container-id-20 pre{padding: 0;}#sk-container-id-20 div.sk-toggleable {background-color: white;}#sk-container-id-20 label.sk-toggleable__label {cursor: pointer;display: block;width: 100%;margin-bottom: 0;padding: 0.3em;box-sizing: border-box;text-align: center;}#sk-container-id-20 label.sk-toggleable__label-arrow:before {content: \"▸\";float: left;margin-right: 0.25em;color: #696969;}#sk-container-id-20 label.sk-toggleable__label-arrow:hover:before {color: black;}#sk-container-id-20 div.sk-estimator:hover label.sk-toggleable__label-arrow:before {color: black;}#sk-container-id-20 div.sk-toggleable__content {max-height: 0;max-width: 0;overflow: hidden;text-align: left;background-color: #f0f8ff;}#sk-container-id-20 div.sk-toggleable__content pre {margin: 0.2em;color: black;border-radius: 0.25em;background-color: #f0f8ff;}#sk-container-id-20 input.sk-toggleable__control:checked~div.sk-toggleable__content {max-height: 200px;max-width: 100%;overflow: auto;}#sk-container-id-20 input.sk-toggleable__control:checked~label.sk-toggleable__label-arrow:before {content: \"▾\";}#sk-container-id-20 div.sk-estimator input.sk-toggleable__control:checked~label.sk-toggleable__label {background-color: #d4ebff;}#sk-container-id-20 div.sk-label input.sk-toggleable__control:checked~label.sk-toggleable__label {background-color: #d4ebff;}#sk-container-id-20 input.sk-hidden--visually {border: 0;clip: rect(1px 1px 1px 1px);clip: rect(1px, 1px, 1px, 1px);height: 1px;margin: -1px;overflow: hidden;padding: 0;position: absolute;width: 1px;}#sk-container-id-20 div.sk-estimator {font-family: monospace;background-color: #f0f8ff;border: 1px dotted black;border-radius: 0.25em;box-sizing: border-box;margin-bottom: 0.5em;}#sk-container-id-20 div.sk-estimator:hover {background-color: #d4ebff;}#sk-container-id-20 div.sk-parallel-item::after {content: \"\";width: 100%;border-bottom: 1px solid gray;flex-grow: 1;}#sk-container-id-20 div.sk-label:hover label.sk-toggleable__label {background-color: #d4ebff;}#sk-container-id-20 div.sk-serial::before {content: \"\";position: absolute;border-left: 1px solid gray;box-sizing: border-box;top: 0;bottom: 0;left: 50%;z-index: 0;}#sk-container-id-20 div.sk-serial {display: flex;flex-direction: column;align-items: center;background-color: white;padding-right: 0.2em;padding-left: 0.2em;position: relative;}#sk-container-id-20 div.sk-item {position: relative;z-index: 1;}#sk-container-id-20 div.sk-parallel {display: flex;align-items: stretch;justify-content: center;background-color: white;position: relative;}#sk-container-id-20 div.sk-item::before, #sk-container-id-20 div.sk-parallel-item::before {content: \"\";position: absolute;border-left: 1px solid gray;box-sizing: border-box;top: 0;bottom: 0;left: 50%;z-index: -1;}#sk-container-id-20 div.sk-parallel-item {display: flex;flex-direction: column;z-index: 1;position: relative;background-color: white;}#sk-container-id-20 div.sk-parallel-item:first-child::after {align-self: flex-end;width: 50%;}#sk-container-id-20 div.sk-parallel-item:last-child::after {align-self: flex-start;width: 50%;}#sk-container-id-20 div.sk-parallel-item:only-child::after {width: 0;}#sk-container-id-20 div.sk-dashed-wrapped {border: 1px dashed gray;margin: 0 0.4em 0.5em 0.4em;box-sizing: border-box;padding-bottom: 0.4em;background-color: white;}#sk-container-id-20 div.sk-label label {font-family: monospace;font-weight: bold;display: inline-block;line-height: 1.2em;}#sk-container-id-20 div.sk-label-container {text-align: center;}#sk-container-id-20 div.sk-container {/* jupyter's `normalize.less` sets `[hidden] { display: none; }` but bootstrap.min.css set `[hidden] { display: none !important; }` so we also need the `!important` here to be able to override the default hidden behavior on the sphinx rendered scikit-learn.org. See: https://github.com/scikit-learn/scikit-learn/issues/21755 */display: inline-block !important;position: relative;}#sk-container-id-20 div.sk-text-repr-fallback {display: none;}</style><div id=\"sk-container-id-20\" class=\"sk-top-container\"><div class=\"sk-text-repr-fallback\"><pre>LinearRegression()</pre><b>In a Jupyter environment, please rerun this cell to show the HTML representation or trust the notebook. <br />On GitHub, the HTML representation is unable to render, please try loading this page with nbviewer.org.</b></div><div class=\"sk-container\" hidden><div class=\"sk-item\"><div class=\"sk-estimator sk-toggleable\"><input class=\"sk-toggleable__control sk-hidden--visually\" id=\"sk-estimator-id-30\" type=\"checkbox\" checked><label for=\"sk-estimator-id-30\" class=\"sk-toggleable__label sk-toggleable__label-arrow\">LinearRegression</label><div class=\"sk-toggleable__content\"><pre>LinearRegression()</pre></div></div></div></div></div>"
            ]
          },
          "metadata": {},
          "execution_count": 172
        }
      ]
    },
    {
      "cell_type": "code",
      "source": [
        "# coefficient for X and and the y-intercept\n",
        "print('coefficients: ', lr_model.coef_)\n",
        "print('intercept: ', lr_model.intercept_)"
      ],
      "metadata": {
        "colab": {
          "base_uri": "https://localhost:8080/"
        },
        "id": "cshmzBHrCkhz",
        "outputId": "52d11760-974f-4135-8e40-dce5061ba5dc"
      },
      "execution_count": 181,
      "outputs": [
        {
          "output_type": "stream",
          "name": "stdout",
          "text": [
            "coefficients:  [[2.79932366]]\n",
            "intercept:  [4.14291332]\n"
          ]
        }
      ]
    },
    {
      "cell_type": "code",
      "source": [
        "y_train_predictions = best_model.predict(X_train)"
      ],
      "metadata": {
        "id": "_Ywc8DZrCkkv"
      },
      "execution_count": 182,
      "outputs": []
    },
    {
      "cell_type": "code",
      "source": [
        "y_test_predictions = best_model.predict(X_test)"
      ],
      "metadata": {
        "id": "AW3DReVlCknH"
      },
      "execution_count": 184,
      "outputs": []
    },
    {
      "cell_type": "code",
      "source": [
        "sns.distplot(y_test - predictions)"
      ],
      "metadata": {
        "colab": {
          "base_uri": "https://localhost:8080/",
          "height": 447
        },
        "id": "0paJvTCECqSl",
        "outputId": "0bff9962-65c7-4a75-b156-8e08e4f5bf19"
      },
      "execution_count": 187,
      "outputs": [
        {
          "output_type": "execute_result",
          "data": {
            "text/plain": [
              "<Axes: ylabel='Density'>"
            ]
          },
          "metadata": {},
          "execution_count": 187
        },
        {
          "output_type": "display_data",
          "data": {
            "text/plain": [
              "<Figure size 640x480 with 1 Axes>"
            ],
            "image/png": "[encoded data removed]"
          },
          "metadata": {}
        }
      ]
    },
    {
      "cell_type": "code",
      "source": [
        "print('MSE for training data:', metrics.mean_squared_error(y_train, y_train_predictions))\n",
        "print('MSE for training data: ', metrics.mean_squared_error(y_test, predictions))"
      ],
      "metadata": {
        "colab": {
          "base_uri": "https://localhost:8080/"
        },
        "id": "JQJlrgOOCuC3",
        "outputId": "21e943c2-95a9-433f-ec0c-9153633989eb"
      },
      "execution_count": 194,
      "outputs": [
        {
          "output_type": "stream",
          "name": "stdout",
          "text": [
            "MSE for training data: 0.6652907923320232\n",
            "MSE for training data:  0.676945934218343\n"
          ]
        }
      ]
    },
    {
      "cell_type": "code",
      "source": [
        "from sklearn.metrics import r2_score\n",
        "print(\"Coefficient of determination R^2 <-- on train set:\", r2_score(y_train, y_train_predictions))\n",
        "print(\"Coefficient of determination R^2 <-- on test set:\", r2_score(y_test, predictions))"
      ],
      "metadata": {
        "colab": {
          "base_uri": "https://localhost:8080/"
        },
        "id": "hrg_1bCNCuFs",
        "outputId": "12ba9c9a-282c-40cd-9ab5-fe6ab3289bd7"
      },
      "execution_count": 195,
      "outputs": [
        {
          "output_type": "stream",
          "name": "stdout",
          "text": [
            "Coefficient of determination R^2 <-- on train set: 0.8102560156000475\n",
            "Coefficient of determination R^2 <-- on test set: 0.800349952337972\n"
          ]
        }
      ]
    },
    {
      "cell_type": "markdown",
      "source": [
        "## Polynomial Regression"
      ],
      "metadata": {
        "id": "itqvs9FyDi_X"
      }
    },
    {
      "cell_type": "code",
      "source": [
        "from sklearn.preprocessing import PolynomialFeatures"
      ],
      "metadata": {
        "id": "6CrvbcDrDkLU"
      },
      "execution_count": 196,
      "outputs": []
    },
    {
      "cell_type": "code",
      "source": [
        "# Create polynomial features and fit a linear regression model\n",
        "degree = 2\n",
        "polyreg = make_pipeline(PolynomialFeatures(degree), LinearRegression())\n",
        "polyreg.fit(X_train, y_train)"
      ],
      "metadata": {
        "id": "HUFWYL1_DkOF",
        "outputId": "81aa1f9f-3e8a-4fcc-fc18-b4812b558cb1",
        "colab": {
          "base_uri": "https://localhost:8080/",
          "height": 124
        }
      },
      "execution_count": 197,
      "outputs": [
        {
          "output_type": "execute_result",
          "data": {
            "text/plain": [
              "Pipeline(steps=[('polynomialfeatures', PolynomialFeatures()),\n",
              "                ('linearregression', LinearRegression())])"
            ],
            "text/html": [
              "<style>#sk-container-id-21 {color: black;background-color: white;}#sk-container-id-21 pre{padding: 0;}#sk-container-id-21 div.sk-toggleable {background-color: white;}#sk-container-id-21 label.sk-toggleable__label {cursor: pointer;display: block;width: 100%;margin-bottom: 0;padding: 0.3em;box-sizing: border-box;text-align: center;}#sk-container-id-21 label.sk-toggleable__label-arrow:before {content: \"▸\";float: left;margin-right: 0.25em;color: #696969;}#sk-container-id-21 label.sk-toggleable__label-arrow:hover:before {color: black;}#sk-container-id-21 div.sk-estimator:hover label.sk-toggleable__label-arrow:before {color: black;}#sk-container-id-21 div.sk-toggleable__content {max-height: 0;max-width: 0;overflow: hidden;text-align: left;background-color: #f0f8ff;}#sk-container-id-21 div.sk-toggleable__content pre {margin: 0.2em;color: black;border-radius: 0.25em;background-color: #f0f8ff;}#sk-container-id-21 input.sk-toggleable__control:checked~div.sk-toggleable__content {max-height: 200px;max-width: 100%;overflow: auto;}#sk-container-id-21 input.sk-toggleable__control:checked~label.sk-toggleable__label-arrow:before {content: \"▾\";}#sk-container-id-21 div.sk-estimator input.sk-toggleable__control:checked~label.sk-toggleable__label {background-color: #d4ebff;}#sk-container-id-21 div.sk-label input.sk-toggleable__control:checked~label.sk-toggleable__label {background-color: #d4ebff;}#sk-container-id-21 input.sk-hidden--visually {border: 0;clip: rect(1px 1px 1px 1px);clip: rect(1px, 1px, 1px, 1px);height: 1px;margin: -1px;overflow: hidden;padding: 0;position: absolute;width: 1px;}#sk-container-id-21 div.sk-estimator {font-family: monospace;background-color: #f0f8ff;border: 1px dotted black;border-radius: 0.25em;box-sizing: border-box;margin-bottom: 0.5em;}#sk-container-id-21 div.sk-estimator:hover {background-color: #d4ebff;}#sk-container-id-21 div.sk-parallel-item::after {content: \"\";width: 100%;border-bottom: 1px solid gray;flex-grow: 1;}#sk-container-id-21 div.sk-label:hover label.sk-toggleable__label {background-color: #d4ebff;}#sk-container-id-21 div.sk-serial::before {content: \"\";position: absolute;border-left: 1px solid gray;box-sizing: border-box;top: 0;bottom: 0;left: 50%;z-index: 0;}#sk-container-id-21 div.sk-serial {display: flex;flex-direction: column;align-items: center;background-color: white;padding-right: 0.2em;padding-left: 0.2em;position: relative;}#sk-container-id-21 div.sk-item {position: relative;z-index: 1;}#sk-container-id-21 div.sk-parallel {display: flex;align-items: stretch;justify-content: center;background-color: white;position: relative;}#sk-container-id-21 div.sk-item::before, #sk-container-id-21 div.sk-parallel-item::before {content: \"\";position: absolute;border-left: 1px solid gray;box-sizing: border-box;top: 0;bottom: 0;left: 50%;z-index: -1;}#sk-container-id-21 div.sk-parallel-item {display: flex;flex-direction: column;z-index: 1;position: relative;background-color: white;}#sk-container-id-21 div.sk-parallel-item:first-child::after {align-self: flex-end;width: 50%;}#sk-container-id-21 div.sk-parallel-item:last-child::after {align-self: flex-start;width: 50%;}#sk-container-id-21 div.sk-parallel-item:only-child::after {width: 0;}#sk-container-id-21 div.sk-dashed-wrapped {border: 1px dashed gray;margin: 0 0.4em 0.5em 0.4em;box-sizing: border-box;padding-bottom: 0.4em;background-color: white;}#sk-container-id-21 div.sk-label label {font-family: monospace;font-weight: bold;display: inline-block;line-height: 1.2em;}#sk-container-id-21 div.sk-label-container {text-align: center;}#sk-container-id-21 div.sk-container {/* jupyter's `normalize.less` sets `[hidden] { display: none; }` but bootstrap.min.css set `[hidden] { display: none !important; }` so we also need the `!important` here to be able to override the default hidden behavior on the sphinx rendered scikit-learn.org. See: https://github.com/scikit-learn/scikit-learn/issues/21755 */display: inline-block !important;position: relative;}#sk-container-id-21 div.sk-text-repr-fallback {display: none;}</style><div id=\"sk-container-id-21\" class=\"sk-top-container\"><div class=\"sk-text-repr-fallback\"><pre>Pipeline(steps=[(&#x27;polynomialfeatures&#x27;, PolynomialFeatures()),\n",
              "                (&#x27;linearregression&#x27;, LinearRegression())])</pre><b>In a Jupyter environment, please rerun this cell to show the HTML representation or trust the notebook. <br />On GitHub, the HTML representation is unable to render, please try loading this page with nbviewer.org.</b></div><div class=\"sk-container\" hidden><div class=\"sk-item sk-dashed-wrapped\"><div class=\"sk-label-container\"><div class=\"sk-label sk-toggleable\"><input class=\"sk-toggleable__control sk-hidden--visually\" id=\"sk-estimator-id-31\" type=\"checkbox\" ><label for=\"sk-estimator-id-31\" class=\"sk-toggleable__label sk-toggleable__label-arrow\">Pipeline</label><div class=\"sk-toggleable__content\"><pre>Pipeline(steps=[(&#x27;polynomialfeatures&#x27;, PolynomialFeatures()),\n",
              "                (&#x27;linearregression&#x27;, LinearRegression())])</pre></div></div></div><div class=\"sk-serial\"><div class=\"sk-item\"><div class=\"sk-estimator sk-toggleable\"><input class=\"sk-toggleable__control sk-hidden--visually\" id=\"sk-estimator-id-32\" type=\"checkbox\" ><label for=\"sk-estimator-id-32\" class=\"sk-toggleable__label sk-toggleable__label-arrow\">PolynomialFeatures</label><div class=\"sk-toggleable__content\"><pre>PolynomialFeatures()</pre></div></div></div><div class=\"sk-item\"><div class=\"sk-estimator sk-toggleable\"><input class=\"sk-toggleable__control sk-hidden--visually\" id=\"sk-estimator-id-33\" type=\"checkbox\" ><label for=\"sk-estimator-id-33\" class=\"sk-toggleable__label sk-toggleable__label-arrow\">LinearRegression</label><div class=\"sk-toggleable__content\"><pre>LinearRegression()</pre></div></div></div></div></div></div></div>"
            ]
          },
          "metadata": {},
          "execution_count": 197
        }
      ]
    },
    {
      "cell_type": "code",
      "source": [
        "y_pred = polyreg.predict(X_test)"
      ],
      "metadata": {
        "id": "PlTfi-clDpK9"
      },
      "execution_count": 198,
      "outputs": []
    },
    {
      "cell_type": "code",
      "source": [
        "r_square = metrics.r2_score(y_test, y_pred)\n",
        "print('R-Square Error associated with Polynomial Regression is:', r_square)\n",
        "print('MSE for testing data:', metrics.mean_squared_error(y_test, y_pred))"
      ],
      "metadata": {
        "colab": {
          "base_uri": "https://localhost:8080/"
        },
        "id": "79oQBr9IDkRN",
        "outputId": "2c1bd098-e77a-49cc-fb93-5a46233be8ca"
      },
      "execution_count": 199,
      "outputs": [
        {
          "output_type": "stream",
          "name": "stdout",
          "text": [
            "R-Square Error associated with Polynomial Regression is: 0.8124730482414345\n",
            "MSE for testing data: 0.6358406072820808\n"
          ]
        }
      ]
    },
    {
      "cell_type": "code",
      "source": [
        "r_squared = r2_score(y_test, y_pred)\n",
        "\n",
        "# Display R^2 on the plot\n",
        "plt.text(np.min(y_test), np.max(y_pred), f'R^2 = {r_squared:.4f}', fontsize=12, verticalalignment='top')\n",
        "plt.scatter(y_test, y_pred)\n",
        "plt.show()\n",
        "print('MAE:', metrics.mean_absolute_error(y_test, y_pred))\n",
        "print('MSE:', metrics.mean_squared_error(y_test, y_pred))\n",
        "print('RMSE:', np.sqrt(metrics.mean_squared_error(y_test, y_pred)))"
      ],
      "metadata": {
        "id": "MAEbHg1cjtL8",
        "outputId": "9b87b0c8-7b95-46f7-ad23-97e608a8b8b4",
        "colab": {
          "base_uri": "https://localhost:8080/",
          "height": 485
        }
      },
      "execution_count": 200,
      "outputs": [
        {
          "output_type": "display_data",
          "data": {
            "text/plain": [
              "<Figure size 640x480 with 1 Axes>"
            ],
            "image/png": "[encoded data removed]"
          },
          "metadata": {}
        },
        {
          "output_type": "stream",
          "name": "stdout",
          "text": [
            "MAE: 0.5779981779496953\n",
            "MSE: 0.6358406072820808\n",
            "RMSE: 0.7973961420035093\n"
          ]
        }
      ]
    },
    {
      "cell_type": "markdown",
      "source": [
        "## Lasso Regression"
      ],
      "metadata": {
        "id": "j9E7h3h4Dy6x"
      }
    },
    {
      "cell_type": "code",
      "source": [
        "from sklearn.linear_model import Lasso\n",
        "from sklearn.model_selection import GridSearchCV"
      ],
      "metadata": {
        "id": "FlzOgHS-DzGl"
      },
      "execution_count": 201,
      "outputs": []
    },
    {
      "cell_type": "code",
      "source": [
        "import warnings\n",
        "warnings.filterwarnings('ignore')\n",
        "warnings.simplefilter('ignore')\n",
        "\n",
        "lasso = Lasso()\n",
        "parameters = {'alpha':[1e-15,1e-10,1e-8,1e-3,1e-2,1,5,10,20,30,35,40]}\n",
        "lasso_regressor = GridSearchCV(lasso, parameters, scoring = 'neg_mean_squared_error', cv = 5)\n",
        "lasso_regressor.fit(X,y)\n",
        "\n",
        "print(lasso_regressor.best_params_)\n",
        "print(lasso_regressor.best_score_)"
      ],
      "metadata": {
        "colab": {
          "base_uri": "https://localhost:8080/"
        },
        "id": "ydVd2BLLDzJt",
        "outputId": "a46f6939-af0b-457d-8b9e-e162fcac939b"
      },
      "execution_count": 202,
      "outputs": [
        {
          "output_type": "stream",
          "name": "stdout",
          "text": [
            "{'alpha': 0.001}\n",
            "-0.8534739668278754\n"
          ]
        }
      ]
    },
    {
      "cell_type": "code",
      "source": [
        "prediction_lasso = lasso_regressor.predict(X_test)"
      ],
      "metadata": {
        "id": "xVFMftYdD68L"
      },
      "execution_count": 203,
      "outputs": []
    },
    {
      "cell_type": "code",
      "source": [
        "sns.distplot(y_test - prediction_lasso)"
      ],
      "metadata": {
        "colab": {
          "base_uri": "https://localhost:8080/",
          "height": 447
        },
        "id": "D9y8DcA1D6-9",
        "outputId": "eb127a6d-8d02-42ed-831c-2ef2c85a1b61"
      },
      "execution_count": 204,
      "outputs": [
        {
          "output_type": "execute_result",
          "data": {
            "text/plain": [
              "<Axes: ylabel='Density'>"
            ]
          },
          "metadata": {},
          "execution_count": 204
        },
        {
          "output_type": "display_data",
          "data": {
            "text/plain": [
              "<Figure size 640x480 with 1 Axes>"
            ],
            "image/png": "[encoded data removed]"
          },
          "metadata": {}
        }
      ]
    },
    {
      "cell_type": "code",
      "source": [
        "r_squared = r2_score(y_test, prediction_lasso)\n",
        "\n",
        "# Display R^2 on the plot\n",
        "plt.text(np.min(y_test), np.max(prediction_lasso), f'R^2 = {r_squared:.4f}', fontsize=12, verticalalignment='top')\n",
        "plt.scatter(y_test, prediction_lasso)\n",
        "plt.show()\n",
        "print('MAE:', metrics.mean_absolute_error(y_test, prediction_lasso))\n",
        "print('MSE:', metrics.mean_squared_error(y_test, prediction_lasso))\n",
        "print('RMSE:', np.sqrt(metrics.mean_squared_error(y_test, prediction_lasso)))"
      ],
      "metadata": {
        "colab": {
          "base_uri": "https://localhost:8080/",
          "height": 481
        },
        "id": "m3vlpyPUD7Be",
        "outputId": "35e2f9c3-a574-4d2b-a9c6-9ab4797648e9"
      },
      "execution_count": 205,
      "outputs": [
        {
          "output_type": "display_data",
          "data": {
            "text/plain": [
              "<Figure size 640x480 with 1 Axes>"
            ],
            "image/png": "[encoded data removed]"
          },
          "metadata": {}
        },
        {
          "output_type": "stream",
          "name": "stdout",
          "text": [
            "MAE: 0.5761877508797569\n",
            "MSE: 0.632781058622915\n",
            "RMSE: 0.795475366446325\n"
          ]
        }
      ]
    },
    {
      "cell_type": "markdown",
      "source": [
        "## Ridge Regression"
      ],
      "metadata": {
        "id": "_LABHmWHEuNa"
      }
    },
    {
      "cell_type": "code",
      "source": [
        "from sklearn.linear_model import Ridge\n",
        "from sklearn.model_selection import GridSearchCV"
      ],
      "metadata": {
        "id": "qofxSDUPEuVg"
      },
      "execution_count": 206,
      "outputs": []
    },
    {
      "cell_type": "code",
      "source": [
        "ridge = Ridge()\n",
        "parameters = {'alpha': [1e-15,1e-10,1e-8,1e-3,1e-2,1,5,10,20,30,35,40]}\n",
        "ridge_regressor = GridSearchCV(ridge, parameters, scoring='neg_mean_squared_error', cv=5)\n",
        "ridge_regressor.fit(X,y)"
      ],
      "metadata": {
        "colab": {
          "base_uri": "https://localhost:8080/",
          "height": 115
        },
        "id": "eu5cxkEZEuXs",
        "outputId": "5329c424-55c1-4553-f586-a34a140b05f0"
      },
      "execution_count": 207,
      "outputs": [
        {
          "output_type": "execute_result",
          "data": {
            "text/plain": [
              "GridSearchCV(cv=5, estimator=Ridge(),\n",
              "             param_grid={'alpha': [1e-15, 1e-10, 1e-08, 0.001, 0.01, 1, 5, 10,\n",
              "                                   20, 30, 35, 40]},\n",
              "             scoring='neg_mean_squared_error')"
            ],
            "text/html": [
              "<style>#sk-container-id-22 {color: black;background-color: white;}#sk-container-id-22 pre{padding: 0;}#sk-container-id-22 div.sk-toggleable {background-color: white;}#sk-container-id-22 label.sk-toggleable__label {cursor: pointer;display: block;width: 100%;margin-bottom: 0;padding: 0.3em;box-sizing: border-box;text-align: center;}#sk-container-id-22 label.sk-toggleable__label-arrow:before {content: \"▸\";float: left;margin-right: 0.25em;color: #696969;}#sk-container-id-22 label.sk-toggleable__label-arrow:hover:before {color: black;}#sk-container-id-22 div.sk-estimator:hover label.sk-toggleable__label-arrow:before {color: black;}#sk-container-id-22 div.sk-toggleable__content {max-height: 0;max-width: 0;overflow: hidden;text-align: left;background-color: #f0f8ff;}#sk-container-id-22 div.sk-toggleable__content pre {margin: 0.2em;color: black;border-radius: 0.25em;background-color: #f0f8ff;}#sk-container-id-22 input.sk-toggleable__control:checked~div.sk-toggleable__content {max-height: 200px;max-width: 100%;overflow: auto;}#sk-container-id-22 input.sk-toggleable__control:checked~label.sk-toggleable__label-arrow:before {content: \"▾\";}#sk-container-id-22 div.sk-estimator input.sk-toggleable__control:checked~label.sk-toggleable__label {background-color: #d4ebff;}#sk-container-id-22 div.sk-label input.sk-toggleable__control:checked~label.sk-toggleable__label {background-color: #d4ebff;}#sk-container-id-22 input.sk-hidden--visually {border: 0;clip: rect(1px 1px 1px 1px);clip: rect(1px, 1px, 1px, 1px);height: 1px;margin: -1px;overflow: hidden;padding: 0;position: absolute;width: 1px;}#sk-container-id-22 div.sk-estimator {font-family: monospace;background-color: #f0f8ff;border: 1px dotted black;border-radius: 0.25em;box-sizing: border-box;margin-bottom: 0.5em;}#sk-container-id-22 div.sk-estimator:hover {background-color: #d4ebff;}#sk-container-id-22 div.sk-parallel-item::after {content: \"\";width: 100%;border-bottom: 1px solid gray;flex-grow: 1;}#sk-container-id-22 div.sk-label:hover label.sk-toggleable__label {background-color: #d4ebff;}#sk-container-id-22 div.sk-serial::before {content: \"\";position: absolute;border-left: 1px solid gray;box-sizing: border-box;top: 0;bottom: 0;left: 50%;z-index: 0;}#sk-container-id-22 div.sk-serial {display: flex;flex-direction: column;align-items: center;background-color: white;padding-right: 0.2em;padding-left: 0.2em;position: relative;}#sk-container-id-22 div.sk-item {position: relative;z-index: 1;}#sk-container-id-22 div.sk-parallel {display: flex;align-items: stretch;justify-content: center;background-color: white;position: relative;}#sk-container-id-22 div.sk-item::before, #sk-container-id-22 div.sk-parallel-item::before {content: \"\";position: absolute;border-left: 1px solid gray;box-sizing: border-box;top: 0;bottom: 0;left: 50%;z-index: -1;}#sk-container-id-22 div.sk-parallel-item {display: flex;flex-direction: column;z-index: 1;position: relative;background-color: white;}#sk-container-id-22 div.sk-parallel-item:first-child::after {align-self: flex-end;width: 50%;}#sk-container-id-22 div.sk-parallel-item:last-child::after {align-self: flex-start;width: 50%;}#sk-container-id-22 div.sk-parallel-item:only-child::after {width: 0;}#sk-container-id-22 div.sk-dashed-wrapped {border: 1px dashed gray;margin: 0 0.4em 0.5em 0.4em;box-sizing: border-box;padding-bottom: 0.4em;background-color: white;}#sk-container-id-22 div.sk-label label {font-family: monospace;font-weight: bold;display: inline-block;line-height: 1.2em;}#sk-container-id-22 div.sk-label-container {text-align: center;}#sk-container-id-22 div.sk-container {/* jupyter's `normalize.less` sets `[hidden] { display: none; }` but bootstrap.min.css set `[hidden] { display: none !important; }` so we also need the `!important` here to be able to override the default hidden behavior on the sphinx rendered scikit-learn.org. See: https://github.com/scikit-learn/scikit-learn/issues/21755 */display: inline-block !important;position: relative;}#sk-container-id-22 div.sk-text-repr-fallback {display: none;}</style><div id=\"sk-container-id-22\" class=\"sk-top-container\"><div class=\"sk-text-repr-fallback\"><pre>GridSearchCV(cv=5, estimator=Ridge(),\n",
              "             param_grid={&#x27;alpha&#x27;: [1e-15, 1e-10, 1e-08, 0.001, 0.01, 1, 5, 10,\n",
              "                                   20, 30, 35, 40]},\n",
              "             scoring=&#x27;neg_mean_squared_error&#x27;)</pre><b>In a Jupyter environment, please rerun this cell to show the HTML representation or trust the notebook. <br />On GitHub, the HTML representation is unable to render, please try loading this page with nbviewer.org.</b></div><div class=\"sk-container\" hidden><div class=\"sk-item sk-dashed-wrapped\"><div class=\"sk-label-container\"><div class=\"sk-label sk-toggleable\"><input class=\"sk-toggleable__control sk-hidden--visually\" id=\"sk-estimator-id-34\" type=\"checkbox\" ><label for=\"sk-estimator-id-34\" class=\"sk-toggleable__label sk-toggleable__label-arrow\">GridSearchCV</label><div class=\"sk-toggleable__content\"><pre>GridSearchCV(cv=5, estimator=Ridge(),\n",
              "             param_grid={&#x27;alpha&#x27;: [1e-15, 1e-10, 1e-08, 0.001, 0.01, 1, 5, 10,\n",
              "                                   20, 30, 35, 40]},\n",
              "             scoring=&#x27;neg_mean_squared_error&#x27;)</pre></div></div></div><div class=\"sk-parallel\"><div class=\"sk-parallel-item\"><div class=\"sk-item\"><div class=\"sk-label-container\"><div class=\"sk-label sk-toggleable\"><input class=\"sk-toggleable__control sk-hidden--visually\" id=\"sk-estimator-id-35\" type=\"checkbox\" ><label for=\"sk-estimator-id-35\" class=\"sk-toggleable__label sk-toggleable__label-arrow\">estimator: Ridge</label><div class=\"sk-toggleable__content\"><pre>Ridge()</pre></div></div></div><div class=\"sk-serial\"><div class=\"sk-item\"><div class=\"sk-estimator sk-toggleable\"><input class=\"sk-toggleable__control sk-hidden--visually\" id=\"sk-estimator-id-36\" type=\"checkbox\" ><label for=\"sk-estimator-id-36\" class=\"sk-toggleable__label sk-toggleable__label-arrow\">Ridge</label><div class=\"sk-toggleable__content\"><pre>Ridge()</pre></div></div></div></div></div></div></div></div></div></div>"
            ]
          },
          "metadata": {},
          "execution_count": 207
        }
      ]
    },
    {
      "cell_type": "code",
      "source": [
        "print(ridge_regressor.best_params_)\n",
        "print(ridge_regressor.best_score_)"
      ],
      "metadata": {
        "colab": {
          "base_uri": "https://localhost:8080/"
        },
        "id": "nKNtCGg8Euai",
        "outputId": "3f204789-352c-4491-b080-1caf9e672578"
      },
      "execution_count": 208,
      "outputs": [
        {
          "output_type": "stream",
          "name": "stdout",
          "text": [
            "{'alpha': 0.01}\n",
            "-0.8534606109647536\n"
          ]
        }
      ]
    },
    {
      "cell_type": "code",
      "source": [
        "prediction_ridge = ridge_regressor.predict(X_test)"
      ],
      "metadata": {
        "id": "mJo0KK4akRKH"
      },
      "execution_count": 209,
      "outputs": []
    },
    {
      "cell_type": "code",
      "source": [
        "r_squared = r2_score(y_test,prediction_ridge)\n",
        "\n",
        "# Display R^2 on the plot\n",
        "plt.text(np.min(y_test), np.max(prediction_ridge), f'R^2 = {r_squared:.4f}', fontsize=12, verticalalignment='top')\n",
        "plt.scatter(y_test, prediction_ridge)\n",
        "plt.show()\n",
        "print('MAE:', metrics.mean_absolute_error(y_test, prediction_ridge))\n",
        "print('MSE:', metrics.mean_squared_error(y_test, prediction_ridge))\n",
        "print('RMSE:', np.sqrt(metrics.mean_squared_error(y_test, prediction_ridge)))"
      ],
      "metadata": {
        "id": "8l7Gmperkmsz",
        "outputId": "0f3ad469-0f21-4838-8088-3ec09e11129f",
        "colab": {
          "base_uri": "https://localhost:8080/",
          "height": 481
        }
      },
      "execution_count": 210,
      "outputs": [
        {
          "output_type": "display_data",
          "data": {
            "text/plain": [
              "<Figure size 640x480 with 1 Axes>"
            ],
            "image/png": "[encoded data removed]"
          },
          "metadata": {}
        },
        {
          "output_type": "stream",
          "name": "stdout",
          "text": [
            "MAE: 0.5765874674785973\n",
            "MSE: 0.6329447419604939\n",
            "RMSE: 0.7955782437702114\n"
          ]
        }
      ]
    },
    {
      "cell_type": "markdown",
      "source": [
        "# Random Forest"
      ],
      "metadata": {
        "id": "rwob156NFDum"
      }
    },
    {
      "cell_type": "code",
      "source": [
        "from sklearn.ensemble import RandomForestRegressor # Random Forest Regressor model"
      ],
      "metadata": {
        "id": "2Y4L74UbEzhG"
      },
      "execution_count": 211,
      "outputs": []
    },
    {
      "cell_type": "code",
      "source": [
        "rf = RandomForestRegressor()"
      ],
      "metadata": {
        "id": "6VYpjV24Ezjk"
      },
      "execution_count": 212,
      "outputs": []
    },
    {
      "cell_type": "code",
      "source": [
        "rf.fit(X_train,y_train)"
      ],
      "metadata": {
        "colab": {
          "base_uri": "https://localhost:8080/",
          "height": 74
        },
        "id": "roOsLszDFITa",
        "outputId": "83ac4207-9494-4362-e01f-bf042106b13b"
      },
      "execution_count": 213,
      "outputs": [
        {
          "output_type": "execute_result",
          "data": {
            "text/plain": [
              "RandomForestRegressor()"
            ],
            "text/html": [
              "<style>#sk-container-id-23 {color: black;background-color: white;}#sk-container-id-23 pre{padding: 0;}#sk-container-id-23 div.sk-toggleable {background-color: white;}#sk-container-id-23 label.sk-toggleable__label {cursor: pointer;display: block;width: 100%;margin-bottom: 0;padding: 0.3em;box-sizing: border-box;text-align: center;}#sk-container-id-23 label.sk-toggleable__label-arrow:before {content: \"▸\";float: left;margin-right: 0.25em;color: #696969;}#sk-container-id-23 label.sk-toggleable__label-arrow:hover:before {color: black;}#sk-container-id-23 div.sk-estimator:hover label.sk-toggleable__label-arrow:before {color: black;}#sk-container-id-23 div.sk-toggleable__content {max-height: 0;max-width: 0;overflow: hidden;text-align: left;background-color: #f0f8ff;}#sk-container-id-23 div.sk-toggleable__content pre {margin: 0.2em;color: black;border-radius: 0.25em;background-color: #f0f8ff;}#sk-container-id-23 input.sk-toggleable__control:checked~div.sk-toggleable__content {max-height: 200px;max-width: 100%;overflow: auto;}#sk-container-id-23 input.sk-toggleable__control:checked~label.sk-toggleable__label-arrow:before {content: \"▾\";}#sk-container-id-23 div.sk-estimator input.sk-toggleable__control:checked~label.sk-toggleable__label {background-color: #d4ebff;}#sk-container-id-23 div.sk-label input.sk-toggleable__control:checked~label.sk-toggleable__label {background-color: #d4ebff;}#sk-container-id-23 input.sk-hidden--visually {border: 0;clip: rect(1px 1px 1px 1px);clip: rect(1px, 1px, 1px, 1px);height: 1px;margin: -1px;overflow: hidden;padding: 0;position: absolute;width: 1px;}#sk-container-id-23 div.sk-estimator {font-family: monospace;background-color: #f0f8ff;border: 1px dotted black;border-radius: 0.25em;box-sizing: border-box;margin-bottom: 0.5em;}#sk-container-id-23 div.sk-estimator:hover {background-color: #d4ebff;}#sk-container-id-23 div.sk-parallel-item::after {content: \"\";width: 100%;border-bottom: 1px solid gray;flex-grow: 1;}#sk-container-id-23 div.sk-label:hover label.sk-toggleable__label {background-color: #d4ebff;}#sk-container-id-23 div.sk-serial::before {content: \"\";position: absolute;border-left: 1px solid gray;box-sizing: border-box;top: 0;bottom: 0;left: 50%;z-index: 0;}#sk-container-id-23 div.sk-serial {display: flex;flex-direction: column;align-items: center;background-color: white;padding-right: 0.2em;padding-left: 0.2em;position: relative;}#sk-container-id-23 div.sk-item {position: relative;z-index: 1;}#sk-container-id-23 div.sk-parallel {display: flex;align-items: stretch;justify-content: center;background-color: white;position: relative;}#sk-container-id-23 div.sk-item::before, #sk-container-id-23 div.sk-parallel-item::before {content: \"\";position: absolute;border-left: 1px solid gray;box-sizing: border-box;top: 0;bottom: 0;left: 50%;z-index: -1;}#sk-container-id-23 div.sk-parallel-item {display: flex;flex-direction: column;z-index: 1;position: relative;background-color: white;}#sk-container-id-23 div.sk-parallel-item:first-child::after {align-self: flex-end;width: 50%;}#sk-container-id-23 div.sk-parallel-item:last-child::after {align-self: flex-start;width: 50%;}#sk-container-id-23 div.sk-parallel-item:only-child::after {width: 0;}#sk-container-id-23 div.sk-dashed-wrapped {border: 1px dashed gray;margin: 0 0.4em 0.5em 0.4em;box-sizing: border-box;padding-bottom: 0.4em;background-color: white;}#sk-container-id-23 div.sk-label label {font-family: monospace;font-weight: bold;display: inline-block;line-height: 1.2em;}#sk-container-id-23 div.sk-label-container {text-align: center;}#sk-container-id-23 div.sk-container {/* jupyter's `normalize.less` sets `[hidden] { display: none; }` but bootstrap.min.css set `[hidden] { display: none !important; }` so we also need the `!important` here to be able to override the default hidden behavior on the sphinx rendered scikit-learn.org. See: https://github.com/scikit-learn/scikit-learn/issues/21755 */display: inline-block !important;position: relative;}#sk-container-id-23 div.sk-text-repr-fallback {display: none;}</style><div id=\"sk-container-id-23\" class=\"sk-top-container\"><div class=\"sk-text-repr-fallback\"><pre>RandomForestRegressor()</pre><b>In a Jupyter environment, please rerun this cell to show the HTML representation or trust the notebook. <br />On GitHub, the HTML representation is unable to render, please try loading this page with nbviewer.org.</b></div><div class=\"sk-container\" hidden><div class=\"sk-item\"><div class=\"sk-estimator sk-toggleable\"><input class=\"sk-toggleable__control sk-hidden--visually\" id=\"sk-estimator-id-37\" type=\"checkbox\" checked><label for=\"sk-estimator-id-37\" class=\"sk-toggleable__label sk-toggleable__label-arrow\">RandomForestRegressor</label><div class=\"sk-toggleable__content\"><pre>RandomForestRegressor()</pre></div></div></div></div></div>"
            ]
          },
          "metadata": {},
          "execution_count": 213
        }
      ]
    },
    {
      "cell_type": "code",
      "source": [
        "print(\"Coefficient of determination R^2  - train set: {}\".format(rf.score(X_train, y_train)))\n",
        "print(\"Coefficient of determination R^2  - test set: {}\".format(rf.score(X_test, y_test)))"
      ],
      "metadata": {
        "colab": {
          "base_uri": "https://localhost:8080/"
        },
        "id": "eZupFzT8FIWM",
        "outputId": "a2a252f9-0491-47c6-be6b-df9168f224cd"
      },
      "execution_count": 214,
      "outputs": [
        {
          "output_type": "stream",
          "name": "stdout",
          "text": [
            "Coefficient of determination R^2  - train set: 0.9493110612988739\n",
            "Coefficient of determination R^2  - test set: 0.7829763928209872\n"
          ]
        }
      ]
    },
    {
      "cell_type": "code",
      "source": [
        "from sklearn.model_selection import cross_val_score\n",
        "score = cross_val_score(rf, X, y, cv=5)"
      ],
      "metadata": {
        "id": "8ISrqfA1FIYu"
      },
      "execution_count": 215,
      "outputs": []
    },
    {
      "cell_type": "code",
      "source": [
        "score.mean()"
      ],
      "metadata": {
        "colab": {
          "base_uri": "https://localhost:8080/"
        },
        "id": "Q3yj8AQNFYFv",
        "outputId": "58d6b818-0608-48f6-d5a4-1a63543bfcb8"
      },
      "execution_count": 216,
      "outputs": [
        {
          "output_type": "execute_result",
          "data": {
            "text/plain": [
              "0.6187835449579734"
            ]
          },
          "metadata": {},
          "execution_count": 216
        }
      ]
    },
    {
      "cell_type": "code",
      "source": [
        "RandomForestRegressor()"
      ],
      "metadata": {
        "colab": {
          "base_uri": "https://localhost:8080/",
          "height": 74
        },
        "id": "692VY_ARFYIM",
        "outputId": "f9d2f980-f7d7-438b-d125-02f43a03eda6"
      },
      "execution_count": 217,
      "outputs": [
        {
          "output_type": "execute_result",
          "data": {
            "text/plain": [
              "RandomForestRegressor()"
            ],
            "text/html": [
              "<style>#sk-container-id-24 {color: black;background-color: white;}#sk-container-id-24 pre{padding: 0;}#sk-container-id-24 div.sk-toggleable {background-color: white;}#sk-container-id-24 label.sk-toggleable__label {cursor: pointer;display: block;width: 100%;margin-bottom: 0;padding: 0.3em;box-sizing: border-box;text-align: center;}#sk-container-id-24 label.sk-toggleable__label-arrow:before {content: \"▸\";float: left;margin-right: 0.25em;color: #696969;}#sk-container-id-24 label.sk-toggleable__label-arrow:hover:before {color: black;}#sk-container-id-24 div.sk-estimator:hover label.sk-toggleable__label-arrow:before {color: black;}#sk-container-id-24 div.sk-toggleable__content {max-height: 0;max-width: 0;overflow: hidden;text-align: left;background-color: #f0f8ff;}#sk-container-id-24 div.sk-toggleable__content pre {margin: 0.2em;color: black;border-radius: 0.25em;background-color: #f0f8ff;}#sk-container-id-24 input.sk-toggleable__control:checked~div.sk-toggleable__content {max-height: 200px;max-width: 100%;overflow: auto;}#sk-container-id-24 input.sk-toggleable__control:checked~label.sk-toggleable__label-arrow:before {content: \"▾\";}#sk-container-id-24 div.sk-estimator input.sk-toggleable__control:checked~label.sk-toggleable__label {background-color: #d4ebff;}#sk-container-id-24 div.sk-label input.sk-toggleable__control:checked~label.sk-toggleable__label {background-color: #d4ebff;}#sk-container-id-24 input.sk-hidden--visually {border: 0;clip: rect(1px 1px 1px 1px);clip: rect(1px, 1px, 1px, 1px);height: 1px;margin: -1px;overflow: hidden;padding: 0;position: absolute;width: 1px;}#sk-container-id-24 div.sk-estimator {font-family: monospace;background-color: #f0f8ff;border: 1px dotted black;border-radius: 0.25em;box-sizing: border-box;margin-bottom: 0.5em;}#sk-container-id-24 div.sk-estimator:hover {background-color: #d4ebff;}#sk-container-id-24 div.sk-parallel-item::after {content: \"\";width: 100%;border-bottom: 1px solid gray;flex-grow: 1;}#sk-container-id-24 div.sk-label:hover label.sk-toggleable__label {background-color: #d4ebff;}#sk-container-id-24 div.sk-serial::before {content: \"\";position: absolute;border-left: 1px solid gray;box-sizing: border-box;top: 0;bottom: 0;left: 50%;z-index: 0;}#sk-container-id-24 div.sk-serial {display: flex;flex-direction: column;align-items: center;background-color: white;padding-right: 0.2em;padding-left: 0.2em;position: relative;}#sk-container-id-24 div.sk-item {position: relative;z-index: 1;}#sk-container-id-24 div.sk-parallel {display: flex;align-items: stretch;justify-content: center;background-color: white;position: relative;}#sk-container-id-24 div.sk-item::before, #sk-container-id-24 div.sk-parallel-item::before {content: \"\";position: absolute;border-left: 1px solid gray;box-sizing: border-box;top: 0;bottom: 0;left: 50%;z-index: -1;}#sk-container-id-24 div.sk-parallel-item {display: flex;flex-direction: column;z-index: 1;position: relative;background-color: white;}#sk-container-id-24 div.sk-parallel-item:first-child::after {align-self: flex-end;width: 50%;}#sk-container-id-24 div.sk-parallel-item:last-child::after {align-self: flex-start;width: 50%;}#sk-container-id-24 div.sk-parallel-item:only-child::after {width: 0;}#sk-container-id-24 div.sk-dashed-wrapped {border: 1px dashed gray;margin: 0 0.4em 0.5em 0.4em;box-sizing: border-box;padding-bottom: 0.4em;background-color: white;}#sk-container-id-24 div.sk-label label {font-family: monospace;font-weight: bold;display: inline-block;line-height: 1.2em;}#sk-container-id-24 div.sk-label-container {text-align: center;}#sk-container-id-24 div.sk-container {/* jupyter's `normalize.less` sets `[hidden] { display: none; }` but bootstrap.min.css set `[hidden] { display: none !important; }` so we also need the `!important` here to be able to override the default hidden behavior on the sphinx rendered scikit-learn.org. See: https://github.com/scikit-learn/scikit-learn/issues/21755 */display: inline-block !important;position: relative;}#sk-container-id-24 div.sk-text-repr-fallback {display: none;}</style><div id=\"sk-container-id-24\" class=\"sk-top-container\"><div class=\"sk-text-repr-fallback\"><pre>RandomForestRegressor()</pre><b>In a Jupyter environment, please rerun this cell to show the HTML representation or trust the notebook. <br />On GitHub, the HTML representation is unable to render, please try loading this page with nbviewer.org.</b></div><div class=\"sk-container\" hidden><div class=\"sk-item\"><div class=\"sk-estimator sk-toggleable\"><input class=\"sk-toggleable__control sk-hidden--visually\" id=\"sk-estimator-id-38\" type=\"checkbox\" checked><label for=\"sk-estimator-id-38\" class=\"sk-toggleable__label sk-toggleable__label-arrow\">RandomForestRegressor</label><div class=\"sk-toggleable__content\"><pre>RandomForestRegressor()</pre></div></div></div></div></div>"
            ]
          },
          "metadata": {},
          "execution_count": 217
        }
      ]
    },
    {
      "cell_type": "code",
      "source": [
        "from sklearn.model_selection import RandomizedSearchCV # to determine the hyperparameters"
      ],
      "metadata": {
        "id": "6T2A9GL9FYKt"
      },
      "execution_count": 218,
      "outputs": []
    },
    {
      "cell_type": "code",
      "source": [
        "# Randomized Search CV\n",
        "\n",
        "# Number of trees in random forest\n",
        "n_estimators = [int(x) for x in np.linspace(start = 100, stop = 1300, num = 12)]\n",
        "# Number of features to consider at every split\n",
        "max_features = ['auto', 'sqrt']\n",
        "# Maximum number of levels in tree\n",
        "max_depth = [int(x) for x in np.linspace(5, 40, num = 6)]\n",
        "# max_depth.append(None)\n",
        "# Minimum number of samples required to split a node\n",
        "min_samples_split = [2, 5, 10, 15, 100]\n",
        "# Minimum number of samples required at each leaf node\n",
        "min_samples_leaf = [1, 2, 5, 10]\n",
        "# Method of selecting samples for training each tree\n",
        "# bootstrap = [True, False]"
      ],
      "metadata": {
        "id": "HTdCM0ASFYPu"
      },
      "execution_count": 219,
      "outputs": []
    },
    {
      "cell_type": "code",
      "source": [
        "# Create the random grid\n",
        "random_grid = {'n_estimators': n_estimators,\n",
        "               'max_features': max_features,\n",
        "               'max_depth': max_depth,\n",
        "               'min_samples_split': min_samples_split,\n",
        "               'min_samples_leaf': min_samples_leaf}\n",
        "\n",
        "print(random_grid)"
      ],
      "metadata": {
        "colab": {
          "base_uri": "https://localhost:8080/"
        },
        "id": "zQHCBMgiFYSN",
        "outputId": "2ae06ccf-6e18-4978-e12d-fea80b5b1a9f"
      },
      "execution_count": 220,
      "outputs": [
        {
          "output_type": "stream",
          "name": "stdout",
          "text": [
            "{'n_estimators': [100, 209, 318, 427, 536, 645, 754, 863, 972, 1081, 1190, 1300], 'max_features': ['auto', 'sqrt'], 'max_depth': [5, 12, 19, 26, 33, 40], 'min_samples_split': [2, 5, 10, 15, 100], 'min_samples_leaf': [1, 2, 5, 10]}\n"
          ]
        }
      ]
    },
    {
      "cell_type": "code",
      "source": [
        "# Use the random grid to search for best hyperparameters\n",
        "# First create the base model to tune\n",
        "rf1 = RandomForestRegressor()"
      ],
      "metadata": {
        "id": "8vN1I2PbFjc6"
      },
      "execution_count": 221,
      "outputs": []
    },
    {
      "cell_type": "code",
      "source": [
        "# Random search of parameters, using 3 fold cross validation,\n",
        "# search across 100 different combinations\n",
        "rf1_random = RandomizedSearchCV(estimator = rf1, param_distributions = random_grid, scoring='neg_mean_squared_error', n_iter = 100, cv = 5, verbose=2, random_state=42, n_jobs = 1)"
      ],
      "metadata": {
        "id": "Tg4TNsPHFjfs"
      },
      "execution_count": 222,
      "outputs": []
    },
    {
      "cell_type": "code",
      "source": [
        "rf1_random.fit(X_train,y_train)"
      ],
      "metadata": {
        "colab": {
          "base_uri": "https://localhost:8080/",
          "height": 1000
        },
        "id": "aZhQ7r8RFjiM",
        "outputId": "fe9c7a2d-ea02-425c-f9f2-23dc3f5c3cab"
      },
      "execution_count": 223,
      "outputs": [
        {
          "output_type": "stream",
          "name": "stdout",
          "text": [
            "Fitting 5 folds for each of 100 candidates, totalling 500 fits\n",
            "[CV] END max_depth=5, max_features=sqrt, min_samples_leaf=10, min_samples_split=100, n_estimators=427; total time=   0.6s\n",
            "[CV] END max_depth=5, max_features=sqrt, min_samples_leaf=10, min_samples_split=100, n_estimators=427; total time=   0.6s\n",
            "[CV] END max_depth=5, max_features=sqrt, min_samples_leaf=10, min_samples_split=100, n_estimators=427; total time=   0.5s\n",
            "[CV] END max_depth=5, max_features=sqrt, min_samples_leaf=10, min_samples_split=100, n_estimators=427; total time=   0.5s\n",
            "[CV] END max_depth=5, max_features=sqrt, min_samples_leaf=10, min_samples_split=100, n_estimators=427; total time=   0.6s\n",
            "[CV] END max_depth=26, max_features=auto, min_samples_leaf=1, min_samples_split=5, n_estimators=209; total time=   0.3s\n",
            "[CV] END max_depth=26, max_features=auto, min_samples_leaf=1, min_samples_split=5, n_estimators=209; total time=   0.3s\n",
            "[CV] END max_depth=26, max_features=auto, min_samples_leaf=1, min_samples_split=5, n_estimators=209; total time=   0.3s\n",
            "[CV] END max_depth=26, max_features=auto, min_samples_leaf=1, min_samples_split=5, n_estimators=209; total time=   0.3s\n",
            "[CV] END max_depth=26, max_features=auto, min_samples_leaf=1, min_samples_split=5, n_estimators=209; total time=   0.3s\n",
            "[CV] END max_depth=33, max_features=sqrt, min_samples_leaf=10, min_samples_split=15, n_estimators=209; total time=   0.3s\n",
            "[CV] END max_depth=33, max_features=sqrt, min_samples_leaf=10, min_samples_split=15, n_estimators=209; total time=   0.3s\n",
            "[CV] END max_depth=33, max_features=sqrt, min_samples_leaf=10, min_samples_split=15, n_estimators=209; total time=   0.3s\n",
            "[CV] END max_depth=33, max_features=sqrt, min_samples_leaf=10, min_samples_split=15, n_estimators=209; total time=   0.5s\n",
            "[CV] END max_depth=33, max_features=sqrt, min_samples_leaf=10, min_samples_split=15, n_estimators=209; total time=   0.3s\n",
            "[CV] END max_depth=26, max_features=auto, min_samples_leaf=5, min_samples_split=15, n_estimators=645; total time=   1.1s\n",
            "[CV] END max_depth=26, max_features=auto, min_samples_leaf=5, min_samples_split=15, n_estimators=645; total time=   1.4s\n",
            "[CV] END max_depth=26, max_features=auto, min_samples_leaf=5, min_samples_split=15, n_estimators=645; total time=   1.4s\n",
            "[CV] END max_depth=26, max_features=auto, min_samples_leaf=5, min_samples_split=15, n_estimators=645; total time=   1.1s\n",
            "[CV] END max_depth=26, max_features=auto, min_samples_leaf=5, min_samples_split=15, n_estimators=645; total time=   0.8s\n",
            "[CV] END max_depth=19, max_features=auto, min_samples_leaf=5, min_samples_split=5, n_estimators=318; total time=   0.4s\n",
            "[CV] END max_depth=19, max_features=auto, min_samples_leaf=5, min_samples_split=5, n_estimators=318; total time=   0.4s\n",
            "[CV] END max_depth=19, max_features=auto, min_samples_leaf=5, min_samples_split=5, n_estimators=318; total time=   0.4s\n",
            "[CV] END max_depth=19, max_features=auto, min_samples_leaf=5, min_samples_split=5, n_estimators=318; total time=   0.4s\n",
            "[CV] END max_depth=19, max_features=auto, min_samples_leaf=5, min_samples_split=5, n_estimators=318; total time=   0.4s\n",
            "[CV] END max_depth=19, max_features=sqrt, min_samples_leaf=1, min_samples_split=100, n_estimators=863; total time=   1.0s\n",
            "[CV] END max_depth=19, max_features=sqrt, min_samples_leaf=1, min_samples_split=100, n_estimators=863; total time=   1.6s\n",
            "[CV] END max_depth=19, max_features=sqrt, min_samples_leaf=1, min_samples_split=100, n_estimators=863; total time=   1.1s\n",
            "[CV] END max_depth=19, max_features=sqrt, min_samples_leaf=1, min_samples_split=100, n_estimators=863; total time=   1.1s\n",
            "[CV] END max_depth=19, max_features=sqrt, min_samples_leaf=1, min_samples_split=100, n_estimators=863; total time=   1.1s\n",
            "[CV] END max_depth=19, max_features=auto, min_samples_leaf=5, min_samples_split=100, n_estimators=100; total time=   0.1s\n",
            "[CV] END max_depth=19, max_features=auto, min_samples_leaf=5, min_samples_split=100, n_estimators=100; total time=   0.1s\n",
            "[CV] END max_depth=19, max_features=auto, min_samples_leaf=5, min_samples_split=100, n_estimators=100; total time=   0.1s\n",
            "[CV] END max_depth=19, max_features=auto, min_samples_leaf=5, min_samples_split=100, n_estimators=100; total time=   0.1s\n",
            "[CV] END max_depth=19, max_features=auto, min_samples_leaf=5, min_samples_split=100, n_estimators=100; total time=   0.1s\n",
            "[CV] END max_depth=33, max_features=sqrt, min_samples_leaf=2, min_samples_split=10, n_estimators=972; total time=   2.0s\n",
            "[CV] END max_depth=33, max_features=sqrt, min_samples_leaf=2, min_samples_split=10, n_estimators=972; total time=   2.1s\n",
            "[CV] END max_depth=33, max_features=sqrt, min_samples_leaf=2, min_samples_split=10, n_estimators=972; total time=   1.2s\n",
            "[CV] END max_depth=33, max_features=sqrt, min_samples_leaf=2, min_samples_split=10, n_estimators=972; total time=   1.2s\n",
            "[CV] END max_depth=33, max_features=sqrt, min_samples_leaf=2, min_samples_split=10, n_estimators=972; total time=   1.2s\n",
            "[CV] END max_depth=12, max_features=sqrt, min_samples_leaf=10, min_samples_split=15, n_estimators=1081; total time=   1.3s\n",
            "[CV] END max_depth=12, max_features=sqrt, min_samples_leaf=10, min_samples_split=15, n_estimators=1081; total time=   1.3s\n",
            "[CV] END max_depth=12, max_features=sqrt, min_samples_leaf=10, min_samples_split=15, n_estimators=1081; total time=   1.3s\n",
            "[CV] END max_depth=12, max_features=sqrt, min_samples_leaf=10, min_samples_split=15, n_estimators=1081; total time=   1.4s\n",
            "[CV] END max_depth=12, max_features=sqrt, min_samples_leaf=10, min_samples_split=15, n_estimators=1081; total time=   1.4s\n",
            "[CV] END max_depth=26, max_features=sqrt, min_samples_leaf=5, min_samples_split=2, n_estimators=100; total time=   0.2s\n",
            "[CV] END max_depth=26, max_features=sqrt, min_samples_leaf=5, min_samples_split=2, n_estimators=100; total time=   0.2s\n",
            "[CV] END max_depth=26, max_features=sqrt, min_samples_leaf=5, min_samples_split=2, n_estimators=100; total time=   0.2s\n",
            "[CV] END max_depth=26, max_features=sqrt, min_samples_leaf=5, min_samples_split=2, n_estimators=100; total time=   0.2s\n",
            "[CV] END max_depth=26, max_features=sqrt, min_samples_leaf=5, min_samples_split=2, n_estimators=100; total time=   0.2s\n",
            "[CV] END max_depth=40, max_features=sqrt, min_samples_leaf=5, min_samples_split=5, n_estimators=318; total time=   0.7s\n",
            "[CV] END max_depth=40, max_features=sqrt, min_samples_leaf=5, min_samples_split=5, n_estimators=318; total time=   0.7s\n",
            "[CV] END max_depth=40, max_features=sqrt, min_samples_leaf=5, min_samples_split=5, n_estimators=318; total time=   0.7s\n",
            "[CV] END max_depth=40, max_features=sqrt, min_samples_leaf=5, min_samples_split=5, n_estimators=318; total time=   0.7s\n",
            "[CV] END max_depth=40, max_features=sqrt, min_samples_leaf=5, min_samples_split=5, n_estimators=318; total time=   0.4s\n",
            "[CV] END max_depth=40, max_features=sqrt, min_samples_leaf=2, min_samples_split=10, n_estimators=427; total time=   0.5s\n",
            "[CV] END max_depth=40, max_features=sqrt, min_samples_leaf=2, min_samples_split=10, n_estimators=427; total time=   0.5s\n",
            "[CV] END max_depth=40, max_features=sqrt, min_samples_leaf=2, min_samples_split=10, n_estimators=427; total time=   0.5s\n",
            "[CV] END max_depth=40, max_features=sqrt, min_samples_leaf=2, min_samples_split=10, n_estimators=427; total time=   0.5s\n",
            "[CV] END max_depth=40, max_features=sqrt, min_samples_leaf=2, min_samples_split=10, n_estimators=427; total time=   0.5s\n",
            "[CV] END max_depth=5, max_features=sqrt, min_samples_leaf=5, min_samples_split=2, n_estimators=972; total time=   1.2s\n",
            "[CV] END max_depth=5, max_features=sqrt, min_samples_leaf=5, min_samples_split=2, n_estimators=972; total time=   1.2s\n",
            "[CV] END max_depth=5, max_features=sqrt, min_samples_leaf=5, min_samples_split=2, n_estimators=972; total time=   1.2s\n",
            "[CV] END max_depth=5, max_features=sqrt, min_samples_leaf=5, min_samples_split=2, n_estimators=972; total time=   1.2s\n",
            "[CV] END max_depth=5, max_features=sqrt, min_samples_leaf=5, min_samples_split=2, n_estimators=972; total time=   1.2s\n",
            "[CV] END max_depth=26, max_features=sqrt, min_samples_leaf=2, min_samples_split=5, n_estimators=972; total time=   1.3s\n",
            "[CV] END max_depth=26, max_features=sqrt, min_samples_leaf=2, min_samples_split=5, n_estimators=972; total time=   2.0s\n",
            "[CV] END max_depth=26, max_features=sqrt, min_samples_leaf=2, min_samples_split=5, n_estimators=972; total time=   3.2s\n",
            "[CV] END max_depth=26, max_features=sqrt, min_samples_leaf=2, min_samples_split=5, n_estimators=972; total time=   1.3s\n",
            "[CV] END max_depth=26, max_features=sqrt, min_samples_leaf=2, min_samples_split=5, n_estimators=972; total time=   1.2s\n",
            "[CV] END max_depth=12, max_features=sqrt, min_samples_leaf=2, min_samples_split=15, n_estimators=209; total time=   0.3s\n",
            "[CV] END max_depth=12, max_features=sqrt, min_samples_leaf=2, min_samples_split=15, n_estimators=209; total time=   0.3s\n",
            "[CV] END max_depth=12, max_features=sqrt, min_samples_leaf=2, min_samples_split=15, n_estimators=209; total time=   0.3s\n",
            "[CV] END max_depth=12, max_features=sqrt, min_samples_leaf=2, min_samples_split=15, n_estimators=209; total time=   0.3s\n",
            "[CV] END max_depth=12, max_features=sqrt, min_samples_leaf=2, min_samples_split=15, n_estimators=209; total time=   0.3s\n",
            "[CV] END max_depth=12, max_features=sqrt, min_samples_leaf=2, min_samples_split=2, n_estimators=209; total time=   0.3s\n",
            "[CV] END max_depth=12, max_features=sqrt, min_samples_leaf=2, min_samples_split=2, n_estimators=209; total time=   0.3s\n",
            "[CV] END max_depth=12, max_features=sqrt, min_samples_leaf=2, min_samples_split=2, n_estimators=209; total time=   0.3s\n",
            "[CV] END max_depth=12, max_features=sqrt, min_samples_leaf=2, min_samples_split=2, n_estimators=209; total time=   0.3s\n",
            "[CV] END max_depth=12, max_features=sqrt, min_samples_leaf=2, min_samples_split=2, n_estimators=209; total time=   0.3s\n",
            "[CV] END max_depth=12, max_features=auto, min_samples_leaf=1, min_samples_split=5, n_estimators=754; total time=   1.0s\n",
            "[CV] END max_depth=12, max_features=auto, min_samples_leaf=1, min_samples_split=5, n_estimators=754; total time=   0.9s\n",
            "[CV] END max_depth=12, max_features=auto, min_samples_leaf=1, min_samples_split=5, n_estimators=754; total time=   1.0s\n",
            "[CV] END max_depth=12, max_features=auto, min_samples_leaf=1, min_samples_split=5, n_estimators=754; total time=   1.0s\n",
            "[CV] END max_depth=12, max_features=auto, min_samples_leaf=1, min_samples_split=5, n_estimators=754; total time=   1.7s\n",
            "[CV] END max_depth=5, max_features=auto, min_samples_leaf=10, min_samples_split=100, n_estimators=1300; total time=   2.6s\n",
            "[CV] END max_depth=5, max_features=auto, min_samples_leaf=10, min_samples_split=100, n_estimators=1300; total time=   1.9s\n",
            "[CV] END max_depth=5, max_features=auto, min_samples_leaf=10, min_samples_split=100, n_estimators=1300; total time=   2.8s\n",
            "[CV] END max_depth=5, max_features=auto, min_samples_leaf=10, min_samples_split=100, n_estimators=1300; total time=   1.9s\n",
            "[CV] END max_depth=5, max_features=auto, min_samples_leaf=10, min_samples_split=100, n_estimators=1300; total time=   1.6s\n",
            "[CV] END max_depth=5, max_features=sqrt, min_samples_leaf=2, min_samples_split=10, n_estimators=863; total time=   1.1s\n",
            "[CV] END max_depth=5, max_features=sqrt, min_samples_leaf=2, min_samples_split=10, n_estimators=863; total time=   1.5s\n",
            "[CV] END max_depth=5, max_features=sqrt, min_samples_leaf=2, min_samples_split=10, n_estimators=863; total time=   1.8s\n",
            "[CV] END max_depth=5, max_features=sqrt, min_samples_leaf=2, min_samples_split=10, n_estimators=863; total time=   1.5s\n",
            "[CV] END max_depth=5, max_features=sqrt, min_samples_leaf=2, min_samples_split=10, n_estimators=863; total time=   1.9s\n",
            "[CV] END max_depth=12, max_features=sqrt, min_samples_leaf=2, min_samples_split=100, n_estimators=1190; total time=   1.9s\n",
            "[CV] END max_depth=12, max_features=sqrt, min_samples_leaf=2, min_samples_split=100, n_estimators=1190; total time=   1.5s\n",
            "[CV] END max_depth=12, max_features=sqrt, min_samples_leaf=2, min_samples_split=100, n_estimators=1190; total time=   1.4s\n",
            "[CV] END max_depth=12, max_features=sqrt, min_samples_leaf=2, min_samples_split=100, n_estimators=1190; total time=   1.4s\n",
            "[CV] END max_depth=12, max_features=sqrt, min_samples_leaf=2, min_samples_split=100, n_estimators=1190; total time=   1.4s\n",
            "[CV] END max_depth=12, max_features=sqrt, min_samples_leaf=10, min_samples_split=100, n_estimators=536; total time=   1.1s\n",
            "[CV] END max_depth=12, max_features=sqrt, min_samples_leaf=10, min_samples_split=100, n_estimators=536; total time=   1.1s\n",
            "[CV] END max_depth=12, max_features=sqrt, min_samples_leaf=10, min_samples_split=100, n_estimators=536; total time=   1.1s\n",
            "[CV] END max_depth=12, max_features=sqrt, min_samples_leaf=10, min_samples_split=100, n_estimators=536; total time=   1.0s\n",
            "[CV] END max_depth=12, max_features=sqrt, min_samples_leaf=10, min_samples_split=100, n_estimators=536; total time=   0.7s\n",
            "[CV] END max_depth=19, max_features=sqrt, min_samples_leaf=1, min_samples_split=5, n_estimators=1081; total time=   1.3s\n",
            "[CV] END max_depth=19, max_features=sqrt, min_samples_leaf=1, min_samples_split=5, n_estimators=1081; total time=   1.4s\n",
            "[CV] END max_depth=19, max_features=sqrt, min_samples_leaf=1, min_samples_split=5, n_estimators=1081; total time=   1.3s\n",
            "[CV] END max_depth=19, max_features=sqrt, min_samples_leaf=1, min_samples_split=5, n_estimators=1081; total time=   1.3s\n",
            "[CV] END max_depth=19, max_features=sqrt, min_samples_leaf=1, min_samples_split=5, n_estimators=1081; total time=   1.3s\n",
            "[CV] END max_depth=19, max_features=sqrt, min_samples_leaf=2, min_samples_split=2, n_estimators=1081; total time=   1.3s\n",
            "[CV] END max_depth=19, max_features=sqrt, min_samples_leaf=2, min_samples_split=2, n_estimators=1081; total time=   1.4s\n",
            "[CV] END max_depth=19, max_features=sqrt, min_samples_leaf=2, min_samples_split=2, n_estimators=1081; total time=   2.3s\n",
            "[CV] END max_depth=19, max_features=sqrt, min_samples_leaf=2, min_samples_split=2, n_estimators=1081; total time=   2.0s\n",
            "[CV] END max_depth=19, max_features=sqrt, min_samples_leaf=2, min_samples_split=2, n_estimators=1081; total time=   1.3s\n",
            "[CV] END max_depth=33, max_features=sqrt, min_samples_leaf=10, min_samples_split=10, n_estimators=1300; total time=   1.6s\n",
            "[CV] END max_depth=33, max_features=sqrt, min_samples_leaf=10, min_samples_split=10, n_estimators=1300; total time=   1.6s\n",
            "[CV] END max_depth=33, max_features=sqrt, min_samples_leaf=10, min_samples_split=10, n_estimators=1300; total time=   1.6s\n",
            "[CV] END max_depth=33, max_features=sqrt, min_samples_leaf=10, min_samples_split=10, n_estimators=1300; total time=   1.6s\n",
            "[CV] END max_depth=33, max_features=sqrt, min_samples_leaf=10, min_samples_split=10, n_estimators=1300; total time=   1.6s\n",
            "[CV] END max_depth=26, max_features=sqrt, min_samples_leaf=2, min_samples_split=15, n_estimators=318; total time=   0.4s\n",
            "[CV] END max_depth=26, max_features=sqrt, min_samples_leaf=2, min_samples_split=15, n_estimators=318; total time=   0.7s\n",
            "[CV] END max_depth=26, max_features=sqrt, min_samples_leaf=2, min_samples_split=15, n_estimators=318; total time=   0.7s\n",
            "[CV] END max_depth=26, max_features=sqrt, min_samples_leaf=2, min_samples_split=15, n_estimators=318; total time=   0.7s\n",
            "[CV] END max_depth=26, max_features=sqrt, min_samples_leaf=2, min_samples_split=15, n_estimators=318; total time=   0.7s\n",
            "[CV] END max_depth=26, max_features=auto, min_samples_leaf=2, min_samples_split=5, n_estimators=645; total time=   1.4s\n",
            "[CV] END max_depth=26, max_features=auto, min_samples_leaf=2, min_samples_split=5, n_estimators=645; total time=   0.8s\n",
            "[CV] END max_depth=26, max_features=auto, min_samples_leaf=2, min_samples_split=5, n_estimators=645; total time=   0.8s\n",
            "[CV] END max_depth=26, max_features=auto, min_samples_leaf=2, min_samples_split=5, n_estimators=645; total time=   0.8s\n",
            "[CV] END max_depth=26, max_features=auto, min_samples_leaf=2, min_samples_split=5, n_estimators=645; total time=   0.8s\n",
            "[CV] END max_depth=33, max_features=auto, min_samples_leaf=2, min_samples_split=5, n_estimators=1190; total time=   1.5s\n",
            "[CV] END max_depth=33, max_features=auto, min_samples_leaf=2, min_samples_split=5, n_estimators=1190; total time=   1.5s\n",
            "[CV] END max_depth=33, max_features=auto, min_samples_leaf=2, min_samples_split=5, n_estimators=1190; total time=   1.5s\n",
            "[CV] END max_depth=33, max_features=auto, min_samples_leaf=2, min_samples_split=5, n_estimators=1190; total time=   1.5s\n",
            "[CV] END max_depth=33, max_features=auto, min_samples_leaf=2, min_samples_split=5, n_estimators=1190; total time=   2.2s\n",
            "[CV] END max_depth=19, max_features=auto, min_samples_leaf=1, min_samples_split=100, n_estimators=318; total time=   0.7s\n",
            "[CV] END max_depth=19, max_features=auto, min_samples_leaf=1, min_samples_split=100, n_estimators=318; total time=   0.7s\n",
            "[CV] END max_depth=19, max_features=auto, min_samples_leaf=1, min_samples_split=100, n_estimators=318; total time=   0.7s\n",
            "[CV] END max_depth=19, max_features=auto, min_samples_leaf=1, min_samples_split=100, n_estimators=318; total time=   0.5s\n",
            "[CV] END max_depth=19, max_features=auto, min_samples_leaf=1, min_samples_split=100, n_estimators=318; total time=   0.4s\n",
            "[CV] END max_depth=26, max_features=sqrt, min_samples_leaf=2, min_samples_split=5, n_estimators=100; total time=   0.1s\n",
            "[CV] END max_depth=26, max_features=sqrt, min_samples_leaf=2, min_samples_split=5, n_estimators=100; total time=   0.1s\n",
            "[CV] END max_depth=26, max_features=sqrt, min_samples_leaf=2, min_samples_split=5, n_estimators=100; total time=   0.1s\n",
            "[CV] END max_depth=26, max_features=sqrt, min_samples_leaf=2, min_samples_split=5, n_estimators=100; total time=   0.1s\n",
            "[CV] END max_depth=26, max_features=sqrt, min_samples_leaf=2, min_samples_split=5, n_estimators=100; total time=   0.1s\n",
            "[CV] END max_depth=26, max_features=sqrt, min_samples_leaf=10, min_samples_split=100, n_estimators=754; total time=   1.0s\n",
            "[CV] END max_depth=26, max_features=sqrt, min_samples_leaf=10, min_samples_split=100, n_estimators=754; total time=   0.9s\n",
            "[CV] END max_depth=26, max_features=sqrt, min_samples_leaf=10, min_samples_split=100, n_estimators=754; total time=   0.9s\n",
            "[CV] END max_depth=26, max_features=sqrt, min_samples_leaf=10, min_samples_split=100, n_estimators=754; total time=   0.9s\n",
            "[CV] END max_depth=26, max_features=sqrt, min_samples_leaf=10, min_samples_split=100, n_estimators=754; total time=   0.9s\n",
            "[CV] END max_depth=19, max_features=sqrt, min_samples_leaf=10, min_samples_split=100, n_estimators=209; total time=   0.3s\n",
            "[CV] END max_depth=19, max_features=sqrt, min_samples_leaf=10, min_samples_split=100, n_estimators=209; total time=   0.3s\n",
            "[CV] END max_depth=19, max_features=sqrt, min_samples_leaf=10, min_samples_split=100, n_estimators=209; total time=   0.3s\n",
            "[CV] END max_depth=19, max_features=sqrt, min_samples_leaf=10, min_samples_split=100, n_estimators=209; total time=   0.3s\n",
            "[CV] END max_depth=19, max_features=sqrt, min_samples_leaf=10, min_samples_split=100, n_estimators=209; total time=   0.3s\n",
            "[CV] END max_depth=26, max_features=auto, min_samples_leaf=5, min_samples_split=2, n_estimators=536; total time=   0.7s\n",
            "[CV] END max_depth=26, max_features=auto, min_samples_leaf=5, min_samples_split=2, n_estimators=536; total time=   0.7s\n",
            "[CV] END max_depth=26, max_features=auto, min_samples_leaf=5, min_samples_split=2, n_estimators=536; total time=   0.7s\n",
            "[CV] END max_depth=26, max_features=auto, min_samples_leaf=5, min_samples_split=2, n_estimators=536; total time=   0.7s\n",
            "[CV] END max_depth=26, max_features=auto, min_samples_leaf=5, min_samples_split=2, n_estimators=536; total time=   1.2s\n",
            "[CV] END max_depth=33, max_features=sqrt, min_samples_leaf=10, min_samples_split=10, n_estimators=972; total time=   2.0s\n",
            "[CV] END max_depth=33, max_features=sqrt, min_samples_leaf=10, min_samples_split=10, n_estimators=972; total time=   1.5s\n",
            "[CV] END max_depth=33, max_features=sqrt, min_samples_leaf=10, min_samples_split=10, n_estimators=972; total time=   1.2s\n",
            "[CV] END max_depth=33, max_features=sqrt, min_samples_leaf=10, min_samples_split=10, n_estimators=972; total time=   1.2s\n",
            "[CV] END max_depth=33, max_features=sqrt, min_samples_leaf=10, min_samples_split=10, n_estimators=972; total time=   1.2s\n",
            "[CV] END max_depth=40, max_features=auto, min_samples_leaf=5, min_samples_split=15, n_estimators=1300; total time=   1.6s\n",
            "[CV] END max_depth=40, max_features=auto, min_samples_leaf=5, min_samples_split=15, n_estimators=1300; total time=   1.7s\n",
            "[CV] END max_depth=40, max_features=auto, min_samples_leaf=5, min_samples_split=15, n_estimators=1300; total time=   1.6s\n",
            "[CV] END max_depth=40, max_features=auto, min_samples_leaf=5, min_samples_split=15, n_estimators=1300; total time=   2.3s\n",
            "[CV] END max_depth=40, max_features=auto, min_samples_leaf=5, min_samples_split=15, n_estimators=1300; total time=   2.6s\n",
            "[CV] END max_depth=33, max_features=auto, min_samples_leaf=1, min_samples_split=10, n_estimators=972; total time=   1.3s\n",
            "[CV] END max_depth=33, max_features=auto, min_samples_leaf=1, min_samples_split=10, n_estimators=972; total time=   1.2s\n",
            "[CV] END max_depth=33, max_features=auto, min_samples_leaf=1, min_samples_split=10, n_estimators=972; total time=   1.2s\n",
            "[CV] END max_depth=33, max_features=auto, min_samples_leaf=1, min_samples_split=10, n_estimators=972; total time=   1.2s\n",
            "[CV] END max_depth=33, max_features=auto, min_samples_leaf=1, min_samples_split=10, n_estimators=972; total time=   1.2s\n",
            "[CV] END max_depth=12, max_features=sqrt, min_samples_leaf=5, min_samples_split=5, n_estimators=645; total time=   0.8s\n",
            "[CV] END max_depth=12, max_features=sqrt, min_samples_leaf=5, min_samples_split=5, n_estimators=645; total time=   0.8s\n",
            "[CV] END max_depth=12, max_features=sqrt, min_samples_leaf=5, min_samples_split=5, n_estimators=645; total time=   0.8s\n",
            "[CV] END max_depth=12, max_features=sqrt, min_samples_leaf=5, min_samples_split=5, n_estimators=645; total time=   0.8s\n",
            "[CV] END max_depth=12, max_features=sqrt, min_samples_leaf=5, min_samples_split=5, n_estimators=645; total time=   1.1s\n",
            "[CV] END max_depth=33, max_features=sqrt, min_samples_leaf=5, min_samples_split=5, n_estimators=863; total time=   1.8s\n",
            "[CV] END max_depth=33, max_features=sqrt, min_samples_leaf=5, min_samples_split=5, n_estimators=863; total time=   1.7s\n",
            "[CV] END max_depth=33, max_features=sqrt, min_samples_leaf=5, min_samples_split=5, n_estimators=863; total time=   1.0s\n",
            "[CV] END max_depth=33, max_features=sqrt, min_samples_leaf=5, min_samples_split=5, n_estimators=863; total time=   1.1s\n",
            "[CV] END max_depth=33, max_features=sqrt, min_samples_leaf=5, min_samples_split=5, n_estimators=863; total time=   1.1s\n",
            "[CV] END max_depth=5, max_features=auto, min_samples_leaf=5, min_samples_split=2, n_estimators=536; total time=   0.7s\n",
            "[CV] END max_depth=5, max_features=auto, min_samples_leaf=5, min_samples_split=2, n_estimators=536; total time=   0.7s\n",
            "[CV] END max_depth=5, max_features=auto, min_samples_leaf=5, min_samples_split=2, n_estimators=536; total time=   0.7s\n",
            "[CV] END max_depth=5, max_features=auto, min_samples_leaf=5, min_samples_split=2, n_estimators=536; total time=   0.7s\n",
            "[CV] END max_depth=5, max_features=auto, min_samples_leaf=5, min_samples_split=2, n_estimators=536; total time=   0.7s\n",
            "[CV] END max_depth=33, max_features=sqrt, min_samples_leaf=2, min_samples_split=100, n_estimators=863; total time=   1.0s\n",
            "[CV] END max_depth=33, max_features=sqrt, min_samples_leaf=2, min_samples_split=100, n_estimators=863; total time=   1.1s\n",
            "[CV] END max_depth=33, max_features=sqrt, min_samples_leaf=2, min_samples_split=100, n_estimators=863; total time=   1.1s\n",
            "[CV] END max_depth=33, max_features=sqrt, min_samples_leaf=2, min_samples_split=100, n_estimators=863; total time=   1.7s\n",
            "[CV] END max_depth=33, max_features=sqrt, min_samples_leaf=2, min_samples_split=100, n_estimators=863; total time=   1.8s\n",
            "[CV] END max_depth=40, max_features=sqrt, min_samples_leaf=5, min_samples_split=2, n_estimators=1300; total time=   1.8s\n",
            "[CV] END max_depth=40, max_features=sqrt, min_samples_leaf=5, min_samples_split=2, n_estimators=1300; total time=   1.6s\n",
            "[CV] END max_depth=40, max_features=sqrt, min_samples_leaf=5, min_samples_split=2, n_estimators=1300; total time=   1.6s\n",
            "[CV] END max_depth=40, max_features=sqrt, min_samples_leaf=5, min_samples_split=2, n_estimators=1300; total time=   1.6s\n",
            "[CV] END max_depth=40, max_features=sqrt, min_samples_leaf=5, min_samples_split=2, n_estimators=1300; total time=   1.6s\n",
            "[CV] END max_depth=40, max_features=sqrt, min_samples_leaf=1, min_samples_split=10, n_estimators=645; total time=   0.8s\n",
            "[CV] END max_depth=40, max_features=sqrt, min_samples_leaf=1, min_samples_split=10, n_estimators=645; total time=   0.8s\n",
            "[CV] END max_depth=40, max_features=sqrt, min_samples_leaf=1, min_samples_split=10, n_estimators=645; total time=   0.8s\n",
            "[CV] END max_depth=40, max_features=sqrt, min_samples_leaf=1, min_samples_split=10, n_estimators=645; total time=   1.3s\n",
            "[CV] END max_depth=40, max_features=sqrt, min_samples_leaf=1, min_samples_split=10, n_estimators=645; total time=   1.4s\n",
            "[CV] END max_depth=26, max_features=auto, min_samples_leaf=1, min_samples_split=10, n_estimators=972; total time=   1.8s\n",
            "[CV] END max_depth=26, max_features=auto, min_samples_leaf=1, min_samples_split=10, n_estimators=972; total time=   1.3s\n",
            "[CV] END max_depth=26, max_features=auto, min_samples_leaf=1, min_samples_split=10, n_estimators=972; total time=   1.2s\n",
            "[CV] END max_depth=26, max_features=auto, min_samples_leaf=1, min_samples_split=10, n_estimators=972; total time=   1.2s\n",
            "[CV] END max_depth=26, max_features=auto, min_samples_leaf=1, min_samples_split=10, n_estimators=972; total time=   1.2s\n",
            "[CV] END max_depth=19, max_features=sqrt, min_samples_leaf=5, min_samples_split=2, n_estimators=209; total time=   0.3s\n",
            "[CV] END max_depth=19, max_features=sqrt, min_samples_leaf=5, min_samples_split=2, n_estimators=209; total time=   0.2s\n",
            "[CV] END max_depth=19, max_features=sqrt, min_samples_leaf=5, min_samples_split=2, n_estimators=209; total time=   0.3s\n",
            "[CV] END max_depth=19, max_features=sqrt, min_samples_leaf=5, min_samples_split=2, n_estimators=209; total time=   0.3s\n",
            "[CV] END max_depth=19, max_features=sqrt, min_samples_leaf=5, min_samples_split=2, n_estimators=209; total time=   0.3s\n",
            "[CV] END max_depth=33, max_features=sqrt, min_samples_leaf=10, min_samples_split=10, n_estimators=754; total time=   0.9s\n",
            "[CV] END max_depth=33, max_features=sqrt, min_samples_leaf=10, min_samples_split=10, n_estimators=754; total time=   0.9s\n",
            "[CV] END max_depth=33, max_features=sqrt, min_samples_leaf=10, min_samples_split=10, n_estimators=754; total time=   0.9s\n",
            "[CV] END max_depth=33, max_features=sqrt, min_samples_leaf=10, min_samples_split=10, n_estimators=754; total time=   1.3s\n",
            "[CV] END max_depth=33, max_features=sqrt, min_samples_leaf=10, min_samples_split=10, n_estimators=754; total time=   1.5s\n",
            "[CV] END max_depth=19, max_features=sqrt, min_samples_leaf=10, min_samples_split=10, n_estimators=209; total time=   0.4s\n",
            "[CV] END max_depth=19, max_features=sqrt, min_samples_leaf=10, min_samples_split=10, n_estimators=209; total time=   0.4s\n",
            "[CV] END max_depth=19, max_features=sqrt, min_samples_leaf=10, min_samples_split=10, n_estimators=209; total time=   0.4s\n",
            "[CV] END max_depth=19, max_features=sqrt, min_samples_leaf=10, min_samples_split=10, n_estimators=209; total time=   0.4s\n",
            "[CV] END max_depth=19, max_features=sqrt, min_samples_leaf=10, min_samples_split=10, n_estimators=209; total time=   0.3s\n",
            "[CV] END max_depth=33, max_features=auto, min_samples_leaf=2, min_samples_split=100, n_estimators=209; total time=   0.3s\n",
            "[CV] END max_depth=33, max_features=auto, min_samples_leaf=2, min_samples_split=100, n_estimators=209; total time=   0.3s\n",
            "[CV] END max_depth=33, max_features=auto, min_samples_leaf=2, min_samples_split=100, n_estimators=209; total time=   0.3s\n",
            "[CV] END max_depth=33, max_features=auto, min_samples_leaf=2, min_samples_split=100, n_estimators=209; total time=   0.3s\n",
            "[CV] END max_depth=33, max_features=auto, min_samples_leaf=2, min_samples_split=100, n_estimators=209; total time=   0.3s\n",
            "[CV] END max_depth=26, max_features=sqrt, min_samples_leaf=5, min_samples_split=2, n_estimators=427; total time=   0.5s\n",
            "[CV] END max_depth=26, max_features=sqrt, min_samples_leaf=5, min_samples_split=2, n_estimators=427; total time=   0.5s\n",
            "[CV] END max_depth=26, max_features=sqrt, min_samples_leaf=5, min_samples_split=2, n_estimators=427; total time=   0.5s\n",
            "[CV] END max_depth=26, max_features=sqrt, min_samples_leaf=5, min_samples_split=2, n_estimators=427; total time=   0.5s\n",
            "[CV] END max_depth=26, max_features=sqrt, min_samples_leaf=5, min_samples_split=2, n_estimators=427; total time=   0.5s\n",
            "[CV] END max_depth=5, max_features=sqrt, min_samples_leaf=1, min_samples_split=100, n_estimators=972; total time=   1.2s\n",
            "[CV] END max_depth=5, max_features=sqrt, min_samples_leaf=1, min_samples_split=100, n_estimators=972; total time=   1.2s\n",
            "[CV] END max_depth=5, max_features=sqrt, min_samples_leaf=1, min_samples_split=100, n_estimators=972; total time=   1.2s\n",
            "[CV] END max_depth=5, max_features=sqrt, min_samples_leaf=1, min_samples_split=100, n_estimators=972; total time=   1.2s\n",
            "[CV] END max_depth=5, max_features=sqrt, min_samples_leaf=1, min_samples_split=100, n_estimators=972; total time=   1.4s\n",
            "[CV] END max_depth=40, max_features=sqrt, min_samples_leaf=1, min_samples_split=100, n_estimators=972; total time=   2.0s\n",
            "[CV] END max_depth=40, max_features=sqrt, min_samples_leaf=1, min_samples_split=100, n_estimators=972; total time=   1.8s\n",
            "[CV] END max_depth=40, max_features=sqrt, min_samples_leaf=1, min_samples_split=100, n_estimators=972; total time=   1.2s\n",
            "[CV] END max_depth=40, max_features=sqrt, min_samples_leaf=1, min_samples_split=100, n_estimators=972; total time=   1.2s\n",
            "[CV] END max_depth=40, max_features=sqrt, min_samples_leaf=1, min_samples_split=100, n_estimators=972; total time=   1.2s\n",
            "[CV] END max_depth=19, max_features=sqrt, min_samples_leaf=1, min_samples_split=5, n_estimators=209; total time=   0.3s\n",
            "[CV] END max_depth=19, max_features=sqrt, min_samples_leaf=1, min_samples_split=5, n_estimators=209; total time=   0.3s\n",
            "[CV] END max_depth=19, max_features=sqrt, min_samples_leaf=1, min_samples_split=5, n_estimators=209; total time=   0.3s\n",
            "[CV] END max_depth=19, max_features=sqrt, min_samples_leaf=1, min_samples_split=5, n_estimators=209; total time=   0.3s\n",
            "[CV] END max_depth=19, max_features=sqrt, min_samples_leaf=1, min_samples_split=5, n_estimators=209; total time=   0.3s\n",
            "[CV] END max_depth=26, max_features=sqrt, min_samples_leaf=5, min_samples_split=100, n_estimators=318; total time=   0.4s\n",
            "[CV] END max_depth=26, max_features=sqrt, min_samples_leaf=5, min_samples_split=100, n_estimators=318; total time=   0.4s\n",
            "[CV] END max_depth=26, max_features=sqrt, min_samples_leaf=5, min_samples_split=100, n_estimators=318; total time=   0.4s\n",
            "[CV] END max_depth=26, max_features=sqrt, min_samples_leaf=5, min_samples_split=100, n_estimators=318; total time=   0.4s\n",
            "[CV] END max_depth=26, max_features=sqrt, min_samples_leaf=5, min_samples_split=100, n_estimators=318; total time=   0.4s\n",
            "[CV] END max_depth=40, max_features=sqrt, min_samples_leaf=1, min_samples_split=10, n_estimators=427; total time=   0.5s\n",
            "[CV] END max_depth=40, max_features=sqrt, min_samples_leaf=1, min_samples_split=10, n_estimators=427; total time=   0.5s\n",
            "[CV] END max_depth=40, max_features=sqrt, min_samples_leaf=1, min_samples_split=10, n_estimators=427; total time=   0.5s\n",
            "[CV] END max_depth=40, max_features=sqrt, min_samples_leaf=1, min_samples_split=10, n_estimators=427; total time=   0.5s\n",
            "[CV] END max_depth=40, max_features=sqrt, min_samples_leaf=1, min_samples_split=10, n_estimators=427; total time=   0.5s\n",
            "[CV] END max_depth=26, max_features=auto, min_samples_leaf=5, min_samples_split=10, n_estimators=318; total time=   0.6s\n",
            "[CV] END max_depth=26, max_features=auto, min_samples_leaf=5, min_samples_split=10, n_estimators=318; total time=   0.7s\n",
            "[CV] END max_depth=26, max_features=auto, min_samples_leaf=5, min_samples_split=10, n_estimators=318; total time=   0.7s\n",
            "[CV] END max_depth=26, max_features=auto, min_samples_leaf=5, min_samples_split=10, n_estimators=318; total time=   0.7s\n",
            "[CV] END max_depth=26, max_features=auto, min_samples_leaf=5, min_samples_split=10, n_estimators=318; total time=   0.7s\n",
            "[CV] END max_depth=40, max_features=sqrt, min_samples_leaf=2, min_samples_split=5, n_estimators=209; total time=   0.4s\n",
            "[CV] END max_depth=40, max_features=sqrt, min_samples_leaf=2, min_samples_split=5, n_estimators=209; total time=   0.4s\n",
            "[CV] END max_depth=40, max_features=sqrt, min_samples_leaf=2, min_samples_split=5, n_estimators=209; total time=   0.3s\n",
            "[CV] END max_depth=40, max_features=sqrt, min_samples_leaf=2, min_samples_split=5, n_estimators=209; total time=   0.3s\n",
            "[CV] END max_depth=40, max_features=sqrt, min_samples_leaf=2, min_samples_split=5, n_estimators=209; total time=   0.3s\n",
            "[CV] END max_depth=40, max_features=sqrt, min_samples_leaf=5, min_samples_split=10, n_estimators=427; total time=   0.5s\n",
            "[CV] END max_depth=40, max_features=sqrt, min_samples_leaf=5, min_samples_split=10, n_estimators=427; total time=   0.5s\n",
            "[CV] END max_depth=40, max_features=sqrt, min_samples_leaf=5, min_samples_split=10, n_estimators=427; total time=   0.5s\n",
            "[CV] END max_depth=40, max_features=sqrt, min_samples_leaf=5, min_samples_split=10, n_estimators=427; total time=   0.5s\n",
            "[CV] END max_depth=40, max_features=sqrt, min_samples_leaf=5, min_samples_split=10, n_estimators=427; total time=   0.5s\n",
            "[CV] END max_depth=12, max_features=sqrt, min_samples_leaf=10, min_samples_split=2, n_estimators=1300; total time=   1.6s\n",
            "[CV] END max_depth=12, max_features=sqrt, min_samples_leaf=10, min_samples_split=2, n_estimators=1300; total time=   1.6s\n",
            "[CV] END max_depth=12, max_features=sqrt, min_samples_leaf=10, min_samples_split=2, n_estimators=1300; total time=   1.6s\n",
            "[CV] END max_depth=12, max_features=sqrt, min_samples_leaf=10, min_samples_split=2, n_estimators=1300; total time=   1.6s\n",
            "[CV] END max_depth=12, max_features=sqrt, min_samples_leaf=10, min_samples_split=2, n_estimators=1300; total time=   2.6s\n",
            "[CV] END max_depth=12, max_features=auto, min_samples_leaf=2, min_samples_split=10, n_estimators=100; total time=   0.2s\n",
            "[CV] END max_depth=12, max_features=auto, min_samples_leaf=2, min_samples_split=10, n_estimators=100; total time=   0.2s\n",
            "[CV] END max_depth=12, max_features=auto, min_samples_leaf=2, min_samples_split=10, n_estimators=100; total time=   0.2s\n",
            "[CV] END max_depth=12, max_features=auto, min_samples_leaf=2, min_samples_split=10, n_estimators=100; total time=   0.2s\n",
            "[CV] END max_depth=12, max_features=auto, min_samples_leaf=2, min_samples_split=10, n_estimators=100; total time=   0.2s\n",
            "[CV] END max_depth=40, max_features=auto, min_samples_leaf=2, min_samples_split=2, n_estimators=209; total time=   0.4s\n",
            "[CV] END max_depth=40, max_features=auto, min_samples_leaf=2, min_samples_split=2, n_estimators=209; total time=   0.3s\n",
            "[CV] END max_depth=40, max_features=auto, min_samples_leaf=2, min_samples_split=2, n_estimators=209; total time=   0.3s\n",
            "[CV] END max_depth=40, max_features=auto, min_samples_leaf=2, min_samples_split=2, n_estimators=209; total time=   0.3s\n",
            "[CV] END max_depth=40, max_features=auto, min_samples_leaf=2, min_samples_split=2, n_estimators=209; total time=   0.3s\n",
            "[CV] END max_depth=19, max_features=sqrt, min_samples_leaf=10, min_samples_split=5, n_estimators=427; total time=   0.5s\n",
            "[CV] END max_depth=19, max_features=sqrt, min_samples_leaf=10, min_samples_split=5, n_estimators=427; total time=   0.5s\n",
            "[CV] END max_depth=19, max_features=sqrt, min_samples_leaf=10, min_samples_split=5, n_estimators=427; total time=   0.5s\n",
            "[CV] END max_depth=19, max_features=sqrt, min_samples_leaf=10, min_samples_split=5, n_estimators=427; total time=   0.5s\n",
            "[CV] END max_depth=19, max_features=sqrt, min_samples_leaf=10, min_samples_split=5, n_estimators=427; total time=   0.5s\n",
            "[CV] END max_depth=19, max_features=auto, min_samples_leaf=1, min_samples_split=15, n_estimators=1081; total time=   1.4s\n",
            "[CV] END max_depth=19, max_features=auto, min_samples_leaf=1, min_samples_split=15, n_estimators=1081; total time=   1.3s\n",
            "[CV] END max_depth=19, max_features=auto, min_samples_leaf=1, min_samples_split=15, n_estimators=1081; total time=   1.4s\n",
            "[CV] END max_depth=19, max_features=auto, min_samples_leaf=1, min_samples_split=15, n_estimators=1081; total time=   1.4s\n",
            "[CV] END max_depth=19, max_features=auto, min_samples_leaf=1, min_samples_split=15, n_estimators=1081; total time=   1.7s\n",
            "[CV] END max_depth=5, max_features=sqrt, min_samples_leaf=10, min_samples_split=100, n_estimators=1190; total time=   2.4s\n",
            "[CV] END max_depth=5, max_features=sqrt, min_samples_leaf=10, min_samples_split=100, n_estimators=1190; total time=   1.7s\n",
            "[CV] END max_depth=5, max_features=sqrt, min_samples_leaf=10, min_samples_split=100, n_estimators=1190; total time=   1.4s\n",
            "[CV] END max_depth=5, max_features=sqrt, min_samples_leaf=10, min_samples_split=100, n_estimators=1190; total time=   1.5s\n",
            "[CV] END max_depth=5, max_features=sqrt, min_samples_leaf=10, min_samples_split=100, n_estimators=1190; total time=   1.5s\n",
            "[CV] END max_depth=40, max_features=auto, min_samples_leaf=5, min_samples_split=100, n_estimators=972; total time=   1.2s\n",
            "[CV] END max_depth=40, max_features=auto, min_samples_leaf=5, min_samples_split=100, n_estimators=972; total time=   1.2s\n",
            "[CV] END max_depth=40, max_features=auto, min_samples_leaf=5, min_samples_split=100, n_estimators=972; total time=   1.2s\n",
            "[CV] END max_depth=40, max_features=auto, min_samples_leaf=5, min_samples_split=100, n_estimators=972; total time=   1.4s\n",
            "[CV] END max_depth=40, max_features=auto, min_samples_leaf=5, min_samples_split=100, n_estimators=972; total time=   2.1s\n",
            "[CV] END max_depth=19, max_features=sqrt, min_samples_leaf=5, min_samples_split=100, n_estimators=318; total time=   0.6s\n",
            "[CV] END max_depth=19, max_features=sqrt, min_samples_leaf=5, min_samples_split=100, n_estimators=318; total time=   0.7s\n",
            "[CV] END max_depth=19, max_features=sqrt, min_samples_leaf=5, min_samples_split=100, n_estimators=318; total time=   0.4s\n",
            "[CV] END max_depth=19, max_features=sqrt, min_samples_leaf=5, min_samples_split=100, n_estimators=318; total time=   0.4s\n",
            "[CV] END max_depth=19, max_features=sqrt, min_samples_leaf=5, min_samples_split=100, n_estimators=318; total time=   0.4s\n",
            "[CV] END max_depth=12, max_features=sqrt, min_samples_leaf=1, min_samples_split=15, n_estimators=1300; total time=   1.6s\n",
            "[CV] END max_depth=12, max_features=sqrt, min_samples_leaf=1, min_samples_split=15, n_estimators=1300; total time=   1.6s\n",
            "[CV] END max_depth=12, max_features=sqrt, min_samples_leaf=1, min_samples_split=15, n_estimators=1300; total time=   1.6s\n",
            "[CV] END max_depth=12, max_features=sqrt, min_samples_leaf=1, min_samples_split=15, n_estimators=1300; total time=   1.6s\n",
            "[CV] END max_depth=12, max_features=sqrt, min_samples_leaf=1, min_samples_split=15, n_estimators=1300; total time=   1.6s\n",
            "[CV] END max_depth=12, max_features=sqrt, min_samples_leaf=1, min_samples_split=5, n_estimators=1081; total time=   1.6s\n",
            "[CV] END max_depth=12, max_features=sqrt, min_samples_leaf=1, min_samples_split=5, n_estimators=1081; total time=   2.3s\n",
            "[CV] END max_depth=12, max_features=sqrt, min_samples_leaf=1, min_samples_split=5, n_estimators=1081; total time=   1.8s\n",
            "[CV] END max_depth=12, max_features=sqrt, min_samples_leaf=1, min_samples_split=5, n_estimators=1081; total time=   1.3s\n",
            "[CV] END max_depth=12, max_features=sqrt, min_samples_leaf=1, min_samples_split=5, n_estimators=1081; total time=   1.3s\n",
            "[CV] END max_depth=5, max_features=auto, min_samples_leaf=5, min_samples_split=15, n_estimators=754; total time=   0.9s\n",
            "[CV] END max_depth=5, max_features=auto, min_samples_leaf=5, min_samples_split=15, n_estimators=754; total time=   1.0s\n",
            "[CV] END max_depth=5, max_features=auto, min_samples_leaf=5, min_samples_split=15, n_estimators=754; total time=   1.0s\n",
            "[CV] END max_depth=5, max_features=auto, min_samples_leaf=5, min_samples_split=15, n_estimators=754; total time=   1.0s\n",
            "[CV] END max_depth=5, max_features=auto, min_samples_leaf=5, min_samples_split=15, n_estimators=754; total time=   1.0s\n",
            "[CV] END max_depth=33, max_features=sqrt, min_samples_leaf=2, min_samples_split=2, n_estimators=209; total time=   0.3s\n",
            "[CV] END max_depth=33, max_features=sqrt, min_samples_leaf=2, min_samples_split=2, n_estimators=209; total time=   0.3s\n",
            "[CV] END max_depth=33, max_features=sqrt, min_samples_leaf=2, min_samples_split=2, n_estimators=209; total time=   0.3s\n",
            "[CV] END max_depth=33, max_features=sqrt, min_samples_leaf=2, min_samples_split=2, n_estimators=209; total time=   0.3s\n",
            "[CV] END max_depth=33, max_features=sqrt, min_samples_leaf=2, min_samples_split=2, n_estimators=209; total time=   0.3s\n",
            "[CV] END max_depth=40, max_features=auto, min_samples_leaf=1, min_samples_split=5, n_estimators=754; total time=   1.3s\n",
            "[CV] END max_depth=40, max_features=auto, min_samples_leaf=1, min_samples_split=5, n_estimators=754; total time=   1.6s\n",
            "[CV] END max_depth=40, max_features=auto, min_samples_leaf=1, min_samples_split=5, n_estimators=754; total time=   1.6s\n",
            "[CV] END max_depth=40, max_features=auto, min_samples_leaf=1, min_samples_split=5, n_estimators=754; total time=   1.0s\n",
            "[CV] END max_depth=40, max_features=auto, min_samples_leaf=1, min_samples_split=5, n_estimators=754; total time=   1.0s\n",
            "[CV] END max_depth=26, max_features=sqrt, min_samples_leaf=10, min_samples_split=100, n_estimators=536; total time=   0.6s\n",
            "[CV] END max_depth=26, max_features=sqrt, min_samples_leaf=10, min_samples_split=100, n_estimators=536; total time=   0.7s\n",
            "[CV] END max_depth=26, max_features=sqrt, min_samples_leaf=10, min_samples_split=100, n_estimators=536; total time=   0.7s\n",
            "[CV] END max_depth=26, max_features=sqrt, min_samples_leaf=10, min_samples_split=100, n_estimators=536; total time=   0.6s\n",
            "[CV] END max_depth=26, max_features=sqrt, min_samples_leaf=10, min_samples_split=100, n_estimators=536; total time=   0.7s\n",
            "[CV] END max_depth=40, max_features=sqrt, min_samples_leaf=10, min_samples_split=2, n_estimators=645; total time=   0.8s\n",
            "[CV] END max_depth=40, max_features=sqrt, min_samples_leaf=10, min_samples_split=2, n_estimators=645; total time=   0.8s\n",
            "[CV] END max_depth=40, max_features=sqrt, min_samples_leaf=10, min_samples_split=2, n_estimators=645; total time=   0.8s\n",
            "[CV] END max_depth=40, max_features=sqrt, min_samples_leaf=10, min_samples_split=2, n_estimators=645; total time=   0.8s\n",
            "[CV] END max_depth=40, max_features=sqrt, min_samples_leaf=10, min_samples_split=2, n_estimators=645; total time=   0.8s\n",
            "[CV] END max_depth=12, max_features=sqrt, min_samples_leaf=2, min_samples_split=2, n_estimators=1081; total time=   1.6s\n",
            "[CV] END max_depth=12, max_features=sqrt, min_samples_leaf=2, min_samples_split=2, n_estimators=1081; total time=   2.2s\n",
            "[CV] END max_depth=12, max_features=sqrt, min_samples_leaf=2, min_samples_split=2, n_estimators=1081; total time=   1.7s\n",
            "[CV] END max_depth=12, max_features=sqrt, min_samples_leaf=2, min_samples_split=2, n_estimators=1081; total time=   1.3s\n",
            "[CV] END max_depth=12, max_features=sqrt, min_samples_leaf=2, min_samples_split=2, n_estimators=1081; total time=   1.4s\n",
            "[CV] END max_depth=5, max_features=auto, min_samples_leaf=10, min_samples_split=5, n_estimators=536; total time=   0.7s\n",
            "[CV] END max_depth=5, max_features=auto, min_samples_leaf=10, min_samples_split=5, n_estimators=536; total time=   0.7s\n",
            "[CV] END max_depth=5, max_features=auto, min_samples_leaf=10, min_samples_split=5, n_estimators=536; total time=   0.7s\n",
            "[CV] END max_depth=5, max_features=auto, min_samples_leaf=10, min_samples_split=5, n_estimators=536; total time=   0.7s\n",
            "[CV] END max_depth=5, max_features=auto, min_samples_leaf=10, min_samples_split=5, n_estimators=536; total time=   0.7s\n",
            "[CV] END max_depth=33, max_features=auto, min_samples_leaf=10, min_samples_split=10, n_estimators=754; total time=   1.0s\n",
            "[CV] END max_depth=33, max_features=auto, min_samples_leaf=10, min_samples_split=10, n_estimators=754; total time=   1.0s\n",
            "[CV] END max_depth=33, max_features=auto, min_samples_leaf=10, min_samples_split=10, n_estimators=754; total time=   1.0s\n",
            "[CV] END max_depth=33, max_features=auto, min_samples_leaf=10, min_samples_split=10, n_estimators=754; total time=   1.5s\n",
            "[CV] END max_depth=33, max_features=auto, min_samples_leaf=10, min_samples_split=10, n_estimators=754; total time=   1.6s\n",
            "[CV] END max_depth=40, max_features=sqrt, min_samples_leaf=10, min_samples_split=15, n_estimators=1081; total time=   1.8s\n",
            "[CV] END max_depth=40, max_features=sqrt, min_samples_leaf=10, min_samples_split=15, n_estimators=1081; total time=   1.3s\n",
            "[CV] END max_depth=40, max_features=sqrt, min_samples_leaf=10, min_samples_split=15, n_estimators=1081; total time=   1.3s\n",
            "[CV] END max_depth=40, max_features=sqrt, min_samples_leaf=10, min_samples_split=15, n_estimators=1081; total time=   1.3s\n",
            "[CV] END max_depth=40, max_features=sqrt, min_samples_leaf=10, min_samples_split=15, n_estimators=1081; total time=   1.3s\n",
            "[CV] END max_depth=26, max_features=sqrt, min_samples_leaf=1, min_samples_split=5, n_estimators=645; total time=   0.8s\n",
            "[CV] END max_depth=26, max_features=sqrt, min_samples_leaf=1, min_samples_split=5, n_estimators=645; total time=   0.8s\n",
            "[CV] END max_depth=26, max_features=sqrt, min_samples_leaf=1, min_samples_split=5, n_estimators=645; total time=   1.1s\n",
            "[CV] END max_depth=26, max_features=sqrt, min_samples_leaf=1, min_samples_split=5, n_estimators=645; total time=   1.4s\n",
            "[CV] END max_depth=26, max_features=sqrt, min_samples_leaf=1, min_samples_split=5, n_estimators=645; total time=   1.6s\n",
            "[CV] END max_depth=5, max_features=sqrt, min_samples_leaf=2, min_samples_split=2, n_estimators=1081; total time=   2.5s\n",
            "[CV] END max_depth=5, max_features=sqrt, min_samples_leaf=2, min_samples_split=2, n_estimators=1081; total time=   1.9s\n",
            "[CV] END max_depth=5, max_features=sqrt, min_samples_leaf=2, min_samples_split=2, n_estimators=1081; total time=   1.4s\n",
            "[CV] END max_depth=5, max_features=sqrt, min_samples_leaf=2, min_samples_split=2, n_estimators=1081; total time=   1.3s\n",
            "[CV] END max_depth=5, max_features=sqrt, min_samples_leaf=2, min_samples_split=2, n_estimators=1081; total time=   1.3s\n",
            "[CV] END max_depth=33, max_features=auto, min_samples_leaf=5, min_samples_split=15, n_estimators=972; total time=   1.2s\n",
            "[CV] END max_depth=33, max_features=auto, min_samples_leaf=5, min_samples_split=15, n_estimators=972; total time=   1.2s\n",
            "[CV] END max_depth=33, max_features=auto, min_samples_leaf=5, min_samples_split=15, n_estimators=972; total time=   1.2s\n",
            "[CV] END max_depth=33, max_features=auto, min_samples_leaf=5, min_samples_split=15, n_estimators=972; total time=   1.2s\n",
            "[CV] END max_depth=33, max_features=auto, min_samples_leaf=5, min_samples_split=15, n_estimators=972; total time=   1.8s\n",
            "[CV] END max_depth=26, max_features=sqrt, min_samples_leaf=1, min_samples_split=15, n_estimators=1190; total time=   2.4s\n",
            "[CV] END max_depth=26, max_features=sqrt, min_samples_leaf=1, min_samples_split=15, n_estimators=1190; total time=   1.6s\n",
            "[CV] END max_depth=26, max_features=sqrt, min_samples_leaf=1, min_samples_split=15, n_estimators=1190; total time=   1.5s\n",
            "[CV] END max_depth=26, max_features=sqrt, min_samples_leaf=1, min_samples_split=15, n_estimators=1190; total time=   1.4s\n",
            "[CV] END max_depth=26, max_features=sqrt, min_samples_leaf=1, min_samples_split=15, n_estimators=1190; total time=   1.4s\n",
            "[CV] END max_depth=12, max_features=sqrt, min_samples_leaf=1, min_samples_split=10, n_estimators=1300; total time=   1.6s\n",
            "[CV] END max_depth=12, max_features=sqrt, min_samples_leaf=1, min_samples_split=10, n_estimators=1300; total time=   1.6s\n",
            "[CV] END max_depth=12, max_features=sqrt, min_samples_leaf=1, min_samples_split=10, n_estimators=1300; total time=   1.9s\n",
            "[CV] END max_depth=12, max_features=sqrt, min_samples_leaf=1, min_samples_split=10, n_estimators=1300; total time=   2.7s\n",
            "[CV] END max_depth=12, max_features=sqrt, min_samples_leaf=1, min_samples_split=10, n_estimators=1300; total time=   1.9s\n",
            "[CV] END max_depth=5, max_features=sqrt, min_samples_leaf=10, min_samples_split=5, n_estimators=536; total time=   0.6s\n",
            "[CV] END max_depth=5, max_features=sqrt, min_samples_leaf=10, min_samples_split=5, n_estimators=536; total time=   0.7s\n",
            "[CV] END max_depth=5, max_features=sqrt, min_samples_leaf=10, min_samples_split=5, n_estimators=536; total time=   0.6s\n",
            "[CV] END max_depth=5, max_features=sqrt, min_samples_leaf=10, min_samples_split=5, n_estimators=536; total time=   0.6s\n",
            "[CV] END max_depth=5, max_features=sqrt, min_samples_leaf=10, min_samples_split=5, n_estimators=536; total time=   0.7s\n",
            "[CV] END max_depth=40, max_features=sqrt, min_samples_leaf=5, min_samples_split=5, n_estimators=972; total time=   1.2s\n",
            "[CV] END max_depth=40, max_features=sqrt, min_samples_leaf=5, min_samples_split=5, n_estimators=972; total time=   1.2s\n",
            "[CV] END max_depth=40, max_features=sqrt, min_samples_leaf=5, min_samples_split=5, n_estimators=972; total time=   1.2s\n",
            "[CV] END max_depth=40, max_features=sqrt, min_samples_leaf=5, min_samples_split=5, n_estimators=972; total time=   1.2s\n",
            "[CV] END max_depth=40, max_features=sqrt, min_samples_leaf=5, min_samples_split=5, n_estimators=972; total time=   1.4s\n",
            "[CV] END max_depth=19, max_features=auto, min_samples_leaf=1, min_samples_split=15, n_estimators=318; total time=   0.7s\n",
            "[CV] END max_depth=19, max_features=auto, min_samples_leaf=1, min_samples_split=15, n_estimators=318; total time=   0.7s\n",
            "[CV] END max_depth=19, max_features=auto, min_samples_leaf=1, min_samples_split=15, n_estimators=318; total time=   0.7s\n",
            "[CV] END max_depth=19, max_features=auto, min_samples_leaf=1, min_samples_split=15, n_estimators=318; total time=   0.7s\n",
            "[CV] END max_depth=19, max_features=auto, min_samples_leaf=1, min_samples_split=15, n_estimators=318; total time=   0.6s\n",
            "[CV] END max_depth=26, max_features=auto, min_samples_leaf=1, min_samples_split=10, n_estimators=1300; total time=   1.7s\n",
            "[CV] END max_depth=26, max_features=auto, min_samples_leaf=1, min_samples_split=10, n_estimators=1300; total time=   1.7s\n",
            "[CV] END max_depth=26, max_features=auto, min_samples_leaf=1, min_samples_split=10, n_estimators=1300; total time=   1.6s\n",
            "[CV] END max_depth=26, max_features=auto, min_samples_leaf=1, min_samples_split=10, n_estimators=1300; total time=   1.6s\n",
            "[CV] END max_depth=26, max_features=auto, min_samples_leaf=1, min_samples_split=10, n_estimators=1300; total time=   1.6s\n",
            "[CV] END max_depth=5, max_features=sqrt, min_samples_leaf=10, min_samples_split=5, n_estimators=209; total time=   0.3s\n",
            "[CV] END max_depth=5, max_features=sqrt, min_samples_leaf=10, min_samples_split=5, n_estimators=209; total time=   0.3s\n",
            "[CV] END max_depth=5, max_features=sqrt, min_samples_leaf=10, min_samples_split=5, n_estimators=209; total time=   0.3s\n",
            "[CV] END max_depth=5, max_features=sqrt, min_samples_leaf=10, min_samples_split=5, n_estimators=209; total time=   0.3s\n",
            "[CV] END max_depth=5, max_features=sqrt, min_samples_leaf=10, min_samples_split=5, n_estimators=209; total time=   0.3s\n",
            "[CV] END max_depth=40, max_features=sqrt, min_samples_leaf=10, min_samples_split=100, n_estimators=972; total time=   1.7s\n",
            "[CV] END max_depth=40, max_features=sqrt, min_samples_leaf=10, min_samples_split=100, n_estimators=972; total time=   2.0s\n",
            "[CV] END max_depth=40, max_features=sqrt, min_samples_leaf=10, min_samples_split=100, n_estimators=972; total time=   1.5s\n",
            "[CV] END max_depth=40, max_features=sqrt, min_samples_leaf=10, min_samples_split=100, n_estimators=972; total time=   1.1s\n",
            "[CV] END max_depth=40, max_features=sqrt, min_samples_leaf=10, min_samples_split=100, n_estimators=972; total time=   1.2s\n",
            "[CV] END max_depth=40, max_features=sqrt, min_samples_leaf=2, min_samples_split=100, n_estimators=209; total time=   0.3s\n",
            "[CV] END max_depth=40, max_features=sqrt, min_samples_leaf=2, min_samples_split=100, n_estimators=209; total time=   0.3s\n",
            "[CV] END max_depth=40, max_features=sqrt, min_samples_leaf=2, min_samples_split=100, n_estimators=209; total time=   0.3s\n",
            "[CV] END max_depth=40, max_features=sqrt, min_samples_leaf=2, min_samples_split=100, n_estimators=209; total time=   0.3s\n",
            "[CV] END max_depth=40, max_features=sqrt, min_samples_leaf=2, min_samples_split=100, n_estimators=209; total time=   0.3s\n",
            "[CV] END max_depth=5, max_features=auto, min_samples_leaf=5, min_samples_split=100, n_estimators=1190; total time=   1.5s\n",
            "[CV] END max_depth=5, max_features=auto, min_samples_leaf=5, min_samples_split=100, n_estimators=1190; total time=   1.5s\n",
            "[CV] END max_depth=5, max_features=auto, min_samples_leaf=5, min_samples_split=100, n_estimators=1190; total time=   1.5s\n",
            "[CV] END max_depth=5, max_features=auto, min_samples_leaf=5, min_samples_split=100, n_estimators=1190; total time=   1.7s\n",
            "[CV] END max_depth=5, max_features=auto, min_samples_leaf=5, min_samples_split=100, n_estimators=1190; total time=   2.5s\n",
            "[CV] END max_depth=12, max_features=sqrt, min_samples_leaf=1, min_samples_split=2, n_estimators=863; total time=   1.5s\n",
            "[CV] END max_depth=12, max_features=sqrt, min_samples_leaf=1, min_samples_split=2, n_estimators=863; total time=   1.1s\n",
            "[CV] END max_depth=12, max_features=sqrt, min_samples_leaf=1, min_samples_split=2, n_estimators=863; total time=   1.1s\n",
            "[CV] END max_depth=12, max_features=sqrt, min_samples_leaf=1, min_samples_split=2, n_estimators=863; total time=   1.0s\n",
            "[CV] END max_depth=12, max_features=sqrt, min_samples_leaf=1, min_samples_split=2, n_estimators=863; total time=   1.1s\n",
            "[CV] END max_depth=33, max_features=sqrt, min_samples_leaf=5, min_samples_split=2, n_estimators=754; total time=   0.9s\n",
            "[CV] END max_depth=33, max_features=sqrt, min_samples_leaf=5, min_samples_split=2, n_estimators=754; total time=   0.9s\n",
            "[CV] END max_depth=33, max_features=sqrt, min_samples_leaf=5, min_samples_split=2, n_estimators=754; total time=   0.9s\n",
            "[CV] END max_depth=33, max_features=sqrt, min_samples_leaf=5, min_samples_split=2, n_estimators=754; total time=   0.9s\n",
            "[CV] END max_depth=33, max_features=sqrt, min_samples_leaf=5, min_samples_split=2, n_estimators=754; total time=   0.9s\n",
            "[CV] END max_depth=5, max_features=sqrt, min_samples_leaf=2, min_samples_split=10, n_estimators=100; total time=   0.1s\n",
            "[CV] END max_depth=5, max_features=sqrt, min_samples_leaf=2, min_samples_split=10, n_estimators=100; total time=   0.1s\n",
            "[CV] END max_depth=5, max_features=sqrt, min_samples_leaf=2, min_samples_split=10, n_estimators=100; total time=   0.1s\n",
            "[CV] END max_depth=5, max_features=sqrt, min_samples_leaf=2, min_samples_split=10, n_estimators=100; total time=   0.1s\n",
            "[CV] END max_depth=5, max_features=sqrt, min_samples_leaf=2, min_samples_split=10, n_estimators=100; total time=   0.2s\n",
            "[CV] END max_depth=12, max_features=sqrt, min_samples_leaf=1, min_samples_split=15, n_estimators=1081; total time=   2.2s\n",
            "[CV] END max_depth=12, max_features=sqrt, min_samples_leaf=1, min_samples_split=15, n_estimators=1081; total time=   1.9s\n",
            "[CV] END max_depth=12, max_features=sqrt, min_samples_leaf=1, min_samples_split=15, n_estimators=1081; total time=   1.3s\n",
            "[CV] END max_depth=12, max_features=sqrt, min_samples_leaf=1, min_samples_split=15, n_estimators=1081; total time=   1.3s\n",
            "[CV] END max_depth=12, max_features=sqrt, min_samples_leaf=1, min_samples_split=15, n_estimators=1081; total time=   1.3s\n",
            "[CV] END max_depth=26, max_features=auto, min_samples_leaf=1, min_samples_split=10, n_estimators=536; total time=   0.7s\n",
            "[CV] END max_depth=26, max_features=auto, min_samples_leaf=1, min_samples_split=10, n_estimators=536; total time=   0.7s\n",
            "[CV] END max_depth=26, max_features=auto, min_samples_leaf=1, min_samples_split=10, n_estimators=536; total time=   0.7s\n",
            "[CV] END max_depth=26, max_features=auto, min_samples_leaf=1, min_samples_split=10, n_estimators=536; total time=   0.7s\n",
            "[CV] END max_depth=26, max_features=auto, min_samples_leaf=1, min_samples_split=10, n_estimators=536; total time=   0.7s\n",
            "[CV] END max_depth=26, max_features=sqrt, min_samples_leaf=1, min_samples_split=15, n_estimators=209; total time=   0.3s\n",
            "[CV] END max_depth=26, max_features=sqrt, min_samples_leaf=1, min_samples_split=15, n_estimators=209; total time=   0.3s\n",
            "[CV] END max_depth=26, max_features=sqrt, min_samples_leaf=1, min_samples_split=15, n_estimators=209; total time=   0.3s\n",
            "[CV] END max_depth=26, max_features=sqrt, min_samples_leaf=1, min_samples_split=15, n_estimators=209; total time=   0.3s\n",
            "[CV] END max_depth=26, max_features=sqrt, min_samples_leaf=1, min_samples_split=15, n_estimators=209; total time=   0.3s\n",
            "[CV] END max_depth=12, max_features=auto, min_samples_leaf=10, min_samples_split=10, n_estimators=1300; total time=   2.1s\n",
            "[CV] END max_depth=12, max_features=auto, min_samples_leaf=10, min_samples_split=10, n_estimators=1300; total time=   2.8s\n",
            "[CV] END max_depth=12, max_features=auto, min_samples_leaf=10, min_samples_split=10, n_estimators=1300; total time=   1.7s\n",
            "[CV] END max_depth=12, max_features=auto, min_samples_leaf=10, min_samples_split=10, n_estimators=1300; total time=   1.7s\n",
            "[CV] END max_depth=12, max_features=auto, min_samples_leaf=10, min_samples_split=10, n_estimators=1300; total time=   1.6s\n",
            "[CV] END max_depth=40, max_features=auto, min_samples_leaf=1, min_samples_split=5, n_estimators=536; total time=   0.7s\n",
            "[CV] END max_depth=40, max_features=auto, min_samples_leaf=1, min_samples_split=5, n_estimators=536; total time=   0.7s\n",
            "[CV] END max_depth=40, max_features=auto, min_samples_leaf=1, min_samples_split=5, n_estimators=536; total time=   0.7s\n",
            "[CV] END max_depth=40, max_features=auto, min_samples_leaf=1, min_samples_split=5, n_estimators=536; total time=   0.7s\n",
            "[CV] END max_depth=40, max_features=auto, min_samples_leaf=1, min_samples_split=5, n_estimators=536; total time=   0.7s\n",
            "[CV] END max_depth=26, max_features=sqrt, min_samples_leaf=10, min_samples_split=100, n_estimators=1190; total time=   1.5s\n",
            "[CV] END max_depth=26, max_features=sqrt, min_samples_leaf=10, min_samples_split=100, n_estimators=1190; total time=   2.2s\n",
            "[CV] END max_depth=26, max_features=sqrt, min_samples_leaf=10, min_samples_split=100, n_estimators=1190; total time=   2.3s\n",
            "[CV] END max_depth=26, max_features=sqrt, min_samples_leaf=10, min_samples_split=100, n_estimators=1190; total time=   1.5s\n",
            "[CV] END max_depth=26, max_features=sqrt, min_samples_leaf=10, min_samples_split=100, n_estimators=1190; total time=   1.4s\n",
            "[CV] END max_depth=12, max_features=auto, min_samples_leaf=2, min_samples_split=5, n_estimators=318; total time=   0.4s\n",
            "[CV] END max_depth=12, max_features=auto, min_samples_leaf=2, min_samples_split=5, n_estimators=318; total time=   0.4s\n",
            "[CV] END max_depth=12, max_features=auto, min_samples_leaf=2, min_samples_split=5, n_estimators=318; total time=   0.4s\n",
            "[CV] END max_depth=12, max_features=auto, min_samples_leaf=2, min_samples_split=5, n_estimators=318; total time=   0.4s\n",
            "[CV] END max_depth=12, max_features=auto, min_samples_leaf=2, min_samples_split=5, n_estimators=318; total time=   0.4s\n",
            "[CV] END max_depth=19, max_features=sqrt, min_samples_leaf=1, min_samples_split=2, n_estimators=536; total time=   0.7s\n",
            "[CV] END max_depth=19, max_features=sqrt, min_samples_leaf=1, min_samples_split=2, n_estimators=536; total time=   0.7s\n",
            "[CV] END max_depth=19, max_features=sqrt, min_samples_leaf=1, min_samples_split=2, n_estimators=536; total time=   0.7s\n",
            "[CV] END max_depth=19, max_features=sqrt, min_samples_leaf=1, min_samples_split=2, n_estimators=536; total time=   0.7s\n",
            "[CV] END max_depth=19, max_features=sqrt, min_samples_leaf=1, min_samples_split=2, n_estimators=536; total time=   0.7s\n",
            "[CV] END max_depth=26, max_features=sqrt, min_samples_leaf=2, min_samples_split=2, n_estimators=536; total time=   0.7s\n",
            "[CV] END max_depth=26, max_features=sqrt, min_samples_leaf=2, min_samples_split=2, n_estimators=536; total time=   0.7s\n",
            "[CV] END max_depth=26, max_features=sqrt, min_samples_leaf=2, min_samples_split=2, n_estimators=536; total time=   1.1s\n",
            "[CV] END max_depth=26, max_features=sqrt, min_samples_leaf=2, min_samples_split=2, n_estimators=536; total time=   1.1s\n",
            "[CV] END max_depth=26, max_features=sqrt, min_samples_leaf=2, min_samples_split=2, n_estimators=536; total time=   1.1s\n",
            "[CV] END max_depth=26, max_features=sqrt, min_samples_leaf=1, min_samples_split=10, n_estimators=754; total time=   1.3s\n",
            "[CV] END max_depth=26, max_features=sqrt, min_samples_leaf=1, min_samples_split=10, n_estimators=754; total time=   0.9s\n",
            "[CV] END max_depth=26, max_features=sqrt, min_samples_leaf=1, min_samples_split=10, n_estimators=754; total time=   0.9s\n",
            "[CV] END max_depth=26, max_features=sqrt, min_samples_leaf=1, min_samples_split=10, n_estimators=754; total time=   0.9s\n",
            "[CV] END max_depth=26, max_features=sqrt, min_samples_leaf=1, min_samples_split=10, n_estimators=754; total time=   1.0s\n"
          ]
        },
        {
          "output_type": "execute_result",
          "data": {
            "text/plain": [
              "RandomizedSearchCV(cv=5, estimator=RandomForestRegressor(), n_iter=100,\n",
              "                   n_jobs=1,\n",
              "                   param_distributions={'max_depth': [5, 12, 19, 26, 33, 40],\n",
              "                                        'max_features': ['auto', 'sqrt'],\n",
              "                                        'min_samples_leaf': [1, 2, 5, 10],\n",
              "                                        'min_samples_split': [2, 5, 10, 15,\n",
              "                                                              100],\n",
              "                                        'n_estimators': [100, 209, 318, 427,\n",
              "                                                         536, 645, 754, 863,\n",
              "                                                         972, 1081, 1190,\n",
              "                                                         1300]},\n",
              "                   random_state=42, scoring='neg_mean_squared_error',\n",
              "                   verbose=2)"
            ],
            "text/html": [
              "<style>#sk-container-id-25 {color: black;background-color: white;}#sk-container-id-25 pre{padding: 0;}#sk-container-id-25 div.sk-toggleable {background-color: white;}#sk-container-id-25 label.sk-toggleable__label {cursor: pointer;display: block;width: 100%;margin-bottom: 0;padding: 0.3em;box-sizing: border-box;text-align: center;}#sk-container-id-25 label.sk-toggleable__label-arrow:before {content: \"▸\";float: left;margin-right: 0.25em;color: #696969;}#sk-container-id-25 label.sk-toggleable__label-arrow:hover:before {color: black;}#sk-container-id-25 div.sk-estimator:hover label.sk-toggleable__label-arrow:before {color: black;}#sk-container-id-25 div.sk-toggleable__content {max-height: 0;max-width: 0;overflow: hidden;text-align: left;background-color: #f0f8ff;}#sk-container-id-25 div.sk-toggleable__content pre {margin: 0.2em;color: black;border-radius: 0.25em;background-color: #f0f8ff;}#sk-container-id-25 input.sk-toggleable__control:checked~div.sk-toggleable__content {max-height: 200px;max-width: 100%;overflow: auto;}#sk-container-id-25 input.sk-toggleable__control:checked~label.sk-toggleable__label-arrow:before {content: \"▾\";}#sk-container-id-25 div.sk-estimator input.sk-toggleable__control:checked~label.sk-toggleable__label {background-color: #d4ebff;}#sk-container-id-25 div.sk-label input.sk-toggleable__control:checked~label.sk-toggleable__label {background-color: #d4ebff;}#sk-container-id-25 input.sk-hidden--visually {border: 0;clip: rect(1px 1px 1px 1px);clip: rect(1px, 1px, 1px, 1px);height: 1px;margin: -1px;overflow: hidden;padding: 0;position: absolute;width: 1px;}#sk-container-id-25 div.sk-estimator {font-family: monospace;background-color: #f0f8ff;border: 1px dotted black;border-radius: 0.25em;box-sizing: border-box;margin-bottom: 0.5em;}#sk-container-id-25 div.sk-estimator:hover {background-color: #d4ebff;}#sk-container-id-25 div.sk-parallel-item::after {content: \"\";width: 100%;border-bottom: 1px solid gray;flex-grow: 1;}#sk-container-id-25 div.sk-label:hover label.sk-toggleable__label {background-color: #d4ebff;}#sk-container-id-25 div.sk-serial::before {content: \"\";position: absolute;border-left: 1px solid gray;box-sizing: border-box;top: 0;bottom: 0;left: 50%;z-index: 0;}#sk-container-id-25 div.sk-serial {display: flex;flex-direction: column;align-items: center;background-color: white;padding-right: 0.2em;padding-left: 0.2em;position: relative;}#sk-container-id-25 div.sk-item {position: relative;z-index: 1;}#sk-container-id-25 div.sk-parallel {display: flex;align-items: stretch;justify-content: center;background-color: white;position: relative;}#sk-container-id-25 div.sk-item::before, #sk-container-id-25 div.sk-parallel-item::before {content: \"\";position: absolute;border-left: 1px solid gray;box-sizing: border-box;top: 0;bottom: 0;left: 50%;z-index: -1;}#sk-container-id-25 div.sk-parallel-item {display: flex;flex-direction: column;z-index: 1;position: relative;background-color: white;}#sk-container-id-25 div.sk-parallel-item:first-child::after {align-self: flex-end;width: 50%;}#sk-container-id-25 div.sk-parallel-item:last-child::after {align-self: flex-start;width: 50%;}#sk-container-id-25 div.sk-parallel-item:only-child::after {width: 0;}#sk-container-id-25 div.sk-dashed-wrapped {border: 1px dashed gray;margin: 0 0.4em 0.5em 0.4em;box-sizing: border-box;padding-bottom: 0.4em;background-color: white;}#sk-container-id-25 div.sk-label label {font-family: monospace;font-weight: bold;display: inline-block;line-height: 1.2em;}#sk-container-id-25 div.sk-label-container {text-align: center;}#sk-container-id-25 div.sk-container {/* jupyter's `normalize.less` sets `[hidden] { display: none; }` but bootstrap.min.css set `[hidden] { display: none !important; }` so we also need the `!important` here to be able to override the default hidden behavior on the sphinx rendered scikit-learn.org. See: https://github.com/scikit-learn/scikit-learn/issues/21755 */display: inline-block !important;position: relative;}#sk-container-id-25 div.sk-text-repr-fallback {display: none;}</style><div id=\"sk-container-id-25\" class=\"sk-top-container\"><div class=\"sk-text-repr-fallback\"><pre>RandomizedSearchCV(cv=5, estimator=RandomForestRegressor(), n_iter=100,\n",
              "                   n_jobs=1,\n",
              "                   param_distributions={&#x27;max_depth&#x27;: [5, 12, 19, 26, 33, 40],\n",
              "                                        &#x27;max_features&#x27;: [&#x27;auto&#x27;, &#x27;sqrt&#x27;],\n",
              "                                        &#x27;min_samples_leaf&#x27;: [1, 2, 5, 10],\n",
              "                                        &#x27;min_samples_split&#x27;: [2, 5, 10, 15,\n",
              "                                                              100],\n",
              "                                        &#x27;n_estimators&#x27;: [100, 209, 318, 427,\n",
              "                                                         536, 645, 754, 863,\n",
              "                                                         972, 1081, 1190,\n",
              "                                                         1300]},\n",
              "                   random_state=42, scoring=&#x27;neg_mean_squared_error&#x27;,\n",
              "                   verbose=2)</pre><b>In a Jupyter environment, please rerun this cell to show the HTML representation or trust the notebook. <br />On GitHub, the HTML representation is unable to render, please try loading this page with nbviewer.org.</b></div><div class=\"sk-container\" hidden><div class=\"sk-item sk-dashed-wrapped\"><div class=\"sk-label-container\"><div class=\"sk-label sk-toggleable\"><input class=\"sk-toggleable__control sk-hidden--visually\" id=\"sk-estimator-id-39\" type=\"checkbox\" ><label for=\"sk-estimator-id-39\" class=\"sk-toggleable__label sk-toggleable__label-arrow\">RandomizedSearchCV</label><div class=\"sk-toggleable__content\"><pre>RandomizedSearchCV(cv=5, estimator=RandomForestRegressor(), n_iter=100,\n",
              "                   n_jobs=1,\n",
              "                   param_distributions={&#x27;max_depth&#x27;: [5, 12, 19, 26, 33, 40],\n",
              "                                        &#x27;max_features&#x27;: [&#x27;auto&#x27;, &#x27;sqrt&#x27;],\n",
              "                                        &#x27;min_samples_leaf&#x27;: [1, 2, 5, 10],\n",
              "                                        &#x27;min_samples_split&#x27;: [2, 5, 10, 15,\n",
              "                                                              100],\n",
              "                                        &#x27;n_estimators&#x27;: [100, 209, 318, 427,\n",
              "                                                         536, 645, 754, 863,\n",
              "                                                         972, 1081, 1190,\n",
              "                                                         1300]},\n",
              "                   random_state=42, scoring=&#x27;neg_mean_squared_error&#x27;,\n",
              "                   verbose=2)</pre></div></div></div><div class=\"sk-parallel\"><div class=\"sk-parallel-item\"><div class=\"sk-item\"><div class=\"sk-label-container\"><div class=\"sk-label sk-toggleable\"><input class=\"sk-toggleable__control sk-hidden--visually\" id=\"sk-estimator-id-40\" type=\"checkbox\" ><label for=\"sk-estimator-id-40\" class=\"sk-toggleable__label sk-toggleable__label-arrow\">estimator: RandomForestRegressor</label><div class=\"sk-toggleable__content\"><pre>RandomForestRegressor()</pre></div></div></div><div class=\"sk-serial\"><div class=\"sk-item\"><div class=\"sk-estimator sk-toggleable\"><input class=\"sk-toggleable__control sk-hidden--visually\" id=\"sk-estimator-id-41\" type=\"checkbox\" ><label for=\"sk-estimator-id-41\" class=\"sk-toggleable__label sk-toggleable__label-arrow\">RandomForestRegressor</label><div class=\"sk-toggleable__content\"><pre>RandomForestRegressor()</pre></div></div></div></div></div></div></div></div></div></div>"
            ]
          },
          "metadata": {},
          "execution_count": 223
        }
      ]
    },
    {
      "cell_type": "code",
      "source": [
        "rf1_random.best_params_"
      ],
      "metadata": {
        "colab": {
          "base_uri": "https://localhost:8080/"
        },
        "id": "73a6cAxDEudB",
        "outputId": "4a0896f5-8594-4eb6-f7a2-0443ce1657c8"
      },
      "execution_count": 224,
      "outputs": [
        {
          "output_type": "execute_result",
          "data": {
            "text/plain": [
              "{'n_estimators': 645,\n",
              " 'min_samples_split': 5,\n",
              " 'min_samples_leaf': 5,\n",
              " 'max_features': 'sqrt',\n",
              " 'max_depth': 12}"
            ]
          },
          "metadata": {},
          "execution_count": 224
        }
      ]
    },
    {
      "cell_type": "code",
      "source": [
        "rf1_random.best_score_"
      ],
      "metadata": {
        "colab": {
          "base_uri": "https://localhost:8080/"
        },
        "id": "aA7wsMCvFvo_",
        "outputId": "3589ab54-5075-4c4a-99be-ec23ce48a25e"
      },
      "execution_count": 225,
      "outputs": [
        {
          "output_type": "execute_result",
          "data": {
            "text/plain": [
              "-0.9003739991807785"
            ]
          },
          "metadata": {},
          "execution_count": 225
        }
      ]
    },
    {
      "cell_type": "code",
      "source": [
        "prediction_rf1 = rf1_random.predict(X_test)"
      ],
      "metadata": {
        "id": "6v8t63NEFvrw"
      },
      "execution_count": 226,
      "outputs": []
    },
    {
      "cell_type": "code",
      "source": [
        "sns.distplot(y_test - prediction_rf1)"
      ],
      "metadata": {
        "colab": {
          "base_uri": "https://localhost:8080/",
          "height": 447
        },
        "id": "P4eDXk6BFvuM",
        "outputId": "b91bd707-9e46-47c4-9090-3a211a81e681"
      },
      "execution_count": 227,
      "outputs": [
        {
          "output_type": "execute_result",
          "data": {
            "text/plain": [
              "<Axes: ylabel='Density'>"
            ]
          },
          "metadata": {},
          "execution_count": 227
        },
        {
          "output_type": "display_data",
          "data": {
            "text/plain": [
              "<Figure size 640x480 with 1 Axes>"
            ],
            "image/png": "[encoded data removed]"
          },
          "metadata": {}
        }
      ]
    },
    {
      "cell_type": "code",
      "source": [
        "r_squared = r2_score(y_test, prediction_rf1)\n",
        "\n",
        "# Display R^2 on the plot\n",
        "plt.text(np.min(y_test), np.max(prediction_rf1), f'R^2 = {r_squared:.4f}', fontsize=12, verticalalignment='top')\n",
        "plt.scatter(y_test, prediction_rf1)\n",
        "\n",
        "plt.scatter(y_test, prediction_rf1)\n",
        "plt.show()"
      ],
      "metadata": {
        "colab": {
          "base_uri": "https://localhost:8080/",
          "height": 430
        },
        "id": "zgX5dmqLFvwZ",
        "outputId": "4a567c01-f6bd-43ec-a404-c2dba75e8332"
      },
      "execution_count": 228,
      "outputs": [
        {
          "output_type": "display_data",
          "data": {
            "text/plain": [
              "<Figure size 640x480 with 1 Axes>"
            ],
            "image/png": "[encoded data removed]"
          },
          "metadata": {}
        }
      ]
    },
    {
      "cell_type": "code",
      "source": [
        "print('MAE:', metrics.mean_absolute_error(y_test, prediction_rf1))\n",
        "print('MSE:', metrics.mean_squared_error(y_test, prediction_rf1))\n",
        "print('RMSE:', np.sqrt(metrics.mean_squared_error(y_test, prediction_rf1)))"
      ],
      "metadata": {
        "colab": {
          "base_uri": "https://localhost:8080/"
        },
        "id": "i6JLb3MtF2UE",
        "outputId": "f5eafa5e-25c0-4468-d84b-add8d327562f"
      },
      "execution_count": 229,
      "outputs": [
        {
          "output_type": "stream",
          "name": "stdout",
          "text": [
            "MAE: 0.632185722888275\n",
            "MSE: 0.6641133481651917\n",
            "RMSE: 0.8149314990630757\n"
          ]
        }
      ]
    }
  ]
}