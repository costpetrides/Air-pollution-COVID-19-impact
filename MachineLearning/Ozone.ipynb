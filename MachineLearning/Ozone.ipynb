{
  "nbformat": 4,
  "nbformat_minor": 0,
  "metadata": {
    "colab": {
      "provenance": [],
      "authorship_tag": "ABX9TyPB5RG7VhzIHcCsuBAm0Eah",
      "include_colab_link": true
    },
    "kernelspec": {
      "name": "python3",
      "display_name": "Python 3"
    },
    "language_info": {
      "name": "python"
    }
  },
  "cells": [
    {
      "cell_type": "markdown",
      "metadata": {
        "id": "view-in-github",
        "colab_type": "text"
      },
      "source": [
        "<a href=\"https://colab.research.google.com/github/costpetrides/Air-pollution-COVID-19-impact/blob/main/MachineLearning/Ozone.ipynb\" target=\"_parent\"><img src=\"https://colab.research.google.com/assets/colab-badge.svg\" alt=\"Open In Colab\"/></a>"
      ]
    },
    {
      "cell_type": "code",
      "execution_count": 1,
      "metadata": {
        "colab": {
          "base_uri": "https://localhost:8080/",
          "height": 17
        },
        "id": "tj0_i9em_KUJ",
        "outputId": "d3124cc8-d245-40d0-f542-f65ef0be41fa"
      },
      "outputs": [
        {
          "output_type": "display_data",
          "data": {
            "text/html": [
              "        <script type=\"text/javascript\">\n",
              "        window.PlotlyConfig = {MathJaxConfig: 'local'};\n",
              "        if (window.MathJax && window.MathJax.Hub && window.MathJax.Hub.Config) {window.MathJax.Hub.Config({SVG: {font: \"STIX-Web\"}});}\n",
              "        if (typeof require !== 'undefined') {\n",
              "        require.undef(\"plotly\");\n",
              "        requirejs.config({\n",
              "            paths: {\n",
              "                'plotly': ['https://cdn.plot.ly/plotly-2.24.1.min']\n",
              "            }\n",
              "        });\n",
              "        require(['plotly'], function(Plotly) {\n",
              "            window._Plotly = Plotly;\n",
              "        });\n",
              "        }\n",
              "        </script>\n",
              "        "
            ]
          },
          "metadata": {}
        },
        {
          "output_type": "display_data",
          "data": {
            "text/html": [
              "        <script type=\"text/javascript\">\n",
              "        window.PlotlyConfig = {MathJaxConfig: 'local'};\n",
              "        if (window.MathJax && window.MathJax.Hub && window.MathJax.Hub.Config) {window.MathJax.Hub.Config({SVG: {font: \"STIX-Web\"}});}\n",
              "        if (typeof require !== 'undefined') {\n",
              "        require.undef(\"plotly\");\n",
              "        requirejs.config({\n",
              "            paths: {\n",
              "                'plotly': ['https://cdn.plot.ly/plotly-2.24.1.min']\n",
              "            }\n",
              "        });\n",
              "        require(['plotly'], function(Plotly) {\n",
              "            window._Plotly = Plotly;\n",
              "        });\n",
              "        }\n",
              "        </script>\n",
              "        "
            ]
          },
          "metadata": {}
        }
      ],
      "source": [
        "# importing dependencies\n",
        "\n",
        "import pandas as pd\n",
        "import numpy as np\n",
        "import plotly as py\n",
        "import plotly.graph_objects as go\n",
        "from plotly.offline import download_plotlyjs, init_notebook_mode, plot, iplot\n",
        "\n",
        "import cufflinks as cf\n",
        "init_notebook_mode(connected=True)\n",
        "cf.go_offline()\n",
        "\n",
        "import seaborn as sns\n",
        "import matplotlib.pyplot as plt"
      ]
    },
    {
      "cell_type": "code",
      "source": [
        "# reading the csv file !\n",
        "df = pd.read_csv('TestingData.csv')\n",
        "df.head()"
      ],
      "metadata": {
        "colab": {
          "base_uri": "https://localhost:8080/",
          "height": 204
        },
        "id": "KQ6AFWXm_isw",
        "outputId": "71dcb8a6-5ab2-407f-c8ea-76aab8382484"
      },
      "execution_count": 2,
      "outputs": [
        {
          "output_type": "execute_result",
          "data": {
            "text/plain": [
              "   Mtemp  Htemp  Ltemp  Heat  Cool  Rain  WMSpeed    NO    NO2  PM2.5     O3\n",
              "0   13.4   17.4    9.7   4.9   0.0   2.6      6.9  1.50  11.46   4.71  81.79\n",
              "1   10.4   15.3    7.4   7.9   0.0   2.2      8.4  1.08  11.13   4.08  72.00\n",
              "2    7.5   10.4    5.9  10.8   0.0   0.0      7.7  1.08   7.21   7.23  73.50\n",
              "3    8.2   10.2    7.2  10.1   0.0   0.0      6.3  1.04   8.54   8.71  74.17\n",
              "4    8.1   10.2    6.6  10.3   0.0   0.0      5.1  1.04   9.96   9.17  72.17"
            ],
            "text/html": [
              "\n",
              "  <div id=\"df-de539a1e-7dba-41bc-b79c-d095bb400445\" class=\"colab-df-container\">\n",
              "    <div>\n",
              "<style scoped>\n",
              "    .dataframe tbody tr th:only-of-type {\n",
              "        vertical-align: middle;\n",
              "    }\n",
              "\n",
              "    .dataframe tbody tr th {\n",
              "        vertical-align: top;\n",
              "    }\n",
              "\n",
              "    .dataframe thead th {\n",
              "        text-align: right;\n",
              "    }\n",
              "</style>\n",
              "<table border=\"1\" class=\"dataframe\">\n",
              "  <thead>\n",
              "    <tr style=\"text-align: right;\">\n",
              "      <th></th>\n",
              "      <th>Mtemp</th>\n",
              "      <th>Htemp</th>\n",
              "      <th>Ltemp</th>\n",
              "      <th>Heat</th>\n",
              "      <th>Cool</th>\n",
              "      <th>Rain</th>\n",
              "      <th>WMSpeed</th>\n",
              "      <th>NO</th>\n",
              "      <th>NO2</th>\n",
              "      <th>PM2.5</th>\n",
              "      <th>O3</th>\n",
              "    </tr>\n",
              "  </thead>\n",
              "  <tbody>\n",
              "    <tr>\n",
              "      <th>0</th>\n",
              "      <td>13.4</td>\n",
              "      <td>17.4</td>\n",
              "      <td>9.7</td>\n",
              "      <td>4.9</td>\n",
              "      <td>0.0</td>\n",
              "      <td>2.6</td>\n",
              "      <td>6.9</td>\n",
              "      <td>1.50</td>\n",
              "      <td>11.46</td>\n",
              "      <td>4.71</td>\n",
              "      <td>81.79</td>\n",
              "    </tr>\n",
              "    <tr>\n",
              "      <th>1</th>\n",
              "      <td>10.4</td>\n",
              "      <td>15.3</td>\n",
              "      <td>7.4</td>\n",
              "      <td>7.9</td>\n",
              "      <td>0.0</td>\n",
              "      <td>2.2</td>\n",
              "      <td>8.4</td>\n",
              "      <td>1.08</td>\n",
              "      <td>11.13</td>\n",
              "      <td>4.08</td>\n",
              "      <td>72.00</td>\n",
              "    </tr>\n",
              "    <tr>\n",
              "      <th>2</th>\n",
              "      <td>7.5</td>\n",
              "      <td>10.4</td>\n",
              "      <td>5.9</td>\n",
              "      <td>10.8</td>\n",
              "      <td>0.0</td>\n",
              "      <td>0.0</td>\n",
              "      <td>7.7</td>\n",
              "      <td>1.08</td>\n",
              "      <td>7.21</td>\n",
              "      <td>7.23</td>\n",
              "      <td>73.50</td>\n",
              "    </tr>\n",
              "    <tr>\n",
              "      <th>3</th>\n",
              "      <td>8.2</td>\n",
              "      <td>10.2</td>\n",
              "      <td>7.2</td>\n",
              "      <td>10.1</td>\n",
              "      <td>0.0</td>\n",
              "      <td>0.0</td>\n",
              "      <td>6.3</td>\n",
              "      <td>1.04</td>\n",
              "      <td>8.54</td>\n",
              "      <td>8.71</td>\n",
              "      <td>74.17</td>\n",
              "    </tr>\n",
              "    <tr>\n",
              "      <th>4</th>\n",
              "      <td>8.1</td>\n",
              "      <td>10.2</td>\n",
              "      <td>6.6</td>\n",
              "      <td>10.3</td>\n",
              "      <td>0.0</td>\n",
              "      <td>0.0</td>\n",
              "      <td>5.1</td>\n",
              "      <td>1.04</td>\n",
              "      <td>9.96</td>\n",
              "      <td>9.17</td>\n",
              "      <td>72.17</td>\n",
              "    </tr>\n",
              "  </tbody>\n",
              "</table>\n",
              "</div>\n",
              "    <div class=\"colab-df-buttons\">\n",
              "\n",
              "  <div class=\"colab-df-container\">\n",
              "    <button class=\"colab-df-convert\" onclick=\"convertToInteractive('df-de539a1e-7dba-41bc-b79c-d095bb400445')\"\n",
              "            title=\"Convert this dataframe to an interactive table.\"\n",
              "            style=\"display:none;\">\n",
              "\n",
              "  <svg xmlns=\"http://www.w3.org/2000/svg\" height=\"24px\" viewBox=\"0 -960 960 960\">\n",
              "    <path d=\"M120-120v-720h720v720H120Zm60-500h600v-160H180v160Zm220 220h160v-160H400v160Zm0 220h160v-160H400v160ZM180-400h160v-160H180v160Zm440 0h160v-160H620v160ZM180-180h160v-160H180v160Zm440 0h160v-160H620v160Z\"/>\n",
              "  </svg>\n",
              "    </button>\n",
              "\n",
              "  <style>\n",
              "    .colab-df-container {\n",
              "      display:flex;\n",
              "      gap: 12px;\n",
              "    }\n",
              "\n",
              "    .colab-df-convert {\n",
              "      background-color: #E8F0FE;\n",
              "      border: none;\n",
              "      border-radius: 50%;\n",
              "      cursor: pointer;\n",
              "      display: none;\n",
              "      fill: #1967D2;\n",
              "      height: 32px;\n",
              "      padding: 0 0 0 0;\n",
              "      width: 32px;\n",
              "    }\n",
              "\n",
              "    .colab-df-convert:hover {\n",
              "      background-color: #E2EBFA;\n",
              "      box-shadow: 0px 1px 2px rgba(60, 64, 67, 0.3), 0px 1px 3px 1px rgba(60, 64, 67, 0.15);\n",
              "      fill: #174EA6;\n",
              "    }\n",
              "\n",
              "    .colab-df-buttons div {\n",
              "      margin-bottom: 4px;\n",
              "    }\n",
              "\n",
              "    [theme=dark] .colab-df-convert {\n",
              "      background-color: #3B4455;\n",
              "      fill: #D2E3FC;\n",
              "    }\n",
              "\n",
              "    [theme=dark] .colab-df-convert:hover {\n",
              "      background-color: #434B5C;\n",
              "      box-shadow: 0px 1px 3px 1px rgba(0, 0, 0, 0.15);\n",
              "      filter: drop-shadow(0px 1px 2px rgba(0, 0, 0, 0.3));\n",
              "      fill: #FFFFFF;\n",
              "    }\n",
              "  </style>\n",
              "\n",
              "    <script>\n",
              "      const buttonEl =\n",
              "        document.querySelector('#df-de539a1e-7dba-41bc-b79c-d095bb400445 button.colab-df-convert');\n",
              "      buttonEl.style.display =\n",
              "        google.colab.kernel.accessAllowed ? 'block' : 'none';\n",
              "\n",
              "      async function convertToInteractive(key) {\n",
              "        const element = document.querySelector('#df-de539a1e-7dba-41bc-b79c-d095bb400445');\n",
              "        const dataTable =\n",
              "          await google.colab.kernel.invokeFunction('convertToInteractive',\n",
              "                                                    [key], {});\n",
              "        if (!dataTable) return;\n",
              "\n",
              "        const docLinkHtml = 'Like what you see? Visit the ' +\n",
              "          '<a target=\"_blank\" href=https://colab.research.google.com/notebooks/data_table.ipynb>data table notebook</a>'\n",
              "          + ' to learn more about interactive tables.';\n",
              "        element.innerHTML = '';\n",
              "        dataTable['output_type'] = 'display_data';\n",
              "        await google.colab.output.renderOutput(dataTable, element);\n",
              "        const docLink = document.createElement('div');\n",
              "        docLink.innerHTML = docLinkHtml;\n",
              "        element.appendChild(docLink);\n",
              "      }\n",
              "    </script>\n",
              "  </div>\n",
              "\n",
              "\n",
              "<div id=\"df-ec321eca-b8b8-47f3-adf5-6a71a46767d0\">\n",
              "  <button class=\"colab-df-quickchart\" onclick=\"quickchart('df-ec321eca-b8b8-47f3-adf5-6a71a46767d0')\"\n",
              "            title=\"Suggest charts.\"\n",
              "            style=\"display:none;\">\n",
              "\n",
              "<svg xmlns=\"http://www.w3.org/2000/svg\" height=\"24px\"viewBox=\"0 0 24 24\"\n",
              "     width=\"24px\">\n",
              "    <g>\n",
              "        <path d=\"M19 3H5c-1.1 0-2 .9-2 2v14c0 1.1.9 2 2 2h14c1.1 0 2-.9 2-2V5c0-1.1-.9-2-2-2zM9 17H7v-7h2v7zm4 0h-2V7h2v10zm4 0h-2v-4h2v4z\"/>\n",
              "    </g>\n",
              "</svg>\n",
              "  </button>\n",
              "\n",
              "<style>\n",
              "  .colab-df-quickchart {\n",
              "      --bg-color: #E8F0FE;\n",
              "      --fill-color: #1967D2;\n",
              "      --hover-bg-color: #E2EBFA;\n",
              "      --hover-fill-color: #174EA6;\n",
              "      --disabled-fill-color: #AAA;\n",
              "      --disabled-bg-color: #DDD;\n",
              "  }\n",
              "\n",
              "  [theme=dark] .colab-df-quickchart {\n",
              "      --bg-color: #3B4455;\n",
              "      --fill-color: #D2E3FC;\n",
              "      --hover-bg-color: #434B5C;\n",
              "      --hover-fill-color: #FFFFFF;\n",
              "      --disabled-bg-color: #3B4455;\n",
              "      --disabled-fill-color: #666;\n",
              "  }\n",
              "\n",
              "  .colab-df-quickchart {\n",
              "    background-color: var(--bg-color);\n",
              "    border: none;\n",
              "    border-radius: 50%;\n",
              "    cursor: pointer;\n",
              "    display: none;\n",
              "    fill: var(--fill-color);\n",
              "    height: 32px;\n",
              "    padding: 0;\n",
              "    width: 32px;\n",
              "  }\n",
              "\n",
              "  .colab-df-quickchart:hover {\n",
              "    background-color: var(--hover-bg-color);\n",
              "    box-shadow: 0 1px 2px rgba(60, 64, 67, 0.3), 0 1px 3px 1px rgba(60, 64, 67, 0.15);\n",
              "    fill: var(--button-hover-fill-color);\n",
              "  }\n",
              "\n",
              "  .colab-df-quickchart-complete:disabled,\n",
              "  .colab-df-quickchart-complete:disabled:hover {\n",
              "    background-color: var(--disabled-bg-color);\n",
              "    fill: var(--disabled-fill-color);\n",
              "    box-shadow: none;\n",
              "  }\n",
              "\n",
              "  .colab-df-spinner {\n",
              "    border: 2px solid var(--fill-color);\n",
              "    border-color: transparent;\n",
              "    border-bottom-color: var(--fill-color);\n",
              "    animation:\n",
              "      spin 1s steps(1) infinite;\n",
              "  }\n",
              "\n",
              "  @keyframes spin {\n",
              "    0% {\n",
              "      border-color: transparent;\n",
              "      border-bottom-color: var(--fill-color);\n",
              "      border-left-color: var(--fill-color);\n",
              "    }\n",
              "    20% {\n",
              "      border-color: transparent;\n",
              "      border-left-color: var(--fill-color);\n",
              "      border-top-color: var(--fill-color);\n",
              "    }\n",
              "    30% {\n",
              "      border-color: transparent;\n",
              "      border-left-color: var(--fill-color);\n",
              "      border-top-color: var(--fill-color);\n",
              "      border-right-color: var(--fill-color);\n",
              "    }\n",
              "    40% {\n",
              "      border-color: transparent;\n",
              "      border-right-color: var(--fill-color);\n",
              "      border-top-color: var(--fill-color);\n",
              "    }\n",
              "    60% {\n",
              "      border-color: transparent;\n",
              "      border-right-color: var(--fill-color);\n",
              "    }\n",
              "    80% {\n",
              "      border-color: transparent;\n",
              "      border-right-color: var(--fill-color);\n",
              "      border-bottom-color: var(--fill-color);\n",
              "    }\n",
              "    90% {\n",
              "      border-color: transparent;\n",
              "      border-bottom-color: var(--fill-color);\n",
              "    }\n",
              "  }\n",
              "</style>\n",
              "\n",
              "  <script>\n",
              "    async function quickchart(key) {\n",
              "      const quickchartButtonEl =\n",
              "        document.querySelector('#' + key + ' button');\n",
              "      quickchartButtonEl.disabled = true;  // To prevent multiple clicks.\n",
              "      quickchartButtonEl.classList.add('colab-df-spinner');\n",
              "      try {\n",
              "        const charts = await google.colab.kernel.invokeFunction(\n",
              "            'suggestCharts', [key], {});\n",
              "      } catch (error) {\n",
              "        console.error('Error during call to suggestCharts:', error);\n",
              "      }\n",
              "      quickchartButtonEl.classList.remove('colab-df-spinner');\n",
              "      quickchartButtonEl.classList.add('colab-df-quickchart-complete');\n",
              "    }\n",
              "    (() => {\n",
              "      let quickchartButtonEl =\n",
              "        document.querySelector('#df-ec321eca-b8b8-47f3-adf5-6a71a46767d0 button');\n",
              "      quickchartButtonEl.style.display =\n",
              "        google.colab.kernel.accessAllowed ? 'block' : 'none';\n",
              "    })();\n",
              "  </script>\n",
              "</div>\n",
              "    </div>\n",
              "  </div>\n"
            ]
          },
          "metadata": {},
          "execution_count": 2
        }
      ]
    },
    {
      "cell_type": "code",
      "source": [
        "# checking for null values (missing values)\n",
        "df.isnull().sum()"
      ],
      "metadata": {
        "colab": {
          "base_uri": "https://localhost:8080/"
        },
        "id": "E5mXyWcZ_iyU",
        "outputId": "b5865b8d-fc6f-4514-b433-c0756277f2a9"
      },
      "execution_count": 4,
      "outputs": [
        {
          "output_type": "execute_result",
          "data": {
            "text/plain": [
              "Mtemp      0\n",
              "Htemp      0\n",
              "Ltemp      0\n",
              "Heat       0\n",
              "Cool       0\n",
              "Rain       0\n",
              "WMSpeed    0\n",
              "NO         0\n",
              "NO2        0\n",
              "PM2.5      0\n",
              "O3         0\n",
              "dtype: int64"
            ]
          },
          "metadata": {},
          "execution_count": 4
        }
      ]
    },
    {
      "cell_type": "code",
      "source": [
        "# Data information\n",
        "df.describe()"
      ],
      "metadata": {
        "colab": {
          "base_uri": "https://localhost:8080/",
          "height": 317
        },
        "id": "igJnWOci_i1I",
        "outputId": "79f37bcb-eeda-4d59-89ab-095baff447c6"
      },
      "execution_count": 5,
      "outputs": [
        {
          "output_type": "execute_result",
          "data": {
            "text/plain": [
              "            Mtemp       Htemp       Ltemp        Heat        Cool        Rain  \\\n",
              "count  228.000000  228.000000  228.000000  228.000000  228.000000  228.000000   \n",
              "mean    17.386842   22.134649   13.687281    2.423684    1.478509    0.699123   \n",
              "std      3.867668    4.522531    3.473990    2.463417    1.731650    3.579949   \n",
              "min      7.500000   10.200000    5.600000    0.000000    0.000000    0.000000   \n",
              "25%     14.775000   18.800000   11.275000    0.300000    0.000000    0.000000   \n",
              "50%     17.400000   22.400000   13.650000    1.700000    0.800000    0.000000   \n",
              "75%     20.525000   25.525000   16.200000    3.625000    2.525000    0.000000   \n",
              "max     26.300000   34.400000   22.300000   10.800000    8.000000   39.200000   \n",
              "\n",
              "          WMSpeed          NO         NO2       PM2.5          O3  \n",
              "count  228.000000  228.000000  228.000000  228.000000  228.000000  \n",
              "mean     5.691667    2.404298   15.822763   12.650965   90.460044  \n",
              "std      2.319857    1.469884    7.330013    6.511407   14.511075  \n",
              "min      1.900000    1.000000    2.790000    4.080000   53.790000  \n",
              "25%      4.000000    1.080000   10.682500    8.710000   81.177500  \n",
              "50%      5.500000    1.810000   14.310000   11.355000   89.440000  \n",
              "75%      6.950000    3.592500   19.892500   15.072500   98.345000  \n",
              "max     15.800000    7.000000   38.630000   63.830000  140.960000  "
            ],
            "text/html": [
              "\n",
              "  <div id=\"df-709b05c2-93ac-46f5-85ca-3726ca92a72b\" class=\"colab-df-container\">\n",
              "    <div>\n",
              "<style scoped>\n",
              "    .dataframe tbody tr th:only-of-type {\n",
              "        vertical-align: middle;\n",
              "    }\n",
              "\n",
              "    .dataframe tbody tr th {\n",
              "        vertical-align: top;\n",
              "    }\n",
              "\n",
              "    .dataframe thead th {\n",
              "        text-align: right;\n",
              "    }\n",
              "</style>\n",
              "<table border=\"1\" class=\"dataframe\">\n",
              "  <thead>\n",
              "    <tr style=\"text-align: right;\">\n",
              "      <th></th>\n",
              "      <th>Mtemp</th>\n",
              "      <th>Htemp</th>\n",
              "      <th>Ltemp</th>\n",
              "      <th>Heat</th>\n",
              "      <th>Cool</th>\n",
              "      <th>Rain</th>\n",
              "      <th>WMSpeed</th>\n",
              "      <th>NO</th>\n",
              "      <th>NO2</th>\n",
              "      <th>PM2.5</th>\n",
              "      <th>O3</th>\n",
              "    </tr>\n",
              "  </thead>\n",
              "  <tbody>\n",
              "    <tr>\n",
              "      <th>count</th>\n",
              "      <td>228.000000</td>\n",
              "      <td>228.000000</td>\n",
              "      <td>228.000000</td>\n",
              "      <td>228.000000</td>\n",
              "      <td>228.000000</td>\n",
              "      <td>228.000000</td>\n",
              "      <td>228.000000</td>\n",
              "      <td>228.000000</td>\n",
              "      <td>228.000000</td>\n",
              "      <td>228.000000</td>\n",
              "      <td>228.000000</td>\n",
              "    </tr>\n",
              "    <tr>\n",
              "      <th>mean</th>\n",
              "      <td>17.386842</td>\n",
              "      <td>22.134649</td>\n",
              "      <td>13.687281</td>\n",
              "      <td>2.423684</td>\n",
              "      <td>1.478509</td>\n",
              "      <td>0.699123</td>\n",
              "      <td>5.691667</td>\n",
              "      <td>2.404298</td>\n",
              "      <td>15.822763</td>\n",
              "      <td>12.650965</td>\n",
              "      <td>90.460044</td>\n",
              "    </tr>\n",
              "    <tr>\n",
              "      <th>std</th>\n",
              "      <td>3.867668</td>\n",
              "      <td>4.522531</td>\n",
              "      <td>3.473990</td>\n",
              "      <td>2.463417</td>\n",
              "      <td>1.731650</td>\n",
              "      <td>3.579949</td>\n",
              "      <td>2.319857</td>\n",
              "      <td>1.469884</td>\n",
              "      <td>7.330013</td>\n",
              "      <td>6.511407</td>\n",
              "      <td>14.511075</td>\n",
              "    </tr>\n",
              "    <tr>\n",
              "      <th>min</th>\n",
              "      <td>7.500000</td>\n",
              "      <td>10.200000</td>\n",
              "      <td>5.600000</td>\n",
              "      <td>0.000000</td>\n",
              "      <td>0.000000</td>\n",
              "      <td>0.000000</td>\n",
              "      <td>1.900000</td>\n",
              "      <td>1.000000</td>\n",
              "      <td>2.790000</td>\n",
              "      <td>4.080000</td>\n",
              "      <td>53.790000</td>\n",
              "    </tr>\n",
              "    <tr>\n",
              "      <th>25%</th>\n",
              "      <td>14.775000</td>\n",
              "      <td>18.800000</td>\n",
              "      <td>11.275000</td>\n",
              "      <td>0.300000</td>\n",
              "      <td>0.000000</td>\n",
              "      <td>0.000000</td>\n",
              "      <td>4.000000</td>\n",
              "      <td>1.080000</td>\n",
              "      <td>10.682500</td>\n",
              "      <td>8.710000</td>\n",
              "      <td>81.177500</td>\n",
              "    </tr>\n",
              "    <tr>\n",
              "      <th>50%</th>\n",
              "      <td>17.400000</td>\n",
              "      <td>22.400000</td>\n",
              "      <td>13.650000</td>\n",
              "      <td>1.700000</td>\n",
              "      <td>0.800000</td>\n",
              "      <td>0.000000</td>\n",
              "      <td>5.500000</td>\n",
              "      <td>1.810000</td>\n",
              "      <td>14.310000</td>\n",
              "      <td>11.355000</td>\n",
              "      <td>89.440000</td>\n",
              "    </tr>\n",
              "    <tr>\n",
              "      <th>75%</th>\n",
              "      <td>20.525000</td>\n",
              "      <td>25.525000</td>\n",
              "      <td>16.200000</td>\n",
              "      <td>3.625000</td>\n",
              "      <td>2.525000</td>\n",
              "      <td>0.000000</td>\n",
              "      <td>6.950000</td>\n",
              "      <td>3.592500</td>\n",
              "      <td>19.892500</td>\n",
              "      <td>15.072500</td>\n",
              "      <td>98.345000</td>\n",
              "    </tr>\n",
              "    <tr>\n",
              "      <th>max</th>\n",
              "      <td>26.300000</td>\n",
              "      <td>34.400000</td>\n",
              "      <td>22.300000</td>\n",
              "      <td>10.800000</td>\n",
              "      <td>8.000000</td>\n",
              "      <td>39.200000</td>\n",
              "      <td>15.800000</td>\n",
              "      <td>7.000000</td>\n",
              "      <td>38.630000</td>\n",
              "      <td>63.830000</td>\n",
              "      <td>140.960000</td>\n",
              "    </tr>\n",
              "  </tbody>\n",
              "</table>\n",
              "</div>\n",
              "    <div class=\"colab-df-buttons\">\n",
              "\n",
              "  <div class=\"colab-df-container\">\n",
              "    <button class=\"colab-df-convert\" onclick=\"convertToInteractive('df-709b05c2-93ac-46f5-85ca-3726ca92a72b')\"\n",
              "            title=\"Convert this dataframe to an interactive table.\"\n",
              "            style=\"display:none;\">\n",
              "\n",
              "  <svg xmlns=\"http://www.w3.org/2000/svg\" height=\"24px\" viewBox=\"0 -960 960 960\">\n",
              "    <path d=\"M120-120v-720h720v720H120Zm60-500h600v-160H180v160Zm220 220h160v-160H400v160Zm0 220h160v-160H400v160ZM180-400h160v-160H180v160Zm440 0h160v-160H620v160ZM180-180h160v-160H180v160Zm440 0h160v-160H620v160Z\"/>\n",
              "  </svg>\n",
              "    </button>\n",
              "\n",
              "  <style>\n",
              "    .colab-df-container {\n",
              "      display:flex;\n",
              "      gap: 12px;\n",
              "    }\n",
              "\n",
              "    .colab-df-convert {\n",
              "      background-color: #E8F0FE;\n",
              "      border: none;\n",
              "      border-radius: 50%;\n",
              "      cursor: pointer;\n",
              "      display: none;\n",
              "      fill: #1967D2;\n",
              "      height: 32px;\n",
              "      padding: 0 0 0 0;\n",
              "      width: 32px;\n",
              "    }\n",
              "\n",
              "    .colab-df-convert:hover {\n",
              "      background-color: #E2EBFA;\n",
              "      box-shadow: 0px 1px 2px rgba(60, 64, 67, 0.3), 0px 1px 3px 1px rgba(60, 64, 67, 0.15);\n",
              "      fill: #174EA6;\n",
              "    }\n",
              "\n",
              "    .colab-df-buttons div {\n",
              "      margin-bottom: 4px;\n",
              "    }\n",
              "\n",
              "    [theme=dark] .colab-df-convert {\n",
              "      background-color: #3B4455;\n",
              "      fill: #D2E3FC;\n",
              "    }\n",
              "\n",
              "    [theme=dark] .colab-df-convert:hover {\n",
              "      background-color: #434B5C;\n",
              "      box-shadow: 0px 1px 3px 1px rgba(0, 0, 0, 0.15);\n",
              "      filter: drop-shadow(0px 1px 2px rgba(0, 0, 0, 0.3));\n",
              "      fill: #FFFFFF;\n",
              "    }\n",
              "  </style>\n",
              "\n",
              "    <script>\n",
              "      const buttonEl =\n",
              "        document.querySelector('#df-709b05c2-93ac-46f5-85ca-3726ca92a72b button.colab-df-convert');\n",
              "      buttonEl.style.display =\n",
              "        google.colab.kernel.accessAllowed ? 'block' : 'none';\n",
              "\n",
              "      async function convertToInteractive(key) {\n",
              "        const element = document.querySelector('#df-709b05c2-93ac-46f5-85ca-3726ca92a72b');\n",
              "        const dataTable =\n",
              "          await google.colab.kernel.invokeFunction('convertToInteractive',\n",
              "                                                    [key], {});\n",
              "        if (!dataTable) return;\n",
              "\n",
              "        const docLinkHtml = 'Like what you see? Visit the ' +\n",
              "          '<a target=\"_blank\" href=https://colab.research.google.com/notebooks/data_table.ipynb>data table notebook</a>'\n",
              "          + ' to learn more about interactive tables.';\n",
              "        element.innerHTML = '';\n",
              "        dataTable['output_type'] = 'display_data';\n",
              "        await google.colab.output.renderOutput(dataTable, element);\n",
              "        const docLink = document.createElement('div');\n",
              "        docLink.innerHTML = docLinkHtml;\n",
              "        element.appendChild(docLink);\n",
              "      }\n",
              "    </script>\n",
              "  </div>\n",
              "\n",
              "\n",
              "<div id=\"df-c5e6a830-2a8b-4c4b-b8e8-016d639ebfa5\">\n",
              "  <button class=\"colab-df-quickchart\" onclick=\"quickchart('df-c5e6a830-2a8b-4c4b-b8e8-016d639ebfa5')\"\n",
              "            title=\"Suggest charts.\"\n",
              "            style=\"display:none;\">\n",
              "\n",
              "<svg xmlns=\"http://www.w3.org/2000/svg\" height=\"24px\"viewBox=\"0 0 24 24\"\n",
              "     width=\"24px\">\n",
              "    <g>\n",
              "        <path d=\"M19 3H5c-1.1 0-2 .9-2 2v14c0 1.1.9 2 2 2h14c1.1 0 2-.9 2-2V5c0-1.1-.9-2-2-2zM9 17H7v-7h2v7zm4 0h-2V7h2v10zm4 0h-2v-4h2v4z\"/>\n",
              "    </g>\n",
              "</svg>\n",
              "  </button>\n",
              "\n",
              "<style>\n",
              "  .colab-df-quickchart {\n",
              "      --bg-color: #E8F0FE;\n",
              "      --fill-color: #1967D2;\n",
              "      --hover-bg-color: #E2EBFA;\n",
              "      --hover-fill-color: #174EA6;\n",
              "      --disabled-fill-color: #AAA;\n",
              "      --disabled-bg-color: #DDD;\n",
              "  }\n",
              "\n",
              "  [theme=dark] .colab-df-quickchart {\n",
              "      --bg-color: #3B4455;\n",
              "      --fill-color: #D2E3FC;\n",
              "      --hover-bg-color: #434B5C;\n",
              "      --hover-fill-color: #FFFFFF;\n",
              "      --disabled-bg-color: #3B4455;\n",
              "      --disabled-fill-color: #666;\n",
              "  }\n",
              "\n",
              "  .colab-df-quickchart {\n",
              "    background-color: var(--bg-color);\n",
              "    border: none;\n",
              "    border-radius: 50%;\n",
              "    cursor: pointer;\n",
              "    display: none;\n",
              "    fill: var(--fill-color);\n",
              "    height: 32px;\n",
              "    padding: 0;\n",
              "    width: 32px;\n",
              "  }\n",
              "\n",
              "  .colab-df-quickchart:hover {\n",
              "    background-color: var(--hover-bg-color);\n",
              "    box-shadow: 0 1px 2px rgba(60, 64, 67, 0.3), 0 1px 3px 1px rgba(60, 64, 67, 0.15);\n",
              "    fill: var(--button-hover-fill-color);\n",
              "  }\n",
              "\n",
              "  .colab-df-quickchart-complete:disabled,\n",
              "  .colab-df-quickchart-complete:disabled:hover {\n",
              "    background-color: var(--disabled-bg-color);\n",
              "    fill: var(--disabled-fill-color);\n",
              "    box-shadow: none;\n",
              "  }\n",
              "\n",
              "  .colab-df-spinner {\n",
              "    border: 2px solid var(--fill-color);\n",
              "    border-color: transparent;\n",
              "    border-bottom-color: var(--fill-color);\n",
              "    animation:\n",
              "      spin 1s steps(1) infinite;\n",
              "  }\n",
              "\n",
              "  @keyframes spin {\n",
              "    0% {\n",
              "      border-color: transparent;\n",
              "      border-bottom-color: var(--fill-color);\n",
              "      border-left-color: var(--fill-color);\n",
              "    }\n",
              "    20% {\n",
              "      border-color: transparent;\n",
              "      border-left-color: var(--fill-color);\n",
              "      border-top-color: var(--fill-color);\n",
              "    }\n",
              "    30% {\n",
              "      border-color: transparent;\n",
              "      border-left-color: var(--fill-color);\n",
              "      border-top-color: var(--fill-color);\n",
              "      border-right-color: var(--fill-color);\n",
              "    }\n",
              "    40% {\n",
              "      border-color: transparent;\n",
              "      border-right-color: var(--fill-color);\n",
              "      border-top-color: var(--fill-color);\n",
              "    }\n",
              "    60% {\n",
              "      border-color: transparent;\n",
              "      border-right-color: var(--fill-color);\n",
              "    }\n",
              "    80% {\n",
              "      border-color: transparent;\n",
              "      border-right-color: var(--fill-color);\n",
              "      border-bottom-color: var(--fill-color);\n",
              "    }\n",
              "    90% {\n",
              "      border-color: transparent;\n",
              "      border-bottom-color: var(--fill-color);\n",
              "    }\n",
              "  }\n",
              "</style>\n",
              "\n",
              "  <script>\n",
              "    async function quickchart(key) {\n",
              "      const quickchartButtonEl =\n",
              "        document.querySelector('#' + key + ' button');\n",
              "      quickchartButtonEl.disabled = true;  // To prevent multiple clicks.\n",
              "      quickchartButtonEl.classList.add('colab-df-spinner');\n",
              "      try {\n",
              "        const charts = await google.colab.kernel.invokeFunction(\n",
              "            'suggestCharts', [key], {});\n",
              "      } catch (error) {\n",
              "        console.error('Error during call to suggestCharts:', error);\n",
              "      }\n",
              "      quickchartButtonEl.classList.remove('colab-df-spinner');\n",
              "      quickchartButtonEl.classList.add('colab-df-quickchart-complete');\n",
              "    }\n",
              "    (() => {\n",
              "      let quickchartButtonEl =\n",
              "        document.querySelector('#df-c5e6a830-2a8b-4c4b-b8e8-016d639ebfa5 button');\n",
              "      quickchartButtonEl.style.display =\n",
              "        google.colab.kernel.accessAllowed ? 'block' : 'none';\n",
              "    })();\n",
              "  </script>\n",
              "</div>\n",
              "    </div>\n",
              "  </div>\n"
            ]
          },
          "metadata": {},
          "execution_count": 5
        }
      ]
    },
    {
      "cell_type": "code",
      "source": [
        "# correlation visualization\n",
        "corrmat = df.corr()\n",
        "top_corr_features = corrmat.index\n",
        "plt.figure(figsize=(10,8))\n",
        "\n",
        "\n",
        "g = sns.heatmap(df[top_corr_features].corr(),annot=True)"
      ],
      "metadata": {
        "colab": {
          "base_uri": "https://localhost:8080/",
          "height": 682
        },
        "id": "lwCxvKfg_i38",
        "outputId": "3fb59a4b-db34-4b86-b4e4-ff73cf8c1480"
      },
      "execution_count": 6,
      "outputs": [
        {
          "output_type": "display_data",
          "data": {
            "text/plain": [
              "<Figure size 1000x800 with 2 Axes>"
            ],
            "image/png": "[encoded data removed]"
          },
          "metadata": {}
        }
      ]
    },
    {
      "cell_type": "code",
      "source": [
        "# Define X and y matrix :)\n",
        "X = df[[ 'Mtemp',\t'Htemp',\t'Ltemp',\t'Heat',\t'Cool',\t'Rain',\t'WMSpeed',\t'NO',\t'NO2',\t'PM2.5']] # Features\n",
        "y = df['O3']  # Target"
      ],
      "metadata": {
        "id": "AkrioJ9e_i6I"
      },
      "execution_count": 7,
      "outputs": []
    },
    {
      "cell_type": "code",
      "source": [
        "# Feature selection\n",
        "from sklearn.ensemble import ExtraTreesRegressor\n",
        "import matplotlib.pyplot as plt\n",
        "model = ExtraTreesRegressor()\n",
        "model.fit(X,y)"
      ],
      "metadata": {
        "colab": {
          "base_uri": "https://localhost:8080/",
          "height": 74
        },
        "id": "XnJbywTKAtDo",
        "outputId": "16d66127-fc32-4615-832c-a938a50e5ca6"
      },
      "execution_count": 8,
      "outputs": [
        {
          "output_type": "execute_result",
          "data": {
            "text/plain": [
              "ExtraTreesRegressor()"
            ],
            "text/html": [
              "<style>#sk-container-id-1 {color: black;background-color: white;}#sk-container-id-1 pre{padding: 0;}#sk-container-id-1 div.sk-toggleable {background-color: white;}#sk-container-id-1 label.sk-toggleable__label {cursor: pointer;display: block;width: 100%;margin-bottom: 0;padding: 0.3em;box-sizing: border-box;text-align: center;}#sk-container-id-1 label.sk-toggleable__label-arrow:before {content: \"▸\";float: left;margin-right: 0.25em;color: #696969;}#sk-container-id-1 label.sk-toggleable__label-arrow:hover:before {color: black;}#sk-container-id-1 div.sk-estimator:hover label.sk-toggleable__label-arrow:before {color: black;}#sk-container-id-1 div.sk-toggleable__content {max-height: 0;max-width: 0;overflow: hidden;text-align: left;background-color: #f0f8ff;}#sk-container-id-1 div.sk-toggleable__content pre {margin: 0.2em;color: black;border-radius: 0.25em;background-color: #f0f8ff;}#sk-container-id-1 input.sk-toggleable__control:checked~div.sk-toggleable__content {max-height: 200px;max-width: 100%;overflow: auto;}#sk-container-id-1 input.sk-toggleable__control:checked~label.sk-toggleable__label-arrow:before {content: \"▾\";}#sk-container-id-1 div.sk-estimator input.sk-toggleable__control:checked~label.sk-toggleable__label {background-color: #d4ebff;}#sk-container-id-1 div.sk-label input.sk-toggleable__control:checked~label.sk-toggleable__label {background-color: #d4ebff;}#sk-container-id-1 input.sk-hidden--visually {border: 0;clip: rect(1px 1px 1px 1px);clip: rect(1px, 1px, 1px, 1px);height: 1px;margin: -1px;overflow: hidden;padding: 0;position: absolute;width: 1px;}#sk-container-id-1 div.sk-estimator {font-family: monospace;background-color: #f0f8ff;border: 1px dotted black;border-radius: 0.25em;box-sizing: border-box;margin-bottom: 0.5em;}#sk-container-id-1 div.sk-estimator:hover {background-color: #d4ebff;}#sk-container-id-1 div.sk-parallel-item::after {content: \"\";width: 100%;border-bottom: 1px solid gray;flex-grow: 1;}#sk-container-id-1 div.sk-label:hover label.sk-toggleable__label {background-color: #d4ebff;}#sk-container-id-1 div.sk-serial::before {content: \"\";position: absolute;border-left: 1px solid gray;box-sizing: border-box;top: 0;bottom: 0;left: 50%;z-index: 0;}#sk-container-id-1 div.sk-serial {display: flex;flex-direction: column;align-items: center;background-color: white;padding-right: 0.2em;padding-left: 0.2em;position: relative;}#sk-container-id-1 div.sk-item {position: relative;z-index: 1;}#sk-container-id-1 div.sk-parallel {display: flex;align-items: stretch;justify-content: center;background-color: white;position: relative;}#sk-container-id-1 div.sk-item::before, #sk-container-id-1 div.sk-parallel-item::before {content: \"\";position: absolute;border-left: 1px solid gray;box-sizing: border-box;top: 0;bottom: 0;left: 50%;z-index: -1;}#sk-container-id-1 div.sk-parallel-item {display: flex;flex-direction: column;z-index: 1;position: relative;background-color: white;}#sk-container-id-1 div.sk-parallel-item:first-child::after {align-self: flex-end;width: 50%;}#sk-container-id-1 div.sk-parallel-item:last-child::after {align-self: flex-start;width: 50%;}#sk-container-id-1 div.sk-parallel-item:only-child::after {width: 0;}#sk-container-id-1 div.sk-dashed-wrapped {border: 1px dashed gray;margin: 0 0.4em 0.5em 0.4em;box-sizing: border-box;padding-bottom: 0.4em;background-color: white;}#sk-container-id-1 div.sk-label label {font-family: monospace;font-weight: bold;display: inline-block;line-height: 1.2em;}#sk-container-id-1 div.sk-label-container {text-align: center;}#sk-container-id-1 div.sk-container {/* jupyter's `normalize.less` sets `[hidden] { display: none; }` but bootstrap.min.css set `[hidden] { display: none !important; }` so we also need the `!important` here to be able to override the default hidden behavior on the sphinx rendered scikit-learn.org. See: https://github.com/scikit-learn/scikit-learn/issues/21755 */display: inline-block !important;position: relative;}#sk-container-id-1 div.sk-text-repr-fallback {display: none;}</style><div id=\"sk-container-id-1\" class=\"sk-top-container\"><div class=\"sk-text-repr-fallback\"><pre>ExtraTreesRegressor()</pre><b>In a Jupyter environment, please rerun this cell to show the HTML representation or trust the notebook. <br />On GitHub, the HTML representation is unable to render, please try loading this page with nbviewer.org.</b></div><div class=\"sk-container\" hidden><div class=\"sk-item\"><div class=\"sk-estimator sk-toggleable\"><input class=\"sk-toggleable__control sk-hidden--visually\" id=\"sk-estimator-id-1\" type=\"checkbox\" checked><label for=\"sk-estimator-id-1\" class=\"sk-toggleable__label sk-toggleable__label-arrow\">ExtraTreesRegressor</label><div class=\"sk-toggleable__content\"><pre>ExtraTreesRegressor()</pre></div></div></div></div></div>"
            ]
          },
          "metadata": {},
          "execution_count": 8
        }
      ]
    },
    {
      "cell_type": "code",
      "source": [
        "X.head()"
      ],
      "metadata": {
        "colab": {
          "base_uri": "https://localhost:8080/",
          "height": 204
        },
        "id": "noW8X40rAtGF",
        "outputId": "dfa571b7-61fb-4464-b7ca-49fe9c98aac5"
      },
      "execution_count": 9,
      "outputs": [
        {
          "output_type": "execute_result",
          "data": {
            "text/plain": [
              "   Mtemp  Htemp  Ltemp  Heat  Cool  Rain  WMSpeed    NO    NO2  PM2.5\n",
              "0   13.4   17.4    9.7   4.9   0.0   2.6      6.9  1.50  11.46   4.71\n",
              "1   10.4   15.3    7.4   7.9   0.0   2.2      8.4  1.08  11.13   4.08\n",
              "2    7.5   10.4    5.9  10.8   0.0   0.0      7.7  1.08   7.21   7.23\n",
              "3    8.2   10.2    7.2  10.1   0.0   0.0      6.3  1.04   8.54   8.71\n",
              "4    8.1   10.2    6.6  10.3   0.0   0.0      5.1  1.04   9.96   9.17"
            ],
            "text/html": [
              "\n",
              "  <div id=\"df-10769e3b-b7d9-43a3-b7fd-aa8097cf8dcb\" class=\"colab-df-container\">\n",
              "    <div>\n",
              "<style scoped>\n",
              "    .dataframe tbody tr th:only-of-type {\n",
              "        vertical-align: middle;\n",
              "    }\n",
              "\n",
              "    .dataframe tbody tr th {\n",
              "        vertical-align: top;\n",
              "    }\n",
              "\n",
              "    .dataframe thead th {\n",
              "        text-align: right;\n",
              "    }\n",
              "</style>\n",
              "<table border=\"1\" class=\"dataframe\">\n",
              "  <thead>\n",
              "    <tr style=\"text-align: right;\">\n",
              "      <th></th>\n",
              "      <th>Mtemp</th>\n",
              "      <th>Htemp</th>\n",
              "      <th>Ltemp</th>\n",
              "      <th>Heat</th>\n",
              "      <th>Cool</th>\n",
              "      <th>Rain</th>\n",
              "      <th>WMSpeed</th>\n",
              "      <th>NO</th>\n",
              "      <th>NO2</th>\n",
              "      <th>PM2.5</th>\n",
              "    </tr>\n",
              "  </thead>\n",
              "  <tbody>\n",
              "    <tr>\n",
              "      <th>0</th>\n",
              "      <td>13.4</td>\n",
              "      <td>17.4</td>\n",
              "      <td>9.7</td>\n",
              "      <td>4.9</td>\n",
              "      <td>0.0</td>\n",
              "      <td>2.6</td>\n",
              "      <td>6.9</td>\n",
              "      <td>1.50</td>\n",
              "      <td>11.46</td>\n",
              "      <td>4.71</td>\n",
              "    </tr>\n",
              "    <tr>\n",
              "      <th>1</th>\n",
              "      <td>10.4</td>\n",
              "      <td>15.3</td>\n",
              "      <td>7.4</td>\n",
              "      <td>7.9</td>\n",
              "      <td>0.0</td>\n",
              "      <td>2.2</td>\n",
              "      <td>8.4</td>\n",
              "      <td>1.08</td>\n",
              "      <td>11.13</td>\n",
              "      <td>4.08</td>\n",
              "    </tr>\n",
              "    <tr>\n",
              "      <th>2</th>\n",
              "      <td>7.5</td>\n",
              "      <td>10.4</td>\n",
              "      <td>5.9</td>\n",
              "      <td>10.8</td>\n",
              "      <td>0.0</td>\n",
              "      <td>0.0</td>\n",
              "      <td>7.7</td>\n",
              "      <td>1.08</td>\n",
              "      <td>7.21</td>\n",
              "      <td>7.23</td>\n",
              "    </tr>\n",
              "    <tr>\n",
              "      <th>3</th>\n",
              "      <td>8.2</td>\n",
              "      <td>10.2</td>\n",
              "      <td>7.2</td>\n",
              "      <td>10.1</td>\n",
              "      <td>0.0</td>\n",
              "      <td>0.0</td>\n",
              "      <td>6.3</td>\n",
              "      <td>1.04</td>\n",
              "      <td>8.54</td>\n",
              "      <td>8.71</td>\n",
              "    </tr>\n",
              "    <tr>\n",
              "      <th>4</th>\n",
              "      <td>8.1</td>\n",
              "      <td>10.2</td>\n",
              "      <td>6.6</td>\n",
              "      <td>10.3</td>\n",
              "      <td>0.0</td>\n",
              "      <td>0.0</td>\n",
              "      <td>5.1</td>\n",
              "      <td>1.04</td>\n",
              "      <td>9.96</td>\n",
              "      <td>9.17</td>\n",
              "    </tr>\n",
              "  </tbody>\n",
              "</table>\n",
              "</div>\n",
              "    <div class=\"colab-df-buttons\">\n",
              "\n",
              "  <div class=\"colab-df-container\">\n",
              "    <button class=\"colab-df-convert\" onclick=\"convertToInteractive('df-10769e3b-b7d9-43a3-b7fd-aa8097cf8dcb')\"\n",
              "            title=\"Convert this dataframe to an interactive table.\"\n",
              "            style=\"display:none;\">\n",
              "\n",
              "  <svg xmlns=\"http://www.w3.org/2000/svg\" height=\"24px\" viewBox=\"0 -960 960 960\">\n",
              "    <path d=\"M120-120v-720h720v720H120Zm60-500h600v-160H180v160Zm220 220h160v-160H400v160Zm0 220h160v-160H400v160ZM180-400h160v-160H180v160Zm440 0h160v-160H620v160ZM180-180h160v-160H180v160Zm440 0h160v-160H620v160Z\"/>\n",
              "  </svg>\n",
              "    </button>\n",
              "\n",
              "  <style>\n",
              "    .colab-df-container {\n",
              "      display:flex;\n",
              "      gap: 12px;\n",
              "    }\n",
              "\n",
              "    .colab-df-convert {\n",
              "      background-color: #E8F0FE;\n",
              "      border: none;\n",
              "      border-radius: 50%;\n",
              "      cursor: pointer;\n",
              "      display: none;\n",
              "      fill: #1967D2;\n",
              "      height: 32px;\n",
              "      padding: 0 0 0 0;\n",
              "      width: 32px;\n",
              "    }\n",
              "\n",
              "    .colab-df-convert:hover {\n",
              "      background-color: #E2EBFA;\n",
              "      box-shadow: 0px 1px 2px rgba(60, 64, 67, 0.3), 0px 1px 3px 1px rgba(60, 64, 67, 0.15);\n",
              "      fill: #174EA6;\n",
              "    }\n",
              "\n",
              "    .colab-df-buttons div {\n",
              "      margin-bottom: 4px;\n",
              "    }\n",
              "\n",
              "    [theme=dark] .colab-df-convert {\n",
              "      background-color: #3B4455;\n",
              "      fill: #D2E3FC;\n",
              "    }\n",
              "\n",
              "    [theme=dark] .colab-df-convert:hover {\n",
              "      background-color: #434B5C;\n",
              "      box-shadow: 0px 1px 3px 1px rgba(0, 0, 0, 0.15);\n",
              "      filter: drop-shadow(0px 1px 2px rgba(0, 0, 0, 0.3));\n",
              "      fill: #FFFFFF;\n",
              "    }\n",
              "  </style>\n",
              "\n",
              "    <script>\n",
              "      const buttonEl =\n",
              "        document.querySelector('#df-10769e3b-b7d9-43a3-b7fd-aa8097cf8dcb button.colab-df-convert');\n",
              "      buttonEl.style.display =\n",
              "        google.colab.kernel.accessAllowed ? 'block' : 'none';\n",
              "\n",
              "      async function convertToInteractive(key) {\n",
              "        const element = document.querySelector('#df-10769e3b-b7d9-43a3-b7fd-aa8097cf8dcb');\n",
              "        const dataTable =\n",
              "          await google.colab.kernel.invokeFunction('convertToInteractive',\n",
              "                                                    [key], {});\n",
              "        if (!dataTable) return;\n",
              "\n",
              "        const docLinkHtml = 'Like what you see? Visit the ' +\n",
              "          '<a target=\"_blank\" href=https://colab.research.google.com/notebooks/data_table.ipynb>data table notebook</a>'\n",
              "          + ' to learn more about interactive tables.';\n",
              "        element.innerHTML = '';\n",
              "        dataTable['output_type'] = 'display_data';\n",
              "        await google.colab.output.renderOutput(dataTable, element);\n",
              "        const docLink = document.createElement('div');\n",
              "        docLink.innerHTML = docLinkHtml;\n",
              "        element.appendChild(docLink);\n",
              "      }\n",
              "    </script>\n",
              "  </div>\n",
              "\n",
              "\n",
              "<div id=\"df-64dad9e2-73c0-42f8-aaf6-6578801e1848\">\n",
              "  <button class=\"colab-df-quickchart\" onclick=\"quickchart('df-64dad9e2-73c0-42f8-aaf6-6578801e1848')\"\n",
              "            title=\"Suggest charts.\"\n",
              "            style=\"display:none;\">\n",
              "\n",
              "<svg xmlns=\"http://www.w3.org/2000/svg\" height=\"24px\"viewBox=\"0 0 24 24\"\n",
              "     width=\"24px\">\n",
              "    <g>\n",
              "        <path d=\"M19 3H5c-1.1 0-2 .9-2 2v14c0 1.1.9 2 2 2h14c1.1 0 2-.9 2-2V5c0-1.1-.9-2-2-2zM9 17H7v-7h2v7zm4 0h-2V7h2v10zm4 0h-2v-4h2v4z\"/>\n",
              "    </g>\n",
              "</svg>\n",
              "  </button>\n",
              "\n",
              "<style>\n",
              "  .colab-df-quickchart {\n",
              "      --bg-color: #E8F0FE;\n",
              "      --fill-color: #1967D2;\n",
              "      --hover-bg-color: #E2EBFA;\n",
              "      --hover-fill-color: #174EA6;\n",
              "      --disabled-fill-color: #AAA;\n",
              "      --disabled-bg-color: #DDD;\n",
              "  }\n",
              "\n",
              "  [theme=dark] .colab-df-quickchart {\n",
              "      --bg-color: #3B4455;\n",
              "      --fill-color: #D2E3FC;\n",
              "      --hover-bg-color: #434B5C;\n",
              "      --hover-fill-color: #FFFFFF;\n",
              "      --disabled-bg-color: #3B4455;\n",
              "      --disabled-fill-color: #666;\n",
              "  }\n",
              "\n",
              "  .colab-df-quickchart {\n",
              "    background-color: var(--bg-color);\n",
              "    border: none;\n",
              "    border-radius: 50%;\n",
              "    cursor: pointer;\n",
              "    display: none;\n",
              "    fill: var(--fill-color);\n",
              "    height: 32px;\n",
              "    padding: 0;\n",
              "    width: 32px;\n",
              "  }\n",
              "\n",
              "  .colab-df-quickchart:hover {\n",
              "    background-color: var(--hover-bg-color);\n",
              "    box-shadow: 0 1px 2px rgba(60, 64, 67, 0.3), 0 1px 3px 1px rgba(60, 64, 67, 0.15);\n",
              "    fill: var(--button-hover-fill-color);\n",
              "  }\n",
              "\n",
              "  .colab-df-quickchart-complete:disabled,\n",
              "  .colab-df-quickchart-complete:disabled:hover {\n",
              "    background-color: var(--disabled-bg-color);\n",
              "    fill: var(--disabled-fill-color);\n",
              "    box-shadow: none;\n",
              "  }\n",
              "\n",
              "  .colab-df-spinner {\n",
              "    border: 2px solid var(--fill-color);\n",
              "    border-color: transparent;\n",
              "    border-bottom-color: var(--fill-color);\n",
              "    animation:\n",
              "      spin 1s steps(1) infinite;\n",
              "  }\n",
              "\n",
              "  @keyframes spin {\n",
              "    0% {\n",
              "      border-color: transparent;\n",
              "      border-bottom-color: var(--fill-color);\n",
              "      border-left-color: var(--fill-color);\n",
              "    }\n",
              "    20% {\n",
              "      border-color: transparent;\n",
              "      border-left-color: var(--fill-color);\n",
              "      border-top-color: var(--fill-color);\n",
              "    }\n",
              "    30% {\n",
              "      border-color: transparent;\n",
              "      border-left-color: var(--fill-color);\n",
              "      border-top-color: var(--fill-color);\n",
              "      border-right-color: var(--fill-color);\n",
              "    }\n",
              "    40% {\n",
              "      border-color: transparent;\n",
              "      border-right-color: var(--fill-color);\n",
              "      border-top-color: var(--fill-color);\n",
              "    }\n",
              "    60% {\n",
              "      border-color: transparent;\n",
              "      border-right-color: var(--fill-color);\n",
              "    }\n",
              "    80% {\n",
              "      border-color: transparent;\n",
              "      border-right-color: var(--fill-color);\n",
              "      border-bottom-color: var(--fill-color);\n",
              "    }\n",
              "    90% {\n",
              "      border-color: transparent;\n",
              "      border-bottom-color: var(--fill-color);\n",
              "    }\n",
              "  }\n",
              "</style>\n",
              "\n",
              "  <script>\n",
              "    async function quickchart(key) {\n",
              "      const quickchartButtonEl =\n",
              "        document.querySelector('#' + key + ' button');\n",
              "      quickchartButtonEl.disabled = true;  // To prevent multiple clicks.\n",
              "      quickchartButtonEl.classList.add('colab-df-spinner');\n",
              "      try {\n",
              "        const charts = await google.colab.kernel.invokeFunction(\n",
              "            'suggestCharts', [key], {});\n",
              "      } catch (error) {\n",
              "        console.error('Error during call to suggestCharts:', error);\n",
              "      }\n",
              "      quickchartButtonEl.classList.remove('colab-df-spinner');\n",
              "      quickchartButtonEl.classList.add('colab-df-quickchart-complete');\n",
              "    }\n",
              "    (() => {\n",
              "      let quickchartButtonEl =\n",
              "        document.querySelector('#df-64dad9e2-73c0-42f8-aaf6-6578801e1848 button');\n",
              "      quickchartButtonEl.style.display =\n",
              "        google.colab.kernel.accessAllowed ? 'block' : 'none';\n",
              "    })();\n",
              "  </script>\n",
              "</div>\n",
              "    </div>\n",
              "  </div>\n"
            ]
          },
          "metadata": {},
          "execution_count": 9
        }
      ]
    },
    {
      "cell_type": "code",
      "source": [
        "y.head()"
      ],
      "metadata": {
        "colab": {
          "base_uri": "https://localhost:8080/"
        },
        "id": "8v_ZAb_SAtIR",
        "outputId": "7925638c-ecdc-4fcf-8686-4ad1071016d0"
      },
      "execution_count": 10,
      "outputs": [
        {
          "output_type": "execute_result",
          "data": {
            "text/plain": [
              "0    81.79\n",
              "1    72.00\n",
              "2    73.50\n",
              "3    74.17\n",
              "4    72.17\n",
              "Name: O3, dtype: float64"
            ]
          },
          "metadata": {},
          "execution_count": 10
        }
      ]
    },
    {
      "cell_type": "code",
      "source": [
        "sns.distplot(y,color='blue')   # Distribution of O3"
      ],
      "metadata": {
        "colab": {
          "base_uri": "https://localhost:8080/",
          "height": 687
        },
        "id": "jfV2HGLzA8fI",
        "outputId": "ac2bb0dd-dcfe-4dff-d94b-9cbeedc16d77"
      },
      "execution_count": 11,
      "outputs": [
        {
          "output_type": "stream",
          "name": "stderr",
          "text": [
            "<ipython-input-11-818b6c79981d>:1: UserWarning:\n",
            "\n",
            "\n",
            "\n",
            "`distplot` is a deprecated function and will be removed in seaborn v0.14.0.\n",
            "\n",
            "Please adapt your code to use either `displot` (a figure-level function with\n",
            "similar flexibility) or `histplot` (an axes-level function for histograms).\n",
            "\n",
            "For a guide to updating your code to use the new functions, please see\n",
            "https://gist.github.com/mwaskom/de44147ed2974457ad6372750bbe5751\n",
            "\n",
            "\n"
          ]
        },
        {
          "output_type": "execute_result",
          "data": {
            "text/plain": [
              "<Axes: xlabel='O3', ylabel='Density'>"
            ]
          },
          "metadata": {},
          "execution_count": 11
        },
        {
          "output_type": "display_data",
          "data": {
            "text/plain": [
              "<Figure size 640x480 with 1 Axes>"
            ],
            "image/png": "[encoded data removed]"
          },
          "metadata": {}
        }
      ]
    },
    {
      "cell_type": "markdown",
      "source": [
        "# 1. Linear Regression"
      ],
      "metadata": {
        "id": "NeXKynGyBKh2"
      }
    },
    {
      "cell_type": "code",
      "source": [
        "from sklearn.model_selection import train_test_split\n",
        "from sklearn.linear_model import LinearRegression\n",
        "from sklearn.preprocessing import StandardScaler\n",
        "from sklearn.pipeline import make_pipeline\n",
        "from sklearn import metrics"
      ],
      "metadata": {
        "id": "GoUklUcJBPas"
      },
      "execution_count": 12,
      "outputs": []
    },
    {
      "cell_type": "code",
      "source": [
        "model = LinearRegression()\n",
        "model.fit(X,y)"
      ],
      "metadata": {
        "colab": {
          "base_uri": "https://localhost:8080/",
          "height": 74
        },
        "id": "8jHG9V3vBSap",
        "outputId": "016b19c4-07c4-4c2e-d8f4-ab6fe82a61ab"
      },
      "execution_count": 14,
      "outputs": [
        {
          "output_type": "execute_result",
          "data": {
            "text/plain": [
              "LinearRegression()"
            ],
            "text/html": [
              "<style>#sk-container-id-2 {color: black;background-color: white;}#sk-container-id-2 pre{padding: 0;}#sk-container-id-2 div.sk-toggleable {background-color: white;}#sk-container-id-2 label.sk-toggleable__label {cursor: pointer;display: block;width: 100%;margin-bottom: 0;padding: 0.3em;box-sizing: border-box;text-align: center;}#sk-container-id-2 label.sk-toggleable__label-arrow:before {content: \"▸\";float: left;margin-right: 0.25em;color: #696969;}#sk-container-id-2 label.sk-toggleable__label-arrow:hover:before {color: black;}#sk-container-id-2 div.sk-estimator:hover label.sk-toggleable__label-arrow:before {color: black;}#sk-container-id-2 div.sk-toggleable__content {max-height: 0;max-width: 0;overflow: hidden;text-align: left;background-color: #f0f8ff;}#sk-container-id-2 div.sk-toggleable__content pre {margin: 0.2em;color: black;border-radius: 0.25em;background-color: #f0f8ff;}#sk-container-id-2 input.sk-toggleable__control:checked~div.sk-toggleable__content {max-height: 200px;max-width: 100%;overflow: auto;}#sk-container-id-2 input.sk-toggleable__control:checked~label.sk-toggleable__label-arrow:before {content: \"▾\";}#sk-container-id-2 div.sk-estimator input.sk-toggleable__control:checked~label.sk-toggleable__label {background-color: #d4ebff;}#sk-container-id-2 div.sk-label input.sk-toggleable__control:checked~label.sk-toggleable__label {background-color: #d4ebff;}#sk-container-id-2 input.sk-hidden--visually {border: 0;clip: rect(1px 1px 1px 1px);clip: rect(1px, 1px, 1px, 1px);height: 1px;margin: -1px;overflow: hidden;padding: 0;position: absolute;width: 1px;}#sk-container-id-2 div.sk-estimator {font-family: monospace;background-color: #f0f8ff;border: 1px dotted black;border-radius: 0.25em;box-sizing: border-box;margin-bottom: 0.5em;}#sk-container-id-2 div.sk-estimator:hover {background-color: #d4ebff;}#sk-container-id-2 div.sk-parallel-item::after {content: \"\";width: 100%;border-bottom: 1px solid gray;flex-grow: 1;}#sk-container-id-2 div.sk-label:hover label.sk-toggleable__label {background-color: #d4ebff;}#sk-container-id-2 div.sk-serial::before {content: \"\";position: absolute;border-left: 1px solid gray;box-sizing: border-box;top: 0;bottom: 0;left: 50%;z-index: 0;}#sk-container-id-2 div.sk-serial {display: flex;flex-direction: column;align-items: center;background-color: white;padding-right: 0.2em;padding-left: 0.2em;position: relative;}#sk-container-id-2 div.sk-item {position: relative;z-index: 1;}#sk-container-id-2 div.sk-parallel {display: flex;align-items: stretch;justify-content: center;background-color: white;position: relative;}#sk-container-id-2 div.sk-item::before, #sk-container-id-2 div.sk-parallel-item::before {content: \"\";position: absolute;border-left: 1px solid gray;box-sizing: border-box;top: 0;bottom: 0;left: 50%;z-index: -1;}#sk-container-id-2 div.sk-parallel-item {display: flex;flex-direction: column;z-index: 1;position: relative;background-color: white;}#sk-container-id-2 div.sk-parallel-item:first-child::after {align-self: flex-end;width: 50%;}#sk-container-id-2 div.sk-parallel-item:last-child::after {align-self: flex-start;width: 50%;}#sk-container-id-2 div.sk-parallel-item:only-child::after {width: 0;}#sk-container-id-2 div.sk-dashed-wrapped {border: 1px dashed gray;margin: 0 0.4em 0.5em 0.4em;box-sizing: border-box;padding-bottom: 0.4em;background-color: white;}#sk-container-id-2 div.sk-label label {font-family: monospace;font-weight: bold;display: inline-block;line-height: 1.2em;}#sk-container-id-2 div.sk-label-container {text-align: center;}#sk-container-id-2 div.sk-container {/* jupyter's `normalize.less` sets `[hidden] { display: none; }` but bootstrap.min.css set `[hidden] { display: none !important; }` so we also need the `!important` here to be able to override the default hidden behavior on the sphinx rendered scikit-learn.org. See: https://github.com/scikit-learn/scikit-learn/issues/21755 */display: inline-block !important;position: relative;}#sk-container-id-2 div.sk-text-repr-fallback {display: none;}</style><div id=\"sk-container-id-2\" class=\"sk-top-container\"><div class=\"sk-text-repr-fallback\"><pre>LinearRegression()</pre><b>In a Jupyter environment, please rerun this cell to show the HTML representation or trust the notebook. <br />On GitHub, the HTML representation is unable to render, please try loading this page with nbviewer.org.</b></div><div class=\"sk-container\" hidden><div class=\"sk-item\"><div class=\"sk-estimator sk-toggleable\"><input class=\"sk-toggleable__control sk-hidden--visually\" id=\"sk-estimator-id-2\" type=\"checkbox\" checked><label for=\"sk-estimator-id-2\" class=\"sk-toggleable__label sk-toggleable__label-arrow\">LinearRegression</label><div class=\"sk-toggleable__content\"><pre>LinearRegression()</pre></div></div></div></div></div>"
            ]
          },
          "metadata": {},
          "execution_count": 14
        }
      ]
    },
    {
      "cell_type": "code",
      "source": [
        "result = pd.DataFrame(list(zip(model.coef_, df.columns)), columns=['coefficient', 'name']).set_index('name')\n",
        "np.abs(result).sort_values('coefficient', ascending=False)"
      ],
      "metadata": {
        "colab": {
          "base_uri": "https://localhost:8080/",
          "height": 390
        },
        "id": "tN1hWS-NCDwY",
        "outputId": "c5a34f9d-1a8b-497e-cf85-c22962cfa8d3"
      },
      "execution_count": 15,
      "outputs": [
        {
          "output_type": "execute_result",
          "data": {
            "text/plain": [
              "         coefficient\n",
              "name                \n",
              "Mtemp       4.882375\n",
              "Cool        3.518718\n",
              "NO          1.595757\n",
              "Heat        1.290088\n",
              "Ltemp       0.816764\n",
              "NO2         0.669272\n",
              "WMSpeed     0.425755\n",
              "PM2.5       0.313399\n",
              "Htemp       0.305202\n",
              "Rain        0.120183"
            ],
            "text/html": [
              "\n",
              "  <div id=\"df-8b3c8c25-45c9-4065-a09d-efe115df94f2\" class=\"colab-df-container\">\n",
              "    <div>\n",
              "<style scoped>\n",
              "    .dataframe tbody tr th:only-of-type {\n",
              "        vertical-align: middle;\n",
              "    }\n",
              "\n",
              "    .dataframe tbody tr th {\n",
              "        vertical-align: top;\n",
              "    }\n",
              "\n",
              "    .dataframe thead th {\n",
              "        text-align: right;\n",
              "    }\n",
              "</style>\n",
              "<table border=\"1\" class=\"dataframe\">\n",
              "  <thead>\n",
              "    <tr style=\"text-align: right;\">\n",
              "      <th></th>\n",
              "      <th>coefficient</th>\n",
              "    </tr>\n",
              "    <tr>\n",
              "      <th>name</th>\n",
              "      <th></th>\n",
              "    </tr>\n",
              "  </thead>\n",
              "  <tbody>\n",
              "    <tr>\n",
              "      <th>Mtemp</th>\n",
              "      <td>4.882375</td>\n",
              "    </tr>\n",
              "    <tr>\n",
              "      <th>Cool</th>\n",
              "      <td>3.518718</td>\n",
              "    </tr>\n",
              "    <tr>\n",
              "      <th>NO</th>\n",
              "      <td>1.595757</td>\n",
              "    </tr>\n",
              "    <tr>\n",
              "      <th>Heat</th>\n",
              "      <td>1.290088</td>\n",
              "    </tr>\n",
              "    <tr>\n",
              "      <th>Ltemp</th>\n",
              "      <td>0.816764</td>\n",
              "    </tr>\n",
              "    <tr>\n",
              "      <th>NO2</th>\n",
              "      <td>0.669272</td>\n",
              "    </tr>\n",
              "    <tr>\n",
              "      <th>WMSpeed</th>\n",
              "      <td>0.425755</td>\n",
              "    </tr>\n",
              "    <tr>\n",
              "      <th>PM2.5</th>\n",
              "      <td>0.313399</td>\n",
              "    </tr>\n",
              "    <tr>\n",
              "      <th>Htemp</th>\n",
              "      <td>0.305202</td>\n",
              "    </tr>\n",
              "    <tr>\n",
              "      <th>Rain</th>\n",
              "      <td>0.120183</td>\n",
              "    </tr>\n",
              "  </tbody>\n",
              "</table>\n",
              "</div>\n",
              "    <div class=\"colab-df-buttons\">\n",
              "\n",
              "  <div class=\"colab-df-container\">\n",
              "    <button class=\"colab-df-convert\" onclick=\"convertToInteractive('df-8b3c8c25-45c9-4065-a09d-efe115df94f2')\"\n",
              "            title=\"Convert this dataframe to an interactive table.\"\n",
              "            style=\"display:none;\">\n",
              "\n",
              "  <svg xmlns=\"http://www.w3.org/2000/svg\" height=\"24px\" viewBox=\"0 -960 960 960\">\n",
              "    <path d=\"M120-120v-720h720v720H120Zm60-500h600v-160H180v160Zm220 220h160v-160H400v160Zm0 220h160v-160H400v160ZM180-400h160v-160H180v160Zm440 0h160v-160H620v160ZM180-180h160v-160H180v160Zm440 0h160v-160H620v160Z\"/>\n",
              "  </svg>\n",
              "    </button>\n",
              "\n",
              "  <style>\n",
              "    .colab-df-container {\n",
              "      display:flex;\n",
              "      gap: 12px;\n",
              "    }\n",
              "\n",
              "    .colab-df-convert {\n",
              "      background-color: #E8F0FE;\n",
              "      border: none;\n",
              "      border-radius: 50%;\n",
              "      cursor: pointer;\n",
              "      display: none;\n",
              "      fill: #1967D2;\n",
              "      height: 32px;\n",
              "      padding: 0 0 0 0;\n",
              "      width: 32px;\n",
              "    }\n",
              "\n",
              "    .colab-df-convert:hover {\n",
              "      background-color: #E2EBFA;\n",
              "      box-shadow: 0px 1px 2px rgba(60, 64, 67, 0.3), 0px 1px 3px 1px rgba(60, 64, 67, 0.15);\n",
              "      fill: #174EA6;\n",
              "    }\n",
              "\n",
              "    .colab-df-buttons div {\n",
              "      margin-bottom: 4px;\n",
              "    }\n",
              "\n",
              "    [theme=dark] .colab-df-convert {\n",
              "      background-color: #3B4455;\n",
              "      fill: #D2E3FC;\n",
              "    }\n",
              "\n",
              "    [theme=dark] .colab-df-convert:hover {\n",
              "      background-color: #434B5C;\n",
              "      box-shadow: 0px 1px 3px 1px rgba(0, 0, 0, 0.15);\n",
              "      filter: drop-shadow(0px 1px 2px rgba(0, 0, 0, 0.3));\n",
              "      fill: #FFFFFF;\n",
              "    }\n",
              "  </style>\n",
              "\n",
              "    <script>\n",
              "      const buttonEl =\n",
              "        document.querySelector('#df-8b3c8c25-45c9-4065-a09d-efe115df94f2 button.colab-df-convert');\n",
              "      buttonEl.style.display =\n",
              "        google.colab.kernel.accessAllowed ? 'block' : 'none';\n",
              "\n",
              "      async function convertToInteractive(key) {\n",
              "        const element = document.querySelector('#df-8b3c8c25-45c9-4065-a09d-efe115df94f2');\n",
              "        const dataTable =\n",
              "          await google.colab.kernel.invokeFunction('convertToInteractive',\n",
              "                                                    [key], {});\n",
              "        if (!dataTable) return;\n",
              "\n",
              "        const docLinkHtml = 'Like what you see? Visit the ' +\n",
              "          '<a target=\"_blank\" href=https://colab.research.google.com/notebooks/data_table.ipynb>data table notebook</a>'\n",
              "          + ' to learn more about interactive tables.';\n",
              "        element.innerHTML = '';\n",
              "        dataTable['output_type'] = 'display_data';\n",
              "        await google.colab.output.renderOutput(dataTable, element);\n",
              "        const docLink = document.createElement('div');\n",
              "        docLink.innerHTML = docLinkHtml;\n",
              "        element.appendChild(docLink);\n",
              "      }\n",
              "    </script>\n",
              "  </div>\n",
              "\n",
              "\n",
              "<div id=\"df-0403fa96-c466-46f3-a21a-5184e6a8d686\">\n",
              "  <button class=\"colab-df-quickchart\" onclick=\"quickchart('df-0403fa96-c466-46f3-a21a-5184e6a8d686')\"\n",
              "            title=\"Suggest charts.\"\n",
              "            style=\"display:none;\">\n",
              "\n",
              "<svg xmlns=\"http://www.w3.org/2000/svg\" height=\"24px\"viewBox=\"0 0 24 24\"\n",
              "     width=\"24px\">\n",
              "    <g>\n",
              "        <path d=\"M19 3H5c-1.1 0-2 .9-2 2v14c0 1.1.9 2 2 2h14c1.1 0 2-.9 2-2V5c0-1.1-.9-2-2-2zM9 17H7v-7h2v7zm4 0h-2V7h2v10zm4 0h-2v-4h2v4z\"/>\n",
              "    </g>\n",
              "</svg>\n",
              "  </button>\n",
              "\n",
              "<style>\n",
              "  .colab-df-quickchart {\n",
              "      --bg-color: #E8F0FE;\n",
              "      --fill-color: #1967D2;\n",
              "      --hover-bg-color: #E2EBFA;\n",
              "      --hover-fill-color: #174EA6;\n",
              "      --disabled-fill-color: #AAA;\n",
              "      --disabled-bg-color: #DDD;\n",
              "  }\n",
              "\n",
              "  [theme=dark] .colab-df-quickchart {\n",
              "      --bg-color: #3B4455;\n",
              "      --fill-color: #D2E3FC;\n",
              "      --hover-bg-color: #434B5C;\n",
              "      --hover-fill-color: #FFFFFF;\n",
              "      --disabled-bg-color: #3B4455;\n",
              "      --disabled-fill-color: #666;\n",
              "  }\n",
              "\n",
              "  .colab-df-quickchart {\n",
              "    background-color: var(--bg-color);\n",
              "    border: none;\n",
              "    border-radius: 50%;\n",
              "    cursor: pointer;\n",
              "    display: none;\n",
              "    fill: var(--fill-color);\n",
              "    height: 32px;\n",
              "    padding: 0;\n",
              "    width: 32px;\n",
              "  }\n",
              "\n",
              "  .colab-df-quickchart:hover {\n",
              "    background-color: var(--hover-bg-color);\n",
              "    box-shadow: 0 1px 2px rgba(60, 64, 67, 0.3), 0 1px 3px 1px rgba(60, 64, 67, 0.15);\n",
              "    fill: var(--button-hover-fill-color);\n",
              "  }\n",
              "\n",
              "  .colab-df-quickchart-complete:disabled,\n",
              "  .colab-df-quickchart-complete:disabled:hover {\n",
              "    background-color: var(--disabled-bg-color);\n",
              "    fill: var(--disabled-fill-color);\n",
              "    box-shadow: none;\n",
              "  }\n",
              "\n",
              "  .colab-df-spinner {\n",
              "    border: 2px solid var(--fill-color);\n",
              "    border-color: transparent;\n",
              "    border-bottom-color: var(--fill-color);\n",
              "    animation:\n",
              "      spin 1s steps(1) infinite;\n",
              "  }\n",
              "\n",
              "  @keyframes spin {\n",
              "    0% {\n",
              "      border-color: transparent;\n",
              "      border-bottom-color: var(--fill-color);\n",
              "      border-left-color: var(--fill-color);\n",
              "    }\n",
              "    20% {\n",
              "      border-color: transparent;\n",
              "      border-left-color: var(--fill-color);\n",
              "      border-top-color: var(--fill-color);\n",
              "    }\n",
              "    30% {\n",
              "      border-color: transparent;\n",
              "      border-left-color: var(--fill-color);\n",
              "      border-top-color: var(--fill-color);\n",
              "      border-right-color: var(--fill-color);\n",
              "    }\n",
              "    40% {\n",
              "      border-color: transparent;\n",
              "      border-right-color: var(--fill-color);\n",
              "      border-top-color: var(--fill-color);\n",
              "    }\n",
              "    60% {\n",
              "      border-color: transparent;\n",
              "      border-right-color: var(--fill-color);\n",
              "    }\n",
              "    80% {\n",
              "      border-color: transparent;\n",
              "      border-right-color: var(--fill-color);\n",
              "      border-bottom-color: var(--fill-color);\n",
              "    }\n",
              "    90% {\n",
              "      border-color: transparent;\n",
              "      border-bottom-color: var(--fill-color);\n",
              "    }\n",
              "  }\n",
              "</style>\n",
              "\n",
              "  <script>\n",
              "    async function quickchart(key) {\n",
              "      const quickchartButtonEl =\n",
              "        document.querySelector('#' + key + ' button');\n",
              "      quickchartButtonEl.disabled = true;  // To prevent multiple clicks.\n",
              "      quickchartButtonEl.classList.add('colab-df-spinner');\n",
              "      try {\n",
              "        const charts = await google.colab.kernel.invokeFunction(\n",
              "            'suggestCharts', [key], {});\n",
              "      } catch (error) {\n",
              "        console.error('Error during call to suggestCharts:', error);\n",
              "      }\n",
              "      quickchartButtonEl.classList.remove('colab-df-spinner');\n",
              "      quickchartButtonEl.classList.add('colab-df-quickchart-complete');\n",
              "    }\n",
              "    (() => {\n",
              "      let quickchartButtonEl =\n",
              "        document.querySelector('#df-0403fa96-c466-46f3-a21a-5184e6a8d686 button');\n",
              "      quickchartButtonEl.style.display =\n",
              "        google.colab.kernel.accessAllowed ? 'block' : 'none';\n",
              "    })();\n",
              "  </script>\n",
              "</div>\n",
              "    </div>\n",
              "  </div>\n"
            ]
          },
          "metadata": {},
          "execution_count": 15
        }
      ]
    },
    {
      "cell_type": "code",
      "source": [
        "scaler = StandardScaler()\n",
        "stand_coef_linear_reg = make_pipeline(scaler, model)\n",
        "stand_coef_linear_reg.fit(X, y)"
      ],
      "metadata": {
        "colab": {
          "base_uri": "https://localhost:8080/",
          "height": 124
        },
        "id": "4Dh65BfCCDzI",
        "outputId": "435eb9ec-a53c-42bf-9640-fb664b62910f"
      },
      "execution_count": 16,
      "outputs": [
        {
          "output_type": "execute_result",
          "data": {
            "text/plain": [
              "Pipeline(steps=[('standardscaler', StandardScaler()),\n",
              "                ('linearregression', LinearRegression())])"
            ],
            "text/html": [
              "<style>#sk-container-id-3 {color: black;background-color: white;}#sk-container-id-3 pre{padding: 0;}#sk-container-id-3 div.sk-toggleable {background-color: white;}#sk-container-id-3 label.sk-toggleable__label {cursor: pointer;display: block;width: 100%;margin-bottom: 0;padding: 0.3em;box-sizing: border-box;text-align: center;}#sk-container-id-3 label.sk-toggleable__label-arrow:before {content: \"▸\";float: left;margin-right: 0.25em;color: #696969;}#sk-container-id-3 label.sk-toggleable__label-arrow:hover:before {color: black;}#sk-container-id-3 div.sk-estimator:hover label.sk-toggleable__label-arrow:before {color: black;}#sk-container-id-3 div.sk-toggleable__content {max-height: 0;max-width: 0;overflow: hidden;text-align: left;background-color: #f0f8ff;}#sk-container-id-3 div.sk-toggleable__content pre {margin: 0.2em;color: black;border-radius: 0.25em;background-color: #f0f8ff;}#sk-container-id-3 input.sk-toggleable__control:checked~div.sk-toggleable__content {max-height: 200px;max-width: 100%;overflow: auto;}#sk-container-id-3 input.sk-toggleable__control:checked~label.sk-toggleable__label-arrow:before {content: \"▾\";}#sk-container-id-3 div.sk-estimator input.sk-toggleable__control:checked~label.sk-toggleable__label {background-color: #d4ebff;}#sk-container-id-3 div.sk-label input.sk-toggleable__control:checked~label.sk-toggleable__label {background-color: #d4ebff;}#sk-container-id-3 input.sk-hidden--visually {border: 0;clip: rect(1px 1px 1px 1px);clip: rect(1px, 1px, 1px, 1px);height: 1px;margin: -1px;overflow: hidden;padding: 0;position: absolute;width: 1px;}#sk-container-id-3 div.sk-estimator {font-family: monospace;background-color: #f0f8ff;border: 1px dotted black;border-radius: 0.25em;box-sizing: border-box;margin-bottom: 0.5em;}#sk-container-id-3 div.sk-estimator:hover {background-color: #d4ebff;}#sk-container-id-3 div.sk-parallel-item::after {content: \"\";width: 100%;border-bottom: 1px solid gray;flex-grow: 1;}#sk-container-id-3 div.sk-label:hover label.sk-toggleable__label {background-color: #d4ebff;}#sk-container-id-3 div.sk-serial::before {content: \"\";position: absolute;border-left: 1px solid gray;box-sizing: border-box;top: 0;bottom: 0;left: 50%;z-index: 0;}#sk-container-id-3 div.sk-serial {display: flex;flex-direction: column;align-items: center;background-color: white;padding-right: 0.2em;padding-left: 0.2em;position: relative;}#sk-container-id-3 div.sk-item {position: relative;z-index: 1;}#sk-container-id-3 div.sk-parallel {display: flex;align-items: stretch;justify-content: center;background-color: white;position: relative;}#sk-container-id-3 div.sk-item::before, #sk-container-id-3 div.sk-parallel-item::before {content: \"\";position: absolute;border-left: 1px solid gray;box-sizing: border-box;top: 0;bottom: 0;left: 50%;z-index: -1;}#sk-container-id-3 div.sk-parallel-item {display: flex;flex-direction: column;z-index: 1;position: relative;background-color: white;}#sk-container-id-3 div.sk-parallel-item:first-child::after {align-self: flex-end;width: 50%;}#sk-container-id-3 div.sk-parallel-item:last-child::after {align-self: flex-start;width: 50%;}#sk-container-id-3 div.sk-parallel-item:only-child::after {width: 0;}#sk-container-id-3 div.sk-dashed-wrapped {border: 1px dashed gray;margin: 0 0.4em 0.5em 0.4em;box-sizing: border-box;padding-bottom: 0.4em;background-color: white;}#sk-container-id-3 div.sk-label label {font-family: monospace;font-weight: bold;display: inline-block;line-height: 1.2em;}#sk-container-id-3 div.sk-label-container {text-align: center;}#sk-container-id-3 div.sk-container {/* jupyter's `normalize.less` sets `[hidden] { display: none; }` but bootstrap.min.css set `[hidden] { display: none !important; }` so we also need the `!important` here to be able to override the default hidden behavior on the sphinx rendered scikit-learn.org. See: https://github.com/scikit-learn/scikit-learn/issues/21755 */display: inline-block !important;position: relative;}#sk-container-id-3 div.sk-text-repr-fallback {display: none;}</style><div id=\"sk-container-id-3\" class=\"sk-top-container\"><div class=\"sk-text-repr-fallback\"><pre>Pipeline(steps=[(&#x27;standardscaler&#x27;, StandardScaler()),\n",
              "                (&#x27;linearregression&#x27;, LinearRegression())])</pre><b>In a Jupyter environment, please rerun this cell to show the HTML representation or trust the notebook. <br />On GitHub, the HTML representation is unable to render, please try loading this page with nbviewer.org.</b></div><div class=\"sk-container\" hidden><div class=\"sk-item sk-dashed-wrapped\"><div class=\"sk-label-container\"><div class=\"sk-label sk-toggleable\"><input class=\"sk-toggleable__control sk-hidden--visually\" id=\"sk-estimator-id-3\" type=\"checkbox\" ><label for=\"sk-estimator-id-3\" class=\"sk-toggleable__label sk-toggleable__label-arrow\">Pipeline</label><div class=\"sk-toggleable__content\"><pre>Pipeline(steps=[(&#x27;standardscaler&#x27;, StandardScaler()),\n",
              "                (&#x27;linearregression&#x27;, LinearRegression())])</pre></div></div></div><div class=\"sk-serial\"><div class=\"sk-item\"><div class=\"sk-estimator sk-toggleable\"><input class=\"sk-toggleable__control sk-hidden--visually\" id=\"sk-estimator-id-4\" type=\"checkbox\" ><label for=\"sk-estimator-id-4\" class=\"sk-toggleable__label sk-toggleable__label-arrow\">StandardScaler</label><div class=\"sk-toggleable__content\"><pre>StandardScaler()</pre></div></div></div><div class=\"sk-item\"><div class=\"sk-estimator sk-toggleable\"><input class=\"sk-toggleable__control sk-hidden--visually\" id=\"sk-estimator-id-5\" type=\"checkbox\" ><label for=\"sk-estimator-id-5\" class=\"sk-toggleable__label sk-toggleable__label-arrow\">LinearRegression</label><div class=\"sk-toggleable__content\"><pre>LinearRegression()</pre></div></div></div></div></div></div></div>"
            ]
          },
          "metadata": {},
          "execution_count": 16
        }
      ]
    },
    {
      "cell_type": "code",
      "source": [
        "# standardizing the variables so that the values are converted to lie between -3 and +3\n",
        "result = pd.DataFrame(list(zip(stand_coef_linear_reg.steps[1][1].coef_, df.columns)),\n",
        "                     columns=['coefficient', 'name']).set_index('name')\n",
        "np.abs(result).sort_values('coefficient', ascending=False)"
      ],
      "metadata": {
        "colab": {
          "base_uri": "https://localhost:8080/",
          "height": 390
        },
        "id": "ptfdXyFmCD1p",
        "outputId": "9317a7ba-63be-415b-bf28-bee8f17f8dc8"
      },
      "execution_count": 17,
      "outputs": [
        {
          "output_type": "execute_result",
          "data": {
            "text/plain": [
              "         coefficient\n",
              "name                \n",
              "Mtemp      18.841949\n",
              "Cool        6.079810\n",
              "NO2         4.894999\n",
              "Heat        3.171047\n",
              "Ltemp       2.831202\n",
              "NO          2.340429\n",
              "PM2.5       2.036190\n",
              "Htemp       1.377253\n",
              "WMSpeed     0.985522\n",
              "Rain        0.429305"
            ],
            "text/html": [
              "\n",
              "  <div id=\"df-ed744dbe-49d0-4173-b2eb-c6ab27fb35b9\" class=\"colab-df-container\">\n",
              "    <div>\n",
              "<style scoped>\n",
              "    .dataframe tbody tr th:only-of-type {\n",
              "        vertical-align: middle;\n",
              "    }\n",
              "\n",
              "    .dataframe tbody tr th {\n",
              "        vertical-align: top;\n",
              "    }\n",
              "\n",
              "    .dataframe thead th {\n",
              "        text-align: right;\n",
              "    }\n",
              "</style>\n",
              "<table border=\"1\" class=\"dataframe\">\n",
              "  <thead>\n",
              "    <tr style=\"text-align: right;\">\n",
              "      <th></th>\n",
              "      <th>coefficient</th>\n",
              "    </tr>\n",
              "    <tr>\n",
              "      <th>name</th>\n",
              "      <th></th>\n",
              "    </tr>\n",
              "  </thead>\n",
              "  <tbody>\n",
              "    <tr>\n",
              "      <th>Mtemp</th>\n",
              "      <td>18.841949</td>\n",
              "    </tr>\n",
              "    <tr>\n",
              "      <th>Cool</th>\n",
              "      <td>6.079810</td>\n",
              "    </tr>\n",
              "    <tr>\n",
              "      <th>NO2</th>\n",
              "      <td>4.894999</td>\n",
              "    </tr>\n",
              "    <tr>\n",
              "      <th>Heat</th>\n",
              "      <td>3.171047</td>\n",
              "    </tr>\n",
              "    <tr>\n",
              "      <th>Ltemp</th>\n",
              "      <td>2.831202</td>\n",
              "    </tr>\n",
              "    <tr>\n",
              "      <th>NO</th>\n",
              "      <td>2.340429</td>\n",
              "    </tr>\n",
              "    <tr>\n",
              "      <th>PM2.5</th>\n",
              "      <td>2.036190</td>\n",
              "    </tr>\n",
              "    <tr>\n",
              "      <th>Htemp</th>\n",
              "      <td>1.377253</td>\n",
              "    </tr>\n",
              "    <tr>\n",
              "      <th>WMSpeed</th>\n",
              "      <td>0.985522</td>\n",
              "    </tr>\n",
              "    <tr>\n",
              "      <th>Rain</th>\n",
              "      <td>0.429305</td>\n",
              "    </tr>\n",
              "  </tbody>\n",
              "</table>\n",
              "</div>\n",
              "    <div class=\"colab-df-buttons\">\n",
              "\n",
              "  <div class=\"colab-df-container\">\n",
              "    <button class=\"colab-df-convert\" onclick=\"convertToInteractive('df-ed744dbe-49d0-4173-b2eb-c6ab27fb35b9')\"\n",
              "            title=\"Convert this dataframe to an interactive table.\"\n",
              "            style=\"display:none;\">\n",
              "\n",
              "  <svg xmlns=\"http://www.w3.org/2000/svg\" height=\"24px\" viewBox=\"0 -960 960 960\">\n",
              "    <path d=\"M120-120v-720h720v720H120Zm60-500h600v-160H180v160Zm220 220h160v-160H400v160Zm0 220h160v-160H400v160ZM180-400h160v-160H180v160Zm440 0h160v-160H620v160ZM180-180h160v-160H180v160Zm440 0h160v-160H620v160Z\"/>\n",
              "  </svg>\n",
              "    </button>\n",
              "\n",
              "  <style>\n",
              "    .colab-df-container {\n",
              "      display:flex;\n",
              "      gap: 12px;\n",
              "    }\n",
              "\n",
              "    .colab-df-convert {\n",
              "      background-color: #E8F0FE;\n",
              "      border: none;\n",
              "      border-radius: 50%;\n",
              "      cursor: pointer;\n",
              "      display: none;\n",
              "      fill: #1967D2;\n",
              "      height: 32px;\n",
              "      padding: 0 0 0 0;\n",
              "      width: 32px;\n",
              "    }\n",
              "\n",
              "    .colab-df-convert:hover {\n",
              "      background-color: #E2EBFA;\n",
              "      box-shadow: 0px 1px 2px rgba(60, 64, 67, 0.3), 0px 1px 3px 1px rgba(60, 64, 67, 0.15);\n",
              "      fill: #174EA6;\n",
              "    }\n",
              "\n",
              "    .colab-df-buttons div {\n",
              "      margin-bottom: 4px;\n",
              "    }\n",
              "\n",
              "    [theme=dark] .colab-df-convert {\n",
              "      background-color: #3B4455;\n",
              "      fill: #D2E3FC;\n",
              "    }\n",
              "\n",
              "    [theme=dark] .colab-df-convert:hover {\n",
              "      background-color: #434B5C;\n",
              "      box-shadow: 0px 1px 3px 1px rgba(0, 0, 0, 0.15);\n",
              "      filter: drop-shadow(0px 1px 2px rgba(0, 0, 0, 0.3));\n",
              "      fill: #FFFFFF;\n",
              "    }\n",
              "  </style>\n",
              "\n",
              "    <script>\n",
              "      const buttonEl =\n",
              "        document.querySelector('#df-ed744dbe-49d0-4173-b2eb-c6ab27fb35b9 button.colab-df-convert');\n",
              "      buttonEl.style.display =\n",
              "        google.colab.kernel.accessAllowed ? 'block' : 'none';\n",
              "\n",
              "      async function convertToInteractive(key) {\n",
              "        const element = document.querySelector('#df-ed744dbe-49d0-4173-b2eb-c6ab27fb35b9');\n",
              "        const dataTable =\n",
              "          await google.colab.kernel.invokeFunction('convertToInteractive',\n",
              "                                                    [key], {});\n",
              "        if (!dataTable) return;\n",
              "\n",
              "        const docLinkHtml = 'Like what you see? Visit the ' +\n",
              "          '<a target=\"_blank\" href=https://colab.research.google.com/notebooks/data_table.ipynb>data table notebook</a>'\n",
              "          + ' to learn more about interactive tables.';\n",
              "        element.innerHTML = '';\n",
              "        dataTable['output_type'] = 'display_data';\n",
              "        await google.colab.output.renderOutput(dataTable, element);\n",
              "        const docLink = document.createElement('div');\n",
              "        docLink.innerHTML = docLinkHtml;\n",
              "        element.appendChild(docLink);\n",
              "      }\n",
              "    </script>\n",
              "  </div>\n",
              "\n",
              "\n",
              "<div id=\"df-cf7499ca-fb29-4cd8-bcce-e34a4936eef2\">\n",
              "  <button class=\"colab-df-quickchart\" onclick=\"quickchart('df-cf7499ca-fb29-4cd8-bcce-e34a4936eef2')\"\n",
              "            title=\"Suggest charts.\"\n",
              "            style=\"display:none;\">\n",
              "\n",
              "<svg xmlns=\"http://www.w3.org/2000/svg\" height=\"24px\"viewBox=\"0 0 24 24\"\n",
              "     width=\"24px\">\n",
              "    <g>\n",
              "        <path d=\"M19 3H5c-1.1 0-2 .9-2 2v14c0 1.1.9 2 2 2h14c1.1 0 2-.9 2-2V5c0-1.1-.9-2-2-2zM9 17H7v-7h2v7zm4 0h-2V7h2v10zm4 0h-2v-4h2v4z\"/>\n",
              "    </g>\n",
              "</svg>\n",
              "  </button>\n",
              "\n",
              "<style>\n",
              "  .colab-df-quickchart {\n",
              "      --bg-color: #E8F0FE;\n",
              "      --fill-color: #1967D2;\n",
              "      --hover-bg-color: #E2EBFA;\n",
              "      --hover-fill-color: #174EA6;\n",
              "      --disabled-fill-color: #AAA;\n",
              "      --disabled-bg-color: #DDD;\n",
              "  }\n",
              "\n",
              "  [theme=dark] .colab-df-quickchart {\n",
              "      --bg-color: #3B4455;\n",
              "      --fill-color: #D2E3FC;\n",
              "      --hover-bg-color: #434B5C;\n",
              "      --hover-fill-color: #FFFFFF;\n",
              "      --disabled-bg-color: #3B4455;\n",
              "      --disabled-fill-color: #666;\n",
              "  }\n",
              "\n",
              "  .colab-df-quickchart {\n",
              "    background-color: var(--bg-color);\n",
              "    border: none;\n",
              "    border-radius: 50%;\n",
              "    cursor: pointer;\n",
              "    display: none;\n",
              "    fill: var(--fill-color);\n",
              "    height: 32px;\n",
              "    padding: 0;\n",
              "    width: 32px;\n",
              "  }\n",
              "\n",
              "  .colab-df-quickchart:hover {\n",
              "    background-color: var(--hover-bg-color);\n",
              "    box-shadow: 0 1px 2px rgba(60, 64, 67, 0.3), 0 1px 3px 1px rgba(60, 64, 67, 0.15);\n",
              "    fill: var(--button-hover-fill-color);\n",
              "  }\n",
              "\n",
              "  .colab-df-quickchart-complete:disabled,\n",
              "  .colab-df-quickchart-complete:disabled:hover {\n",
              "    background-color: var(--disabled-bg-color);\n",
              "    fill: var(--disabled-fill-color);\n",
              "    box-shadow: none;\n",
              "  }\n",
              "\n",
              "  .colab-df-spinner {\n",
              "    border: 2px solid var(--fill-color);\n",
              "    border-color: transparent;\n",
              "    border-bottom-color: var(--fill-color);\n",
              "    animation:\n",
              "      spin 1s steps(1) infinite;\n",
              "  }\n",
              "\n",
              "  @keyframes spin {\n",
              "    0% {\n",
              "      border-color: transparent;\n",
              "      border-bottom-color: var(--fill-color);\n",
              "      border-left-color: var(--fill-color);\n",
              "    }\n",
              "    20% {\n",
              "      border-color: transparent;\n",
              "      border-left-color: var(--fill-color);\n",
              "      border-top-color: var(--fill-color);\n",
              "    }\n",
              "    30% {\n",
              "      border-color: transparent;\n",
              "      border-left-color: var(--fill-color);\n",
              "      border-top-color: var(--fill-color);\n",
              "      border-right-color: var(--fill-color);\n",
              "    }\n",
              "    40% {\n",
              "      border-color: transparent;\n",
              "      border-right-color: var(--fill-color);\n",
              "      border-top-color: var(--fill-color);\n",
              "    }\n",
              "    60% {\n",
              "      border-color: transparent;\n",
              "      border-right-color: var(--fill-color);\n",
              "    }\n",
              "    80% {\n",
              "      border-color: transparent;\n",
              "      border-right-color: var(--fill-color);\n",
              "      border-bottom-color: var(--fill-color);\n",
              "    }\n",
              "    90% {\n",
              "      border-color: transparent;\n",
              "      border-bottom-color: var(--fill-color);\n",
              "    }\n",
              "  }\n",
              "</style>\n",
              "\n",
              "  <script>\n",
              "    async function quickchart(key) {\n",
              "      const quickchartButtonEl =\n",
              "        document.querySelector('#' + key + ' button');\n",
              "      quickchartButtonEl.disabled = true;  // To prevent multiple clicks.\n",
              "      quickchartButtonEl.classList.add('colab-df-spinner');\n",
              "      try {\n",
              "        const charts = await google.colab.kernel.invokeFunction(\n",
              "            'suggestCharts', [key], {});\n",
              "      } catch (error) {\n",
              "        console.error('Error during call to suggestCharts:', error);\n",
              "      }\n",
              "      quickchartButtonEl.classList.remove('colab-df-spinner');\n",
              "      quickchartButtonEl.classList.add('colab-df-quickchart-complete');\n",
              "    }\n",
              "    (() => {\n",
              "      let quickchartButtonEl =\n",
              "        document.querySelector('#df-cf7499ca-fb29-4cd8-bcce-e34a4936eef2 button');\n",
              "      quickchartButtonEl.style.display =\n",
              "        google.colab.kernel.accessAllowed ? 'block' : 'none';\n",
              "    })();\n",
              "  </script>\n",
              "</div>\n",
              "    </div>\n",
              "  </div>\n"
            ]
          },
          "metadata": {},
          "execution_count": 17
        }
      ]
    },
    {
      "cell_type": "code",
      "source": [
        "# creating training and testing data\n",
        "X_train, X_test, y_train, y_test = train_test_split(X, y, test_size=0.3, random_state=0)"
      ],
      "metadata": {
        "id": "MKaMcVWdCRxf"
      },
      "execution_count": 19,
      "outputs": []
    },
    {
      "cell_type": "code",
      "source": [
        "lr_model = LinearRegression()\n",
        "lr_model.fit(X_train, y_train)"
      ],
      "metadata": {
        "colab": {
          "base_uri": "https://localhost:8080/",
          "height": 74
        },
        "id": "Th1heJvXCR0B",
        "outputId": "5aa8e432-753b-454e-ba1f-4d407086cd17"
      },
      "execution_count": 20,
      "outputs": [
        {
          "output_type": "execute_result",
          "data": {
            "text/plain": [
              "LinearRegression()"
            ],
            "text/html": [
              "<style>#sk-container-id-4 {color: black;background-color: white;}#sk-container-id-4 pre{padding: 0;}#sk-container-id-4 div.sk-toggleable {background-color: white;}#sk-container-id-4 label.sk-toggleable__label {cursor: pointer;display: block;width: 100%;margin-bottom: 0;padding: 0.3em;box-sizing: border-box;text-align: center;}#sk-container-id-4 label.sk-toggleable__label-arrow:before {content: \"▸\";float: left;margin-right: 0.25em;color: #696969;}#sk-container-id-4 label.sk-toggleable__label-arrow:hover:before {color: black;}#sk-container-id-4 div.sk-estimator:hover label.sk-toggleable__label-arrow:before {color: black;}#sk-container-id-4 div.sk-toggleable__content {max-height: 0;max-width: 0;overflow: hidden;text-align: left;background-color: #f0f8ff;}#sk-container-id-4 div.sk-toggleable__content pre {margin: 0.2em;color: black;border-radius: 0.25em;background-color: #f0f8ff;}#sk-container-id-4 input.sk-toggleable__control:checked~div.sk-toggleable__content {max-height: 200px;max-width: 100%;overflow: auto;}#sk-container-id-4 input.sk-toggleable__control:checked~label.sk-toggleable__label-arrow:before {content: \"▾\";}#sk-container-id-4 div.sk-estimator input.sk-toggleable__control:checked~label.sk-toggleable__label {background-color: #d4ebff;}#sk-container-id-4 div.sk-label input.sk-toggleable__control:checked~label.sk-toggleable__label {background-color: #d4ebff;}#sk-container-id-4 input.sk-hidden--visually {border: 0;clip: rect(1px 1px 1px 1px);clip: rect(1px, 1px, 1px, 1px);height: 1px;margin: -1px;overflow: hidden;padding: 0;position: absolute;width: 1px;}#sk-container-id-4 div.sk-estimator {font-family: monospace;background-color: #f0f8ff;border: 1px dotted black;border-radius: 0.25em;box-sizing: border-box;margin-bottom: 0.5em;}#sk-container-id-4 div.sk-estimator:hover {background-color: #d4ebff;}#sk-container-id-4 div.sk-parallel-item::after {content: \"\";width: 100%;border-bottom: 1px solid gray;flex-grow: 1;}#sk-container-id-4 div.sk-label:hover label.sk-toggleable__label {background-color: #d4ebff;}#sk-container-id-4 div.sk-serial::before {content: \"\";position: absolute;border-left: 1px solid gray;box-sizing: border-box;top: 0;bottom: 0;left: 50%;z-index: 0;}#sk-container-id-4 div.sk-serial {display: flex;flex-direction: column;align-items: center;background-color: white;padding-right: 0.2em;padding-left: 0.2em;position: relative;}#sk-container-id-4 div.sk-item {position: relative;z-index: 1;}#sk-container-id-4 div.sk-parallel {display: flex;align-items: stretch;justify-content: center;background-color: white;position: relative;}#sk-container-id-4 div.sk-item::before, #sk-container-id-4 div.sk-parallel-item::before {content: \"\";position: absolute;border-left: 1px solid gray;box-sizing: border-box;top: 0;bottom: 0;left: 50%;z-index: -1;}#sk-container-id-4 div.sk-parallel-item {display: flex;flex-direction: column;z-index: 1;position: relative;background-color: white;}#sk-container-id-4 div.sk-parallel-item:first-child::after {align-self: flex-end;width: 50%;}#sk-container-id-4 div.sk-parallel-item:last-child::after {align-self: flex-start;width: 50%;}#sk-container-id-4 div.sk-parallel-item:only-child::after {width: 0;}#sk-container-id-4 div.sk-dashed-wrapped {border: 1px dashed gray;margin: 0 0.4em 0.5em 0.4em;box-sizing: border-box;padding-bottom: 0.4em;background-color: white;}#sk-container-id-4 div.sk-label label {font-family: monospace;font-weight: bold;display: inline-block;line-height: 1.2em;}#sk-container-id-4 div.sk-label-container {text-align: center;}#sk-container-id-4 div.sk-container {/* jupyter's `normalize.less` sets `[hidden] { display: none; }` but bootstrap.min.css set `[hidden] { display: none !important; }` so we also need the `!important` here to be able to override the default hidden behavior on the sphinx rendered scikit-learn.org. See: https://github.com/scikit-learn/scikit-learn/issues/21755 */display: inline-block !important;position: relative;}#sk-container-id-4 div.sk-text-repr-fallback {display: none;}</style><div id=\"sk-container-id-4\" class=\"sk-top-container\"><div class=\"sk-text-repr-fallback\"><pre>LinearRegression()</pre><b>In a Jupyter environment, please rerun this cell to show the HTML representation or trust the notebook. <br />On GitHub, the HTML representation is unable to render, please try loading this page with nbviewer.org.</b></div><div class=\"sk-container\" hidden><div class=\"sk-item\"><div class=\"sk-estimator sk-toggleable\"><input class=\"sk-toggleable__control sk-hidden--visually\" id=\"sk-estimator-id-6\" type=\"checkbox\" checked><label for=\"sk-estimator-id-6\" class=\"sk-toggleable__label sk-toggleable__label-arrow\">LinearRegression</label><div class=\"sk-toggleable__content\"><pre>LinearRegression()</pre></div></div></div></div></div>"
            ]
          },
          "metadata": {},
          "execution_count": 20
        }
      ]
    },
    {
      "cell_type": "code",
      "source": [
        "# coefficient for X and and the y-intercept\n",
        "print('coefficients: ', lr_model.coef_)\n",
        "print('intercept: ', lr_model.intercept_)"
      ],
      "metadata": {
        "colab": {
          "base_uri": "https://localhost:8080/"
        },
        "id": "cshmzBHrCkhz",
        "outputId": "3be5bd0f-52c2-4416-ecc3-e3e23ec10348"
      },
      "execution_count": 21,
      "outputs": [
        {
          "output_type": "stream",
          "name": "stdout",
          "text": [
            "coefficients:  [ 4.25357103  0.33837662 -0.7820663   0.25728662 -3.5664221   0.07679854\n",
            "  0.23412886 -1.9895981  -0.66511481 -0.31363877]\n",
            "intercept:  42.86727106045036\n"
          ]
        }
      ]
    },
    {
      "cell_type": "code",
      "source": [
        "y_train_predictions = lr_model.predict(X_train)"
      ],
      "metadata": {
        "id": "_Ywc8DZrCkkv"
      },
      "execution_count": 22,
      "outputs": []
    },
    {
      "cell_type": "code",
      "source": [
        "y_test_predictions = lr_model.predict(X_test)"
      ],
      "metadata": {
        "id": "AW3DReVlCknH"
      },
      "execution_count": 23,
      "outputs": []
    },
    {
      "cell_type": "code",
      "source": [
        "sns.distplot(y_test - y_test_predictions)"
      ],
      "metadata": {
        "colab": {
          "base_uri": "https://localhost:8080/",
          "height": 687
        },
        "id": "0paJvTCECqSl",
        "outputId": "9575264e-a5b0-4954-af2b-50829c0f3241"
      },
      "execution_count": 24,
      "outputs": [
        {
          "output_type": "stream",
          "name": "stderr",
          "text": [
            "<ipython-input-24-562ae174378b>:1: UserWarning:\n",
            "\n",
            "\n",
            "\n",
            "`distplot` is a deprecated function and will be removed in seaborn v0.14.0.\n",
            "\n",
            "Please adapt your code to use either `displot` (a figure-level function with\n",
            "similar flexibility) or `histplot` (an axes-level function for histograms).\n",
            "\n",
            "For a guide to updating your code to use the new functions, please see\n",
            "https://gist.github.com/mwaskom/de44147ed2974457ad6372750bbe5751\n",
            "\n",
            "\n"
          ]
        },
        {
          "output_type": "execute_result",
          "data": {
            "text/plain": [
              "<Axes: xlabel='O3', ylabel='Density'>"
            ]
          },
          "metadata": {},
          "execution_count": 24
        },
        {
          "output_type": "display_data",
          "data": {
            "text/plain": [
              "<Figure size 640x480 with 1 Axes>"
            ],
            "image/png": "[encoded data removed]"
          },
          "metadata": {}
        }
      ]
    },
    {
      "cell_type": "code",
      "source": [
        "plt.figure(figsize=(8, 6))\n",
        "plt.scatter(y_train_predictions, y_train_predictions - y_train, c=\"blue\", marker=\"o\", label=\"Train Data\")\n",
        "plt.scatter(y_test_predictions, y_test_predictions - y_test, c=\"red\", marker=\"*\", label=\"Test Data\")\n",
        "plt.xlabel(\"Predicted Values\")\n",
        "plt.ylabel(\"Residuals\")\n",
        "plt.legend()\n",
        "plt.hlines(y=0, xmin=-200, xmax=200, lw=2, color=\"k\")\n",
        "plt.xlim([-200, 200])\n",
        "plt.show()"
      ],
      "metadata": {
        "colab": {
          "base_uri": "https://localhost:8080/",
          "height": 542
        },
        "id": "Oyw6sUg3CuAZ",
        "outputId": "8b3488e9-058c-4085-e0be-5bd3ddd732b2"
      },
      "execution_count": 28,
      "outputs": [
        {
          "output_type": "display_data",
          "data": {
            "text/plain": [
              "<Figure size 800x600 with 1 Axes>"
            ],
            "image/png": "[encoded data removed]"
          },
          "metadata": {}
        }
      ]
    },
    {
      "cell_type": "code",
      "source": [
        "print('MSE for training data:', metrics.mean_squared_error(y_train, y_train_predictions))\n",
        "print('MSE for training data: ', metrics.mean_squared_error(y_test, y_test_predictions))"
      ],
      "metadata": {
        "colab": {
          "base_uri": "https://localhost:8080/"
        },
        "id": "JQJlrgOOCuC3",
        "outputId": "bc2c8bdf-a720-408c-a8c9-687ab4c391b0"
      },
      "execution_count": 29,
      "outputs": [
        {
          "output_type": "stream",
          "name": "stdout",
          "text": [
            "MSE for training data: 124.5579285729904\n",
            "MSE for training data:  95.30915112522624\n"
          ]
        }
      ]
    },
    {
      "cell_type": "code",
      "source": [
        "from sklearn.metrics import r2_score\n",
        "print(\"Coefficient of determination R^2 <-- on train set:\", r2_score(y_train, y_train_predictions))\n",
        "print(\"Coefficient of determination R^2 <-- on test set:\", r2_score(y_test, y_test_predictions))"
      ],
      "metadata": {
        "colab": {
          "base_uri": "https://localhost:8080/"
        },
        "id": "hrg_1bCNCuFs",
        "outputId": "d4158330-685a-4ade-f205-5d6b8ae97192"
      },
      "execution_count": 30,
      "outputs": [
        {
          "output_type": "stream",
          "name": "stdout",
          "text": [
            "Coefficient of determination R^2 <-- on train set: 0.424189042954359\n",
            "Coefficient of determination R^2 <-- on test set: 0.4954881462647076\n"
          ]
        }
      ]
    },
    {
      "cell_type": "markdown",
      "source": [
        "## Polynomial Regression"
      ],
      "metadata": {
        "id": "itqvs9FyDi_X"
      }
    },
    {
      "cell_type": "code",
      "source": [
        "from sklearn.preprocessing import PolynomialFeatures"
      ],
      "metadata": {
        "id": "6CrvbcDrDkLU"
      },
      "execution_count": 31,
      "outputs": []
    },
    {
      "cell_type": "code",
      "source": [
        "# Create polynomial features and fit a linear regression model\n",
        "degree = 2\n",
        "polyreg = make_pipeline(PolynomialFeatures(degree), LinearRegression())\n",
        "polyreg.fit(X_train, y_train)"
      ],
      "metadata": {
        "id": "HUFWYL1_DkOF",
        "outputId": "da199e57-1a7f-4969-cf0e-49c82fca4922",
        "colab": {
          "base_uri": "https://localhost:8080/",
          "height": 124
        }
      },
      "execution_count": 32,
      "outputs": [
        {
          "output_type": "execute_result",
          "data": {
            "text/plain": [
              "Pipeline(steps=[('polynomialfeatures', PolynomialFeatures()),\n",
              "                ('linearregression', LinearRegression())])"
            ],
            "text/html": [
              "<style>#sk-container-id-5 {color: black;background-color: white;}#sk-container-id-5 pre{padding: 0;}#sk-container-id-5 div.sk-toggleable {background-color: white;}#sk-container-id-5 label.sk-toggleable__label {cursor: pointer;display: block;width: 100%;margin-bottom: 0;padding: 0.3em;box-sizing: border-box;text-align: center;}#sk-container-id-5 label.sk-toggleable__label-arrow:before {content: \"▸\";float: left;margin-right: 0.25em;color: #696969;}#sk-container-id-5 label.sk-toggleable__label-arrow:hover:before {color: black;}#sk-container-id-5 div.sk-estimator:hover label.sk-toggleable__label-arrow:before {color: black;}#sk-container-id-5 div.sk-toggleable__content {max-height: 0;max-width: 0;overflow: hidden;text-align: left;background-color: #f0f8ff;}#sk-container-id-5 div.sk-toggleable__content pre {margin: 0.2em;color: black;border-radius: 0.25em;background-color: #f0f8ff;}#sk-container-id-5 input.sk-toggleable__control:checked~div.sk-toggleable__content {max-height: 200px;max-width: 100%;overflow: auto;}#sk-container-id-5 input.sk-toggleable__control:checked~label.sk-toggleable__label-arrow:before {content: \"▾\";}#sk-container-id-5 div.sk-estimator input.sk-toggleable__control:checked~label.sk-toggleable__label {background-color: #d4ebff;}#sk-container-id-5 div.sk-label input.sk-toggleable__control:checked~label.sk-toggleable__label {background-color: #d4ebff;}#sk-container-id-5 input.sk-hidden--visually {border: 0;clip: rect(1px 1px 1px 1px);clip: rect(1px, 1px, 1px, 1px);height: 1px;margin: -1px;overflow: hidden;padding: 0;position: absolute;width: 1px;}#sk-container-id-5 div.sk-estimator {font-family: monospace;background-color: #f0f8ff;border: 1px dotted black;border-radius: 0.25em;box-sizing: border-box;margin-bottom: 0.5em;}#sk-container-id-5 div.sk-estimator:hover {background-color: #d4ebff;}#sk-container-id-5 div.sk-parallel-item::after {content: \"\";width: 100%;border-bottom: 1px solid gray;flex-grow: 1;}#sk-container-id-5 div.sk-label:hover label.sk-toggleable__label {background-color: #d4ebff;}#sk-container-id-5 div.sk-serial::before {content: \"\";position: absolute;border-left: 1px solid gray;box-sizing: border-box;top: 0;bottom: 0;left: 50%;z-index: 0;}#sk-container-id-5 div.sk-serial {display: flex;flex-direction: column;align-items: center;background-color: white;padding-right: 0.2em;padding-left: 0.2em;position: relative;}#sk-container-id-5 div.sk-item {position: relative;z-index: 1;}#sk-container-id-5 div.sk-parallel {display: flex;align-items: stretch;justify-content: center;background-color: white;position: relative;}#sk-container-id-5 div.sk-item::before, #sk-container-id-5 div.sk-parallel-item::before {content: \"\";position: absolute;border-left: 1px solid gray;box-sizing: border-box;top: 0;bottom: 0;left: 50%;z-index: -1;}#sk-container-id-5 div.sk-parallel-item {display: flex;flex-direction: column;z-index: 1;position: relative;background-color: white;}#sk-container-id-5 div.sk-parallel-item:first-child::after {align-self: flex-end;width: 50%;}#sk-container-id-5 div.sk-parallel-item:last-child::after {align-self: flex-start;width: 50%;}#sk-container-id-5 div.sk-parallel-item:only-child::after {width: 0;}#sk-container-id-5 div.sk-dashed-wrapped {border: 1px dashed gray;margin: 0 0.4em 0.5em 0.4em;box-sizing: border-box;padding-bottom: 0.4em;background-color: white;}#sk-container-id-5 div.sk-label label {font-family: monospace;font-weight: bold;display: inline-block;line-height: 1.2em;}#sk-container-id-5 div.sk-label-container {text-align: center;}#sk-container-id-5 div.sk-container {/* jupyter's `normalize.less` sets `[hidden] { display: none; }` but bootstrap.min.css set `[hidden] { display: none !important; }` so we also need the `!important` here to be able to override the default hidden behavior on the sphinx rendered scikit-learn.org. See: https://github.com/scikit-learn/scikit-learn/issues/21755 */display: inline-block !important;position: relative;}#sk-container-id-5 div.sk-text-repr-fallback {display: none;}</style><div id=\"sk-container-id-5\" class=\"sk-top-container\"><div class=\"sk-text-repr-fallback\"><pre>Pipeline(steps=[(&#x27;polynomialfeatures&#x27;, PolynomialFeatures()),\n",
              "                (&#x27;linearregression&#x27;, LinearRegression())])</pre><b>In a Jupyter environment, please rerun this cell to show the HTML representation or trust the notebook. <br />On GitHub, the HTML representation is unable to render, please try loading this page with nbviewer.org.</b></div><div class=\"sk-container\" hidden><div class=\"sk-item sk-dashed-wrapped\"><div class=\"sk-label-container\"><div class=\"sk-label sk-toggleable\"><input class=\"sk-toggleable__control sk-hidden--visually\" id=\"sk-estimator-id-7\" type=\"checkbox\" ><label for=\"sk-estimator-id-7\" class=\"sk-toggleable__label sk-toggleable__label-arrow\">Pipeline</label><div class=\"sk-toggleable__content\"><pre>Pipeline(steps=[(&#x27;polynomialfeatures&#x27;, PolynomialFeatures()),\n",
              "                (&#x27;linearregression&#x27;, LinearRegression())])</pre></div></div></div><div class=\"sk-serial\"><div class=\"sk-item\"><div class=\"sk-estimator sk-toggleable\"><input class=\"sk-toggleable__control sk-hidden--visually\" id=\"sk-estimator-id-8\" type=\"checkbox\" ><label for=\"sk-estimator-id-8\" class=\"sk-toggleable__label sk-toggleable__label-arrow\">PolynomialFeatures</label><div class=\"sk-toggleable__content\"><pre>PolynomialFeatures()</pre></div></div></div><div class=\"sk-item\"><div class=\"sk-estimator sk-toggleable\"><input class=\"sk-toggleable__control sk-hidden--visually\" id=\"sk-estimator-id-9\" type=\"checkbox\" ><label for=\"sk-estimator-id-9\" class=\"sk-toggleable__label sk-toggleable__label-arrow\">LinearRegression</label><div class=\"sk-toggleable__content\"><pre>LinearRegression()</pre></div></div></div></div></div></div></div>"
            ]
          },
          "metadata": {},
          "execution_count": 32
        }
      ]
    },
    {
      "cell_type": "code",
      "source": [
        "y_pred = polyreg.predict(X_test)"
      ],
      "metadata": {
        "id": "PlTfi-clDpK9"
      },
      "execution_count": 33,
      "outputs": []
    },
    {
      "cell_type": "code",
      "source": [
        "r_square = metrics.r2_score(y_test, y_pred)\n",
        "print('R-Square Error associated with Polynomial Regression is:', r_square)\n",
        "print('MSE for testing data:', metrics.mean_squared_error(y_test, y_pred))"
      ],
      "metadata": {
        "colab": {
          "base_uri": "https://localhost:8080/"
        },
        "id": "79oQBr9IDkRN",
        "outputId": "5bd98d2c-b966-4e5e-bd76-30d48138913b"
      },
      "execution_count": 34,
      "outputs": [
        {
          "output_type": "stream",
          "name": "stdout",
          "text": [
            "R-Square Error associated with Polynomial Regression is: -23.12342946184525\n",
            "MSE for testing data: 4557.243932357794\n"
          ]
        }
      ]
    },
    {
      "cell_type": "code",
      "source": [
        "r_squared = r2_score(y_test, y_pred)\n",
        "\n",
        "# Display R^2 on the plot\n",
        "plt.text(np.min(y_test), np.max(y_pred), f'R^2 = {r_squared:.4f}', fontsize=12, verticalalignment='top')\n",
        "plt.scatter(y_test, y_pred)\n",
        "plt.show()\n",
        "print('MAE:', metrics.mean_absolute_error(y_test, y_pred))\n",
        "print('MSE:', metrics.mean_squared_error(y_test, y_pred))\n",
        "print('RMSE:', np.sqrt(metrics.mean_squared_error(y_test, y_pred)))"
      ],
      "metadata": {
        "id": "MAEbHg1cjtL8",
        "outputId": "3d420b23-7401-492d-8a8a-1960f825f1a0",
        "colab": {
          "base_uri": "https://localhost:8080/",
          "height": 481
        }
      },
      "execution_count": 35,
      "outputs": [
        {
          "output_type": "display_data",
          "data": {
            "text/plain": [
              "<Figure size 640x480 with 1 Axes>"
            ],
            "image/png": "[encoded data removed]"
          },
          "metadata": {}
        },
        {
          "output_type": "stream",
          "name": "stdout",
          "text": [
            "MAE: 24.37533882472826\n",
            "MSE: 4557.243932357794\n",
            "RMSE: 67.50736206042859\n"
          ]
        }
      ]
    },
    {
      "cell_type": "markdown",
      "source": [
        "## Lasso Regression"
      ],
      "metadata": {
        "id": "j9E7h3h4Dy6x"
      }
    },
    {
      "cell_type": "code",
      "source": [
        "from sklearn.linear_model import Lasso\n",
        "from sklearn.model_selection import GridSearchCV"
      ],
      "metadata": {
        "id": "FlzOgHS-DzGl"
      },
      "execution_count": 36,
      "outputs": []
    },
    {
      "cell_type": "code",
      "source": [
        "import warnings\n",
        "warnings.filterwarnings('ignore')\n",
        "warnings.simplefilter('ignore')\n",
        "\n",
        "lasso = Lasso()\n",
        "parameters = {'alpha':[1e-15,1e-10,1e-8,1e-3,1e-2,1,5,10,20,30,35,40]}\n",
        "lasso_regressor = GridSearchCV(lasso, parameters, scoring = 'neg_mean_squared_error', cv = 5)\n",
        "lasso_regressor.fit(X,y)\n",
        "\n",
        "print(lasso_regressor.best_params_)\n",
        "print(lasso_regressor.best_score_)"
      ],
      "metadata": {
        "colab": {
          "base_uri": "https://localhost:8080/"
        },
        "id": "ydVd2BLLDzJt",
        "outputId": "160f74f2-6e4a-4444-fd19-986a01d5a927"
      },
      "execution_count": 37,
      "outputs": [
        {
          "output_type": "stream",
          "name": "stdout",
          "text": [
            "{'alpha': 0.01}\n",
            "-131.01274603060423\n"
          ]
        }
      ]
    },
    {
      "cell_type": "code",
      "source": [
        "prediction_lasso = lasso_regressor.predict(X_test)"
      ],
      "metadata": {
        "id": "xVFMftYdD68L"
      },
      "execution_count": 38,
      "outputs": []
    },
    {
      "cell_type": "code",
      "source": [
        "sns.distplot(y_test - prediction_lasso)"
      ],
      "metadata": {
        "colab": {
          "base_uri": "https://localhost:8080/",
          "height": 466
        },
        "id": "D9y8DcA1D6-9",
        "outputId": "f45c6151-5138-40b0-aef6-39ddb33bb342"
      },
      "execution_count": 39,
      "outputs": [
        {
          "output_type": "execute_result",
          "data": {
            "text/plain": [
              "<Axes: xlabel='O3', ylabel='Density'>"
            ]
          },
          "metadata": {},
          "execution_count": 39
        },
        {
          "output_type": "display_data",
          "data": {
            "text/plain": [
              "<Figure size 640x480 with 1 Axes>"
            ],
            "image/png": "[encoded data removed]"
          },
          "metadata": {}
        }
      ]
    },
    {
      "cell_type": "code",
      "source": [
        "r_squared = r2_score(y_test, prediction_lasso)\n",
        "\n",
        "# Display R^2 on the plot\n",
        "plt.text(np.min(y_test), np.max(prediction_lasso), f'R^2 = {r_squared:.4f}', fontsize=12, verticalalignment='top')\n",
        "plt.scatter(y_test, prediction_lasso)\n",
        "plt.show()\n",
        "print('MAE:', metrics.mean_absolute_error(y_test, prediction_lasso))\n",
        "print('MSE:', metrics.mean_squared_error(y_test, prediction_lasso))\n",
        "print('RMSE:', np.sqrt(metrics.mean_squared_error(y_test, prediction_lasso)))"
      ],
      "metadata": {
        "colab": {
          "base_uri": "https://localhost:8080/",
          "height": 481
        },
        "id": "m3vlpyPUD7Be",
        "outputId": "d17c617a-8ff2-495b-fda3-cd0271c8eddd"
      },
      "execution_count": 40,
      "outputs": [
        {
          "output_type": "display_data",
          "data": {
            "text/plain": [
              "<Figure size 640x480 with 1 Axes>"
            ],
            "image/png": "[encoded data removed]"
          },
          "metadata": {}
        },
        {
          "output_type": "stream",
          "name": "stdout",
          "text": [
            "MAE: 7.328122614955318\n",
            "MSE: 86.54790450987134\n",
            "RMSE: 9.303112624808502\n"
          ]
        }
      ]
    },
    {
      "cell_type": "markdown",
      "source": [
        "## Ridge Regression"
      ],
      "metadata": {
        "id": "_LABHmWHEuNa"
      }
    },
    {
      "cell_type": "code",
      "source": [
        "from sklearn.linear_model import Ridge\n",
        "from sklearn.model_selection import GridSearchCV"
      ],
      "metadata": {
        "id": "qofxSDUPEuVg"
      },
      "execution_count": 41,
      "outputs": []
    },
    {
      "cell_type": "code",
      "source": [
        "ridge = Ridge()\n",
        "parameters = {'alpha': [1e-15,1e-10,1e-8,1e-3,1e-2,1,5,10,20,30,35,40]}\n",
        "ridge_regressor = GridSearchCV(ridge, parameters, scoring='neg_mean_squared_error', cv=5)\n",
        "ridge_regressor.fit(X,y)"
      ],
      "metadata": {
        "colab": {
          "base_uri": "https://localhost:8080/",
          "height": 115
        },
        "id": "eu5cxkEZEuXs",
        "outputId": "6a239d30-665c-473a-f0b5-cbaa13a71009"
      },
      "execution_count": 42,
      "outputs": [
        {
          "output_type": "execute_result",
          "data": {
            "text/plain": [
              "GridSearchCV(cv=5, estimator=Ridge(),\n",
              "             param_grid={'alpha': [1e-15, 1e-10, 1e-08, 0.001, 0.01, 1, 5, 10,\n",
              "                                   20, 30, 35, 40]},\n",
              "             scoring='neg_mean_squared_error')"
            ],
            "text/html": [
              "<style>#sk-container-id-6 {color: black;background-color: white;}#sk-container-id-6 pre{padding: 0;}#sk-container-id-6 div.sk-toggleable {background-color: white;}#sk-container-id-6 label.sk-toggleable__label {cursor: pointer;display: block;width: 100%;margin-bottom: 0;padding: 0.3em;box-sizing: border-box;text-align: center;}#sk-container-id-6 label.sk-toggleable__label-arrow:before {content: \"▸\";float: left;margin-right: 0.25em;color: #696969;}#sk-container-id-6 label.sk-toggleable__label-arrow:hover:before {color: black;}#sk-container-id-6 div.sk-estimator:hover label.sk-toggleable__label-arrow:before {color: black;}#sk-container-id-6 div.sk-toggleable__content {max-height: 0;max-width: 0;overflow: hidden;text-align: left;background-color: #f0f8ff;}#sk-container-id-6 div.sk-toggleable__content pre {margin: 0.2em;color: black;border-radius: 0.25em;background-color: #f0f8ff;}#sk-container-id-6 input.sk-toggleable__control:checked~div.sk-toggleable__content {max-height: 200px;max-width: 100%;overflow: auto;}#sk-container-id-6 input.sk-toggleable__control:checked~label.sk-toggleable__label-arrow:before {content: \"▾\";}#sk-container-id-6 div.sk-estimator input.sk-toggleable__control:checked~label.sk-toggleable__label {background-color: #d4ebff;}#sk-container-id-6 div.sk-label input.sk-toggleable__control:checked~label.sk-toggleable__label {background-color: #d4ebff;}#sk-container-id-6 input.sk-hidden--visually {border: 0;clip: rect(1px 1px 1px 1px);clip: rect(1px, 1px, 1px, 1px);height: 1px;margin: -1px;overflow: hidden;padding: 0;position: absolute;width: 1px;}#sk-container-id-6 div.sk-estimator {font-family: monospace;background-color: #f0f8ff;border: 1px dotted black;border-radius: 0.25em;box-sizing: border-box;margin-bottom: 0.5em;}#sk-container-id-6 div.sk-estimator:hover {background-color: #d4ebff;}#sk-container-id-6 div.sk-parallel-item::after {content: \"\";width: 100%;border-bottom: 1px solid gray;flex-grow: 1;}#sk-container-id-6 div.sk-label:hover label.sk-toggleable__label {background-color: #d4ebff;}#sk-container-id-6 div.sk-serial::before {content: \"\";position: absolute;border-left: 1px solid gray;box-sizing: border-box;top: 0;bottom: 0;left: 50%;z-index: 0;}#sk-container-id-6 div.sk-serial {display: flex;flex-direction: column;align-items: center;background-color: white;padding-right: 0.2em;padding-left: 0.2em;position: relative;}#sk-container-id-6 div.sk-item {position: relative;z-index: 1;}#sk-container-id-6 div.sk-parallel {display: flex;align-items: stretch;justify-content: center;background-color: white;position: relative;}#sk-container-id-6 div.sk-item::before, #sk-container-id-6 div.sk-parallel-item::before {content: \"\";position: absolute;border-left: 1px solid gray;box-sizing: border-box;top: 0;bottom: 0;left: 50%;z-index: -1;}#sk-container-id-6 div.sk-parallel-item {display: flex;flex-direction: column;z-index: 1;position: relative;background-color: white;}#sk-container-id-6 div.sk-parallel-item:first-child::after {align-self: flex-end;width: 50%;}#sk-container-id-6 div.sk-parallel-item:last-child::after {align-self: flex-start;width: 50%;}#sk-container-id-6 div.sk-parallel-item:only-child::after {width: 0;}#sk-container-id-6 div.sk-dashed-wrapped {border: 1px dashed gray;margin: 0 0.4em 0.5em 0.4em;box-sizing: border-box;padding-bottom: 0.4em;background-color: white;}#sk-container-id-6 div.sk-label label {font-family: monospace;font-weight: bold;display: inline-block;line-height: 1.2em;}#sk-container-id-6 div.sk-label-container {text-align: center;}#sk-container-id-6 div.sk-container {/* jupyter's `normalize.less` sets `[hidden] { display: none; }` but bootstrap.min.css set `[hidden] { display: none !important; }` so we also need the `!important` here to be able to override the default hidden behavior on the sphinx rendered scikit-learn.org. See: https://github.com/scikit-learn/scikit-learn/issues/21755 */display: inline-block !important;position: relative;}#sk-container-id-6 div.sk-text-repr-fallback {display: none;}</style><div id=\"sk-container-id-6\" class=\"sk-top-container\"><div class=\"sk-text-repr-fallback\"><pre>GridSearchCV(cv=5, estimator=Ridge(),\n",
              "             param_grid={&#x27;alpha&#x27;: [1e-15, 1e-10, 1e-08, 0.001, 0.01, 1, 5, 10,\n",
              "                                   20, 30, 35, 40]},\n",
              "             scoring=&#x27;neg_mean_squared_error&#x27;)</pre><b>In a Jupyter environment, please rerun this cell to show the HTML representation or trust the notebook. <br />On GitHub, the HTML representation is unable to render, please try loading this page with nbviewer.org.</b></div><div class=\"sk-container\" hidden><div class=\"sk-item sk-dashed-wrapped\"><div class=\"sk-label-container\"><div class=\"sk-label sk-toggleable\"><input class=\"sk-toggleable__control sk-hidden--visually\" id=\"sk-estimator-id-10\" type=\"checkbox\" ><label for=\"sk-estimator-id-10\" class=\"sk-toggleable__label sk-toggleable__label-arrow\">GridSearchCV</label><div class=\"sk-toggleable__content\"><pre>GridSearchCV(cv=5, estimator=Ridge(),\n",
              "             param_grid={&#x27;alpha&#x27;: [1e-15, 1e-10, 1e-08, 0.001, 0.01, 1, 5, 10,\n",
              "                                   20, 30, 35, 40]},\n",
              "             scoring=&#x27;neg_mean_squared_error&#x27;)</pre></div></div></div><div class=\"sk-parallel\"><div class=\"sk-parallel-item\"><div class=\"sk-item\"><div class=\"sk-label-container\"><div class=\"sk-label sk-toggleable\"><input class=\"sk-toggleable__control sk-hidden--visually\" id=\"sk-estimator-id-11\" type=\"checkbox\" ><label for=\"sk-estimator-id-11\" class=\"sk-toggleable__label sk-toggleable__label-arrow\">estimator: Ridge</label><div class=\"sk-toggleable__content\"><pre>Ridge()</pre></div></div></div><div class=\"sk-serial\"><div class=\"sk-item\"><div class=\"sk-estimator sk-toggleable\"><input class=\"sk-toggleable__control sk-hidden--visually\" id=\"sk-estimator-id-12\" type=\"checkbox\" ><label for=\"sk-estimator-id-12\" class=\"sk-toggleable__label sk-toggleable__label-arrow\">Ridge</label><div class=\"sk-toggleable__content\"><pre>Ridge()</pre></div></div></div></div></div></div></div></div></div></div>"
            ]
          },
          "metadata": {},
          "execution_count": 42
        }
      ]
    },
    {
      "cell_type": "code",
      "source": [
        "print(ridge_regressor.best_params_)\n",
        "print(ridge_regressor.best_score_)"
      ],
      "metadata": {
        "colab": {
          "base_uri": "https://localhost:8080/"
        },
        "id": "nKNtCGg8Euai",
        "outputId": "9325fb89-040a-4f84-a1e1-20016b3f2939"
      },
      "execution_count": 43,
      "outputs": [
        {
          "output_type": "stream",
          "name": "stdout",
          "text": [
            "{'alpha': 40}\n",
            "-129.94645878481816\n"
          ]
        }
      ]
    },
    {
      "cell_type": "code",
      "source": [
        "prediction_ridge = ridge_regressor.predict(X_test)"
      ],
      "metadata": {
        "id": "mJo0KK4akRKH"
      },
      "execution_count": 44,
      "outputs": []
    },
    {
      "cell_type": "code",
      "source": [
        "r_squared = r2_score(y_test,prediction_ridge)\n",
        "\n",
        "# Display R^2 on the plot\n",
        "plt.text(np.min(y_test), np.max(prediction_ridge), f'R^2 = {r_squared:.4f}', fontsize=12, verticalalignment='top')\n",
        "plt.scatter(y_test, prediction_ridge)\n",
        "plt.show()\n",
        "print('MAE:', metrics.mean_absolute_error(y_test, prediction_ridge))\n",
        "print('MSE:', metrics.mean_squared_error(y_test, prediction_ridge))\n",
        "print('RMSE:', np.sqrt(metrics.mean_squared_error(y_test, prediction_ridge)))"
      ],
      "metadata": {
        "id": "8l7Gmperkmsz",
        "outputId": "a42a8ec5-e59c-4fd7-b9e4-c618f54dfc30",
        "colab": {
          "base_uri": "https://localhost:8080/",
          "height": 481
        }
      },
      "execution_count": 45,
      "outputs": [
        {
          "output_type": "display_data",
          "data": {
            "text/plain": [
              "<Figure size 640x480 with 1 Axes>"
            ],
            "image/png": "[encoded data removed]"
          },
          "metadata": {}
        },
        {
          "output_type": "stream",
          "name": "stdout",
          "text": [
            "MAE: 7.344109142757257\n",
            "MSE: 86.11681228725072\n",
            "RMSE: 9.279914454737755\n"
          ]
        }
      ]
    },
    {
      "cell_type": "markdown",
      "source": [
        "# Random Forest"
      ],
      "metadata": {
        "id": "rwob156NFDum"
      }
    },
    {
      "cell_type": "code",
      "source": [
        "from sklearn.ensemble import RandomForestRegressor # Random Forest Regressor model"
      ],
      "metadata": {
        "id": "2Y4L74UbEzhG"
      },
      "execution_count": 46,
      "outputs": []
    },
    {
      "cell_type": "code",
      "source": [
        "rf = RandomForestRegressor()"
      ],
      "metadata": {
        "id": "6VYpjV24Ezjk"
      },
      "execution_count": 47,
      "outputs": []
    },
    {
      "cell_type": "code",
      "source": [
        "rf.fit(X_train,y_train)"
      ],
      "metadata": {
        "colab": {
          "base_uri": "https://localhost:8080/",
          "height": 74
        },
        "id": "roOsLszDFITa",
        "outputId": "dcd41e72-cbb7-4f52-9638-0e4531bbc8e2"
      },
      "execution_count": 48,
      "outputs": [
        {
          "output_type": "execute_result",
          "data": {
            "text/plain": [
              "RandomForestRegressor()"
            ],
            "text/html": [
              "<style>#sk-container-id-7 {color: black;background-color: white;}#sk-container-id-7 pre{padding: 0;}#sk-container-id-7 div.sk-toggleable {background-color: white;}#sk-container-id-7 label.sk-toggleable__label {cursor: pointer;display: block;width: 100%;margin-bottom: 0;padding: 0.3em;box-sizing: border-box;text-align: center;}#sk-container-id-7 label.sk-toggleable__label-arrow:before {content: \"▸\";float: left;margin-right: 0.25em;color: #696969;}#sk-container-id-7 label.sk-toggleable__label-arrow:hover:before {color: black;}#sk-container-id-7 div.sk-estimator:hover label.sk-toggleable__label-arrow:before {color: black;}#sk-container-id-7 div.sk-toggleable__content {max-height: 0;max-width: 0;overflow: hidden;text-align: left;background-color: #f0f8ff;}#sk-container-id-7 div.sk-toggleable__content pre {margin: 0.2em;color: black;border-radius: 0.25em;background-color: #f0f8ff;}#sk-container-id-7 input.sk-toggleable__control:checked~div.sk-toggleable__content {max-height: 200px;max-width: 100%;overflow: auto;}#sk-container-id-7 input.sk-toggleable__control:checked~label.sk-toggleable__label-arrow:before {content: \"▾\";}#sk-container-id-7 div.sk-estimator input.sk-toggleable__control:checked~label.sk-toggleable__label {background-color: #d4ebff;}#sk-container-id-7 div.sk-label input.sk-toggleable__control:checked~label.sk-toggleable__label {background-color: #d4ebff;}#sk-container-id-7 input.sk-hidden--visually {border: 0;clip: rect(1px 1px 1px 1px);clip: rect(1px, 1px, 1px, 1px);height: 1px;margin: -1px;overflow: hidden;padding: 0;position: absolute;width: 1px;}#sk-container-id-7 div.sk-estimator {font-family: monospace;background-color: #f0f8ff;border: 1px dotted black;border-radius: 0.25em;box-sizing: border-box;margin-bottom: 0.5em;}#sk-container-id-7 div.sk-estimator:hover {background-color: #d4ebff;}#sk-container-id-7 div.sk-parallel-item::after {content: \"\";width: 100%;border-bottom: 1px solid gray;flex-grow: 1;}#sk-container-id-7 div.sk-label:hover label.sk-toggleable__label {background-color: #d4ebff;}#sk-container-id-7 div.sk-serial::before {content: \"\";position: absolute;border-left: 1px solid gray;box-sizing: border-box;top: 0;bottom: 0;left: 50%;z-index: 0;}#sk-container-id-7 div.sk-serial {display: flex;flex-direction: column;align-items: center;background-color: white;padding-right: 0.2em;padding-left: 0.2em;position: relative;}#sk-container-id-7 div.sk-item {position: relative;z-index: 1;}#sk-container-id-7 div.sk-parallel {display: flex;align-items: stretch;justify-content: center;background-color: white;position: relative;}#sk-container-id-7 div.sk-item::before, #sk-container-id-7 div.sk-parallel-item::before {content: \"\";position: absolute;border-left: 1px solid gray;box-sizing: border-box;top: 0;bottom: 0;left: 50%;z-index: -1;}#sk-container-id-7 div.sk-parallel-item {display: flex;flex-direction: column;z-index: 1;position: relative;background-color: white;}#sk-container-id-7 div.sk-parallel-item:first-child::after {align-self: flex-end;width: 50%;}#sk-container-id-7 div.sk-parallel-item:last-child::after {align-self: flex-start;width: 50%;}#sk-container-id-7 div.sk-parallel-item:only-child::after {width: 0;}#sk-container-id-7 div.sk-dashed-wrapped {border: 1px dashed gray;margin: 0 0.4em 0.5em 0.4em;box-sizing: border-box;padding-bottom: 0.4em;background-color: white;}#sk-container-id-7 div.sk-label label {font-family: monospace;font-weight: bold;display: inline-block;line-height: 1.2em;}#sk-container-id-7 div.sk-label-container {text-align: center;}#sk-container-id-7 div.sk-container {/* jupyter's `normalize.less` sets `[hidden] { display: none; }` but bootstrap.min.css set `[hidden] { display: none !important; }` so we also need the `!important` here to be able to override the default hidden behavior on the sphinx rendered scikit-learn.org. See: https://github.com/scikit-learn/scikit-learn/issues/21755 */display: inline-block !important;position: relative;}#sk-container-id-7 div.sk-text-repr-fallback {display: none;}</style><div id=\"sk-container-id-7\" class=\"sk-top-container\"><div class=\"sk-text-repr-fallback\"><pre>RandomForestRegressor()</pre><b>In a Jupyter environment, please rerun this cell to show the HTML representation or trust the notebook. <br />On GitHub, the HTML representation is unable to render, please try loading this page with nbviewer.org.</b></div><div class=\"sk-container\" hidden><div class=\"sk-item\"><div class=\"sk-estimator sk-toggleable\"><input class=\"sk-toggleable__control sk-hidden--visually\" id=\"sk-estimator-id-13\" type=\"checkbox\" checked><label for=\"sk-estimator-id-13\" class=\"sk-toggleable__label sk-toggleable__label-arrow\">RandomForestRegressor</label><div class=\"sk-toggleable__content\"><pre>RandomForestRegressor()</pre></div></div></div></div></div>"
            ]
          },
          "metadata": {},
          "execution_count": 48
        }
      ]
    },
    {
      "cell_type": "code",
      "source": [
        "print(\"Coefficient of determination R^2  - train set: {}\".format(rf.score(X_train, y_train)))\n",
        "print(\"Coefficient of determination R^2  - test set: {}\".format(rf.score(X_test, y_test)))"
      ],
      "metadata": {
        "colab": {
          "base_uri": "https://localhost:8080/"
        },
        "id": "eZupFzT8FIWM",
        "outputId": "4cd8e42a-c69c-4e60-f935-15bf3dcb769e"
      },
      "execution_count": 49,
      "outputs": [
        {
          "output_type": "stream",
          "name": "stdout",
          "text": [
            "Coefficient of determination R^2  - train set: 0.8930995644466273\n",
            "Coefficient of determination R^2  - test set: 0.39344531257902793\n"
          ]
        }
      ]
    },
    {
      "cell_type": "code",
      "source": [
        "from sklearn.model_selection import cross_val_score\n",
        "score = cross_val_score(rf, X, y, cv=5)"
      ],
      "metadata": {
        "id": "8ISrqfA1FIYu"
      },
      "execution_count": 51,
      "outputs": []
    },
    {
      "cell_type": "code",
      "source": [
        "score.mean()"
      ],
      "metadata": {
        "colab": {
          "base_uri": "https://localhost:8080/"
        },
        "id": "Q3yj8AQNFYFv",
        "outputId": "b5c6c437-bad4-48be-f331-281605b3016b"
      },
      "execution_count": 52,
      "outputs": [
        {
          "output_type": "execute_result",
          "data": {
            "text/plain": [
              "0.11178294778237137"
            ]
          },
          "metadata": {},
          "execution_count": 52
        }
      ]
    },
    {
      "cell_type": "code",
      "source": [
        "RandomForestRegressor()"
      ],
      "metadata": {
        "colab": {
          "base_uri": "https://localhost:8080/",
          "height": 74
        },
        "id": "692VY_ARFYIM",
        "outputId": "e9d7687e-7173-4c01-c8f8-9846df2e0bba"
      },
      "execution_count": 53,
      "outputs": [
        {
          "output_type": "execute_result",
          "data": {
            "text/plain": [
              "RandomForestRegressor()"
            ],
            "text/html": [
              "<style>#sk-container-id-8 {color: black;background-color: white;}#sk-container-id-8 pre{padding: 0;}#sk-container-id-8 div.sk-toggleable {background-color: white;}#sk-container-id-8 label.sk-toggleable__label {cursor: pointer;display: block;width: 100%;margin-bottom: 0;padding: 0.3em;box-sizing: border-box;text-align: center;}#sk-container-id-8 label.sk-toggleable__label-arrow:before {content: \"▸\";float: left;margin-right: 0.25em;color: #696969;}#sk-container-id-8 label.sk-toggleable__label-arrow:hover:before {color: black;}#sk-container-id-8 div.sk-estimator:hover label.sk-toggleable__label-arrow:before {color: black;}#sk-container-id-8 div.sk-toggleable__content {max-height: 0;max-width: 0;overflow: hidden;text-align: left;background-color: #f0f8ff;}#sk-container-id-8 div.sk-toggleable__content pre {margin: 0.2em;color: black;border-radius: 0.25em;background-color: #f0f8ff;}#sk-container-id-8 input.sk-toggleable__control:checked~div.sk-toggleable__content {max-height: 200px;max-width: 100%;overflow: auto;}#sk-container-id-8 input.sk-toggleable__control:checked~label.sk-toggleable__label-arrow:before {content: \"▾\";}#sk-container-id-8 div.sk-estimator input.sk-toggleable__control:checked~label.sk-toggleable__label {background-color: #d4ebff;}#sk-container-id-8 div.sk-label input.sk-toggleable__control:checked~label.sk-toggleable__label {background-color: #d4ebff;}#sk-container-id-8 input.sk-hidden--visually {border: 0;clip: rect(1px 1px 1px 1px);clip: rect(1px, 1px, 1px, 1px);height: 1px;margin: -1px;overflow: hidden;padding: 0;position: absolute;width: 1px;}#sk-container-id-8 div.sk-estimator {font-family: monospace;background-color: #f0f8ff;border: 1px dotted black;border-radius: 0.25em;box-sizing: border-box;margin-bottom: 0.5em;}#sk-container-id-8 div.sk-estimator:hover {background-color: #d4ebff;}#sk-container-id-8 div.sk-parallel-item::after {content: \"\";width: 100%;border-bottom: 1px solid gray;flex-grow: 1;}#sk-container-id-8 div.sk-label:hover label.sk-toggleable__label {background-color: #d4ebff;}#sk-container-id-8 div.sk-serial::before {content: \"\";position: absolute;border-left: 1px solid gray;box-sizing: border-box;top: 0;bottom: 0;left: 50%;z-index: 0;}#sk-container-id-8 div.sk-serial {display: flex;flex-direction: column;align-items: center;background-color: white;padding-right: 0.2em;padding-left: 0.2em;position: relative;}#sk-container-id-8 div.sk-item {position: relative;z-index: 1;}#sk-container-id-8 div.sk-parallel {display: flex;align-items: stretch;justify-content: center;background-color: white;position: relative;}#sk-container-id-8 div.sk-item::before, #sk-container-id-8 div.sk-parallel-item::before {content: \"\";position: absolute;border-left: 1px solid gray;box-sizing: border-box;top: 0;bottom: 0;left: 50%;z-index: -1;}#sk-container-id-8 div.sk-parallel-item {display: flex;flex-direction: column;z-index: 1;position: relative;background-color: white;}#sk-container-id-8 div.sk-parallel-item:first-child::after {align-self: flex-end;width: 50%;}#sk-container-id-8 div.sk-parallel-item:last-child::after {align-self: flex-start;width: 50%;}#sk-container-id-8 div.sk-parallel-item:only-child::after {width: 0;}#sk-container-id-8 div.sk-dashed-wrapped {border: 1px dashed gray;margin: 0 0.4em 0.5em 0.4em;box-sizing: border-box;padding-bottom: 0.4em;background-color: white;}#sk-container-id-8 div.sk-label label {font-family: monospace;font-weight: bold;display: inline-block;line-height: 1.2em;}#sk-container-id-8 div.sk-label-container {text-align: center;}#sk-container-id-8 div.sk-container {/* jupyter's `normalize.less` sets `[hidden] { display: none; }` but bootstrap.min.css set `[hidden] { display: none !important; }` so we also need the `!important` here to be able to override the default hidden behavior on the sphinx rendered scikit-learn.org. See: https://github.com/scikit-learn/scikit-learn/issues/21755 */display: inline-block !important;position: relative;}#sk-container-id-8 div.sk-text-repr-fallback {display: none;}</style><div id=\"sk-container-id-8\" class=\"sk-top-container\"><div class=\"sk-text-repr-fallback\"><pre>RandomForestRegressor()</pre><b>In a Jupyter environment, please rerun this cell to show the HTML representation or trust the notebook. <br />On GitHub, the HTML representation is unable to render, please try loading this page with nbviewer.org.</b></div><div class=\"sk-container\" hidden><div class=\"sk-item\"><div class=\"sk-estimator sk-toggleable\"><input class=\"sk-toggleable__control sk-hidden--visually\" id=\"sk-estimator-id-14\" type=\"checkbox\" checked><label for=\"sk-estimator-id-14\" class=\"sk-toggleable__label sk-toggleable__label-arrow\">RandomForestRegressor</label><div class=\"sk-toggleable__content\"><pre>RandomForestRegressor()</pre></div></div></div></div></div>"
            ]
          },
          "metadata": {},
          "execution_count": 53
        }
      ]
    },
    {
      "cell_type": "code",
      "source": [
        "from sklearn.model_selection import RandomizedSearchCV # to determine the hyperparameters"
      ],
      "metadata": {
        "id": "6T2A9GL9FYKt"
      },
      "execution_count": 54,
      "outputs": []
    },
    {
      "cell_type": "code",
      "source": [
        "# Randomized Search CV\n",
        "\n",
        "# Number of trees in random forest\n",
        "n_estimators = [int(x) for x in np.linspace(start = 100, stop = 1300, num = 12)]\n",
        "# Number of features to consider at every split\n",
        "max_features = ['auto', 'sqrt']\n",
        "# Maximum number of levels in tree\n",
        "max_depth = [int(x) for x in np.linspace(5, 40, num = 6)]\n",
        "# max_depth.append(None)\n",
        "# Minimum number of samples required to split a node\n",
        "min_samples_split = [2, 5, 10, 15, 100]\n",
        "# Minimum number of samples required at each leaf node\n",
        "min_samples_leaf = [1, 2, 5, 10]\n",
        "# Method of selecting samples for training each tree\n",
        "# bootstrap = [True, False]"
      ],
      "metadata": {
        "id": "HTdCM0ASFYPu"
      },
      "execution_count": 55,
      "outputs": []
    },
    {
      "cell_type": "code",
      "source": [
        "# Create the random grid\n",
        "random_grid = {'n_estimators': n_estimators,\n",
        "               'max_features': max_features,\n",
        "               'max_depth': max_depth,\n",
        "               'min_samples_split': min_samples_split,\n",
        "               'min_samples_leaf': min_samples_leaf}\n",
        "\n",
        "print(random_grid)"
      ],
      "metadata": {
        "colab": {
          "base_uri": "https://localhost:8080/"
        },
        "id": "zQHCBMgiFYSN",
        "outputId": "37c8df16-b2fd-44fe-bccd-3087aa844c1c"
      },
      "execution_count": 56,
      "outputs": [
        {
          "output_type": "stream",
          "name": "stdout",
          "text": [
            "{'n_estimators': [100, 209, 318, 427, 536, 645, 754, 863, 972, 1081, 1190, 1300], 'max_features': ['auto', 'sqrt'], 'max_depth': [5, 12, 19, 26, 33, 40], 'min_samples_split': [2, 5, 10, 15, 100], 'min_samples_leaf': [1, 2, 5, 10]}\n"
          ]
        }
      ]
    },
    {
      "cell_type": "code",
      "source": [
        "# Use the random grid to search for best hyperparameters\n",
        "# First create the base model to tune\n",
        "rf1 = RandomForestRegressor()"
      ],
      "metadata": {
        "id": "8vN1I2PbFjc6"
      },
      "execution_count": 57,
      "outputs": []
    },
    {
      "cell_type": "code",
      "source": [
        "# Random search of parameters, using 3 fold cross validation,\n",
        "# search across 100 different combinations\n",
        "rf1_random = RandomizedSearchCV(estimator = rf1, param_distributions = random_grid, scoring='neg_mean_squared_error', n_iter = 100, cv = 5, verbose=2, random_state=42, n_jobs = 1)"
      ],
      "metadata": {
        "id": "Tg4TNsPHFjfs"
      },
      "execution_count": 58,
      "outputs": []
    },
    {
      "cell_type": "code",
      "source": [
        "rf1_random.fit(X_train,y_train)"
      ],
      "metadata": {
        "colab": {
          "base_uri": "https://localhost:8080/",
          "height": 1000
        },
        "id": "aZhQ7r8RFjiM",
        "outputId": "1294a348-8f4b-400b-c99d-0d25cc6b958c"
      },
      "execution_count": 59,
      "outputs": [
        {
          "output_type": "stream",
          "name": "stdout",
          "text": [
            "Fitting 5 folds for each of 100 candidates, totalling 500 fits\n",
            "[CV] END max_depth=5, max_features=sqrt, min_samples_leaf=10, min_samples_split=100, n_estimators=427; total time=   0.6s\n",
            "[CV] END max_depth=5, max_features=sqrt, min_samples_leaf=10, min_samples_split=100, n_estimators=427; total time=   0.5s\n",
            "[CV] END max_depth=5, max_features=sqrt, min_samples_leaf=10, min_samples_split=100, n_estimators=427; total time=   0.6s\n",
            "[CV] END max_depth=5, max_features=sqrt, min_samples_leaf=10, min_samples_split=100, n_estimators=427; total time=   0.9s\n",
            "[CV] END max_depth=5, max_features=sqrt, min_samples_leaf=10, min_samples_split=100, n_estimators=427; total time=   0.9s\n",
            "[CV] END max_depth=26, max_features=auto, min_samples_leaf=1, min_samples_split=5, n_estimators=209; total time=   0.6s\n",
            "[CV] END max_depth=26, max_features=auto, min_samples_leaf=1, min_samples_split=5, n_estimators=209; total time=   0.5s\n",
            "[CV] END max_depth=26, max_features=auto, min_samples_leaf=1, min_samples_split=5, n_estimators=209; total time=   0.4s\n",
            "[CV] END max_depth=26, max_features=auto, min_samples_leaf=1, min_samples_split=5, n_estimators=209; total time=   0.3s\n",
            "[CV] END max_depth=26, max_features=auto, min_samples_leaf=1, min_samples_split=5, n_estimators=209; total time=   0.4s\n",
            "[CV] END max_depth=33, max_features=sqrt, min_samples_leaf=10, min_samples_split=15, n_estimators=209; total time=   0.3s\n",
            "[CV] END max_depth=33, max_features=sqrt, min_samples_leaf=10, min_samples_split=15, n_estimators=209; total time=   0.3s\n",
            "[CV] END max_depth=33, max_features=sqrt, min_samples_leaf=10, min_samples_split=15, n_estimators=209; total time=   0.3s\n",
            "[CV] END max_depth=33, max_features=sqrt, min_samples_leaf=10, min_samples_split=15, n_estimators=209; total time=   0.3s\n",
            "[CV] END max_depth=33, max_features=sqrt, min_samples_leaf=10, min_samples_split=15, n_estimators=209; total time=   0.3s\n",
            "[CV] END max_depth=26, max_features=auto, min_samples_leaf=5, min_samples_split=15, n_estimators=645; total time=   0.9s\n",
            "[CV] END max_depth=26, max_features=auto, min_samples_leaf=5, min_samples_split=15, n_estimators=645; total time=   0.9s\n",
            "[CV] END max_depth=26, max_features=auto, min_samples_leaf=5, min_samples_split=15, n_estimators=645; total time=   1.0s\n",
            "[CV] END max_depth=26, max_features=auto, min_samples_leaf=5, min_samples_split=15, n_estimators=645; total time=   1.0s\n",
            "[CV] END max_depth=26, max_features=auto, min_samples_leaf=5, min_samples_split=15, n_estimators=645; total time=   1.0s\n",
            "[CV] END max_depth=19, max_features=auto, min_samples_leaf=5, min_samples_split=5, n_estimators=318; total time=   0.5s\n",
            "[CV] END max_depth=19, max_features=auto, min_samples_leaf=5, min_samples_split=5, n_estimators=318; total time=   0.5s\n",
            "[CV] END max_depth=19, max_features=auto, min_samples_leaf=5, min_samples_split=5, n_estimators=318; total time=   0.5s\n",
            "[CV] END max_depth=19, max_features=auto, min_samples_leaf=5, min_samples_split=5, n_estimators=318; total time=   0.5s\n",
            "[CV] END max_depth=19, max_features=auto, min_samples_leaf=5, min_samples_split=5, n_estimators=318; total time=   0.5s\n",
            "[CV] END max_depth=19, max_features=sqrt, min_samples_leaf=1, min_samples_split=100, n_estimators=863; total time=   1.7s\n",
            "[CV] END max_depth=19, max_features=sqrt, min_samples_leaf=1, min_samples_split=100, n_estimators=863; total time=   1.6s\n",
            "[CV] END max_depth=19, max_features=sqrt, min_samples_leaf=1, min_samples_split=100, n_estimators=863; total time=   1.1s\n",
            "[CV] END max_depth=19, max_features=sqrt, min_samples_leaf=1, min_samples_split=100, n_estimators=863; total time=   1.1s\n",
            "[CV] END max_depth=19, max_features=sqrt, min_samples_leaf=1, min_samples_split=100, n_estimators=863; total time=   1.0s\n",
            "[CV] END max_depth=19, max_features=auto, min_samples_leaf=5, min_samples_split=100, n_estimators=100; total time=   0.1s\n",
            "[CV] END max_depth=19, max_features=auto, min_samples_leaf=5, min_samples_split=100, n_estimators=100; total time=   0.1s\n",
            "[CV] END max_depth=19, max_features=auto, min_samples_leaf=5, min_samples_split=100, n_estimators=100; total time=   0.1s\n",
            "[CV] END max_depth=19, max_features=auto, min_samples_leaf=5, min_samples_split=100, n_estimators=100; total time=   0.1s\n",
            "[CV] END max_depth=19, max_features=auto, min_samples_leaf=5, min_samples_split=100, n_estimators=100; total time=   0.1s\n",
            "[CV] END max_depth=33, max_features=sqrt, min_samples_leaf=2, min_samples_split=10, n_estimators=972; total time=   1.3s\n",
            "[CV] END max_depth=33, max_features=sqrt, min_samples_leaf=2, min_samples_split=10, n_estimators=972; total time=   1.3s\n",
            "[CV] END max_depth=33, max_features=sqrt, min_samples_leaf=2, min_samples_split=10, n_estimators=972; total time=   1.3s\n",
            "[CV] END max_depth=33, max_features=sqrt, min_samples_leaf=2, min_samples_split=10, n_estimators=972; total time=   1.3s\n",
            "[CV] END max_depth=33, max_features=sqrt, min_samples_leaf=2, min_samples_split=10, n_estimators=972; total time=   1.7s\n",
            "[CV] END max_depth=12, max_features=sqrt, min_samples_leaf=10, min_samples_split=15, n_estimators=1081; total time=   2.1s\n",
            "[CV] END max_depth=12, max_features=sqrt, min_samples_leaf=10, min_samples_split=15, n_estimators=1081; total time=   1.4s\n",
            "[CV] END max_depth=12, max_features=sqrt, min_samples_leaf=10, min_samples_split=15, n_estimators=1081; total time=   1.6s\n",
            "[CV] END max_depth=12, max_features=sqrt, min_samples_leaf=10, min_samples_split=15, n_estimators=1081; total time=   1.4s\n",
            "[CV] END max_depth=12, max_features=sqrt, min_samples_leaf=10, min_samples_split=15, n_estimators=1081; total time=   1.4s\n",
            "[CV] END max_depth=26, max_features=sqrt, min_samples_leaf=5, min_samples_split=2, n_estimators=100; total time=   0.1s\n",
            "[CV] END max_depth=26, max_features=sqrt, min_samples_leaf=5, min_samples_split=2, n_estimators=100; total time=   0.1s\n",
            "[CV] END max_depth=26, max_features=sqrt, min_samples_leaf=5, min_samples_split=2, n_estimators=100; total time=   0.1s\n",
            "[CV] END max_depth=26, max_features=sqrt, min_samples_leaf=5, min_samples_split=2, n_estimators=100; total time=   0.1s\n",
            "[CV] END max_depth=26, max_features=sqrt, min_samples_leaf=5, min_samples_split=2, n_estimators=100; total time=   0.1s\n",
            "[CV] END max_depth=40, max_features=sqrt, min_samples_leaf=5, min_samples_split=5, n_estimators=318; total time=   0.4s\n",
            "[CV] END max_depth=40, max_features=sqrt, min_samples_leaf=5, min_samples_split=5, n_estimators=318; total time=   0.4s\n",
            "[CV] END max_depth=40, max_features=sqrt, min_samples_leaf=5, min_samples_split=5, n_estimators=318; total time=   0.4s\n",
            "[CV] END max_depth=40, max_features=sqrt, min_samples_leaf=5, min_samples_split=5, n_estimators=318; total time=   0.4s\n",
            "[CV] END max_depth=40, max_features=sqrt, min_samples_leaf=5, min_samples_split=5, n_estimators=318; total time=   0.4s\n",
            "[CV] END max_depth=40, max_features=sqrt, min_samples_leaf=2, min_samples_split=10, n_estimators=427; total time=   0.6s\n",
            "[CV] END max_depth=40, max_features=sqrt, min_samples_leaf=2, min_samples_split=10, n_estimators=427; total time=   0.7s\n",
            "[CV] END max_depth=40, max_features=sqrt, min_samples_leaf=2, min_samples_split=10, n_estimators=427; total time=   1.0s\n",
            "[CV] END max_depth=40, max_features=sqrt, min_samples_leaf=2, min_samples_split=10, n_estimators=427; total time=   1.8s\n",
            "[CV] END max_depth=40, max_features=sqrt, min_samples_leaf=2, min_samples_split=10, n_estimators=427; total time=   1.1s\n",
            "[CV] END max_depth=5, max_features=sqrt, min_samples_leaf=5, min_samples_split=2, n_estimators=972; total time=   1.8s\n",
            "[CV] END max_depth=5, max_features=sqrt, min_samples_leaf=5, min_samples_split=2, n_estimators=972; total time=   1.3s\n",
            "[CV] END max_depth=5, max_features=sqrt, min_samples_leaf=5, min_samples_split=2, n_estimators=972; total time=   1.3s\n",
            "[CV] END max_depth=5, max_features=sqrt, min_samples_leaf=5, min_samples_split=2, n_estimators=972; total time=   1.3s\n",
            "[CV] END max_depth=5, max_features=sqrt, min_samples_leaf=5, min_samples_split=2, n_estimators=972; total time=   1.3s\n",
            "[CV] END max_depth=26, max_features=sqrt, min_samples_leaf=2, min_samples_split=5, n_estimators=972; total time=   1.3s\n",
            "[CV] END max_depth=26, max_features=sqrt, min_samples_leaf=2, min_samples_split=5, n_estimators=972; total time=   1.8s\n",
            "[CV] END max_depth=26, max_features=sqrt, min_samples_leaf=2, min_samples_split=5, n_estimators=972; total time=   1.9s\n",
            "[CV] END max_depth=26, max_features=sqrt, min_samples_leaf=2, min_samples_split=5, n_estimators=972; total time=   1.3s\n",
            "[CV] END max_depth=26, max_features=sqrt, min_samples_leaf=2, min_samples_split=5, n_estimators=972; total time=   1.3s\n",
            "[CV] END max_depth=12, max_features=sqrt, min_samples_leaf=2, min_samples_split=15, n_estimators=209; total time=   0.3s\n",
            "[CV] END max_depth=12, max_features=sqrt, min_samples_leaf=2, min_samples_split=15, n_estimators=209; total time=   0.8s\n",
            "[CV] END max_depth=12, max_features=sqrt, min_samples_leaf=2, min_samples_split=15, n_estimators=209; total time=   0.4s\n",
            "[CV] END max_depth=12, max_features=sqrt, min_samples_leaf=2, min_samples_split=15, n_estimators=209; total time=   0.7s\n",
            "[CV] END max_depth=12, max_features=sqrt, min_samples_leaf=2, min_samples_split=15, n_estimators=209; total time=   0.5s\n",
            "[CV] END max_depth=12, max_features=sqrt, min_samples_leaf=2, min_samples_split=2, n_estimators=209; total time=   0.4s\n",
            "[CV] END max_depth=12, max_features=sqrt, min_samples_leaf=2, min_samples_split=2, n_estimators=209; total time=   0.8s\n",
            "[CV] END max_depth=12, max_features=sqrt, min_samples_leaf=2, min_samples_split=2, n_estimators=209; total time=   0.3s\n",
            "[CV] END max_depth=12, max_features=sqrt, min_samples_leaf=2, min_samples_split=2, n_estimators=209; total time=   0.3s\n",
            "[CV] END max_depth=12, max_features=sqrt, min_samples_leaf=2, min_samples_split=2, n_estimators=209; total time=   0.3s\n",
            "[CV] END max_depth=12, max_features=auto, min_samples_leaf=1, min_samples_split=5, n_estimators=754; total time=   1.3s\n",
            "[CV] END max_depth=12, max_features=auto, min_samples_leaf=1, min_samples_split=5, n_estimators=754; total time=   1.5s\n",
            "[CV] END max_depth=12, max_features=auto, min_samples_leaf=1, min_samples_split=5, n_estimators=754; total time=   2.0s\n",
            "[CV] END max_depth=12, max_features=auto, min_samples_leaf=1, min_samples_split=5, n_estimators=754; total time=   1.3s\n",
            "[CV] END max_depth=12, max_features=auto, min_samples_leaf=1, min_samples_split=5, n_estimators=754; total time=   1.3s\n",
            "[CV] END max_depth=5, max_features=auto, min_samples_leaf=10, min_samples_split=100, n_estimators=1300; total time=   1.6s\n",
            "[CV] END max_depth=5, max_features=auto, min_samples_leaf=10, min_samples_split=100, n_estimators=1300; total time=   1.7s\n",
            "[CV] END max_depth=5, max_features=auto, min_samples_leaf=10, min_samples_split=100, n_estimators=1300; total time=   1.7s\n",
            "[CV] END max_depth=5, max_features=auto, min_samples_leaf=10, min_samples_split=100, n_estimators=1300; total time=   1.7s\n",
            "[CV] END max_depth=5, max_features=auto, min_samples_leaf=10, min_samples_split=100, n_estimators=1300; total time=   2.1s\n",
            "[CV] END max_depth=5, max_features=sqrt, min_samples_leaf=2, min_samples_split=10, n_estimators=863; total time=   1.7s\n",
            "[CV] END max_depth=5, max_features=sqrt, min_samples_leaf=2, min_samples_split=10, n_estimators=863; total time=   1.1s\n",
            "[CV] END max_depth=5, max_features=sqrt, min_samples_leaf=2, min_samples_split=10, n_estimators=863; total time=   1.1s\n",
            "[CV] END max_depth=5, max_features=sqrt, min_samples_leaf=2, min_samples_split=10, n_estimators=863; total time=   1.1s\n",
            "[CV] END max_depth=5, max_features=sqrt, min_samples_leaf=2, min_samples_split=10, n_estimators=863; total time=   1.1s\n",
            "[CV] END max_depth=12, max_features=sqrt, min_samples_leaf=2, min_samples_split=100, n_estimators=1190; total time=   1.4s\n",
            "[CV] END max_depth=12, max_features=sqrt, min_samples_leaf=2, min_samples_split=100, n_estimators=1190; total time=   1.5s\n",
            "[CV] END max_depth=12, max_features=sqrt, min_samples_leaf=2, min_samples_split=100, n_estimators=1190; total time=   1.5s\n",
            "[CV] END max_depth=12, max_features=sqrt, min_samples_leaf=2, min_samples_split=100, n_estimators=1190; total time=   1.8s\n",
            "[CV] END max_depth=12, max_features=sqrt, min_samples_leaf=2, min_samples_split=100, n_estimators=1190; total time=   2.1s\n",
            "[CV] END max_depth=12, max_features=sqrt, min_samples_leaf=10, min_samples_split=100, n_estimators=536; total time=   0.7s\n",
            "[CV] END max_depth=12, max_features=sqrt, min_samples_leaf=10, min_samples_split=100, n_estimators=536; total time=   0.7s\n",
            "[CV] END max_depth=12, max_features=sqrt, min_samples_leaf=10, min_samples_split=100, n_estimators=536; total time=   0.7s\n",
            "[CV] END max_depth=12, max_features=sqrt, min_samples_leaf=10, min_samples_split=100, n_estimators=536; total time=   0.7s\n",
            "[CV] END max_depth=12, max_features=sqrt, min_samples_leaf=10, min_samples_split=100, n_estimators=536; total time=   0.7s\n",
            "[CV] END max_depth=19, max_features=sqrt, min_samples_leaf=1, min_samples_split=5, n_estimators=1081; total time=   1.5s\n",
            "[CV] END max_depth=19, max_features=sqrt, min_samples_leaf=1, min_samples_split=5, n_estimators=1081; total time=   1.5s\n",
            "[CV] END max_depth=19, max_features=sqrt, min_samples_leaf=1, min_samples_split=5, n_estimators=1081; total time=   1.5s\n",
            "[CV] END max_depth=19, max_features=sqrt, min_samples_leaf=1, min_samples_split=5, n_estimators=1081; total time=   1.5s\n",
            "[CV] END max_depth=19, max_features=sqrt, min_samples_leaf=1, min_samples_split=5, n_estimators=1081; total time=   2.3s\n",
            "[CV] END max_depth=19, max_features=sqrt, min_samples_leaf=2, min_samples_split=2, n_estimators=1081; total time=   1.8s\n",
            "[CV] END max_depth=19, max_features=sqrt, min_samples_leaf=2, min_samples_split=2, n_estimators=1081; total time=   1.5s\n",
            "[CV] END max_depth=19, max_features=sqrt, min_samples_leaf=2, min_samples_split=2, n_estimators=1081; total time=   1.5s\n",
            "[CV] END max_depth=19, max_features=sqrt, min_samples_leaf=2, min_samples_split=2, n_estimators=1081; total time=   1.4s\n",
            "[CV] END max_depth=19, max_features=sqrt, min_samples_leaf=2, min_samples_split=2, n_estimators=1081; total time=   1.5s\n",
            "[CV] END max_depth=33, max_features=sqrt, min_samples_leaf=10, min_samples_split=10, n_estimators=1300; total time=   1.6s\n",
            "[CV] END max_depth=33, max_features=sqrt, min_samples_leaf=10, min_samples_split=10, n_estimators=1300; total time=   1.8s\n",
            "[CV] END max_depth=33, max_features=sqrt, min_samples_leaf=10, min_samples_split=10, n_estimators=1300; total time=   2.6s\n",
            "[CV] END max_depth=33, max_features=sqrt, min_samples_leaf=10, min_samples_split=10, n_estimators=1300; total time=   1.6s\n",
            "[CV] END max_depth=33, max_features=sqrt, min_samples_leaf=10, min_samples_split=10, n_estimators=1300; total time=   1.6s\n",
            "[CV] END max_depth=26, max_features=sqrt, min_samples_leaf=2, min_samples_split=15, n_estimators=318; total time=   0.4s\n",
            "[CV] END max_depth=26, max_features=sqrt, min_samples_leaf=2, min_samples_split=15, n_estimators=318; total time=   0.4s\n",
            "[CV] END max_depth=26, max_features=sqrt, min_samples_leaf=2, min_samples_split=15, n_estimators=318; total time=   0.4s\n",
            "[CV] END max_depth=26, max_features=sqrt, min_samples_leaf=2, min_samples_split=15, n_estimators=318; total time=   0.4s\n",
            "[CV] END max_depth=26, max_features=sqrt, min_samples_leaf=2, min_samples_split=15, n_estimators=318; total time=   0.4s\n",
            "[CV] END max_depth=26, max_features=auto, min_samples_leaf=2, min_samples_split=5, n_estimators=645; total time=   1.0s\n",
            "[CV] END max_depth=26, max_features=auto, min_samples_leaf=2, min_samples_split=5, n_estimators=645; total time=   1.0s\n",
            "[CV] END max_depth=26, max_features=auto, min_samples_leaf=2, min_samples_split=5, n_estimators=645; total time=   1.0s\n",
            "[CV] END max_depth=26, max_features=auto, min_samples_leaf=2, min_samples_split=5, n_estimators=645; total time=   1.0s\n",
            "[CV] END max_depth=26, max_features=auto, min_samples_leaf=2, min_samples_split=5, n_estimators=645; total time=   1.5s\n",
            "[CV] END max_depth=33, max_features=auto, min_samples_leaf=2, min_samples_split=5, n_estimators=1190; total time=   2.6s\n",
            "[CV] END max_depth=33, max_features=auto, min_samples_leaf=2, min_samples_split=5, n_estimators=1190; total time=   1.9s\n",
            "[CV] END max_depth=33, max_features=auto, min_samples_leaf=2, min_samples_split=5, n_estimators=1190; total time=   1.9s\n",
            "[CV] END max_depth=33, max_features=auto, min_samples_leaf=2, min_samples_split=5, n_estimators=1190; total time=   1.9s\n",
            "[CV] END max_depth=33, max_features=auto, min_samples_leaf=2, min_samples_split=5, n_estimators=1190; total time=   2.0s\n",
            "[CV] END max_depth=19, max_features=auto, min_samples_leaf=1, min_samples_split=100, n_estimators=318; total time=   0.4s\n",
            "[CV] END max_depth=19, max_features=auto, min_samples_leaf=1, min_samples_split=100, n_estimators=318; total time=   0.4s\n",
            "[CV] END max_depth=19, max_features=auto, min_samples_leaf=1, min_samples_split=100, n_estimators=318; total time=   0.4s\n",
            "[CV] END max_depth=19, max_features=auto, min_samples_leaf=1, min_samples_split=100, n_estimators=318; total time=   0.7s\n",
            "[CV] END max_depth=19, max_features=auto, min_samples_leaf=1, min_samples_split=100, n_estimators=318; total time=   0.7s\n",
            "[CV] END max_depth=26, max_features=sqrt, min_samples_leaf=2, min_samples_split=5, n_estimators=100; total time=   0.3s\n",
            "[CV] END max_depth=26, max_features=sqrt, min_samples_leaf=2, min_samples_split=5, n_estimators=100; total time=   0.2s\n",
            "[CV] END max_depth=26, max_features=sqrt, min_samples_leaf=2, min_samples_split=5, n_estimators=100; total time=   0.2s\n",
            "[CV] END max_depth=26, max_features=sqrt, min_samples_leaf=2, min_samples_split=5, n_estimators=100; total time=   0.2s\n",
            "[CV] END max_depth=26, max_features=sqrt, min_samples_leaf=2, min_samples_split=5, n_estimators=100; total time=   0.2s\n",
            "[CV] END max_depth=26, max_features=sqrt, min_samples_leaf=10, min_samples_split=100, n_estimators=754; total time=   1.0s\n",
            "[CV] END max_depth=26, max_features=sqrt, min_samples_leaf=10, min_samples_split=100, n_estimators=754; total time=   1.0s\n",
            "[CV] END max_depth=26, max_features=sqrt, min_samples_leaf=10, min_samples_split=100, n_estimators=754; total time=   1.0s\n",
            "[CV] END max_depth=26, max_features=sqrt, min_samples_leaf=10, min_samples_split=100, n_estimators=754; total time=   1.3s\n",
            "[CV] END max_depth=26, max_features=sqrt, min_samples_leaf=10, min_samples_split=100, n_estimators=754; total time=   1.5s\n",
            "[CV] END max_depth=19, max_features=sqrt, min_samples_leaf=10, min_samples_split=100, n_estimators=209; total time=   0.3s\n",
            "[CV] END max_depth=19, max_features=sqrt, min_samples_leaf=10, min_samples_split=100, n_estimators=209; total time=   0.3s\n",
            "[CV] END max_depth=19, max_features=sqrt, min_samples_leaf=10, min_samples_split=100, n_estimators=209; total time=   0.3s\n",
            "[CV] END max_depth=19, max_features=sqrt, min_samples_leaf=10, min_samples_split=100, n_estimators=209; total time=   0.3s\n",
            "[CV] END max_depth=19, max_features=sqrt, min_samples_leaf=10, min_samples_split=100, n_estimators=209; total time=   0.3s\n",
            "[CV] END max_depth=26, max_features=auto, min_samples_leaf=5, min_samples_split=2, n_estimators=536; total time=   0.8s\n",
            "[CV] END max_depth=26, max_features=auto, min_samples_leaf=5, min_samples_split=2, n_estimators=536; total time=   0.8s\n",
            "[CV] END max_depth=26, max_features=auto, min_samples_leaf=5, min_samples_split=2, n_estimators=536; total time=   0.8s\n",
            "[CV] END max_depth=26, max_features=auto, min_samples_leaf=5, min_samples_split=2, n_estimators=536; total time=   1.0s\n",
            "[CV] END max_depth=26, max_features=auto, min_samples_leaf=5, min_samples_split=2, n_estimators=536; total time=   1.3s\n",
            "[CV] END max_depth=33, max_features=sqrt, min_samples_leaf=10, min_samples_split=10, n_estimators=972; total time=   1.6s\n",
            "[CV] END max_depth=33, max_features=sqrt, min_samples_leaf=10, min_samples_split=10, n_estimators=972; total time=   1.2s\n",
            "[CV] END max_depth=33, max_features=sqrt, min_samples_leaf=10, min_samples_split=10, n_estimators=972; total time=   1.2s\n",
            "[CV] END max_depth=33, max_features=sqrt, min_samples_leaf=10, min_samples_split=10, n_estimators=972; total time=   1.3s\n",
            "[CV] END max_depth=33, max_features=sqrt, min_samples_leaf=10, min_samples_split=10, n_estimators=972; total time=   1.2s\n",
            "[CV] END max_depth=40, max_features=auto, min_samples_leaf=5, min_samples_split=15, n_estimators=1300; total time=   2.0s\n",
            "[CV] END max_depth=40, max_features=auto, min_samples_leaf=5, min_samples_split=15, n_estimators=1300; total time=   1.9s\n",
            "[CV] END max_depth=40, max_features=auto, min_samples_leaf=5, min_samples_split=15, n_estimators=1300; total time=   2.8s\n",
            "[CV] END max_depth=40, max_features=auto, min_samples_leaf=5, min_samples_split=15, n_estimators=1300; total time=   2.2s\n",
            "[CV] END max_depth=40, max_features=auto, min_samples_leaf=5, min_samples_split=15, n_estimators=1300; total time=   1.9s\n",
            "[CV] END max_depth=33, max_features=auto, min_samples_leaf=1, min_samples_split=10, n_estimators=972; total time=   1.5s\n",
            "[CV] END max_depth=33, max_features=auto, min_samples_leaf=1, min_samples_split=10, n_estimators=972; total time=   1.5s\n",
            "[CV] END max_depth=33, max_features=auto, min_samples_leaf=1, min_samples_split=10, n_estimators=972; total time=   1.5s\n",
            "[CV] END max_depth=33, max_features=auto, min_samples_leaf=1, min_samples_split=10, n_estimators=972; total time=   1.5s\n",
            "[CV] END max_depth=33, max_features=auto, min_samples_leaf=1, min_samples_split=10, n_estimators=972; total time=   2.3s\n",
            "[CV] END max_depth=12, max_features=sqrt, min_samples_leaf=5, min_samples_split=5, n_estimators=645; total time=   1.1s\n",
            "[CV] END max_depth=12, max_features=sqrt, min_samples_leaf=5, min_samples_split=5, n_estimators=645; total time=   0.8s\n",
            "[CV] END max_depth=12, max_features=sqrt, min_samples_leaf=5, min_samples_split=5, n_estimators=645; total time=   0.8s\n",
            "[CV] END max_depth=12, max_features=sqrt, min_samples_leaf=5, min_samples_split=5, n_estimators=645; total time=   0.8s\n",
            "[CV] END max_depth=12, max_features=sqrt, min_samples_leaf=5, min_samples_split=5, n_estimators=645; total time=   0.9s\n",
            "[CV] END max_depth=33, max_features=sqrt, min_samples_leaf=5, min_samples_split=5, n_estimators=863; total time=   1.1s\n",
            "[CV] END max_depth=33, max_features=sqrt, min_samples_leaf=5, min_samples_split=5, n_estimators=863; total time=   1.1s\n",
            "[CV] END max_depth=33, max_features=sqrt, min_samples_leaf=5, min_samples_split=5, n_estimators=863; total time=   1.1s\n",
            "[CV] END max_depth=33, max_features=sqrt, min_samples_leaf=5, min_samples_split=5, n_estimators=863; total time=   1.1s\n",
            "[CV] END max_depth=33, max_features=sqrt, min_samples_leaf=5, min_samples_split=5, n_estimators=863; total time=   1.2s\n",
            "[CV] END max_depth=5, max_features=auto, min_samples_leaf=5, min_samples_split=2, n_estimators=536; total time=   0.9s\n",
            "[CV] END max_depth=5, max_features=auto, min_samples_leaf=5, min_samples_split=2, n_estimators=536; total time=   1.3s\n",
            "[CV] END max_depth=5, max_features=auto, min_samples_leaf=5, min_samples_split=2, n_estimators=536; total time=   1.2s\n",
            "[CV] END max_depth=5, max_features=auto, min_samples_leaf=5, min_samples_split=2, n_estimators=536; total time=   0.8s\n",
            "[CV] END max_depth=5, max_features=auto, min_samples_leaf=5, min_samples_split=2, n_estimators=536; total time=   0.8s\n",
            "[CV] END max_depth=33, max_features=sqrt, min_samples_leaf=2, min_samples_split=100, n_estimators=863; total time=   1.1s\n",
            "[CV] END max_depth=33, max_features=sqrt, min_samples_leaf=2, min_samples_split=100, n_estimators=863; total time=   1.0s\n",
            "[CV] END max_depth=33, max_features=sqrt, min_samples_leaf=2, min_samples_split=100, n_estimators=863; total time=   1.0s\n",
            "[CV] END max_depth=33, max_features=sqrt, min_samples_leaf=2, min_samples_split=100, n_estimators=863; total time=   1.0s\n",
            "[CV] END max_depth=33, max_features=sqrt, min_samples_leaf=2, min_samples_split=100, n_estimators=863; total time=   1.1s\n",
            "[CV] END max_depth=40, max_features=sqrt, min_samples_leaf=5, min_samples_split=2, n_estimators=1300; total time=   1.7s\n",
            "[CV] END max_depth=40, max_features=sqrt, min_samples_leaf=5, min_samples_split=2, n_estimators=1300; total time=   1.8s\n",
            "[CV] END max_depth=40, max_features=sqrt, min_samples_leaf=5, min_samples_split=2, n_estimators=1300; total time=   2.6s\n",
            "[CV] END max_depth=40, max_features=sqrt, min_samples_leaf=5, min_samples_split=2, n_estimators=1300; total time=   1.7s\n",
            "[CV] END max_depth=40, max_features=sqrt, min_samples_leaf=5, min_samples_split=2, n_estimators=1300; total time=   1.7s\n",
            "[CV] END max_depth=40, max_features=sqrt, min_samples_leaf=1, min_samples_split=10, n_estimators=645; total time=   0.9s\n",
            "[CV] END max_depth=40, max_features=sqrt, min_samples_leaf=1, min_samples_split=10, n_estimators=645; total time=   0.9s\n",
            "[CV] END max_depth=40, max_features=sqrt, min_samples_leaf=1, min_samples_split=10, n_estimators=645; total time=   0.9s\n",
            "[CV] END max_depth=40, max_features=sqrt, min_samples_leaf=1, min_samples_split=10, n_estimators=645; total time=   0.8s\n",
            "[CV] END max_depth=40, max_features=sqrt, min_samples_leaf=1, min_samples_split=10, n_estimators=645; total time=   0.8s\n",
            "[CV] END max_depth=26, max_features=auto, min_samples_leaf=1, min_samples_split=10, n_estimators=972; total time=   1.5s\n",
            "[CV] END max_depth=26, max_features=auto, min_samples_leaf=1, min_samples_split=10, n_estimators=972; total time=   2.1s\n",
            "[CV] END max_depth=26, max_features=auto, min_samples_leaf=1, min_samples_split=10, n_estimators=972; total time=   2.0s\n",
            "[CV] END max_depth=26, max_features=auto, min_samples_leaf=1, min_samples_split=10, n_estimators=972; total time=   1.5s\n",
            "[CV] END max_depth=26, max_features=auto, min_samples_leaf=1, min_samples_split=10, n_estimators=972; total time=   1.6s\n",
            "[CV] END max_depth=19, max_features=sqrt, min_samples_leaf=5, min_samples_split=2, n_estimators=209; total time=   0.3s\n",
            "[CV] END max_depth=19, max_features=sqrt, min_samples_leaf=5, min_samples_split=2, n_estimators=209; total time=   0.3s\n",
            "[CV] END max_depth=19, max_features=sqrt, min_samples_leaf=5, min_samples_split=2, n_estimators=209; total time=   0.3s\n",
            "[CV] END max_depth=19, max_features=sqrt, min_samples_leaf=5, min_samples_split=2, n_estimators=209; total time=   0.3s\n",
            "[CV] END max_depth=19, max_features=sqrt, min_samples_leaf=5, min_samples_split=2, n_estimators=209; total time=   0.3s\n",
            "[CV] END max_depth=33, max_features=sqrt, min_samples_leaf=10, min_samples_split=10, n_estimators=754; total time=   1.0s\n",
            "[CV] END max_depth=33, max_features=sqrt, min_samples_leaf=10, min_samples_split=10, n_estimators=754; total time=   0.9s\n",
            "[CV] END max_depth=33, max_features=sqrt, min_samples_leaf=10, min_samples_split=10, n_estimators=754; total time=   0.9s\n",
            "[CV] END max_depth=33, max_features=sqrt, min_samples_leaf=10, min_samples_split=10, n_estimators=754; total time=   0.9s\n",
            "[CV] END max_depth=33, max_features=sqrt, min_samples_leaf=10, min_samples_split=10, n_estimators=754; total time=   1.0s\n",
            "[CV] END max_depth=19, max_features=sqrt, min_samples_leaf=10, min_samples_split=10, n_estimators=209; total time=   0.4s\n",
            "[CV] END max_depth=19, max_features=sqrt, min_samples_leaf=10, min_samples_split=10, n_estimators=209; total time=   0.5s\n",
            "[CV] END max_depth=19, max_features=sqrt, min_samples_leaf=10, min_samples_split=10, n_estimators=209; total time=   0.5s\n",
            "[CV] END max_depth=19, max_features=sqrt, min_samples_leaf=10, min_samples_split=10, n_estimators=209; total time=   0.5s\n",
            "[CV] END max_depth=19, max_features=sqrt, min_samples_leaf=10, min_samples_split=10, n_estimators=209; total time=   0.4s\n",
            "[CV] END max_depth=33, max_features=auto, min_samples_leaf=2, min_samples_split=100, n_estimators=209; total time=   0.4s\n",
            "[CV] END max_depth=33, max_features=auto, min_samples_leaf=2, min_samples_split=100, n_estimators=209; total time=   0.3s\n",
            "[CV] END max_depth=33, max_features=auto, min_samples_leaf=2, min_samples_split=100, n_estimators=209; total time=   0.3s\n",
            "[CV] END max_depth=33, max_features=auto, min_samples_leaf=2, min_samples_split=100, n_estimators=209; total time=   0.3s\n",
            "[CV] END max_depth=33, max_features=auto, min_samples_leaf=2, min_samples_split=100, n_estimators=209; total time=   0.3s\n",
            "[CV] END max_depth=26, max_features=sqrt, min_samples_leaf=5, min_samples_split=2, n_estimators=427; total time=   0.6s\n",
            "[CV] END max_depth=26, max_features=sqrt, min_samples_leaf=5, min_samples_split=2, n_estimators=427; total time=   0.6s\n",
            "[CV] END max_depth=26, max_features=sqrt, min_samples_leaf=5, min_samples_split=2, n_estimators=427; total time=   0.6s\n",
            "[CV] END max_depth=26, max_features=sqrt, min_samples_leaf=5, min_samples_split=2, n_estimators=427; total time=   0.6s\n",
            "[CV] END max_depth=26, max_features=sqrt, min_samples_leaf=5, min_samples_split=2, n_estimators=427; total time=   0.6s\n",
            "[CV] END max_depth=5, max_features=sqrt, min_samples_leaf=1, min_samples_split=100, n_estimators=972; total time=   1.2s\n",
            "[CV] END max_depth=5, max_features=sqrt, min_samples_leaf=1, min_samples_split=100, n_estimators=972; total time=   1.2s\n",
            "[CV] END max_depth=5, max_features=sqrt, min_samples_leaf=1, min_samples_split=100, n_estimators=972; total time=   1.1s\n",
            "[CV] END max_depth=5, max_features=sqrt, min_samples_leaf=1, min_samples_split=100, n_estimators=972; total time=   1.2s\n",
            "[CV] END max_depth=5, max_features=sqrt, min_samples_leaf=1, min_samples_split=100, n_estimators=972; total time=   1.2s\n",
            "[CV] END max_depth=40, max_features=sqrt, min_samples_leaf=1, min_samples_split=100, n_estimators=972; total time=   1.8s\n",
            "[CV] END max_depth=40, max_features=sqrt, min_samples_leaf=1, min_samples_split=100, n_estimators=972; total time=   1.7s\n",
            "[CV] END max_depth=40, max_features=sqrt, min_samples_leaf=1, min_samples_split=100, n_estimators=972; total time=   1.2s\n",
            "[CV] END max_depth=40, max_features=sqrt, min_samples_leaf=1, min_samples_split=100, n_estimators=972; total time=   1.2s\n",
            "[CV] END max_depth=40, max_features=sqrt, min_samples_leaf=1, min_samples_split=100, n_estimators=972; total time=   1.1s\n",
            "[CV] END max_depth=19, max_features=sqrt, min_samples_leaf=1, min_samples_split=5, n_estimators=209; total time=   0.3s\n",
            "[CV] END max_depth=19, max_features=sqrt, min_samples_leaf=1, min_samples_split=5, n_estimators=209; total time=   0.3s\n",
            "[CV] END max_depth=19, max_features=sqrt, min_samples_leaf=1, min_samples_split=5, n_estimators=209; total time=   0.3s\n",
            "[CV] END max_depth=19, max_features=sqrt, min_samples_leaf=1, min_samples_split=5, n_estimators=209; total time=   0.3s\n",
            "[CV] END max_depth=19, max_features=sqrt, min_samples_leaf=1, min_samples_split=5, n_estimators=209; total time=   0.3s\n",
            "[CV] END max_depth=26, max_features=sqrt, min_samples_leaf=5, min_samples_split=100, n_estimators=318; total time=   0.4s\n",
            "[CV] END max_depth=26, max_features=sqrt, min_samples_leaf=5, min_samples_split=100, n_estimators=318; total time=   0.4s\n",
            "[CV] END max_depth=26, max_features=sqrt, min_samples_leaf=5, min_samples_split=100, n_estimators=318; total time=   0.4s\n",
            "[CV] END max_depth=26, max_features=sqrt, min_samples_leaf=5, min_samples_split=100, n_estimators=318; total time=   0.4s\n",
            "[CV] END max_depth=26, max_features=sqrt, min_samples_leaf=5, min_samples_split=100, n_estimators=318; total time=   0.4s\n",
            "[CV] END max_depth=40, max_features=sqrt, min_samples_leaf=1, min_samples_split=10, n_estimators=427; total time=   0.6s\n",
            "[CV] END max_depth=40, max_features=sqrt, min_samples_leaf=1, min_samples_split=10, n_estimators=427; total time=   0.6s\n",
            "[CV] END max_depth=40, max_features=sqrt, min_samples_leaf=1, min_samples_split=10, n_estimators=427; total time=   0.6s\n",
            "[CV] END max_depth=40, max_features=sqrt, min_samples_leaf=1, min_samples_split=10, n_estimators=427; total time=   0.6s\n",
            "[CV] END max_depth=40, max_features=sqrt, min_samples_leaf=1, min_samples_split=10, n_estimators=427; total time=   0.9s\n",
            "[CV] END max_depth=26, max_features=auto, min_samples_leaf=5, min_samples_split=10, n_estimators=318; total time=   0.8s\n",
            "[CV] END max_depth=26, max_features=auto, min_samples_leaf=5, min_samples_split=10, n_estimators=318; total time=   0.8s\n",
            "[CV] END max_depth=26, max_features=auto, min_samples_leaf=5, min_samples_split=10, n_estimators=318; total time=   0.6s\n",
            "[CV] END max_depth=26, max_features=auto, min_samples_leaf=5, min_samples_split=10, n_estimators=318; total time=   0.5s\n",
            "[CV] END max_depth=26, max_features=auto, min_samples_leaf=5, min_samples_split=10, n_estimators=318; total time=   0.5s\n",
            "[CV] END max_depth=40, max_features=sqrt, min_samples_leaf=2, min_samples_split=5, n_estimators=209; total time=   0.3s\n",
            "[CV] END max_depth=40, max_features=sqrt, min_samples_leaf=2, min_samples_split=5, n_estimators=209; total time=   0.3s\n",
            "[CV] END max_depth=40, max_features=sqrt, min_samples_leaf=2, min_samples_split=5, n_estimators=209; total time=   0.3s\n",
            "[CV] END max_depth=40, max_features=sqrt, min_samples_leaf=2, min_samples_split=5, n_estimators=209; total time=   0.3s\n",
            "[CV] END max_depth=40, max_features=sqrt, min_samples_leaf=2, min_samples_split=5, n_estimators=209; total time=   0.3s\n",
            "[CV] END max_depth=40, max_features=sqrt, min_samples_leaf=5, min_samples_split=10, n_estimators=427; total time=   0.6s\n",
            "[CV] END max_depth=40, max_features=sqrt, min_samples_leaf=5, min_samples_split=10, n_estimators=427; total time=   0.6s\n",
            "[CV] END max_depth=40, max_features=sqrt, min_samples_leaf=5, min_samples_split=10, n_estimators=427; total time=   0.6s\n",
            "[CV] END max_depth=40, max_features=sqrt, min_samples_leaf=5, min_samples_split=10, n_estimators=427; total time=   0.6s\n",
            "[CV] END max_depth=40, max_features=sqrt, min_samples_leaf=5, min_samples_split=10, n_estimators=427; total time=   0.5s\n",
            "[CV] END max_depth=12, max_features=sqrt, min_samples_leaf=10, min_samples_split=2, n_estimators=1300; total time=   1.7s\n",
            "[CV] END max_depth=12, max_features=sqrt, min_samples_leaf=10, min_samples_split=2, n_estimators=1300; total time=   1.7s\n",
            "[CV] END max_depth=12, max_features=sqrt, min_samples_leaf=10, min_samples_split=2, n_estimators=1300; total time=   2.0s\n",
            "[CV] END max_depth=12, max_features=sqrt, min_samples_leaf=10, min_samples_split=2, n_estimators=1300; total time=   2.4s\n",
            "[CV] END max_depth=12, max_features=sqrt, min_samples_leaf=10, min_samples_split=2, n_estimators=1300; total time=   1.6s\n",
            "[CV] END max_depth=12, max_features=auto, min_samples_leaf=2, min_samples_split=10, n_estimators=100; total time=   0.2s\n",
            "[CV] END max_depth=12, max_features=auto, min_samples_leaf=2, min_samples_split=10, n_estimators=100; total time=   0.2s\n",
            "[CV] END max_depth=12, max_features=auto, min_samples_leaf=2, min_samples_split=10, n_estimators=100; total time=   0.2s\n",
            "[CV] END max_depth=12, max_features=auto, min_samples_leaf=2, min_samples_split=10, n_estimators=100; total time=   0.2s\n",
            "[CV] END max_depth=12, max_features=auto, min_samples_leaf=2, min_samples_split=10, n_estimators=100; total time=   0.2s\n",
            "[CV] END max_depth=40, max_features=auto, min_samples_leaf=2, min_samples_split=2, n_estimators=209; total time=   0.4s\n",
            "[CV] END max_depth=40, max_features=auto, min_samples_leaf=2, min_samples_split=2, n_estimators=209; total time=   0.4s\n",
            "[CV] END max_depth=40, max_features=auto, min_samples_leaf=2, min_samples_split=2, n_estimators=209; total time=   0.3s\n",
            "[CV] END max_depth=40, max_features=auto, min_samples_leaf=2, min_samples_split=2, n_estimators=209; total time=   0.4s\n",
            "[CV] END max_depth=40, max_features=auto, min_samples_leaf=2, min_samples_split=2, n_estimators=209; total time=   0.3s\n",
            "[CV] END max_depth=19, max_features=sqrt, min_samples_leaf=10, min_samples_split=5, n_estimators=427; total time=   0.5s\n",
            "[CV] END max_depth=19, max_features=sqrt, min_samples_leaf=10, min_samples_split=5, n_estimators=427; total time=   0.6s\n",
            "[CV] END max_depth=19, max_features=sqrt, min_samples_leaf=10, min_samples_split=5, n_estimators=427; total time=   0.5s\n",
            "[CV] END max_depth=19, max_features=sqrt, min_samples_leaf=10, min_samples_split=5, n_estimators=427; total time=   0.6s\n",
            "[CV] END max_depth=19, max_features=sqrt, min_samples_leaf=10, min_samples_split=5, n_estimators=427; total time=   0.5s\n",
            "[CV] END max_depth=19, max_features=auto, min_samples_leaf=1, min_samples_split=15, n_estimators=1081; total time=   1.6s\n",
            "[CV] END max_depth=19, max_features=auto, min_samples_leaf=1, min_samples_split=15, n_estimators=1081; total time=   2.2s\n",
            "[CV] END max_depth=19, max_features=auto, min_samples_leaf=1, min_samples_split=15, n_estimators=1081; total time=   2.2s\n",
            "[CV] END max_depth=19, max_features=auto, min_samples_leaf=1, min_samples_split=15, n_estimators=1081; total time=   1.6s\n",
            "[CV] END max_depth=19, max_features=auto, min_samples_leaf=1, min_samples_split=15, n_estimators=1081; total time=   1.7s\n",
            "[CV] END max_depth=5, max_features=sqrt, min_samples_leaf=10, min_samples_split=100, n_estimators=1190; total time=   1.4s\n",
            "[CV] END max_depth=5, max_features=sqrt, min_samples_leaf=10, min_samples_split=100, n_estimators=1190; total time=   1.4s\n",
            "[CV] END max_depth=5, max_features=sqrt, min_samples_leaf=10, min_samples_split=100, n_estimators=1190; total time=   1.4s\n",
            "[CV] END max_depth=5, max_features=sqrt, min_samples_leaf=10, min_samples_split=100, n_estimators=1190; total time=   1.5s\n",
            "[CV] END max_depth=5, max_features=sqrt, min_samples_leaf=10, min_samples_split=100, n_estimators=1190; total time=   2.3s\n",
            "[CV] END max_depth=40, max_features=auto, min_samples_leaf=5, min_samples_split=100, n_estimators=972; total time=   1.5s\n",
            "[CV] END max_depth=40, max_features=auto, min_samples_leaf=5, min_samples_split=100, n_estimators=972; total time=   1.2s\n",
            "[CV] END max_depth=40, max_features=auto, min_samples_leaf=5, min_samples_split=100, n_estimators=972; total time=   1.2s\n",
            "[CV] END max_depth=40, max_features=auto, min_samples_leaf=5, min_samples_split=100, n_estimators=972; total time=   1.2s\n",
            "[CV] END max_depth=40, max_features=auto, min_samples_leaf=5, min_samples_split=100, n_estimators=972; total time=   1.2s\n",
            "[CV] END max_depth=19, max_features=sqrt, min_samples_leaf=5, min_samples_split=100, n_estimators=318; total time=   0.4s\n",
            "[CV] END max_depth=19, max_features=sqrt, min_samples_leaf=5, min_samples_split=100, n_estimators=318; total time=   0.4s\n",
            "[CV] END max_depth=19, max_features=sqrt, min_samples_leaf=5, min_samples_split=100, n_estimators=318; total time=   0.4s\n",
            "[CV] END max_depth=19, max_features=sqrt, min_samples_leaf=5, min_samples_split=100, n_estimators=318; total time=   0.4s\n",
            "[CV] END max_depth=19, max_features=sqrt, min_samples_leaf=5, min_samples_split=100, n_estimators=318; total time=   0.4s\n",
            "[CV] END max_depth=12, max_features=sqrt, min_samples_leaf=1, min_samples_split=15, n_estimators=1300; total time=   1.7s\n",
            "[CV] END max_depth=12, max_features=sqrt, min_samples_leaf=1, min_samples_split=15, n_estimators=1300; total time=   2.4s\n",
            "[CV] END max_depth=12, max_features=sqrt, min_samples_leaf=1, min_samples_split=15, n_estimators=1300; total time=   2.1s\n",
            "[CV] END max_depth=12, max_features=sqrt, min_samples_leaf=1, min_samples_split=15, n_estimators=1300; total time=   1.7s\n",
            "[CV] END max_depth=12, max_features=sqrt, min_samples_leaf=1, min_samples_split=15, n_estimators=1300; total time=   1.7s\n",
            "[CV] END max_depth=12, max_features=sqrt, min_samples_leaf=1, min_samples_split=5, n_estimators=1081; total time=   1.5s\n",
            "[CV] END max_depth=12, max_features=sqrt, min_samples_leaf=1, min_samples_split=5, n_estimators=1081; total time=   1.5s\n",
            "[CV] END max_depth=12, max_features=sqrt, min_samples_leaf=1, min_samples_split=5, n_estimators=1081; total time=   1.5s\n",
            "[CV] END max_depth=12, max_features=sqrt, min_samples_leaf=1, min_samples_split=5, n_estimators=1081; total time=   1.8s\n",
            "[CV] END max_depth=12, max_features=sqrt, min_samples_leaf=1, min_samples_split=5, n_estimators=1081; total time=   2.2s\n",
            "[CV] END max_depth=5, max_features=auto, min_samples_leaf=5, min_samples_split=15, n_estimators=754; total time=   1.1s\n",
            "[CV] END max_depth=5, max_features=auto, min_samples_leaf=5, min_samples_split=15, n_estimators=754; total time=   1.1s\n",
            "[CV] END max_depth=5, max_features=auto, min_samples_leaf=5, min_samples_split=15, n_estimators=754; total time=   1.1s\n",
            "[CV] END max_depth=5, max_features=auto, min_samples_leaf=5, min_samples_split=15, n_estimators=754; total time=   1.1s\n",
            "[CV] END max_depth=5, max_features=auto, min_samples_leaf=5, min_samples_split=15, n_estimators=754; total time=   1.1s\n",
            "[CV] END max_depth=33, max_features=sqrt, min_samples_leaf=2, min_samples_split=2, n_estimators=209; total time=   0.3s\n",
            "[CV] END max_depth=33, max_features=sqrt, min_samples_leaf=2, min_samples_split=2, n_estimators=209; total time=   0.3s\n",
            "[CV] END max_depth=33, max_features=sqrt, min_samples_leaf=2, min_samples_split=2, n_estimators=209; total time=   0.3s\n",
            "[CV] END max_depth=33, max_features=sqrt, min_samples_leaf=2, min_samples_split=2, n_estimators=209; total time=   0.3s\n",
            "[CV] END max_depth=33, max_features=sqrt, min_samples_leaf=2, min_samples_split=2, n_estimators=209; total time=   0.3s\n",
            "[CV] END max_depth=40, max_features=auto, min_samples_leaf=1, min_samples_split=5, n_estimators=754; total time=   1.2s\n",
            "[CV] END max_depth=40, max_features=auto, min_samples_leaf=1, min_samples_split=5, n_estimators=754; total time=   1.3s\n",
            "[CV] END max_depth=40, max_features=auto, min_samples_leaf=1, min_samples_split=5, n_estimators=754; total time=   2.0s\n",
            "[CV] END max_depth=40, max_features=auto, min_samples_leaf=1, min_samples_split=5, n_estimators=754; total time=   1.6s\n",
            "[CV] END max_depth=40, max_features=auto, min_samples_leaf=1, min_samples_split=5, n_estimators=754; total time=   1.3s\n",
            "[CV] END max_depth=26, max_features=sqrt, min_samples_leaf=10, min_samples_split=100, n_estimators=536; total time=   0.7s\n",
            "[CV] END max_depth=26, max_features=sqrt, min_samples_leaf=10, min_samples_split=100, n_estimators=536; total time=   0.7s\n",
            "[CV] END max_depth=26, max_features=sqrt, min_samples_leaf=10, min_samples_split=100, n_estimators=536; total time=   0.7s\n",
            "[CV] END max_depth=26, max_features=sqrt, min_samples_leaf=10, min_samples_split=100, n_estimators=536; total time=   0.7s\n",
            "[CV] END max_depth=26, max_features=sqrt, min_samples_leaf=10, min_samples_split=100, n_estimators=536; total time=   0.6s\n",
            "[CV] END max_depth=40, max_features=sqrt, min_samples_leaf=10, min_samples_split=2, n_estimators=645; total time=   0.9s\n",
            "[CV] END max_depth=40, max_features=sqrt, min_samples_leaf=10, min_samples_split=2, n_estimators=645; total time=   0.8s\n",
            "[CV] END max_depth=40, max_features=sqrt, min_samples_leaf=10, min_samples_split=2, n_estimators=645; total time=   0.8s\n",
            "[CV] END max_depth=40, max_features=sqrt, min_samples_leaf=10, min_samples_split=2, n_estimators=645; total time=   0.8s\n",
            "[CV] END max_depth=40, max_features=sqrt, min_samples_leaf=10, min_samples_split=2, n_estimators=645; total time=   0.8s\n",
            "[CV] END max_depth=12, max_features=sqrt, min_samples_leaf=2, min_samples_split=2, n_estimators=1081; total time=   2.1s\n",
            "[CV] END max_depth=12, max_features=sqrt, min_samples_leaf=2, min_samples_split=2, n_estimators=1081; total time=   1.9s\n",
            "[CV] END max_depth=12, max_features=sqrt, min_samples_leaf=2, min_samples_split=2, n_estimators=1081; total time=   1.4s\n",
            "[CV] END max_depth=12, max_features=sqrt, min_samples_leaf=2, min_samples_split=2, n_estimators=1081; total time=   1.4s\n",
            "[CV] END max_depth=12, max_features=sqrt, min_samples_leaf=2, min_samples_split=2, n_estimators=1081; total time=   1.5s\n",
            "[CV] END max_depth=5, max_features=auto, min_samples_leaf=10, min_samples_split=5, n_estimators=536; total time=   0.8s\n",
            "[CV] END max_depth=5, max_features=auto, min_samples_leaf=10, min_samples_split=5, n_estimators=536; total time=   0.8s\n",
            "[CV] END max_depth=5, max_features=auto, min_samples_leaf=10, min_samples_split=5, n_estimators=536; total time=   0.8s\n",
            "[CV] END max_depth=5, max_features=auto, min_samples_leaf=10, min_samples_split=5, n_estimators=536; total time=   0.8s\n",
            "[CV] END max_depth=5, max_features=auto, min_samples_leaf=10, min_samples_split=5, n_estimators=536; total time=   0.8s\n",
            "[CV] END max_depth=33, max_features=auto, min_samples_leaf=10, min_samples_split=10, n_estimators=754; total time=   1.2s\n",
            "[CV] END max_depth=33, max_features=auto, min_samples_leaf=10, min_samples_split=10, n_estimators=754; total time=   1.8s\n",
            "[CV] END max_depth=33, max_features=auto, min_samples_leaf=10, min_samples_split=10, n_estimators=754; total time=   1.4s\n",
            "[CV] END max_depth=33, max_features=auto, min_samples_leaf=10, min_samples_split=10, n_estimators=754; total time=   1.1s\n",
            "[CV] END max_depth=33, max_features=auto, min_samples_leaf=10, min_samples_split=10, n_estimators=754; total time=   1.1s\n",
            "[CV] END max_depth=40, max_features=sqrt, min_samples_leaf=10, min_samples_split=15, n_estimators=1081; total time=   1.4s\n",
            "[CV] END max_depth=40, max_features=sqrt, min_samples_leaf=10, min_samples_split=15, n_estimators=1081; total time=   1.4s\n",
            "[CV] END max_depth=40, max_features=sqrt, min_samples_leaf=10, min_samples_split=15, n_estimators=1081; total time=   1.4s\n",
            "[CV] END max_depth=40, max_features=sqrt, min_samples_leaf=10, min_samples_split=15, n_estimators=1081; total time=   1.3s\n",
            "[CV] END max_depth=40, max_features=sqrt, min_samples_leaf=10, min_samples_split=15, n_estimators=1081; total time=   1.4s\n",
            "[CV] END max_depth=26, max_features=sqrt, min_samples_leaf=1, min_samples_split=5, n_estimators=645; total time=   1.2s\n",
            "[CV] END max_depth=26, max_features=sqrt, min_samples_leaf=1, min_samples_split=5, n_estimators=645; total time=   1.4s\n",
            "[CV] END max_depth=26, max_features=sqrt, min_samples_leaf=1, min_samples_split=5, n_estimators=645; total time=   1.1s\n",
            "[CV] END max_depth=26, max_features=sqrt, min_samples_leaf=1, min_samples_split=5, n_estimators=645; total time=   0.9s\n",
            "[CV] END max_depth=26, max_features=sqrt, min_samples_leaf=1, min_samples_split=5, n_estimators=645; total time=   0.9s\n",
            "[CV] END max_depth=5, max_features=sqrt, min_samples_leaf=2, min_samples_split=2, n_estimators=1081; total time=   1.4s\n",
            "[CV] END max_depth=5, max_features=sqrt, min_samples_leaf=2, min_samples_split=2, n_estimators=1081; total time=   1.4s\n",
            "[CV] END max_depth=5, max_features=sqrt, min_samples_leaf=2, min_samples_split=2, n_estimators=1081; total time=   1.4s\n",
            "[CV] END max_depth=5, max_features=sqrt, min_samples_leaf=2, min_samples_split=2, n_estimators=1081; total time=   1.4s\n",
            "[CV] END max_depth=5, max_features=sqrt, min_samples_leaf=2, min_samples_split=2, n_estimators=1081; total time=   1.4s\n",
            "[CV] END max_depth=33, max_features=auto, min_samples_leaf=5, min_samples_split=15, n_estimators=972; total time=   2.1s\n",
            "[CV] END max_depth=33, max_features=auto, min_samples_leaf=5, min_samples_split=15, n_estimators=972; total time=   2.0s\n",
            "[CV] END max_depth=33, max_features=auto, min_samples_leaf=5, min_samples_split=15, n_estimators=972; total time=   1.5s\n",
            "[CV] END max_depth=33, max_features=auto, min_samples_leaf=5, min_samples_split=15, n_estimators=972; total time=   1.5s\n",
            "[CV] END max_depth=33, max_features=auto, min_samples_leaf=5, min_samples_split=15, n_estimators=972; total time=   1.5s\n",
            "[CV] END max_depth=26, max_features=sqrt, min_samples_leaf=1, min_samples_split=15, n_estimators=1190; total time=   1.6s\n",
            "[CV] END max_depth=26, max_features=sqrt, min_samples_leaf=1, min_samples_split=15, n_estimators=1190; total time=   1.6s\n",
            "[CV] END max_depth=26, max_features=sqrt, min_samples_leaf=1, min_samples_split=15, n_estimators=1190; total time=   1.6s\n",
            "[CV] END max_depth=26, max_features=sqrt, min_samples_leaf=1, min_samples_split=15, n_estimators=1190; total time=   2.6s\n",
            "[CV] END max_depth=26, max_features=sqrt, min_samples_leaf=1, min_samples_split=15, n_estimators=1190; total time=   1.6s\n",
            "[CV] END max_depth=12, max_features=sqrt, min_samples_leaf=1, min_samples_split=10, n_estimators=1300; total time=   1.7s\n",
            "[CV] END max_depth=12, max_features=sqrt, min_samples_leaf=1, min_samples_split=10, n_estimators=1300; total time=   1.7s\n",
            "[CV] END max_depth=12, max_features=sqrt, min_samples_leaf=1, min_samples_split=10, n_estimators=1300; total time=   1.7s\n",
            "[CV] END max_depth=12, max_features=sqrt, min_samples_leaf=1, min_samples_split=10, n_estimators=1300; total time=   1.7s\n",
            "[CV] END max_depth=12, max_features=sqrt, min_samples_leaf=1, min_samples_split=10, n_estimators=1300; total time=   1.9s\n",
            "[CV] END max_depth=5, max_features=sqrt, min_samples_leaf=10, min_samples_split=5, n_estimators=536; total time=   1.4s\n",
            "[CV] END max_depth=5, max_features=sqrt, min_samples_leaf=10, min_samples_split=5, n_estimators=536; total time=   1.5s\n",
            "[CV] END max_depth=5, max_features=sqrt, min_samples_leaf=10, min_samples_split=5, n_estimators=536; total time=   1.4s\n",
            "[CV] END max_depth=5, max_features=sqrt, min_samples_leaf=10, min_samples_split=5, n_estimators=536; total time=   0.8s\n",
            "[CV] END max_depth=5, max_features=sqrt, min_samples_leaf=10, min_samples_split=5, n_estimators=536; total time=   0.7s\n",
            "[CV] END max_depth=40, max_features=sqrt, min_samples_leaf=5, min_samples_split=5, n_estimators=972; total time=   1.3s\n",
            "[CV] END max_depth=40, max_features=sqrt, min_samples_leaf=5, min_samples_split=5, n_estimators=972; total time=   1.2s\n",
            "[CV] END max_depth=40, max_features=sqrt, min_samples_leaf=5, min_samples_split=5, n_estimators=972; total time=   1.2s\n",
            "[CV] END max_depth=40, max_features=sqrt, min_samples_leaf=5, min_samples_split=5, n_estimators=972; total time=   1.3s\n",
            "[CV] END max_depth=40, max_features=sqrt, min_samples_leaf=5, min_samples_split=5, n_estimators=972; total time=   1.3s\n",
            "[CV] END max_depth=19, max_features=auto, min_samples_leaf=1, min_samples_split=15, n_estimators=318; total time=   0.5s\n",
            "[CV] END max_depth=19, max_features=auto, min_samples_leaf=1, min_samples_split=15, n_estimators=318; total time=   0.5s\n",
            "[CV] END max_depth=19, max_features=auto, min_samples_leaf=1, min_samples_split=15, n_estimators=318; total time=   0.5s\n",
            "[CV] END max_depth=19, max_features=auto, min_samples_leaf=1, min_samples_split=15, n_estimators=318; total time=   0.6s\n",
            "[CV] END max_depth=19, max_features=auto, min_samples_leaf=1, min_samples_split=15, n_estimators=318; total time=   0.8s\n",
            "[CV] END max_depth=26, max_features=auto, min_samples_leaf=1, min_samples_split=10, n_estimators=1300; total time=   2.8s\n",
            "[CV] END max_depth=26, max_features=auto, min_samples_leaf=1, min_samples_split=10, n_estimators=1300; total time=   2.0s\n",
            "[CV] END max_depth=26, max_features=auto, min_samples_leaf=1, min_samples_split=10, n_estimators=1300; total time=   2.1s\n",
            "[CV] END max_depth=26, max_features=auto, min_samples_leaf=1, min_samples_split=10, n_estimators=1300; total time=   2.1s\n",
            "[CV] END max_depth=26, max_features=auto, min_samples_leaf=1, min_samples_split=10, n_estimators=1300; total time=   2.0s\n",
            "[CV] END max_depth=5, max_features=sqrt, min_samples_leaf=10, min_samples_split=5, n_estimators=209; total time=   0.3s\n",
            "[CV] END max_depth=5, max_features=sqrt, min_samples_leaf=10, min_samples_split=5, n_estimators=209; total time=   0.3s\n",
            "[CV] END max_depth=5, max_features=sqrt, min_samples_leaf=10, min_samples_split=5, n_estimators=209; total time=   0.4s\n",
            "[CV] END max_depth=5, max_features=sqrt, min_samples_leaf=10, min_samples_split=5, n_estimators=209; total time=   0.4s\n",
            "[CV] END max_depth=5, max_features=sqrt, min_samples_leaf=10, min_samples_split=5, n_estimators=209; total time=   0.5s\n",
            "[CV] END max_depth=40, max_features=sqrt, min_samples_leaf=10, min_samples_split=100, n_estimators=972; total time=   1.8s\n",
            "[CV] END max_depth=40, max_features=sqrt, min_samples_leaf=10, min_samples_split=100, n_estimators=972; total time=   1.2s\n",
            "[CV] END max_depth=40, max_features=sqrt, min_samples_leaf=10, min_samples_split=100, n_estimators=972; total time=   1.2s\n",
            "[CV] END max_depth=40, max_features=sqrt, min_samples_leaf=10, min_samples_split=100, n_estimators=972; total time=   1.2s\n",
            "[CV] END max_depth=40, max_features=sqrt, min_samples_leaf=10, min_samples_split=100, n_estimators=972; total time=   1.2s\n",
            "[CV] END max_depth=40, max_features=sqrt, min_samples_leaf=2, min_samples_split=100, n_estimators=209; total time=   0.3s\n",
            "[CV] END max_depth=40, max_features=sqrt, min_samples_leaf=2, min_samples_split=100, n_estimators=209; total time=   0.3s\n",
            "[CV] END max_depth=40, max_features=sqrt, min_samples_leaf=2, min_samples_split=100, n_estimators=209; total time=   0.3s\n",
            "[CV] END max_depth=40, max_features=sqrt, min_samples_leaf=2, min_samples_split=100, n_estimators=209; total time=   0.3s\n",
            "[CV] END max_depth=40, max_features=sqrt, min_samples_leaf=2, min_samples_split=100, n_estimators=209; total time=   0.3s\n",
            "[CV] END max_depth=5, max_features=auto, min_samples_leaf=5, min_samples_split=100, n_estimators=1190; total time=   1.6s\n",
            "[CV] END max_depth=5, max_features=auto, min_samples_leaf=5, min_samples_split=100, n_estimators=1190; total time=   1.5s\n",
            "[CV] END max_depth=5, max_features=auto, min_samples_leaf=5, min_samples_split=100, n_estimators=1190; total time=   2.1s\n",
            "[CV] END max_depth=5, max_features=auto, min_samples_leaf=5, min_samples_split=100, n_estimators=1190; total time=   2.0s\n",
            "[CV] END max_depth=5, max_features=auto, min_samples_leaf=5, min_samples_split=100, n_estimators=1190; total time=   1.6s\n",
            "[CV] END max_depth=12, max_features=sqrt, min_samples_leaf=1, min_samples_split=2, n_estimators=863; total time=   1.2s\n",
            "[CV] END max_depth=12, max_features=sqrt, min_samples_leaf=1, min_samples_split=2, n_estimators=863; total time=   1.2s\n",
            "[CV] END max_depth=12, max_features=sqrt, min_samples_leaf=1, min_samples_split=2, n_estimators=863; total time=   1.2s\n",
            "[CV] END max_depth=12, max_features=sqrt, min_samples_leaf=1, min_samples_split=2, n_estimators=863; total time=   1.2s\n",
            "[CV] END max_depth=12, max_features=sqrt, min_samples_leaf=1, min_samples_split=2, n_estimators=863; total time=   1.2s\n",
            "[CV] END max_depth=33, max_features=sqrt, min_samples_leaf=5, min_samples_split=2, n_estimators=754; total time=   1.0s\n",
            "[CV] END max_depth=33, max_features=sqrt, min_samples_leaf=5, min_samples_split=2, n_estimators=754; total time=   1.4s\n",
            "[CV] END max_depth=33, max_features=sqrt, min_samples_leaf=5, min_samples_split=2, n_estimators=754; total time=   1.6s\n",
            "[CV] END max_depth=33, max_features=sqrt, min_samples_leaf=5, min_samples_split=2, n_estimators=754; total time=   1.0s\n",
            "[CV] END max_depth=33, max_features=sqrt, min_samples_leaf=5, min_samples_split=2, n_estimators=754; total time=   1.0s\n",
            "[CV] END max_depth=5, max_features=sqrt, min_samples_leaf=2, min_samples_split=10, n_estimators=100; total time=   0.1s\n",
            "[CV] END max_depth=5, max_features=sqrt, min_samples_leaf=2, min_samples_split=10, n_estimators=100; total time=   0.1s\n",
            "[CV] END max_depth=5, max_features=sqrt, min_samples_leaf=2, min_samples_split=10, n_estimators=100; total time=   0.1s\n",
            "[CV] END max_depth=5, max_features=sqrt, min_samples_leaf=2, min_samples_split=10, n_estimators=100; total time=   0.1s\n",
            "[CV] END max_depth=5, max_features=sqrt, min_samples_leaf=2, min_samples_split=10, n_estimators=100; total time=   0.1s\n",
            "[CV] END max_depth=12, max_features=sqrt, min_samples_leaf=1, min_samples_split=15, n_estimators=1081; total time=   1.4s\n",
            "[CV] END max_depth=12, max_features=sqrt, min_samples_leaf=1, min_samples_split=15, n_estimators=1081; total time=   1.4s\n",
            "[CV] END max_depth=12, max_features=sqrt, min_samples_leaf=1, min_samples_split=15, n_estimators=1081; total time=   1.4s\n",
            "[CV] END max_depth=12, max_features=sqrt, min_samples_leaf=1, min_samples_split=15, n_estimators=1081; total time=   1.4s\n",
            "[CV] END max_depth=12, max_features=sqrt, min_samples_leaf=1, min_samples_split=15, n_estimators=1081; total time=   1.5s\n",
            "[CV] END max_depth=26, max_features=auto, min_samples_leaf=1, min_samples_split=10, n_estimators=536; total time=   1.2s\n",
            "[CV] END max_depth=26, max_features=auto, min_samples_leaf=1, min_samples_split=10, n_estimators=536; total time=   1.4s\n",
            "[CV] END max_depth=26, max_features=auto, min_samples_leaf=1, min_samples_split=10, n_estimators=536; total time=   1.0s\n",
            "[CV] END max_depth=26, max_features=auto, min_samples_leaf=1, min_samples_split=10, n_estimators=536; total time=   0.8s\n",
            "[CV] END max_depth=26, max_features=auto, min_samples_leaf=1, min_samples_split=10, n_estimators=536; total time=   0.9s\n",
            "[CV] END max_depth=26, max_features=sqrt, min_samples_leaf=1, min_samples_split=15, n_estimators=209; total time=   0.3s\n",
            "[CV] END max_depth=26, max_features=sqrt, min_samples_leaf=1, min_samples_split=15, n_estimators=209; total time=   0.3s\n",
            "[CV] END max_depth=26, max_features=sqrt, min_samples_leaf=1, min_samples_split=15, n_estimators=209; total time=   0.3s\n",
            "[CV] END max_depth=26, max_features=sqrt, min_samples_leaf=1, min_samples_split=15, n_estimators=209; total time=   0.3s\n",
            "[CV] END max_depth=26, max_features=sqrt, min_samples_leaf=1, min_samples_split=15, n_estimators=209; total time=   0.3s\n",
            "[CV] END max_depth=12, max_features=auto, min_samples_leaf=10, min_samples_split=10, n_estimators=1300; total time=   1.8s\n",
            "[CV] END max_depth=12, max_features=auto, min_samples_leaf=10, min_samples_split=10, n_estimators=1300; total time=   1.8s\n",
            "[CV] END max_depth=12, max_features=auto, min_samples_leaf=10, min_samples_split=10, n_estimators=1300; total time=   1.9s\n",
            "[CV] END max_depth=12, max_features=auto, min_samples_leaf=10, min_samples_split=10, n_estimators=1300; total time=   2.5s\n",
            "[CV] END max_depth=12, max_features=auto, min_samples_leaf=10, min_samples_split=10, n_estimators=1300; total time=   2.3s\n",
            "[CV] END max_depth=40, max_features=auto, min_samples_leaf=1, min_samples_split=5, n_estimators=536; total time=   0.9s\n",
            "[CV] END max_depth=40, max_features=auto, min_samples_leaf=1, min_samples_split=5, n_estimators=536; total time=   0.9s\n",
            "[CV] END max_depth=40, max_features=auto, min_samples_leaf=1, min_samples_split=5, n_estimators=536; total time=   0.9s\n",
            "[CV] END max_depth=40, max_features=auto, min_samples_leaf=1, min_samples_split=5, n_estimators=536; total time=   0.9s\n",
            "[CV] END max_depth=40, max_features=auto, min_samples_leaf=1, min_samples_split=5, n_estimators=536; total time=   0.9s\n",
            "[CV] END max_depth=26, max_features=sqrt, min_samples_leaf=10, min_samples_split=100, n_estimators=1190; total time=   1.5s\n",
            "[CV] END max_depth=26, max_features=sqrt, min_samples_leaf=10, min_samples_split=100, n_estimators=1190; total time=   1.4s\n",
            "[CV] END max_depth=26, max_features=sqrt, min_samples_leaf=10, min_samples_split=100, n_estimators=1190; total time=   1.6s\n",
            "[CV] END max_depth=26, max_features=sqrt, min_samples_leaf=10, min_samples_split=100, n_estimators=1190; total time=   2.4s\n",
            "[CV] END max_depth=26, max_features=sqrt, min_samples_leaf=10, min_samples_split=100, n_estimators=1190; total time=   1.4s\n",
            "[CV] END max_depth=12, max_features=auto, min_samples_leaf=2, min_samples_split=5, n_estimators=318; total time=   0.6s\n",
            "[CV] END max_depth=12, max_features=auto, min_samples_leaf=2, min_samples_split=5, n_estimators=318; total time=   0.5s\n",
            "[CV] END max_depth=12, max_features=auto, min_samples_leaf=2, min_samples_split=5, n_estimators=318; total time=   0.5s\n",
            "[CV] END max_depth=12, max_features=auto, min_samples_leaf=2, min_samples_split=5, n_estimators=318; total time=   0.5s\n",
            "[CV] END max_depth=12, max_features=auto, min_samples_leaf=2, min_samples_split=5, n_estimators=318; total time=   0.5s\n",
            "[CV] END max_depth=19, max_features=sqrt, min_samples_leaf=1, min_samples_split=2, n_estimators=536; total time=   0.8s\n",
            "[CV] END max_depth=19, max_features=sqrt, min_samples_leaf=1, min_samples_split=2, n_estimators=536; total time=   0.8s\n",
            "[CV] END max_depth=19, max_features=sqrt, min_samples_leaf=1, min_samples_split=2, n_estimators=536; total time=   0.8s\n",
            "[CV] END max_depth=19, max_features=sqrt, min_samples_leaf=1, min_samples_split=2, n_estimators=536; total time=   0.7s\n",
            "[CV] END max_depth=19, max_features=sqrt, min_samples_leaf=1, min_samples_split=2, n_estimators=536; total time=   0.8s\n",
            "[CV] END max_depth=26, max_features=sqrt, min_samples_leaf=2, min_samples_split=2, n_estimators=536; total time=   0.7s\n",
            "[CV] END max_depth=26, max_features=sqrt, min_samples_leaf=2, min_samples_split=2, n_estimators=536; total time=   0.7s\n",
            "[CV] END max_depth=26, max_features=sqrt, min_samples_leaf=2, min_samples_split=2, n_estimators=536; total time=   0.8s\n",
            "[CV] END max_depth=26, max_features=sqrt, min_samples_leaf=2, min_samples_split=2, n_estimators=536; total time=   1.2s\n",
            "[CV] END max_depth=26, max_features=sqrt, min_samples_leaf=2, min_samples_split=2, n_estimators=536; total time=   1.2s\n",
            "[CV] END max_depth=26, max_features=sqrt, min_samples_leaf=1, min_samples_split=10, n_estimators=754; total time=   1.0s\n",
            "[CV] END max_depth=26, max_features=sqrt, min_samples_leaf=1, min_samples_split=10, n_estimators=754; total time=   1.0s\n",
            "[CV] END max_depth=26, max_features=sqrt, min_samples_leaf=1, min_samples_split=10, n_estimators=754; total time=   1.0s\n",
            "[CV] END max_depth=26, max_features=sqrt, min_samples_leaf=1, min_samples_split=10, n_estimators=754; total time=   1.0s\n",
            "[CV] END max_depth=26, max_features=sqrt, min_samples_leaf=1, min_samples_split=10, n_estimators=754; total time=   1.0s\n"
          ]
        },
        {
          "output_type": "execute_result",
          "data": {
            "text/plain": [
              "RandomizedSearchCV(cv=5, estimator=RandomForestRegressor(), n_iter=100,\n",
              "                   n_jobs=1,\n",
              "                   param_distributions={'max_depth': [5, 12, 19, 26, 33, 40],\n",
              "                                        'max_features': ['auto', 'sqrt'],\n",
              "                                        'min_samples_leaf': [1, 2, 5, 10],\n",
              "                                        'min_samples_split': [2, 5, 10, 15,\n",
              "                                                              100],\n",
              "                                        'n_estimators': [100, 209, 318, 427,\n",
              "                                                         536, 645, 754, 863,\n",
              "                                                         972, 1081, 1190,\n",
              "                                                         1300]},\n",
              "                   random_state=42, scoring='neg_mean_squared_error',\n",
              "                   verbose=2)"
            ],
            "text/html": [
              "<style>#sk-container-id-9 {color: black;background-color: white;}#sk-container-id-9 pre{padding: 0;}#sk-container-id-9 div.sk-toggleable {background-color: white;}#sk-container-id-9 label.sk-toggleable__label {cursor: pointer;display: block;width: 100%;margin-bottom: 0;padding: 0.3em;box-sizing: border-box;text-align: center;}#sk-container-id-9 label.sk-toggleable__label-arrow:before {content: \"▸\";float: left;margin-right: 0.25em;color: #696969;}#sk-container-id-9 label.sk-toggleable__label-arrow:hover:before {color: black;}#sk-container-id-9 div.sk-estimator:hover label.sk-toggleable__label-arrow:before {color: black;}#sk-container-id-9 div.sk-toggleable__content {max-height: 0;max-width: 0;overflow: hidden;text-align: left;background-color: #f0f8ff;}#sk-container-id-9 div.sk-toggleable__content pre {margin: 0.2em;color: black;border-radius: 0.25em;background-color: #f0f8ff;}#sk-container-id-9 input.sk-toggleable__control:checked~div.sk-toggleable__content {max-height: 200px;max-width: 100%;overflow: auto;}#sk-container-id-9 input.sk-toggleable__control:checked~label.sk-toggleable__label-arrow:before {content: \"▾\";}#sk-container-id-9 div.sk-estimator input.sk-toggleable__control:checked~label.sk-toggleable__label {background-color: #d4ebff;}#sk-container-id-9 div.sk-label input.sk-toggleable__control:checked~label.sk-toggleable__label {background-color: #d4ebff;}#sk-container-id-9 input.sk-hidden--visually {border: 0;clip: rect(1px 1px 1px 1px);clip: rect(1px, 1px, 1px, 1px);height: 1px;margin: -1px;overflow: hidden;padding: 0;position: absolute;width: 1px;}#sk-container-id-9 div.sk-estimator {font-family: monospace;background-color: #f0f8ff;border: 1px dotted black;border-radius: 0.25em;box-sizing: border-box;margin-bottom: 0.5em;}#sk-container-id-9 div.sk-estimator:hover {background-color: #d4ebff;}#sk-container-id-9 div.sk-parallel-item::after {content: \"\";width: 100%;border-bottom: 1px solid gray;flex-grow: 1;}#sk-container-id-9 div.sk-label:hover label.sk-toggleable__label {background-color: #d4ebff;}#sk-container-id-9 div.sk-serial::before {content: \"\";position: absolute;border-left: 1px solid gray;box-sizing: border-box;top: 0;bottom: 0;left: 50%;z-index: 0;}#sk-container-id-9 div.sk-serial {display: flex;flex-direction: column;align-items: center;background-color: white;padding-right: 0.2em;padding-left: 0.2em;position: relative;}#sk-container-id-9 div.sk-item {position: relative;z-index: 1;}#sk-container-id-9 div.sk-parallel {display: flex;align-items: stretch;justify-content: center;background-color: white;position: relative;}#sk-container-id-9 div.sk-item::before, #sk-container-id-9 div.sk-parallel-item::before {content: \"\";position: absolute;border-left: 1px solid gray;box-sizing: border-box;top: 0;bottom: 0;left: 50%;z-index: -1;}#sk-container-id-9 div.sk-parallel-item {display: flex;flex-direction: column;z-index: 1;position: relative;background-color: white;}#sk-container-id-9 div.sk-parallel-item:first-child::after {align-self: flex-end;width: 50%;}#sk-container-id-9 div.sk-parallel-item:last-child::after {align-self: flex-start;width: 50%;}#sk-container-id-9 div.sk-parallel-item:only-child::after {width: 0;}#sk-container-id-9 div.sk-dashed-wrapped {border: 1px dashed gray;margin: 0 0.4em 0.5em 0.4em;box-sizing: border-box;padding-bottom: 0.4em;background-color: white;}#sk-container-id-9 div.sk-label label {font-family: monospace;font-weight: bold;display: inline-block;line-height: 1.2em;}#sk-container-id-9 div.sk-label-container {text-align: center;}#sk-container-id-9 div.sk-container {/* jupyter's `normalize.less` sets `[hidden] { display: none; }` but bootstrap.min.css set `[hidden] { display: none !important; }` so we also need the `!important` here to be able to override the default hidden behavior on the sphinx rendered scikit-learn.org. See: https://github.com/scikit-learn/scikit-learn/issues/21755 */display: inline-block !important;position: relative;}#sk-container-id-9 div.sk-text-repr-fallback {display: none;}</style><div id=\"sk-container-id-9\" class=\"sk-top-container\"><div class=\"sk-text-repr-fallback\"><pre>RandomizedSearchCV(cv=5, estimator=RandomForestRegressor(), n_iter=100,\n",
              "                   n_jobs=1,\n",
              "                   param_distributions={&#x27;max_depth&#x27;: [5, 12, 19, 26, 33, 40],\n",
              "                                        &#x27;max_features&#x27;: [&#x27;auto&#x27;, &#x27;sqrt&#x27;],\n",
              "                                        &#x27;min_samples_leaf&#x27;: [1, 2, 5, 10],\n",
              "                                        &#x27;min_samples_split&#x27;: [2, 5, 10, 15,\n",
              "                                                              100],\n",
              "                                        &#x27;n_estimators&#x27;: [100, 209, 318, 427,\n",
              "                                                         536, 645, 754, 863,\n",
              "                                                         972, 1081, 1190,\n",
              "                                                         1300]},\n",
              "                   random_state=42, scoring=&#x27;neg_mean_squared_error&#x27;,\n",
              "                   verbose=2)</pre><b>In a Jupyter environment, please rerun this cell to show the HTML representation or trust the notebook. <br />On GitHub, the HTML representation is unable to render, please try loading this page with nbviewer.org.</b></div><div class=\"sk-container\" hidden><div class=\"sk-item sk-dashed-wrapped\"><div class=\"sk-label-container\"><div class=\"sk-label sk-toggleable\"><input class=\"sk-toggleable__control sk-hidden--visually\" id=\"sk-estimator-id-15\" type=\"checkbox\" ><label for=\"sk-estimator-id-15\" class=\"sk-toggleable__label sk-toggleable__label-arrow\">RandomizedSearchCV</label><div class=\"sk-toggleable__content\"><pre>RandomizedSearchCV(cv=5, estimator=RandomForestRegressor(), n_iter=100,\n",
              "                   n_jobs=1,\n",
              "                   param_distributions={&#x27;max_depth&#x27;: [5, 12, 19, 26, 33, 40],\n",
              "                                        &#x27;max_features&#x27;: [&#x27;auto&#x27;, &#x27;sqrt&#x27;],\n",
              "                                        &#x27;min_samples_leaf&#x27;: [1, 2, 5, 10],\n",
              "                                        &#x27;min_samples_split&#x27;: [2, 5, 10, 15,\n",
              "                                                              100],\n",
              "                                        &#x27;n_estimators&#x27;: [100, 209, 318, 427,\n",
              "                                                         536, 645, 754, 863,\n",
              "                                                         972, 1081, 1190,\n",
              "                                                         1300]},\n",
              "                   random_state=42, scoring=&#x27;neg_mean_squared_error&#x27;,\n",
              "                   verbose=2)</pre></div></div></div><div class=\"sk-parallel\"><div class=\"sk-parallel-item\"><div class=\"sk-item\"><div class=\"sk-label-container\"><div class=\"sk-label sk-toggleable\"><input class=\"sk-toggleable__control sk-hidden--visually\" id=\"sk-estimator-id-16\" type=\"checkbox\" ><label for=\"sk-estimator-id-16\" class=\"sk-toggleable__label sk-toggleable__label-arrow\">estimator: RandomForestRegressor</label><div class=\"sk-toggleable__content\"><pre>RandomForestRegressor()</pre></div></div></div><div class=\"sk-serial\"><div class=\"sk-item\"><div class=\"sk-estimator sk-toggleable\"><input class=\"sk-toggleable__control sk-hidden--visually\" id=\"sk-estimator-id-17\" type=\"checkbox\" ><label for=\"sk-estimator-id-17\" class=\"sk-toggleable__label sk-toggleable__label-arrow\">RandomForestRegressor</label><div class=\"sk-toggleable__content\"><pre>RandomForestRegressor()</pre></div></div></div></div></div></div></div></div></div></div>"
            ]
          },
          "metadata": {},
          "execution_count": 59
        }
      ]
    },
    {
      "cell_type": "code",
      "source": [
        "rf1_random.best_params_"
      ],
      "metadata": {
        "colab": {
          "base_uri": "https://localhost:8080/"
        },
        "id": "73a6cAxDEudB",
        "outputId": "1ec68d06-2e51-4bd3-a86a-1192bb81fc6f"
      },
      "execution_count": 60,
      "outputs": [
        {
          "output_type": "execute_result",
          "data": {
            "text/plain": [
              "{'n_estimators': 318,\n",
              " 'min_samples_split': 15,\n",
              " 'min_samples_leaf': 2,\n",
              " 'max_features': 'sqrt',\n",
              " 'max_depth': 26}"
            ]
          },
          "metadata": {},
          "execution_count": 60
        }
      ]
    },
    {
      "cell_type": "code",
      "source": [
        "rf1_random.best_score_"
      ],
      "metadata": {
        "colab": {
          "base_uri": "https://localhost:8080/"
        },
        "id": "aA7wsMCvFvo_",
        "outputId": "0f93e4fd-2b87-4d8c-d1db-9458afd8cac5"
      },
      "execution_count": 61,
      "outputs": [
        {
          "output_type": "execute_result",
          "data": {
            "text/plain": [
              "-156.62299365620618"
            ]
          },
          "metadata": {},
          "execution_count": 61
        }
      ]
    },
    {
      "cell_type": "code",
      "source": [
        "prediction_rf1 = rf1_random.predict(X_test)"
      ],
      "metadata": {
        "id": "6v8t63NEFvrw"
      },
      "execution_count": 62,
      "outputs": []
    },
    {
      "cell_type": "code",
      "source": [
        "sns.distplot(y_test - prediction_rf1)"
      ],
      "metadata": {
        "colab": {
          "base_uri": "https://localhost:8080/",
          "height": 466
        },
        "id": "P4eDXk6BFvuM",
        "outputId": "8ec59a2a-5886-419a-a359-15e2a0e073fd"
      },
      "execution_count": 63,
      "outputs": [
        {
          "output_type": "execute_result",
          "data": {
            "text/plain": [
              "<Axes: xlabel='O3', ylabel='Density'>"
            ]
          },
          "metadata": {},
          "execution_count": 63
        },
        {
          "output_type": "display_data",
          "data": {
            "text/plain": [
              "<Figure size 640x480 with 1 Axes>"
            ],
            "image/png": "[encoded data removed]"
          },
          "metadata": {}
        }
      ]
    },
    {
      "cell_type": "code",
      "source": [
        "r_squared = r2_score(y_test, prediction_rf1)\n",
        "\n",
        "# Display R^2 on the plot\n",
        "plt.text(np.min(y_test), np.max(prediction_rf1), f'R^2 = {r_squared:.4f}', fontsize=12, verticalalignment='top')\n",
        "plt.scatter(y_test, prediction_rf1)\n",
        "\n",
        "plt.scatter(y_test, prediction_rf1)\n",
        "plt.show()"
      ],
      "metadata": {
        "colab": {
          "base_uri": "https://localhost:8080/",
          "height": 430
        },
        "id": "zgX5dmqLFvwZ",
        "outputId": "294e7378-b9b8-40d3-b552-a3e9a0022ef8"
      },
      "execution_count": 64,
      "outputs": [
        {
          "output_type": "display_data",
          "data": {
            "text/plain": [
              "<Figure size 640x480 with 1 Axes>"
            ],
            "image/png": "[encoded data removed]"
          },
          "metadata": {}
        }
      ]
    },
    {
      "cell_type": "code",
      "source": [
        "print('MAE:', metrics.mean_absolute_error(y_test, prediction_rf1))\n",
        "print('MSE:', metrics.mean_squared_error(y_test, prediction_rf1))\n",
        "print('RMSE:', np.sqrt(metrics.mean_squared_error(y_test, prediction_rf1)))"
      ],
      "metadata": {
        "colab": {
          "base_uri": "https://localhost:8080/"
        },
        "id": "i6JLb3MtF2UE",
        "outputId": "a11d3e0c-cc13-472f-8651-555d4ad6c86b"
      },
      "execution_count": 65,
      "outputs": [
        {
          "output_type": "stream",
          "name": "stdout",
          "text": [
            "MAE: 7.772229849984907\n",
            "MSE: 102.77367746069653\n",
            "RMSE: 10.137735322087302\n"
          ]
        }
      ]
    }
  ]
}