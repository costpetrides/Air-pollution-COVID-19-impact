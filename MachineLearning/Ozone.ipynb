{
  "nbformat": 4,
  "nbformat_minor": 0,
  "metadata": {
    "colab": {
      "provenance": [],
      "authorship_tag": "ABX9TyNOoqs6KaO6gtW+luRvb6X9",
      "include_colab_link": true
    },
    "kernelspec": {
      "name": "python3",
      "display_name": "Python 3"
    },
    "language_info": {
      "name": "python"
    }
  },
  "cells": [
    {
      "cell_type": "markdown",
      "metadata": {
        "id": "view-in-github",
        "colab_type": "text"
      },
      "source": [
        "<a href=\"https://colab.research.google.com/github/costpetrides/Air-pollution-COVID-19-impact/blob/main/MachineLearning/Ozone.ipynb\" target=\"_parent\"><img src=\"https://colab.research.google.com/assets/colab-badge.svg\" alt=\"Open In Colab\"/></a>"
      ]
    },
    {
      "cell_type": "code",
      "execution_count": 1,
      "metadata": {
        "colab": {
          "base_uri": "https://localhost:8080/",
          "height": 17
        },
        "id": "tj0_i9em_KUJ",
        "outputId": "7253f506-6f04-46bd-8cb5-0ee40bacb5cd"
      },
      "outputs": [
        {
          "output_type": "display_data",
          "data": {
            "text/html": [
              "        <script type=\"text/javascript\">\n",
              "        window.PlotlyConfig = {MathJaxConfig: 'local'};\n",
              "        if (window.MathJax && window.MathJax.Hub && window.MathJax.Hub.Config) {window.MathJax.Hub.Config({SVG: {font: \"STIX-Web\"}});}\n",
              "        if (typeof require !== 'undefined') {\n",
              "        require.undef(\"plotly\");\n",
              "        requirejs.config({\n",
              "            paths: {\n",
              "                'plotly': ['https://cdn.plot.ly/plotly-2.24.1.min']\n",
              "            }\n",
              "        });\n",
              "        require(['plotly'], function(Plotly) {\n",
              "            window._Plotly = Plotly;\n",
              "        });\n",
              "        }\n",
              "        </script>\n",
              "        "
            ]
          },
          "metadata": {}
        },
        {
          "output_type": "display_data",
          "data": {
            "text/html": [
              "        <script type=\"text/javascript\">\n",
              "        window.PlotlyConfig = {MathJaxConfig: 'local'};\n",
              "        if (window.MathJax && window.MathJax.Hub && window.MathJax.Hub.Config) {window.MathJax.Hub.Config({SVG: {font: \"STIX-Web\"}});}\n",
              "        if (typeof require !== 'undefined') {\n",
              "        require.undef(\"plotly\");\n",
              "        requirejs.config({\n",
              "            paths: {\n",
              "                'plotly': ['https://cdn.plot.ly/plotly-2.24.1.min']\n",
              "            }\n",
              "        });\n",
              "        require(['plotly'], function(Plotly) {\n",
              "            window._Plotly = Plotly;\n",
              "        });\n",
              "        }\n",
              "        </script>\n",
              "        "
            ]
          },
          "metadata": {}
        }
      ],
      "source": [
        "# importing dependencies\n",
        "\n",
        "import pandas as pd\n",
        "import numpy as np\n",
        "import plotly as py\n",
        "import plotly.graph_objects as go\n",
        "from plotly.offline import download_plotlyjs, init_notebook_mode, plot, iplot\n",
        "\n",
        "import cufflinks as cf\n",
        "init_notebook_mode(connected=True)\n",
        "cf.go_offline()\n",
        "\n",
        "import seaborn as sns\n",
        "import matplotlib.pyplot as plt"
      ]
    },
    {
      "cell_type": "code",
      "source": [
        "# reading the csv file !\n",
        "df = pd.read_csv('o3andweatherdata.csv')\n",
        "df.head()"
      ],
      "metadata": {
        "colab": {
          "base_uri": "https://localhost:8080/",
          "height": 204
        },
        "id": "KQ6AFWXm_isw",
        "outputId": "257f0feb-75e8-444c-df39-99b23d0f2cef"
      },
      "execution_count": 2,
      "outputs": [
        {
          "output_type": "execute_result",
          "data": {
            "text/plain": [
              "     date  avgtempC  winddirDegree  windspeedKmph  cloudcover  humidity  \\\n",
              "0  1/1/16         7             59             22          58        70   \n",
              "1  1/2/16         6            123              9          90        68   \n",
              "2  1/3/16         9            230             10          36        74   \n",
              "3  1/4/16         8            129             13          57        72   \n",
              "4  1/5/16         8             78             12          59        82   \n",
              "\n",
              "   precipInches  pressure  visibility  maxtempC  mintempC  sunHour  Ozone(ppm)  \n",
              "0           0.0      1031          10         8         6      8.7    0.031542  \n",
              "1           0.0      1030          10         8         6      3.8    0.025435  \n",
              "2           0.0      1025           9        15         5      8.7    0.027647  \n",
              "3           0.0      1024           9        11         5      5.4    0.028542  \n",
              "4           0.0      1025           9        12         4      8.7    0.027706  "
            ],
            "text/html": [
              "\n",
              "  <div id=\"df-1029c4b5-fda6-4413-bbeb-d634e6f3a190\" class=\"colab-df-container\">\n",
              "    <div>\n",
              "<style scoped>\n",
              "    .dataframe tbody tr th:only-of-type {\n",
              "        vertical-align: middle;\n",
              "    }\n",
              "\n",
              "    .dataframe tbody tr th {\n",
              "        vertical-align: top;\n",
              "    }\n",
              "\n",
              "    .dataframe thead th {\n",
              "        text-align: right;\n",
              "    }\n",
              "</style>\n",
              "<table border=\"1\" class=\"dataframe\">\n",
              "  <thead>\n",
              "    <tr style=\"text-align: right;\">\n",
              "      <th></th>\n",
              "      <th>date</th>\n",
              "      <th>avgtempC</th>\n",
              "      <th>winddirDegree</th>\n",
              "      <th>windspeedKmph</th>\n",
              "      <th>cloudcover</th>\n",
              "      <th>humidity</th>\n",
              "      <th>precipInches</th>\n",
              "      <th>pressure</th>\n",
              "      <th>visibility</th>\n",
              "      <th>maxtempC</th>\n",
              "      <th>mintempC</th>\n",
              "      <th>sunHour</th>\n",
              "      <th>Ozone(ppm)</th>\n",
              "    </tr>\n",
              "  </thead>\n",
              "  <tbody>\n",
              "    <tr>\n",
              "      <th>0</th>\n",
              "      <td>1/1/16</td>\n",
              "      <td>7</td>\n",
              "      <td>59</td>\n",
              "      <td>22</td>\n",
              "      <td>58</td>\n",
              "      <td>70</td>\n",
              "      <td>0.0</td>\n",
              "      <td>1031</td>\n",
              "      <td>10</td>\n",
              "      <td>8</td>\n",
              "      <td>6</td>\n",
              "      <td>8.7</td>\n",
              "      <td>0.031542</td>\n",
              "    </tr>\n",
              "    <tr>\n",
              "      <th>1</th>\n",
              "      <td>1/2/16</td>\n",
              "      <td>6</td>\n",
              "      <td>123</td>\n",
              "      <td>9</td>\n",
              "      <td>90</td>\n",
              "      <td>68</td>\n",
              "      <td>0.0</td>\n",
              "      <td>1030</td>\n",
              "      <td>10</td>\n",
              "      <td>8</td>\n",
              "      <td>6</td>\n",
              "      <td>3.8</td>\n",
              "      <td>0.025435</td>\n",
              "    </tr>\n",
              "    <tr>\n",
              "      <th>2</th>\n",
              "      <td>1/3/16</td>\n",
              "      <td>9</td>\n",
              "      <td>230</td>\n",
              "      <td>10</td>\n",
              "      <td>36</td>\n",
              "      <td>74</td>\n",
              "      <td>0.0</td>\n",
              "      <td>1025</td>\n",
              "      <td>9</td>\n",
              "      <td>15</td>\n",
              "      <td>5</td>\n",
              "      <td>8.7</td>\n",
              "      <td>0.027647</td>\n",
              "    </tr>\n",
              "    <tr>\n",
              "      <th>3</th>\n",
              "      <td>1/4/16</td>\n",
              "      <td>8</td>\n",
              "      <td>129</td>\n",
              "      <td>13</td>\n",
              "      <td>57</td>\n",
              "      <td>72</td>\n",
              "      <td>0.0</td>\n",
              "      <td>1024</td>\n",
              "      <td>9</td>\n",
              "      <td>11</td>\n",
              "      <td>5</td>\n",
              "      <td>5.4</td>\n",
              "      <td>0.028542</td>\n",
              "    </tr>\n",
              "    <tr>\n",
              "      <th>4</th>\n",
              "      <td>1/5/16</td>\n",
              "      <td>8</td>\n",
              "      <td>78</td>\n",
              "      <td>12</td>\n",
              "      <td>59</td>\n",
              "      <td>82</td>\n",
              "      <td>0.0</td>\n",
              "      <td>1025</td>\n",
              "      <td>9</td>\n",
              "      <td>12</td>\n",
              "      <td>4</td>\n",
              "      <td>8.7</td>\n",
              "      <td>0.027706</td>\n",
              "    </tr>\n",
              "  </tbody>\n",
              "</table>\n",
              "</div>\n",
              "    <div class=\"colab-df-buttons\">\n",
              "\n",
              "  <div class=\"colab-df-container\">\n",
              "    <button class=\"colab-df-convert\" onclick=\"convertToInteractive('df-1029c4b5-fda6-4413-bbeb-d634e6f3a190')\"\n",
              "            title=\"Convert this dataframe to an interactive table.\"\n",
              "            style=\"display:none;\">\n",
              "\n",
              "  <svg xmlns=\"http://www.w3.org/2000/svg\" height=\"24px\" viewBox=\"0 -960 960 960\">\n",
              "    <path d=\"M120-120v-720h720v720H120Zm60-500h600v-160H180v160Zm220 220h160v-160H400v160Zm0 220h160v-160H400v160ZM180-400h160v-160H180v160Zm440 0h160v-160H620v160ZM180-180h160v-160H180v160Zm440 0h160v-160H620v160Z\"/>\n",
              "  </svg>\n",
              "    </button>\n",
              "\n",
              "  <style>\n",
              "    .colab-df-container {\n",
              "      display:flex;\n",
              "      gap: 12px;\n",
              "    }\n",
              "\n",
              "    .colab-df-convert {\n",
              "      background-color: #E8F0FE;\n",
              "      border: none;\n",
              "      border-radius: 50%;\n",
              "      cursor: pointer;\n",
              "      display: none;\n",
              "      fill: #1967D2;\n",
              "      height: 32px;\n",
              "      padding: 0 0 0 0;\n",
              "      width: 32px;\n",
              "    }\n",
              "\n",
              "    .colab-df-convert:hover {\n",
              "      background-color: #E2EBFA;\n",
              "      box-shadow: 0px 1px 2px rgba(60, 64, 67, 0.3), 0px 1px 3px 1px rgba(60, 64, 67, 0.15);\n",
              "      fill: #174EA6;\n",
              "    }\n",
              "\n",
              "    .colab-df-buttons div {\n",
              "      margin-bottom: 4px;\n",
              "    }\n",
              "\n",
              "    [theme=dark] .colab-df-convert {\n",
              "      background-color: #3B4455;\n",
              "      fill: #D2E3FC;\n",
              "    }\n",
              "\n",
              "    [theme=dark] .colab-df-convert:hover {\n",
              "      background-color: #434B5C;\n",
              "      box-shadow: 0px 1px 3px 1px rgba(0, 0, 0, 0.15);\n",
              "      filter: drop-shadow(0px 1px 2px rgba(0, 0, 0, 0.3));\n",
              "      fill: #FFFFFF;\n",
              "    }\n",
              "  </style>\n",
              "\n",
              "    <script>\n",
              "      const buttonEl =\n",
              "        document.querySelector('#df-1029c4b5-fda6-4413-bbeb-d634e6f3a190 button.colab-df-convert');\n",
              "      buttonEl.style.display =\n",
              "        google.colab.kernel.accessAllowed ? 'block' : 'none';\n",
              "\n",
              "      async function convertToInteractive(key) {\n",
              "        const element = document.querySelector('#df-1029c4b5-fda6-4413-bbeb-d634e6f3a190');\n",
              "        const dataTable =\n",
              "          await google.colab.kernel.invokeFunction('convertToInteractive',\n",
              "                                                    [key], {});\n",
              "        if (!dataTable) return;\n",
              "\n",
              "        const docLinkHtml = 'Like what you see? Visit the ' +\n",
              "          '<a target=\"_blank\" href=https://colab.research.google.com/notebooks/data_table.ipynb>data table notebook</a>'\n",
              "          + ' to learn more about interactive tables.';\n",
              "        element.innerHTML = '';\n",
              "        dataTable['output_type'] = 'display_data';\n",
              "        await google.colab.output.renderOutput(dataTable, element);\n",
              "        const docLink = document.createElement('div');\n",
              "        docLink.innerHTML = docLinkHtml;\n",
              "        element.appendChild(docLink);\n",
              "      }\n",
              "    </script>\n",
              "  </div>\n",
              "\n",
              "\n",
              "<div id=\"df-ebf1b682-36a6-48e7-a314-b98ad4039f02\">\n",
              "  <button class=\"colab-df-quickchart\" onclick=\"quickchart('df-ebf1b682-36a6-48e7-a314-b98ad4039f02')\"\n",
              "            title=\"Suggest charts.\"\n",
              "            style=\"display:none;\">\n",
              "\n",
              "<svg xmlns=\"http://www.w3.org/2000/svg\" height=\"24px\"viewBox=\"0 0 24 24\"\n",
              "     width=\"24px\">\n",
              "    <g>\n",
              "        <path d=\"M19 3H5c-1.1 0-2 .9-2 2v14c0 1.1.9 2 2 2h14c1.1 0 2-.9 2-2V5c0-1.1-.9-2-2-2zM9 17H7v-7h2v7zm4 0h-2V7h2v10zm4 0h-2v-4h2v4z\"/>\n",
              "    </g>\n",
              "</svg>\n",
              "  </button>\n",
              "\n",
              "<style>\n",
              "  .colab-df-quickchart {\n",
              "      --bg-color: #E8F0FE;\n",
              "      --fill-color: #1967D2;\n",
              "      --hover-bg-color: #E2EBFA;\n",
              "      --hover-fill-color: #174EA6;\n",
              "      --disabled-fill-color: #AAA;\n",
              "      --disabled-bg-color: #DDD;\n",
              "  }\n",
              "\n",
              "  [theme=dark] .colab-df-quickchart {\n",
              "      --bg-color: #3B4455;\n",
              "      --fill-color: #D2E3FC;\n",
              "      --hover-bg-color: #434B5C;\n",
              "      --hover-fill-color: #FFFFFF;\n",
              "      --disabled-bg-color: #3B4455;\n",
              "      --disabled-fill-color: #666;\n",
              "  }\n",
              "\n",
              "  .colab-df-quickchart {\n",
              "    background-color: var(--bg-color);\n",
              "    border: none;\n",
              "    border-radius: 50%;\n",
              "    cursor: pointer;\n",
              "    display: none;\n",
              "    fill: var(--fill-color);\n",
              "    height: 32px;\n",
              "    padding: 0;\n",
              "    width: 32px;\n",
              "  }\n",
              "\n",
              "  .colab-df-quickchart:hover {\n",
              "    background-color: var(--hover-bg-color);\n",
              "    box-shadow: 0 1px 2px rgba(60, 64, 67, 0.3), 0 1px 3px 1px rgba(60, 64, 67, 0.15);\n",
              "    fill: var(--button-hover-fill-color);\n",
              "  }\n",
              "\n",
              "  .colab-df-quickchart-complete:disabled,\n",
              "  .colab-df-quickchart-complete:disabled:hover {\n",
              "    background-color: var(--disabled-bg-color);\n",
              "    fill: var(--disabled-fill-color);\n",
              "    box-shadow: none;\n",
              "  }\n",
              "\n",
              "  .colab-df-spinner {\n",
              "    border: 2px solid var(--fill-color);\n",
              "    border-color: transparent;\n",
              "    border-bottom-color: var(--fill-color);\n",
              "    animation:\n",
              "      spin 1s steps(1) infinite;\n",
              "  }\n",
              "\n",
              "  @keyframes spin {\n",
              "    0% {\n",
              "      border-color: transparent;\n",
              "      border-bottom-color: var(--fill-color);\n",
              "      border-left-color: var(--fill-color);\n",
              "    }\n",
              "    20% {\n",
              "      border-color: transparent;\n",
              "      border-left-color: var(--fill-color);\n",
              "      border-top-color: var(--fill-color);\n",
              "    }\n",
              "    30% {\n",
              "      border-color: transparent;\n",
              "      border-left-color: var(--fill-color);\n",
              "      border-top-color: var(--fill-color);\n",
              "      border-right-color: var(--fill-color);\n",
              "    }\n",
              "    40% {\n",
              "      border-color: transparent;\n",
              "      border-right-color: var(--fill-color);\n",
              "      border-top-color: var(--fill-color);\n",
              "    }\n",
              "    60% {\n",
              "      border-color: transparent;\n",
              "      border-right-color: var(--fill-color);\n",
              "    }\n",
              "    80% {\n",
              "      border-color: transparent;\n",
              "      border-right-color: var(--fill-color);\n",
              "      border-bottom-color: var(--fill-color);\n",
              "    }\n",
              "    90% {\n",
              "      border-color: transparent;\n",
              "      border-bottom-color: var(--fill-color);\n",
              "    }\n",
              "  }\n",
              "</style>\n",
              "\n",
              "  <script>\n",
              "    async function quickchart(key) {\n",
              "      const quickchartButtonEl =\n",
              "        document.querySelector('#' + key + ' button');\n",
              "      quickchartButtonEl.disabled = true;  // To prevent multiple clicks.\n",
              "      quickchartButtonEl.classList.add('colab-df-spinner');\n",
              "      try {\n",
              "        const charts = await google.colab.kernel.invokeFunction(\n",
              "            'suggestCharts', [key], {});\n",
              "      } catch (error) {\n",
              "        console.error('Error during call to suggestCharts:', error);\n",
              "      }\n",
              "      quickchartButtonEl.classList.remove('colab-df-spinner');\n",
              "      quickchartButtonEl.classList.add('colab-df-quickchart-complete');\n",
              "    }\n",
              "    (() => {\n",
              "      let quickchartButtonEl =\n",
              "        document.querySelector('#df-ebf1b682-36a6-48e7-a314-b98ad4039f02 button');\n",
              "      quickchartButtonEl.style.display =\n",
              "        google.colab.kernel.accessAllowed ? 'block' : 'none';\n",
              "    })();\n",
              "  </script>\n",
              "</div>\n",
              "    </div>\n",
              "  </div>\n"
            ]
          },
          "metadata": {},
          "execution_count": 2
        }
      ]
    },
    {
      "cell_type": "code",
      "source": [
        "df['Ozone(ppm)'] = df['Ozone(ppm)'] * 100"
      ],
      "metadata": {
        "id": "uzNHwWEC_ivg"
      },
      "execution_count": 3,
      "outputs": []
    },
    {
      "cell_type": "code",
      "source": [
        "# checking for null values (missing values)\n",
        "df.isnull().sum()"
      ],
      "metadata": {
        "colab": {
          "base_uri": "https://localhost:8080/"
        },
        "id": "E5mXyWcZ_iyU",
        "outputId": "dbf32caf-6687-4528-93e4-f15028f19ff4"
      },
      "execution_count": 4,
      "outputs": [
        {
          "output_type": "execute_result",
          "data": {
            "text/plain": [
              "date             0\n",
              "avgtempC         0\n",
              "winddirDegree    0\n",
              "windspeedKmph    0\n",
              "cloudcover       0\n",
              "humidity         0\n",
              "precipInches     0\n",
              "pressure         0\n",
              "visibility       0\n",
              "maxtempC         0\n",
              "mintempC         0\n",
              "sunHour          0\n",
              "Ozone(ppm)       0\n",
              "dtype: int64"
            ]
          },
          "metadata": {},
          "execution_count": 4
        }
      ]
    },
    {
      "cell_type": "code",
      "source": [
        "# Data information\n",
        "df.describe()"
      ],
      "metadata": {
        "colab": {
          "base_uri": "https://localhost:8080/",
          "height": 297
        },
        "id": "igJnWOci_i1I",
        "outputId": "4d0f4b54-1f0a-4552-b98a-6b767eed425d"
      },
      "execution_count": 5,
      "outputs": [
        {
          "output_type": "execute_result",
          "data": {
            "text/plain": [
              "          avgtempC  winddirDegree  windspeedKmph   cloudcover     humidity  \\\n",
              "count  1369.000000    1369.000000    1369.000000  1369.000000  1369.000000   \n",
              "mean     20.864865     155.495982      13.573411    40.108839    68.869248   \n",
              "std       7.704047      63.281293       5.075517    28.777158    13.898378   \n",
              "min      -3.000000       0.000000       3.000000     0.000000    25.000000   \n",
              "25%      15.000000     123.000000      10.000000    15.000000    59.000000   \n",
              "50%      22.000000     166.000000      13.000000    35.000000    70.000000   \n",
              "75%      27.000000     186.000000      17.000000    61.000000    80.000000   \n",
              "max      35.000000     346.000000      40.000000   100.000000    95.000000   \n",
              "\n",
              "       precipInches     pressure   visibility     maxtempC     mintempC  \\\n",
              "count   1369.000000  1369.000000  1369.000000  1369.000000  1369.000000   \n",
              "mean       0.068590  1016.269540     9.479182    25.870709    16.423667   \n",
              "std        0.199505     5.626115     1.518804     8.196246     7.424290   \n",
              "min        0.000000  1002.000000     5.000000     0.000000    -7.000000   \n",
              "25%        0.000000  1013.000000     9.000000    21.000000    11.000000   \n",
              "50%        0.000000  1015.000000    10.000000    27.000000    18.000000   \n",
              "75%        0.100000  1019.000000    10.000000    33.000000    23.000000   \n",
              "max        3.400000  1040.000000    20.000000    42.000000    28.000000   \n",
              "\n",
              "           sunHour   Ozone(ppm)  \n",
              "count  1369.000000  1369.000000  \n",
              "mean     10.127684     3.174777  \n",
              "std       2.886602     0.985901  \n",
              "min       3.800000     0.323800  \n",
              "25%       8.700000     2.466700  \n",
              "50%      10.900000     3.082400  \n",
              "75%      12.200000     3.864700  \n",
              "max      14.100000     6.533300  "
            ],
            "text/html": [
              "\n",
              "  <div id=\"df-fe32c955-70a3-4bf5-92ec-40945199191a\" class=\"colab-df-container\">\n",
              "    <div>\n",
              "<style scoped>\n",
              "    .dataframe tbody tr th:only-of-type {\n",
              "        vertical-align: middle;\n",
              "    }\n",
              "\n",
              "    .dataframe tbody tr th {\n",
              "        vertical-align: top;\n",
              "    }\n",
              "\n",
              "    .dataframe thead th {\n",
              "        text-align: right;\n",
              "    }\n",
              "</style>\n",
              "<table border=\"1\" class=\"dataframe\">\n",
              "  <thead>\n",
              "    <tr style=\"text-align: right;\">\n",
              "      <th></th>\n",
              "      <th>avgtempC</th>\n",
              "      <th>winddirDegree</th>\n",
              "      <th>windspeedKmph</th>\n",
              "      <th>cloudcover</th>\n",
              "      <th>humidity</th>\n",
              "      <th>precipInches</th>\n",
              "      <th>pressure</th>\n",
              "      <th>visibility</th>\n",
              "      <th>maxtempC</th>\n",
              "      <th>mintempC</th>\n",
              "      <th>sunHour</th>\n",
              "      <th>Ozone(ppm)</th>\n",
              "    </tr>\n",
              "  </thead>\n",
              "  <tbody>\n",
              "    <tr>\n",
              "      <th>count</th>\n",
              "      <td>1369.000000</td>\n",
              "      <td>1369.000000</td>\n",
              "      <td>1369.000000</td>\n",
              "      <td>1369.000000</td>\n",
              "      <td>1369.000000</td>\n",
              "      <td>1369.000000</td>\n",
              "      <td>1369.000000</td>\n",
              "      <td>1369.000000</td>\n",
              "      <td>1369.000000</td>\n",
              "      <td>1369.000000</td>\n",
              "      <td>1369.000000</td>\n",
              "      <td>1369.000000</td>\n",
              "    </tr>\n",
              "    <tr>\n",
              "      <th>mean</th>\n",
              "      <td>20.864865</td>\n",
              "      <td>155.495982</td>\n",
              "      <td>13.573411</td>\n",
              "      <td>40.108839</td>\n",
              "      <td>68.869248</td>\n",
              "      <td>0.068590</td>\n",
              "      <td>1016.269540</td>\n",
              "      <td>9.479182</td>\n",
              "      <td>25.870709</td>\n",
              "      <td>16.423667</td>\n",
              "      <td>10.127684</td>\n",
              "      <td>3.174777</td>\n",
              "    </tr>\n",
              "    <tr>\n",
              "      <th>std</th>\n",
              "      <td>7.704047</td>\n",
              "      <td>63.281293</td>\n",
              "      <td>5.075517</td>\n",
              "      <td>28.777158</td>\n",
              "      <td>13.898378</td>\n",
              "      <td>0.199505</td>\n",
              "      <td>5.626115</td>\n",
              "      <td>1.518804</td>\n",
              "      <td>8.196246</td>\n",
              "      <td>7.424290</td>\n",
              "      <td>2.886602</td>\n",
              "      <td>0.985901</td>\n",
              "    </tr>\n",
              "    <tr>\n",
              "      <th>min</th>\n",
              "      <td>-3.000000</td>\n",
              "      <td>0.000000</td>\n",
              "      <td>3.000000</td>\n",
              "      <td>0.000000</td>\n",
              "      <td>25.000000</td>\n",
              "      <td>0.000000</td>\n",
              "      <td>1002.000000</td>\n",
              "      <td>5.000000</td>\n",
              "      <td>0.000000</td>\n",
              "      <td>-7.000000</td>\n",
              "      <td>3.800000</td>\n",
              "      <td>0.323800</td>\n",
              "    </tr>\n",
              "    <tr>\n",
              "      <th>25%</th>\n",
              "      <td>15.000000</td>\n",
              "      <td>123.000000</td>\n",
              "      <td>10.000000</td>\n",
              "      <td>15.000000</td>\n",
              "      <td>59.000000</td>\n",
              "      <td>0.000000</td>\n",
              "      <td>1013.000000</td>\n",
              "      <td>9.000000</td>\n",
              "      <td>21.000000</td>\n",
              "      <td>11.000000</td>\n",
              "      <td>8.700000</td>\n",
              "      <td>2.466700</td>\n",
              "    </tr>\n",
              "    <tr>\n",
              "      <th>50%</th>\n",
              "      <td>22.000000</td>\n",
              "      <td>166.000000</td>\n",
              "      <td>13.000000</td>\n",
              "      <td>35.000000</td>\n",
              "      <td>70.000000</td>\n",
              "      <td>0.000000</td>\n",
              "      <td>1015.000000</td>\n",
              "      <td>10.000000</td>\n",
              "      <td>27.000000</td>\n",
              "      <td>18.000000</td>\n",
              "      <td>10.900000</td>\n",
              "      <td>3.082400</td>\n",
              "    </tr>\n",
              "    <tr>\n",
              "      <th>75%</th>\n",
              "      <td>27.000000</td>\n",
              "      <td>186.000000</td>\n",
              "      <td>17.000000</td>\n",
              "      <td>61.000000</td>\n",
              "      <td>80.000000</td>\n",
              "      <td>0.100000</td>\n",
              "      <td>1019.000000</td>\n",
              "      <td>10.000000</td>\n",
              "      <td>33.000000</td>\n",
              "      <td>23.000000</td>\n",
              "      <td>12.200000</td>\n",
              "      <td>3.864700</td>\n",
              "    </tr>\n",
              "    <tr>\n",
              "      <th>max</th>\n",
              "      <td>35.000000</td>\n",
              "      <td>346.000000</td>\n",
              "      <td>40.000000</td>\n",
              "      <td>100.000000</td>\n",
              "      <td>95.000000</td>\n",
              "      <td>3.400000</td>\n",
              "      <td>1040.000000</td>\n",
              "      <td>20.000000</td>\n",
              "      <td>42.000000</td>\n",
              "      <td>28.000000</td>\n",
              "      <td>14.100000</td>\n",
              "      <td>6.533300</td>\n",
              "    </tr>\n",
              "  </tbody>\n",
              "</table>\n",
              "</div>\n",
              "    <div class=\"colab-df-buttons\">\n",
              "\n",
              "  <div class=\"colab-df-container\">\n",
              "    <button class=\"colab-df-convert\" onclick=\"convertToInteractive('df-fe32c955-70a3-4bf5-92ec-40945199191a')\"\n",
              "            title=\"Convert this dataframe to an interactive table.\"\n",
              "            style=\"display:none;\">\n",
              "\n",
              "  <svg xmlns=\"http://www.w3.org/2000/svg\" height=\"24px\" viewBox=\"0 -960 960 960\">\n",
              "    <path d=\"M120-120v-720h720v720H120Zm60-500h600v-160H180v160Zm220 220h160v-160H400v160Zm0 220h160v-160H400v160ZM180-400h160v-160H180v160Zm440 0h160v-160H620v160ZM180-180h160v-160H180v160Zm440 0h160v-160H620v160Z\"/>\n",
              "  </svg>\n",
              "    </button>\n",
              "\n",
              "  <style>\n",
              "    .colab-df-container {\n",
              "      display:flex;\n",
              "      gap: 12px;\n",
              "    }\n",
              "\n",
              "    .colab-df-convert {\n",
              "      background-color: #E8F0FE;\n",
              "      border: none;\n",
              "      border-radius: 50%;\n",
              "      cursor: pointer;\n",
              "      display: none;\n",
              "      fill: #1967D2;\n",
              "      height: 32px;\n",
              "      padding: 0 0 0 0;\n",
              "      width: 32px;\n",
              "    }\n",
              "\n",
              "    .colab-df-convert:hover {\n",
              "      background-color: #E2EBFA;\n",
              "      box-shadow: 0px 1px 2px rgba(60, 64, 67, 0.3), 0px 1px 3px 1px rgba(60, 64, 67, 0.15);\n",
              "      fill: #174EA6;\n",
              "    }\n",
              "\n",
              "    .colab-df-buttons div {\n",
              "      margin-bottom: 4px;\n",
              "    }\n",
              "\n",
              "    [theme=dark] .colab-df-convert {\n",
              "      background-color: #3B4455;\n",
              "      fill: #D2E3FC;\n",
              "    }\n",
              "\n",
              "    [theme=dark] .colab-df-convert:hover {\n",
              "      background-color: #434B5C;\n",
              "      box-shadow: 0px 1px 3px 1px rgba(0, 0, 0, 0.15);\n",
              "      filter: drop-shadow(0px 1px 2px rgba(0, 0, 0, 0.3));\n",
              "      fill: #FFFFFF;\n",
              "    }\n",
              "  </style>\n",
              "\n",
              "    <script>\n",
              "      const buttonEl =\n",
              "        document.querySelector('#df-fe32c955-70a3-4bf5-92ec-40945199191a button.colab-df-convert');\n",
              "      buttonEl.style.display =\n",
              "        google.colab.kernel.accessAllowed ? 'block' : 'none';\n",
              "\n",
              "      async function convertToInteractive(key) {\n",
              "        const element = document.querySelector('#df-fe32c955-70a3-4bf5-92ec-40945199191a');\n",
              "        const dataTable =\n",
              "          await google.colab.kernel.invokeFunction('convertToInteractive',\n",
              "                                                    [key], {});\n",
              "        if (!dataTable) return;\n",
              "\n",
              "        const docLinkHtml = 'Like what you see? Visit the ' +\n",
              "          '<a target=\"_blank\" href=https://colab.research.google.com/notebooks/data_table.ipynb>data table notebook</a>'\n",
              "          + ' to learn more about interactive tables.';\n",
              "        element.innerHTML = '';\n",
              "        dataTable['output_type'] = 'display_data';\n",
              "        await google.colab.output.renderOutput(dataTable, element);\n",
              "        const docLink = document.createElement('div');\n",
              "        docLink.innerHTML = docLinkHtml;\n",
              "        element.appendChild(docLink);\n",
              "      }\n",
              "    </script>\n",
              "  </div>\n",
              "\n",
              "\n",
              "<div id=\"df-0d5cd059-3df9-4c08-8291-9761a3e699ee\">\n",
              "  <button class=\"colab-df-quickchart\" onclick=\"quickchart('df-0d5cd059-3df9-4c08-8291-9761a3e699ee')\"\n",
              "            title=\"Suggest charts.\"\n",
              "            style=\"display:none;\">\n",
              "\n",
              "<svg xmlns=\"http://www.w3.org/2000/svg\" height=\"24px\"viewBox=\"0 0 24 24\"\n",
              "     width=\"24px\">\n",
              "    <g>\n",
              "        <path d=\"M19 3H5c-1.1 0-2 .9-2 2v14c0 1.1.9 2 2 2h14c1.1 0 2-.9 2-2V5c0-1.1-.9-2-2-2zM9 17H7v-7h2v7zm4 0h-2V7h2v10zm4 0h-2v-4h2v4z\"/>\n",
              "    </g>\n",
              "</svg>\n",
              "  </button>\n",
              "\n",
              "<style>\n",
              "  .colab-df-quickchart {\n",
              "      --bg-color: #E8F0FE;\n",
              "      --fill-color: #1967D2;\n",
              "      --hover-bg-color: #E2EBFA;\n",
              "      --hover-fill-color: #174EA6;\n",
              "      --disabled-fill-color: #AAA;\n",
              "      --disabled-bg-color: #DDD;\n",
              "  }\n",
              "\n",
              "  [theme=dark] .colab-df-quickchart {\n",
              "      --bg-color: #3B4455;\n",
              "      --fill-color: #D2E3FC;\n",
              "      --hover-bg-color: #434B5C;\n",
              "      --hover-fill-color: #FFFFFF;\n",
              "      --disabled-bg-color: #3B4455;\n",
              "      --disabled-fill-color: #666;\n",
              "  }\n",
              "\n",
              "  .colab-df-quickchart {\n",
              "    background-color: var(--bg-color);\n",
              "    border: none;\n",
              "    border-radius: 50%;\n",
              "    cursor: pointer;\n",
              "    display: none;\n",
              "    fill: var(--fill-color);\n",
              "    height: 32px;\n",
              "    padding: 0;\n",
              "    width: 32px;\n",
              "  }\n",
              "\n",
              "  .colab-df-quickchart:hover {\n",
              "    background-color: var(--hover-bg-color);\n",
              "    box-shadow: 0 1px 2px rgba(60, 64, 67, 0.3), 0 1px 3px 1px rgba(60, 64, 67, 0.15);\n",
              "    fill: var(--button-hover-fill-color);\n",
              "  }\n",
              "\n",
              "  .colab-df-quickchart-complete:disabled,\n",
              "  .colab-df-quickchart-complete:disabled:hover {\n",
              "    background-color: var(--disabled-bg-color);\n",
              "    fill: var(--disabled-fill-color);\n",
              "    box-shadow: none;\n",
              "  }\n",
              "\n",
              "  .colab-df-spinner {\n",
              "    border: 2px solid var(--fill-color);\n",
              "    border-color: transparent;\n",
              "    border-bottom-color: var(--fill-color);\n",
              "    animation:\n",
              "      spin 1s steps(1) infinite;\n",
              "  }\n",
              "\n",
              "  @keyframes spin {\n",
              "    0% {\n",
              "      border-color: transparent;\n",
              "      border-bottom-color: var(--fill-color);\n",
              "      border-left-color: var(--fill-color);\n",
              "    }\n",
              "    20% {\n",
              "      border-color: transparent;\n",
              "      border-left-color: var(--fill-color);\n",
              "      border-top-color: var(--fill-color);\n",
              "    }\n",
              "    30% {\n",
              "      border-color: transparent;\n",
              "      border-left-color: var(--fill-color);\n",
              "      border-top-color: var(--fill-color);\n",
              "      border-right-color: var(--fill-color);\n",
              "    }\n",
              "    40% {\n",
              "      border-color: transparent;\n",
              "      border-right-color: var(--fill-color);\n",
              "      border-top-color: var(--fill-color);\n",
              "    }\n",
              "    60% {\n",
              "      border-color: transparent;\n",
              "      border-right-color: var(--fill-color);\n",
              "    }\n",
              "    80% {\n",
              "      border-color: transparent;\n",
              "      border-right-color: var(--fill-color);\n",
              "      border-bottom-color: var(--fill-color);\n",
              "    }\n",
              "    90% {\n",
              "      border-color: transparent;\n",
              "      border-bottom-color: var(--fill-color);\n",
              "    }\n",
              "  }\n",
              "</style>\n",
              "\n",
              "  <script>\n",
              "    async function quickchart(key) {\n",
              "      const quickchartButtonEl =\n",
              "        document.querySelector('#' + key + ' button');\n",
              "      quickchartButtonEl.disabled = true;  // To prevent multiple clicks.\n",
              "      quickchartButtonEl.classList.add('colab-df-spinner');\n",
              "      try {\n",
              "        const charts = await google.colab.kernel.invokeFunction(\n",
              "            'suggestCharts', [key], {});\n",
              "      } catch (error) {\n",
              "        console.error('Error during call to suggestCharts:', error);\n",
              "      }\n",
              "      quickchartButtonEl.classList.remove('colab-df-spinner');\n",
              "      quickchartButtonEl.classList.add('colab-df-quickchart-complete');\n",
              "    }\n",
              "    (() => {\n",
              "      let quickchartButtonEl =\n",
              "        document.querySelector('#df-0d5cd059-3df9-4c08-8291-9761a3e699ee button');\n",
              "      quickchartButtonEl.style.display =\n",
              "        google.colab.kernel.accessAllowed ? 'block' : 'none';\n",
              "    })();\n",
              "  </script>\n",
              "</div>\n",
              "    </div>\n",
              "  </div>\n"
            ]
          },
          "metadata": {},
          "execution_count": 5
        }
      ]
    },
    {
      "cell_type": "code",
      "source": [
        "# correlation visualization\n",
        "corrmat = df.corr()\n",
        "top_corr_features = corrmat.index\n",
        "plt.figure(figsize=(10,8))\n",
        "\n",
        "\n",
        "g = sns.heatmap(df[top_corr_features].corr(),annot=True)"
      ],
      "metadata": {
        "colab": {
          "base_uri": "https://localhost:8080/",
          "height": 871
        },
        "id": "lwCxvKfg_i38",
        "outputId": "45481633-6c80-4e5e-8012-ad8b4320b3ff"
      },
      "execution_count": 6,
      "outputs": [
        {
          "output_type": "stream",
          "name": "stderr",
          "text": [
            "<ipython-input-6-f4736fe5bb4b>:2: FutureWarning:\n",
            "\n",
            "The default value of numeric_only in DataFrame.corr is deprecated. In a future version, it will default to False. Select only valid columns or specify the value of numeric_only to silence this warning.\n",
            "\n"
          ]
        },
        {
          "output_type": "display_data",
          "data": {
            "text/plain": [
              "<Figure size 1000x800 with 2 Axes>"
            ],
            "image/png": "[encoded data removed]"
          },
          "metadata": {}
        }
      ]
    },
    {
      "cell_type": "code",
      "source": [
        "# Define X and y matrix :)\n",
        "X = df[['maxtempC', 'humidity', 'winddirDegree', 'windspeedKmph', 'cloudcover']] # Features\n",
        "y = df['Ozone(ppm)']  # Target"
      ],
      "metadata": {
        "id": "AkrioJ9e_i6I"
      },
      "execution_count": 7,
      "outputs": []
    },
    {
      "cell_type": "code",
      "source": [
        "# Feature selection\n",
        "from sklearn.ensemble import ExtraTreesRegressor\n",
        "import matplotlib.pyplot as plt\n",
        "model = ExtraTreesRegressor()\n",
        "model.fit(X,y)"
      ],
      "metadata": {
        "colab": {
          "base_uri": "https://localhost:8080/",
          "height": 74
        },
        "id": "XnJbywTKAtDo",
        "outputId": "d623535b-18e5-45af-e92a-389bfb830892"
      },
      "execution_count": 8,
      "outputs": [
        {
          "output_type": "execute_result",
          "data": {
            "text/plain": [
              "ExtraTreesRegressor()"
            ],
            "text/html": [
              "<style>#sk-container-id-1 {color: black;background-color: white;}#sk-container-id-1 pre{padding: 0;}#sk-container-id-1 div.sk-toggleable {background-color: white;}#sk-container-id-1 label.sk-toggleable__label {cursor: pointer;display: block;width: 100%;margin-bottom: 0;padding: 0.3em;box-sizing: border-box;text-align: center;}#sk-container-id-1 label.sk-toggleable__label-arrow:before {content: \"▸\";float: left;margin-right: 0.25em;color: #696969;}#sk-container-id-1 label.sk-toggleable__label-arrow:hover:before {color: black;}#sk-container-id-1 div.sk-estimator:hover label.sk-toggleable__label-arrow:before {color: black;}#sk-container-id-1 div.sk-toggleable__content {max-height: 0;max-width: 0;overflow: hidden;text-align: left;background-color: #f0f8ff;}#sk-container-id-1 div.sk-toggleable__content pre {margin: 0.2em;color: black;border-radius: 0.25em;background-color: #f0f8ff;}#sk-container-id-1 input.sk-toggleable__control:checked~div.sk-toggleable__content {max-height: 200px;max-width: 100%;overflow: auto;}#sk-container-id-1 input.sk-toggleable__control:checked~label.sk-toggleable__label-arrow:before {content: \"▾\";}#sk-container-id-1 div.sk-estimator input.sk-toggleable__control:checked~label.sk-toggleable__label {background-color: #d4ebff;}#sk-container-id-1 div.sk-label input.sk-toggleable__control:checked~label.sk-toggleable__label {background-color: #d4ebff;}#sk-container-id-1 input.sk-hidden--visually {border: 0;clip: rect(1px 1px 1px 1px);clip: rect(1px, 1px, 1px, 1px);height: 1px;margin: -1px;overflow: hidden;padding: 0;position: absolute;width: 1px;}#sk-container-id-1 div.sk-estimator {font-family: monospace;background-color: #f0f8ff;border: 1px dotted black;border-radius: 0.25em;box-sizing: border-box;margin-bottom: 0.5em;}#sk-container-id-1 div.sk-estimator:hover {background-color: #d4ebff;}#sk-container-id-1 div.sk-parallel-item::after {content: \"\";width: 100%;border-bottom: 1px solid gray;flex-grow: 1;}#sk-container-id-1 div.sk-label:hover label.sk-toggleable__label {background-color: #d4ebff;}#sk-container-id-1 div.sk-serial::before {content: \"\";position: absolute;border-left: 1px solid gray;box-sizing: border-box;top: 0;bottom: 0;left: 50%;z-index: 0;}#sk-container-id-1 div.sk-serial {display: flex;flex-direction: column;align-items: center;background-color: white;padding-right: 0.2em;padding-left: 0.2em;position: relative;}#sk-container-id-1 div.sk-item {position: relative;z-index: 1;}#sk-container-id-1 div.sk-parallel {display: flex;align-items: stretch;justify-content: center;background-color: white;position: relative;}#sk-container-id-1 div.sk-item::before, #sk-container-id-1 div.sk-parallel-item::before {content: \"\";position: absolute;border-left: 1px solid gray;box-sizing: border-box;top: 0;bottom: 0;left: 50%;z-index: -1;}#sk-container-id-1 div.sk-parallel-item {display: flex;flex-direction: column;z-index: 1;position: relative;background-color: white;}#sk-container-id-1 div.sk-parallel-item:first-child::after {align-self: flex-end;width: 50%;}#sk-container-id-1 div.sk-parallel-item:last-child::after {align-self: flex-start;width: 50%;}#sk-container-id-1 div.sk-parallel-item:only-child::after {width: 0;}#sk-container-id-1 div.sk-dashed-wrapped {border: 1px dashed gray;margin: 0 0.4em 0.5em 0.4em;box-sizing: border-box;padding-bottom: 0.4em;background-color: white;}#sk-container-id-1 div.sk-label label {font-family: monospace;font-weight: bold;display: inline-block;line-height: 1.2em;}#sk-container-id-1 div.sk-label-container {text-align: center;}#sk-container-id-1 div.sk-container {/* jupyter's `normalize.less` sets `[hidden] { display: none; }` but bootstrap.min.css set `[hidden] { display: none !important; }` so we also need the `!important` here to be able to override the default hidden behavior on the sphinx rendered scikit-learn.org. See: https://github.com/scikit-learn/scikit-learn/issues/21755 */display: inline-block !important;position: relative;}#sk-container-id-1 div.sk-text-repr-fallback {display: none;}</style><div id=\"sk-container-id-1\" class=\"sk-top-container\"><div class=\"sk-text-repr-fallback\"><pre>ExtraTreesRegressor()</pre><b>In a Jupyter environment, please rerun this cell to show the HTML representation or trust the notebook. <br />On GitHub, the HTML representation is unable to render, please try loading this page with nbviewer.org.</b></div><div class=\"sk-container\" hidden><div class=\"sk-item\"><div class=\"sk-estimator sk-toggleable\"><input class=\"sk-toggleable__control sk-hidden--visually\" id=\"sk-estimator-id-1\" type=\"checkbox\" checked><label for=\"sk-estimator-id-1\" class=\"sk-toggleable__label sk-toggleable__label-arrow\">ExtraTreesRegressor</label><div class=\"sk-toggleable__content\"><pre>ExtraTreesRegressor()</pre></div></div></div></div></div>"
            ]
          },
          "metadata": {},
          "execution_count": 8
        }
      ]
    },
    {
      "cell_type": "code",
      "source": [
        "X.head()"
      ],
      "metadata": {
        "colab": {
          "base_uri": "https://localhost:8080/",
          "height": 204
        },
        "id": "noW8X40rAtGF",
        "outputId": "f7d94464-e6c1-4d5e-d082-d4d80abbf652"
      },
      "execution_count": 9,
      "outputs": [
        {
          "output_type": "execute_result",
          "data": {
            "text/plain": [
              "   maxtempC  humidity  winddirDegree  windspeedKmph  cloudcover\n",
              "0         8        70             59             22          58\n",
              "1         8        68            123              9          90\n",
              "2        15        74            230             10          36\n",
              "3        11        72            129             13          57\n",
              "4        12        82             78             12          59"
            ],
            "text/html": [
              "\n",
              "  <div id=\"df-fbd7c28a-4925-4775-8c4d-120fc156afee\" class=\"colab-df-container\">\n",
              "    <div>\n",
              "<style scoped>\n",
              "    .dataframe tbody tr th:only-of-type {\n",
              "        vertical-align: middle;\n",
              "    }\n",
              "\n",
              "    .dataframe tbody tr th {\n",
              "        vertical-align: top;\n",
              "    }\n",
              "\n",
              "    .dataframe thead th {\n",
              "        text-align: right;\n",
              "    }\n",
              "</style>\n",
              "<table border=\"1\" class=\"dataframe\">\n",
              "  <thead>\n",
              "    <tr style=\"text-align: right;\">\n",
              "      <th></th>\n",
              "      <th>maxtempC</th>\n",
              "      <th>humidity</th>\n",
              "      <th>winddirDegree</th>\n",
              "      <th>windspeedKmph</th>\n",
              "      <th>cloudcover</th>\n",
              "    </tr>\n",
              "  </thead>\n",
              "  <tbody>\n",
              "    <tr>\n",
              "      <th>0</th>\n",
              "      <td>8</td>\n",
              "      <td>70</td>\n",
              "      <td>59</td>\n",
              "      <td>22</td>\n",
              "      <td>58</td>\n",
              "    </tr>\n",
              "    <tr>\n",
              "      <th>1</th>\n",
              "      <td>8</td>\n",
              "      <td>68</td>\n",
              "      <td>123</td>\n",
              "      <td>9</td>\n",
              "      <td>90</td>\n",
              "    </tr>\n",
              "    <tr>\n",
              "      <th>2</th>\n",
              "      <td>15</td>\n",
              "      <td>74</td>\n",
              "      <td>230</td>\n",
              "      <td>10</td>\n",
              "      <td>36</td>\n",
              "    </tr>\n",
              "    <tr>\n",
              "      <th>3</th>\n",
              "      <td>11</td>\n",
              "      <td>72</td>\n",
              "      <td>129</td>\n",
              "      <td>13</td>\n",
              "      <td>57</td>\n",
              "    </tr>\n",
              "    <tr>\n",
              "      <th>4</th>\n",
              "      <td>12</td>\n",
              "      <td>82</td>\n",
              "      <td>78</td>\n",
              "      <td>12</td>\n",
              "      <td>59</td>\n",
              "    </tr>\n",
              "  </tbody>\n",
              "</table>\n",
              "</div>\n",
              "    <div class=\"colab-df-buttons\">\n",
              "\n",
              "  <div class=\"colab-df-container\">\n",
              "    <button class=\"colab-df-convert\" onclick=\"convertToInteractive('df-fbd7c28a-4925-4775-8c4d-120fc156afee')\"\n",
              "            title=\"Convert this dataframe to an interactive table.\"\n",
              "            style=\"display:none;\">\n",
              "\n",
              "  <svg xmlns=\"http://www.w3.org/2000/svg\" height=\"24px\" viewBox=\"0 -960 960 960\">\n",
              "    <path d=\"M120-120v-720h720v720H120Zm60-500h600v-160H180v160Zm220 220h160v-160H400v160Zm0 220h160v-160H400v160ZM180-400h160v-160H180v160Zm440 0h160v-160H620v160ZM180-180h160v-160H180v160Zm440 0h160v-160H620v160Z\"/>\n",
              "  </svg>\n",
              "    </button>\n",
              "\n",
              "  <style>\n",
              "    .colab-df-container {\n",
              "      display:flex;\n",
              "      gap: 12px;\n",
              "    }\n",
              "\n",
              "    .colab-df-convert {\n",
              "      background-color: #E8F0FE;\n",
              "      border: none;\n",
              "      border-radius: 50%;\n",
              "      cursor: pointer;\n",
              "      display: none;\n",
              "      fill: #1967D2;\n",
              "      height: 32px;\n",
              "      padding: 0 0 0 0;\n",
              "      width: 32px;\n",
              "    }\n",
              "\n",
              "    .colab-df-convert:hover {\n",
              "      background-color: #E2EBFA;\n",
              "      box-shadow: 0px 1px 2px rgba(60, 64, 67, 0.3), 0px 1px 3px 1px rgba(60, 64, 67, 0.15);\n",
              "      fill: #174EA6;\n",
              "    }\n",
              "\n",
              "    .colab-df-buttons div {\n",
              "      margin-bottom: 4px;\n",
              "    }\n",
              "\n",
              "    [theme=dark] .colab-df-convert {\n",
              "      background-color: #3B4455;\n",
              "      fill: #D2E3FC;\n",
              "    }\n",
              "\n",
              "    [theme=dark] .colab-df-convert:hover {\n",
              "      background-color: #434B5C;\n",
              "      box-shadow: 0px 1px 3px 1px rgba(0, 0, 0, 0.15);\n",
              "      filter: drop-shadow(0px 1px 2px rgba(0, 0, 0, 0.3));\n",
              "      fill: #FFFFFF;\n",
              "    }\n",
              "  </style>\n",
              "\n",
              "    <script>\n",
              "      const buttonEl =\n",
              "        document.querySelector('#df-fbd7c28a-4925-4775-8c4d-120fc156afee button.colab-df-convert');\n",
              "      buttonEl.style.display =\n",
              "        google.colab.kernel.accessAllowed ? 'block' : 'none';\n",
              "\n",
              "      async function convertToInteractive(key) {\n",
              "        const element = document.querySelector('#df-fbd7c28a-4925-4775-8c4d-120fc156afee');\n",
              "        const dataTable =\n",
              "          await google.colab.kernel.invokeFunction('convertToInteractive',\n",
              "                                                    [key], {});\n",
              "        if (!dataTable) return;\n",
              "\n",
              "        const docLinkHtml = 'Like what you see? Visit the ' +\n",
              "          '<a target=\"_blank\" href=https://colab.research.google.com/notebooks/data_table.ipynb>data table notebook</a>'\n",
              "          + ' to learn more about interactive tables.';\n",
              "        element.innerHTML = '';\n",
              "        dataTable['output_type'] = 'display_data';\n",
              "        await google.colab.output.renderOutput(dataTable, element);\n",
              "        const docLink = document.createElement('div');\n",
              "        docLink.innerHTML = docLinkHtml;\n",
              "        element.appendChild(docLink);\n",
              "      }\n",
              "    </script>\n",
              "  </div>\n",
              "\n",
              "\n",
              "<div id=\"df-33593d37-c910-441b-8ddd-db973a9e8aea\">\n",
              "  <button class=\"colab-df-quickchart\" onclick=\"quickchart('df-33593d37-c910-441b-8ddd-db973a9e8aea')\"\n",
              "            title=\"Suggest charts.\"\n",
              "            style=\"display:none;\">\n",
              "\n",
              "<svg xmlns=\"http://www.w3.org/2000/svg\" height=\"24px\"viewBox=\"0 0 24 24\"\n",
              "     width=\"24px\">\n",
              "    <g>\n",
              "        <path d=\"M19 3H5c-1.1 0-2 .9-2 2v14c0 1.1.9 2 2 2h14c1.1 0 2-.9 2-2V5c0-1.1-.9-2-2-2zM9 17H7v-7h2v7zm4 0h-2V7h2v10zm4 0h-2v-4h2v4z\"/>\n",
              "    </g>\n",
              "</svg>\n",
              "  </button>\n",
              "\n",
              "<style>\n",
              "  .colab-df-quickchart {\n",
              "      --bg-color: #E8F0FE;\n",
              "      --fill-color: #1967D2;\n",
              "      --hover-bg-color: #E2EBFA;\n",
              "      --hover-fill-color: #174EA6;\n",
              "      --disabled-fill-color: #AAA;\n",
              "      --disabled-bg-color: #DDD;\n",
              "  }\n",
              "\n",
              "  [theme=dark] .colab-df-quickchart {\n",
              "      --bg-color: #3B4455;\n",
              "      --fill-color: #D2E3FC;\n",
              "      --hover-bg-color: #434B5C;\n",
              "      --hover-fill-color: #FFFFFF;\n",
              "      --disabled-bg-color: #3B4455;\n",
              "      --disabled-fill-color: #666;\n",
              "  }\n",
              "\n",
              "  .colab-df-quickchart {\n",
              "    background-color: var(--bg-color);\n",
              "    border: none;\n",
              "    border-radius: 50%;\n",
              "    cursor: pointer;\n",
              "    display: none;\n",
              "    fill: var(--fill-color);\n",
              "    height: 32px;\n",
              "    padding: 0;\n",
              "    width: 32px;\n",
              "  }\n",
              "\n",
              "  .colab-df-quickchart:hover {\n",
              "    background-color: var(--hover-bg-color);\n",
              "    box-shadow: 0 1px 2px rgba(60, 64, 67, 0.3), 0 1px 3px 1px rgba(60, 64, 67, 0.15);\n",
              "    fill: var(--button-hover-fill-color);\n",
              "  }\n",
              "\n",
              "  .colab-df-quickchart-complete:disabled,\n",
              "  .colab-df-quickchart-complete:disabled:hover {\n",
              "    background-color: var(--disabled-bg-color);\n",
              "    fill: var(--disabled-fill-color);\n",
              "    box-shadow: none;\n",
              "  }\n",
              "\n",
              "  .colab-df-spinner {\n",
              "    border: 2px solid var(--fill-color);\n",
              "    border-color: transparent;\n",
              "    border-bottom-color: var(--fill-color);\n",
              "    animation:\n",
              "      spin 1s steps(1) infinite;\n",
              "  }\n",
              "\n",
              "  @keyframes spin {\n",
              "    0% {\n",
              "      border-color: transparent;\n",
              "      border-bottom-color: var(--fill-color);\n",
              "      border-left-color: var(--fill-color);\n",
              "    }\n",
              "    20% {\n",
              "      border-color: transparent;\n",
              "      border-left-color: var(--fill-color);\n",
              "      border-top-color: var(--fill-color);\n",
              "    }\n",
              "    30% {\n",
              "      border-color: transparent;\n",
              "      border-left-color: var(--fill-color);\n",
              "      border-top-color: var(--fill-color);\n",
              "      border-right-color: var(--fill-color);\n",
              "    }\n",
              "    40% {\n",
              "      border-color: transparent;\n",
              "      border-right-color: var(--fill-color);\n",
              "      border-top-color: var(--fill-color);\n",
              "    }\n",
              "    60% {\n",
              "      border-color: transparent;\n",
              "      border-right-color: var(--fill-color);\n",
              "    }\n",
              "    80% {\n",
              "      border-color: transparent;\n",
              "      border-right-color: var(--fill-color);\n",
              "      border-bottom-color: var(--fill-color);\n",
              "    }\n",
              "    90% {\n",
              "      border-color: transparent;\n",
              "      border-bottom-color: var(--fill-color);\n",
              "    }\n",
              "  }\n",
              "</style>\n",
              "\n",
              "  <script>\n",
              "    async function quickchart(key) {\n",
              "      const quickchartButtonEl =\n",
              "        document.querySelector('#' + key + ' button');\n",
              "      quickchartButtonEl.disabled = true;  // To prevent multiple clicks.\n",
              "      quickchartButtonEl.classList.add('colab-df-spinner');\n",
              "      try {\n",
              "        const charts = await google.colab.kernel.invokeFunction(\n",
              "            'suggestCharts', [key], {});\n",
              "      } catch (error) {\n",
              "        console.error('Error during call to suggestCharts:', error);\n",
              "      }\n",
              "      quickchartButtonEl.classList.remove('colab-df-spinner');\n",
              "      quickchartButtonEl.classList.add('colab-df-quickchart-complete');\n",
              "    }\n",
              "    (() => {\n",
              "      let quickchartButtonEl =\n",
              "        document.querySelector('#df-33593d37-c910-441b-8ddd-db973a9e8aea button');\n",
              "      quickchartButtonEl.style.display =\n",
              "        google.colab.kernel.accessAllowed ? 'block' : 'none';\n",
              "    })();\n",
              "  </script>\n",
              "</div>\n",
              "    </div>\n",
              "  </div>\n"
            ]
          },
          "metadata": {},
          "execution_count": 9
        }
      ]
    },
    {
      "cell_type": "code",
      "source": [
        "y.head()"
      ],
      "metadata": {
        "colab": {
          "base_uri": "https://localhost:8080/"
        },
        "id": "8v_ZAb_SAtIR",
        "outputId": "c9a1bbf9-b7b5-4d96-de03-6dbea2ad19ea"
      },
      "execution_count": 10,
      "outputs": [
        {
          "output_type": "execute_result",
          "data": {
            "text/plain": [
              "0    3.1542\n",
              "1    2.5435\n",
              "2    2.7647\n",
              "3    2.8542\n",
              "4    2.7706\n",
              "Name: Ozone(ppm), dtype: float64"
            ]
          },
          "metadata": {},
          "execution_count": 10
        }
      ]
    },
    {
      "cell_type": "code",
      "source": [
        "sns.distplot(y,color='blue')   # Distribution of O3"
      ],
      "metadata": {
        "colab": {
          "base_uri": "https://localhost:8080/",
          "height": 687
        },
        "id": "jfV2HGLzA8fI",
        "outputId": "eb4f356c-bdc8-4c51-9cc3-8a248d1925d8"
      },
      "execution_count": 11,
      "outputs": [
        {
          "output_type": "stream",
          "name": "stderr",
          "text": [
            "<ipython-input-11-818b6c79981d>:1: UserWarning:\n",
            "\n",
            "\n",
            "\n",
            "`distplot` is a deprecated function and will be removed in seaborn v0.14.0.\n",
            "\n",
            "Please adapt your code to use either `displot` (a figure-level function with\n",
            "similar flexibility) or `histplot` (an axes-level function for histograms).\n",
            "\n",
            "For a guide to updating your code to use the new functions, please see\n",
            "https://gist.github.com/mwaskom/de44147ed2974457ad6372750bbe5751\n",
            "\n",
            "\n"
          ]
        },
        {
          "output_type": "execute_result",
          "data": {
            "text/plain": [
              "<Axes: xlabel='Ozone(ppm)', ylabel='Density'>"
            ]
          },
          "metadata": {},
          "execution_count": 11
        },
        {
          "output_type": "display_data",
          "data": {
            "text/plain": [
              "<Figure size 640x480 with 1 Axes>"
            ],
            "image/png": "[encoded data removed]"
          },
          "metadata": {}
        }
      ]
    },
    {
      "cell_type": "markdown",
      "source": [
        "# 1. Linear Regression"
      ],
      "metadata": {
        "id": "NeXKynGyBKh2"
      }
    },
    {
      "cell_type": "code",
      "source": [
        "from sklearn.model_selection import train_test_split\n",
        "from sklearn.linear_model import LinearRegression\n",
        "from sklearn.preprocessing import StandardScaler\n",
        "from sklearn.pipeline import make_pipeline\n",
        "from sklearn import metrics"
      ],
      "metadata": {
        "id": "GoUklUcJBPas"
      },
      "execution_count": 12,
      "outputs": []
    },
    {
      "cell_type": "code",
      "source": [
        "# selecting all features to begin with\n",
        "X = df[['avgtempC', 'winddirDegree', 'windspeedKmph', 'cloudcover', 'humidity', 'precipInches', 'pressure', 'visibility', 'maxtempC', 'mintempC', 'sunHour']]\n",
        "y = df['Ozone(ppm)']  ## dependent features"
      ],
      "metadata": {
        "id": "F6OpLv1DBSXs"
      },
      "execution_count": 13,
      "outputs": []
    },
    {
      "cell_type": "code",
      "source": [
        "model = LinearRegression()\n",
        "model.fit(X,y)"
      ],
      "metadata": {
        "colab": {
          "base_uri": "https://localhost:8080/",
          "height": 74
        },
        "id": "8jHG9V3vBSap",
        "outputId": "bd095655-8ea3-4855-b389-b9e30cc967c2"
      },
      "execution_count": 14,
      "outputs": [
        {
          "output_type": "execute_result",
          "data": {
            "text/plain": [
              "LinearRegression()"
            ],
            "text/html": [
              "<style>#sk-container-id-2 {color: black;background-color: white;}#sk-container-id-2 pre{padding: 0;}#sk-container-id-2 div.sk-toggleable {background-color: white;}#sk-container-id-2 label.sk-toggleable__label {cursor: pointer;display: block;width: 100%;margin-bottom: 0;padding: 0.3em;box-sizing: border-box;text-align: center;}#sk-container-id-2 label.sk-toggleable__label-arrow:before {content: \"▸\";float: left;margin-right: 0.25em;color: #696969;}#sk-container-id-2 label.sk-toggleable__label-arrow:hover:before {color: black;}#sk-container-id-2 div.sk-estimator:hover label.sk-toggleable__label-arrow:before {color: black;}#sk-container-id-2 div.sk-toggleable__content {max-height: 0;max-width: 0;overflow: hidden;text-align: left;background-color: #f0f8ff;}#sk-container-id-2 div.sk-toggleable__content pre {margin: 0.2em;color: black;border-radius: 0.25em;background-color: #f0f8ff;}#sk-container-id-2 input.sk-toggleable__control:checked~div.sk-toggleable__content {max-height: 200px;max-width: 100%;overflow: auto;}#sk-container-id-2 input.sk-toggleable__control:checked~label.sk-toggleable__label-arrow:before {content: \"▾\";}#sk-container-id-2 div.sk-estimator input.sk-toggleable__control:checked~label.sk-toggleable__label {background-color: #d4ebff;}#sk-container-id-2 div.sk-label input.sk-toggleable__control:checked~label.sk-toggleable__label {background-color: #d4ebff;}#sk-container-id-2 input.sk-hidden--visually {border: 0;clip: rect(1px 1px 1px 1px);clip: rect(1px, 1px, 1px, 1px);height: 1px;margin: -1px;overflow: hidden;padding: 0;position: absolute;width: 1px;}#sk-container-id-2 div.sk-estimator {font-family: monospace;background-color: #f0f8ff;border: 1px dotted black;border-radius: 0.25em;box-sizing: border-box;margin-bottom: 0.5em;}#sk-container-id-2 div.sk-estimator:hover {background-color: #d4ebff;}#sk-container-id-2 div.sk-parallel-item::after {content: \"\";width: 100%;border-bottom: 1px solid gray;flex-grow: 1;}#sk-container-id-2 div.sk-label:hover label.sk-toggleable__label {background-color: #d4ebff;}#sk-container-id-2 div.sk-serial::before {content: \"\";position: absolute;border-left: 1px solid gray;box-sizing: border-box;top: 0;bottom: 0;left: 50%;z-index: 0;}#sk-container-id-2 div.sk-serial {display: flex;flex-direction: column;align-items: center;background-color: white;padding-right: 0.2em;padding-left: 0.2em;position: relative;}#sk-container-id-2 div.sk-item {position: relative;z-index: 1;}#sk-container-id-2 div.sk-parallel {display: flex;align-items: stretch;justify-content: center;background-color: white;position: relative;}#sk-container-id-2 div.sk-item::before, #sk-container-id-2 div.sk-parallel-item::before {content: \"\";position: absolute;border-left: 1px solid gray;box-sizing: border-box;top: 0;bottom: 0;left: 50%;z-index: -1;}#sk-container-id-2 div.sk-parallel-item {display: flex;flex-direction: column;z-index: 1;position: relative;background-color: white;}#sk-container-id-2 div.sk-parallel-item:first-child::after {align-self: flex-end;width: 50%;}#sk-container-id-2 div.sk-parallel-item:last-child::after {align-self: flex-start;width: 50%;}#sk-container-id-2 div.sk-parallel-item:only-child::after {width: 0;}#sk-container-id-2 div.sk-dashed-wrapped {border: 1px dashed gray;margin: 0 0.4em 0.5em 0.4em;box-sizing: border-box;padding-bottom: 0.4em;background-color: white;}#sk-container-id-2 div.sk-label label {font-family: monospace;font-weight: bold;display: inline-block;line-height: 1.2em;}#sk-container-id-2 div.sk-label-container {text-align: center;}#sk-container-id-2 div.sk-container {/* jupyter's `normalize.less` sets `[hidden] { display: none; }` but bootstrap.min.css set `[hidden] { display: none !important; }` so we also need the `!important` here to be able to override the default hidden behavior on the sphinx rendered scikit-learn.org. See: https://github.com/scikit-learn/scikit-learn/issues/21755 */display: inline-block !important;position: relative;}#sk-container-id-2 div.sk-text-repr-fallback {display: none;}</style><div id=\"sk-container-id-2\" class=\"sk-top-container\"><div class=\"sk-text-repr-fallback\"><pre>LinearRegression()</pre><b>In a Jupyter environment, please rerun this cell to show the HTML representation or trust the notebook. <br />On GitHub, the HTML representation is unable to render, please try loading this page with nbviewer.org.</b></div><div class=\"sk-container\" hidden><div class=\"sk-item\"><div class=\"sk-estimator sk-toggleable\"><input class=\"sk-toggleable__control sk-hidden--visually\" id=\"sk-estimator-id-2\" type=\"checkbox\" checked><label for=\"sk-estimator-id-2\" class=\"sk-toggleable__label sk-toggleable__label-arrow\">LinearRegression</label><div class=\"sk-toggleable__content\"><pre>LinearRegression()</pre></div></div></div></div></div>"
            ]
          },
          "metadata": {},
          "execution_count": 14
        }
      ]
    },
    {
      "cell_type": "code",
      "source": [
        "result = pd.DataFrame(list(zip(model.coef_, df.columns)), columns=['coefficient', 'name']).set_index('name')\n",
        "np.abs(result).sort_values('coefficient', ascending=False)"
      ],
      "metadata": {
        "colab": {
          "base_uri": "https://localhost:8080/",
          "height": 421
        },
        "id": "tN1hWS-NCDwY",
        "outputId": "021bb462-4763-496f-8fd3-5c2381bc2459"
      },
      "execution_count": 15,
      "outputs": [
        {
          "output_type": "execute_result",
          "data": {
            "text/plain": [
              "               coefficient\n",
              "name                      \n",
              "humidity          0.216766\n",
              "maxtempC          0.119058\n",
              "date              0.108015\n",
              "mintempC          0.059962\n",
              "precipInches      0.040299\n",
              "pressure          0.028422\n",
              "winddirDegree     0.015097\n",
              "cloudcover        0.013579\n",
              "visibility        0.013101\n",
              "windspeedKmph     0.007071\n",
              "avgtempC          0.002580"
            ],
            "text/html": [
              "\n",
              "  <div id=\"df-fc1c7cfc-8fc5-444c-968d-2876fc77bbc2\" class=\"colab-df-container\">\n",
              "    <div>\n",
              "<style scoped>\n",
              "    .dataframe tbody tr th:only-of-type {\n",
              "        vertical-align: middle;\n",
              "    }\n",
              "\n",
              "    .dataframe tbody tr th {\n",
              "        vertical-align: top;\n",
              "    }\n",
              "\n",
              "    .dataframe thead th {\n",
              "        text-align: right;\n",
              "    }\n",
              "</style>\n",
              "<table border=\"1\" class=\"dataframe\">\n",
              "  <thead>\n",
              "    <tr style=\"text-align: right;\">\n",
              "      <th></th>\n",
              "      <th>coefficient</th>\n",
              "    </tr>\n",
              "    <tr>\n",
              "      <th>name</th>\n",
              "      <th></th>\n",
              "    </tr>\n",
              "  </thead>\n",
              "  <tbody>\n",
              "    <tr>\n",
              "      <th>humidity</th>\n",
              "      <td>0.216766</td>\n",
              "    </tr>\n",
              "    <tr>\n",
              "      <th>maxtempC</th>\n",
              "      <td>0.119058</td>\n",
              "    </tr>\n",
              "    <tr>\n",
              "      <th>date</th>\n",
              "      <td>0.108015</td>\n",
              "    </tr>\n",
              "    <tr>\n",
              "      <th>mintempC</th>\n",
              "      <td>0.059962</td>\n",
              "    </tr>\n",
              "    <tr>\n",
              "      <th>precipInches</th>\n",
              "      <td>0.040299</td>\n",
              "    </tr>\n",
              "    <tr>\n",
              "      <th>pressure</th>\n",
              "      <td>0.028422</td>\n",
              "    </tr>\n",
              "    <tr>\n",
              "      <th>winddirDegree</th>\n",
              "      <td>0.015097</td>\n",
              "    </tr>\n",
              "    <tr>\n",
              "      <th>cloudcover</th>\n",
              "      <td>0.013579</td>\n",
              "    </tr>\n",
              "    <tr>\n",
              "      <th>visibility</th>\n",
              "      <td>0.013101</td>\n",
              "    </tr>\n",
              "    <tr>\n",
              "      <th>windspeedKmph</th>\n",
              "      <td>0.007071</td>\n",
              "    </tr>\n",
              "    <tr>\n",
              "      <th>avgtempC</th>\n",
              "      <td>0.002580</td>\n",
              "    </tr>\n",
              "  </tbody>\n",
              "</table>\n",
              "</div>\n",
              "    <div class=\"colab-df-buttons\">\n",
              "\n",
              "  <div class=\"colab-df-container\">\n",
              "    <button class=\"colab-df-convert\" onclick=\"convertToInteractive('df-fc1c7cfc-8fc5-444c-968d-2876fc77bbc2')\"\n",
              "            title=\"Convert this dataframe to an interactive table.\"\n",
              "            style=\"display:none;\">\n",
              "\n",
              "  <svg xmlns=\"http://www.w3.org/2000/svg\" height=\"24px\" viewBox=\"0 -960 960 960\">\n",
              "    <path d=\"M120-120v-720h720v720H120Zm60-500h600v-160H180v160Zm220 220h160v-160H400v160Zm0 220h160v-160H400v160ZM180-400h160v-160H180v160Zm440 0h160v-160H620v160ZM180-180h160v-160H180v160Zm440 0h160v-160H620v160Z\"/>\n",
              "  </svg>\n",
              "    </button>\n",
              "\n",
              "  <style>\n",
              "    .colab-df-container {\n",
              "      display:flex;\n",
              "      gap: 12px;\n",
              "    }\n",
              "\n",
              "    .colab-df-convert {\n",
              "      background-color: #E8F0FE;\n",
              "      border: none;\n",
              "      border-radius: 50%;\n",
              "      cursor: pointer;\n",
              "      display: none;\n",
              "      fill: #1967D2;\n",
              "      height: 32px;\n",
              "      padding: 0 0 0 0;\n",
              "      width: 32px;\n",
              "    }\n",
              "\n",
              "    .colab-df-convert:hover {\n",
              "      background-color: #E2EBFA;\n",
              "      box-shadow: 0px 1px 2px rgba(60, 64, 67, 0.3), 0px 1px 3px 1px rgba(60, 64, 67, 0.15);\n",
              "      fill: #174EA6;\n",
              "    }\n",
              "\n",
              "    .colab-df-buttons div {\n",
              "      margin-bottom: 4px;\n",
              "    }\n",
              "\n",
              "    [theme=dark] .colab-df-convert {\n",
              "      background-color: #3B4455;\n",
              "      fill: #D2E3FC;\n",
              "    }\n",
              "\n",
              "    [theme=dark] .colab-df-convert:hover {\n",
              "      background-color: #434B5C;\n",
              "      box-shadow: 0px 1px 3px 1px rgba(0, 0, 0, 0.15);\n",
              "      filter: drop-shadow(0px 1px 2px rgba(0, 0, 0, 0.3));\n",
              "      fill: #FFFFFF;\n",
              "    }\n",
              "  </style>\n",
              "\n",
              "    <script>\n",
              "      const buttonEl =\n",
              "        document.querySelector('#df-fc1c7cfc-8fc5-444c-968d-2876fc77bbc2 button.colab-df-convert');\n",
              "      buttonEl.style.display =\n",
              "        google.colab.kernel.accessAllowed ? 'block' : 'none';\n",
              "\n",
              "      async function convertToInteractive(key) {\n",
              "        const element = document.querySelector('#df-fc1c7cfc-8fc5-444c-968d-2876fc77bbc2');\n",
              "        const dataTable =\n",
              "          await google.colab.kernel.invokeFunction('convertToInteractive',\n",
              "                                                    [key], {});\n",
              "        if (!dataTable) return;\n",
              "\n",
              "        const docLinkHtml = 'Like what you see? Visit the ' +\n",
              "          '<a target=\"_blank\" href=https://colab.research.google.com/notebooks/data_table.ipynb>data table notebook</a>'\n",
              "          + ' to learn more about interactive tables.';\n",
              "        element.innerHTML = '';\n",
              "        dataTable['output_type'] = 'display_data';\n",
              "        await google.colab.output.renderOutput(dataTable, element);\n",
              "        const docLink = document.createElement('div');\n",
              "        docLink.innerHTML = docLinkHtml;\n",
              "        element.appendChild(docLink);\n",
              "      }\n",
              "    </script>\n",
              "  </div>\n",
              "\n",
              "\n",
              "<div id=\"df-8cdf0dfe-cffb-48af-9505-9ab7b4ca6ede\">\n",
              "  <button class=\"colab-df-quickchart\" onclick=\"quickchart('df-8cdf0dfe-cffb-48af-9505-9ab7b4ca6ede')\"\n",
              "            title=\"Suggest charts.\"\n",
              "            style=\"display:none;\">\n",
              "\n",
              "<svg xmlns=\"http://www.w3.org/2000/svg\" height=\"24px\"viewBox=\"0 0 24 24\"\n",
              "     width=\"24px\">\n",
              "    <g>\n",
              "        <path d=\"M19 3H5c-1.1 0-2 .9-2 2v14c0 1.1.9 2 2 2h14c1.1 0 2-.9 2-2V5c0-1.1-.9-2-2-2zM9 17H7v-7h2v7zm4 0h-2V7h2v10zm4 0h-2v-4h2v4z\"/>\n",
              "    </g>\n",
              "</svg>\n",
              "  </button>\n",
              "\n",
              "<style>\n",
              "  .colab-df-quickchart {\n",
              "      --bg-color: #E8F0FE;\n",
              "      --fill-color: #1967D2;\n",
              "      --hover-bg-color: #E2EBFA;\n",
              "      --hover-fill-color: #174EA6;\n",
              "      --disabled-fill-color: #AAA;\n",
              "      --disabled-bg-color: #DDD;\n",
              "  }\n",
              "\n",
              "  [theme=dark] .colab-df-quickchart {\n",
              "      --bg-color: #3B4455;\n",
              "      --fill-color: #D2E3FC;\n",
              "      --hover-bg-color: #434B5C;\n",
              "      --hover-fill-color: #FFFFFF;\n",
              "      --disabled-bg-color: #3B4455;\n",
              "      --disabled-fill-color: #666;\n",
              "  }\n",
              "\n",
              "  .colab-df-quickchart {\n",
              "    background-color: var(--bg-color);\n",
              "    border: none;\n",
              "    border-radius: 50%;\n",
              "    cursor: pointer;\n",
              "    display: none;\n",
              "    fill: var(--fill-color);\n",
              "    height: 32px;\n",
              "    padding: 0;\n",
              "    width: 32px;\n",
              "  }\n",
              "\n",
              "  .colab-df-quickchart:hover {\n",
              "    background-color: var(--hover-bg-color);\n",
              "    box-shadow: 0 1px 2px rgba(60, 64, 67, 0.3), 0 1px 3px 1px rgba(60, 64, 67, 0.15);\n",
              "    fill: var(--button-hover-fill-color);\n",
              "  }\n",
              "\n",
              "  .colab-df-quickchart-complete:disabled,\n",
              "  .colab-df-quickchart-complete:disabled:hover {\n",
              "    background-color: var(--disabled-bg-color);\n",
              "    fill: var(--disabled-fill-color);\n",
              "    box-shadow: none;\n",
              "  }\n",
              "\n",
              "  .colab-df-spinner {\n",
              "    border: 2px solid var(--fill-color);\n",
              "    border-color: transparent;\n",
              "    border-bottom-color: var(--fill-color);\n",
              "    animation:\n",
              "      spin 1s steps(1) infinite;\n",
              "  }\n",
              "\n",
              "  @keyframes spin {\n",
              "    0% {\n",
              "      border-color: transparent;\n",
              "      border-bottom-color: var(--fill-color);\n",
              "      border-left-color: var(--fill-color);\n",
              "    }\n",
              "    20% {\n",
              "      border-color: transparent;\n",
              "      border-left-color: var(--fill-color);\n",
              "      border-top-color: var(--fill-color);\n",
              "    }\n",
              "    30% {\n",
              "      border-color: transparent;\n",
              "      border-left-color: var(--fill-color);\n",
              "      border-top-color: var(--fill-color);\n",
              "      border-right-color: var(--fill-color);\n",
              "    }\n",
              "    40% {\n",
              "      border-color: transparent;\n",
              "      border-right-color: var(--fill-color);\n",
              "      border-top-color: var(--fill-color);\n",
              "    }\n",
              "    60% {\n",
              "      border-color: transparent;\n",
              "      border-right-color: var(--fill-color);\n",
              "    }\n",
              "    80% {\n",
              "      border-color: transparent;\n",
              "      border-right-color: var(--fill-color);\n",
              "      border-bottom-color: var(--fill-color);\n",
              "    }\n",
              "    90% {\n",
              "      border-color: transparent;\n",
              "      border-bottom-color: var(--fill-color);\n",
              "    }\n",
              "  }\n",
              "</style>\n",
              "\n",
              "  <script>\n",
              "    async function quickchart(key) {\n",
              "      const quickchartButtonEl =\n",
              "        document.querySelector('#' + key + ' button');\n",
              "      quickchartButtonEl.disabled = true;  // To prevent multiple clicks.\n",
              "      quickchartButtonEl.classList.add('colab-df-spinner');\n",
              "      try {\n",
              "        const charts = await google.colab.kernel.invokeFunction(\n",
              "            'suggestCharts', [key], {});\n",
              "      } catch (error) {\n",
              "        console.error('Error during call to suggestCharts:', error);\n",
              "      }\n",
              "      quickchartButtonEl.classList.remove('colab-df-spinner');\n",
              "      quickchartButtonEl.classList.add('colab-df-quickchart-complete');\n",
              "    }\n",
              "    (() => {\n",
              "      let quickchartButtonEl =\n",
              "        document.querySelector('#df-8cdf0dfe-cffb-48af-9505-9ab7b4ca6ede button');\n",
              "      quickchartButtonEl.style.display =\n",
              "        google.colab.kernel.accessAllowed ? 'block' : 'none';\n",
              "    })();\n",
              "  </script>\n",
              "</div>\n",
              "    </div>\n",
              "  </div>\n"
            ]
          },
          "metadata": {},
          "execution_count": 15
        }
      ]
    },
    {
      "cell_type": "code",
      "source": [
        "scaler = StandardScaler()\n",
        "stand_coef_linear_reg = make_pipeline(scaler, model)\n",
        "stand_coef_linear_reg.fit(X, y)"
      ],
      "metadata": {
        "colab": {
          "base_uri": "https://localhost:8080/",
          "height": 124
        },
        "id": "4Dh65BfCCDzI",
        "outputId": "430f78f8-119e-492a-9f1d-17033ee14426"
      },
      "execution_count": 16,
      "outputs": [
        {
          "output_type": "execute_result",
          "data": {
            "text/plain": [
              "Pipeline(steps=[('standardscaler', StandardScaler()),\n",
              "                ('linearregression', LinearRegression())])"
            ],
            "text/html": [
              "<style>#sk-container-id-3 {color: black;background-color: white;}#sk-container-id-3 pre{padding: 0;}#sk-container-id-3 div.sk-toggleable {background-color: white;}#sk-container-id-3 label.sk-toggleable__label {cursor: pointer;display: block;width: 100%;margin-bottom: 0;padding: 0.3em;box-sizing: border-box;text-align: center;}#sk-container-id-3 label.sk-toggleable__label-arrow:before {content: \"▸\";float: left;margin-right: 0.25em;color: #696969;}#sk-container-id-3 label.sk-toggleable__label-arrow:hover:before {color: black;}#sk-container-id-3 div.sk-estimator:hover label.sk-toggleable__label-arrow:before {color: black;}#sk-container-id-3 div.sk-toggleable__content {max-height: 0;max-width: 0;overflow: hidden;text-align: left;background-color: #f0f8ff;}#sk-container-id-3 div.sk-toggleable__content pre {margin: 0.2em;color: black;border-radius: 0.25em;background-color: #f0f8ff;}#sk-container-id-3 input.sk-toggleable__control:checked~div.sk-toggleable__content {max-height: 200px;max-width: 100%;overflow: auto;}#sk-container-id-3 input.sk-toggleable__control:checked~label.sk-toggleable__label-arrow:before {content: \"▾\";}#sk-container-id-3 div.sk-estimator input.sk-toggleable__control:checked~label.sk-toggleable__label {background-color: #d4ebff;}#sk-container-id-3 div.sk-label input.sk-toggleable__control:checked~label.sk-toggleable__label {background-color: #d4ebff;}#sk-container-id-3 input.sk-hidden--visually {border: 0;clip: rect(1px 1px 1px 1px);clip: rect(1px, 1px, 1px, 1px);height: 1px;margin: -1px;overflow: hidden;padding: 0;position: absolute;width: 1px;}#sk-container-id-3 div.sk-estimator {font-family: monospace;background-color: #f0f8ff;border: 1px dotted black;border-radius: 0.25em;box-sizing: border-box;margin-bottom: 0.5em;}#sk-container-id-3 div.sk-estimator:hover {background-color: #d4ebff;}#sk-container-id-3 div.sk-parallel-item::after {content: \"\";width: 100%;border-bottom: 1px solid gray;flex-grow: 1;}#sk-container-id-3 div.sk-label:hover label.sk-toggleable__label {background-color: #d4ebff;}#sk-container-id-3 div.sk-serial::before {content: \"\";position: absolute;border-left: 1px solid gray;box-sizing: border-box;top: 0;bottom: 0;left: 50%;z-index: 0;}#sk-container-id-3 div.sk-serial {display: flex;flex-direction: column;align-items: center;background-color: white;padding-right: 0.2em;padding-left: 0.2em;position: relative;}#sk-container-id-3 div.sk-item {position: relative;z-index: 1;}#sk-container-id-3 div.sk-parallel {display: flex;align-items: stretch;justify-content: center;background-color: white;position: relative;}#sk-container-id-3 div.sk-item::before, #sk-container-id-3 div.sk-parallel-item::before {content: \"\";position: absolute;border-left: 1px solid gray;box-sizing: border-box;top: 0;bottom: 0;left: 50%;z-index: -1;}#sk-container-id-3 div.sk-parallel-item {display: flex;flex-direction: column;z-index: 1;position: relative;background-color: white;}#sk-container-id-3 div.sk-parallel-item:first-child::after {align-self: flex-end;width: 50%;}#sk-container-id-3 div.sk-parallel-item:last-child::after {align-self: flex-start;width: 50%;}#sk-container-id-3 div.sk-parallel-item:only-child::after {width: 0;}#sk-container-id-3 div.sk-dashed-wrapped {border: 1px dashed gray;margin: 0 0.4em 0.5em 0.4em;box-sizing: border-box;padding-bottom: 0.4em;background-color: white;}#sk-container-id-3 div.sk-label label {font-family: monospace;font-weight: bold;display: inline-block;line-height: 1.2em;}#sk-container-id-3 div.sk-label-container {text-align: center;}#sk-container-id-3 div.sk-container {/* jupyter's `normalize.less` sets `[hidden] { display: none; }` but bootstrap.min.css set `[hidden] { display: none !important; }` so we also need the `!important` here to be able to override the default hidden behavior on the sphinx rendered scikit-learn.org. See: https://github.com/scikit-learn/scikit-learn/issues/21755 */display: inline-block !important;position: relative;}#sk-container-id-3 div.sk-text-repr-fallback {display: none;}</style><div id=\"sk-container-id-3\" class=\"sk-top-container\"><div class=\"sk-text-repr-fallback\"><pre>Pipeline(steps=[(&#x27;standardscaler&#x27;, StandardScaler()),\n",
              "                (&#x27;linearregression&#x27;, LinearRegression())])</pre><b>In a Jupyter environment, please rerun this cell to show the HTML representation or trust the notebook. <br />On GitHub, the HTML representation is unable to render, please try loading this page with nbviewer.org.</b></div><div class=\"sk-container\" hidden><div class=\"sk-item sk-dashed-wrapped\"><div class=\"sk-label-container\"><div class=\"sk-label sk-toggleable\"><input class=\"sk-toggleable__control sk-hidden--visually\" id=\"sk-estimator-id-3\" type=\"checkbox\" ><label for=\"sk-estimator-id-3\" class=\"sk-toggleable__label sk-toggleable__label-arrow\">Pipeline</label><div class=\"sk-toggleable__content\"><pre>Pipeline(steps=[(&#x27;standardscaler&#x27;, StandardScaler()),\n",
              "                (&#x27;linearregression&#x27;, LinearRegression())])</pre></div></div></div><div class=\"sk-serial\"><div class=\"sk-item\"><div class=\"sk-estimator sk-toggleable\"><input class=\"sk-toggleable__control sk-hidden--visually\" id=\"sk-estimator-id-4\" type=\"checkbox\" ><label for=\"sk-estimator-id-4\" class=\"sk-toggleable__label sk-toggleable__label-arrow\">StandardScaler</label><div class=\"sk-toggleable__content\"><pre>StandardScaler()</pre></div></div></div><div class=\"sk-item\"><div class=\"sk-estimator sk-toggleable\"><input class=\"sk-toggleable__control sk-hidden--visually\" id=\"sk-estimator-id-5\" type=\"checkbox\" ><label for=\"sk-estimator-id-5\" class=\"sk-toggleable__label sk-toggleable__label-arrow\">LinearRegression</label><div class=\"sk-toggleable__content\"><pre>LinearRegression()</pre></div></div></div></div></div></div></div>"
            ]
          },
          "metadata": {},
          "execution_count": 16
        }
      ]
    },
    {
      "cell_type": "code",
      "source": [
        "# standardizing the variables so that the values are converted to lie between -3 and +3\n",
        "result = pd.DataFrame(list(zip(stand_coef_linear_reg.steps[1][1].coef_, df.columns)),\n",
        "                     columns=['coefficient', 'name']).set_index('name')\n",
        "np.abs(result).sort_values('coefficient', ascending=False)"
      ],
      "metadata": {
        "colab": {
          "base_uri": "https://localhost:8080/",
          "height": 421
        },
        "id": "ptfdXyFmCD1p",
        "outputId": "cc8611df-ed65-48f6-c8c9-a89dde0b0f5f"
      },
      "execution_count": 17,
      "outputs": [
        {
          "output_type": "execute_result",
          "data": {
            "text/plain": [
              "               coefficient\n",
              "name                      \n",
              "maxtempC          0.883600\n",
              "date              0.831847\n",
              "precipInches      0.226644\n",
              "windspeedKmph     0.203407\n",
              "cloudcover        0.188660\n",
              "mintempC          0.173024\n",
              "avgtempC          0.163224\n",
              "visibility        0.107339\n",
              "winddirDegree     0.076599\n",
              "humidity          0.043230\n",
              "pressure          0.043152"
            ],
            "text/html": [
              "\n",
              "  <div id=\"df-80f59f0e-a4bf-42a1-a44e-4d8e0dc6b58b\" class=\"colab-df-container\">\n",
              "    <div>\n",
              "<style scoped>\n",
              "    .dataframe tbody tr th:only-of-type {\n",
              "        vertical-align: middle;\n",
              "    }\n",
              "\n",
              "    .dataframe tbody tr th {\n",
              "        vertical-align: top;\n",
              "    }\n",
              "\n",
              "    .dataframe thead th {\n",
              "        text-align: right;\n",
              "    }\n",
              "</style>\n",
              "<table border=\"1\" class=\"dataframe\">\n",
              "  <thead>\n",
              "    <tr style=\"text-align: right;\">\n",
              "      <th></th>\n",
              "      <th>coefficient</th>\n",
              "    </tr>\n",
              "    <tr>\n",
              "      <th>name</th>\n",
              "      <th></th>\n",
              "    </tr>\n",
              "  </thead>\n",
              "  <tbody>\n",
              "    <tr>\n",
              "      <th>maxtempC</th>\n",
              "      <td>0.883600</td>\n",
              "    </tr>\n",
              "    <tr>\n",
              "      <th>date</th>\n",
              "      <td>0.831847</td>\n",
              "    </tr>\n",
              "    <tr>\n",
              "      <th>precipInches</th>\n",
              "      <td>0.226644</td>\n",
              "    </tr>\n",
              "    <tr>\n",
              "      <th>windspeedKmph</th>\n",
              "      <td>0.203407</td>\n",
              "    </tr>\n",
              "    <tr>\n",
              "      <th>cloudcover</th>\n",
              "      <td>0.188660</td>\n",
              "    </tr>\n",
              "    <tr>\n",
              "      <th>mintempC</th>\n",
              "      <td>0.173024</td>\n",
              "    </tr>\n",
              "    <tr>\n",
              "      <th>avgtempC</th>\n",
              "      <td>0.163224</td>\n",
              "    </tr>\n",
              "    <tr>\n",
              "      <th>visibility</th>\n",
              "      <td>0.107339</td>\n",
              "    </tr>\n",
              "    <tr>\n",
              "      <th>winddirDegree</th>\n",
              "      <td>0.076599</td>\n",
              "    </tr>\n",
              "    <tr>\n",
              "      <th>humidity</th>\n",
              "      <td>0.043230</td>\n",
              "    </tr>\n",
              "    <tr>\n",
              "      <th>pressure</th>\n",
              "      <td>0.043152</td>\n",
              "    </tr>\n",
              "  </tbody>\n",
              "</table>\n",
              "</div>\n",
              "    <div class=\"colab-df-buttons\">\n",
              "\n",
              "  <div class=\"colab-df-container\">\n",
              "    <button class=\"colab-df-convert\" onclick=\"convertToInteractive('df-80f59f0e-a4bf-42a1-a44e-4d8e0dc6b58b')\"\n",
              "            title=\"Convert this dataframe to an interactive table.\"\n",
              "            style=\"display:none;\">\n",
              "\n",
              "  <svg xmlns=\"http://www.w3.org/2000/svg\" height=\"24px\" viewBox=\"0 -960 960 960\">\n",
              "    <path d=\"M120-120v-720h720v720H120Zm60-500h600v-160H180v160Zm220 220h160v-160H400v160Zm0 220h160v-160H400v160ZM180-400h160v-160H180v160Zm440 0h160v-160H620v160ZM180-180h160v-160H180v160Zm440 0h160v-160H620v160Z\"/>\n",
              "  </svg>\n",
              "    </button>\n",
              "\n",
              "  <style>\n",
              "    .colab-df-container {\n",
              "      display:flex;\n",
              "      gap: 12px;\n",
              "    }\n",
              "\n",
              "    .colab-df-convert {\n",
              "      background-color: #E8F0FE;\n",
              "      border: none;\n",
              "      border-radius: 50%;\n",
              "      cursor: pointer;\n",
              "      display: none;\n",
              "      fill: #1967D2;\n",
              "      height: 32px;\n",
              "      padding: 0 0 0 0;\n",
              "      width: 32px;\n",
              "    }\n",
              "\n",
              "    .colab-df-convert:hover {\n",
              "      background-color: #E2EBFA;\n",
              "      box-shadow: 0px 1px 2px rgba(60, 64, 67, 0.3), 0px 1px 3px 1px rgba(60, 64, 67, 0.15);\n",
              "      fill: #174EA6;\n",
              "    }\n",
              "\n",
              "    .colab-df-buttons div {\n",
              "      margin-bottom: 4px;\n",
              "    }\n",
              "\n",
              "    [theme=dark] .colab-df-convert {\n",
              "      background-color: #3B4455;\n",
              "      fill: #D2E3FC;\n",
              "    }\n",
              "\n",
              "    [theme=dark] .colab-df-convert:hover {\n",
              "      background-color: #434B5C;\n",
              "      box-shadow: 0px 1px 3px 1px rgba(0, 0, 0, 0.15);\n",
              "      filter: drop-shadow(0px 1px 2px rgba(0, 0, 0, 0.3));\n",
              "      fill: #FFFFFF;\n",
              "    }\n",
              "  </style>\n",
              "\n",
              "    <script>\n",
              "      const buttonEl =\n",
              "        document.querySelector('#df-80f59f0e-a4bf-42a1-a44e-4d8e0dc6b58b button.colab-df-convert');\n",
              "      buttonEl.style.display =\n",
              "        google.colab.kernel.accessAllowed ? 'block' : 'none';\n",
              "\n",
              "      async function convertToInteractive(key) {\n",
              "        const element = document.querySelector('#df-80f59f0e-a4bf-42a1-a44e-4d8e0dc6b58b');\n",
              "        const dataTable =\n",
              "          await google.colab.kernel.invokeFunction('convertToInteractive',\n",
              "                                                    [key], {});\n",
              "        if (!dataTable) return;\n",
              "\n",
              "        const docLinkHtml = 'Like what you see? Visit the ' +\n",
              "          '<a target=\"_blank\" href=https://colab.research.google.com/notebooks/data_table.ipynb>data table notebook</a>'\n",
              "          + ' to learn more about interactive tables.';\n",
              "        element.innerHTML = '';\n",
              "        dataTable['output_type'] = 'display_data';\n",
              "        await google.colab.output.renderOutput(dataTable, element);\n",
              "        const docLink = document.createElement('div');\n",
              "        docLink.innerHTML = docLinkHtml;\n",
              "        element.appendChild(docLink);\n",
              "      }\n",
              "    </script>\n",
              "  </div>\n",
              "\n",
              "\n",
              "<div id=\"df-cf656abe-4425-48fe-b62d-60b0309ecbd7\">\n",
              "  <button class=\"colab-df-quickchart\" onclick=\"quickchart('df-cf656abe-4425-48fe-b62d-60b0309ecbd7')\"\n",
              "            title=\"Suggest charts.\"\n",
              "            style=\"display:none;\">\n",
              "\n",
              "<svg xmlns=\"http://www.w3.org/2000/svg\" height=\"24px\"viewBox=\"0 0 24 24\"\n",
              "     width=\"24px\">\n",
              "    <g>\n",
              "        <path d=\"M19 3H5c-1.1 0-2 .9-2 2v14c0 1.1.9 2 2 2h14c1.1 0 2-.9 2-2V5c0-1.1-.9-2-2-2zM9 17H7v-7h2v7zm4 0h-2V7h2v10zm4 0h-2v-4h2v4z\"/>\n",
              "    </g>\n",
              "</svg>\n",
              "  </button>\n",
              "\n",
              "<style>\n",
              "  .colab-df-quickchart {\n",
              "      --bg-color: #E8F0FE;\n",
              "      --fill-color: #1967D2;\n",
              "      --hover-bg-color: #E2EBFA;\n",
              "      --hover-fill-color: #174EA6;\n",
              "      --disabled-fill-color: #AAA;\n",
              "      --disabled-bg-color: #DDD;\n",
              "  }\n",
              "\n",
              "  [theme=dark] .colab-df-quickchart {\n",
              "      --bg-color: #3B4455;\n",
              "      --fill-color: #D2E3FC;\n",
              "      --hover-bg-color: #434B5C;\n",
              "      --hover-fill-color: #FFFFFF;\n",
              "      --disabled-bg-color: #3B4455;\n",
              "      --disabled-fill-color: #666;\n",
              "  }\n",
              "\n",
              "  .colab-df-quickchart {\n",
              "    background-color: var(--bg-color);\n",
              "    border: none;\n",
              "    border-radius: 50%;\n",
              "    cursor: pointer;\n",
              "    display: none;\n",
              "    fill: var(--fill-color);\n",
              "    height: 32px;\n",
              "    padding: 0;\n",
              "    width: 32px;\n",
              "  }\n",
              "\n",
              "  .colab-df-quickchart:hover {\n",
              "    background-color: var(--hover-bg-color);\n",
              "    box-shadow: 0 1px 2px rgba(60, 64, 67, 0.3), 0 1px 3px 1px rgba(60, 64, 67, 0.15);\n",
              "    fill: var(--button-hover-fill-color);\n",
              "  }\n",
              "\n",
              "  .colab-df-quickchart-complete:disabled,\n",
              "  .colab-df-quickchart-complete:disabled:hover {\n",
              "    background-color: var(--disabled-bg-color);\n",
              "    fill: var(--disabled-fill-color);\n",
              "    box-shadow: none;\n",
              "  }\n",
              "\n",
              "  .colab-df-spinner {\n",
              "    border: 2px solid var(--fill-color);\n",
              "    border-color: transparent;\n",
              "    border-bottom-color: var(--fill-color);\n",
              "    animation:\n",
              "      spin 1s steps(1) infinite;\n",
              "  }\n",
              "\n",
              "  @keyframes spin {\n",
              "    0% {\n",
              "      border-color: transparent;\n",
              "      border-bottom-color: var(--fill-color);\n",
              "      border-left-color: var(--fill-color);\n",
              "    }\n",
              "    20% {\n",
              "      border-color: transparent;\n",
              "      border-left-color: var(--fill-color);\n",
              "      border-top-color: var(--fill-color);\n",
              "    }\n",
              "    30% {\n",
              "      border-color: transparent;\n",
              "      border-left-color: var(--fill-color);\n",
              "      border-top-color: var(--fill-color);\n",
              "      border-right-color: var(--fill-color);\n",
              "    }\n",
              "    40% {\n",
              "      border-color: transparent;\n",
              "      border-right-color: var(--fill-color);\n",
              "      border-top-color: var(--fill-color);\n",
              "    }\n",
              "    60% {\n",
              "      border-color: transparent;\n",
              "      border-right-color: var(--fill-color);\n",
              "    }\n",
              "    80% {\n",
              "      border-color: transparent;\n",
              "      border-right-color: var(--fill-color);\n",
              "      border-bottom-color: var(--fill-color);\n",
              "    }\n",
              "    90% {\n",
              "      border-color: transparent;\n",
              "      border-bottom-color: var(--fill-color);\n",
              "    }\n",
              "  }\n",
              "</style>\n",
              "\n",
              "  <script>\n",
              "    async function quickchart(key) {\n",
              "      const quickchartButtonEl =\n",
              "        document.querySelector('#' + key + ' button');\n",
              "      quickchartButtonEl.disabled = true;  // To prevent multiple clicks.\n",
              "      quickchartButtonEl.classList.add('colab-df-spinner');\n",
              "      try {\n",
              "        const charts = await google.colab.kernel.invokeFunction(\n",
              "            'suggestCharts', [key], {});\n",
              "      } catch (error) {\n",
              "        console.error('Error during call to suggestCharts:', error);\n",
              "      }\n",
              "      quickchartButtonEl.classList.remove('colab-df-spinner');\n",
              "      quickchartButtonEl.classList.add('colab-df-quickchart-complete');\n",
              "    }\n",
              "    (() => {\n",
              "      let quickchartButtonEl =\n",
              "        document.querySelector('#df-cf656abe-4425-48fe-b62d-60b0309ecbd7 button');\n",
              "      quickchartButtonEl.style.display =\n",
              "        google.colab.kernel.accessAllowed ? 'block' : 'none';\n",
              "    })();\n",
              "  </script>\n",
              "</div>\n",
              "    </div>\n",
              "  </div>\n"
            ]
          },
          "metadata": {},
          "execution_count": 17
        }
      ]
    },
    {
      "cell_type": "code",
      "source": [
        "# selecting features\n",
        "X = df[['maxtempC', 'cloudcover', 'precipInches', 'windspeedKmph', 'avgtempC']] #independent features\n",
        "y = df['Ozone(ppm)']  ## dependent features"
      ],
      "metadata": {
        "id": "LHxbSOddCRut"
      },
      "execution_count": 18,
      "outputs": []
    },
    {
      "cell_type": "code",
      "source": [
        "# creating training and testing data\n",
        "X_train, X_test, y_train, y_test = train_test_split(X, y, test_size=0.3, random_state=0)"
      ],
      "metadata": {
        "id": "MKaMcVWdCRxf"
      },
      "execution_count": 19,
      "outputs": []
    },
    {
      "cell_type": "code",
      "source": [
        "lr_model = LinearRegression()\n",
        "lr_model.fit(X_train, y_train)"
      ],
      "metadata": {
        "colab": {
          "base_uri": "https://localhost:8080/",
          "height": 74
        },
        "id": "Th1heJvXCR0B",
        "outputId": "77b48ca8-6202-4909-bb30-bdc8c5a294f0"
      },
      "execution_count": 20,
      "outputs": [
        {
          "output_type": "execute_result",
          "data": {
            "text/plain": [
              "LinearRegression()"
            ],
            "text/html": [
              "<style>#sk-container-id-4 {color: black;background-color: white;}#sk-container-id-4 pre{padding: 0;}#sk-container-id-4 div.sk-toggleable {background-color: white;}#sk-container-id-4 label.sk-toggleable__label {cursor: pointer;display: block;width: 100%;margin-bottom: 0;padding: 0.3em;box-sizing: border-box;text-align: center;}#sk-container-id-4 label.sk-toggleable__label-arrow:before {content: \"▸\";float: left;margin-right: 0.25em;color: #696969;}#sk-container-id-4 label.sk-toggleable__label-arrow:hover:before {color: black;}#sk-container-id-4 div.sk-estimator:hover label.sk-toggleable__label-arrow:before {color: black;}#sk-container-id-4 div.sk-toggleable__content {max-height: 0;max-width: 0;overflow: hidden;text-align: left;background-color: #f0f8ff;}#sk-container-id-4 div.sk-toggleable__content pre {margin: 0.2em;color: black;border-radius: 0.25em;background-color: #f0f8ff;}#sk-container-id-4 input.sk-toggleable__control:checked~div.sk-toggleable__content {max-height: 200px;max-width: 100%;overflow: auto;}#sk-container-id-4 input.sk-toggleable__control:checked~label.sk-toggleable__label-arrow:before {content: \"▾\";}#sk-container-id-4 div.sk-estimator input.sk-toggleable__control:checked~label.sk-toggleable__label {background-color: #d4ebff;}#sk-container-id-4 div.sk-label input.sk-toggleable__control:checked~label.sk-toggleable__label {background-color: #d4ebff;}#sk-container-id-4 input.sk-hidden--visually {border: 0;clip: rect(1px 1px 1px 1px);clip: rect(1px, 1px, 1px, 1px);height: 1px;margin: -1px;overflow: hidden;padding: 0;position: absolute;width: 1px;}#sk-container-id-4 div.sk-estimator {font-family: monospace;background-color: #f0f8ff;border: 1px dotted black;border-radius: 0.25em;box-sizing: border-box;margin-bottom: 0.5em;}#sk-container-id-4 div.sk-estimator:hover {background-color: #d4ebff;}#sk-container-id-4 div.sk-parallel-item::after {content: \"\";width: 100%;border-bottom: 1px solid gray;flex-grow: 1;}#sk-container-id-4 div.sk-label:hover label.sk-toggleable__label {background-color: #d4ebff;}#sk-container-id-4 div.sk-serial::before {content: \"\";position: absolute;border-left: 1px solid gray;box-sizing: border-box;top: 0;bottom: 0;left: 50%;z-index: 0;}#sk-container-id-4 div.sk-serial {display: flex;flex-direction: column;align-items: center;background-color: white;padding-right: 0.2em;padding-left: 0.2em;position: relative;}#sk-container-id-4 div.sk-item {position: relative;z-index: 1;}#sk-container-id-4 div.sk-parallel {display: flex;align-items: stretch;justify-content: center;background-color: white;position: relative;}#sk-container-id-4 div.sk-item::before, #sk-container-id-4 div.sk-parallel-item::before {content: \"\";position: absolute;border-left: 1px solid gray;box-sizing: border-box;top: 0;bottom: 0;left: 50%;z-index: -1;}#sk-container-id-4 div.sk-parallel-item {display: flex;flex-direction: column;z-index: 1;position: relative;background-color: white;}#sk-container-id-4 div.sk-parallel-item:first-child::after {align-self: flex-end;width: 50%;}#sk-container-id-4 div.sk-parallel-item:last-child::after {align-self: flex-start;width: 50%;}#sk-container-id-4 div.sk-parallel-item:only-child::after {width: 0;}#sk-container-id-4 div.sk-dashed-wrapped {border: 1px dashed gray;margin: 0 0.4em 0.5em 0.4em;box-sizing: border-box;padding-bottom: 0.4em;background-color: white;}#sk-container-id-4 div.sk-label label {font-family: monospace;font-weight: bold;display: inline-block;line-height: 1.2em;}#sk-container-id-4 div.sk-label-container {text-align: center;}#sk-container-id-4 div.sk-container {/* jupyter's `normalize.less` sets `[hidden] { display: none; }` but bootstrap.min.css set `[hidden] { display: none !important; }` so we also need the `!important` here to be able to override the default hidden behavior on the sphinx rendered scikit-learn.org. See: https://github.com/scikit-learn/scikit-learn/issues/21755 */display: inline-block !important;position: relative;}#sk-container-id-4 div.sk-text-repr-fallback {display: none;}</style><div id=\"sk-container-id-4\" class=\"sk-top-container\"><div class=\"sk-text-repr-fallback\"><pre>LinearRegression()</pre><b>In a Jupyter environment, please rerun this cell to show the HTML representation or trust the notebook. <br />On GitHub, the HTML representation is unable to render, please try loading this page with nbviewer.org.</b></div><div class=\"sk-container\" hidden><div class=\"sk-item\"><div class=\"sk-estimator sk-toggleable\"><input class=\"sk-toggleable__control sk-hidden--visually\" id=\"sk-estimator-id-6\" type=\"checkbox\" checked><label for=\"sk-estimator-id-6\" class=\"sk-toggleable__label sk-toggleable__label-arrow\">LinearRegression</label><div class=\"sk-toggleable__content\"><pre>LinearRegression()</pre></div></div></div></div></div>"
            ]
          },
          "metadata": {},
          "execution_count": 20
        }
      ]
    },
    {
      "cell_type": "code",
      "source": [
        "# coefficient for X and and the y-intercept\n",
        "print('coefficients: ', lr_model.coef_)\n",
        "print('intercept: ', lr_model.intercept_)"
      ],
      "metadata": {
        "colab": {
          "base_uri": "https://localhost:8080/"
        },
        "id": "cshmzBHrCkhz",
        "outputId": "845ac5bc-5822-491e-f8db-f8ecd473d3b8"
      },
      "execution_count": 21,
      "outputs": [
        {
          "output_type": "stream",
          "name": "stdout",
          "text": [
            "coefficients:  [ 0.0418241  -0.01517769  0.20048025  0.02712673 -0.03487576]\n",
            "intercept:  3.0250232924704767\n"
          ]
        }
      ]
    },
    {
      "cell_type": "code",
      "source": [
        "y_train_predictions = lr_model.predict(X_train)"
      ],
      "metadata": {
        "id": "_Ywc8DZrCkkv"
      },
      "execution_count": 22,
      "outputs": []
    },
    {
      "cell_type": "code",
      "source": [
        "y_test_predictions = lr_model.predict(X_test)"
      ],
      "metadata": {
        "id": "AW3DReVlCknH"
      },
      "execution_count": 23,
      "outputs": []
    },
    {
      "cell_type": "code",
      "source": [
        "sns.distplot(y_test - y_test_predictions)"
      ],
      "metadata": {
        "colab": {
          "base_uri": "https://localhost:8080/",
          "height": 687
        },
        "id": "0paJvTCECqSl",
        "outputId": "ea691349-6bfe-49d6-ef83-5f95a2a6254c"
      },
      "execution_count": 24,
      "outputs": [
        {
          "output_type": "stream",
          "name": "stderr",
          "text": [
            "<ipython-input-24-562ae174378b>:1: UserWarning:\n",
            "\n",
            "\n",
            "\n",
            "`distplot` is a deprecated function and will be removed in seaborn v0.14.0.\n",
            "\n",
            "Please adapt your code to use either `displot` (a figure-level function with\n",
            "similar flexibility) or `histplot` (an axes-level function for histograms).\n",
            "\n",
            "For a guide to updating your code to use the new functions, please see\n",
            "https://gist.github.com/mwaskom/de44147ed2974457ad6372750bbe5751\n",
            "\n",
            "\n"
          ]
        },
        {
          "output_type": "execute_result",
          "data": {
            "text/plain": [
              "<Axes: xlabel='Ozone(ppm)', ylabel='Density'>"
            ]
          },
          "metadata": {},
          "execution_count": 24
        },
        {
          "output_type": "display_data",
          "data": {
            "text/plain": [
              "<Figure size 640x480 with 1 Axes>"
            ],
            "image/png": "[encoded data removed]"
          },
          "metadata": {}
        }
      ]
    },
    {
      "cell_type": "code",
      "source": [
        "plt.figure(figsize=(8, 6))\n",
        "plt.scatter(y_train_predictions, y_train_predictions - y_train, c=\"blue\", marker=\"o\", label=\"Train Data\")\n",
        "plt.scatter(y_test_predictions, y_test_predictions - y_test, c=\"red\", marker=\"*\", label=\"Test Data\")\n",
        "plt.xlabel(\"Predicted Values\")\n",
        "plt.ylabel(\"Residuals\")\n",
        "plt.legend()\n",
        "plt.hlines(y=0, xmin=-10, xmax=50, lw=2, color=\"k\")\n",
        "plt.xlim([-10, 10])\n",
        "plt.show()"
      ],
      "metadata": {
        "colab": {
          "base_uri": "https://localhost:8080/",
          "height": 542
        },
        "id": "Oyw6sUg3CuAZ",
        "outputId": "895b5b1e-4b59-458f-d28e-a4bb8b55230d"
      },
      "execution_count": 26,
      "outputs": [
        {
          "output_type": "display_data",
          "data": {
            "text/plain": [
              "<Figure size 800x600 with 1 Axes>"
            ],
            "image/png": "[encoded data removed]"
          },
          "metadata": {}
        }
      ]
    },
    {
      "cell_type": "code",
      "source": [
        "print('MSE for training data:', metrics.mean_squared_error(y_train, y_train_predictions))\n",
        "print('MSE for training data: ', metrics.mean_squared_error(y_test, y_test_predictions))"
      ],
      "metadata": {
        "colab": {
          "base_uri": "https://localhost:8080/"
        },
        "id": "JQJlrgOOCuC3",
        "outputId": "7d6f6348-ef23-4de8-8e64-17d747c85c09"
      },
      "execution_count": 27,
      "outputs": [
        {
          "output_type": "stream",
          "name": "stdout",
          "text": [
            "MSE for training data: 0.7320543173486247\n",
            "MSE for training data:  0.791455370473357\n"
          ]
        }
      ]
    },
    {
      "cell_type": "code",
      "source": [
        "from sklearn.metrics import r2_score\n",
        "print(\"Coefficient of determination R^2 <-- on train set:\", r2_score(y_train, y_train_predictions))\n",
        "print(\"Coefficient of determination R^2 <-- on test set:\", r2_score(y_test, y_test_predictions))"
      ],
      "metadata": {
        "colab": {
          "base_uri": "https://localhost:8080/"
        },
        "id": "hrg_1bCNCuFs",
        "outputId": "e4f01211-8429-4553-93d3-5815ada8b634"
      },
      "execution_count": 28,
      "outputs": [
        {
          "output_type": "stream",
          "name": "stdout",
          "text": [
            "Coefficient of determination R^2 <-- on train set: 0.23707531405565618\n",
            "Coefficient of determination R^2 <-- on test set: 0.20631309269789733\n"
          ]
        }
      ]
    },
    {
      "cell_type": "markdown",
      "source": [
        "## Polynomial Regression"
      ],
      "metadata": {
        "id": "itqvs9FyDi_X"
      }
    },
    {
      "cell_type": "code",
      "source": [
        "from sklearn.preprocessing import PolynomialFeatures"
      ],
      "metadata": {
        "id": "6CrvbcDrDkLU"
      },
      "execution_count": 29,
      "outputs": []
    },
    {
      "cell_type": "code",
      "source": [
        "# Create polynomial features and fit a linear regression model\n",
        "degree = 2\n",
        "polyreg = make_pipeline(PolynomialFeatures(degree), LinearRegression())\n",
        "polyreg.fit(X_train, y_train)"
      ],
      "metadata": {
        "id": "HUFWYL1_DkOF",
        "outputId": "6f0f381e-a1c2-43c5-f615-a916c9a32534",
        "colab": {
          "base_uri": "https://localhost:8080/",
          "height": 124
        }
      },
      "execution_count": 41,
      "outputs": [
        {
          "output_type": "execute_result",
          "data": {
            "text/plain": [
              "Pipeline(steps=[('polynomialfeatures', PolynomialFeatures()),\n",
              "                ('linearregression', LinearRegression())])"
            ],
            "text/html": [
              "<style>#sk-container-id-9 {color: black;background-color: white;}#sk-container-id-9 pre{padding: 0;}#sk-container-id-9 div.sk-toggleable {background-color: white;}#sk-container-id-9 label.sk-toggleable__label {cursor: pointer;display: block;width: 100%;margin-bottom: 0;padding: 0.3em;box-sizing: border-box;text-align: center;}#sk-container-id-9 label.sk-toggleable__label-arrow:before {content: \"▸\";float: left;margin-right: 0.25em;color: #696969;}#sk-container-id-9 label.sk-toggleable__label-arrow:hover:before {color: black;}#sk-container-id-9 div.sk-estimator:hover label.sk-toggleable__label-arrow:before {color: black;}#sk-container-id-9 div.sk-toggleable__content {max-height: 0;max-width: 0;overflow: hidden;text-align: left;background-color: #f0f8ff;}#sk-container-id-9 div.sk-toggleable__content pre {margin: 0.2em;color: black;border-radius: 0.25em;background-color: #f0f8ff;}#sk-container-id-9 input.sk-toggleable__control:checked~div.sk-toggleable__content {max-height: 200px;max-width: 100%;overflow: auto;}#sk-container-id-9 input.sk-toggleable__control:checked~label.sk-toggleable__label-arrow:before {content: \"▾\";}#sk-container-id-9 div.sk-estimator input.sk-toggleable__control:checked~label.sk-toggleable__label {background-color: #d4ebff;}#sk-container-id-9 div.sk-label input.sk-toggleable__control:checked~label.sk-toggleable__label {background-color: #d4ebff;}#sk-container-id-9 input.sk-hidden--visually {border: 0;clip: rect(1px 1px 1px 1px);clip: rect(1px, 1px, 1px, 1px);height: 1px;margin: -1px;overflow: hidden;padding: 0;position: absolute;width: 1px;}#sk-container-id-9 div.sk-estimator {font-family: monospace;background-color: #f0f8ff;border: 1px dotted black;border-radius: 0.25em;box-sizing: border-box;margin-bottom: 0.5em;}#sk-container-id-9 div.sk-estimator:hover {background-color: #d4ebff;}#sk-container-id-9 div.sk-parallel-item::after {content: \"\";width: 100%;border-bottom: 1px solid gray;flex-grow: 1;}#sk-container-id-9 div.sk-label:hover label.sk-toggleable__label {background-color: #d4ebff;}#sk-container-id-9 div.sk-serial::before {content: \"\";position: absolute;border-left: 1px solid gray;box-sizing: border-box;top: 0;bottom: 0;left: 50%;z-index: 0;}#sk-container-id-9 div.sk-serial {display: flex;flex-direction: column;align-items: center;background-color: white;padding-right: 0.2em;padding-left: 0.2em;position: relative;}#sk-container-id-9 div.sk-item {position: relative;z-index: 1;}#sk-container-id-9 div.sk-parallel {display: flex;align-items: stretch;justify-content: center;background-color: white;position: relative;}#sk-container-id-9 div.sk-item::before, #sk-container-id-9 div.sk-parallel-item::before {content: \"\";position: absolute;border-left: 1px solid gray;box-sizing: border-box;top: 0;bottom: 0;left: 50%;z-index: -1;}#sk-container-id-9 div.sk-parallel-item {display: flex;flex-direction: column;z-index: 1;position: relative;background-color: white;}#sk-container-id-9 div.sk-parallel-item:first-child::after {align-self: flex-end;width: 50%;}#sk-container-id-9 div.sk-parallel-item:last-child::after {align-self: flex-start;width: 50%;}#sk-container-id-9 div.sk-parallel-item:only-child::after {width: 0;}#sk-container-id-9 div.sk-dashed-wrapped {border: 1px dashed gray;margin: 0 0.4em 0.5em 0.4em;box-sizing: border-box;padding-bottom: 0.4em;background-color: white;}#sk-container-id-9 div.sk-label label {font-family: monospace;font-weight: bold;display: inline-block;line-height: 1.2em;}#sk-container-id-9 div.sk-label-container {text-align: center;}#sk-container-id-9 div.sk-container {/* jupyter's `normalize.less` sets `[hidden] { display: none; }` but bootstrap.min.css set `[hidden] { display: none !important; }` so we also need the `!important` here to be able to override the default hidden behavior on the sphinx rendered scikit-learn.org. See: https://github.com/scikit-learn/scikit-learn/issues/21755 */display: inline-block !important;position: relative;}#sk-container-id-9 div.sk-text-repr-fallback {display: none;}</style><div id=\"sk-container-id-9\" class=\"sk-top-container\"><div class=\"sk-text-repr-fallback\"><pre>Pipeline(steps=[(&#x27;polynomialfeatures&#x27;, PolynomialFeatures()),\n",
              "                (&#x27;linearregression&#x27;, LinearRegression())])</pre><b>In a Jupyter environment, please rerun this cell to show the HTML representation or trust the notebook. <br />On GitHub, the HTML representation is unable to render, please try loading this page with nbviewer.org.</b></div><div class=\"sk-container\" hidden><div class=\"sk-item sk-dashed-wrapped\"><div class=\"sk-label-container\"><div class=\"sk-label sk-toggleable\"><input class=\"sk-toggleable__control sk-hidden--visually\" id=\"sk-estimator-id-11\" type=\"checkbox\" ><label for=\"sk-estimator-id-11\" class=\"sk-toggleable__label sk-toggleable__label-arrow\">Pipeline</label><div class=\"sk-toggleable__content\"><pre>Pipeline(steps=[(&#x27;polynomialfeatures&#x27;, PolynomialFeatures()),\n",
              "                (&#x27;linearregression&#x27;, LinearRegression())])</pre></div></div></div><div class=\"sk-serial\"><div class=\"sk-item\"><div class=\"sk-estimator sk-toggleable\"><input class=\"sk-toggleable__control sk-hidden--visually\" id=\"sk-estimator-id-12\" type=\"checkbox\" ><label for=\"sk-estimator-id-12\" class=\"sk-toggleable__label sk-toggleable__label-arrow\">PolynomialFeatures</label><div class=\"sk-toggleable__content\"><pre>PolynomialFeatures()</pre></div></div></div><div class=\"sk-item\"><div class=\"sk-estimator sk-toggleable\"><input class=\"sk-toggleable__control sk-hidden--visually\" id=\"sk-estimator-id-13\" type=\"checkbox\" ><label for=\"sk-estimator-id-13\" class=\"sk-toggleable__label sk-toggleable__label-arrow\">LinearRegression</label><div class=\"sk-toggleable__content\"><pre>LinearRegression()</pre></div></div></div></div></div></div></div>"
            ]
          },
          "metadata": {},
          "execution_count": 41
        }
      ]
    },
    {
      "cell_type": "code",
      "source": [
        "y_pred = polyreg.predict(X_test)"
      ],
      "metadata": {
        "id": "PlTfi-clDpK9"
      },
      "execution_count": 43,
      "outputs": []
    },
    {
      "cell_type": "code",
      "source": [
        "r_square = metrics.r2_score(y_test, y_pred)\n",
        "print('R-Square Error associated with Polynomial Regression is:', r_square)\n",
        "print('MSE for testing data:', metrics.mean_squared_error(y_test, y_pred))"
      ],
      "metadata": {
        "colab": {
          "base_uri": "https://localhost:8080/"
        },
        "id": "79oQBr9IDkRN",
        "outputId": "35a941a5-d9c9-4179-a85a-8c97211a3692"
      },
      "execution_count": 44,
      "outputs": [
        {
          "output_type": "stream",
          "name": "stdout",
          "text": [
            "R-Square Error associated with Polynomial Regression is: 0.2778962825988377\n",
            "MSE for testing data: 0.7200734444752396\n"
          ]
        }
      ]
    },
    {
      "cell_type": "code",
      "source": [
        "r_squared = r2_score(y_test, y_pred)\n",
        "\n",
        "# Display R^2 on the plot\n",
        "plt.text(np.min(y_test), np.max(y_pred), f'R^2 = {r_squared:.4f}', fontsize=12, verticalalignment='top')\n",
        "plt.scatter(y_test, y_pred)\n",
        "plt.show()\n",
        "print('MAE:', metrics.mean_absolute_error(y_test, y_pred))\n",
        "print('MSE:', metrics.mean_squared_error(y_test, y_pred))\n",
        "print('RMSE:', np.sqrt(metrics.mean_squared_error(y_test, y_pred)))"
      ],
      "metadata": {
        "id": "MAEbHg1cjtL8",
        "outputId": "d54df0ca-bca6-4472-fd6c-ecfc805affca",
        "colab": {
          "base_uri": "https://localhost:8080/",
          "height": 481
        }
      },
      "execution_count": 45,
      "outputs": [
        {
          "output_type": "display_data",
          "data": {
            "text/plain": [
              "<Figure size 640x480 with 1 Axes>"
            ],
            "image/png": "[encoded data removed]"
          },
          "metadata": {}
        },
        {
          "output_type": "stream",
          "name": "stdout",
          "text": [
            "MAE: 0.6730842411521459\n",
            "MSE: 0.7200734444752396\n",
            "RMSE: 0.8485714138923368\n"
          ]
        }
      ]
    },
    {
      "cell_type": "markdown",
      "source": [
        "## Lasso Regression"
      ],
      "metadata": {
        "id": "j9E7h3h4Dy6x"
      }
    },
    {
      "cell_type": "code",
      "source": [
        "from sklearn.linear_model import Lasso\n",
        "from sklearn.model_selection import GridSearchCV"
      ],
      "metadata": {
        "id": "FlzOgHS-DzGl"
      },
      "execution_count": 46,
      "outputs": []
    },
    {
      "cell_type": "code",
      "source": [
        "import warnings\n",
        "warnings.filterwarnings('ignore')\n",
        "warnings.simplefilter('ignore')\n",
        "\n",
        "lasso = Lasso()\n",
        "parameters = {'alpha':[1e-15,1e-10,1e-8,1e-3,1e-2,1,5,10,20,30,35,40]}\n",
        "lasso_regressor = GridSearchCV(lasso, parameters, scoring = 'neg_mean_squared_error', cv = 5)\n",
        "lasso_regressor.fit(X,y)\n",
        "\n",
        "print(lasso_regressor.best_params_)\n",
        "print(lasso_regressor.best_score_)"
      ],
      "metadata": {
        "colab": {
          "base_uri": "https://localhost:8080/"
        },
        "id": "ydVd2BLLDzJt",
        "outputId": "e9cfcd31-406d-4fd4-b58f-7f4ddfdcbfa6"
      },
      "execution_count": 47,
      "outputs": [
        {
          "output_type": "stream",
          "name": "stdout",
          "text": [
            "{'alpha': 0.01}\n",
            "-0.7801233575339233\n"
          ]
        }
      ]
    },
    {
      "cell_type": "code",
      "source": [
        "prediction_lasso = lasso_regressor.predict(X_test)"
      ],
      "metadata": {
        "id": "xVFMftYdD68L"
      },
      "execution_count": 48,
      "outputs": []
    },
    {
      "cell_type": "code",
      "source": [
        "sns.distplot(y_test - prediction_lasso)"
      ],
      "metadata": {
        "colab": {
          "base_uri": "https://localhost:8080/",
          "height": 466
        },
        "id": "D9y8DcA1D6-9",
        "outputId": "f6c0824d-59f8-495a-d2a6-5cee54aaf14d"
      },
      "execution_count": 49,
      "outputs": [
        {
          "output_type": "execute_result",
          "data": {
            "text/plain": [
              "<Axes: xlabel='Ozone(ppm)', ylabel='Density'>"
            ]
          },
          "metadata": {},
          "execution_count": 49
        },
        {
          "output_type": "display_data",
          "data": {
            "text/plain": [
              "<Figure size 640x480 with 1 Axes>"
            ],
            "image/png": "[encoded data removed]"
          },
          "metadata": {}
        }
      ]
    },
    {
      "cell_type": "code",
      "source": [
        "r_squared = r2_score(y_test, prediction_lasso)\n",
        "\n",
        "# Display R^2 on the plot\n",
        "plt.text(np.min(y_test), np.max(prediction_lasso), f'R^2 = {r_squared:.4f}', fontsize=12, verticalalignment='top')\n",
        "plt.scatter(y_test, prediction_lasso)\n",
        "plt.show()\n",
        "print('MAE:', metrics.mean_absolute_error(y_test, prediction_lasso))\n",
        "print('MSE:', metrics.mean_squared_error(y_test, prediction_lasso))\n",
        "print('RMSE:', np.sqrt(metrics.mean_squared_error(y_test, prediction_lasso)))"
      ],
      "metadata": {
        "colab": {
          "base_uri": "https://localhost:8080/",
          "height": 481
        },
        "id": "m3vlpyPUD7Be",
        "outputId": "26564861-c3d9-4d84-ca6e-60d75ef9c6b8"
      },
      "execution_count": 50,
      "outputs": [
        {
          "output_type": "display_data",
          "data": {
            "text/plain": [
              "<Figure size 640x480 with 1 Axes>"
            ],
            "image/png": "[encoded data removed]"
          },
          "metadata": {}
        },
        {
          "output_type": "stream",
          "name": "stdout",
          "text": [
            "MAE: 0.7199978993530354\n",
            "MSE: 0.7821818121820483\n",
            "RMSE: 0.8844104319726493\n"
          ]
        }
      ]
    },
    {
      "cell_type": "markdown",
      "source": [
        "## Ridge Regression"
      ],
      "metadata": {
        "id": "_LABHmWHEuNa"
      }
    },
    {
      "cell_type": "code",
      "source": [
        "from sklearn.linear_model import Ridge\n",
        "from sklearn.model_selection import GridSearchCV"
      ],
      "metadata": {
        "id": "qofxSDUPEuVg"
      },
      "execution_count": 51,
      "outputs": []
    },
    {
      "cell_type": "code",
      "source": [
        "ridge = Ridge()\n",
        "parameters = {'alpha': [1e-15,1e-10,1e-8,1e-3,1e-2,1,5,10,20,30,35,40]}\n",
        "ridge_regressor = GridSearchCV(ridge, parameters, scoring='neg_mean_squared_error', cv=5)\n",
        "ridge_regressor.fit(X,y)"
      ],
      "metadata": {
        "colab": {
          "base_uri": "https://localhost:8080/",
          "height": 115
        },
        "id": "eu5cxkEZEuXs",
        "outputId": "7af3bcaf-b780-42ce-c1cd-a75a3f628879"
      },
      "execution_count": 52,
      "outputs": [
        {
          "output_type": "execute_result",
          "data": {
            "text/plain": [
              "GridSearchCV(cv=5, estimator=Ridge(),\n",
              "             param_grid={'alpha': [1e-15, 1e-10, 1e-08, 0.001, 0.01, 1, 5, 10,\n",
              "                                   20, 30, 35, 40]},\n",
              "             scoring='neg_mean_squared_error')"
            ],
            "text/html": [
              "<style>#sk-container-id-10 {color: black;background-color: white;}#sk-container-id-10 pre{padding: 0;}#sk-container-id-10 div.sk-toggleable {background-color: white;}#sk-container-id-10 label.sk-toggleable__label {cursor: pointer;display: block;width: 100%;margin-bottom: 0;padding: 0.3em;box-sizing: border-box;text-align: center;}#sk-container-id-10 label.sk-toggleable__label-arrow:before {content: \"▸\";float: left;margin-right: 0.25em;color: #696969;}#sk-container-id-10 label.sk-toggleable__label-arrow:hover:before {color: black;}#sk-container-id-10 div.sk-estimator:hover label.sk-toggleable__label-arrow:before {color: black;}#sk-container-id-10 div.sk-toggleable__content {max-height: 0;max-width: 0;overflow: hidden;text-align: left;background-color: #f0f8ff;}#sk-container-id-10 div.sk-toggleable__content pre {margin: 0.2em;color: black;border-radius: 0.25em;background-color: #f0f8ff;}#sk-container-id-10 input.sk-toggleable__control:checked~div.sk-toggleable__content {max-height: 200px;max-width: 100%;overflow: auto;}#sk-container-id-10 input.sk-toggleable__control:checked~label.sk-toggleable__label-arrow:before {content: \"▾\";}#sk-container-id-10 div.sk-estimator input.sk-toggleable__control:checked~label.sk-toggleable__label {background-color: #d4ebff;}#sk-container-id-10 div.sk-label input.sk-toggleable__control:checked~label.sk-toggleable__label {background-color: #d4ebff;}#sk-container-id-10 input.sk-hidden--visually {border: 0;clip: rect(1px 1px 1px 1px);clip: rect(1px, 1px, 1px, 1px);height: 1px;margin: -1px;overflow: hidden;padding: 0;position: absolute;width: 1px;}#sk-container-id-10 div.sk-estimator {font-family: monospace;background-color: #f0f8ff;border: 1px dotted black;border-radius: 0.25em;box-sizing: border-box;margin-bottom: 0.5em;}#sk-container-id-10 div.sk-estimator:hover {background-color: #d4ebff;}#sk-container-id-10 div.sk-parallel-item::after {content: \"\";width: 100%;border-bottom: 1px solid gray;flex-grow: 1;}#sk-container-id-10 div.sk-label:hover label.sk-toggleable__label {background-color: #d4ebff;}#sk-container-id-10 div.sk-serial::before {content: \"\";position: absolute;border-left: 1px solid gray;box-sizing: border-box;top: 0;bottom: 0;left: 50%;z-index: 0;}#sk-container-id-10 div.sk-serial {display: flex;flex-direction: column;align-items: center;background-color: white;padding-right: 0.2em;padding-left: 0.2em;position: relative;}#sk-container-id-10 div.sk-item {position: relative;z-index: 1;}#sk-container-id-10 div.sk-parallel {display: flex;align-items: stretch;justify-content: center;background-color: white;position: relative;}#sk-container-id-10 div.sk-item::before, #sk-container-id-10 div.sk-parallel-item::before {content: \"\";position: absolute;border-left: 1px solid gray;box-sizing: border-box;top: 0;bottom: 0;left: 50%;z-index: -1;}#sk-container-id-10 div.sk-parallel-item {display: flex;flex-direction: column;z-index: 1;position: relative;background-color: white;}#sk-container-id-10 div.sk-parallel-item:first-child::after {align-self: flex-end;width: 50%;}#sk-container-id-10 div.sk-parallel-item:last-child::after {align-self: flex-start;width: 50%;}#sk-container-id-10 div.sk-parallel-item:only-child::after {width: 0;}#sk-container-id-10 div.sk-dashed-wrapped {border: 1px dashed gray;margin: 0 0.4em 0.5em 0.4em;box-sizing: border-box;padding-bottom: 0.4em;background-color: white;}#sk-container-id-10 div.sk-label label {font-family: monospace;font-weight: bold;display: inline-block;line-height: 1.2em;}#sk-container-id-10 div.sk-label-container {text-align: center;}#sk-container-id-10 div.sk-container {/* jupyter's `normalize.less` sets `[hidden] { display: none; }` but bootstrap.min.css set `[hidden] { display: none !important; }` so we also need the `!important` here to be able to override the default hidden behavior on the sphinx rendered scikit-learn.org. See: https://github.com/scikit-learn/scikit-learn/issues/21755 */display: inline-block !important;position: relative;}#sk-container-id-10 div.sk-text-repr-fallback {display: none;}</style><div id=\"sk-container-id-10\" class=\"sk-top-container\"><div class=\"sk-text-repr-fallback\"><pre>GridSearchCV(cv=5, estimator=Ridge(),\n",
              "             param_grid={&#x27;alpha&#x27;: [1e-15, 1e-10, 1e-08, 0.001, 0.01, 1, 5, 10,\n",
              "                                   20, 30, 35, 40]},\n",
              "             scoring=&#x27;neg_mean_squared_error&#x27;)</pre><b>In a Jupyter environment, please rerun this cell to show the HTML representation or trust the notebook. <br />On GitHub, the HTML representation is unable to render, please try loading this page with nbviewer.org.</b></div><div class=\"sk-container\" hidden><div class=\"sk-item sk-dashed-wrapped\"><div class=\"sk-label-container\"><div class=\"sk-label sk-toggleable\"><input class=\"sk-toggleable__control sk-hidden--visually\" id=\"sk-estimator-id-14\" type=\"checkbox\" ><label for=\"sk-estimator-id-14\" class=\"sk-toggleable__label sk-toggleable__label-arrow\">GridSearchCV</label><div class=\"sk-toggleable__content\"><pre>GridSearchCV(cv=5, estimator=Ridge(),\n",
              "             param_grid={&#x27;alpha&#x27;: [1e-15, 1e-10, 1e-08, 0.001, 0.01, 1, 5, 10,\n",
              "                                   20, 30, 35, 40]},\n",
              "             scoring=&#x27;neg_mean_squared_error&#x27;)</pre></div></div></div><div class=\"sk-parallel\"><div class=\"sk-parallel-item\"><div class=\"sk-item\"><div class=\"sk-label-container\"><div class=\"sk-label sk-toggleable\"><input class=\"sk-toggleable__control sk-hidden--visually\" id=\"sk-estimator-id-15\" type=\"checkbox\" ><label for=\"sk-estimator-id-15\" class=\"sk-toggleable__label sk-toggleable__label-arrow\">estimator: Ridge</label><div class=\"sk-toggleable__content\"><pre>Ridge()</pre></div></div></div><div class=\"sk-serial\"><div class=\"sk-item\"><div class=\"sk-estimator sk-toggleable\"><input class=\"sk-toggleable__control sk-hidden--visually\" id=\"sk-estimator-id-16\" type=\"checkbox\" ><label for=\"sk-estimator-id-16\" class=\"sk-toggleable__label sk-toggleable__label-arrow\">Ridge</label><div class=\"sk-toggleable__content\"><pre>Ridge()</pre></div></div></div></div></div></div></div></div></div></div>"
            ]
          },
          "metadata": {},
          "execution_count": 52
        }
      ]
    },
    {
      "cell_type": "code",
      "source": [
        "print(ridge_regressor.best_params_)\n",
        "print(ridge_regressor.best_score_)"
      ],
      "metadata": {
        "colab": {
          "base_uri": "https://localhost:8080/"
        },
        "id": "nKNtCGg8Euai",
        "outputId": "2b98e760-0e2f-4281-96d0-5a25ffb738cb"
      },
      "execution_count": 53,
      "outputs": [
        {
          "output_type": "stream",
          "name": "stdout",
          "text": [
            "{'alpha': 40}\n",
            "-0.7818235901736584\n"
          ]
        }
      ]
    },
    {
      "cell_type": "code",
      "source": [
        "prediction_ridge = ridge_regressor.predict(X_test)"
      ],
      "metadata": {
        "id": "mJo0KK4akRKH"
      },
      "execution_count": 57,
      "outputs": []
    },
    {
      "cell_type": "code",
      "source": [
        "r_squared = r2_score(y_test,prediction_ridge)\n",
        "\n",
        "# Display R^2 on the plot\n",
        "plt.text(np.min(y_test), np.max(prediction_ridge), f'R^2 = {r_squared:.4f}', fontsize=12, verticalalignment='top')\n",
        "plt.scatter(y_test, prediction_ridge)\n",
        "plt.show()\n",
        "print('MAE:', metrics.mean_absolute_error(y_test, prediction_ridge))\n",
        "print('MSE:', metrics.mean_squared_error(y_test, prediction_ridge))\n",
        "print('RMSE:', np.sqrt(metrics.mean_squared_error(y_test, prediction_ridge)))"
      ],
      "metadata": {
        "id": "8l7Gmperkmsz",
        "outputId": "4fbaf98d-ce3b-4553-be90-42f4e68717c7",
        "colab": {
          "base_uri": "https://localhost:8080/",
          "height": 481
        }
      },
      "execution_count": 58,
      "outputs": [
        {
          "output_type": "display_data",
          "data": {
            "text/plain": [
              "<Figure size 640x480 with 1 Axes>"
            ],
            "image/png": "[encoded data removed]"
          },
          "metadata": {}
        },
        {
          "output_type": "stream",
          "name": "stdout",
          "text": [
            "MAE: 0.7201955003837287\n",
            "MSE: 0.7824249905383617\n",
            "RMSE: 0.8845479017771517\n"
          ]
        }
      ]
    },
    {
      "cell_type": "markdown",
      "source": [
        "# Random Forest"
      ],
      "metadata": {
        "id": "rwob156NFDum"
      }
    },
    {
      "cell_type": "code",
      "source": [
        "from sklearn.ensemble import RandomForestRegressor # Random Forest Regressor model"
      ],
      "metadata": {
        "id": "2Y4L74UbEzhG"
      },
      "execution_count": 59,
      "outputs": []
    },
    {
      "cell_type": "code",
      "source": [
        "rf = RandomForestRegressor()"
      ],
      "metadata": {
        "id": "6VYpjV24Ezjk"
      },
      "execution_count": 60,
      "outputs": []
    },
    {
      "cell_type": "code",
      "source": [
        "rf.fit(X_train,y_train)"
      ],
      "metadata": {
        "colab": {
          "base_uri": "https://localhost:8080/",
          "height": 74
        },
        "id": "roOsLszDFITa",
        "outputId": "9d8ef8b2-3ff8-455b-a31d-4bc9989027a2"
      },
      "execution_count": 61,
      "outputs": [
        {
          "output_type": "execute_result",
          "data": {
            "text/plain": [
              "RandomForestRegressor()"
            ],
            "text/html": [
              "<style>#sk-container-id-11 {color: black;background-color: white;}#sk-container-id-11 pre{padding: 0;}#sk-container-id-11 div.sk-toggleable {background-color: white;}#sk-container-id-11 label.sk-toggleable__label {cursor: pointer;display: block;width: 100%;margin-bottom: 0;padding: 0.3em;box-sizing: border-box;text-align: center;}#sk-container-id-11 label.sk-toggleable__label-arrow:before {content: \"▸\";float: left;margin-right: 0.25em;color: #696969;}#sk-container-id-11 label.sk-toggleable__label-arrow:hover:before {color: black;}#sk-container-id-11 div.sk-estimator:hover label.sk-toggleable__label-arrow:before {color: black;}#sk-container-id-11 div.sk-toggleable__content {max-height: 0;max-width: 0;overflow: hidden;text-align: left;background-color: #f0f8ff;}#sk-container-id-11 div.sk-toggleable__content pre {margin: 0.2em;color: black;border-radius: 0.25em;background-color: #f0f8ff;}#sk-container-id-11 input.sk-toggleable__control:checked~div.sk-toggleable__content {max-height: 200px;max-width: 100%;overflow: auto;}#sk-container-id-11 input.sk-toggleable__control:checked~label.sk-toggleable__label-arrow:before {content: \"▾\";}#sk-container-id-11 div.sk-estimator input.sk-toggleable__control:checked~label.sk-toggleable__label {background-color: #d4ebff;}#sk-container-id-11 div.sk-label input.sk-toggleable__control:checked~label.sk-toggleable__label {background-color: #d4ebff;}#sk-container-id-11 input.sk-hidden--visually {border: 0;clip: rect(1px 1px 1px 1px);clip: rect(1px, 1px, 1px, 1px);height: 1px;margin: -1px;overflow: hidden;padding: 0;position: absolute;width: 1px;}#sk-container-id-11 div.sk-estimator {font-family: monospace;background-color: #f0f8ff;border: 1px dotted black;border-radius: 0.25em;box-sizing: border-box;margin-bottom: 0.5em;}#sk-container-id-11 div.sk-estimator:hover {background-color: #d4ebff;}#sk-container-id-11 div.sk-parallel-item::after {content: \"\";width: 100%;border-bottom: 1px solid gray;flex-grow: 1;}#sk-container-id-11 div.sk-label:hover label.sk-toggleable__label {background-color: #d4ebff;}#sk-container-id-11 div.sk-serial::before {content: \"\";position: absolute;border-left: 1px solid gray;box-sizing: border-box;top: 0;bottom: 0;left: 50%;z-index: 0;}#sk-container-id-11 div.sk-serial {display: flex;flex-direction: column;align-items: center;background-color: white;padding-right: 0.2em;padding-left: 0.2em;position: relative;}#sk-container-id-11 div.sk-item {position: relative;z-index: 1;}#sk-container-id-11 div.sk-parallel {display: flex;align-items: stretch;justify-content: center;background-color: white;position: relative;}#sk-container-id-11 div.sk-item::before, #sk-container-id-11 div.sk-parallel-item::before {content: \"\";position: absolute;border-left: 1px solid gray;box-sizing: border-box;top: 0;bottom: 0;left: 50%;z-index: -1;}#sk-container-id-11 div.sk-parallel-item {display: flex;flex-direction: column;z-index: 1;position: relative;background-color: white;}#sk-container-id-11 div.sk-parallel-item:first-child::after {align-self: flex-end;width: 50%;}#sk-container-id-11 div.sk-parallel-item:last-child::after {align-self: flex-start;width: 50%;}#sk-container-id-11 div.sk-parallel-item:only-child::after {width: 0;}#sk-container-id-11 div.sk-dashed-wrapped {border: 1px dashed gray;margin: 0 0.4em 0.5em 0.4em;box-sizing: border-box;padding-bottom: 0.4em;background-color: white;}#sk-container-id-11 div.sk-label label {font-family: monospace;font-weight: bold;display: inline-block;line-height: 1.2em;}#sk-container-id-11 div.sk-label-container {text-align: center;}#sk-container-id-11 div.sk-container {/* jupyter's `normalize.less` sets `[hidden] { display: none; }` but bootstrap.min.css set `[hidden] { display: none !important; }` so we also need the `!important` here to be able to override the default hidden behavior on the sphinx rendered scikit-learn.org. See: https://github.com/scikit-learn/scikit-learn/issues/21755 */display: inline-block !important;position: relative;}#sk-container-id-11 div.sk-text-repr-fallback {display: none;}</style><div id=\"sk-container-id-11\" class=\"sk-top-container\"><div class=\"sk-text-repr-fallback\"><pre>RandomForestRegressor()</pre><b>In a Jupyter environment, please rerun this cell to show the HTML representation or trust the notebook. <br />On GitHub, the HTML representation is unable to render, please try loading this page with nbviewer.org.</b></div><div class=\"sk-container\" hidden><div class=\"sk-item\"><div class=\"sk-estimator sk-toggleable\"><input class=\"sk-toggleable__control sk-hidden--visually\" id=\"sk-estimator-id-17\" type=\"checkbox\" checked><label for=\"sk-estimator-id-17\" class=\"sk-toggleable__label sk-toggleable__label-arrow\">RandomForestRegressor</label><div class=\"sk-toggleable__content\"><pre>RandomForestRegressor()</pre></div></div></div></div></div>"
            ]
          },
          "metadata": {},
          "execution_count": 61
        }
      ]
    },
    {
      "cell_type": "code",
      "source": [
        "print(\"Coefficient of determination R^2  - train set: {}\".format(rf.score(X_train, y_train)))\n",
        "print(\"Coefficient of determination R^2  - test set: {}\".format(rf.score(X_test, y_test)))"
      ],
      "metadata": {
        "colab": {
          "base_uri": "https://localhost:8080/"
        },
        "id": "eZupFzT8FIWM",
        "outputId": "03b952e7-40bb-485b-c65e-133947842759"
      },
      "execution_count": 62,
      "outputs": [
        {
          "output_type": "stream",
          "name": "stdout",
          "text": [
            "Coefficient of determination R^2  - train set: 0.9049833224577293\n",
            "Coefficient of determination R^2  - test set: 0.38641428270405653\n"
          ]
        }
      ]
    },
    {
      "cell_type": "code",
      "source": [
        "score = cross_val_score(rf, X, y, cv=5)"
      ],
      "metadata": {
        "id": "8ISrqfA1FIYu"
      },
      "execution_count": 63,
      "outputs": []
    },
    {
      "cell_type": "code",
      "source": [
        "score.mean()"
      ],
      "metadata": {
        "colab": {
          "base_uri": "https://localhost:8080/"
        },
        "id": "Q3yj8AQNFYFv",
        "outputId": "dd994e68-3090-4bf0-8867-293bd7b4bc87"
      },
      "execution_count": 64,
      "outputs": [
        {
          "output_type": "execute_result",
          "data": {
            "text/plain": [
              "0.27745982196014785"
            ]
          },
          "metadata": {},
          "execution_count": 64
        }
      ]
    },
    {
      "cell_type": "code",
      "source": [
        "RandomForestRegressor()"
      ],
      "metadata": {
        "colab": {
          "base_uri": "https://localhost:8080/",
          "height": 74
        },
        "id": "692VY_ARFYIM",
        "outputId": "0aa63c77-5a53-4e5b-810b-aa578328d347"
      },
      "execution_count": 65,
      "outputs": [
        {
          "output_type": "execute_result",
          "data": {
            "text/plain": [
              "RandomForestRegressor()"
            ],
            "text/html": [
              "<style>#sk-container-id-12 {color: black;background-color: white;}#sk-container-id-12 pre{padding: 0;}#sk-container-id-12 div.sk-toggleable {background-color: white;}#sk-container-id-12 label.sk-toggleable__label {cursor: pointer;display: block;width: 100%;margin-bottom: 0;padding: 0.3em;box-sizing: border-box;text-align: center;}#sk-container-id-12 label.sk-toggleable__label-arrow:before {content: \"▸\";float: left;margin-right: 0.25em;color: #696969;}#sk-container-id-12 label.sk-toggleable__label-arrow:hover:before {color: black;}#sk-container-id-12 div.sk-estimator:hover label.sk-toggleable__label-arrow:before {color: black;}#sk-container-id-12 div.sk-toggleable__content {max-height: 0;max-width: 0;overflow: hidden;text-align: left;background-color: #f0f8ff;}#sk-container-id-12 div.sk-toggleable__content pre {margin: 0.2em;color: black;border-radius: 0.25em;background-color: #f0f8ff;}#sk-container-id-12 input.sk-toggleable__control:checked~div.sk-toggleable__content {max-height: 200px;max-width: 100%;overflow: auto;}#sk-container-id-12 input.sk-toggleable__control:checked~label.sk-toggleable__label-arrow:before {content: \"▾\";}#sk-container-id-12 div.sk-estimator input.sk-toggleable__control:checked~label.sk-toggleable__label {background-color: #d4ebff;}#sk-container-id-12 div.sk-label input.sk-toggleable__control:checked~label.sk-toggleable__label {background-color: #d4ebff;}#sk-container-id-12 input.sk-hidden--visually {border: 0;clip: rect(1px 1px 1px 1px);clip: rect(1px, 1px, 1px, 1px);height: 1px;margin: -1px;overflow: hidden;padding: 0;position: absolute;width: 1px;}#sk-container-id-12 div.sk-estimator {font-family: monospace;background-color: #f0f8ff;border: 1px dotted black;border-radius: 0.25em;box-sizing: border-box;margin-bottom: 0.5em;}#sk-container-id-12 div.sk-estimator:hover {background-color: #d4ebff;}#sk-container-id-12 div.sk-parallel-item::after {content: \"\";width: 100%;border-bottom: 1px solid gray;flex-grow: 1;}#sk-container-id-12 div.sk-label:hover label.sk-toggleable__label {background-color: #d4ebff;}#sk-container-id-12 div.sk-serial::before {content: \"\";position: absolute;border-left: 1px solid gray;box-sizing: border-box;top: 0;bottom: 0;left: 50%;z-index: 0;}#sk-container-id-12 div.sk-serial {display: flex;flex-direction: column;align-items: center;background-color: white;padding-right: 0.2em;padding-left: 0.2em;position: relative;}#sk-container-id-12 div.sk-item {position: relative;z-index: 1;}#sk-container-id-12 div.sk-parallel {display: flex;align-items: stretch;justify-content: center;background-color: white;position: relative;}#sk-container-id-12 div.sk-item::before, #sk-container-id-12 div.sk-parallel-item::before {content: \"\";position: absolute;border-left: 1px solid gray;box-sizing: border-box;top: 0;bottom: 0;left: 50%;z-index: -1;}#sk-container-id-12 div.sk-parallel-item {display: flex;flex-direction: column;z-index: 1;position: relative;background-color: white;}#sk-container-id-12 div.sk-parallel-item:first-child::after {align-self: flex-end;width: 50%;}#sk-container-id-12 div.sk-parallel-item:last-child::after {align-self: flex-start;width: 50%;}#sk-container-id-12 div.sk-parallel-item:only-child::after {width: 0;}#sk-container-id-12 div.sk-dashed-wrapped {border: 1px dashed gray;margin: 0 0.4em 0.5em 0.4em;box-sizing: border-box;padding-bottom: 0.4em;background-color: white;}#sk-container-id-12 div.sk-label label {font-family: monospace;font-weight: bold;display: inline-block;line-height: 1.2em;}#sk-container-id-12 div.sk-label-container {text-align: center;}#sk-container-id-12 div.sk-container {/* jupyter's `normalize.less` sets `[hidden] { display: none; }` but bootstrap.min.css set `[hidden] { display: none !important; }` so we also need the `!important` here to be able to override the default hidden behavior on the sphinx rendered scikit-learn.org. See: https://github.com/scikit-learn/scikit-learn/issues/21755 */display: inline-block !important;position: relative;}#sk-container-id-12 div.sk-text-repr-fallback {display: none;}</style><div id=\"sk-container-id-12\" class=\"sk-top-container\"><div class=\"sk-text-repr-fallback\"><pre>RandomForestRegressor()</pre><b>In a Jupyter environment, please rerun this cell to show the HTML representation or trust the notebook. <br />On GitHub, the HTML representation is unable to render, please try loading this page with nbviewer.org.</b></div><div class=\"sk-container\" hidden><div class=\"sk-item\"><div class=\"sk-estimator sk-toggleable\"><input class=\"sk-toggleable__control sk-hidden--visually\" id=\"sk-estimator-id-18\" type=\"checkbox\" checked><label for=\"sk-estimator-id-18\" class=\"sk-toggleable__label sk-toggleable__label-arrow\">RandomForestRegressor</label><div class=\"sk-toggleable__content\"><pre>RandomForestRegressor()</pre></div></div></div></div></div>"
            ]
          },
          "metadata": {},
          "execution_count": 65
        }
      ]
    },
    {
      "cell_type": "code",
      "source": [
        "from sklearn.model_selection import RandomizedSearchCV # to determine the hyperparameters"
      ],
      "metadata": {
        "id": "6T2A9GL9FYKt"
      },
      "execution_count": 66,
      "outputs": []
    },
    {
      "cell_type": "code",
      "source": [
        "# Randomized Search CV\n",
        "\n",
        "# Number of trees in random forest\n",
        "n_estimators = [int(x) for x in np.linspace(start = 100, stop = 1300, num = 12)]\n",
        "# Number of features to consider at every split\n",
        "max_features = ['auto', 'sqrt']\n",
        "# Maximum number of levels in tree\n",
        "max_depth = [int(x) for x in np.linspace(5, 40, num = 6)]\n",
        "# max_depth.append(None)\n",
        "# Minimum number of samples required to split a node\n",
        "min_samples_split = [2, 5, 10, 15, 100]\n",
        "# Minimum number of samples required at each leaf node\n",
        "min_samples_leaf = [1, 2, 5, 10]\n",
        "# Method of selecting samples for training each tree\n",
        "# bootstrap = [True, False]"
      ],
      "metadata": {
        "id": "HTdCM0ASFYPu"
      },
      "execution_count": 82,
      "outputs": []
    },
    {
      "cell_type": "code",
      "source": [
        "# Create the random grid\n",
        "random_grid = {'n_estimators': n_estimators,\n",
        "               'max_features': max_features,\n",
        "               'max_depth': max_depth,\n",
        "               'min_samples_split': min_samples_split,\n",
        "               'min_samples_leaf': min_samples_leaf}\n",
        "\n",
        "print(random_grid)"
      ],
      "metadata": {
        "colab": {
          "base_uri": "https://localhost:8080/"
        },
        "id": "zQHCBMgiFYSN",
        "outputId": "58b7e90d-e7c3-41c5-e62c-440f2d0e0bcd"
      },
      "execution_count": 83,
      "outputs": [
        {
          "output_type": "stream",
          "name": "stdout",
          "text": [
            "{'n_estimators': [100, 209, 318, 427, 536, 645, 754, 863, 972, 1081, 1190, 1300], 'max_features': ['auto', 'sqrt'], 'max_depth': [5, 12, 19, 26, 33, 40], 'min_samples_split': [2, 5, 10, 15, 100], 'min_samples_leaf': [1, 2, 5, 10]}\n"
          ]
        }
      ]
    },
    {
      "cell_type": "code",
      "source": [
        "# Use the random grid to search for best hyperparameters\n",
        "# First create the base model to tune\n",
        "rf1 = RandomForestRegressor()"
      ],
      "metadata": {
        "id": "8vN1I2PbFjc6"
      },
      "execution_count": 84,
      "outputs": []
    },
    {
      "cell_type": "code",
      "source": [
        "# Random search of parameters, using 3 fold cross validation,\n",
        "# search across 100 different combinations\n",
        "rf1_random = RandomizedSearchCV(estimator = rf1, param_distributions = random_grid, scoring='neg_mean_squared_error', n_iter = 100, cv = 5, verbose=2, random_state=42, n_jobs = 1)"
      ],
      "metadata": {
        "id": "Tg4TNsPHFjfs"
      },
      "execution_count": 85,
      "outputs": []
    },
    {
      "cell_type": "code",
      "source": [
        "rf1_random.fit(X_train,y_train)"
      ],
      "metadata": {
        "colab": {
          "base_uri": "https://localhost:8080/",
          "height": 1000
        },
        "id": "aZhQ7r8RFjiM",
        "outputId": "e04311d7-98fd-48bf-b956-5f0eeb6e3560"
      },
      "execution_count": 86,
      "outputs": [
        {
          "output_type": "stream",
          "name": "stdout",
          "text": [
            "Fitting 5 folds for each of 100 candidates, totalling 500 fits\n",
            "[CV] END max_depth=5, max_features=sqrt, min_samples_leaf=10, min_samples_split=100, n_estimators=427; total time=   0.4s\n",
            "[CV] END max_depth=5, max_features=sqrt, min_samples_leaf=10, min_samples_split=100, n_estimators=427; total time=   0.4s\n",
            "[CV] END max_depth=5, max_features=sqrt, min_samples_leaf=10, min_samples_split=100, n_estimators=427; total time=   0.4s\n",
            "[CV] END max_depth=5, max_features=sqrt, min_samples_leaf=10, min_samples_split=100, n_estimators=427; total time=   0.4s\n",
            "[CV] END max_depth=5, max_features=sqrt, min_samples_leaf=10, min_samples_split=100, n_estimators=427; total time=   0.4s\n",
            "[CV] END max_depth=26, max_features=auto, min_samples_leaf=1, min_samples_split=5, n_estimators=209; total time=   0.4s\n",
            "[CV] END max_depth=26, max_features=auto, min_samples_leaf=1, min_samples_split=5, n_estimators=209; total time=   0.4s\n",
            "[CV] END max_depth=26, max_features=auto, min_samples_leaf=1, min_samples_split=5, n_estimators=209; total time=   0.4s\n",
            "[CV] END max_depth=26, max_features=auto, min_samples_leaf=1, min_samples_split=5, n_estimators=209; total time=   0.4s\n",
            "[CV] END max_depth=26, max_features=auto, min_samples_leaf=1, min_samples_split=5, n_estimators=209; total time=   0.4s\n",
            "[CV] END max_depth=33, max_features=sqrt, min_samples_leaf=10, min_samples_split=15, n_estimators=209; total time=   0.2s\n",
            "[CV] END max_depth=33, max_features=sqrt, min_samples_leaf=10, min_samples_split=15, n_estimators=209; total time=   0.2s\n",
            "[CV] END max_depth=33, max_features=sqrt, min_samples_leaf=10, min_samples_split=15, n_estimators=209; total time=   0.3s\n",
            "[CV] END max_depth=33, max_features=sqrt, min_samples_leaf=10, min_samples_split=15, n_estimators=209; total time=   0.3s\n",
            "[CV] END max_depth=33, max_features=sqrt, min_samples_leaf=10, min_samples_split=15, n_estimators=209; total time=   0.3s\n",
            "[CV] END max_depth=26, max_features=auto, min_samples_leaf=5, min_samples_split=15, n_estimators=645; total time=   1.3s\n",
            "[CV] END max_depth=26, max_features=auto, min_samples_leaf=5, min_samples_split=15, n_estimators=645; total time=   1.0s\n",
            "[CV] END max_depth=26, max_features=auto, min_samples_leaf=5, min_samples_split=15, n_estimators=645; total time=   1.0s\n",
            "[CV] END max_depth=26, max_features=auto, min_samples_leaf=5, min_samples_split=15, n_estimators=645; total time=   1.0s\n",
            "[CV] END max_depth=26, max_features=auto, min_samples_leaf=5, min_samples_split=15, n_estimators=645; total time=   1.0s\n",
            "[CV] END max_depth=19, max_features=auto, min_samples_leaf=5, min_samples_split=5, n_estimators=318; total time=   0.5s\n",
            "[CV] END max_depth=19, max_features=auto, min_samples_leaf=5, min_samples_split=5, n_estimators=318; total time=   0.5s\n",
            "[CV] END max_depth=19, max_features=auto, min_samples_leaf=5, min_samples_split=5, n_estimators=318; total time=   0.5s\n",
            "[CV] END max_depth=19, max_features=auto, min_samples_leaf=5, min_samples_split=5, n_estimators=318; total time=   0.5s\n",
            "[CV] END max_depth=19, max_features=auto, min_samples_leaf=5, min_samples_split=5, n_estimators=318; total time=   0.5s\n",
            "[CV] END max_depth=19, max_features=sqrt, min_samples_leaf=1, min_samples_split=100, n_estimators=863; total time=   0.8s\n",
            "[CV] END max_depth=19, max_features=sqrt, min_samples_leaf=1, min_samples_split=100, n_estimators=863; total time=   0.9s\n",
            "[CV] END max_depth=19, max_features=sqrt, min_samples_leaf=1, min_samples_split=100, n_estimators=863; total time=   0.8s\n",
            "[CV] END max_depth=19, max_features=sqrt, min_samples_leaf=1, min_samples_split=100, n_estimators=863; total time=   0.8s\n",
            "[CV] END max_depth=19, max_features=sqrt, min_samples_leaf=1, min_samples_split=100, n_estimators=863; total time=   1.2s\n",
            "[CV] END max_depth=19, max_features=auto, min_samples_leaf=5, min_samples_split=100, n_estimators=100; total time=   0.2s\n",
            "[CV] END max_depth=19, max_features=auto, min_samples_leaf=5, min_samples_split=100, n_estimators=100; total time=   0.2s\n",
            "[CV] END max_depth=19, max_features=auto, min_samples_leaf=5, min_samples_split=100, n_estimators=100; total time=   0.2s\n",
            "[CV] END max_depth=19, max_features=auto, min_samples_leaf=5, min_samples_split=100, n_estimators=100; total time=   0.2s\n",
            "[CV] END max_depth=19, max_features=auto, min_samples_leaf=5, min_samples_split=100, n_estimators=100; total time=   0.1s\n",
            "[CV] END max_depth=33, max_features=sqrt, min_samples_leaf=2, min_samples_split=10, n_estimators=972; total time=   1.2s\n",
            "[CV] END max_depth=33, max_features=sqrt, min_samples_leaf=2, min_samples_split=10, n_estimators=972; total time=   1.1s\n",
            "[CV] END max_depth=33, max_features=sqrt, min_samples_leaf=2, min_samples_split=10, n_estimators=972; total time=   1.1s\n",
            "[CV] END max_depth=33, max_features=sqrt, min_samples_leaf=2, min_samples_split=10, n_estimators=972; total time=   1.1s\n",
            "[CV] END max_depth=33, max_features=sqrt, min_samples_leaf=2, min_samples_split=10, n_estimators=972; total time=   1.1s\n",
            "[CV] END max_depth=12, max_features=sqrt, min_samples_leaf=10, min_samples_split=15, n_estimators=1081; total time=   1.1s\n",
            "[CV] END max_depth=12, max_features=sqrt, min_samples_leaf=10, min_samples_split=15, n_estimators=1081; total time=   1.2s\n",
            "[CV] END max_depth=12, max_features=sqrt, min_samples_leaf=10, min_samples_split=15, n_estimators=1081; total time=   1.1s\n",
            "[CV] END max_depth=12, max_features=sqrt, min_samples_leaf=10, min_samples_split=15, n_estimators=1081; total time=   1.3s\n",
            "[CV] END max_depth=12, max_features=sqrt, min_samples_leaf=10, min_samples_split=15, n_estimators=1081; total time=   1.5s\n",
            "[CV] END max_depth=26, max_features=sqrt, min_samples_leaf=5, min_samples_split=2, n_estimators=100; total time=   0.1s\n",
            "[CV] END max_depth=26, max_features=sqrt, min_samples_leaf=5, min_samples_split=2, n_estimators=100; total time=   0.1s\n",
            "[CV] END max_depth=26, max_features=sqrt, min_samples_leaf=5, min_samples_split=2, n_estimators=100; total time=   0.1s\n",
            "[CV] END max_depth=26, max_features=sqrt, min_samples_leaf=5, min_samples_split=2, n_estimators=100; total time=   0.1s\n",
            "[CV] END max_depth=26, max_features=sqrt, min_samples_leaf=5, min_samples_split=2, n_estimators=100; total time=   0.1s\n",
            "[CV] END max_depth=40, max_features=sqrt, min_samples_leaf=5, min_samples_split=5, n_estimators=318; total time=   0.4s\n",
            "[CV] END max_depth=40, max_features=sqrt, min_samples_leaf=5, min_samples_split=5, n_estimators=318; total time=   0.4s\n",
            "[CV] END max_depth=40, max_features=sqrt, min_samples_leaf=5, min_samples_split=5, n_estimators=318; total time=   0.4s\n",
            "[CV] END max_depth=40, max_features=sqrt, min_samples_leaf=5, min_samples_split=5, n_estimators=318; total time=   0.4s\n",
            "[CV] END max_depth=40, max_features=sqrt, min_samples_leaf=5, min_samples_split=5, n_estimators=318; total time=   0.4s\n",
            "[CV] END max_depth=40, max_features=sqrt, min_samples_leaf=2, min_samples_split=10, n_estimators=427; total time=   0.5s\n",
            "[CV] END max_depth=40, max_features=sqrt, min_samples_leaf=2, min_samples_split=10, n_estimators=427; total time=   0.5s\n",
            "[CV] END max_depth=40, max_features=sqrt, min_samples_leaf=2, min_samples_split=10, n_estimators=427; total time=   0.5s\n",
            "[CV] END max_depth=40, max_features=sqrt, min_samples_leaf=2, min_samples_split=10, n_estimators=427; total time=   0.5s\n",
            "[CV] END max_depth=40, max_features=sqrt, min_samples_leaf=2, min_samples_split=10, n_estimators=427; total time=   0.5s\n",
            "[CV] END max_depth=5, max_features=sqrt, min_samples_leaf=5, min_samples_split=2, n_estimators=972; total time=   1.0s\n",
            "[CV] END max_depth=5, max_features=sqrt, min_samples_leaf=5, min_samples_split=2, n_estimators=972; total time=   1.0s\n",
            "[CV] END max_depth=5, max_features=sqrt, min_samples_leaf=5, min_samples_split=2, n_estimators=972; total time=   1.0s\n",
            "[CV] END max_depth=5, max_features=sqrt, min_samples_leaf=5, min_samples_split=2, n_estimators=972; total time=   1.0s\n",
            "[CV] END max_depth=5, max_features=sqrt, min_samples_leaf=5, min_samples_split=2, n_estimators=972; total time=   1.1s\n",
            "[CV] END max_depth=26, max_features=sqrt, min_samples_leaf=2, min_samples_split=5, n_estimators=972; total time=   1.7s\n",
            "[CV] END max_depth=26, max_features=sqrt, min_samples_leaf=2, min_samples_split=5, n_estimators=972; total time=   1.2s\n",
            "[CV] END max_depth=26, max_features=sqrt, min_samples_leaf=2, min_samples_split=5, n_estimators=972; total time=   1.2s\n",
            "[CV] END max_depth=26, max_features=sqrt, min_samples_leaf=2, min_samples_split=5, n_estimators=972; total time=   1.2s\n",
            "[CV] END max_depth=26, max_features=sqrt, min_samples_leaf=2, min_samples_split=5, n_estimators=972; total time=   1.2s\n",
            "[CV] END max_depth=12, max_features=sqrt, min_samples_leaf=2, min_samples_split=15, n_estimators=209; total time=   0.2s\n",
            "[CV] END max_depth=12, max_features=sqrt, min_samples_leaf=2, min_samples_split=15, n_estimators=209; total time=   0.2s\n",
            "[CV] END max_depth=12, max_features=sqrt, min_samples_leaf=2, min_samples_split=15, n_estimators=209; total time=   0.2s\n",
            "[CV] END max_depth=12, max_features=sqrt, min_samples_leaf=2, min_samples_split=15, n_estimators=209; total time=   0.2s\n",
            "[CV] END max_depth=12, max_features=sqrt, min_samples_leaf=2, min_samples_split=15, n_estimators=209; total time=   0.2s\n",
            "[CV] END max_depth=12, max_features=sqrt, min_samples_leaf=2, min_samples_split=2, n_estimators=209; total time=   0.3s\n",
            "[CV] END max_depth=12, max_features=sqrt, min_samples_leaf=2, min_samples_split=2, n_estimators=209; total time=   0.3s\n",
            "[CV] END max_depth=12, max_features=sqrt, min_samples_leaf=2, min_samples_split=2, n_estimators=209; total time=   0.3s\n",
            "[CV] END max_depth=12, max_features=sqrt, min_samples_leaf=2, min_samples_split=2, n_estimators=209; total time=   0.3s\n",
            "[CV] END max_depth=12, max_features=sqrt, min_samples_leaf=2, min_samples_split=2, n_estimators=209; total time=   0.3s\n",
            "[CV] END max_depth=12, max_features=auto, min_samples_leaf=1, min_samples_split=5, n_estimators=754; total time=   1.3s\n",
            "[CV] END max_depth=12, max_features=auto, min_samples_leaf=1, min_samples_split=5, n_estimators=754; total time=   1.4s\n",
            "[CV] END max_depth=12, max_features=auto, min_samples_leaf=1, min_samples_split=5, n_estimators=754; total time=   1.7s\n",
            "[CV] END max_depth=12, max_features=auto, min_samples_leaf=1, min_samples_split=5, n_estimators=754; total time=   1.3s\n",
            "[CV] END max_depth=12, max_features=auto, min_samples_leaf=1, min_samples_split=5, n_estimators=754; total time=   1.3s\n",
            "[CV] END max_depth=5, max_features=auto, min_samples_leaf=10, min_samples_split=100, n_estimators=1300; total time=   1.5s\n",
            "[CV] END max_depth=5, max_features=auto, min_samples_leaf=10, min_samples_split=100, n_estimators=1300; total time=   1.5s\n",
            "[CV] END max_depth=5, max_features=auto, min_samples_leaf=10, min_samples_split=100, n_estimators=1300; total time=   1.5s\n",
            "[CV] END max_depth=5, max_features=auto, min_samples_leaf=10, min_samples_split=100, n_estimators=1300; total time=   1.5s\n",
            "[CV] END max_depth=5, max_features=auto, min_samples_leaf=10, min_samples_split=100, n_estimators=1300; total time=   1.7s\n",
            "[CV] END max_depth=5, max_features=sqrt, min_samples_leaf=2, min_samples_split=10, n_estimators=863; total time=   1.2s\n",
            "[CV] END max_depth=5, max_features=sqrt, min_samples_leaf=2, min_samples_split=10, n_estimators=863; total time=   0.9s\n",
            "[CV] END max_depth=5, max_features=sqrt, min_samples_leaf=2, min_samples_split=10, n_estimators=863; total time=   0.9s\n",
            "[CV] END max_depth=5, max_features=sqrt, min_samples_leaf=2, min_samples_split=10, n_estimators=863; total time=   0.9s\n",
            "[CV] END max_depth=5, max_features=sqrt, min_samples_leaf=2, min_samples_split=10, n_estimators=863; total time=   0.9s\n",
            "[CV] END max_depth=12, max_features=sqrt, min_samples_leaf=2, min_samples_split=100, n_estimators=1190; total time=   1.2s\n",
            "[CV] END max_depth=12, max_features=sqrt, min_samples_leaf=2, min_samples_split=100, n_estimators=1190; total time=   1.2s\n",
            "[CV] END max_depth=12, max_features=sqrt, min_samples_leaf=2, min_samples_split=100, n_estimators=1190; total time=   1.2s\n",
            "[CV] END max_depth=12, max_features=sqrt, min_samples_leaf=2, min_samples_split=100, n_estimators=1190; total time=   1.1s\n",
            "[CV] END max_depth=12, max_features=sqrt, min_samples_leaf=2, min_samples_split=100, n_estimators=1190; total time=   1.1s\n",
            "[CV] END max_depth=12, max_features=sqrt, min_samples_leaf=10, min_samples_split=100, n_estimators=536; total time=   0.5s\n",
            "[CV] END max_depth=12, max_features=sqrt, min_samples_leaf=10, min_samples_split=100, n_estimators=536; total time=   0.7s\n",
            "[CV] END max_depth=12, max_features=sqrt, min_samples_leaf=10, min_samples_split=100, n_estimators=536; total time=   0.7s\n",
            "[CV] END max_depth=12, max_features=sqrt, min_samples_leaf=10, min_samples_split=100, n_estimators=536; total time=   0.7s\n",
            "[CV] END max_depth=12, max_features=sqrt, min_samples_leaf=10, min_samples_split=100, n_estimators=536; total time=   0.5s\n",
            "[CV] END max_depth=19, max_features=sqrt, min_samples_leaf=1, min_samples_split=5, n_estimators=1081; total time=   1.4s\n",
            "[CV] END max_depth=19, max_features=sqrt, min_samples_leaf=1, min_samples_split=5, n_estimators=1081; total time=   1.4s\n",
            "[CV] END max_depth=19, max_features=sqrt, min_samples_leaf=1, min_samples_split=5, n_estimators=1081; total time=   1.4s\n",
            "[CV] END max_depth=19, max_features=sqrt, min_samples_leaf=1, min_samples_split=5, n_estimators=1081; total time=   1.4s\n",
            "[CV] END max_depth=19, max_features=sqrt, min_samples_leaf=1, min_samples_split=5, n_estimators=1081; total time=   1.4s\n",
            "[CV] END max_depth=19, max_features=sqrt, min_samples_leaf=2, min_samples_split=2, n_estimators=1081; total time=   1.4s\n",
            "[CV] END max_depth=19, max_features=sqrt, min_samples_leaf=2, min_samples_split=2, n_estimators=1081; total time=   1.5s\n",
            "[CV] END max_depth=19, max_features=sqrt, min_samples_leaf=2, min_samples_split=2, n_estimators=1081; total time=   1.8s\n",
            "[CV] END max_depth=19, max_features=sqrt, min_samples_leaf=2, min_samples_split=2, n_estimators=1081; total time=   1.3s\n",
            "[CV] END max_depth=19, max_features=sqrt, min_samples_leaf=2, min_samples_split=2, n_estimators=1081; total time=   1.4s\n",
            "[CV] END max_depth=33, max_features=sqrt, min_samples_leaf=10, min_samples_split=10, n_estimators=1300; total time=   1.4s\n",
            "[CV] END max_depth=33, max_features=sqrt, min_samples_leaf=10, min_samples_split=10, n_estimators=1300; total time=   1.4s\n",
            "[CV] END max_depth=33, max_features=sqrt, min_samples_leaf=10, min_samples_split=10, n_estimators=1300; total time=   1.4s\n",
            "[CV] END max_depth=33, max_features=sqrt, min_samples_leaf=10, min_samples_split=10, n_estimators=1300; total time=   1.4s\n",
            "[CV] END max_depth=33, max_features=sqrt, min_samples_leaf=10, min_samples_split=10, n_estimators=1300; total time=   1.4s\n",
            "[CV] END max_depth=26, max_features=sqrt, min_samples_leaf=2, min_samples_split=15, n_estimators=318; total time=   0.5s\n",
            "[CV] END max_depth=26, max_features=sqrt, min_samples_leaf=2, min_samples_split=15, n_estimators=318; total time=   0.5s\n",
            "[CV] END max_depth=26, max_features=sqrt, min_samples_leaf=2, min_samples_split=15, n_estimators=318; total time=   0.5s\n",
            "[CV] END max_depth=26, max_features=sqrt, min_samples_leaf=2, min_samples_split=15, n_estimators=318; total time=   0.4s\n",
            "[CV] END max_depth=26, max_features=sqrt, min_samples_leaf=2, min_samples_split=15, n_estimators=318; total time=   0.4s\n",
            "[CV] END max_depth=26, max_features=auto, min_samples_leaf=2, min_samples_split=5, n_estimators=645; total time=   1.1s\n",
            "[CV] END max_depth=26, max_features=auto, min_samples_leaf=2, min_samples_split=5, n_estimators=645; total time=   1.1s\n",
            "[CV] END max_depth=26, max_features=auto, min_samples_leaf=2, min_samples_split=5, n_estimators=645; total time=   1.1s\n",
            "[CV] END max_depth=26, max_features=auto, min_samples_leaf=2, min_samples_split=5, n_estimators=645; total time=   1.1s\n",
            "[CV] END max_depth=26, max_features=auto, min_samples_leaf=2, min_samples_split=5, n_estimators=645; total time=   1.1s\n",
            "[CV] END max_depth=33, max_features=auto, min_samples_leaf=2, min_samples_split=5, n_estimators=1190; total time=   2.1s\n",
            "[CV] END max_depth=33, max_features=auto, min_samples_leaf=2, min_samples_split=5, n_estimators=1190; total time=   2.1s\n",
            "[CV] END max_depth=33, max_features=auto, min_samples_leaf=2, min_samples_split=5, n_estimators=1190; total time=   2.5s\n",
            "[CV] END max_depth=33, max_features=auto, min_samples_leaf=2, min_samples_split=5, n_estimators=1190; total time=   2.0s\n",
            "[CV] END max_depth=33, max_features=auto, min_samples_leaf=2, min_samples_split=5, n_estimators=1190; total time=   2.0s\n",
            "[CV] END max_depth=19, max_features=auto, min_samples_leaf=1, min_samples_split=100, n_estimators=318; total time=   0.4s\n",
            "[CV] END max_depth=19, max_features=auto, min_samples_leaf=1, min_samples_split=100, n_estimators=318; total time=   0.4s\n",
            "[CV] END max_depth=19, max_features=auto, min_samples_leaf=1, min_samples_split=100, n_estimators=318; total time=   0.4s\n",
            "[CV] END max_depth=19, max_features=auto, min_samples_leaf=1, min_samples_split=100, n_estimators=318; total time=   0.4s\n",
            "[CV] END max_depth=19, max_features=auto, min_samples_leaf=1, min_samples_split=100, n_estimators=318; total time=   0.4s\n",
            "[CV] END max_depth=26, max_features=sqrt, min_samples_leaf=2, min_samples_split=5, n_estimators=100; total time=   0.1s\n",
            "[CV] END max_depth=26, max_features=sqrt, min_samples_leaf=2, min_samples_split=5, n_estimators=100; total time=   0.1s\n",
            "[CV] END max_depth=26, max_features=sqrt, min_samples_leaf=2, min_samples_split=5, n_estimators=100; total time=   0.1s\n",
            "[CV] END max_depth=26, max_features=sqrt, min_samples_leaf=2, min_samples_split=5, n_estimators=100; total time=   0.1s\n",
            "[CV] END max_depth=26, max_features=sqrt, min_samples_leaf=2, min_samples_split=5, n_estimators=100; total time=   0.1s\n",
            "[CV] END max_depth=26, max_features=sqrt, min_samples_leaf=10, min_samples_split=100, n_estimators=754; total time=   0.7s\n",
            "[CV] END max_depth=26, max_features=sqrt, min_samples_leaf=10, min_samples_split=100, n_estimators=754; total time=   0.7s\n",
            "[CV] END max_depth=26, max_features=sqrt, min_samples_leaf=10, min_samples_split=100, n_estimators=754; total time=   0.7s\n",
            "[CV] END max_depth=26, max_features=sqrt, min_samples_leaf=10, min_samples_split=100, n_estimators=754; total time=   1.0s\n",
            "[CV] END max_depth=26, max_features=sqrt, min_samples_leaf=10, min_samples_split=100, n_estimators=754; total time=   1.0s\n",
            "[CV] END max_depth=19, max_features=sqrt, min_samples_leaf=10, min_samples_split=100, n_estimators=209; total time=   0.2s\n",
            "[CV] END max_depth=19, max_features=sqrt, min_samples_leaf=10, min_samples_split=100, n_estimators=209; total time=   0.2s\n",
            "[CV] END max_depth=19, max_features=sqrt, min_samples_leaf=10, min_samples_split=100, n_estimators=209; total time=   0.2s\n",
            "[CV] END max_depth=19, max_features=sqrt, min_samples_leaf=10, min_samples_split=100, n_estimators=209; total time=   0.2s\n",
            "[CV] END max_depth=19, max_features=sqrt, min_samples_leaf=10, min_samples_split=100, n_estimators=209; total time=   0.2s\n",
            "[CV] END max_depth=26, max_features=auto, min_samples_leaf=5, min_samples_split=2, n_estimators=536; total time=   0.8s\n",
            "[CV] END max_depth=26, max_features=auto, min_samples_leaf=5, min_samples_split=2, n_estimators=536; total time=   0.8s\n",
            "[CV] END max_depth=26, max_features=auto, min_samples_leaf=5, min_samples_split=2, n_estimators=536; total time=   0.8s\n",
            "[CV] END max_depth=26, max_features=auto, min_samples_leaf=5, min_samples_split=2, n_estimators=536; total time=   0.8s\n",
            "[CV] END max_depth=26, max_features=auto, min_samples_leaf=5, min_samples_split=2, n_estimators=536; total time=   0.8s\n",
            "[CV] END max_depth=33, max_features=sqrt, min_samples_leaf=10, min_samples_split=10, n_estimators=972; total time=   1.0s\n",
            "[CV] END max_depth=33, max_features=sqrt, min_samples_leaf=10, min_samples_split=10, n_estimators=972; total time=   1.0s\n",
            "[CV] END max_depth=33, max_features=sqrt, min_samples_leaf=10, min_samples_split=10, n_estimators=972; total time=   1.0s\n",
            "[CV] END max_depth=33, max_features=sqrt, min_samples_leaf=10, min_samples_split=10, n_estimators=972; total time=   1.0s\n",
            "[CV] END max_depth=33, max_features=sqrt, min_samples_leaf=10, min_samples_split=10, n_estimators=972; total time=   1.2s\n",
            "[CV] END max_depth=40, max_features=auto, min_samples_leaf=5, min_samples_split=15, n_estimators=1300; total time=   2.3s\n",
            "[CV] END max_depth=40, max_features=auto, min_samples_leaf=5, min_samples_split=15, n_estimators=1300; total time=   1.9s\n",
            "[CV] END max_depth=40, max_features=auto, min_samples_leaf=5, min_samples_split=15, n_estimators=1300; total time=   1.9s\n",
            "[CV] END max_depth=40, max_features=auto, min_samples_leaf=5, min_samples_split=15, n_estimators=1300; total time=   1.9s\n",
            "[CV] END max_depth=40, max_features=auto, min_samples_leaf=5, min_samples_split=15, n_estimators=1300; total time=   1.9s\n",
            "[CV] END max_depth=33, max_features=auto, min_samples_leaf=1, min_samples_split=10, n_estimators=972; total time=   1.7s\n",
            "[CV] END max_depth=33, max_features=auto, min_samples_leaf=1, min_samples_split=10, n_estimators=972; total time=   2.0s\n",
            "[CV] END max_depth=33, max_features=auto, min_samples_leaf=1, min_samples_split=10, n_estimators=972; total time=   1.6s\n",
            "[CV] END max_depth=33, max_features=auto, min_samples_leaf=1, min_samples_split=10, n_estimators=972; total time=   1.6s\n",
            "[CV] END max_depth=33, max_features=auto, min_samples_leaf=1, min_samples_split=10, n_estimators=972; total time=   1.6s\n",
            "[CV] END max_depth=12, max_features=sqrt, min_samples_leaf=5, min_samples_split=5, n_estimators=645; total time=   0.7s\n",
            "[CV] END max_depth=12, max_features=sqrt, min_samples_leaf=5, min_samples_split=5, n_estimators=645; total time=   0.7s\n",
            "[CV] END max_depth=12, max_features=sqrt, min_samples_leaf=5, min_samples_split=5, n_estimators=645; total time=   0.7s\n",
            "[CV] END max_depth=12, max_features=sqrt, min_samples_leaf=5, min_samples_split=5, n_estimators=645; total time=   0.7s\n",
            "[CV] END max_depth=12, max_features=sqrt, min_samples_leaf=5, min_samples_split=5, n_estimators=645; total time=   0.7s\n",
            "[CV] END max_depth=33, max_features=sqrt, min_samples_leaf=5, min_samples_split=5, n_estimators=863; total time=   1.0s\n",
            "[CV] END max_depth=33, max_features=sqrt, min_samples_leaf=5, min_samples_split=5, n_estimators=863; total time=   1.4s\n",
            "[CV] END max_depth=33, max_features=sqrt, min_samples_leaf=5, min_samples_split=5, n_estimators=863; total time=   1.1s\n",
            "[CV] END max_depth=33, max_features=sqrt, min_samples_leaf=5, min_samples_split=5, n_estimators=863; total time=   1.0s\n",
            "[CV] END max_depth=33, max_features=sqrt, min_samples_leaf=5, min_samples_split=5, n_estimators=863; total time=   1.0s\n",
            "[CV] END max_depth=5, max_features=auto, min_samples_leaf=5, min_samples_split=2, n_estimators=536; total time=   0.7s\n",
            "[CV] END max_depth=5, max_features=auto, min_samples_leaf=5, min_samples_split=2, n_estimators=536; total time=   0.7s\n",
            "[CV] END max_depth=5, max_features=auto, min_samples_leaf=5, min_samples_split=2, n_estimators=536; total time=   0.7s\n",
            "[CV] END max_depth=5, max_features=auto, min_samples_leaf=5, min_samples_split=2, n_estimators=536; total time=   0.7s\n",
            "[CV] END max_depth=5, max_features=auto, min_samples_leaf=5, min_samples_split=2, n_estimators=536; total time=   0.7s\n",
            "[CV] END max_depth=33, max_features=sqrt, min_samples_leaf=2, min_samples_split=100, n_estimators=863; total time=   0.8s\n",
            "[CV] END max_depth=33, max_features=sqrt, min_samples_leaf=2, min_samples_split=100, n_estimators=863; total time=   0.9s\n",
            "[CV] END max_depth=33, max_features=sqrt, min_samples_leaf=2, min_samples_split=100, n_estimators=863; total time=   0.8s\n",
            "[CV] END max_depth=33, max_features=sqrt, min_samples_leaf=2, min_samples_split=100, n_estimators=863; total time=   0.8s\n",
            "[CV] END max_depth=33, max_features=sqrt, min_samples_leaf=2, min_samples_split=100, n_estimators=863; total time=   1.0s\n",
            "[CV] END max_depth=40, max_features=sqrt, min_samples_leaf=5, min_samples_split=2, n_estimators=1300; total time=   1.9s\n",
            "[CV] END max_depth=40, max_features=sqrt, min_samples_leaf=5, min_samples_split=2, n_estimators=1300; total time=   1.5s\n",
            "[CV] END max_depth=40, max_features=sqrt, min_samples_leaf=5, min_samples_split=2, n_estimators=1300; total time=   1.4s\n",
            "[CV] END max_depth=40, max_features=sqrt, min_samples_leaf=5, min_samples_split=2, n_estimators=1300; total time=   1.5s\n",
            "[CV] END max_depth=40, max_features=sqrt, min_samples_leaf=5, min_samples_split=2, n_estimators=1300; total time=   1.5s\n",
            "[CV] END max_depth=40, max_features=sqrt, min_samples_leaf=1, min_samples_split=10, n_estimators=645; total time=   0.8s\n",
            "[CV] END max_depth=40, max_features=sqrt, min_samples_leaf=1, min_samples_split=10, n_estimators=645; total time=   0.8s\n",
            "[CV] END max_depth=40, max_features=sqrt, min_samples_leaf=1, min_samples_split=10, n_estimators=645; total time=   0.8s\n",
            "[CV] END max_depth=40, max_features=sqrt, min_samples_leaf=1, min_samples_split=10, n_estimators=645; total time=   0.8s\n",
            "[CV] END max_depth=40, max_features=sqrt, min_samples_leaf=1, min_samples_split=10, n_estimators=645; total time=   0.9s\n",
            "[CV] END max_depth=26, max_features=auto, min_samples_leaf=1, min_samples_split=10, n_estimators=972; total time=   2.0s\n",
            "[CV] END max_depth=26, max_features=auto, min_samples_leaf=1, min_samples_split=10, n_estimators=972; total time=   1.6s\n",
            "[CV] END max_depth=26, max_features=auto, min_samples_leaf=1, min_samples_split=10, n_estimators=972; total time=   1.6s\n",
            "[CV] END max_depth=26, max_features=auto, min_samples_leaf=1, min_samples_split=10, n_estimators=972; total time=   1.6s\n",
            "[CV] END max_depth=26, max_features=auto, min_samples_leaf=1, min_samples_split=10, n_estimators=972; total time=   1.6s\n",
            "[CV] END max_depth=19, max_features=sqrt, min_samples_leaf=5, min_samples_split=2, n_estimators=209; total time=   0.2s\n",
            "[CV] END max_depth=19, max_features=sqrt, min_samples_leaf=5, min_samples_split=2, n_estimators=209; total time=   0.2s\n",
            "[CV] END max_depth=19, max_features=sqrt, min_samples_leaf=5, min_samples_split=2, n_estimators=209; total time=   0.2s\n",
            "[CV] END max_depth=19, max_features=sqrt, min_samples_leaf=5, min_samples_split=2, n_estimators=209; total time=   0.2s\n",
            "[CV] END max_depth=19, max_features=sqrt, min_samples_leaf=5, min_samples_split=2, n_estimators=209; total time=   0.3s\n",
            "[CV] END max_depth=33, max_features=sqrt, min_samples_leaf=10, min_samples_split=10, n_estimators=754; total time=   0.8s\n",
            "[CV] END max_depth=33, max_features=sqrt, min_samples_leaf=10, min_samples_split=10, n_estimators=754; total time=   0.8s\n",
            "[CV] END max_depth=33, max_features=sqrt, min_samples_leaf=10, min_samples_split=10, n_estimators=754; total time=   1.1s\n",
            "[CV] END max_depth=33, max_features=sqrt, min_samples_leaf=10, min_samples_split=10, n_estimators=754; total time=   1.0s\n",
            "[CV] END max_depth=33, max_features=sqrt, min_samples_leaf=10, min_samples_split=10, n_estimators=754; total time=   0.8s\n",
            "[CV] END max_depth=19, max_features=sqrt, min_samples_leaf=10, min_samples_split=10, n_estimators=209; total time=   0.2s\n",
            "[CV] END max_depth=19, max_features=sqrt, min_samples_leaf=10, min_samples_split=10, n_estimators=209; total time=   0.2s\n",
            "[CV] END max_depth=19, max_features=sqrt, min_samples_leaf=10, min_samples_split=10, n_estimators=209; total time=   0.2s\n",
            "[CV] END max_depth=19, max_features=sqrt, min_samples_leaf=10, min_samples_split=10, n_estimators=209; total time=   0.2s\n",
            "[CV] END max_depth=19, max_features=sqrt, min_samples_leaf=10, min_samples_split=10, n_estimators=209; total time=   0.2s\n",
            "[CV] END max_depth=33, max_features=auto, min_samples_leaf=2, min_samples_split=100, n_estimators=209; total time=   0.3s\n",
            "[CV] END max_depth=33, max_features=auto, min_samples_leaf=2, min_samples_split=100, n_estimators=209; total time=   0.3s\n",
            "[CV] END max_depth=33, max_features=auto, min_samples_leaf=2, min_samples_split=100, n_estimators=209; total time=   0.2s\n",
            "[CV] END max_depth=33, max_features=auto, min_samples_leaf=2, min_samples_split=100, n_estimators=209; total time=   0.3s\n",
            "[CV] END max_depth=33, max_features=auto, min_samples_leaf=2, min_samples_split=100, n_estimators=209; total time=   0.3s\n",
            "[CV] END max_depth=26, max_features=sqrt, min_samples_leaf=5, min_samples_split=2, n_estimators=427; total time=   0.5s\n",
            "[CV] END max_depth=26, max_features=sqrt, min_samples_leaf=5, min_samples_split=2, n_estimators=427; total time=   0.5s\n",
            "[CV] END max_depth=26, max_features=sqrt, min_samples_leaf=5, min_samples_split=2, n_estimators=427; total time=   0.5s\n",
            "[CV] END max_depth=26, max_features=sqrt, min_samples_leaf=5, min_samples_split=2, n_estimators=427; total time=   0.5s\n",
            "[CV] END max_depth=26, max_features=sqrt, min_samples_leaf=5, min_samples_split=2, n_estimators=427; total time=   0.5s\n",
            "[CV] END max_depth=5, max_features=sqrt, min_samples_leaf=1, min_samples_split=100, n_estimators=972; total time=   0.9s\n",
            "[CV] END max_depth=5, max_features=sqrt, min_samples_leaf=1, min_samples_split=100, n_estimators=972; total time=   0.9s\n",
            "[CV] END max_depth=5, max_features=sqrt, min_samples_leaf=1, min_samples_split=100, n_estimators=972; total time=   0.9s\n",
            "[CV] END max_depth=5, max_features=sqrt, min_samples_leaf=1, min_samples_split=100, n_estimators=972; total time=   0.9s\n",
            "[CV] END max_depth=5, max_features=sqrt, min_samples_leaf=1, min_samples_split=100, n_estimators=972; total time=   1.2s\n",
            "[CV] END max_depth=40, max_features=sqrt, min_samples_leaf=1, min_samples_split=100, n_estimators=972; total time=   1.2s\n",
            "[CV] END max_depth=40, max_features=sqrt, min_samples_leaf=1, min_samples_split=100, n_estimators=972; total time=   1.0s\n",
            "[CV] END max_depth=40, max_features=sqrt, min_samples_leaf=1, min_samples_split=100, n_estimators=972; total time=   1.0s\n",
            "[CV] END max_depth=40, max_features=sqrt, min_samples_leaf=1, min_samples_split=100, n_estimators=972; total time=   1.0s\n",
            "[CV] END max_depth=40, max_features=sqrt, min_samples_leaf=1, min_samples_split=100, n_estimators=972; total time=   0.9s\n",
            "[CV] END max_depth=19, max_features=sqrt, min_samples_leaf=1, min_samples_split=5, n_estimators=209; total time=   0.3s\n",
            "[CV] END max_depth=19, max_features=sqrt, min_samples_leaf=1, min_samples_split=5, n_estimators=209; total time=   0.3s\n",
            "[CV] END max_depth=19, max_features=sqrt, min_samples_leaf=1, min_samples_split=5, n_estimators=209; total time=   0.3s\n",
            "[CV] END max_depth=19, max_features=sqrt, min_samples_leaf=1, min_samples_split=5, n_estimators=209; total time=   0.3s\n",
            "[CV] END max_depth=19, max_features=sqrt, min_samples_leaf=1, min_samples_split=5, n_estimators=209; total time=   0.3s\n",
            "[CV] END max_depth=26, max_features=sqrt, min_samples_leaf=5, min_samples_split=100, n_estimators=318; total time=   0.3s\n",
            "[CV] END max_depth=26, max_features=sqrt, min_samples_leaf=5, min_samples_split=100, n_estimators=318; total time=   0.3s\n",
            "[CV] END max_depth=26, max_features=sqrt, min_samples_leaf=5, min_samples_split=100, n_estimators=318; total time=   0.3s\n",
            "[CV] END max_depth=26, max_features=sqrt, min_samples_leaf=5, min_samples_split=100, n_estimators=318; total time=   0.3s\n",
            "[CV] END max_depth=26, max_features=sqrt, min_samples_leaf=5, min_samples_split=100, n_estimators=318; total time=   0.3s\n",
            "[CV] END max_depth=40, max_features=sqrt, min_samples_leaf=1, min_samples_split=10, n_estimators=427; total time=   0.5s\n",
            "[CV] END max_depth=40, max_features=sqrt, min_samples_leaf=1, min_samples_split=10, n_estimators=427; total time=   0.5s\n",
            "[CV] END max_depth=40, max_features=sqrt, min_samples_leaf=1, min_samples_split=10, n_estimators=427; total time=   0.5s\n",
            "[CV] END max_depth=40, max_features=sqrt, min_samples_leaf=1, min_samples_split=10, n_estimators=427; total time=   0.5s\n",
            "[CV] END max_depth=40, max_features=sqrt, min_samples_leaf=1, min_samples_split=10, n_estimators=427; total time=   0.5s\n",
            "[CV] END max_depth=26, max_features=auto, min_samples_leaf=5, min_samples_split=10, n_estimators=318; total time=   0.5s\n",
            "[CV] END max_depth=26, max_features=auto, min_samples_leaf=5, min_samples_split=10, n_estimators=318; total time=   0.7s\n",
            "[CV] END max_depth=26, max_features=auto, min_samples_leaf=5, min_samples_split=10, n_estimators=318; total time=   0.7s\n",
            "[CV] END max_depth=26, max_features=auto, min_samples_leaf=5, min_samples_split=10, n_estimators=318; total time=   0.6s\n",
            "[CV] END max_depth=26, max_features=auto, min_samples_leaf=5, min_samples_split=10, n_estimators=318; total time=   0.5s\n",
            "[CV] END max_depth=40, max_features=sqrt, min_samples_leaf=2, min_samples_split=5, n_estimators=209; total time=   0.3s\n",
            "[CV] END max_depth=40, max_features=sqrt, min_samples_leaf=2, min_samples_split=5, n_estimators=209; total time=   0.3s\n",
            "[CV] END max_depth=40, max_features=sqrt, min_samples_leaf=2, min_samples_split=5, n_estimators=209; total time=   0.3s\n",
            "[CV] END max_depth=40, max_features=sqrt, min_samples_leaf=2, min_samples_split=5, n_estimators=209; total time=   0.3s\n",
            "[CV] END max_depth=40, max_features=sqrt, min_samples_leaf=2, min_samples_split=5, n_estimators=209; total time=   0.3s\n",
            "[CV] END max_depth=40, max_features=sqrt, min_samples_leaf=5, min_samples_split=10, n_estimators=427; total time=   0.5s\n",
            "[CV] END max_depth=40, max_features=sqrt, min_samples_leaf=5, min_samples_split=10, n_estimators=427; total time=   0.5s\n",
            "[CV] END max_depth=40, max_features=sqrt, min_samples_leaf=5, min_samples_split=10, n_estimators=427; total time=   0.5s\n",
            "[CV] END max_depth=40, max_features=sqrt, min_samples_leaf=5, min_samples_split=10, n_estimators=427; total time=   0.5s\n",
            "[CV] END max_depth=40, max_features=sqrt, min_samples_leaf=5, min_samples_split=10, n_estimators=427; total time=   0.5s\n",
            "[CV] END max_depth=12, max_features=sqrt, min_samples_leaf=10, min_samples_split=2, n_estimators=1300; total time=   1.4s\n",
            "[CV] END max_depth=12, max_features=sqrt, min_samples_leaf=10, min_samples_split=2, n_estimators=1300; total time=   1.4s\n",
            "[CV] END max_depth=12, max_features=sqrt, min_samples_leaf=10, min_samples_split=2, n_estimators=1300; total time=   1.4s\n",
            "[CV] END max_depth=12, max_features=sqrt, min_samples_leaf=10, min_samples_split=2, n_estimators=1300; total time=   1.4s\n",
            "[CV] END max_depth=12, max_features=sqrt, min_samples_leaf=10, min_samples_split=2, n_estimators=1300; total time=   1.9s\n",
            "[CV] END max_depth=12, max_features=auto, min_samples_leaf=2, min_samples_split=10, n_estimators=100; total time=   0.2s\n",
            "[CV] END max_depth=12, max_features=auto, min_samples_leaf=2, min_samples_split=10, n_estimators=100; total time=   0.2s\n",
            "[CV] END max_depth=12, max_features=auto, min_samples_leaf=2, min_samples_split=10, n_estimators=100; total time=   0.2s\n",
            "[CV] END max_depth=12, max_features=auto, min_samples_leaf=2, min_samples_split=10, n_estimators=100; total time=   0.2s\n",
            "[CV] END max_depth=12, max_features=auto, min_samples_leaf=2, min_samples_split=10, n_estimators=100; total time=   0.2s\n",
            "[CV] END max_depth=40, max_features=auto, min_samples_leaf=2, min_samples_split=2, n_estimators=209; total time=   0.4s\n",
            "[CV] END max_depth=40, max_features=auto, min_samples_leaf=2, min_samples_split=2, n_estimators=209; total time=   0.4s\n",
            "[CV] END max_depth=40, max_features=auto, min_samples_leaf=2, min_samples_split=2, n_estimators=209; total time=   0.4s\n",
            "[CV] END max_depth=40, max_features=auto, min_samples_leaf=2, min_samples_split=2, n_estimators=209; total time=   0.4s\n",
            "[CV] END max_depth=40, max_features=auto, min_samples_leaf=2, min_samples_split=2, n_estimators=209; total time=   0.4s\n",
            "[CV] END max_depth=19, max_features=sqrt, min_samples_leaf=10, min_samples_split=5, n_estimators=427; total time=   0.5s\n",
            "[CV] END max_depth=19, max_features=sqrt, min_samples_leaf=10, min_samples_split=5, n_estimators=427; total time=   0.5s\n",
            "[CV] END max_depth=19, max_features=sqrt, min_samples_leaf=10, min_samples_split=5, n_estimators=427; total time=   0.5s\n",
            "[CV] END max_depth=19, max_features=sqrt, min_samples_leaf=10, min_samples_split=5, n_estimators=427; total time=   0.5s\n",
            "[CV] END max_depth=19, max_features=sqrt, min_samples_leaf=10, min_samples_split=5, n_estimators=427; total time=   0.5s\n",
            "[CV] END max_depth=19, max_features=auto, min_samples_leaf=1, min_samples_split=15, n_estimators=1081; total time=   1.7s\n",
            "[CV] END max_depth=19, max_features=auto, min_samples_leaf=1, min_samples_split=15, n_estimators=1081; total time=   1.7s\n",
            "[CV] END max_depth=19, max_features=auto, min_samples_leaf=1, min_samples_split=15, n_estimators=1081; total time=   1.9s\n",
            "[CV] END max_depth=19, max_features=auto, min_samples_leaf=1, min_samples_split=15, n_estimators=1081; total time=   2.0s\n",
            "[CV] END max_depth=19, max_features=auto, min_samples_leaf=1, min_samples_split=15, n_estimators=1081; total time=   1.7s\n",
            "[CV] END max_depth=5, max_features=sqrt, min_samples_leaf=10, min_samples_split=100, n_estimators=1190; total time=   1.1s\n",
            "[CV] END max_depth=5, max_features=sqrt, min_samples_leaf=10, min_samples_split=100, n_estimators=1190; total time=   1.1s\n",
            "[CV] END max_depth=5, max_features=sqrt, min_samples_leaf=10, min_samples_split=100, n_estimators=1190; total time=   1.1s\n",
            "[CV] END max_depth=5, max_features=sqrt, min_samples_leaf=10, min_samples_split=100, n_estimators=1190; total time=   1.1s\n",
            "[CV] END max_depth=5, max_features=sqrt, min_samples_leaf=10, min_samples_split=100, n_estimators=1190; total time=   1.1s\n",
            "[CV] END max_depth=40, max_features=auto, min_samples_leaf=5, min_samples_split=100, n_estimators=972; total time=   1.1s\n",
            "[CV] END max_depth=40, max_features=auto, min_samples_leaf=5, min_samples_split=100, n_estimators=972; total time=   1.3s\n",
            "[CV] END max_depth=40, max_features=auto, min_samples_leaf=5, min_samples_split=100, n_estimators=972; total time=   1.5s\n",
            "[CV] END max_depth=40, max_features=auto, min_samples_leaf=5, min_samples_split=100, n_estimators=972; total time=   1.1s\n",
            "[CV] END max_depth=40, max_features=auto, min_samples_leaf=5, min_samples_split=100, n_estimators=972; total time=   1.1s\n",
            "[CV] END max_depth=19, max_features=sqrt, min_samples_leaf=5, min_samples_split=100, n_estimators=318; total time=   0.3s\n",
            "[CV] END max_depth=19, max_features=sqrt, min_samples_leaf=5, min_samples_split=100, n_estimators=318; total time=   0.3s\n",
            "[CV] END max_depth=19, max_features=sqrt, min_samples_leaf=5, min_samples_split=100, n_estimators=318; total time=   0.3s\n",
            "[CV] END max_depth=19, max_features=sqrt, min_samples_leaf=5, min_samples_split=100, n_estimators=318; total time=   0.3s\n",
            "[CV] END max_depth=19, max_features=sqrt, min_samples_leaf=5, min_samples_split=100, n_estimators=318; total time=   0.3s\n",
            "[CV] END max_depth=12, max_features=sqrt, min_samples_leaf=1, min_samples_split=15, n_estimators=1300; total time=   1.5s\n",
            "[CV] END max_depth=12, max_features=sqrt, min_samples_leaf=1, min_samples_split=15, n_estimators=1300; total time=   1.5s\n",
            "[CV] END max_depth=12, max_features=sqrt, min_samples_leaf=1, min_samples_split=15, n_estimators=1300; total time=   1.5s\n",
            "[CV] END max_depth=12, max_features=sqrt, min_samples_leaf=1, min_samples_split=15, n_estimators=1300; total time=   1.6s\n",
            "[CV] END max_depth=12, max_features=sqrt, min_samples_leaf=1, min_samples_split=15, n_estimators=1300; total time=   1.9s\n",
            "[CV] END max_depth=12, max_features=sqrt, min_samples_leaf=1, min_samples_split=5, n_estimators=1081; total time=   1.3s\n",
            "[CV] END max_depth=12, max_features=sqrt, min_samples_leaf=1, min_samples_split=5, n_estimators=1081; total time=   1.4s\n",
            "[CV] END max_depth=12, max_features=sqrt, min_samples_leaf=1, min_samples_split=5, n_estimators=1081; total time=   1.4s\n",
            "[CV] END max_depth=12, max_features=sqrt, min_samples_leaf=1, min_samples_split=5, n_estimators=1081; total time=   1.4s\n",
            "[CV] END max_depth=12, max_features=sqrt, min_samples_leaf=1, min_samples_split=5, n_estimators=1081; total time=   1.3s\n",
            "[CV] END max_depth=5, max_features=auto, min_samples_leaf=5, min_samples_split=15, n_estimators=754; total time=   1.0s\n",
            "[CV] END max_depth=5, max_features=auto, min_samples_leaf=5, min_samples_split=15, n_estimators=754; total time=   1.0s\n",
            "[CV] END max_depth=5, max_features=auto, min_samples_leaf=5, min_samples_split=15, n_estimators=754; total time=   1.0s\n",
            "[CV] END max_depth=5, max_features=auto, min_samples_leaf=5, min_samples_split=15, n_estimators=754; total time=   1.4s\n",
            "[CV] END max_depth=5, max_features=auto, min_samples_leaf=5, min_samples_split=15, n_estimators=754; total time=   1.1s\n",
            "[CV] END max_depth=33, max_features=sqrt, min_samples_leaf=2, min_samples_split=2, n_estimators=209; total time=   0.3s\n",
            "[CV] END max_depth=33, max_features=sqrt, min_samples_leaf=2, min_samples_split=2, n_estimators=209; total time=   0.3s\n",
            "[CV] END max_depth=33, max_features=sqrt, min_samples_leaf=2, min_samples_split=2, n_estimators=209; total time=   0.3s\n",
            "[CV] END max_depth=33, max_features=sqrt, min_samples_leaf=2, min_samples_split=2, n_estimators=209; total time=   0.3s\n",
            "[CV] END max_depth=33, max_features=sqrt, min_samples_leaf=2, min_samples_split=2, n_estimators=209; total time=   0.3s\n",
            "[CV] END max_depth=40, max_features=auto, min_samples_leaf=1, min_samples_split=5, n_estimators=754; total time=   1.4s\n",
            "[CV] END max_depth=40, max_features=auto, min_samples_leaf=1, min_samples_split=5, n_estimators=754; total time=   1.3s\n",
            "[CV] END max_depth=40, max_features=auto, min_samples_leaf=1, min_samples_split=5, n_estimators=754; total time=   1.4s\n",
            "[CV] END max_depth=40, max_features=auto, min_samples_leaf=1, min_samples_split=5, n_estimators=754; total time=   1.4s\n",
            "[CV] END max_depth=40, max_features=auto, min_samples_leaf=1, min_samples_split=5, n_estimators=754; total time=   1.3s\n",
            "[CV] END max_depth=26, max_features=sqrt, min_samples_leaf=10, min_samples_split=100, n_estimators=536; total time=   0.5s\n",
            "[CV] END max_depth=26, max_features=sqrt, min_samples_leaf=10, min_samples_split=100, n_estimators=536; total time=   0.5s\n",
            "[CV] END max_depth=26, max_features=sqrt, min_samples_leaf=10, min_samples_split=100, n_estimators=536; total time=   0.8s\n",
            "[CV] END max_depth=26, max_features=sqrt, min_samples_leaf=10, min_samples_split=100, n_estimators=536; total time=   0.8s\n",
            "[CV] END max_depth=26, max_features=sqrt, min_samples_leaf=10, min_samples_split=100, n_estimators=536; total time=   0.6s\n",
            "[CV] END max_depth=40, max_features=sqrt, min_samples_leaf=10, min_samples_split=2, n_estimators=645; total time=   0.7s\n",
            "[CV] END max_depth=40, max_features=sqrt, min_samples_leaf=10, min_samples_split=2, n_estimators=645; total time=   0.7s\n",
            "[CV] END max_depth=40, max_features=sqrt, min_samples_leaf=10, min_samples_split=2, n_estimators=645; total time=   0.7s\n",
            "[CV] END max_depth=40, max_features=sqrt, min_samples_leaf=10, min_samples_split=2, n_estimators=645; total time=   0.7s\n",
            "[CV] END max_depth=40, max_features=sqrt, min_samples_leaf=10, min_samples_split=2, n_estimators=645; total time=   0.7s\n",
            "[CV] END max_depth=12, max_features=sqrt, min_samples_leaf=2, min_samples_split=2, n_estimators=1081; total time=   1.3s\n",
            "[CV] END max_depth=12, max_features=sqrt, min_samples_leaf=2, min_samples_split=2, n_estimators=1081; total time=   1.4s\n",
            "[CV] END max_depth=12, max_features=sqrt, min_samples_leaf=2, min_samples_split=2, n_estimators=1081; total time=   1.4s\n",
            "[CV] END max_depth=12, max_features=sqrt, min_samples_leaf=2, min_samples_split=2, n_estimators=1081; total time=   1.3s\n",
            "[CV] END max_depth=12, max_features=sqrt, min_samples_leaf=2, min_samples_split=2, n_estimators=1081; total time=   1.6s\n",
            "[CV] END max_depth=5, max_features=auto, min_samples_leaf=10, min_samples_split=5, n_estimators=536; total time=   1.0s\n",
            "[CV] END max_depth=5, max_features=auto, min_samples_leaf=10, min_samples_split=5, n_estimators=536; total time=   0.7s\n",
            "[CV] END max_depth=5, max_features=auto, min_samples_leaf=10, min_samples_split=5, n_estimators=536; total time=   0.7s\n",
            "[CV] END max_depth=5, max_features=auto, min_samples_leaf=10, min_samples_split=5, n_estimators=536; total time=   0.7s\n",
            "[CV] END max_depth=5, max_features=auto, min_samples_leaf=10, min_samples_split=5, n_estimators=536; total time=   0.7s\n",
            "[CV] END max_depth=33, max_features=auto, min_samples_leaf=10, min_samples_split=10, n_estimators=754; total time=   1.1s\n",
            "[CV] END max_depth=33, max_features=auto, min_samples_leaf=10, min_samples_split=10, n_estimators=754; total time=   1.1s\n",
            "[CV] END max_depth=33, max_features=auto, min_samples_leaf=10, min_samples_split=10, n_estimators=754; total time=   1.1s\n",
            "[CV] END max_depth=33, max_features=auto, min_samples_leaf=10, min_samples_split=10, n_estimators=754; total time=   1.1s\n",
            "[CV] END max_depth=33, max_features=auto, min_samples_leaf=10, min_samples_split=10, n_estimators=754; total time=   1.1s\n",
            "[CV] END max_depth=40, max_features=sqrt, min_samples_leaf=10, min_samples_split=15, n_estimators=1081; total time=   1.2s\n",
            "[CV] END max_depth=40, max_features=sqrt, min_samples_leaf=10, min_samples_split=15, n_estimators=1081; total time=   1.3s\n",
            "[CV] END max_depth=40, max_features=sqrt, min_samples_leaf=10, min_samples_split=15, n_estimators=1081; total time=   1.6s\n",
            "[CV] END max_depth=40, max_features=sqrt, min_samples_leaf=10, min_samples_split=15, n_estimators=1081; total time=   1.2s\n",
            "[CV] END max_depth=40, max_features=sqrt, min_samples_leaf=10, min_samples_split=15, n_estimators=1081; total time=   1.2s\n",
            "[CV] END max_depth=26, max_features=sqrt, min_samples_leaf=1, min_samples_split=5, n_estimators=645; total time=   0.8s\n",
            "[CV] END max_depth=26, max_features=sqrt, min_samples_leaf=1, min_samples_split=5, n_estimators=645; total time=   0.8s\n",
            "[CV] END max_depth=26, max_features=sqrt, min_samples_leaf=1, min_samples_split=5, n_estimators=645; total time=   0.8s\n",
            "[CV] END max_depth=26, max_features=sqrt, min_samples_leaf=1, min_samples_split=5, n_estimators=645; total time=   0.8s\n",
            "[CV] END max_depth=26, max_features=sqrt, min_samples_leaf=1, min_samples_split=5, n_estimators=645; total time=   0.8s\n",
            "[CV] END max_depth=5, max_features=sqrt, min_samples_leaf=2, min_samples_split=2, n_estimators=1081; total time=   1.1s\n",
            "[CV] END max_depth=5, max_features=sqrt, min_samples_leaf=2, min_samples_split=2, n_estimators=1081; total time=   1.1s\n",
            "[CV] END max_depth=5, max_features=sqrt, min_samples_leaf=2, min_samples_split=2, n_estimators=1081; total time=   1.2s\n",
            "[CV] END max_depth=5, max_features=sqrt, min_samples_leaf=2, min_samples_split=2, n_estimators=1081; total time=   1.6s\n",
            "[CV] END max_depth=5, max_features=sqrt, min_samples_leaf=2, min_samples_split=2, n_estimators=1081; total time=   1.1s\n",
            "[CV] END max_depth=33, max_features=auto, min_samples_leaf=5, min_samples_split=15, n_estimators=972; total time=   1.5s\n",
            "[CV] END max_depth=33, max_features=auto, min_samples_leaf=5, min_samples_split=15, n_estimators=972; total time=   1.4s\n",
            "[CV] END max_depth=33, max_features=auto, min_samples_leaf=5, min_samples_split=15, n_estimators=972; total time=   1.4s\n",
            "[CV] END max_depth=33, max_features=auto, min_samples_leaf=5, min_samples_split=15, n_estimators=972; total time=   1.4s\n",
            "[CV] END max_depth=33, max_features=auto, min_samples_leaf=5, min_samples_split=15, n_estimators=972; total time=   1.5s\n",
            "[CV] END max_depth=26, max_features=sqrt, min_samples_leaf=1, min_samples_split=15, n_estimators=1190; total time=   1.4s\n",
            "[CV] END max_depth=26, max_features=sqrt, min_samples_leaf=1, min_samples_split=15, n_estimators=1190; total time=   1.8s\n",
            "[CV] END max_depth=26, max_features=sqrt, min_samples_leaf=1, min_samples_split=15, n_estimators=1190; total time=   1.5s\n",
            "[CV] END max_depth=26, max_features=sqrt, min_samples_leaf=1, min_samples_split=15, n_estimators=1190; total time=   1.4s\n",
            "[CV] END max_depth=26, max_features=sqrt, min_samples_leaf=1, min_samples_split=15, n_estimators=1190; total time=   1.3s\n",
            "[CV] END max_depth=12, max_features=sqrt, min_samples_leaf=1, min_samples_split=10, n_estimators=1300; total time=   1.5s\n",
            "[CV] END max_depth=12, max_features=sqrt, min_samples_leaf=1, min_samples_split=10, n_estimators=1300; total time=   1.5s\n",
            "[CV] END max_depth=12, max_features=sqrt, min_samples_leaf=1, min_samples_split=10, n_estimators=1300; total time=   1.6s\n",
            "[CV] END max_depth=12, max_features=sqrt, min_samples_leaf=1, min_samples_split=10, n_estimators=1300; total time=   1.5s\n",
            "[CV] END max_depth=12, max_features=sqrt, min_samples_leaf=1, min_samples_split=10, n_estimators=1300; total time=   2.1s\n",
            "[CV] END max_depth=5, max_features=sqrt, min_samples_leaf=10, min_samples_split=5, n_estimators=536; total time=   0.5s\n",
            "[CV] END max_depth=5, max_features=sqrt, min_samples_leaf=10, min_samples_split=5, n_estimators=536; total time=   0.5s\n",
            "[CV] END max_depth=5, max_features=sqrt, min_samples_leaf=10, min_samples_split=5, n_estimators=536; total time=   0.5s\n",
            "[CV] END max_depth=5, max_features=sqrt, min_samples_leaf=10, min_samples_split=5, n_estimators=536; total time=   0.5s\n",
            "[CV] END max_depth=5, max_features=sqrt, min_samples_leaf=10, min_samples_split=5, n_estimators=536; total time=   0.5s\n",
            "[CV] END max_depth=40, max_features=sqrt, min_samples_leaf=5, min_samples_split=5, n_estimators=972; total time=   1.1s\n",
            "[CV] END max_depth=40, max_features=sqrt, min_samples_leaf=5, min_samples_split=5, n_estimators=972; total time=   1.1s\n",
            "[CV] END max_depth=40, max_features=sqrt, min_samples_leaf=5, min_samples_split=5, n_estimators=972; total time=   1.1s\n",
            "[CV] END max_depth=40, max_features=sqrt, min_samples_leaf=5, min_samples_split=5, n_estimators=972; total time=   1.1s\n",
            "[CV] END max_depth=40, max_features=sqrt, min_samples_leaf=5, min_samples_split=5, n_estimators=972; total time=   1.1s\n",
            "[CV] END max_depth=19, max_features=auto, min_samples_leaf=1, min_samples_split=15, n_estimators=318; total time=   0.5s\n",
            "[CV] END max_depth=19, max_features=auto, min_samples_leaf=1, min_samples_split=15, n_estimators=318; total time=   0.5s\n",
            "[CV] END max_depth=19, max_features=auto, min_samples_leaf=1, min_samples_split=15, n_estimators=318; total time=   0.6s\n",
            "[CV] END max_depth=19, max_features=auto, min_samples_leaf=1, min_samples_split=15, n_estimators=318; total time=   0.7s\n",
            "[CV] END max_depth=19, max_features=auto, min_samples_leaf=1, min_samples_split=15, n_estimators=318; total time=   0.7s\n",
            "[CV] END max_depth=26, max_features=auto, min_samples_leaf=1, min_samples_split=10, n_estimators=1300; total time=   2.3s\n",
            "[CV] END max_depth=26, max_features=auto, min_samples_leaf=1, min_samples_split=10, n_estimators=1300; total time=   2.2s\n",
            "[CV] END max_depth=26, max_features=auto, min_samples_leaf=1, min_samples_split=10, n_estimators=1300; total time=   2.1s\n",
            "[CV] END max_depth=26, max_features=auto, min_samples_leaf=1, min_samples_split=10, n_estimators=1300; total time=   2.1s\n",
            "[CV] END max_depth=26, max_features=auto, min_samples_leaf=1, min_samples_split=10, n_estimators=1300; total time=   2.4s\n",
            "[CV] END max_depth=5, max_features=sqrt, min_samples_leaf=10, min_samples_split=5, n_estimators=209; total time=   0.3s\n",
            "[CV] END max_depth=5, max_features=sqrt, min_samples_leaf=10, min_samples_split=5, n_estimators=209; total time=   0.3s\n",
            "[CV] END max_depth=5, max_features=sqrt, min_samples_leaf=10, min_samples_split=5, n_estimators=209; total time=   0.3s\n",
            "[CV] END max_depth=5, max_features=sqrt, min_samples_leaf=10, min_samples_split=5, n_estimators=209; total time=   0.2s\n",
            "[CV] END max_depth=5, max_features=sqrt, min_samples_leaf=10, min_samples_split=5, n_estimators=209; total time=   0.2s\n",
            "[CV] END max_depth=40, max_features=sqrt, min_samples_leaf=10, min_samples_split=100, n_estimators=972; total time=   1.0s\n",
            "[CV] END max_depth=40, max_features=sqrt, min_samples_leaf=10, min_samples_split=100, n_estimators=972; total time=   1.0s\n",
            "[CV] END max_depth=40, max_features=sqrt, min_samples_leaf=10, min_samples_split=100, n_estimators=972; total time=   0.9s\n",
            "[CV] END max_depth=40, max_features=sqrt, min_samples_leaf=10, min_samples_split=100, n_estimators=972; total time=   0.9s\n",
            "[CV] END max_depth=40, max_features=sqrt, min_samples_leaf=10, min_samples_split=100, n_estimators=972; total time=   0.9s\n",
            "[CV] END max_depth=40, max_features=sqrt, min_samples_leaf=2, min_samples_split=100, n_estimators=209; total time=   0.2s\n",
            "[CV] END max_depth=40, max_features=sqrt, min_samples_leaf=2, min_samples_split=100, n_estimators=209; total time=   0.2s\n",
            "[CV] END max_depth=40, max_features=sqrt, min_samples_leaf=2, min_samples_split=100, n_estimators=209; total time=   0.2s\n",
            "[CV] END max_depth=40, max_features=sqrt, min_samples_leaf=2, min_samples_split=100, n_estimators=209; total time=   0.2s\n",
            "[CV] END max_depth=40, max_features=sqrt, min_samples_leaf=2, min_samples_split=100, n_estimators=209; total time=   0.2s\n",
            "[CV] END max_depth=5, max_features=auto, min_samples_leaf=5, min_samples_split=100, n_estimators=1190; total time=   1.4s\n",
            "[CV] END max_depth=5, max_features=auto, min_samples_leaf=5, min_samples_split=100, n_estimators=1190; total time=   1.4s\n",
            "[CV] END max_depth=5, max_features=auto, min_samples_leaf=5, min_samples_split=100, n_estimators=1190; total time=   1.5s\n",
            "[CV] END max_depth=5, max_features=auto, min_samples_leaf=5, min_samples_split=100, n_estimators=1190; total time=   1.8s\n",
            "[CV] END max_depth=5, max_features=auto, min_samples_leaf=5, min_samples_split=100, n_estimators=1190; total time=   1.4s\n",
            "[CV] END max_depth=12, max_features=sqrt, min_samples_leaf=1, min_samples_split=2, n_estimators=863; total time=   1.2s\n",
            "[CV] END max_depth=12, max_features=sqrt, min_samples_leaf=1, min_samples_split=2, n_estimators=863; total time=   1.2s\n",
            "[CV] END max_depth=12, max_features=sqrt, min_samples_leaf=1, min_samples_split=2, n_estimators=863; total time=   1.1s\n",
            "[CV] END max_depth=12, max_features=sqrt, min_samples_leaf=1, min_samples_split=2, n_estimators=863; total time=   1.2s\n",
            "[CV] END max_depth=12, max_features=sqrt, min_samples_leaf=1, min_samples_split=2, n_estimators=863; total time=   1.1s\n",
            "[CV] END max_depth=33, max_features=sqrt, min_samples_leaf=5, min_samples_split=2, n_estimators=754; total time=   0.9s\n",
            "[CV] END max_depth=33, max_features=sqrt, min_samples_leaf=5, min_samples_split=2, n_estimators=754; total time=   0.9s\n",
            "[CV] END max_depth=33, max_features=sqrt, min_samples_leaf=5, min_samples_split=2, n_estimators=754; total time=   0.9s\n",
            "[CV] END max_depth=33, max_features=sqrt, min_samples_leaf=5, min_samples_split=2, n_estimators=754; total time=   1.2s\n",
            "[CV] END max_depth=33, max_features=sqrt, min_samples_leaf=5, min_samples_split=2, n_estimators=754; total time=   1.0s\n",
            "[CV] END max_depth=5, max_features=sqrt, min_samples_leaf=2, min_samples_split=10, n_estimators=100; total time=   0.1s\n",
            "[CV] END max_depth=5, max_features=sqrt, min_samples_leaf=2, min_samples_split=10, n_estimators=100; total time=   0.1s\n",
            "[CV] END max_depth=5, max_features=sqrt, min_samples_leaf=2, min_samples_split=10, n_estimators=100; total time=   0.1s\n",
            "[CV] END max_depth=5, max_features=sqrt, min_samples_leaf=2, min_samples_split=10, n_estimators=100; total time=   0.1s\n",
            "[CV] END max_depth=5, max_features=sqrt, min_samples_leaf=2, min_samples_split=10, n_estimators=100; total time=   0.1s\n",
            "[CV] END max_depth=12, max_features=sqrt, min_samples_leaf=1, min_samples_split=15, n_estimators=1081; total time=   1.2s\n",
            "[CV] END max_depth=12, max_features=sqrt, min_samples_leaf=1, min_samples_split=15, n_estimators=1081; total time=   1.2s\n",
            "[CV] END max_depth=12, max_features=sqrt, min_samples_leaf=1, min_samples_split=15, n_estimators=1081; total time=   1.2s\n",
            "[CV] END max_depth=12, max_features=sqrt, min_samples_leaf=1, min_samples_split=15, n_estimators=1081; total time=   1.2s\n",
            "[CV] END max_depth=12, max_features=sqrt, min_samples_leaf=1, min_samples_split=15, n_estimators=1081; total time=   1.2s\n",
            "[CV] END max_depth=26, max_features=auto, min_samples_leaf=1, min_samples_split=10, n_estimators=536; total time=   0.9s\n",
            "[CV] END max_depth=26, max_features=auto, min_samples_leaf=1, min_samples_split=10, n_estimators=536; total time=   0.9s\n",
            "[CV] END max_depth=26, max_features=auto, min_samples_leaf=1, min_samples_split=10, n_estimators=536; total time=   0.9s\n",
            "[CV] END max_depth=26, max_features=auto, min_samples_leaf=1, min_samples_split=10, n_estimators=536; total time=   1.2s\n",
            "[CV] END max_depth=26, max_features=auto, min_samples_leaf=1, min_samples_split=10, n_estimators=536; total time=   1.1s\n",
            "[CV] END max_depth=26, max_features=sqrt, min_samples_leaf=1, min_samples_split=15, n_estimators=209; total time=   0.2s\n",
            "[CV] END max_depth=26, max_features=sqrt, min_samples_leaf=1, min_samples_split=15, n_estimators=209; total time=   0.2s\n",
            "[CV] END max_depth=26, max_features=sqrt, min_samples_leaf=1, min_samples_split=15, n_estimators=209; total time=   0.3s\n",
            "[CV] END max_depth=26, max_features=sqrt, min_samples_leaf=1, min_samples_split=15, n_estimators=209; total time=   0.3s\n",
            "[CV] END max_depth=26, max_features=sqrt, min_samples_leaf=1, min_samples_split=15, n_estimators=209; total time=   0.3s\n",
            "[CV] END max_depth=12, max_features=auto, min_samples_leaf=10, min_samples_split=10, n_estimators=1300; total time=   1.8s\n",
            "[CV] END max_depth=12, max_features=auto, min_samples_leaf=10, min_samples_split=10, n_estimators=1300; total time=   1.8s\n",
            "[CV] END max_depth=12, max_features=auto, min_samples_leaf=10, min_samples_split=10, n_estimators=1300; total time=   1.8s\n",
            "[CV] END max_depth=12, max_features=auto, min_samples_leaf=10, min_samples_split=10, n_estimators=1300; total time=   1.9s\n",
            "[CV] END max_depth=12, max_features=auto, min_samples_leaf=10, min_samples_split=10, n_estimators=1300; total time=   2.1s\n",
            "[CV] END max_depth=40, max_features=auto, min_samples_leaf=1, min_samples_split=5, n_estimators=536; total time=   1.2s\n",
            "[CV] END max_depth=40, max_features=auto, min_samples_leaf=1, min_samples_split=5, n_estimators=536; total time=   1.0s\n",
            "[CV] END max_depth=40, max_features=auto, min_samples_leaf=1, min_samples_split=5, n_estimators=536; total time=   1.0s\n",
            "[CV] END max_depth=40, max_features=auto, min_samples_leaf=1, min_samples_split=5, n_estimators=536; total time=   1.0s\n",
            "[CV] END max_depth=40, max_features=auto, min_samples_leaf=1, min_samples_split=5, n_estimators=536; total time=   1.0s\n",
            "[CV] END max_depth=26, max_features=sqrt, min_samples_leaf=10, min_samples_split=100, n_estimators=1190; total time=   1.2s\n",
            "[CV] END max_depth=26, max_features=sqrt, min_samples_leaf=10, min_samples_split=100, n_estimators=1190; total time=   1.1s\n",
            "[CV] END max_depth=26, max_features=sqrt, min_samples_leaf=10, min_samples_split=100, n_estimators=1190; total time=   1.1s\n",
            "[CV] END max_depth=26, max_features=sqrt, min_samples_leaf=10, min_samples_split=100, n_estimators=1190; total time=   1.1s\n",
            "[CV] END max_depth=26, max_features=sqrt, min_samples_leaf=10, min_samples_split=100, n_estimators=1190; total time=   1.3s\n",
            "[CV] END max_depth=12, max_features=auto, min_samples_leaf=2, min_samples_split=5, n_estimators=318; total time=   0.8s\n",
            "[CV] END max_depth=12, max_features=auto, min_samples_leaf=2, min_samples_split=5, n_estimators=318; total time=   0.7s\n",
            "[CV] END max_depth=12, max_features=auto, min_samples_leaf=2, min_samples_split=5, n_estimators=318; total time=   0.6s\n",
            "[CV] END max_depth=12, max_features=auto, min_samples_leaf=2, min_samples_split=5, n_estimators=318; total time=   0.5s\n",
            "[CV] END max_depth=12, max_features=auto, min_samples_leaf=2, min_samples_split=5, n_estimators=318; total time=   0.6s\n",
            "[CV] END max_depth=19, max_features=sqrt, min_samples_leaf=1, min_samples_split=2, n_estimators=536; total time=   0.8s\n",
            "[CV] END max_depth=19, max_features=sqrt, min_samples_leaf=1, min_samples_split=2, n_estimators=536; total time=   0.8s\n",
            "[CV] END max_depth=19, max_features=sqrt, min_samples_leaf=1, min_samples_split=2, n_estimators=536; total time=   0.8s\n",
            "[CV] END max_depth=19, max_features=sqrt, min_samples_leaf=1, min_samples_split=2, n_estimators=536; total time=   0.8s\n",
            "[CV] END max_depth=19, max_features=sqrt, min_samples_leaf=1, min_samples_split=2, n_estimators=536; total time=   0.8s\n",
            "[CV] END max_depth=26, max_features=sqrt, min_samples_leaf=2, min_samples_split=2, n_estimators=536; total time=   0.7s\n",
            "[CV] END max_depth=26, max_features=sqrt, min_samples_leaf=2, min_samples_split=2, n_estimators=536; total time=   0.7s\n",
            "[CV] END max_depth=26, max_features=sqrt, min_samples_leaf=2, min_samples_split=2, n_estimators=536; total time=   0.7s\n",
            "[CV] END max_depth=26, max_features=sqrt, min_samples_leaf=2, min_samples_split=2, n_estimators=536; total time=   0.7s\n",
            "[CV] END max_depth=26, max_features=sqrt, min_samples_leaf=2, min_samples_split=2, n_estimators=536; total time=   0.7s\n",
            "[CV] END max_depth=26, max_features=sqrt, min_samples_leaf=1, min_samples_split=10, n_estimators=754; total time=   0.9s\n",
            "[CV] END max_depth=26, max_features=sqrt, min_samples_leaf=1, min_samples_split=10, n_estimators=754; total time=   1.3s\n",
            "[CV] END max_depth=26, max_features=sqrt, min_samples_leaf=1, min_samples_split=10, n_estimators=754; total time=   1.1s\n",
            "[CV] END max_depth=26, max_features=sqrt, min_samples_leaf=1, min_samples_split=10, n_estimators=754; total time=   0.9s\n",
            "[CV] END max_depth=26, max_features=sqrt, min_samples_leaf=1, min_samples_split=10, n_estimators=754; total time=   0.9s\n"
          ]
        },
        {
          "output_type": "execute_result",
          "data": {
            "text/plain": [
              "RandomizedSearchCV(cv=5, estimator=RandomForestRegressor(), n_iter=100,\n",
              "                   n_jobs=1,\n",
              "                   param_distributions={'max_depth': [5, 12, 19, 26, 33, 40],\n",
              "                                        'max_features': ['auto', 'sqrt'],\n",
              "                                        'min_samples_leaf': [1, 2, 5, 10],\n",
              "                                        'min_samples_split': [2, 5, 10, 15,\n",
              "                                                              100],\n",
              "                                        'n_estimators': [100, 209, 318, 427,\n",
              "                                                         536, 645, 754, 863,\n",
              "                                                         972, 1081, 1190,\n",
              "                                                         1300]},\n",
              "                   random_state=42, scoring='neg_mean_squared_error',\n",
              "                   verbose=2)"
            ],
            "text/html": [
              "<style>#sk-container-id-14 {color: black;background-color: white;}#sk-container-id-14 pre{padding: 0;}#sk-container-id-14 div.sk-toggleable {background-color: white;}#sk-container-id-14 label.sk-toggleable__label {cursor: pointer;display: block;width: 100%;margin-bottom: 0;padding: 0.3em;box-sizing: border-box;text-align: center;}#sk-container-id-14 label.sk-toggleable__label-arrow:before {content: \"▸\";float: left;margin-right: 0.25em;color: #696969;}#sk-container-id-14 label.sk-toggleable__label-arrow:hover:before {color: black;}#sk-container-id-14 div.sk-estimator:hover label.sk-toggleable__label-arrow:before {color: black;}#sk-container-id-14 div.sk-toggleable__content {max-height: 0;max-width: 0;overflow: hidden;text-align: left;background-color: #f0f8ff;}#sk-container-id-14 div.sk-toggleable__content pre {margin: 0.2em;color: black;border-radius: 0.25em;background-color: #f0f8ff;}#sk-container-id-14 input.sk-toggleable__control:checked~div.sk-toggleable__content {max-height: 200px;max-width: 100%;overflow: auto;}#sk-container-id-14 input.sk-toggleable__control:checked~label.sk-toggleable__label-arrow:before {content: \"▾\";}#sk-container-id-14 div.sk-estimator input.sk-toggleable__control:checked~label.sk-toggleable__label {background-color: #d4ebff;}#sk-container-id-14 div.sk-label input.sk-toggleable__control:checked~label.sk-toggleable__label {background-color: #d4ebff;}#sk-container-id-14 input.sk-hidden--visually {border: 0;clip: rect(1px 1px 1px 1px);clip: rect(1px, 1px, 1px, 1px);height: 1px;margin: -1px;overflow: hidden;padding: 0;position: absolute;width: 1px;}#sk-container-id-14 div.sk-estimator {font-family: monospace;background-color: #f0f8ff;border: 1px dotted black;border-radius: 0.25em;box-sizing: border-box;margin-bottom: 0.5em;}#sk-container-id-14 div.sk-estimator:hover {background-color: #d4ebff;}#sk-container-id-14 div.sk-parallel-item::after {content: \"\";width: 100%;border-bottom: 1px solid gray;flex-grow: 1;}#sk-container-id-14 div.sk-label:hover label.sk-toggleable__label {background-color: #d4ebff;}#sk-container-id-14 div.sk-serial::before {content: \"\";position: absolute;border-left: 1px solid gray;box-sizing: border-box;top: 0;bottom: 0;left: 50%;z-index: 0;}#sk-container-id-14 div.sk-serial {display: flex;flex-direction: column;align-items: center;background-color: white;padding-right: 0.2em;padding-left: 0.2em;position: relative;}#sk-container-id-14 div.sk-item {position: relative;z-index: 1;}#sk-container-id-14 div.sk-parallel {display: flex;align-items: stretch;justify-content: center;background-color: white;position: relative;}#sk-container-id-14 div.sk-item::before, #sk-container-id-14 div.sk-parallel-item::before {content: \"\";position: absolute;border-left: 1px solid gray;box-sizing: border-box;top: 0;bottom: 0;left: 50%;z-index: -1;}#sk-container-id-14 div.sk-parallel-item {display: flex;flex-direction: column;z-index: 1;position: relative;background-color: white;}#sk-container-id-14 div.sk-parallel-item:first-child::after {align-self: flex-end;width: 50%;}#sk-container-id-14 div.sk-parallel-item:last-child::after {align-self: flex-start;width: 50%;}#sk-container-id-14 div.sk-parallel-item:only-child::after {width: 0;}#sk-container-id-14 div.sk-dashed-wrapped {border: 1px dashed gray;margin: 0 0.4em 0.5em 0.4em;box-sizing: border-box;padding-bottom: 0.4em;background-color: white;}#sk-container-id-14 div.sk-label label {font-family: monospace;font-weight: bold;display: inline-block;line-height: 1.2em;}#sk-container-id-14 div.sk-label-container {text-align: center;}#sk-container-id-14 div.sk-container {/* jupyter's `normalize.less` sets `[hidden] { display: none; }` but bootstrap.min.css set `[hidden] { display: none !important; }` so we also need the `!important` here to be able to override the default hidden behavior on the sphinx rendered scikit-learn.org. See: https://github.com/scikit-learn/scikit-learn/issues/21755 */display: inline-block !important;position: relative;}#sk-container-id-14 div.sk-text-repr-fallback {display: none;}</style><div id=\"sk-container-id-14\" class=\"sk-top-container\"><div class=\"sk-text-repr-fallback\"><pre>RandomizedSearchCV(cv=5, estimator=RandomForestRegressor(), n_iter=100,\n",
              "                   n_jobs=1,\n",
              "                   param_distributions={&#x27;max_depth&#x27;: [5, 12, 19, 26, 33, 40],\n",
              "                                        &#x27;max_features&#x27;: [&#x27;auto&#x27;, &#x27;sqrt&#x27;],\n",
              "                                        &#x27;min_samples_leaf&#x27;: [1, 2, 5, 10],\n",
              "                                        &#x27;min_samples_split&#x27;: [2, 5, 10, 15,\n",
              "                                                              100],\n",
              "                                        &#x27;n_estimators&#x27;: [100, 209, 318, 427,\n",
              "                                                         536, 645, 754, 863,\n",
              "                                                         972, 1081, 1190,\n",
              "                                                         1300]},\n",
              "                   random_state=42, scoring=&#x27;neg_mean_squared_error&#x27;,\n",
              "                   verbose=2)</pre><b>In a Jupyter environment, please rerun this cell to show the HTML representation or trust the notebook. <br />On GitHub, the HTML representation is unable to render, please try loading this page with nbviewer.org.</b></div><div class=\"sk-container\" hidden><div class=\"sk-item sk-dashed-wrapped\"><div class=\"sk-label-container\"><div class=\"sk-label sk-toggleable\"><input class=\"sk-toggleable__control sk-hidden--visually\" id=\"sk-estimator-id-22\" type=\"checkbox\" ><label for=\"sk-estimator-id-22\" class=\"sk-toggleable__label sk-toggleable__label-arrow\">RandomizedSearchCV</label><div class=\"sk-toggleable__content\"><pre>RandomizedSearchCV(cv=5, estimator=RandomForestRegressor(), n_iter=100,\n",
              "                   n_jobs=1,\n",
              "                   param_distributions={&#x27;max_depth&#x27;: [5, 12, 19, 26, 33, 40],\n",
              "                                        &#x27;max_features&#x27;: [&#x27;auto&#x27;, &#x27;sqrt&#x27;],\n",
              "                                        &#x27;min_samples_leaf&#x27;: [1, 2, 5, 10],\n",
              "                                        &#x27;min_samples_split&#x27;: [2, 5, 10, 15,\n",
              "                                                              100],\n",
              "                                        &#x27;n_estimators&#x27;: [100, 209, 318, 427,\n",
              "                                                         536, 645, 754, 863,\n",
              "                                                         972, 1081, 1190,\n",
              "                                                         1300]},\n",
              "                   random_state=42, scoring=&#x27;neg_mean_squared_error&#x27;,\n",
              "                   verbose=2)</pre></div></div></div><div class=\"sk-parallel\"><div class=\"sk-parallel-item\"><div class=\"sk-item\"><div class=\"sk-label-container\"><div class=\"sk-label sk-toggleable\"><input class=\"sk-toggleable__control sk-hidden--visually\" id=\"sk-estimator-id-23\" type=\"checkbox\" ><label for=\"sk-estimator-id-23\" class=\"sk-toggleable__label sk-toggleable__label-arrow\">estimator: RandomForestRegressor</label><div class=\"sk-toggleable__content\"><pre>RandomForestRegressor()</pre></div></div></div><div class=\"sk-serial\"><div class=\"sk-item\"><div class=\"sk-estimator sk-toggleable\"><input class=\"sk-toggleable__control sk-hidden--visually\" id=\"sk-estimator-id-24\" type=\"checkbox\" ><label for=\"sk-estimator-id-24\" class=\"sk-toggleable__label sk-toggleable__label-arrow\">RandomForestRegressor</label><div class=\"sk-toggleable__content\"><pre>RandomForestRegressor()</pre></div></div></div></div></div></div></div></div></div></div>"
            ]
          },
          "metadata": {},
          "execution_count": 86
        }
      ]
    },
    {
      "cell_type": "code",
      "source": [
        "rf1_random.best_params_"
      ],
      "metadata": {
        "colab": {
          "base_uri": "https://localhost:8080/"
        },
        "id": "73a6cAxDEudB",
        "outputId": "57011368-8cc6-4cd8-93fe-e1aa0ece4448"
      },
      "execution_count": 87,
      "outputs": [
        {
          "output_type": "execute_result",
          "data": {
            "text/plain": [
              "{'n_estimators': 318,\n",
              " 'min_samples_split': 15,\n",
              " 'min_samples_leaf': 2,\n",
              " 'max_features': 'sqrt',\n",
              " 'max_depth': 26}"
            ]
          },
          "metadata": {},
          "execution_count": 87
        }
      ]
    },
    {
      "cell_type": "code",
      "source": [
        "rf1_random.best_score_"
      ],
      "metadata": {
        "colab": {
          "base_uri": "https://localhost:8080/"
        },
        "id": "aA7wsMCvFvo_",
        "outputId": "e313edc8-2dcf-4228-ed59-2c981d6b0dff"
      },
      "execution_count": 88,
      "outputs": [
        {
          "output_type": "execute_result",
          "data": {
            "text/plain": [
              "-0.5737610609420214"
            ]
          },
          "metadata": {},
          "execution_count": 88
        }
      ]
    },
    {
      "cell_type": "code",
      "source": [
        "prediction_rf1 = rf1_random.predict(X_test)"
      ],
      "metadata": {
        "id": "6v8t63NEFvrw"
      },
      "execution_count": 89,
      "outputs": []
    },
    {
      "cell_type": "code",
      "source": [
        "sns.distplot(y_test - prediction_rf1)"
      ],
      "metadata": {
        "colab": {
          "base_uri": "https://localhost:8080/",
          "height": 466
        },
        "id": "P4eDXk6BFvuM",
        "outputId": "49ecb951-c93a-457e-f863-7b5922de24df"
      },
      "execution_count": 90,
      "outputs": [
        {
          "output_type": "execute_result",
          "data": {
            "text/plain": [
              "<Axes: xlabel='Ozone(ppm)', ylabel='Density'>"
            ]
          },
          "metadata": {},
          "execution_count": 90
        },
        {
          "output_type": "display_data",
          "data": {
            "text/plain": [
              "<Figure size 640x480 with 1 Axes>"
            ],
            "image/png": "[encoded data removed]"
          },
          "metadata": {}
        }
      ]
    },
    {
      "cell_type": "code",
      "source": [
        "r_squared = r2_score(y_test, prediction_rf1)\n",
        "\n",
        "# Display R^2 on the plot\n",
        "plt.text(np.min(y_test), np.max(prediction_rf1), f'R^2 = {r_squared:.4f}', fontsize=12, verticalalignment='top')\n",
        "plt.scatter(y_test, prediction_rf1)\n",
        "\n",
        "plt.scatter(y_test, prediction_rf1)\n",
        "plt.show()"
      ],
      "metadata": {
        "colab": {
          "base_uri": "https://localhost:8080/",
          "height": 430
        },
        "id": "zgX5dmqLFvwZ",
        "outputId": "1290aac8-b473-434b-80d5-d762582e1510"
      },
      "execution_count": 91,
      "outputs": [
        {
          "output_type": "display_data",
          "data": {
            "text/plain": [
              "<Figure size 640x480 with 1 Axes>"
            ],
            "image/png": "[encoded data removed]"
          },
          "metadata": {}
        }
      ]
    },
    {
      "cell_type": "code",
      "source": [
        "print('MAE:', metrics.mean_absolute_error(y_test, prediction_rf1))\n",
        "print('MSE:', metrics.mean_squared_error(y_test, prediction_rf1))\n",
        "print('RMSE:', np.sqrt(metrics.mean_squared_error(y_test, prediction_rf1)))"
      ],
      "metadata": {
        "colab": {
          "base_uri": "https://localhost:8080/"
        },
        "id": "i6JLb3MtF2UE",
        "outputId": "c14f043c-a619-4f55-f978-9746836d7aa0"
      },
      "execution_count": 92,
      "outputs": [
        {
          "output_type": "stream",
          "name": "stdout",
          "text": [
            "MAE: 0.6048680774705587\n",
            "MSE: 0.5879380950157405\n",
            "RMSE: 0.7667712142586864\n"
          ]
        }
      ]
    }
  ]
}