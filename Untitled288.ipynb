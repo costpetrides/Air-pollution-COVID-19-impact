{
  "nbformat": 4,
  "nbformat_minor": 0,
  "metadata": {
    "colab": {
      "provenance": [],
      "authorship_tag": "ABX9TyMYzFT3gzMTyXGiVB1He8wd",
      "include_colab_link": true
    },
    "kernelspec": {
      "name": "python3",
      "display_name": "Python 3"
    },
    "language_info": {
      "name": "python"
    }
  },
  "cells": [
    {
      "cell_type": "markdown",
      "metadata": {
        "id": "view-in-github",
        "colab_type": "text"
      },
      "source": [
        "<a href=\"https://colab.research.google.com/github/costpetrides/Air-pollution-COVID-19-impact/blob/main/Untitled288.ipynb\" target=\"_parent\"><img src=\"https://colab.research.google.com/assets/colab-badge.svg\" alt=\"Open In Colab\"/></a>"
      ]
    },
    {
      "cell_type": "code",
      "execution_count": null,
      "metadata": {
        "id": "H7QvCGLo-dVP"
      },
      "outputs": [],
      "source": [
        "import pandas as pd\n",
        "import matplotlib.pyplot as plt\n",
        "url='https://raw.githubusercontent.com/costpetrides/Air-pollution-COVID-19-impact/main/Lockdown%201/DATA/PSO2.csv'\n",
        "df = pd.read_csv(url)\n",
        "\n",
        "plt.figure(figsize=(17,5))\n",
        "\n",
        "plt.xlabel('Days')\n",
        "plt.ylabel('$O_{3}$ μg/$m^{3}$]')\n",
        "\n",
        "plt.title(\"$O_{3}$ - Πατησίων\")\n",
        "\n",
        "\n",
        "x=pd.date_range(start='3/1/2020', end='5/31/2020',)\n",
        "\n",
        "plt.plot(x, df['2020'], 'g', label='2020')\n",
        "plt.plot(x, df['2021'], 'c', label='2021')\n",
        "plt.plot(x, df['2018'], 'b', label='2018')\n",
        "plt.legend()\n",
        "\n",
        "\n",
        "\n",
        "\n",
        "plt.axvline(x[10] ,color='r')\n",
        "plt.axvline(x[23] ,color='r')\n",
        "\n",
        "plt.xticks(rotation=90)"
      ]
    }
  ]
}