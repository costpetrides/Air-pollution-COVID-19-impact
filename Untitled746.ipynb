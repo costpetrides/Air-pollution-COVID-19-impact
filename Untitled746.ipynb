{
  "nbformat": 4,
  "nbformat_minor": 0,
  "metadata": {
    "colab": {
      "provenance": [],
      "authorship_tag": "ABX9TyMfpldi7CSTdljZqwrU1W/v",
      "include_colab_link": true
    },
    "kernelspec": {
      "name": "python3",
      "display_name": "Python 3"
    },
    "language_info": {
      "name": "python"
    }
  },
  "cells": [
    {
      "cell_type": "markdown",
      "metadata": {
        "id": "view-in-github",
        "colab_type": "text"
      },
      "source": [
        "<a href=\"https://colab.research.google.com/github/costpetrides/Air-pollution-COVID-19-impact/blob/main/Untitled746.ipynb\" target=\"_parent\"><img src=\"https://colab.research.google.com/assets/colab-badge.svg\" alt=\"Open In Colab\"/></a>"
      ]
    },
    {
      "cell_type": "code",
      "source": [
        "pip install pykrige"
      ],
      "metadata": {
        "colab": {
          "base_uri": "https://localhost:8080/"
        },
        "id": "QIeIg9oGPGw9",
        "outputId": "22e18a35-952d-4d75-c7ca-04920d368a5f"
      },
      "execution_count": 2,
      "outputs": [
        {
          "output_type": "stream",
          "name": "stdout",
          "text": [
            "Requirement already satisfied: pykrige in /usr/local/lib/python3.11/dist-packages (1.7.2)\n",
            "Requirement already satisfied: numpy>=1.20.0 in /usr/local/lib/python3.11/dist-packages (from pykrige) (1.26.4)\n",
            "Requirement already satisfied: scipy<2,>=1.1.0 in /usr/local/lib/python3.11/dist-packages (from pykrige) (1.13.1)\n"
          ]
        }
      ]
    },
    {
      "cell_type": "code",
      "execution_count": null,
      "metadata": {
        "id": "a8OgFHg7MY_S"
      },
      "outputs": [],
      "source": [
        "import numpy as np\n",
        "import pandas as pd\n",
        "import xarray as xr\n",
        "from scipy.spatial import cKDTree\n",
        "from pykrige.ok import OrdinaryKriging\n",
        "import matplotlib.pyplot as plt\n",
        "import matplotlib.colors as mcolors\n",
        "\n",
        "# --- Φόρτωση και προεπεξεργασία δεδομένων ---\n",
        "# Φόρτωση δεδομένων από το αρχείο NetCDF του μοντέλου\n",
        "model_data = xr.open_dataset('/content/BaseCase_PERT_PM25_rh50_YEARLY.nc')\n",
        "\n",
        "# Λήψη των συντεταγμένων του μοντέλου και των τιμών PM2.5\n",
        "model_lons = model_data['lon'].values\n",
        "model_lats = model_data['lat'].values\n",
        "model_values = model_data['SURF_ug_PM25_rh50'].values[0]  # Επιλέγουμε τη χρονική στιγμή (το 0 για τον χρόνο)\n",
        "\n",
        "# Φόρτωση των σταθμών δεδομένων\n",
        "data = pd.read_csv('basePM25nearest_grid.csv')\n",
        "\n",
        "# Αφαίρεση NaN τιμών για αποφυγή σφαλμάτων\n",
        "stations_data = data[['lon', 'lat', 'SURF_ug_PM25_rh50']].dropna().copy()\n",
        "grid_data = data[['nearest_grid_lon', 'nearest_grid_lat', 'nearest_SURF_ug_PM25_rh50']].dropna().copy()\n",
        "\n",
        "# Δημιουργία KDTree για γρήγορη εύρεση γειτόνων\n",
        "grid_coords = grid_data[['nearest_grid_lon', 'nearest_grid_lat']].values\n",
        "grid_tree = cKDTree(grid_coords)\n",
        "station_coords = stations_data[['lon', 'lat']].values\n",
        "\n",
        "distances, indices = grid_tree.query(station_coords, k=1)\n",
        "\n",
        "# Αντιστοίχιση τιμών ρύπανσης στους σταθμούς\n",
        "stations_data.loc[:, 'nearest_SURF_ug_PM25_rh50'] = grid_data.iloc[indices.flatten()]['nearest_SURF_ug_PM25_rh50'].values\n",
        "\n",
        "# --- Υπολογισμός Bias (Διαφορά) ---\n",
        "stations_data['bias'] = stations_data['SURF_ug_PM25_rh50'] - stations_data['nearest_SURF_ug_PM25_rh50']\n",
        "\n",
        "# --- Επιλογή βέλτιστου μοντέλου Kriging ---\n",
        "def best_kriging_model(lon, lat, values):\n",
        "    models = ['spherical', 'linear', 'exponential', 'gaussian']\n",
        "    best_model = 'spherical'\n",
        "    best_score = float('inf')\n",
        "\n",
        "    for model in models:\n",
        "        try:\n",
        "            OK = OrdinaryKriging(lon, lat, values, variogram_model=model, verbose=False, enable_plotting=False)\n",
        "            _, error = OK.execute('grid', np.linspace(lon.min(), lon.max(), 10), np.linspace(lat.min(), lat.max(), 10))\n",
        "            score = np.mean(error)\n",
        "            if score < best_score:\n",
        "                best_score = score\n",
        "                best_model = model\n",
        "        except:\n",
        "            continue\n",
        "\n",
        "    return best_model\n",
        "\n",
        "best_model = best_kriging_model(stations_data['lon'].values, stations_data['lat'].values, stations_data['bias'].values)\n",
        "\n",
        "# --- Kriging της Bias ---\n",
        "OK_bias = OrdinaryKriging(\n",
        "    stations_data['lon'].values,\n",
        "    stations_data['lat'].values,\n",
        "    stations_data['bias'].values,  # Χρησιμοποιούμε τη bias αντί για το μοντέλο\n",
        "    variogram_model=best_model,\n",
        "    verbose=False,\n",
        "    enable_plotting=False\n",
        ")\n",
        "\n",
        "# Δημιουργία πλέγματος για την παρεμβολή\n",
        "gridx = model_lons\n",
        "gridy = model_lats\n",
        "\n",
        "# Παρεμβολή της bias σε όλο το πλέγμα\n",
        "z_bias, ss_bias = OK_bias.execute('grid', gridx, gridy)\n",
        "\n",
        "# --- Διόρθωση Bias στο Μοντέλο ---\n",
        "# Προσθήκη της bias στις τιμές του μοντέλου\n",
        "corrected_values = model_values + z_bias\n",
        "\n",
        "# Δημιουργία του νέου διορθωμένου NetCDF αρχείου\n",
        "corrected_data = model_data.copy()\n",
        "\n",
        "# Δημιουργία νέας μεταβλητής με τις διορθωμένες τιμές\n",
        "corrected_data['SURF_ug_PM25_rh50_corrected'] = (['time', 'lat', 'lon'], corrected_values[np.newaxis, :, :])\n",
        "\n",
        "# Αποθήκευση του διορθωμένου αρχείου\n",
        "corrected_data.to_netcdf('BaseCase_PERT_PM25_rh50_YEARLY_corrected.nc')\n",
        "\n",
        "# --- Οπτικοποίηση ---\n",
        "fig, ax = plt.subplots(1, 2, figsize=(14, 6))\n",
        "\n",
        "# Οπτικοποίηση του διορθωμένου μοντέλου\n",
        "norm = mcolors.LogNorm(vmin=1, vmax=1000)\n",
        "\n",
        "# Kriging Διόρθωση\n",
        "c1 = ax[0].pcolormesh(gridx, gridy, corrected_values[0], cmap='plasma', shading='auto', norm=norm)\n",
        "plt.colorbar(c1, ax=ax[0], label='Corrected PM2.5 Concentration')\n",
        "ax[0].set_title(f'Corrected Kriging Interpolation ({best_model} model)')\n",
        "ax[0].set_xlabel('Longitude')\n",
        "ax[0].set_ylabel('Latitude')\n",
        "\n",
        "plt.tight_layout()\n",
        "plt.show()"
      ]
    },
    {
      "cell_type": "markdown",
      "source": [
        "# France"
      ],
      "metadata": {
        "id": "vU1c-iq-O_1f"
      }
    },
    {
      "cell_type": "code",
      "source": [
        "import numpy as np\n",
        "import pandas as pd\n",
        "import xarray as xr\n",
        "from scipy.spatial import cKDTree\n",
        "from pykrige.ok import OrdinaryKriging\n",
        "import matplotlib.pyplot as plt\n",
        "import matplotlib.colors as mcolors\n",
        "\n",
        "# --- Φόρτωση και προεπεξεργασία δεδομένων ---\n",
        "print(\"[10%] Φόρτωση δεδομένων...\")\n",
        "\n",
        "# Φόρτωση δεδομένων από το αρχείο NetCDF του μοντέλου\n",
        "model_data = xr.open_dataset('/content/BaseCase_PERT_PM25_rh50_YEARLY.nc')\n",
        "\n",
        "# Λήψη των συντεταγμένων του μοντέλου και των τιμών PM2.5\n",
        "model_lons = model_data['lon'].values\n",
        "model_lats = model_data['lat'].values\n",
        "model_values = model_data['SURF_ug_PM25_rh50'].values[0]  # Επιλέγουμε τη χρονική στιγμή (το 0 για τον χρόνο)\n",
        "\n",
        "# Φόρτωση των σταθμών δεδομένων\n",
        "data = pd.read_csv('basePM25nearest_grid.csv')\n",
        "\n",
        "# Αφαίρεση NaN τιμών για αποφυγή σφαλμάτων\n",
        "stations_data = data[['lon', 'lat', 'SURF_ug_PM25_rh50']].dropna().copy()\n",
        "\n",
        "print(\"[20%] Φιλτράρισμα δεδομένων για τη Γαλλία...\")\n",
        "\n",
        "# Γεωγραφικά όρια της Γαλλίας\n",
        "france_lon_min, france_lon_max = -5, 10  # Περίπου longitudes της Γαλλίας\n",
        "france_lat_min, france_lat_max = 41, 51  # Περίπου latitudes της Γαλλίας\n",
        "\n",
        "# Φιλτράρουμε μόνο τα δεδομένα εντός της Γαλλίας\n",
        "stations_data = stations_data[\n",
        "    (stations_data['lon'] >= france_lon_min) & (stations_data['lon'] <= france_lon_max) &\n",
        "    (stations_data['lat'] >= france_lat_min) & (stations_data['lat'] <= france_lat_max)\n",
        "].copy()\n",
        "\n",
        "print(\"[30%] Δημιουργία KDTree...\")\n",
        "\n",
        "# Δημιουργία KDTree για γρήγορη εύρεση γειτόνων\n",
        "grid_data = data[['nearest_grid_lon', 'nearest_grid_lat', 'nearest_SURF_ug_PM25_rh50']].dropna().copy()\n",
        "grid_coords = grid_data[['nearest_grid_lon', 'nearest_grid_lat']].values\n",
        "grid_tree = cKDTree(grid_coords)\n",
        "station_coords = stations_data[['lon', 'lat']].values\n",
        "\n",
        "distances, indices = grid_tree.query(station_coords, k=1)\n",
        "\n",
        "# Αντιστοίχιση τιμών ρύπανσης στους σταθμούς\n",
        "stations_data.loc[:, 'nearest_SURF_ug_PM25_rh50'] = grid_data.iloc[indices.flatten()]['nearest_SURF_ug_PM25_rh50'].values\n",
        "\n",
        "# --- Υπολογισμός Bias (Διαφορά) ---\n",
        "print(\"[40%] Υπολογισμός Bias...\")\n",
        "stations_data['bias'] = stations_data['SURF_ug_PM25_rh50'] - stations_data['nearest_SURF_ug_PM25_rh50']\n",
        "\n",
        "# --- Kriging της Bias ---\n",
        "print(\"[50%] Εκτέλεση Kriging...\")\n",
        "OK_bias = OrdinaryKriging(\n",
        "    stations_data['lon'].values,\n",
        "    stations_data['lat'].values,\n",
        "    stations_data['bias'].values,  # Χρησιμοποιούμε τη bias αντί για το μοντέλο\n",
        "    variogram_model='spherical',\n",
        "    verbose=False,\n",
        "    enable_plotting=False\n",
        ")\n",
        "\n",
        "# Παρεμβολή της bias σε όλο το πλέγμα\n",
        "print(\"[70%] Παρεμβολή δεδομένων...\")\n",
        "z_bias, ss_bias = OK_bias.execute('grid', model_lons, model_lats)\n",
        "\n",
        "# --- Διόρθωση Bias στο Μοντέλο ---\n",
        "print(\"[80%] Διόρθωση τιμών...\")\n",
        "corrected_values = model_values + z_bias\n",
        "\n",
        "# Δημιουργία του νέου διορθωμένου NetCDF αρχείου\n",
        "corrected_data = model_data.copy()\n",
        "corrected_data['SURF_ug_PM25_rh50_corrected'] = (['time', 'lat', 'lon'], corrected_values[np.newaxis, :, :])\n",
        "corrected_data.to_netcdf('BaseCase_PERT_PM25_rh50_YEARLY_corrected.nc')\n",
        "\n",
        "# --- Οπτικοποίηση ---\n",
        "print(\"[90%] Δημιουργία γραφήματος...\")\n",
        "fig, ax = plt.subplots(figsize=(8, 6))\n",
        "norm = mcolors.LogNorm(vmin=1, vmax=1000)\n",
        "c = ax.pcolormesh(model_lons, model_lats, corrected_values[0], cmap='plasma', shading='auto', norm=norm)\n",
        "plt.colorbar(c, ax=ax, label='Corrected PM2.5 Concentration')\n",
        "ax.set_title(f'Corrected Kriging Interpolation for France')\n",
        "ax.set_xlabel('Longitude')\n",
        "ax.set_ylabel('Latitude')\n",
        "plt.show()\n",
        "\n",
        "print(\"[100%] Ολοκληρώθηκε!\")\n"
      ],
      "metadata": {
        "colab": {
          "base_uri": "https://localhost:8080/"
        },
        "id": "QIQ976mDQS3m",
        "outputId": "2c1ef3ce-d460-4686-bcdd-1881c7e4bc6c"
      },
      "execution_count": null,
      "outputs": [
        {
          "output_type": "stream",
          "name": "stdout",
          "text": [
            "[10%] Φόρτωση δεδομένων...\n",
            "[20%] Φιλτράρισμα δεδομένων για τη Γαλλία...\n",
            "[30%] Δημιουργία KDTree...\n",
            "[40%] Υπολογισμός Bias...\n",
            "[50%] Εκτέλεση Kriging...\n",
            "[70%] Παρεμβολή δεδομένων...\n"
          ]
        }
      ]
    }
  ]
}