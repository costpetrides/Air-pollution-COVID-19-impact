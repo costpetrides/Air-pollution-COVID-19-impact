{
  "nbformat": 4,
  "nbformat_minor": 0,
  "metadata": {
    "colab": {
      "provenance": [],
      "authorship_tag": "ABX9TyMb9ramyfy0OyMXO+VLYrbm",
      "include_colab_link": true
    },
    "kernelspec": {
      "name": "python3",
      "display_name": "Python 3"
    },
    "language_info": {
      "name": "python"
    }
  },
  "cells": [
    {
      "cell_type": "markdown",
      "metadata": {
        "id": "view-in-github",
        "colab_type": "text"
      },
      "source": [
        "<a href=\"https://colab.research.google.com/github/costpetrides/Air-pollution-COVID-19-impact/blob/main/Untitled904.ipynb\" target=\"_parent\"><img src=\"https://colab.research.google.com/assets/colab-badge.svg\" alt=\"Open In Colab\"/></a>"
      ]
    },
    {
      "cell_type": "code",
      "execution_count": 15,
      "metadata": {
        "colab": {
          "base_uri": "https://localhost:8080/"
        },
        "id": "vb3VN10AHydg",
        "outputId": "0f4fb3d4-c57c-45e5-901a-21c03e2c4081"
      },
      "outputs": [
        {
          "output_type": "stream",
          "name": "stderr",
          "text": [
            "100%|██████████| 10/10 [00:00<00:00, 2784.69it/s]\n"
          ]
        }
      ],
      "source": [
        "import numpy as np\n",
        "from tqdm import tqdm\n",
        "import matplotlib.pyplot as plt\n",
        "\n",
        "Lx = 1              # length of domian in x-direction\n",
        "Ly = 1              # length of domian in y-direction\n",
        "nx = 4              # grid size in x-direction\n",
        "ny = 4              # grid size in y-direction\n",
        "\n",
        "Re = 100            # Reynolds number\n",
        "nu = 1/Re           # kinematic viscosity\n",
        "rho = 1.0           # density\n",
        "dt =  1             # time step size\n",
        "itr = 10             # iterations\n",
        "velocity = 1.0\n",
        "\n",
        "# Create staggered grid index system\n",
        "imin, jmin = 1, 1\n",
        "imax = imin + nx - 1\n",
        "jmax = jmin + ny - 1\n",
        "\n",
        "# Define ghost cells for boundary conditions\n",
        "x = np.zeros(jmax + 2)\n",
        "y = np.zeros(jmax + 2)\n",
        "x[imin: imax + 2] = np.linspace(0, Lx, nx + 1, endpoint=True)\n",
        "y[jmin: jmax + 2] = np.linspace(0, Ly, ny + 1, endpoint=True)\n",
        "\n",
        "dx = x[imin + 1] - x[imin]\n",
        "dy = y[jmin + 1] - y[jmin]\n",
        "dxi = 1 / dx\n",
        "dyi = 1 / dy\n",
        "\n",
        "# Define Laplacian\n",
        "def Laplacian(nx, ny, dxi, dyi):\n",
        "    Dx = np.diag(np.ones(nx)) * 2 - np.diag(np.ones(nx - 1), 1) - np.diag(np.ones(nx - 1), -1)\n",
        "    Dx[0, 0] = 1\n",
        "    Dx[-1, -1] = 1\n",
        "    Ix = np.diag(np.ones(ny))\n",
        "    Dy = np.diag(np.ones(ny)) * 2 - np.diag(np.ones(ny - 1), 1) - np.diag(np.ones(ny - 1), -1)\n",
        "    Dy[0, 0] = 1\n",
        "    Dy[-1, -1] = 1\n",
        "    Iy = np.diag(np.ones(nx))\n",
        "    L = np.kron(Ix, Dx) * dxi ** 2 + np.kron(Dy, Iy) * dyi ** 2\n",
        "    return L\n",
        "\n",
        "L = Laplacian(nx, ny, dxi, dyi)\n",
        "L[0,:]=0\n",
        "L[0,0]=1\n",
        "\n",
        "\n",
        "# Variable declaration\n",
        "u = np.zeros((imax + 2, jmax + 2))\n",
        "v = np.zeros((imax + 2, jmax + 2))\n",
        "\n",
        "res_hist_classical = []\n",
        "for timestep in tqdm(range(itr)):\n",
        "\n",
        "    # u-momentum\n",
        "    us = u.copy()\n",
        "    u_old = u.copy()\n",
        "    I = slice(imin + 1, imax + 1)\n",
        "    Ib = slice(imin, imax)\n",
        "    If = slice(imin + 2, imax + 2)\n",
        "    J = slice(jmin, jmax + 1)\n",
        "    Jb = slice(jmin - 1, jmax)\n",
        "    Jf = slice(jmin + 1, jmax + 2)\n",
        "\n",
        "    v_here = 0.25 * (v[Ib, J] + v[Ib, Jf] + v[I, J] + v[I, Jf])\n",
        "    us[I, J] = u[I, J] + dt * (\n",
        "            nu * (u[Ib, J] - 2 * u[I, J] + u[If, J]) * dxi ** 2\n",
        "            + nu * (u[I, Jb] - 2 * u[I, J] + u[I, Jf]) * dyi ** 2\n",
        "            - v_here * (u[I, Jf] - u[I, Jb]) * 0.5 * dyi\n",
        "            - u[I, J] * (u[If, J] - u[Ib, J]) * 0.5 * dxi\n",
        "    )\n",
        "\n",
        "\n",
        "    # v-momentum\n",
        "    vs = v.copy()\n",
        "    v_old = v.copy()\n",
        "    I = slice(imin, imax + 1)\n",
        "    Ib = slice(imin - 1, imax)\n",
        "    If = slice(imin + 1, imax + 2)\n",
        "    J = slice(jmin + 1, jmax + 1)\n",
        "    Jb = slice(jmin, jmax)\n",
        "    Jf = slice(jmin + 2, jmax + 2)\n",
        "\n",
        "    u_here = 0.25 * (u[I, Jb] + u[I, J] + u[If, Jb] + u[If, J])\n",
        "    vs[I, J] = v[I, J] + dt * (\n",
        "            nu * (v[Ib, J] - 2 * v[I, J] + v[If, J]) * dxi ** 2\n",
        "            + nu * (v[I, Jb] - 2 * v[I, J] + v[I, Jf]) * dyi ** 2\n",
        "            - u_here * (v[If, J] - v[Ib, J]) * 0.5 * dxi\n",
        "            - v[I, J] * (v[I, Jf] - v[I, Jb]) * 0.5 * dyi\n",
        "    )\n",
        "\n",
        "\n",
        "    # Claculate R.H.S of pressure Poisson\n",
        "    Rn = -rho / dt * ((us[imin + 1: imax + 2, jmin: jmax + 1]\n",
        "                       - us[imin: imax + 1, jmin: jmax + 1]) * dxi\n",
        "                      + (vs[imin: imax + 1, jmin + 1: jmax + 2]\n",
        "                       - vs[imin: imax + 1, jmin: jmax + 1]) * dyi)\n",
        "\n",
        "    R = Rn.T.ravel()\n",
        "\n",
        "    # Prepare linear system for VQE\n",
        "    pv = np.linalg.solve(L, R)\n",
        "\n",
        "    pn = pv.reshape(ny, nx).T\n",
        "    p = np.zeros((imax + 1, jmax + 1))\n",
        "    p[1:, 1:] = pn\n",
        "    p[0, 0] = 0\n",
        "\n",
        "\n",
        "    # Correct velocity\n",
        "    u[imin + 1: imax + 1, jmin: jmax + 1] = us[imin + 1: imax + 1, jmin: jmax + 1] - dt / rho * (\n",
        "                p[imin + 1: imax + 1, jmin: jmax + 1] - p[imin: imax, jmin: jmax + 1]) * dxi\n",
        "    v[imin: imax + 1, jmin + 1: jmax + 1] = vs[imin: imax + 1, jmin + 1: jmax + 1] - dt / rho * (\n",
        "                p[imin: imax + 1, jmin + 1: jmax + 1] - p[imin: imax + 1, jmin: jmax]) * dyi\n",
        "\n",
        "    # Update BCs\n",
        "    v[imin,:] = 0.0                   # left wall\n",
        "    v[imax+1,:] = 0.0                 # right wall\n",
        "    v[:, jmin-1] = -v[:, jmin]        # bottom wall\n",
        "    v[:, jmax+1] = -v[:, jmax]        # top wall\n",
        "\n",
        "    u[imin-1, :] = -u[imin, :]        # left wall\n",
        "    u[imax+1, :] = -u[imax, :]        # right wall\n",
        "    u[:,imin] = 0                     # bottom wall\n",
        "    u[:,imax+1] = velocity            # top wall\n",
        "\n",
        "    # Find maximum residual in the domain\n",
        "    v_res = np.abs(v - v_old)\n",
        "    u_res = np.abs(u - u_old)\n",
        "    max_res_u = np.max(u_res)\n",
        "    max_res_v = np.max(v_res)\n",
        "    max_res = max(max_res_u, max_res_v)\n",
        "    res_hist_classical.append(max_res)"
      ]
    },
    {
      "cell_type": "code",
      "source": [
        "# Final residual\n",
        "print(f\"Final Iteration = {itr}; Residual = {max_res}\")\n",
        "plt.plot(np.arange(itr), res_hist_classical)\n",
        "plt.xlabel(\"Time steps\")\n",
        "plt.ylabel(\"Residual\")\n",
        "plt.title(\"Projection method, Re=100\")\n",
        "# plt.grid()\n",
        "ax = plt.gca()\n",
        "ax.set_yscale(\"log\")"
      ],
      "metadata": {
        "colab": {
          "base_uri": "https://localhost:8080/",
          "height": 489
        },
        "id": "VyjVeW64H7jx",
        "outputId": "eb893a8b-16f9-4cd6-b415-d608866d2ca3"
      },
      "execution_count": 16,
      "outputs": [
        {
          "output_type": "stream",
          "name": "stdout",
          "text": [
            "Final Iteration = 10; Residual = 0.0006465359449115138\n"
          ]
        },
        {
          "output_type": "display_data",
          "data": {
            "text/plain": [
              "<Figure size 640x480 with 1 Axes>"
            ],
            "image/png": "[encoded data removed]"
          },
          "metadata": {}
        }
      ]
    },
    {
      "cell_type": "code",
      "source": [
        "# Solve x here\n",
        "b = R/np.linalg.norm(R)\n",
        "x = np.linalg.solve(L, b)\n",
        "x_norm = np.linalg.norm(x)\n",
        "x_normalized = x/np.linalg.norm(x)"
      ],
      "metadata": {
        "id": "rJKWpt5SH7mT"
      },
      "execution_count": 17,
      "outputs": []
    },
    {
      "cell_type": "code",
      "source": [
        "from qiskit.quantum_info.operators import Operator, SparsePauliOp\n",
        "from qiskit.quantum_info import Pauli\n",
        "\n",
        "N = 4        # number of qubits\n",
        "dim = 2**N   # dimension of the operator\n",
        "b = b.reshape([dim, 1])\n",
        "H_test = L.conj().T@(np.eye(dim)- b@b.T)@L\n",
        "H = SparsePauliOp.from_operator(Operator(H_test))"
      ],
      "metadata": {
        "id": "hMB_wxCYH7pF"
      },
      "execution_count": 18,
      "outputs": []
    },
    {
      "cell_type": "code",
      "source": [
        "M = np.linalg.inv(np.diag(np.diag(L)))\n",
        "\n",
        "# upper_diagonal = np.diagonal(L, offset=1)\n",
        "# lower_diagonal = np.diagonal(L, offset=-1)\n",
        "# M3 = np.linalg.inv(np.diag(np.diag(L)) + np.diag(upper_diagonal, k=1) + np.diag(lower_diagonal, k=-1))\n",
        "\n",
        "L_new = M@L\n",
        "b_new = M@b\n",
        "b_new = b_new /np.linalg.norm(b_new)\n",
        "H_jacobi = L_new.conj().T@(np.eye(dim)- b_new@b_new.T)@L_new\n",
        "op_jacobi = SparsePauliOp.from_operator(Operator(H_jacobi))\n",
        "print(\"Number of Pauli strings = \",len(op_jacobi))\n",
        "print(\"Condition number = \", np.linalg.cond(L))\n",
        "print(\"Condition number = \", np.linalg.cond(L_new))"
      ],
      "metadata": {
        "colab": {
          "base_uri": "https://localhost:8080/"
        },
        "id": "26HRaYZEH7uC",
        "outputId": "997c91d0-a35e-4401-a7d5-a90c83b4ab4b"
      },
      "execution_count": 19,
      "outputs": [
        {
          "output_type": "stream",
          "name": "stdout",
          "text": [
            "Number of Pauli strings =  136\n",
            "Condition number =  443.65862764187256\n",
            "Condition number =  78.1571974327003\n"
          ]
        }
      ]
    },
    {
      "cell_type": "code",
      "source": [
        "import pandas as pd\n",
        "\n",
        "# Read the CSV file into a DataFrame\n",
        "df = pd.read_csv('ilu4.csv', header=None)\n",
        "M = df.values\n",
        "\n",
        "L_new = M@L\n",
        "b_new = M@b\n",
        "b_new = b_new/np.linalg.norm(b_new)\n",
        "H_ilu = L_new.conj().T@(np.eye(dim)- b_new@b_new.T)@L_new\n",
        "op_ilu = SparsePauliOp.from_operator(Operator(H_ilu))\n",
        "print(\"Number of Pauli strings = \",len(op_ilu))\n",
        "print(\"Condition number = \", np.linalg.cond(L))\n",
        "print(\"Condition number with preconditioning = \", np.linalg.cond(L_new))"
      ],
      "metadata": {
        "colab": {
          "base_uri": "https://localhost:8080/"
        },
        "id": "m7Nh2uZEILZP",
        "outputId": "892159e5-089b-4aad-e359-5e0ca233b607"
      },
      "execution_count": 20,
      "outputs": [
        {
          "output_type": "stream",
          "name": "stdout",
          "text": [
            "Number of Pauli strings =  136\n",
            "Condition number =  443.65862764187256\n",
            "Condition number with preconditioning =  8.0145108316588\n"
          ]
        }
      ]
    },
    {
      "cell_type": "code",
      "source": [
        "from scipy.sparse import identity\n",
        "from scipy.sparse import diags\n",
        "from scipy.sparse.linalg import onenormest\n",
        "\n",
        "def spai(A, m):\n",
        "    \"\"\"Perform m step of the SPAI iteration.\"\"\"\n",
        "    n = A.shape[0]\n",
        "    ident = identity(n, format='csr')\n",
        "    alpha = 2 / onenormest(A @ A.T)\n",
        "    M = alpha * A\n",
        "\n",
        "    for index in range(m):\n",
        "        C = A @ M\n",
        "        G = ident - C\n",
        "        AG = A @ G\n",
        "        trace = (G.T @ AG).diagonal().sum()\n",
        "        alpha = trace / np.linalg.norm(AG.data)**2\n",
        "        M = M + alpha * G\n",
        "\n",
        "    return M"
      ],
      "metadata": {
        "id": "sWjm_jydILcQ"
      },
      "execution_count": 21,
      "outputs": []
    },
    {
      "cell_type": "code",
      "source": [
        "M = spai(L, 10)\n",
        "L_new = M@L\n",
        "b_new = M@b\n",
        "b_new = b_new /np.linalg.norm(b_new)\n",
        "H_spai = L_new.conj().T@(np.eye(dim)- b_new@b_new.T)@L_new\n",
        "op_spai = SparsePauliOp.from_operator(Operator(H_spai))\n",
        "print(\"Number of Pauli strings = \",len(op_spai))\n",
        "print(\"Condition number = \", np.linalg.cond(L))\n",
        "print(\"Condition number = \", np.linalg.cond(L_new))"
      ],
      "metadata": {
        "colab": {
          "base_uri": "https://localhost:8080/"
        },
        "id": "uxgZsoMTILez",
        "outputId": "928db052-93b2-42c8-ead9-6f885aa648f9"
      },
      "execution_count": 22,
      "outputs": [
        {
          "output_type": "stream",
          "name": "stdout",
          "text": [
            "Number of Pauli strings =  136\n",
            "Condition number =  443.65862764187256\n",
            "Condition number =  31.900785064537498\n"
          ]
        }
      ]
    },
    {
      "cell_type": "code",
      "source": [
        "import warnings\n",
        "warnings.filterwarnings(\"ignore\")"
      ],
      "metadata": {
        "id": "XkyDeqeiI1BM"
      },
      "execution_count": 23,
      "outputs": []
    },
    {
      "cell_type": "code",
      "source": [
        "from pyamg.aggregation import smoothed_aggregation_solver\n",
        "\n",
        "ml = smoothed_aggregation_solver(L)\n",
        "op = ml.aspreconditioner(cycle='V')\n",
        "M = op * np.identity(op.shape[1])\n",
        "L_new = M@L\n",
        "b_new = M@b\n",
        "b_new = b_new/np.linalg.norm(b_new)\n",
        "H_amg = L_new.conj().T@(np.eye(dim)- b_new@b_new.T)@L_new\n",
        "op_amg = SparsePauliOp.from_operator(Operator(H_amg))\n",
        "print(\"Number of Pauli strings = \",len(op_amg))\n",
        "print(\"Condition number = \", np.linalg.cond(L))\n",
        "print(\"Condition number with preconditioning = \", np.linalg.cond(L_new))"
      ],
      "metadata": {
        "colab": {
          "base_uri": "https://localhost:8080/"
        },
        "id": "zpXpKWBHI1Dw",
        "outputId": "b7c8130e-97a9-4567-dcb6-645cb53a9cab"
      },
      "execution_count": 24,
      "outputs": [
        {
          "output_type": "stream",
          "name": "stdout",
          "text": [
            "Number of Pauli strings =  136\n",
            "Condition number =  443.65862764187256\n",
            "Condition number with preconditioning =  1.1322462385523706\n"
          ]
        }
      ]
    },
    {
      "cell_type": "code",
      "source": [
        "import numpy as np\n",
        "import random\n",
        "from qiskit import QuantumCircuit\n",
        "from qiskit.circuit.library import RealAmplitudes\n",
        "from qiskit.quantum_info import Statevector, state_fidelity\n",
        "from qiskit_aer.primitives import Estimator as AerEstimator\n",
        "from qiskit_algorithms.minimum_eigensolvers import VQE\n",
        "from qiskit_algorithms.optimizers import L_BFGS_B\n",
        "from qiskit.opflow import X, Z, I\n",
        "\n",
        "# Set number of qubits\n",
        "N = 2\n",
        "\n",
        "# Define a simple Hamiltonian (e.g., H = Z⊗Z + X⊗I)\n",
        "H = (Z ^ Z) + (X ^ I)\n",
        "\n",
        "# Define reference state to compare fidelity (e.g., ground state of H)\n",
        "x_normalized = Statevector.from_label('00').data  # placeholder\n",
        "\n",
        "random.seed(6)\n",
        "for _ in range(10):\n",
        "    print(\"================================================================================\")\n",
        "    seed = random.randint(0, 10000)\n",
        "    print(\"Seed:\", seed)\n",
        "    rng = np.random.default_rng(seed)\n",
        "\n",
        "    # Ansatz\n",
        "    ansatz = RealAmplitudes(N, entanglement=\"linear\", reps=5, skip_final_rotation_layer=False)\n",
        "\n",
        "    # Initial parameters\n",
        "    ip = rng.uniform(-np.pi, np.pi, ansatz.num_parameters)\n",
        "\n",
        "    # Optimizer\n",
        "    optimizer = L_BFGS_B(maxfun=20000, maxiter=20000)\n",
        "\n",
        "    # Estimator (remove 'approximation' – invalid)\n",
        "    est = AerEstimator(run_options={\"seed\": 6, \"shots\": None})\n",
        "\n",
        "    # Callback\n",
        "    counts = []\n",
        "    values = []\n",
        "    parameters_list = []\n",
        "    std_list = []\n",
        "    def store_intermediate_result(eval_count, parameters, mean, std):\n",
        "        counts.append(eval_count)\n",
        "        values.append(mean)\n",
        "        parameters_list.append(parameters)\n",
        "        std_list.append(std)\n",
        "\n",
        "    # VQE\n",
        "    vqe = VQE(estimator=est, ansatz=ansatz, optimizer=optimizer,\n",
        "              initial_point=ip, callback=store_intermediate_result)\n",
        "    result_sim = vqe.compute_minimum_eigenvalue(operator=H)\n",
        "    eig_sim = result_sim.eigenvalue\n",
        "\n",
        "    # Statevector & Fidelity\n",
        "    fixed_params = result_sim.optimal_point\n",
        "    opt_circ = result_sim.optimal_circuit.assign_parameters(fixed_params)\n",
        "    opt_state = Statevector(opt_circ).data\n",
        "    fid = state_fidelity(opt_state, x_normalized)\n",
        "    print(\"State fidelity:\", fid)\n",
        "    print(\"Function evaluations =\", result_sim.cost_function_evals)\n",
        "\n",
        "    if fid > 0.99:\n",
        "        break\n"
      ],
      "metadata": {
        "colab": {
          "base_uri": "https://localhost:8080/"
        },
        "id": "CkSvUyq0JBwN",
        "outputId": "5c669f0e-3636-439a-e591-6c9c0b774dd3"
      },
      "execution_count": 25,
      "outputs": [
        {
          "output_type": "stream",
          "name": "stdout",
          "text": [
            "================================================================================\n",
            "Seed: 9401\n",
            "State fidelity: 0.006224626806008531\n",
            "Function evaluations = 13\n",
            "================================================================================\n",
            "Seed: 1320\n",
            "State fidelity: 0.16883663377269217\n",
            "Function evaluations = 13\n",
            "================================================================================\n",
            "Seed: 7946\n",
            "State fidelity: 0.0008374274370050239\n",
            "Function evaluations = 13\n",
            "================================================================================\n",
            "Seed: 4286\n",
            "State fidelity: 0.06242290881142465\n",
            "Function evaluations = 13\n",
            "================================================================================\n",
            "Seed: 603\n",
            "State fidelity: 0.17758556623853244\n",
            "Function evaluations = 13\n",
            "================================================================================\n",
            "Seed: 7\n",
            "State fidelity: 0.002378191113209493\n",
            "Function evaluations = 13\n",
            "================================================================================\n",
            "Seed: 2385\n",
            "State fidelity: 0.00883683273444074\n",
            "Function evaluations = 13\n",
            "================================================================================\n",
            "Seed: 9608\n",
            "State fidelity: 0.12545931227718532\n",
            "Function evaluations = 13\n",
            "================================================================================\n",
            "Seed: 7704\n",
            "State fidelity: 0.08298366926791068\n",
            "Function evaluations = 13\n",
            "================================================================================\n",
            "Seed: 6113\n",
            "State fidelity: 0.18034077640052557\n",
            "Function evaluations = 13\n"
          ]
        }
      ]
    },
    {
      "cell_type": "code",
      "source": [
        "cost = values\n",
        "cost_jacobi = values\n",
        "cost_spai = values\n",
        "cost_ilu = values\n",
        "cost_amg = values"
      ],
      "metadata": {
        "id": "iGhLt_lHJB4m"
      },
      "execution_count": 26,
      "outputs": []
    },
    {
      "cell_type": "code",
      "source": [
        "param_orginal = parameters_list\n",
        "param_jacobi = parameters_list\n",
        "param_spai = parameters_list\n",
        "param_ilu = parameters_list\n",
        "param_amg = parameters_list"
      ],
      "metadata": {
        "id": "s-7khwimLFad"
      },
      "execution_count": 27,
      "outputs": []
    },
    {
      "cell_type": "code",
      "source": [
        "import matplotlib.pyplot as plt\n",
        "import numpy as np\n",
        "\n",
        "plt.semilogy(cost, label=\"Original\")\n",
        "plt.semilogy(cost_jacobi, label=\"Jacobi\")\n",
        "plt.semilogy(cost_ilu, label=\"ILU\")\n",
        "plt.semilogy(cost_spai, label=\"SPAI\")\n",
        "plt.semilogy(cost_amg, label=\"AMG\")\n",
        "plt.legend()\n",
        "plt.xlabel(\"Function evaluations\")\n",
        "plt.ylabel(\"Cost\")"
      ],
      "metadata": {
        "colab": {
          "base_uri": "https://localhost:8080/",
          "height": 466
        },
        "id": "DVJOFalaLFc9",
        "outputId": "b86c7853-893e-45ca-bf6f-a376d781d4b4"
      },
      "execution_count": 28,
      "outputs": [
        {
          "output_type": "execute_result",
          "data": {
            "text/plain": [
              "Text(0, 0.5, 'Cost')"
            ]
          },
          "metadata": {},
          "execution_count": 28
        },
        {
          "output_type": "display_data",
          "data": {
            "text/plain": [
              "<Figure size 640x480 with 1 Axes>"
            ],
            "image/png": "[encoded data removed]"
          },
          "metadata": {}
        }
      ]
    },
    {
      "cell_type": "code",
      "source": [
        "from orqviz.scans import plot_2D_scan_result_as_3D\n",
        "from orqviz.pca import (get_pca, perform_2D_pca_scan, plot_pca_landscape,\n",
        "                        plot_optimization_trajectory_on_pca)"
      ],
      "metadata": {
        "id": "9YMod6EILTdh"
      },
      "execution_count": 29,
      "outputs": []
    },
    {
      "cell_type": "code",
      "source": [
        "ham = H_test\n",
        "\n",
        "def loss_function(para):\n",
        "    opt_circ = ansatz.assign_parameters(para)\n",
        "    state = Statevector(opt_circ).data.real\n",
        "    val = state.T@ham@state\n",
        "    return val\n",
        "\n",
        "pca_original = get_pca(param_orginal)\n",
        "scan_pca_result_A = perform_2D_pca_scan(pca_original, loss_function, n_steps_x=60, offset=10)"
      ],
      "metadata": {
        "colab": {
          "base_uri": "https://localhost:8080/",
          "height": 316
        },
        "id": "WmFIu1mvLiUk",
        "outputId": "f8e6a5c2-d9b7-4651-a6c0-b4bcf1c327ac"
      },
      "execution_count": 30,
      "outputs": [
        {
          "output_type": "error",
          "ename": "ValueError",
          "evalue": "matmul: Input operand 1 has a mismatch in its core dimension 0, with gufunc signature (n?,k),(k,m?)->(n?,m?) (size 16 is different from 4)",
          "traceback": [
            "\u001b[0;31m---------------------------------------------------------------------------\u001b[0m",
            "\u001b[0;31mValueError\u001b[0m                                Traceback (most recent call last)",
            "\u001b[0;32m/tmp/ipython-input-30-4203987459.py\u001b[0m in \u001b[0;36m<cell line: 0>\u001b[0;34m()\u001b[0m\n\u001b[1;32m      8\u001b[0m \u001b[0;34m\u001b[0m\u001b[0m\n\u001b[1;32m      9\u001b[0m \u001b[0mpca_original\u001b[0m \u001b[0;34m=\u001b[0m \u001b[0mget_pca\u001b[0m\u001b[0;34m(\u001b[0m\u001b[0mparam_orginal\u001b[0m\u001b[0;34m)\u001b[0m\u001b[0;34m\u001b[0m\u001b[0;34m\u001b[0m\u001b[0m\n\u001b[0;32m---> 10\u001b[0;31m \u001b[0mscan_pca_result_A\u001b[0m \u001b[0;34m=\u001b[0m \u001b[0mperform_2D_pca_scan\u001b[0m\u001b[0;34m(\u001b[0m\u001b[0mpca_original\u001b[0m\u001b[0;34m,\u001b[0m \u001b[0mloss_function\u001b[0m\u001b[0;34m,\u001b[0m \u001b[0mn_steps_x\u001b[0m\u001b[0;34m=\u001b[0m\u001b[0;36m60\u001b[0m\u001b[0;34m,\u001b[0m \u001b[0moffset\u001b[0m\u001b[0;34m=\u001b[0m\u001b[0;36m10\u001b[0m\u001b[0;34m)\u001b[0m\u001b[0;34m\u001b[0m\u001b[0;34m\u001b[0m\u001b[0m\n\u001b[0m",
            "\u001b[0;32m/usr/local/lib/python3.11/dist-packages/orqviz/pca/scans.py\u001b[0m in \u001b[0;36mperform_2D_pca_scan\u001b[0;34m(pca_object, loss_function, n_steps_x, n_steps_y, offset, verbose)\u001b[0m\n\u001b[1;32m     54\u001b[0m         \u001b[0;32mreturn\u001b[0m \u001b[0mloss_function\u001b[0m\u001b[0;34m(\u001b[0m\u001b[0mprobe_parameters\u001b[0m\u001b[0;34m)\u001b[0m\u001b[0;34m\u001b[0m\u001b[0;34m\u001b[0m\u001b[0m\n\u001b[1;32m     55\u001b[0m \u001b[0;34m\u001b[0m\u001b[0m\n\u001b[0;32m---> 56\u001b[0;31m     return perform_2D_scan(\n\u001b[0m\u001b[1;32m     57\u001b[0m         \u001b[0morigin\u001b[0m\u001b[0;34m=\u001b[0m\u001b[0mnp\u001b[0m\u001b[0;34m.\u001b[0m\u001b[0marray\u001b[0m\u001b[0;34m(\u001b[0m\u001b[0;34m[\u001b[0m\u001b[0;36m0\u001b[0m\u001b[0;34m,\u001b[0m \u001b[0;36m0\u001b[0m\u001b[0;34m]\u001b[0m\u001b[0;34m)\u001b[0m\u001b[0;34m,\u001b[0m\u001b[0;34m\u001b[0m\u001b[0;34m\u001b[0m\u001b[0m\n\u001b[1;32m     58\u001b[0m         \u001b[0mloss_function\u001b[0m\u001b[0;34m=\u001b[0m\u001b[0mpca_loss_function\u001b[0m\u001b[0;34m,\u001b[0m\u001b[0;34m\u001b[0m\u001b[0;34m\u001b[0m\u001b[0m\n",
            "\u001b[0;32m/usr/local/lib/python3.11/dist-packages/orqviz/scans/scans_2D.py\u001b[0m in \u001b[0;36mperform_2D_scan\u001b[0;34m(origin, loss_function, direction_x, direction_y, n_steps_x, n_steps_y, end_points_x, end_points_y, verbose)\u001b[0m\n\u001b[1;32m    140\u001b[0m     )\n\u001b[1;32m    141\u001b[0m \u001b[0;34m\u001b[0m\u001b[0m\n\u001b[0;32m--> 142\u001b[0;31m     loss_grid = eval_points_on_grid(\n\u001b[0m\u001b[1;32m    143\u001b[0m         \u001b[0mparams_grid\u001b[0m\u001b[0;34m,\u001b[0m \u001b[0mloss_function\u001b[0m\u001b[0;34m=\u001b[0m\u001b[0mloss_function\u001b[0m\u001b[0;34m,\u001b[0m \u001b[0mn_reps\u001b[0m\u001b[0;34m=\u001b[0m\u001b[0;36m1\u001b[0m\u001b[0;34m,\u001b[0m \u001b[0mverbose\u001b[0m\u001b[0;34m=\u001b[0m\u001b[0mverbose\u001b[0m\u001b[0;34m\u001b[0m\u001b[0;34m\u001b[0m\u001b[0m\n\u001b[1;32m    144\u001b[0m     )\n",
            "\u001b[0;32m/usr/local/lib/python3.11/dist-packages/orqviz/scans/evals.py\u001b[0m in \u001b[0;36meval_points_on_grid\u001b[0;34m(all_parameters, loss_function, n_reps, verbose)\u001b[0m\n\u001b[1;32m     66\u001b[0m     \u001b[0mvector_of_parameters\u001b[0m \u001b[0;34m=\u001b[0m \u001b[0mall_parameters\u001b[0m\u001b[0;34m.\u001b[0m\u001b[0mreshape\u001b[0m\u001b[0;34m(\u001b[0m\u001b[0;34m(\u001b[0m\u001b[0msize_x\u001b[0m \u001b[0;34m*\u001b[0m \u001b[0msize_y\u001b[0m\u001b[0;34m,\u001b[0m \u001b[0;34m*\u001b[0m\u001b[0mparams_shape\u001b[0m\u001b[0;34m)\u001b[0m\u001b[0;34m)\u001b[0m\u001b[0;34m\u001b[0m\u001b[0;34m\u001b[0m\u001b[0m\n\u001b[1;32m     67\u001b[0m \u001b[0;34m\u001b[0m\u001b[0m\n\u001b[0;32m---> 68\u001b[0;31m     vector_of_values = eval_points_on_path(\n\u001b[0m\u001b[1;32m     69\u001b[0m         \u001b[0mall_points\u001b[0m\u001b[0;34m=\u001b[0m\u001b[0mvector_of_parameters\u001b[0m\u001b[0;34m,\u001b[0m\u001b[0;34m\u001b[0m\u001b[0;34m\u001b[0m\u001b[0m\n\u001b[1;32m     70\u001b[0m         \u001b[0mloss_function\u001b[0m\u001b[0;34m=\u001b[0m\u001b[0mloss_function\u001b[0m\u001b[0;34m,\u001b[0m\u001b[0;34m\u001b[0m\u001b[0;34m\u001b[0m\u001b[0m\n",
            "\u001b[0;32m/usr/local/lib/python3.11/dist-packages/orqviz/scans/evals.py\u001b[0m in \u001b[0;36meval_points_on_path\u001b[0;34m(all_points, loss_function, n_reps, verbose)\u001b[0m\n\u001b[1;32m     36\u001b[0m             \u001b[0;32mif\u001b[0m \u001b[0midx\u001b[0m \u001b[0;34m%\u001b[0m \u001b[0;36m10\u001b[0m \u001b[0;34m==\u001b[0m \u001b[0;36m0\u001b[0m \u001b[0;32mand\u001b[0m \u001b[0mverbose\u001b[0m\u001b[0;34m:\u001b[0m\u001b[0;34m\u001b[0m\u001b[0;34m\u001b[0m\u001b[0m\n\u001b[1;32m     37\u001b[0m                 \u001b[0mprint\u001b[0m\u001b[0;34m(\u001b[0m\u001b[0;34m\"Progress: {:.1f}%\"\u001b[0m\u001b[0;34m.\u001b[0m\u001b[0mformat\u001b[0m\u001b[0;34m(\u001b[0m\u001b[0mround\u001b[0m\u001b[0;34m(\u001b[0m\u001b[0midx\u001b[0m \u001b[0;34m/\u001b[0m \u001b[0mn_points\u001b[0m \u001b[0;34m*\u001b[0m \u001b[0;36m100\u001b[0m\u001b[0;34m)\u001b[0m\u001b[0;34m)\u001b[0m\u001b[0;34m)\u001b[0m\u001b[0;34m\u001b[0m\u001b[0;34m\u001b[0m\u001b[0m\n\u001b[0;32m---> 38\u001b[0;31m             \u001b[0mvalues\u001b[0m\u001b[0;34m[\u001b[0m\u001b[0mrep\u001b[0m\u001b[0;34m]\u001b[0m\u001b[0;34m[\u001b[0m\u001b[0midx\u001b[0m\u001b[0;34m]\u001b[0m \u001b[0;34m=\u001b[0m \u001b[0mloss_function\u001b[0m\u001b[0;34m(\u001b[0m\u001b[0mpoint\u001b[0m\u001b[0;34m)\u001b[0m\u001b[0;34m\u001b[0m\u001b[0;34m\u001b[0m\u001b[0m\n\u001b[0m\u001b[1;32m     39\u001b[0m \u001b[0;34m\u001b[0m\u001b[0m\n\u001b[1;32m     40\u001b[0m     \u001b[0;32mreturn\u001b[0m \u001b[0mnp\u001b[0m\u001b[0;34m.\u001b[0m\u001b[0marray\u001b[0m\u001b[0;34m(\u001b[0m\u001b[0mnp\u001b[0m\u001b[0;34m.\u001b[0m\u001b[0mmean\u001b[0m\u001b[0;34m(\u001b[0m\u001b[0mnp\u001b[0m\u001b[0;34m.\u001b[0m\u001b[0masarray\u001b[0m\u001b[0;34m(\u001b[0m\u001b[0mvalues\u001b[0m\u001b[0;34m)\u001b[0m\u001b[0;34m,\u001b[0m \u001b[0maxis\u001b[0m\u001b[0;34m=\u001b[0m\u001b[0;36m0\u001b[0m\u001b[0;34m)\u001b[0m\u001b[0;34m)\u001b[0m\u001b[0;34m\u001b[0m\u001b[0;34m\u001b[0m\u001b[0m\n",
            "\u001b[0;32m/usr/local/lib/python3.11/dist-packages/orqviz/pca/scans.py\u001b[0m in \u001b[0;36mpca_loss_function\u001b[0;34m(xy_params)\u001b[0m\n\u001b[1;32m     52\u001b[0m         \u001b[0mpca_params\u001b[0m\u001b[0;34m[\u001b[0m\u001b[0mpca_object\u001b[0m\u001b[0;34m.\u001b[0m\u001b[0mcomponents_ids\u001b[0m\u001b[0;34m[\u001b[0m\u001b[0;36m1\u001b[0m\u001b[0;34m]\u001b[0m\u001b[0;34m]\u001b[0m \u001b[0;34m=\u001b[0m \u001b[0mxy_params\u001b[0m\u001b[0;34m[\u001b[0m\u001b[0;36m1\u001b[0m\u001b[0;34m]\u001b[0m\u001b[0;34m\u001b[0m\u001b[0;34m\u001b[0m\u001b[0m\n\u001b[1;32m     53\u001b[0m         \u001b[0mprobe_parameters\u001b[0m \u001b[0;34m=\u001b[0m \u001b[0mpca_object\u001b[0m\u001b[0;34m.\u001b[0m\u001b[0mget_inverse_transformed_point\u001b[0m\u001b[0;34m(\u001b[0m\u001b[0mpca_params\u001b[0m\u001b[0;34m)\u001b[0m\u001b[0;34m\u001b[0m\u001b[0;34m\u001b[0m\u001b[0m\n\u001b[0;32m---> 54\u001b[0;31m         \u001b[0;32mreturn\u001b[0m \u001b[0mloss_function\u001b[0m\u001b[0;34m(\u001b[0m\u001b[0mprobe_parameters\u001b[0m\u001b[0;34m)\u001b[0m\u001b[0;34m\u001b[0m\u001b[0;34m\u001b[0m\u001b[0m\n\u001b[0m\u001b[1;32m     55\u001b[0m \u001b[0;34m\u001b[0m\u001b[0m\n\u001b[1;32m     56\u001b[0m     return perform_2D_scan(\n",
            "\u001b[0;32m/tmp/ipython-input-30-4203987459.py\u001b[0m in \u001b[0;36mloss_function\u001b[0;34m(para)\u001b[0m\n\u001b[1;32m      4\u001b[0m     \u001b[0mopt_circ\u001b[0m \u001b[0;34m=\u001b[0m \u001b[0mansatz\u001b[0m\u001b[0;34m.\u001b[0m\u001b[0massign_parameters\u001b[0m\u001b[0;34m(\u001b[0m\u001b[0mpara\u001b[0m\u001b[0;34m)\u001b[0m\u001b[0;34m\u001b[0m\u001b[0;34m\u001b[0m\u001b[0m\n\u001b[1;32m      5\u001b[0m     \u001b[0mstate\u001b[0m \u001b[0;34m=\u001b[0m \u001b[0mStatevector\u001b[0m\u001b[0;34m(\u001b[0m\u001b[0mopt_circ\u001b[0m\u001b[0;34m)\u001b[0m\u001b[0;34m.\u001b[0m\u001b[0mdata\u001b[0m\u001b[0;34m.\u001b[0m\u001b[0mreal\u001b[0m\u001b[0;34m\u001b[0m\u001b[0;34m\u001b[0m\u001b[0m\n\u001b[0;32m----> 6\u001b[0;31m     \u001b[0mval\u001b[0m \u001b[0;34m=\u001b[0m \u001b[0mstate\u001b[0m\u001b[0;34m.\u001b[0m\u001b[0mT\u001b[0m\u001b[0;34m@\u001b[0m\u001b[0mham\u001b[0m\u001b[0;34m@\u001b[0m\u001b[0mstate\u001b[0m\u001b[0;34m\u001b[0m\u001b[0;34m\u001b[0m\u001b[0m\n\u001b[0m\u001b[1;32m      7\u001b[0m     \u001b[0;32mreturn\u001b[0m \u001b[0mval\u001b[0m\u001b[0;34m\u001b[0m\u001b[0;34m\u001b[0m\u001b[0m\n\u001b[1;32m      8\u001b[0m \u001b[0;34m\u001b[0m\u001b[0m\n",
            "\u001b[0;31mValueError\u001b[0m: matmul: Input operand 1 has a mismatch in its core dimension 0, with gufunc signature (n?,k),(k,m?)->(n?,m?) (size 16 is different from 4)"
          ]
        }
      ]
    },
    {
      "cell_type": "code",
      "source": [
        "am = H_amg\n",
        "\n",
        "def loss_function(para):\n",
        "    opt_circ = ansatz.assign_parameters(para)\n",
        "    state = Statevector(opt_circ).data.real\n",
        "    val = state.T@ham@state\n",
        "    return val\n",
        "\n",
        "pca_amg = get_pca(param_amg)\n",
        "scan_pca_result_B = perform_2D_pca_scan(pca_amg, loss_function, n_steps_x=60, offset=10)"
      ],
      "metadata": {
        "colab": {
          "base_uri": "https://localhost:8080/",
          "height": 316
        },
        "id": "m1UqkgSYLiSS",
        "outputId": "4fcc1640-1dcf-4ce6-f6a8-abe141afa56a"
      },
      "execution_count": 31,
      "outputs": [
        {
          "output_type": "error",
          "ename": "ValueError",
          "evalue": "matmul: Input operand 1 has a mismatch in its core dimension 0, with gufunc signature (n?,k),(k,m?)->(n?,m?) (size 16 is different from 4)",
          "traceback": [
            "\u001b[0;31m---------------------------------------------------------------------------\u001b[0m",
            "\u001b[0;31mValueError\u001b[0m                                Traceback (most recent call last)",
            "\u001b[0;32m/tmp/ipython-input-31-478594537.py\u001b[0m in \u001b[0;36m<cell line: 0>\u001b[0;34m()\u001b[0m\n\u001b[1;32m      8\u001b[0m \u001b[0;34m\u001b[0m\u001b[0m\n\u001b[1;32m      9\u001b[0m \u001b[0mpca_amg\u001b[0m \u001b[0;34m=\u001b[0m \u001b[0mget_pca\u001b[0m\u001b[0;34m(\u001b[0m\u001b[0mparam_amg\u001b[0m\u001b[0;34m)\u001b[0m\u001b[0;34m\u001b[0m\u001b[0;34m\u001b[0m\u001b[0m\n\u001b[0;32m---> 10\u001b[0;31m \u001b[0mscan_pca_result_B\u001b[0m \u001b[0;34m=\u001b[0m \u001b[0mperform_2D_pca_scan\u001b[0m\u001b[0;34m(\u001b[0m\u001b[0mpca_amg\u001b[0m\u001b[0;34m,\u001b[0m \u001b[0mloss_function\u001b[0m\u001b[0;34m,\u001b[0m \u001b[0mn_steps_x\u001b[0m\u001b[0;34m=\u001b[0m\u001b[0;36m60\u001b[0m\u001b[0;34m,\u001b[0m \u001b[0moffset\u001b[0m\u001b[0;34m=\u001b[0m\u001b[0;36m10\u001b[0m\u001b[0;34m)\u001b[0m\u001b[0;34m\u001b[0m\u001b[0;34m\u001b[0m\u001b[0m\n\u001b[0m",
            "\u001b[0;32m/usr/local/lib/python3.11/dist-packages/orqviz/pca/scans.py\u001b[0m in \u001b[0;36mperform_2D_pca_scan\u001b[0;34m(pca_object, loss_function, n_steps_x, n_steps_y, offset, verbose)\u001b[0m\n\u001b[1;32m     54\u001b[0m         \u001b[0;32mreturn\u001b[0m \u001b[0mloss_function\u001b[0m\u001b[0;34m(\u001b[0m\u001b[0mprobe_parameters\u001b[0m\u001b[0;34m)\u001b[0m\u001b[0;34m\u001b[0m\u001b[0;34m\u001b[0m\u001b[0m\n\u001b[1;32m     55\u001b[0m \u001b[0;34m\u001b[0m\u001b[0m\n\u001b[0;32m---> 56\u001b[0;31m     return perform_2D_scan(\n\u001b[0m\u001b[1;32m     57\u001b[0m         \u001b[0morigin\u001b[0m\u001b[0;34m=\u001b[0m\u001b[0mnp\u001b[0m\u001b[0;34m.\u001b[0m\u001b[0marray\u001b[0m\u001b[0;34m(\u001b[0m\u001b[0;34m[\u001b[0m\u001b[0;36m0\u001b[0m\u001b[0;34m,\u001b[0m \u001b[0;36m0\u001b[0m\u001b[0;34m]\u001b[0m\u001b[0;34m)\u001b[0m\u001b[0;34m,\u001b[0m\u001b[0;34m\u001b[0m\u001b[0;34m\u001b[0m\u001b[0m\n\u001b[1;32m     58\u001b[0m         \u001b[0mloss_function\u001b[0m\u001b[0;34m=\u001b[0m\u001b[0mpca_loss_function\u001b[0m\u001b[0;34m,\u001b[0m\u001b[0;34m\u001b[0m\u001b[0;34m\u001b[0m\u001b[0m\n",
            "\u001b[0;32m/usr/local/lib/python3.11/dist-packages/orqviz/scans/scans_2D.py\u001b[0m in \u001b[0;36mperform_2D_scan\u001b[0;34m(origin, loss_function, direction_x, direction_y, n_steps_x, n_steps_y, end_points_x, end_points_y, verbose)\u001b[0m\n\u001b[1;32m    140\u001b[0m     )\n\u001b[1;32m    141\u001b[0m \u001b[0;34m\u001b[0m\u001b[0m\n\u001b[0;32m--> 142\u001b[0;31m     loss_grid = eval_points_on_grid(\n\u001b[0m\u001b[1;32m    143\u001b[0m         \u001b[0mparams_grid\u001b[0m\u001b[0;34m,\u001b[0m \u001b[0mloss_function\u001b[0m\u001b[0;34m=\u001b[0m\u001b[0mloss_function\u001b[0m\u001b[0;34m,\u001b[0m \u001b[0mn_reps\u001b[0m\u001b[0;34m=\u001b[0m\u001b[0;36m1\u001b[0m\u001b[0;34m,\u001b[0m \u001b[0mverbose\u001b[0m\u001b[0;34m=\u001b[0m\u001b[0mverbose\u001b[0m\u001b[0;34m\u001b[0m\u001b[0;34m\u001b[0m\u001b[0m\n\u001b[1;32m    144\u001b[0m     )\n",
            "\u001b[0;32m/usr/local/lib/python3.11/dist-packages/orqviz/scans/evals.py\u001b[0m in \u001b[0;36meval_points_on_grid\u001b[0;34m(all_parameters, loss_function, n_reps, verbose)\u001b[0m\n\u001b[1;32m     66\u001b[0m     \u001b[0mvector_of_parameters\u001b[0m \u001b[0;34m=\u001b[0m \u001b[0mall_parameters\u001b[0m\u001b[0;34m.\u001b[0m\u001b[0mreshape\u001b[0m\u001b[0;34m(\u001b[0m\u001b[0;34m(\u001b[0m\u001b[0msize_x\u001b[0m \u001b[0;34m*\u001b[0m \u001b[0msize_y\u001b[0m\u001b[0;34m,\u001b[0m \u001b[0;34m*\u001b[0m\u001b[0mparams_shape\u001b[0m\u001b[0;34m)\u001b[0m\u001b[0;34m)\u001b[0m\u001b[0;34m\u001b[0m\u001b[0;34m\u001b[0m\u001b[0m\n\u001b[1;32m     67\u001b[0m \u001b[0;34m\u001b[0m\u001b[0m\n\u001b[0;32m---> 68\u001b[0;31m     vector_of_values = eval_points_on_path(\n\u001b[0m\u001b[1;32m     69\u001b[0m         \u001b[0mall_points\u001b[0m\u001b[0;34m=\u001b[0m\u001b[0mvector_of_parameters\u001b[0m\u001b[0;34m,\u001b[0m\u001b[0;34m\u001b[0m\u001b[0;34m\u001b[0m\u001b[0m\n\u001b[1;32m     70\u001b[0m         \u001b[0mloss_function\u001b[0m\u001b[0;34m=\u001b[0m\u001b[0mloss_function\u001b[0m\u001b[0;34m,\u001b[0m\u001b[0;34m\u001b[0m\u001b[0;34m\u001b[0m\u001b[0m\n",
            "\u001b[0;32m/usr/local/lib/python3.11/dist-packages/orqviz/scans/evals.py\u001b[0m in \u001b[0;36meval_points_on_path\u001b[0;34m(all_points, loss_function, n_reps, verbose)\u001b[0m\n\u001b[1;32m     36\u001b[0m             \u001b[0;32mif\u001b[0m \u001b[0midx\u001b[0m \u001b[0;34m%\u001b[0m \u001b[0;36m10\u001b[0m \u001b[0;34m==\u001b[0m \u001b[0;36m0\u001b[0m \u001b[0;32mand\u001b[0m \u001b[0mverbose\u001b[0m\u001b[0;34m:\u001b[0m\u001b[0;34m\u001b[0m\u001b[0;34m\u001b[0m\u001b[0m\n\u001b[1;32m     37\u001b[0m                 \u001b[0mprint\u001b[0m\u001b[0;34m(\u001b[0m\u001b[0;34m\"Progress: {:.1f}%\"\u001b[0m\u001b[0;34m.\u001b[0m\u001b[0mformat\u001b[0m\u001b[0;34m(\u001b[0m\u001b[0mround\u001b[0m\u001b[0;34m(\u001b[0m\u001b[0midx\u001b[0m \u001b[0;34m/\u001b[0m \u001b[0mn_points\u001b[0m \u001b[0;34m*\u001b[0m \u001b[0;36m100\u001b[0m\u001b[0;34m)\u001b[0m\u001b[0;34m)\u001b[0m\u001b[0;34m)\u001b[0m\u001b[0;34m\u001b[0m\u001b[0;34m\u001b[0m\u001b[0m\n\u001b[0;32m---> 38\u001b[0;31m             \u001b[0mvalues\u001b[0m\u001b[0;34m[\u001b[0m\u001b[0mrep\u001b[0m\u001b[0;34m]\u001b[0m\u001b[0;34m[\u001b[0m\u001b[0midx\u001b[0m\u001b[0;34m]\u001b[0m \u001b[0;34m=\u001b[0m \u001b[0mloss_function\u001b[0m\u001b[0;34m(\u001b[0m\u001b[0mpoint\u001b[0m\u001b[0;34m)\u001b[0m\u001b[0;34m\u001b[0m\u001b[0;34m\u001b[0m\u001b[0m\n\u001b[0m\u001b[1;32m     39\u001b[0m \u001b[0;34m\u001b[0m\u001b[0m\n\u001b[1;32m     40\u001b[0m     \u001b[0;32mreturn\u001b[0m \u001b[0mnp\u001b[0m\u001b[0;34m.\u001b[0m\u001b[0marray\u001b[0m\u001b[0;34m(\u001b[0m\u001b[0mnp\u001b[0m\u001b[0;34m.\u001b[0m\u001b[0mmean\u001b[0m\u001b[0;34m(\u001b[0m\u001b[0mnp\u001b[0m\u001b[0;34m.\u001b[0m\u001b[0masarray\u001b[0m\u001b[0;34m(\u001b[0m\u001b[0mvalues\u001b[0m\u001b[0;34m)\u001b[0m\u001b[0;34m,\u001b[0m \u001b[0maxis\u001b[0m\u001b[0;34m=\u001b[0m\u001b[0;36m0\u001b[0m\u001b[0;34m)\u001b[0m\u001b[0;34m)\u001b[0m\u001b[0;34m\u001b[0m\u001b[0;34m\u001b[0m\u001b[0m\n",
            "\u001b[0;32m/usr/local/lib/python3.11/dist-packages/orqviz/pca/scans.py\u001b[0m in \u001b[0;36mpca_loss_function\u001b[0;34m(xy_params)\u001b[0m\n\u001b[1;32m     52\u001b[0m         \u001b[0mpca_params\u001b[0m\u001b[0;34m[\u001b[0m\u001b[0mpca_object\u001b[0m\u001b[0;34m.\u001b[0m\u001b[0mcomponents_ids\u001b[0m\u001b[0;34m[\u001b[0m\u001b[0;36m1\u001b[0m\u001b[0;34m]\u001b[0m\u001b[0;34m]\u001b[0m \u001b[0;34m=\u001b[0m \u001b[0mxy_params\u001b[0m\u001b[0;34m[\u001b[0m\u001b[0;36m1\u001b[0m\u001b[0;34m]\u001b[0m\u001b[0;34m\u001b[0m\u001b[0;34m\u001b[0m\u001b[0m\n\u001b[1;32m     53\u001b[0m         \u001b[0mprobe_parameters\u001b[0m \u001b[0;34m=\u001b[0m \u001b[0mpca_object\u001b[0m\u001b[0;34m.\u001b[0m\u001b[0mget_inverse_transformed_point\u001b[0m\u001b[0;34m(\u001b[0m\u001b[0mpca_params\u001b[0m\u001b[0;34m)\u001b[0m\u001b[0;34m\u001b[0m\u001b[0;34m\u001b[0m\u001b[0m\n\u001b[0;32m---> 54\u001b[0;31m         \u001b[0;32mreturn\u001b[0m \u001b[0mloss_function\u001b[0m\u001b[0;34m(\u001b[0m\u001b[0mprobe_parameters\u001b[0m\u001b[0;34m)\u001b[0m\u001b[0;34m\u001b[0m\u001b[0;34m\u001b[0m\u001b[0m\n\u001b[0m\u001b[1;32m     55\u001b[0m \u001b[0;34m\u001b[0m\u001b[0m\n\u001b[1;32m     56\u001b[0m     return perform_2D_scan(\n",
            "\u001b[0;32m/tmp/ipython-input-31-478594537.py\u001b[0m in \u001b[0;36mloss_function\u001b[0;34m(para)\u001b[0m\n\u001b[1;32m      4\u001b[0m     \u001b[0mopt_circ\u001b[0m \u001b[0;34m=\u001b[0m \u001b[0mansatz\u001b[0m\u001b[0;34m.\u001b[0m\u001b[0massign_parameters\u001b[0m\u001b[0;34m(\u001b[0m\u001b[0mpara\u001b[0m\u001b[0;34m)\u001b[0m\u001b[0;34m\u001b[0m\u001b[0;34m\u001b[0m\u001b[0m\n\u001b[1;32m      5\u001b[0m     \u001b[0mstate\u001b[0m \u001b[0;34m=\u001b[0m \u001b[0mStatevector\u001b[0m\u001b[0;34m(\u001b[0m\u001b[0mopt_circ\u001b[0m\u001b[0;34m)\u001b[0m\u001b[0;34m.\u001b[0m\u001b[0mdata\u001b[0m\u001b[0;34m.\u001b[0m\u001b[0mreal\u001b[0m\u001b[0;34m\u001b[0m\u001b[0;34m\u001b[0m\u001b[0m\n\u001b[0;32m----> 6\u001b[0;31m     \u001b[0mval\u001b[0m \u001b[0;34m=\u001b[0m \u001b[0mstate\u001b[0m\u001b[0;34m.\u001b[0m\u001b[0mT\u001b[0m\u001b[0;34m@\u001b[0m\u001b[0mham\u001b[0m\u001b[0;34m@\u001b[0m\u001b[0mstate\u001b[0m\u001b[0;34m\u001b[0m\u001b[0;34m\u001b[0m\u001b[0m\n\u001b[0m\u001b[1;32m      7\u001b[0m     \u001b[0;32mreturn\u001b[0m \u001b[0mval\u001b[0m\u001b[0;34m\u001b[0m\u001b[0;34m\u001b[0m\u001b[0m\n\u001b[1;32m      8\u001b[0m \u001b[0;34m\u001b[0m\u001b[0m\n",
            "\u001b[0;31mValueError\u001b[0m: matmul: Input operand 1 has a mismatch in its core dimension 0, with gufunc signature (n?,k),(k,m?)->(n?,m?) (size 16 is different from 4)"
          ]
        }
      ]
    },
    {
      "cell_type": "code",
      "source": [
        "fig = plt.figure(figsize=[12,8])\n",
        "ax1 = fig.add_subplot(1, 2, 1, projection='3d')\n",
        "x, y = scan_pca_result_A._get_coordinates_on_directions()\n",
        "XX, YY = np.meshgrid(x, y)\n",
        "# mesh_plot = ax.pcolormesh(XX, YY, scan_pca_result.values)\n",
        "ax1.plot_surface(XX, YY, scan_pca_result_A.values, cmap=\"viridis\")\n",
        "ax1.set_xlabel(\"Scan Direction x\")\n",
        "ax1.set_ylabel(\"Scan Direction y\")\n",
        "ax1.view_init(elev=25, azim=-60)\n",
        "\n",
        "\n",
        "ax2 = fig.add_subplot(1, 2, 2, projection='3d')\n",
        "x, y = scan_pca_result_B._get_coordinates_on_directions()\n",
        "XX, YY = np.meshgrid(x, y)\n",
        "ax2.plot_surface(XX, YY, scan_pca_result_B.values, cmap=\"viridis\")\n",
        "ax2.view_init(elev=25, azim=-60)\n",
        "# fig.colorbar(mesh_plot, ax=ax)\n",
        "ax2.set_xlabel(\"Scan Direction x\")\n",
        "ax2.set_ylabel(\"Scan Direction y\")"
      ],
      "metadata": {
        "colab": {
          "base_uri": "https://localhost:8080/",
          "height": 658
        },
        "id": "2t7l6xe3L7bg",
        "outputId": "4274ef70-649c-4023-d521-b3d4b6c73b7b"
      },
      "execution_count": 32,
      "outputs": [
        {
          "output_type": "error",
          "ename": "NameError",
          "evalue": "name 'scan_pca_result_A' is not defined",
          "traceback": [
            "\u001b[0;31m---------------------------------------------------------------------------\u001b[0m",
            "\u001b[0;31mNameError\u001b[0m                                 Traceback (most recent call last)",
            "\u001b[0;32m/tmp/ipython-input-32-2226580461.py\u001b[0m in \u001b[0;36m<cell line: 0>\u001b[0;34m()\u001b[0m\n\u001b[1;32m      1\u001b[0m \u001b[0mfig\u001b[0m \u001b[0;34m=\u001b[0m \u001b[0mplt\u001b[0m\u001b[0;34m.\u001b[0m\u001b[0mfigure\u001b[0m\u001b[0;34m(\u001b[0m\u001b[0mfigsize\u001b[0m\u001b[0;34m=\u001b[0m\u001b[0;34m[\u001b[0m\u001b[0;36m12\u001b[0m\u001b[0;34m,\u001b[0m\u001b[0;36m8\u001b[0m\u001b[0;34m]\u001b[0m\u001b[0;34m)\u001b[0m\u001b[0;34m\u001b[0m\u001b[0;34m\u001b[0m\u001b[0m\n\u001b[1;32m      2\u001b[0m \u001b[0max1\u001b[0m \u001b[0;34m=\u001b[0m \u001b[0mfig\u001b[0m\u001b[0;34m.\u001b[0m\u001b[0madd_subplot\u001b[0m\u001b[0;34m(\u001b[0m\u001b[0;36m1\u001b[0m\u001b[0;34m,\u001b[0m \u001b[0;36m2\u001b[0m\u001b[0;34m,\u001b[0m \u001b[0;36m1\u001b[0m\u001b[0;34m,\u001b[0m \u001b[0mprojection\u001b[0m\u001b[0;34m=\u001b[0m\u001b[0;34m'3d'\u001b[0m\u001b[0;34m)\u001b[0m\u001b[0;34m\u001b[0m\u001b[0;34m\u001b[0m\u001b[0m\n\u001b[0;32m----> 3\u001b[0;31m \u001b[0mx\u001b[0m\u001b[0;34m,\u001b[0m \u001b[0my\u001b[0m \u001b[0;34m=\u001b[0m \u001b[0mscan_pca_result_A\u001b[0m\u001b[0;34m.\u001b[0m\u001b[0m_get_coordinates_on_directions\u001b[0m\u001b[0;34m(\u001b[0m\u001b[0;34m)\u001b[0m\u001b[0;34m\u001b[0m\u001b[0;34m\u001b[0m\u001b[0m\n\u001b[0m\u001b[1;32m      4\u001b[0m \u001b[0mXX\u001b[0m\u001b[0;34m,\u001b[0m \u001b[0mYY\u001b[0m \u001b[0;34m=\u001b[0m \u001b[0mnp\u001b[0m\u001b[0;34m.\u001b[0m\u001b[0mmeshgrid\u001b[0m\u001b[0;34m(\u001b[0m\u001b[0mx\u001b[0m\u001b[0;34m,\u001b[0m \u001b[0my\u001b[0m\u001b[0;34m)\u001b[0m\u001b[0;34m\u001b[0m\u001b[0;34m\u001b[0m\u001b[0m\n\u001b[1;32m      5\u001b[0m \u001b[0;31m# mesh_plot = ax.pcolormesh(XX, YY, scan_pca_result.values)\u001b[0m\u001b[0;34m\u001b[0m\u001b[0;34m\u001b[0m\u001b[0m\n",
            "\u001b[0;31mNameError\u001b[0m: name 'scan_pca_result_A' is not defined"
          ]
        },
        {
          "output_type": "display_data",
          "data": {
            "text/plain": [
              "<Figure size 1200x800 with 1 Axes>"
            ],
            "image/png": "[encoded data removed]"
          },
          "metadata": {}
        }
      ]
    },
    {
      "cell_type": "code",
      "source": [
        "import qiskit\n",
        "import qiskit_ibm_runtime\n",
        "\n",
        "print(f'Qiskit: {qiskit.__version__}')\n",
        "print(f'Qiskit IBM Runtime: {qiskit_ibm_runtime.__version__}')"
      ],
      "metadata": {
        "colab": {
          "base_uri": "https://localhost:8080/",
          "height": 531
        },
        "id": "0lU-JRQRL9mR",
        "outputId": "76c944fd-0293-4b92-aa69-535ee4fc1401"
      },
      "execution_count": 3,
      "outputs": [
        {
          "output_type": "error",
          "ename": "ImportError",
          "evalue": "Qiskit is installed in an invalid environment that has both Qiskit >=1.0 and an earlier version. You should create a new virtual environment, and ensure that you do not mix dependencies between Qiskit <1.0 and >=1.0. Any packages that depend on 'qiskit-terra' are not compatible with Qiskit 1.0 and will need to be updated. Qiskit unfortunately cannot enforce this requirement during environment resolution. See https://qisk.it/packaging-1-0 for more detail.",
          "traceback": [
            "\u001b[0;31m---------------------------------------------------------------------------\u001b[0m",
            "\u001b[0;31mImportError\u001b[0m                               Traceback (most recent call last)",
            "\u001b[0;32m/tmp/ipython-input-3-852570654.py\u001b[0m in \u001b[0;36m<cell line: 0>\u001b[0;34m()\u001b[0m\n\u001b[0;32m----> 1\u001b[0;31m \u001b[0;32mimport\u001b[0m \u001b[0mqiskit\u001b[0m\u001b[0;34m\u001b[0m\u001b[0;34m\u001b[0m\u001b[0m\n\u001b[0m\u001b[1;32m      2\u001b[0m \u001b[0;32mimport\u001b[0m \u001b[0mqiskit_ibm_runtime\u001b[0m\u001b[0;34m\u001b[0m\u001b[0;34m\u001b[0m\u001b[0m\n\u001b[1;32m      3\u001b[0m \u001b[0;34m\u001b[0m\u001b[0m\n\u001b[1;32m      4\u001b[0m \u001b[0mprint\u001b[0m\u001b[0;34m(\u001b[0m\u001b[0;34mf'Qiskit: {qiskit.__version__}'\u001b[0m\u001b[0;34m)\u001b[0m\u001b[0;34m\u001b[0m\u001b[0;34m\u001b[0m\u001b[0m\n\u001b[1;32m      5\u001b[0m \u001b[0mprint\u001b[0m\u001b[0;34m(\u001b[0m\u001b[0;34mf'Qiskit IBM Runtime: {qiskit_ibm_runtime.__version__}'\u001b[0m\u001b[0;34m)\u001b[0m\u001b[0;34m\u001b[0m\u001b[0;34m\u001b[0m\u001b[0m\n",
            "\u001b[0;32m/usr/local/lib/python3.11/dist-packages/qiskit/__init__.py\u001b[0m in \u001b[0;36m<module>\u001b[0;34m\u001b[0m\n\u001b[1;32m     34\u001b[0m     \u001b[0m_suppress_error\u001b[0m \u001b[0;34m=\u001b[0m \u001b[0mos\u001b[0m\u001b[0;34m.\u001b[0m\u001b[0menviron\u001b[0m\u001b[0;34m.\u001b[0m\u001b[0mget\u001b[0m\u001b[0;34m(\u001b[0m\u001b[0;34m\"QISKIT_SUPPRESS_1_0_IMPORT_ERROR\"\u001b[0m\u001b[0;34m,\u001b[0m \u001b[0;32mFalse\u001b[0m\u001b[0;34m)\u001b[0m \u001b[0;34m==\u001b[0m \u001b[0;34m\"1\"\u001b[0m\u001b[0;34m\u001b[0m\u001b[0;34m\u001b[0m\u001b[0m\n\u001b[1;32m     35\u001b[0m     \u001b[0;32mif\u001b[0m \u001b[0;32mnot\u001b[0m \u001b[0m_suppress_error\u001b[0m \u001b[0;32mand\u001b[0m \u001b[0m_has_tools\u001b[0m\u001b[0;34m:\u001b[0m\u001b[0;34m\u001b[0m\u001b[0;34m\u001b[0m\u001b[0m\n\u001b[0;32m---> 36\u001b[0;31m         raise ImportError(\n\u001b[0m\u001b[1;32m     37\u001b[0m             \u001b[0;34m\"Qiskit is installed in an invalid environment that has both Qiskit >=1.0\"\u001b[0m\u001b[0;34m\u001b[0m\u001b[0;34m\u001b[0m\u001b[0m\n\u001b[1;32m     38\u001b[0m             \u001b[0;34m\" and an earlier version.\"\u001b[0m\u001b[0;34m\u001b[0m\u001b[0;34m\u001b[0m\u001b[0m\n",
            "\u001b[0;31mImportError\u001b[0m: Qiskit is installed in an invalid environment that has both Qiskit >=1.0 and an earlier version. You should create a new virtual environment, and ensure that you do not mix dependencies between Qiskit <1.0 and >=1.0. Any packages that depend on 'qiskit-terra' are not compatible with Qiskit 1.0 and will need to be updated. Qiskit unfortunately cannot enforce this requirement during environment resolution. See https://qisk.it/packaging-1-0 for more detail.",
            "",
            "\u001b[0;31m---------------------------------------------------------------------------\u001b[0;32m\nNOTE: If your import is failing due to a missing package, you can\nmanually install dependencies using either !pip or !apt.\n\nTo view examples of installing some common dependencies, click the\n\"Open Examples\" button below.\n\u001b[0;31m---------------------------------------------------------------------------\u001b[0m\n"
          ],
          "errorDetails": {
            "actions": [
              {
                "action": "open_url",
                "actionText": "Open Examples",
                "url": "/notebooks/snippets/importing_libraries.ipynb"
              }
            ]
          }
        }
      ]
    },
    {
      "cell_type": "code",
      "source": [
        "!pip install qiskit-ibm-runtime"
      ],
      "metadata": {
        "colab": {
          "base_uri": "https://localhost:8080/"
        },
        "id": "MO7XZOk0MA7O",
        "outputId": "c71d4d4c-901e-4889-fcf3-1eb6f88faa0b"
      },
      "execution_count": 2,
      "outputs": [
        {
          "output_type": "stream",
          "name": "stdout",
          "text": [
            "Requirement already satisfied: qiskit-ibm-runtime in /usr/local/lib/python3.11/dist-packages (0.40.1)\n",
            "Requirement already satisfied: requests>=2.19 in /usr/local/lib/python3.11/dist-packages (from qiskit-ibm-runtime) (2.32.4)\n",
            "Requirement already satisfied: requests-ntlm>=1.1.0 in /usr/local/lib/python3.11/dist-packages (from qiskit-ibm-runtime) (1.3.0)\n",
            "Requirement already satisfied: numpy>=1.13 in /usr/local/lib/python3.11/dist-packages (from qiskit-ibm-runtime) (2.0.2)\n",
            "Requirement already satisfied: urllib3>=1.21.1 in /usr/local/lib/python3.11/dist-packages (from qiskit-ibm-runtime) (2.4.0)\n",
            "Requirement already satisfied: python-dateutil>=2.8.0 in /usr/local/lib/python3.11/dist-packages (from qiskit-ibm-runtime) (2.9.0.post0)\n",
            "Requirement already satisfied: ibm-platform-services>=0.22.6 in /usr/local/lib/python3.11/dist-packages (from qiskit-ibm-runtime) (0.66.2)\n",
            "Requirement already satisfied: pydantic>=2.5.0 in /usr/local/lib/python3.11/dist-packages (from qiskit-ibm-runtime) (2.11.7)\n",
            "Requirement already satisfied: qiskit>=1.4.1 in /usr/local/lib/python3.11/dist-packages (from qiskit-ibm-runtime) (2.1.0)\n",
            "Requirement already satisfied: packaging in /usr/local/lib/python3.11/dist-packages (from qiskit-ibm-runtime) (24.2)\n",
            "Requirement already satisfied: ibm_cloud_sdk_core<4.0.0,>=3.24.2 in /usr/local/lib/python3.11/dist-packages (from ibm-platform-services>=0.22.6->qiskit-ibm-runtime) (3.24.2)\n",
            "Requirement already satisfied: annotated-types>=0.6.0 in /usr/local/lib/python3.11/dist-packages (from pydantic>=2.5.0->qiskit-ibm-runtime) (0.7.0)\n",
            "Requirement already satisfied: pydantic-core==2.33.2 in /usr/local/lib/python3.11/dist-packages (from pydantic>=2.5.0->qiskit-ibm-runtime) (2.33.2)\n",
            "Requirement already satisfied: typing-extensions>=4.12.2 in /usr/local/lib/python3.11/dist-packages (from pydantic>=2.5.0->qiskit-ibm-runtime) (4.14.0)\n",
            "Requirement already satisfied: typing-inspection>=0.4.0 in /usr/local/lib/python3.11/dist-packages (from pydantic>=2.5.0->qiskit-ibm-runtime) (0.4.1)\n",
            "Requirement already satisfied: six>=1.5 in /usr/local/lib/python3.11/dist-packages (from python-dateutil>=2.8.0->qiskit-ibm-runtime) (1.17.0)\n",
            "Requirement already satisfied: rustworkx>=0.15.0 in /usr/local/lib/python3.11/dist-packages (from qiskit>=1.4.1->qiskit-ibm-runtime) (0.16.0)\n",
            "Requirement already satisfied: scipy>=1.5 in /usr/local/lib/python3.11/dist-packages (from qiskit>=1.4.1->qiskit-ibm-runtime) (1.15.3)\n",
            "Requirement already satisfied: dill>=0.3 in /usr/local/lib/python3.11/dist-packages (from qiskit>=1.4.1->qiskit-ibm-runtime) (0.3.7)\n",
            "Requirement already satisfied: stevedore>=3.0.0 in /usr/local/lib/python3.11/dist-packages (from qiskit>=1.4.1->qiskit-ibm-runtime) (5.4.1)\n",
            "Requirement already satisfied: charset_normalizer<4,>=2 in /usr/local/lib/python3.11/dist-packages (from requests>=2.19->qiskit-ibm-runtime) (3.4.2)\n",
            "Requirement already satisfied: idna<4,>=2.5 in /usr/local/lib/python3.11/dist-packages (from requests>=2.19->qiskit-ibm-runtime) (3.10)\n",
            "Requirement already satisfied: certifi>=2017.4.17 in /usr/local/lib/python3.11/dist-packages (from requests>=2.19->qiskit-ibm-runtime) (2025.6.15)\n",
            "Requirement already satisfied: cryptography>=1.3 in /usr/local/lib/python3.11/dist-packages (from requests-ntlm>=1.1.0->qiskit-ibm-runtime) (43.0.3)\n",
            "Requirement already satisfied: pyspnego>=0.4.0 in /usr/local/lib/python3.11/dist-packages (from requests-ntlm>=1.1.0->qiskit-ibm-runtime) (0.11.2)\n",
            "Requirement already satisfied: cffi>=1.12 in /usr/local/lib/python3.11/dist-packages (from cryptography>=1.3->requests-ntlm>=1.1.0->qiskit-ibm-runtime) (1.17.1)\n",
            "Requirement already satisfied: PyJWT<3.0.0,>=2.10.1 in /usr/local/lib/python3.11/dist-packages (from ibm_cloud_sdk_core<4.0.0,>=3.24.2->ibm-platform-services>=0.22.6->qiskit-ibm-runtime) (2.10.1)\n",
            "Requirement already satisfied: pbr>=2.0.0 in /usr/local/lib/python3.11/dist-packages (from stevedore>=3.0.0->qiskit>=1.4.1->qiskit-ibm-runtime) (6.1.1)\n",
            "Requirement already satisfied: pycparser in /usr/local/lib/python3.11/dist-packages (from cffi>=1.12->cryptography>=1.3->requests-ntlm>=1.1.0->qiskit-ibm-runtime) (2.22)\n",
            "Requirement already satisfied: setuptools in /usr/local/lib/python3.11/dist-packages (from pbr>=2.0.0->stevedore>=3.0.0->qiskit>=1.4.1->qiskit-ibm-runtime) (75.2.0)\n"
          ]
        }
      ]
    }
  ]
}